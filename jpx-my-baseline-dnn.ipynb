{
 "cells": [
  {
   "cell_type": "code",
   "execution_count": 1,
   "id": "5ad02722",
   "metadata": {
    "_cell_guid": "b1076dfc-b9ad-4769-8c92-a6c4dae69d19",
    "_uuid": "8f2839f25d086af736a60e9eeb907d3b93b6e0e5",
    "execution": {
     "iopub.execute_input": "2022-06-23T16:58:25.553550Z",
     "iopub.status.busy": "2022-06-23T16:58:25.552631Z",
     "iopub.status.idle": "2022-06-23T16:58:25.580497Z",
     "shell.execute_reply": "2022-06-23T16:58:25.579184Z"
    },
    "papermill": {
     "duration": 0.04224,
     "end_time": "2022-06-23T16:58:25.583456",
     "exception": false,
     "start_time": "2022-06-23T16:58:25.541216",
     "status": "completed"
    },
    "tags": []
   },
   "outputs": [
    {
     "name": "stdout",
     "output_type": "stream",
     "text": [
      "/kaggle/input/jpx-tokyo-stock-exchange-prediction/stock_list.csv\n",
      "/kaggle/input/jpx-tokyo-stock-exchange-prediction/example_test_files/sample_submission.csv\n",
      "/kaggle/input/jpx-tokyo-stock-exchange-prediction/example_test_files/options.csv\n",
      "/kaggle/input/jpx-tokyo-stock-exchange-prediction/example_test_files/financials.csv\n",
      "/kaggle/input/jpx-tokyo-stock-exchange-prediction/example_test_files/secondary_stock_prices.csv\n",
      "/kaggle/input/jpx-tokyo-stock-exchange-prediction/example_test_files/trades.csv\n",
      "/kaggle/input/jpx-tokyo-stock-exchange-prediction/example_test_files/stock_prices.csv\n",
      "/kaggle/input/jpx-tokyo-stock-exchange-prediction/jpx_tokyo_market_prediction/competition.cpython-37m-x86_64-linux-gnu.so\n",
      "/kaggle/input/jpx-tokyo-stock-exchange-prediction/jpx_tokyo_market_prediction/__init__.py\n",
      "/kaggle/input/jpx-tokyo-stock-exchange-prediction/data_specifications/stock_fin_spec.csv\n",
      "/kaggle/input/jpx-tokyo-stock-exchange-prediction/data_specifications/trades_spec.csv\n",
      "/kaggle/input/jpx-tokyo-stock-exchange-prediction/data_specifications/stock_price_spec.csv\n",
      "/kaggle/input/jpx-tokyo-stock-exchange-prediction/data_specifications/options_spec.csv\n",
      "/kaggle/input/jpx-tokyo-stock-exchange-prediction/data_specifications/stock_list_spec.csv\n",
      "/kaggle/input/jpx-tokyo-stock-exchange-prediction/train_files/options.csv\n",
      "/kaggle/input/jpx-tokyo-stock-exchange-prediction/train_files/financials.csv\n",
      "/kaggle/input/jpx-tokyo-stock-exchange-prediction/train_files/secondary_stock_prices.csv\n",
      "/kaggle/input/jpx-tokyo-stock-exchange-prediction/train_files/trades.csv\n",
      "/kaggle/input/jpx-tokyo-stock-exchange-prediction/train_files/stock_prices.csv\n",
      "/kaggle/input/jpx-tokyo-stock-exchange-prediction/supplemental_files/options.csv\n",
      "/kaggle/input/jpx-tokyo-stock-exchange-prediction/supplemental_files/financials.csv\n",
      "/kaggle/input/jpx-tokyo-stock-exchange-prediction/supplemental_files/secondary_stock_prices.csv\n",
      "/kaggle/input/jpx-tokyo-stock-exchange-prediction/supplemental_files/trades.csv\n",
      "/kaggle/input/jpx-tokyo-stock-exchange-prediction/supplemental_files/stock_prices.csv\n"
     ]
    }
   ],
   "source": [
    "# This Python 3 environment comes with many helpful analytics libraries installed\n",
    "# It is defined by the kaggle/python Docker image: https://github.com/kaggle/docker-python\n",
    "# For example, here's several helpful packages to load\n",
    "\n",
    "import numpy as np # linear algebra\n",
    "import pandas as pd # data processing, CSV file I/O (e.g. pd.read_csv)\n",
    "\n",
    "# Input data files are available in the read-only \"../input/\" directory\n",
    "# For example, running this (by clicking run or pressing Shift+Enter) will list all files under the input directory\n",
    "\n",
    "import os\n",
    "for dirname, _, filenames in os.walk('/kaggle/input'):\n",
    "    for filename in filenames:\n",
    "        print(os.path.join(dirname, filename))\n",
    "\n"
   ]
  },
  {
   "cell_type": "markdown",
   "id": "3aa1dcd6",
   "metadata": {
    "papermill": {
     "duration": 0.008765,
     "end_time": "2022-06-23T16:58:25.601323",
     "exception": false,
     "start_time": "2022-06-23T16:58:25.592558",
     "status": "completed"
    },
    "tags": []
   },
   "source": [
    "# Here starts my Baseline\n",
    "\n",
    "Ideas:\n",
    "\n",
    "1  - Feature engeneering- Basic and effective;\n",
    "\n",
    "2 - Gradient Boosting Regressions;\n",
    "\n",
    "3 - Neuronets Regressions; and\n",
    "\n",
    "4 - Submission.\n",
    "\n"
   ]
  },
  {
   "cell_type": "markdown",
   "id": "d90b5307",
   "metadata": {
    "papermill": {
     "duration": 0.008308,
     "end_time": "2022-06-23T16:58:25.618118",
     "exception": false,
     "start_time": "2022-06-23T16:58:25.609810",
     "status": "completed"
    },
    "tags": []
   },
   "source": [
    "## 1 Feature Engeneering"
   ]
  },
  {
   "cell_type": "code",
   "execution_count": 2,
   "id": "34a7dd53",
   "metadata": {
    "execution": {
     "iopub.execute_input": "2022-06-23T16:58:25.636640Z",
     "iopub.status.busy": "2022-06-23T16:58:25.636267Z",
     "iopub.status.idle": "2022-06-23T16:58:25.641092Z",
     "shell.execute_reply": "2022-06-23T16:58:25.640035Z"
    },
    "papermill": {
     "duration": 0.016404,
     "end_time": "2022-06-23T16:58:25.642894",
     "exception": false,
     "start_time": "2022-06-23T16:58:25.626490",
     "status": "completed"
    },
    "tags": []
   },
   "outputs": [],
   "source": [
    "\n",
    "def concat_df(df1, df2):\n",
    "    df1 = pd.concat([df1, df2],\n",
    "                    ignore_index=True, sort=False\n",
    "                    ).drop_duplicates([\"RowId\"], keep=\"first\")\n",
    "    return df1"
   ]
  },
  {
   "cell_type": "code",
   "execution_count": 3,
   "id": "e0c49ac1",
   "metadata": {
    "execution": {
     "iopub.execute_input": "2022-06-23T16:58:25.661994Z",
     "iopub.status.busy": "2022-06-23T16:58:25.661615Z",
     "iopub.status.idle": "2022-06-23T16:58:25.666062Z",
     "shell.execute_reply": "2022-06-23T16:58:25.665033Z"
    },
    "papermill": {
     "duration": 0.016148,
     "end_time": "2022-06-23T16:58:25.667849",
     "exception": false,
     "start_time": "2022-06-23T16:58:25.651701",
     "status": "completed"
    },
    "tags": []
   },
   "outputs": [],
   "source": [
    "import gc"
   ]
  },
  {
   "cell_type": "code",
   "execution_count": 4,
   "id": "a192c9f6",
   "metadata": {
    "execution": {
     "iopub.execute_input": "2022-06-23T16:58:25.687811Z",
     "iopub.status.busy": "2022-06-23T16:58:25.687386Z",
     "iopub.status.idle": "2022-06-23T16:58:48.106225Z",
     "shell.execute_reply": "2022-06-23T16:58:48.105013Z"
    },
    "papermill": {
     "duration": 22.432359,
     "end_time": "2022-06-23T16:58:48.108679",
     "exception": false,
     "start_time": "2022-06-23T16:58:25.676320",
     "status": "completed"
    },
    "tags": []
   },
   "outputs": [
    {
     "name": "stdout",
     "output_type": "stream",
     "text": [
      "<class 'pandas.core.frame.DataFrame'>\n",
      "Int64Index: 986052 entries, 2080531 to 5189767\n",
      "Data columns (total 12 columns):\n",
      " #   Column            Non-Null Count   Dtype  \n",
      "---  ------            --------------   -----  \n",
      " 0   RowId             986052 non-null  object \n",
      " 1   Date              986052 non-null  object \n",
      " 2   SecuritiesCode    986052 non-null  int16  \n",
      " 3   Open              967267 non-null  float16\n",
      " 4   High              967267 non-null  float16\n",
      " 5   Low               967267 non-null  float16\n",
      " 6   Close             967267 non-null  float16\n",
      " 7   Volume            986052 non-null  int8   \n",
      " 8   AdjustmentFactor  986052 non-null  float16\n",
      " 9   ExpectedDividend  7931 non-null    float16\n",
      " 10  SupervisionFlag   986052 non-null  bool   \n",
      " 11  Target            985864 non-null  float16\n",
      "dtypes: bool(1), float16(7), int16(1), int8(1), object(2)\n",
      "memory usage: 39.5+ MB\n"
     ]
    }
   ],
   "source": [
    "# For now... use pandas.... \n",
    "#If too heavy use Cudf\n",
    "\n",
    "# For now... just fix the floats\n",
    "dtypes = {\n",
    "'SecuritiesCode' :     np.int16,\n",
    "'Open'           :     np.float16,\n",
    "'High'           :     np.float16,\n",
    "'Low'            :     np.float16,\n",
    "'Close'          :     np.float16,\n",
    "'Volume'         :       np.int8,\n",
    "'AdjustmentFactor':    np.float16,\n",
    "'ExpectedDividend':    np.float16,\n",
    "'Target'        :      np.float16\n",
    "}\n",
    "path = \"../input/jpx-tokyo-stock-exchange-prediction/\"\n",
    "df_prices = pd.read_csv(f\"{path}train_files/stock_prices.csv\",dtype = dtypes)\n",
    "prices = pd.read_csv(f\"{path}supplemental_files/stock_prices.csv\",dtype = dtypes)\n",
    "df_prices = concat_df(df_prices, prices)\n",
    "prices = pd.read_csv(f\"{path}train_files/secondary_stock_prices.csv\",dtype = dtypes)\n",
    "df_prices = concat_df(df_prices, prices)\n",
    "prices = pd.read_csv(f\"{path}supplemental_files/secondary_stock_prices.csv\",dtype = dtypes)\n",
    "df_prices = concat_df(df_prices, prices)\n",
    "df_prices = df_prices[df_prices.Date>\"2021-06-01\"]\n",
    "df_prices.info(show_counts=True)"
   ]
  },
  {
   "cell_type": "code",
   "execution_count": null,
   "id": "e813213e",
   "metadata": {
    "papermill": {
     "duration": 0.008159,
     "end_time": "2022-06-23T16:58:48.125851",
     "exception": false,
     "start_time": "2022-06-23T16:58:48.117692",
     "status": "completed"
    },
    "tags": []
   },
   "outputs": [],
   "source": []
  },
  {
   "cell_type": "code",
   "execution_count": 5,
   "id": "f9d8e7c4",
   "metadata": {
    "execution": {
     "iopub.execute_input": "2022-06-23T16:58:48.144988Z",
     "iopub.status.busy": "2022-06-23T16:58:48.144234Z",
     "iopub.status.idle": "2022-06-23T16:58:48.148432Z",
     "shell.execute_reply": "2022-06-23T16:58:48.147361Z"
    },
    "papermill": {
     "duration": 0.015816,
     "end_time": "2022-06-23T16:58:48.150223",
     "exception": false,
     "start_time": "2022-06-23T16:58:48.134407",
     "status": "completed"
    },
    "tags": []
   },
   "outputs": [],
   "source": [
    "# def prep_prices(price):\n",
    "#     price.fillna(0,inplace=True)\n",
    "#     return price"
   ]
  },
  {
   "cell_type": "code",
   "execution_count": 6,
   "id": "6730f831",
   "metadata": {
    "execution": {
     "iopub.execute_input": "2022-06-23T16:58:48.169336Z",
     "iopub.status.busy": "2022-06-23T16:58:48.168876Z",
     "iopub.status.idle": "2022-06-23T16:58:48.173284Z",
     "shell.execute_reply": "2022-06-23T16:58:48.172519Z"
    },
    "papermill": {
     "duration": 0.016233,
     "end_time": "2022-06-23T16:58:48.175254",
     "exception": false,
     "start_time": "2022-06-23T16:58:48.159021",
     "status": "completed"
    },
    "tags": []
   },
   "outputs": [],
   "source": [
    "# df_prices = prep_prices(df_prices)\n",
    "# pd.options.display.float_format = '{:,.6g}'.format\n",
    "# df_prices.describe()"
   ]
  },
  {
   "cell_type": "code",
   "execution_count": 7,
   "id": "5f3c40cc",
   "metadata": {
    "execution": {
     "iopub.execute_input": "2022-06-23T16:58:48.194867Z",
     "iopub.status.busy": "2022-06-23T16:58:48.194198Z",
     "iopub.status.idle": "2022-06-23T16:58:48.197785Z",
     "shell.execute_reply": "2022-06-23T16:58:48.197020Z"
    },
    "papermill": {
     "duration": 0.01588,
     "end_time": "2022-06-23T16:58:48.200239",
     "exception": false,
     "start_time": "2022-06-23T16:58:48.184359",
     "status": "completed"
    },
    "tags": []
   },
   "outputs": [],
   "source": [
    "# # Open stock_list\n",
    "# stock_list = pd.read_csv(\"../input/jpx-tokyo-stock-exchange-prediction/stock_list.csv\")\n",
    "# stock_list"
   ]
  },
  {
   "cell_type": "code",
   "execution_count": 8,
   "id": "034a9ec9",
   "metadata": {
    "execution": {
     "iopub.execute_input": "2022-06-23T16:58:48.219581Z",
     "iopub.status.busy": "2022-06-23T16:58:48.218863Z",
     "iopub.status.idle": "2022-06-23T16:58:48.222631Z",
     "shell.execute_reply": "2022-06-23T16:58:48.221888Z"
    },
    "papermill": {
     "duration": 0.015426,
     "end_time": "2022-06-23T16:58:48.224483",
     "exception": false,
     "start_time": "2022-06-23T16:58:48.209057",
     "status": "completed"
    },
    "tags": []
   },
   "outputs": [],
   "source": [
    "# #Match Stocklist to securities code\n",
    "# stock_list = stock_list[['SecuritiesCode','NewMarketSegment','33SectorCode','17SectorCode','Universe0','Section/Products','NewIndexSeriesSize']]\n",
    "# stock_list = stock_list.replace(np.nan,'-')\n",
    "# stock_list['Universe0'] = np.where(stock_list['Universe0'], 1, 0)\n",
    "# stock_list = stock_list.drop_duplicates()\n",
    "# stock_list\n"
   ]
  },
  {
   "cell_type": "code",
   "execution_count": 9,
   "id": "a57d5f91",
   "metadata": {
    "execution": {
     "iopub.execute_input": "2022-06-23T16:58:48.244197Z",
     "iopub.status.busy": "2022-06-23T16:58:48.243556Z",
     "iopub.status.idle": "2022-06-23T16:58:48.247193Z",
     "shell.execute_reply": "2022-06-23T16:58:48.246320Z"
    },
    "papermill": {
     "duration": 0.015769,
     "end_time": "2022-06-23T16:58:48.249321",
     "exception": false,
     "start_time": "2022-06-23T16:58:48.233552",
     "status": "completed"
    },
    "tags": []
   },
   "outputs": [],
   "source": [
    "# from datetime import datetime\n",
    "# import time\n",
    "\n",
    "#  # auxiliary function, from datetime to timestamp\n",
    "# totimestamp = lambda s: np.int32(time.mktime(datetime.strptime(s, \"%Y-%m-%d\").timetuple()))"
   ]
  },
  {
   "cell_type": "markdown",
   "id": "aee0d76e",
   "metadata": {
    "papermill": {
     "duration": 0.009262,
     "end_time": "2022-06-23T16:58:48.267946",
     "exception": false,
     "start_time": "2022-06-23T16:58:48.258684",
     "status": "completed"
    },
    "tags": []
   },
   "source": [
    "# Data Features\n"
   ]
  },
  {
   "cell_type": "code",
   "execution_count": 10,
   "id": "edb1c87e",
   "metadata": {
    "execution": {
     "iopub.execute_input": "2022-06-23T16:58:48.288124Z",
     "iopub.status.busy": "2022-06-23T16:58:48.287461Z",
     "iopub.status.idle": "2022-06-23T16:58:48.296159Z",
     "shell.execute_reply": "2022-06-23T16:58:48.294968Z"
    },
    "papermill": {
     "duration": 0.02121,
     "end_time": "2022-06-23T16:58:48.298509",
     "exception": false,
     "start_time": "2022-06-23T16:58:48.277299",
     "status": "completed"
    },
    "tags": []
   },
   "outputs": [],
   "source": [
    "\n",
    "# define function to compute log returns\n",
    "# def log_return(series, periods=1):\n",
    "#     return np.log(series).diff(periods=periods)\n",
    "\n",
    "\n",
    "# # def fill_the_gaps(df):\n",
    "# #     new_df = pd.DataFrame(columns= df.columns)\n",
    "# #     for i in range(len(df['SecuritiesCode'].unique())):\n",
    "# #         new_df = new_df.append(df[df['SecuritiesCode'] == i].reindex(range(df[df['SecuritiesCode'] == i].index[0],df[df['SecuritiesCode'] == i].index[-1]+60,60),method='pad'))\n",
    "# #     new_df.fillna(method = 'pad', inplace = True) \n",
    "# #     return new_df\n",
    "\n",
    "\n",
    "# def rsiFunc(prices, n=14):\n",
    "#     deltas = np.diff(prices)\n",
    "#     seed = deltas[:n+1]\n",
    "#     up = seed[seed>=0].sum()/n\n",
    "#     down = -seed[seed<0].sum()/n\n",
    "#     rs = up/down\n",
    "#     rsi = np.zeros_like(prices)\n",
    "#     rsi[:n] = 100. - 100./(1.+rs)\n",
    "\n",
    "#     for i in range(n, len(prices)):\n",
    "#         delta = deltas[i-1] # cause the diff is 1 shorter\n",
    "\n",
    "#         if delta>0:\n",
    "#             upval = delta\n",
    "#             downval = 0.\n",
    "#         else:\n",
    "#             upval = 0.\n",
    "#             downval = -delta\n",
    "\n",
    "#         up = (up*(n-1) + upval)/n\n",
    "#         down = (down*(n-1) + downval)/n\n",
    "\n",
    "#         rs = up/down\n",
    "#         rsi[i] = 100. - 100./(1.+rs)\n",
    "\n",
    "#     return rsi\n",
    "\n",
    "\n",
    "\n",
    "def get_features(df):\n",
    "\n",
    "#     df['log_return_5'] = log_return(df['Close'],periods=5)\n",
    "#     df['log_return'] = log_return(df['Close'],periods=1)\n",
    "\n",
    "    upper_shadow = lambda asset: asset.High - np.maximum(asset.Close,asset.Open)\n",
    "    lower_shadow = lambda asset: np.minimum(asset.Close,asset.Open)- asset.Low\n",
    "\n",
    "    df['upper_shadow'] = upper_shadow(df)\n",
    "    df['lower_shadow'] = lower_shadow(df)\n",
    "    \n",
    "#     df['EMA_21'] = df['Close'].ewm(span=21).mean()\n",
    "    \n",
    "#     df['EMA_55'] = df['Close'].ewm(span=55).mean()\n",
    "    \n",
    "#     df['EMA_315'] = df['Close'].ewm(span=315).mean()\n",
    "    \n",
    "#     df['EMA_825'] = df['Close'].ewm(span=825).mean()\n",
    "    \n",
    "#     window = 7\n",
    "    \n",
    "#     no_of_std = 2\n",
    "    \n",
    "#     df[f'EMA_{window}'] = df['Close'].ewm(span=window).mean()\n",
    "    \n",
    "#     df[f'EMA_{window}_std'] = df['Close'].rolling(window=window).std()\n",
    "    \n",
    "#     df[f'EMA_{window}_BB_high'] = df[f'EMA_{window}'] + no_of_std * df[f'EMA_{window}_std']\n",
    "    \n",
    "#     df[f'MA_{window}MA_BB_low'] = df[f'EMA_{window}'] - no_of_std * df[f'EMA_{window}_std']\n",
    "    \n",
    "#     window = 5\n",
    "    \n",
    "#     df[f'EMA_{window}'] = df['Close'].ewm(span=window).mean()\n",
    "    \n",
    "#     df[f'EMA_{window}_std'] = df['Close'].rolling(window=window).std()\n",
    "    \n",
    "#     df[f'EMA_{window}_BB_high'] = df[f'EMA_{window}'] + no_of_std * df[f'EMA_{window}_std']\n",
    "    \n",
    "#     df[f'MA_{window}MA_BB_low'] = df[f'EMA_{window}'] - no_of_std * df[f'EMA_{window}_std']\n",
    "    \n",
    "#     df['MACD'] = df['EMA_7'] - df['EMA_5']\n",
    "    \n",
    "    \n",
    "#     df['rsi_5'] = rsiFunc(df['Close'].values, 5)\n",
    "    \n",
    "#     df['rsi_7'] = rsiFunc(df['Close'].values, 7)\n",
    "    \n",
    "#     df['rsi_21'] = rsiFunc(df['Close'].values, 21)\n",
    "    \n",
    "    \n",
    "    \n",
    "    df['VWAP'] = (df['Close'] * df['Volume'])/ df['Volume']\n",
    "\n",
    "\n",
    "\n",
    "\n",
    "    \n",
    "    \n",
    "    #df = pd.concat([df, pd.get_dummies(df['Asset_ID'], prefix= 'Asset_')], axis=1)\n",
    "    \n",
    "    df[[ 'upper_shadow', 'lower_shadow','VWAP']].astype('float16')\n",
    "    \n",
    "    return df\n",
    "\n"
   ]
  },
  {
   "cell_type": "code",
   "execution_count": null,
   "id": "0f386f22",
   "metadata": {
    "papermill": {
     "duration": 0.008412,
     "end_time": "2022-06-23T16:58:48.316142",
     "exception": false,
     "start_time": "2022-06-23T16:58:48.307730",
     "status": "completed"
    },
    "tags": []
   },
   "outputs": [],
   "source": []
  },
  {
   "cell_type": "code",
   "execution_count": 11,
   "id": "3fe9d744",
   "metadata": {
    "execution": {
     "iopub.execute_input": "2022-06-23T16:58:48.335465Z",
     "iopub.status.busy": "2022-06-23T16:58:48.335047Z",
     "iopub.status.idle": "2022-06-23T16:58:49.362862Z",
     "shell.execute_reply": "2022-06-23T16:58:49.361773Z"
    },
    "papermill": {
     "duration": 1.040595,
     "end_time": "2022-06-23T16:58:49.365344",
     "exception": false,
     "start_time": "2022-06-23T16:58:48.324749",
     "status": "completed"
    },
    "tags": []
   },
   "outputs": [],
   "source": [
    "#df_prices = df_prices.sort_values('SecuritiesCode')\n",
    "\n",
    "df_prices = get_features(df_prices)\n",
    "\n",
    "df_prices = df_prices.replace((np.inf, -np.inf, np.nan), 0).reset_index(drop=True)\n",
    "\n",
    "df_prices = df_prices.fillna(0)"
   ]
  },
  {
   "cell_type": "markdown",
   "id": "88ae544a",
   "metadata": {
    "papermill": {
     "duration": 0.008705,
     "end_time": "2022-06-23T16:58:49.382860",
     "exception": false,
     "start_time": "2022-06-23T16:58:49.374155",
     "status": "completed"
    },
    "tags": []
   },
   "source": [
    "## Data Preparation\n",
    "\n"
   ]
  },
  {
   "cell_type": "code",
   "execution_count": 12,
   "id": "b20d7b34",
   "metadata": {
    "execution": {
     "iopub.execute_input": "2022-06-23T16:58:49.401784Z",
     "iopub.status.busy": "2022-06-23T16:58:49.401412Z",
     "iopub.status.idle": "2022-06-23T16:58:50.672969Z",
     "shell.execute_reply": "2022-06-23T16:58:50.671755Z"
    },
    "papermill": {
     "duration": 1.284847,
     "end_time": "2022-06-23T16:58:50.676438",
     "exception": false,
     "start_time": "2022-06-23T16:58:49.391591",
     "status": "completed"
    },
    "tags": []
   },
   "outputs": [],
   "source": [
    "\n",
    "from sklearn.preprocessing import StandardScaler\n",
    "scaler = StandardScaler()"
   ]
  },
  {
   "cell_type": "code",
   "execution_count": 13,
   "id": "309a73c8",
   "metadata": {
    "execution": {
     "iopub.execute_input": "2022-06-23T16:58:50.702159Z",
     "iopub.status.busy": "2022-06-23T16:58:50.701755Z",
     "iopub.status.idle": "2022-06-23T16:58:50.706145Z",
     "shell.execute_reply": "2022-06-23T16:58:50.705229Z"
    },
    "papermill": {
     "duration": 0.019192,
     "end_time": "2022-06-23T16:58:50.708481",
     "exception": false,
     "start_time": "2022-06-23T16:58:50.689289",
     "status": "completed"
    },
    "tags": []
   },
   "outputs": [],
   "source": [
    "scaled_features = ['Open', 'High', 'Low', 'Close', 'Volume', 'upper_shadow', 'lower_shadow','VWAP']\n",
    "features = [\"SecuritiesCode\",'Open', 'High', 'Low', 'Close', 'Volume', 'upper_shadow', 'lower_shadow','VWAP']"
   ]
  },
  {
   "cell_type": "code",
   "execution_count": 14,
   "id": "04bb77ab",
   "metadata": {
    "execution": {
     "iopub.execute_input": "2022-06-23T16:58:50.734151Z",
     "iopub.status.busy": "2022-06-23T16:58:50.733452Z",
     "iopub.status.idle": "2022-06-23T16:58:50.736929Z",
     "shell.execute_reply": "2022-06-23T16:58:50.736247Z"
    },
    "papermill": {
     "duration": 0.018444,
     "end_time": "2022-06-23T16:58:50.738992",
     "exception": false,
     "start_time": "2022-06-23T16:58:50.720548",
     "status": "completed"
    },
    "tags": []
   },
   "outputs": [],
   "source": [
    "# # Creating endog and exog variables\n",
    "# y = df_prices[['Target']]\n",
    "# X = df_prices[features]"
   ]
  },
  {
   "cell_type": "code",
   "execution_count": 15,
   "id": "abc3601f",
   "metadata": {
    "execution": {
     "iopub.execute_input": "2022-06-23T16:58:50.763214Z",
     "iopub.status.busy": "2022-06-23T16:58:50.762806Z",
     "iopub.status.idle": "2022-06-23T16:58:51.198104Z",
     "shell.execute_reply": "2022-06-23T16:58:51.195199Z"
    },
    "papermill": {
     "duration": 0.450671,
     "end_time": "2022-06-23T16:58:51.201159",
     "exception": false,
     "start_time": "2022-06-23T16:58:50.750488",
     "status": "completed"
    },
    "tags": []
   },
   "outputs": [],
   "source": [
    "df_prices[scaled_features] = scaler.fit_transform(df_prices[scaled_features])"
   ]
  },
  {
   "cell_type": "code",
   "execution_count": null,
   "id": "0c5ca7cf",
   "metadata": {
    "papermill": {
     "duration": 0.010176,
     "end_time": "2022-06-23T16:58:51.221741",
     "exception": false,
     "start_time": "2022-06-23T16:58:51.211565",
     "status": "completed"
    },
    "tags": []
   },
   "outputs": [],
   "source": []
  },
  {
   "cell_type": "markdown",
   "id": "10502a52",
   "metadata": {
    "papermill": {
     "duration": 0.00977,
     "end_time": "2022-06-23T16:58:51.242576",
     "exception": false,
     "start_time": "2022-06-23T16:58:51.232806",
     "status": "completed"
    },
    "tags": []
   },
   "source": [
    "## Training Model\n",
    "\n",
    "From Keras tutorial:\n",
    "https://keras.io/examples/structured_data/structured_data_classification_from_scratch/#preparing-the-data"
   ]
  },
  {
   "cell_type": "code",
   "execution_count": 16,
   "id": "423ad810",
   "metadata": {
    "execution": {
     "iopub.execute_input": "2022-06-23T16:58:51.265725Z",
     "iopub.status.busy": "2022-06-23T16:58:51.264642Z",
     "iopub.status.idle": "2022-06-23T16:59:00.372528Z",
     "shell.execute_reply": "2022-06-23T16:59:00.371307Z"
    },
    "papermill": {
     "duration": 9.125658,
     "end_time": "2022-06-23T16:59:00.378328",
     "exception": false,
     "start_time": "2022-06-23T16:58:51.252670",
     "status": "completed"
    },
    "tags": []
   },
   "outputs": [],
   "source": [
    "import tensorflow as tf\n",
    "from tensorflow import keras\n",
    "from tensorflow.keras import layers"
   ]
  },
  {
   "cell_type": "code",
   "execution_count": 17,
   "id": "97a13c86",
   "metadata": {
    "execution": {
     "iopub.execute_input": "2022-06-23T16:59:00.412536Z",
     "iopub.status.busy": "2022-06-23T16:59:00.410801Z",
     "iopub.status.idle": "2022-06-23T16:59:01.085547Z",
     "shell.execute_reply": "2022-06-23T16:59:01.083794Z"
    },
    "papermill": {
     "duration": 0.692461,
     "end_time": "2022-06-23T16:59:01.088759",
     "exception": false,
     "start_time": "2022-06-23T16:59:00.396298",
     "status": "completed"
    },
    "tags": []
   },
   "outputs": [
    {
     "name": "stdout",
     "output_type": "stream",
     "text": [
      "Using 788842 samples for training and 197210 for validation\n"
     ]
    }
   ],
   "source": [
    "val_dataframe = df_prices.sample(frac=0.2, random_state=1337)\n",
    "train_dataframe = df_prices.drop(val_dataframe.index)\n",
    "\n",
    "print(\n",
    "    \"Using %d samples for training and %d for validation\"\n",
    "    % (len(train_dataframe), len(val_dataframe))\n",
    ")"
   ]
  },
  {
   "cell_type": "code",
   "execution_count": 18,
   "id": "4d89c230",
   "metadata": {
    "execution": {
     "iopub.execute_input": "2022-06-23T16:59:01.121442Z",
     "iopub.status.busy": "2022-06-23T16:59:01.120897Z",
     "iopub.status.idle": "2022-06-23T16:59:01.413528Z",
     "shell.execute_reply": "2022-06-23T16:59:01.412276Z"
    },
    "papermill": {
     "duration": 0.311396,
     "end_time": "2022-06-23T16:59:01.415762",
     "exception": false,
     "start_time": "2022-06-23T16:59:01.104366",
     "status": "completed"
    },
    "tags": []
   },
   "outputs": [
    {
     "data": {
      "text/plain": [
       "42"
      ]
     },
     "execution_count": 18,
     "metadata": {},
     "output_type": "execute_result"
    }
   ],
   "source": [
    "del df_prices\n",
    "gc.collect()"
   ]
  },
  {
   "cell_type": "code",
   "execution_count": 19,
   "id": "3b426033",
   "metadata": {
    "execution": {
     "iopub.execute_input": "2022-06-23T16:59:01.447147Z",
     "iopub.status.busy": "2022-06-23T16:59:01.446572Z",
     "iopub.status.idle": "2022-06-23T16:59:02.102393Z",
     "shell.execute_reply": "2022-06-23T16:59:02.101264Z"
    },
    "papermill": {
     "duration": 0.67497,
     "end_time": "2022-06-23T16:59:02.105319",
     "exception": false,
     "start_time": "2022-06-23T16:59:01.430349",
     "status": "completed"
    },
    "tags": []
   },
   "outputs": [
    {
     "name": "stderr",
     "output_type": "stream",
     "text": [
      "2022-06-23 16:59:01.528500: I tensorflow/core/common_runtime/process_util.cc:146] Creating new thread pool with default inter op setting: 2. Tune using inter_op_parallelism_threads for best performance.\n"
     ]
    }
   ],
   "source": [
    "def dataframe_to_dataset(dataframe):\n",
    "    dataframe = dataframe.copy()\n",
    "    labels = dataframe.pop(\"Target\")\n",
    "    ds = tf.data.Dataset.from_tensor_slices((dict(dataframe), labels))\n",
    "    ds = ds.shuffle(buffer_size=len(dataframe))\n",
    "    return ds\n",
    "\n",
    "\n",
    "train_ds = dataframe_to_dataset(train_dataframe)\n",
    "val_ds = dataframe_to_dataset(val_dataframe)"
   ]
  },
  {
   "cell_type": "code",
   "execution_count": 20,
   "id": "d165860c",
   "metadata": {
    "execution": {
     "iopub.execute_input": "2022-06-23T16:59:02.138980Z",
     "iopub.status.busy": "2022-06-23T16:59:02.138529Z",
     "iopub.status.idle": "2022-06-23T16:59:02.360819Z",
     "shell.execute_reply": "2022-06-23T16:59:02.360000Z"
    },
    "papermill": {
     "duration": 0.241091,
     "end_time": "2022-06-23T16:59:02.362818",
     "exception": false,
     "start_time": "2022-06-23T16:59:02.121727",
     "status": "completed"
    },
    "tags": []
   },
   "outputs": [
    {
     "data": {
      "text/plain": [
       "21"
      ]
     },
     "execution_count": 20,
     "metadata": {},
     "output_type": "execute_result"
    }
   ],
   "source": [
    "del train_dataframe\n",
    "del val_dataframe\n",
    "gc.collect()"
   ]
  },
  {
   "cell_type": "code",
   "execution_count": 21,
   "id": "05f7492a",
   "metadata": {
    "execution": {
     "iopub.execute_input": "2022-06-23T16:59:02.394054Z",
     "iopub.status.busy": "2022-06-23T16:59:02.393159Z",
     "iopub.status.idle": "2022-06-23T16:59:12.877208Z",
     "shell.execute_reply": "2022-06-23T16:59:12.875641Z"
    },
    "papermill": {
     "duration": 10.50278,
     "end_time": "2022-06-23T16:59:12.879826",
     "exception": false,
     "start_time": "2022-06-23T16:59:02.377046",
     "status": "completed"
    },
    "tags": []
   },
   "outputs": [
    {
     "name": "stdout",
     "output_type": "stream",
     "text": [
      "Input: {'RowId': <tf.Tensor: shape=(), dtype=string, numpy=b'20220301_3361'>, 'Date': <tf.Tensor: shape=(), dtype=string, numpy=b'2022-03-01'>, 'SecuritiesCode': <tf.Tensor: shape=(), dtype=int16, numpy=3361>, 'Open': <tf.Tensor: shape=(), dtype=float64, numpy=-0.3216128462616617>, 'High': <tf.Tensor: shape=(), dtype=float64, numpy=-0.3241265737245177>, 'Low': <tf.Tensor: shape=(), dtype=float64, numpy=-0.31909637012458275>, 'Close': <tf.Tensor: shape=(), dtype=float64, numpy=-0.32184224384002713>, 'Volume': <tf.Tensor: shape=(), dtype=float64, numpy=-0.034060416445794446>, 'AdjustmentFactor': <tf.Tensor: shape=(), dtype=float64, numpy=1.0>, 'ExpectedDividend': <tf.Tensor: shape=(), dtype=float64, numpy=0.0>, 'SupervisionFlag': <tf.Tensor: shape=(), dtype=bool, numpy=False>, 'upper_shadow': <tf.Tensor: shape=(), dtype=float64, numpy=-0.1406164789798372>, 'lower_shadow': <tf.Tensor: shape=(), dtype=float64, numpy=-0.1585589636857418>, 'VWAP': <tf.Tensor: shape=(), dtype=float64, numpy=0.4331890366763401>}\n",
      "Target: tf.Tensor(0.007770538330078125, shape=(), dtype=float64)\n"
     ]
    }
   ],
   "source": [
    "for x, y in train_ds.take(1):\n",
    "    print(\"Input:\", x)\n",
    "    print(\"Target:\", y)"
   ]
  },
  {
   "cell_type": "code",
   "execution_count": 22,
   "id": "eadaa4f4",
   "metadata": {
    "execution": {
     "iopub.execute_input": "2022-06-23T16:59:12.900703Z",
     "iopub.status.busy": "2022-06-23T16:59:12.900278Z",
     "iopub.status.idle": "2022-06-23T16:59:12.907174Z",
     "shell.execute_reply": "2022-06-23T16:59:12.906130Z"
    },
    "papermill": {
     "duration": 0.019693,
     "end_time": "2022-06-23T16:59:12.909256",
     "exception": false,
     "start_time": "2022-06-23T16:59:12.889563",
     "status": "completed"
    },
    "tags": []
   },
   "outputs": [],
   "source": [
    "train_ds = train_ds.batch(32)\n",
    "val_ds = val_ds.batch(32)\n"
   ]
  },
  {
   "cell_type": "code",
   "execution_count": 23,
   "id": "9ac340ac",
   "metadata": {
    "execution": {
     "iopub.execute_input": "2022-06-23T16:59:12.932083Z",
     "iopub.status.busy": "2022-06-23T16:59:12.931256Z",
     "iopub.status.idle": "2022-06-23T16:59:12.940487Z",
     "shell.execute_reply": "2022-06-23T16:59:12.939655Z"
    },
    "papermill": {
     "duration": 0.024093,
     "end_time": "2022-06-23T16:59:12.943125",
     "exception": false,
     "start_time": "2022-06-23T16:59:12.919032",
     "status": "completed"
    },
    "tags": []
   },
   "outputs": [],
   "source": [
    "from tensorflow.keras.layers import IntegerLookup\n",
    "from tensorflow.keras.layers import Normalization\n",
    "from tensorflow.keras.layers import StringLookup\n",
    "\n",
    "\n",
    "def encode_numerical_feature(feature, name, dataset):\n",
    "    # Create a Normalization layer for our feature\n",
    "    normalizer = Normalization()\n",
    "\n",
    "    # Prepare a Dataset that only yields our feature\n",
    "    feature_ds = dataset.map(lambda x, y: x[name])\n",
    "    feature_ds = feature_ds.map(lambda x: tf.expand_dims(x, -1))\n",
    "\n",
    "    # Learn the statistics of the data\n",
    "    normalizer.adapt(feature_ds)\n",
    "\n",
    "    # Normalize the input feature\n",
    "    encoded_feature = normalizer(feature)\n",
    "    return encoded_feature\n",
    "\n",
    "\n",
    "def encode_categorical_feature(feature, name, dataset, is_string):\n",
    "    lookup_class = StringLookup if is_string else IntegerLookup\n",
    "    # Create a lookup layer which will turn strings into integer indices\n",
    "    lookup = lookup_class(output_mode=\"binary\")\n",
    "\n",
    "    # Prepare a Dataset that only yields our feature\n",
    "    feature_ds = dataset.map(lambda x, y: x[name])\n",
    "    feature_ds = feature_ds.map(lambda x: tf.expand_dims(x, -1))\n",
    "\n",
    "    # Learn the set of possible string values and assign them a fixed integer index\n",
    "    lookup.adapt(feature_ds)\n",
    "\n",
    "    # Turn the string input into integer indices\n",
    "    encoded_feature = lookup(feature)\n",
    "    return encoded_feature"
   ]
  },
  {
   "cell_type": "code",
   "execution_count": null,
   "id": "f4b191ac",
   "metadata": {
    "papermill": {
     "duration": 0.009538,
     "end_time": "2022-06-23T16:59:12.962680",
     "exception": false,
     "start_time": "2022-06-23T16:59:12.953142",
     "status": "completed"
    },
    "tags": []
   },
   "outputs": [],
   "source": []
  },
  {
   "cell_type": "code",
   "execution_count": 24,
   "id": "29e19180",
   "metadata": {
    "execution": {
     "iopub.execute_input": "2022-06-23T16:59:12.986019Z",
     "iopub.status.busy": "2022-06-23T16:59:12.985305Z",
     "iopub.status.idle": "2022-06-23T16:59:13.022118Z",
     "shell.execute_reply": "2022-06-23T16:59:13.020814Z"
    },
    "papermill": {
     "duration": 0.052042,
     "end_time": "2022-06-23T16:59:13.024714",
     "exception": false,
     "start_time": "2022-06-23T16:59:12.972672",
     "status": "completed"
    },
    "tags": []
   },
   "outputs": [],
   "source": [
    "#Categorical Features\n",
    "SecuritiesCode = keras.Input(shape=(1,), name=\"SecuritiesCode\", dtype=\"int16\")\n",
    "\n",
    "#Numerical Features\n",
    "Open = keras.Input(shape=(1,), name=\"Open\",dtype = 'float16')\n",
    "High = keras.Input(shape=(1,), name=\"High\",dtype = 'float16')\n",
    "Low = keras.Input(shape=(1,), name=\"Low\",dtype = 'float16')\n",
    "Close = keras.Input(shape=(1,), name=\"Close\",dtype = 'float16')\n",
    "Volume = keras.Input(shape=(1,), name=\"Volume\")\n",
    "# log_return_5 = keras.Input(shape=(1,), name=\"log_return_5\",dtype = 'float16')\n",
    "# log_return = keras.Input(shape=(1,), name=\"log_return\",dtype = 'float16')\n",
    "upper_shadow = keras.Input(shape=(1,), name=\"upper_shadow\",dtype = 'float16')\n",
    "lower_shadow = keras.Input(shape=(1,), name=\"lower_shadow\",dtype = 'float16')\n",
    "VWAP = keras.Input(shape=(1,), name=\"VWAP\",dtype = 'float16')\n",
    "# EMA_7 = keras.Input(shape=(1,), name=\"EMA_7\",dtype = 'float16')\n",
    "# EMA_7_std = keras.Input(shape=(1,), name=\"EMA_7_std\",dtype = 'float16')\n",
    "# # EMA_7_BB_high = keras.Input(shape=(1,), name=\"EMA_7_BB_high\",dtype = 'float16')\n",
    "# #MA_7MA_BB_low = keras.Input(shape=(1,), name=\"MA_7MA_BB_low\")\n",
    "# EMA_5 = keras.Input(shape=(1,), name=\"EMA_5\",dtype = 'float16')\n",
    "# EMA_5_std = keras.Input(shape=(1,), name=\"EMA_5_std\",dtype = 'float16')\n",
    "# # EMA_5_BB_high = keras.Input(shape=(1,), name=\"EMA_5_BB_high\",dtype = 'float16')\n",
    "# # MA_5MA_BB_low = keras.Input(shape=(1,), name=\"MA_5MA_BB_low\",dtype = 'float16')\n",
    "# MACD = keras.Input(shape=(1,), name=\"MACD\",dtype = 'float16')\n",
    "# rsi_5 = keras.Input(shape=(1,), name=\"rsi_5\",dtype = 'float16')\n",
    "# rsi_7 = keras.Input(shape=(1,), name=\"rsi_7\",dtype = 'float16')\n",
    "# rsi_21 = keras.Input(shape=(1,), name=\"rsi_21\",dtype = 'float16')\n",
    "\n",
    "#imputs\n",
    "\n",
    "# all_inputs = [SecuritiesCode,Open, High, Low, Close, Volume, log_return_5, log_return, upper_shadow, lower_shadow,\n",
    "#        VWAP, EMA_7, EMA_7_std,EMA_7_BB_high, MA_7MA_BB_low, EMA_5, EMA_5_std, EMA_5_BB_high,\n",
    "#        MA_5MA_BB_low, MACD, rsi_5, rsi_7, rsi_21]\n",
    "\n",
    "all_inputs = [SecuritiesCode,Open, High, Low, Close, Volume, upper_shadow, lower_shadow,\n",
    "       VWAP]"
   ]
  },
  {
   "cell_type": "code",
   "execution_count": null,
   "id": "0c9050f1",
   "metadata": {
    "papermill": {
     "duration": 0.010009,
     "end_time": "2022-06-23T16:59:13.044810",
     "exception": false,
     "start_time": "2022-06-23T16:59:13.034801",
     "status": "completed"
    },
    "tags": []
   },
   "outputs": [],
   "source": []
  },
  {
   "cell_type": "code",
   "execution_count": 25,
   "id": "27e90893",
   "metadata": {
    "execution": {
     "iopub.execute_input": "2022-06-23T16:59:13.066284Z",
     "iopub.status.busy": "2022-06-23T16:59:13.065852Z",
     "iopub.status.idle": "2022-06-23T17:03:25.974165Z",
     "shell.execute_reply": "2022-06-23T17:03:25.972963Z"
    },
    "papermill": {
     "duration": 252.922331,
     "end_time": "2022-06-23T17:03:25.977189",
     "exception": false,
     "start_time": "2022-06-23T16:59:13.054858",
     "status": "completed"
    },
    "tags": []
   },
   "outputs": [
    {
     "name": "stderr",
     "output_type": "stream",
     "text": [
      "2022-06-23 16:59:13.205099: I tensorflow/compiler/mlir/mlir_graph_optimization_pass.cc:185] None of the MLIR Optimization Passes are enabled (registered 2)\n"
     ]
    }
   ],
   "source": [
    "\n",
    "\n",
    "#Encode Numerical \n",
    "Open_encoded = encode_numerical_feature(Open, \"Open\", train_ds)\n",
    "High_encoded = encode_numerical_feature(High, \"High\", train_ds)\n",
    "Low_encoded = encode_numerical_feature(Low, \"Low\", train_ds)\n",
    "Close_encoded = encode_numerical_feature(Close, \"Close\", train_ds)\n",
    "Volume_encoded = encode_numerical_feature(Volume, \"Volume\", train_ds)\n",
    "# log_return_5_encoded = encode_numerical_feature(log_return_5, \"log_return_5\", train_ds)\n",
    "# log_return_encoded = encode_numerical_feature(log_return, \"log_return\", train_ds)\n",
    "upper_shadow_encoded = encode_numerical_feature(upper_shadow, \"upper_shadow\", train_ds)\n",
    "lower_shadow_encoded = encode_numerical_feature(lower_shadow, \"lower_shadow\", train_ds)\n",
    "VWAP_encoded = encode_numerical_feature(VWAP, \"VWAP\", train_ds)\n",
    "# EMA_7_encoded = encode_numerical_feature(EMA_7, \"EMA_7\", train_ds)\n",
    "# EMA_7_std_encoded = encode_numerical_feature(EMA_7_std, \"EMA_7_std\", train_ds)\n",
    "# # EMA_7_BB_high_encoded = encode_numerical_feature(EMA_7_BB_high, \"EMA_7_BB_high\", train_ds)\n",
    "# # MA_7MA_BB_low_encoded = encode_numerical_feature(MA_7MA_BB_low, \"MA_7MA_BB_low\", train_ds)\n",
    "# EMA_5_encoded = encode_numerical_feature(EMA_5, \"EMA_5\", train_ds)\n",
    "# EMA_5_std_encoded = encode_numerical_feature(EMA_5_std, \"EMA_5_std\", train_ds)\n",
    "# # EMA_5_BB_high_encoded = encode_numerical_feature(EMA_5_BB_high, \"EMA_5_BB_high\", train_ds)\n",
    "# # MA_5MA_BB_low_encoded = encode_numerical_feature(MA_5MA_BB_low, \"MA_5MA_BB_low\", train_ds)\n",
    "# MACD_encoded = encode_numerical_feature(MACD, \"MACD\", train_ds)\n",
    "# rsi_5_encoded = encode_numerical_feature(rsi_5, \"rsi_5\", train_ds)\n",
    "# rsi_7_encoded = encode_numerical_feature(rsi_7, \"rsi_7\", train_ds)\n",
    "# rsi_21_encoded = encode_numerical_feature(rsi_21, \"rsi_21\", train_ds)\n"
   ]
  },
  {
   "cell_type": "code",
   "execution_count": 26,
   "id": "4251ccb7",
   "metadata": {
    "execution": {
     "iopub.execute_input": "2022-06-23T17:03:25.997732Z",
     "iopub.status.busy": "2022-06-23T17:03:25.997298Z",
     "iopub.status.idle": "2022-06-23T17:03:53.352696Z",
     "shell.execute_reply": "2022-06-23T17:03:53.351477Z"
    },
    "papermill": {
     "duration": 27.369292,
     "end_time": "2022-06-23T17:03:53.356162",
     "exception": false,
     "start_time": "2022-06-23T17:03:25.986870",
     "status": "completed"
    },
    "tags": []
   },
   "outputs": [],
   "source": [
    "# Encode Categorical\n",
    "SecuritiesCode_encoded = encode_categorical_feature(SecuritiesCode, \"SecuritiesCode\", train_ds, False)"
   ]
  },
  {
   "cell_type": "code",
   "execution_count": null,
   "id": "9cd21dd9",
   "metadata": {
    "papermill": {
     "duration": 0.009364,
     "end_time": "2022-06-23T17:03:53.375426",
     "exception": false,
     "start_time": "2022-06-23T17:03:53.366062",
     "status": "completed"
    },
    "tags": []
   },
   "outputs": [],
   "source": []
  },
  {
   "cell_type": "code",
   "execution_count": 27,
   "id": "da402eda",
   "metadata": {
    "execution": {
     "iopub.execute_input": "2022-06-23T17:03:53.395013Z",
     "iopub.status.busy": "2022-06-23T17:03:53.394578Z",
     "iopub.status.idle": "2022-06-23T17:03:53.407678Z",
     "shell.execute_reply": "2022-06-23T17:03:53.406637Z"
    },
    "papermill": {
     "duration": 0.025338,
     "end_time": "2022-06-23T17:03:53.409788",
     "exception": false,
     "start_time": "2022-06-23T17:03:53.384450",
     "status": "completed"
    },
    "tags": []
   },
   "outputs": [],
   "source": [
    "all_features = layers.concatenate(\n",
    "    [SecuritiesCode_encoded,Open_encoded, High_encoded, Low_encoded, Close_encoded, Volume_encoded, upper_shadow_encoded, lower_shadow_encoded,\n",
    "       VWAP_encoded ])\n"
   ]
  },
  {
   "cell_type": "code",
   "execution_count": 28,
   "id": "065cb8fb",
   "metadata": {
    "execution": {
     "iopub.execute_input": "2022-06-23T17:03:53.430783Z",
     "iopub.status.busy": "2022-06-23T17:03:53.429588Z",
     "iopub.status.idle": "2022-06-23T17:03:53.489447Z",
     "shell.execute_reply": "2022-06-23T17:03:53.488072Z"
    },
    "papermill": {
     "duration": 0.072966,
     "end_time": "2022-06-23T17:03:53.491945",
     "exception": false,
     "start_time": "2022-06-23T17:03:53.418979",
     "status": "completed"
    },
    "tags": []
   },
   "outputs": [
    {
     "name": "stdout",
     "output_type": "stream",
     "text": [
      "CPU times: user 42.2 ms, sys: 4.99 ms, total: 47.2 ms\n",
      "Wall time: 51.1 ms\n"
     ]
    }
   ],
   "source": [
    "%%time\n",
    "\n",
    "x = layers.Dense(32, activation=\"relu\")(all_features)\n",
    "x = layers.Dropout(0.5)(x)\n",
    "output = layers.Dense(1, activation=\"sigmoid\")(x)\n",
    "model = keras.Model(all_inputs, output)\n",
    "model.compile(\"adam\", \"binary_crossentropy\", metrics=[\"accuracy\"])"
   ]
  },
  {
   "cell_type": "code",
   "execution_count": 29,
   "id": "988cb33c",
   "metadata": {
    "execution": {
     "iopub.execute_input": "2022-06-23T17:03:53.513254Z",
     "iopub.status.busy": "2022-06-23T17:03:53.512784Z",
     "iopub.status.idle": "2022-06-23T17:03:55.540995Z",
     "shell.execute_reply": "2022-06-23T17:03:55.539842Z"
    },
    "papermill": {
     "duration": 2.043304,
     "end_time": "2022-06-23T17:03:55.545086",
     "exception": false,
     "start_time": "2022-06-23T17:03:53.501782",
     "status": "completed"
    },
    "tags": []
   },
   "outputs": [
    {
     "data": {
      "image/png": "[encoded data removed]",
      "text/plain": [
       "<IPython.core.display.Image object>"
      ]
     },
     "execution_count": 29,
     "metadata": {},
     "output_type": "execute_result"
    }
   ],
   "source": [
    "# `rankdir='LR'` is to make the graph horizontal.\n",
    "keras.utils.plot_model(model, show_shapes=True, rankdir=\"LR\")"
   ]
  },
  {
   "cell_type": "code",
   "execution_count": 30,
   "id": "b6520cbe",
   "metadata": {
    "execution": {
     "iopub.execute_input": "2022-06-23T17:03:55.571001Z",
     "iopub.status.busy": "2022-06-23T17:03:55.570530Z",
     "iopub.status.idle": "2022-06-23T17:03:55.576291Z",
     "shell.execute_reply": "2022-06-23T17:03:55.575080Z"
    },
    "papermill": {
     "duration": 0.021739,
     "end_time": "2022-06-23T17:03:55.578776",
     "exception": false,
     "start_time": "2022-06-23T17:03:55.557037",
     "status": "completed"
    },
    "tags": []
   },
   "outputs": [],
   "source": [
    "# Set early_stopping callbacks, if val_loss does not improve for 10 epochs, stop training and restore best model weights\n",
    "early_stopping = keras.callbacks.EarlyStopping(\n",
    "    monitor='val_loss',\n",
    "    patience=10,\n",
    "    min_delta=1e-3,\n",
    "    restore_best_weights=True,\n",
    ")"
   ]
  },
  {
   "cell_type": "code",
   "execution_count": 31,
   "id": "23e8ac65",
   "metadata": {
    "execution": {
     "iopub.execute_input": "2022-06-23T17:03:55.603941Z",
     "iopub.status.busy": "2022-06-23T17:03:55.603467Z",
     "iopub.status.idle": "2022-06-23T18:53:26.844850Z",
     "shell.execute_reply": "2022-06-23T18:53:26.843407Z"
    },
    "papermill": {
     "duration": 6571.256561,
     "end_time": "2022-06-23T18:53:26.847168",
     "exception": false,
     "start_time": "2022-06-23T17:03:55.590607",
     "status": "completed"
    },
    "tags": []
   },
   "outputs": [
    {
     "name": "stdout",
     "output_type": "stream",
     "text": [
      "Epoch 1/50\n"
     ]
    },
    {
     "name": "stderr",
     "output_type": "stream",
     "text": [
      "/opt/conda/lib/python3.7/site-packages/keras/engine/functional.py:585: UserWarning: Input dict contained keys ['RowId', 'Date', 'AdjustmentFactor', 'ExpectedDividend', 'SupervisionFlag'] which did not match any model input. They will be ignored by the model.\n",
      "  [n for n in tensors.keys() if n not in ref_input_names])\n"
     ]
    },
    {
     "name": "stdout",
     "output_type": "stream",
     "text": [
      "24652/24652 [==============================] - 121s 5ms/step - loss: -0.0036 - accuracy: 0.0735 - val_loss: -0.0145 - val_accuracy: 0.0745\n",
      "Epoch 2/50\n"
     ]
    },
    {
     "name": "stderr",
     "output_type": "stream",
     "text": [
      "2022-06-23 17:06:06.953817: I tensorflow/core/kernels/data/shuffle_dataset_op.cc:175] Filling up shuffle buffer (this may take a while): 547421 of 788842\n"
     ]
    },
    {
     "name": "stdout",
     "output_type": "stream",
     "text": [
      "   38/24652 [..............................] - ETA: 1:43 - loss: -0.0089 - accuracy: 0.0798"
     ]
    },
    {
     "name": "stderr",
     "output_type": "stream",
     "text": [
      "2022-06-23 17:06:10.240854: I tensorflow/core/kernels/data/shuffle_dataset_op.cc:228] Shuffle buffer filled.\n"
     ]
    },
    {
     "name": "stdout",
     "output_type": "stream",
     "text": [
      "24652/24652 [==============================] - 138s 5ms/step - loss: -0.0442 - accuracy: 0.0735 - val_loss: -0.0430 - val_accuracy: 0.0745\n",
      "Epoch 3/50\n",
      "24652/24652 [==============================] - 122s 5ms/step - loss: -0.1169 - accuracy: 0.0735 - val_loss: -0.0877 - val_accuracy: 0.0745\n",
      "Epoch 4/50\n",
      "24652/24652 [==============================] - 111s 4ms/step - loss: -0.2268 - accuracy: 0.0735 - val_loss: -0.1504 - val_accuracy: 0.0745\n",
      "Epoch 5/50\n"
     ]
    },
    {
     "name": "stderr",
     "output_type": "stream",
     "text": [
      "2022-06-23 17:13:12.613190: I tensorflow/core/kernels/data/shuffle_dataset_op.cc:175] Filling up shuffle buffer (this may take a while): 637937 of 788842\n"
     ]
    },
    {
     "name": "stdout",
     "output_type": "stream",
     "text": [
      "   42/24652 [..............................] - ETA: 1:32 - loss: -0.5407 - accuracy: 0.0662"
     ]
    },
    {
     "name": "stderr",
     "output_type": "stream",
     "text": [
      "2022-06-23 17:13:14.573876: I tensorflow/core/kernels/data/shuffle_dataset_op.cc:228] Shuffle buffer filled.\n"
     ]
    },
    {
     "name": "stdout",
     "output_type": "stream",
     "text": [
      "24652/24652 [==============================] - 120s 4ms/step - loss: -0.3665 - accuracy: 0.0735 - val_loss: -0.2305 - val_accuracy: 0.0745\n",
      "Epoch 6/50\n"
     ]
    },
    {
     "name": "stderr",
     "output_type": "stream",
     "text": [
      "2022-06-23 17:15:34.519817: I tensorflow/core/kernels/data/shuffle_dataset_op.cc:175] Filling up shuffle buffer (this may take a while): 390941 of 788842\n"
     ]
    },
    {
     "name": "stdout",
     "output_type": "stream",
     "text": [
      "    1/24652 [..............................] - ETA: 92:01:03 - loss: 0.9562 - accuracy: 0.1250"
     ]
    },
    {
     "name": "stderr",
     "output_type": "stream",
     "text": [
      "2022-06-23 17:15:37.952613: I tensorflow/core/kernels/data/shuffle_dataset_op.cc:228] Shuffle buffer filled.\n"
     ]
    },
    {
     "name": "stdout",
     "output_type": "stream",
     "text": [
      "24652/24652 [==============================] - 126s 5ms/step - loss: -0.5383 - accuracy: 0.0735 - val_loss: -0.3270 - val_accuracy: 0.0745\n",
      "Epoch 7/50\n",
      "24652/24652 [==============================] - 110s 4ms/step - loss: -0.7672 - accuracy: 0.0735 - val_loss: -0.4467 - val_accuracy: 0.0745\n",
      "Epoch 8/50\n",
      "24652/24652 [==============================] - 102s 4ms/step - loss: -0.9826 - accuracy: 0.0735 - val_loss: -0.5806 - val_accuracy: 0.0745\n",
      "Epoch 9/50\n",
      "24652/24652 [==============================] - 120s 4ms/step - loss: -1.2948 - accuracy: 0.0735 - val_loss: -0.7360 - val_accuracy: 0.0745\n",
      "Epoch 10/50\n",
      "24652/24652 [==============================] - 100s 4ms/step - loss: -1.6576 - accuracy: 0.0735 - val_loss: -0.9075 - val_accuracy: 0.0745\n",
      "Epoch 11/50\n",
      "24652/24652 [==============================] - 123s 5ms/step - loss: -1.9895 - accuracy: 0.0735 - val_loss: -1.0971 - val_accuracy: 0.0745\n",
      "Epoch 12/50\n"
     ]
    },
    {
     "name": "stderr",
     "output_type": "stream",
     "text": [
      "2022-06-23 17:28:46.707895: I tensorflow/core/kernels/data/shuffle_dataset_op.cc:175] Filling up shuffle buffer (this may take a while): 547551 of 788842\n"
     ]
    },
    {
     "name": "stdout",
     "output_type": "stream",
     "text": [
      "   46/24652 [..............................] - ETA: 1:25 - loss: -1.5518 - accuracy: 0.0727"
     ]
    },
    {
     "name": "stderr",
     "output_type": "stream",
     "text": [
      "2022-06-23 17:28:50.539577: I tensorflow/core/kernels/data/shuffle_dataset_op.cc:228] Shuffle buffer filled.\n"
     ]
    },
    {
     "name": "stdout",
     "output_type": "stream",
     "text": [
      "24652/24652 [==============================] - 119s 4ms/step - loss: -2.3238 - accuracy: 0.0735 - val_loss: -1.2990 - val_accuracy: 0.0745\n",
      "Epoch 13/50\n",
      "24652/24652 [==============================] - 104s 4ms/step - loss: -2.8219 - accuracy: 0.0735 - val_loss: -1.5174 - val_accuracy: 0.0745\n",
      "Epoch 14/50\n",
      "24652/24652 [==============================] - 106s 4ms/step - loss: -3.2935 - accuracy: 0.0735 - val_loss: -1.7689 - val_accuracy: 0.0745\n",
      "Epoch 15/50\n"
     ]
    },
    {
     "name": "stderr",
     "output_type": "stream",
     "text": [
      "2022-06-23 17:34:39.023340: I tensorflow/core/kernels/data/shuffle_dataset_op.cc:175] Filling up shuffle buffer (this may take a while): 635020 of 788842\n"
     ]
    },
    {
     "name": "stdout",
     "output_type": "stream",
     "text": [
      "   51/24652 [..............................] - ETA: 1:15 - loss: -0.7152 - accuracy: 0.0717"
     ]
    },
    {
     "name": "stderr",
     "output_type": "stream",
     "text": [
      "2022-06-23 17:34:42.363071: I tensorflow/core/kernels/data/shuffle_dataset_op.cc:228] Shuffle buffer filled.\n"
     ]
    },
    {
     "name": "stdout",
     "output_type": "stream",
     "text": [
      "24652/24652 [==============================] - 108s 4ms/step - loss: -3.5955 - accuracy: 0.0735 - val_loss: -2.0235 - val_accuracy: 0.0745\n",
      "Epoch 16/50\n",
      "    1/24652 [..............................] - ETA: 69:32:49 - loss: 30.4809 - accuracy: 0.0312"
     ]
    },
    {
     "name": "stderr",
     "output_type": "stream",
     "text": [
      "2022-06-23 17:37:00.929781: I tensorflow/core/kernels/data/shuffle_dataset_op.cc:175] Filling up shuffle buffer (this may take a while): 765694 of 788842\n",
      "2022-06-23 17:37:01.080638: I tensorflow/core/kernels/data/shuffle_dataset_op.cc:228] Shuffle buffer filled.\n"
     ]
    },
    {
     "name": "stdout",
     "output_type": "stream",
     "text": [
      "24652/24652 [==============================] - 112s 4ms/step - loss: -4.1751 - accuracy: 0.0735 - val_loss: -2.3020 - val_accuracy: 0.0745\n",
      "Epoch 17/50\n"
     ]
    },
    {
     "name": "stderr",
     "output_type": "stream",
     "text": [
      "2022-06-23 17:39:22.835401: I tensorflow/core/kernels/data/shuffle_dataset_op.cc:175] Filling up shuffle buffer (this may take a while): 219013 of 788842\n"
     ]
    },
    {
     "name": "stdout",
     "output_type": "stream",
     "text": [
      "   46/24652 [..............................] - ETA: 1:24 - loss: -11.5571 - accuracy: 0.0639"
     ]
    },
    {
     "name": "stderr",
     "output_type": "stream",
     "text": [
      "2022-06-23 17:39:27.458547: I tensorflow/core/kernels/data/shuffle_dataset_op.cc:228] Shuffle buffer filled.\n"
     ]
    },
    {
     "name": "stdout",
     "output_type": "stream",
     "text": [
      "24652/24652 [==============================] - 110s 4ms/step - loss: -4.9899 - accuracy: 0.0735 - val_loss: -2.6157 - val_accuracy: 0.0745\n",
      "Epoch 18/50\n"
     ]
    },
    {
     "name": "stderr",
     "output_type": "stream",
     "text": [
      "2022-06-23 17:41:12.822528: I tensorflow/core/kernels/data/shuffle_dataset_op.cc:175] Filling up shuffle buffer (this may take a while): 220637 of 788842\n"
     ]
    },
    {
     "name": "stdout",
     "output_type": "stream",
     "text": [
      "   53/24652 [..............................] - ETA: 1:11 - loss: -3.6167 - accuracy: 0.0631"
     ]
    },
    {
     "name": "stderr",
     "output_type": "stream",
     "text": [
      "2022-06-23 17:41:17.397378: I tensorflow/core/kernels/data/shuffle_dataset_op.cc:228] Shuffle buffer filled.\n"
     ]
    },
    {
     "name": "stdout",
     "output_type": "stream",
     "text": [
      "24652/24652 [==============================] - 117s 4ms/step - loss: -5.5694 - accuracy: 0.0735 - val_loss: -2.9330 - val_accuracy: 0.0745\n",
      "Epoch 19/50\n",
      "24652/24652 [==============================] - 101s 4ms/step - loss: -6.2615 - accuracy: 0.0735 - val_loss: -3.2843 - val_accuracy: 0.0745\n",
      "Epoch 20/50\n"
     ]
    },
    {
     "name": "stderr",
     "output_type": "stream",
     "text": [
      "2022-06-23 17:45:15.633467: I tensorflow/core/kernels/data/shuffle_dataset_op.cc:175] Filling up shuffle buffer (this may take a while): 731554 of 788842\n"
     ]
    },
    {
     "name": "stdout",
     "output_type": "stream",
     "text": [
      "    1/24652 [..............................] - ETA: 71:06:08 - loss: -32.4126 - accuracy: 0.1562"
     ]
    },
    {
     "name": "stderr",
     "output_type": "stream",
     "text": [
      "2022-06-23 17:45:16.011826: I tensorflow/core/kernels/data/shuffle_dataset_op.cc:228] Shuffle buffer filled.\n"
     ]
    },
    {
     "name": "stdout",
     "output_type": "stream",
     "text": [
      "24652/24652 [==============================] - 110s 4ms/step - loss: -6.7472 - accuracy: 0.0735 - val_loss: -3.6252 - val_accuracy: 0.0745\n",
      "Epoch 21/50\n",
      "24652/24652 [==============================] - 106s 4ms/step - loss: -7.5995 - accuracy: 0.0735 - val_loss: -4.0113 - val_accuracy: 0.0745\n",
      "Epoch 22/50\n",
      "24652/24652 [==============================] - 108s 4ms/step - loss: -8.1376 - accuracy: 0.0735 - val_loss: -4.3906 - val_accuracy: 0.0745\n",
      "Epoch 23/50\n"
     ]
    },
    {
     "name": "stderr",
     "output_type": "stream",
     "text": [
      "2022-06-23 17:51:47.203066: I tensorflow/core/kernels/data/shuffle_dataset_op.cc:175] Filling up shuffle buffer (this may take a while): 283410 of 788842\n"
     ]
    },
    {
     "name": "stdout",
     "output_type": "stream",
     "text": [
      "   53/24652 [..............................] - ETA: 1:12 - loss: -4.9139 - accuracy: 0.0737 "
     ]
    },
    {
     "name": "stderr",
     "output_type": "stream",
     "text": [
      "2022-06-23 17:51:50.759685: I tensorflow/core/kernels/data/shuffle_dataset_op.cc:228] Shuffle buffer filled.\n"
     ]
    },
    {
     "name": "stdout",
     "output_type": "stream",
     "text": [
      "24652/24652 [==============================] - 109s 4ms/step - loss: -9.2521 - accuracy: 0.0735 - val_loss: -4.8052 - val_accuracy: 0.0745\n",
      "Epoch 24/50\n"
     ]
    },
    {
     "name": "stderr",
     "output_type": "stream",
     "text": [
      "2022-06-23 17:54:09.108776: I tensorflow/core/kernels/data/shuffle_dataset_op.cc:175] Filling up shuffle buffer (this may take a while): 195545 of 788842\n"
     ]
    },
    {
     "name": "stdout",
     "output_type": "stream",
     "text": [
      "   50/24652 [..............................] - ETA: 1:18 - loss: 16.1461 - accuracy: 0.0712"
     ]
    },
    {
     "name": "stderr",
     "output_type": "stream",
     "text": [
      "2022-06-23 17:54:13.836783: I tensorflow/core/kernels/data/shuffle_dataset_op.cc:228] Shuffle buffer filled.\n"
     ]
    },
    {
     "name": "stdout",
     "output_type": "stream",
     "text": [
      "24652/24652 [==============================] - 136s 5ms/step - loss: -10.0929 - accuracy: 0.0735 - val_loss: -5.2367 - val_accuracy: 0.0745\n",
      "Epoch 25/50\n",
      "24652/24652 [==============================] - 108s 4ms/step - loss: -10.8583 - accuracy: 0.0735 - val_loss: -5.6902 - val_accuracy: 0.0745\n",
      "Epoch 26/50\n",
      "24652/24652 [==============================] - 106s 4ms/step - loss: -11.8259 - accuracy: 0.0735 - val_loss: -6.1633 - val_accuracy: 0.0745\n",
      "Epoch 27/50\n",
      "24652/24652 [==============================] - 103s 4ms/step - loss: -12.4314 - accuracy: 0.0735 - val_loss: -6.6385 - val_accuracy: 0.0745\n",
      "Epoch 28/50\n"
     ]
    },
    {
     "name": "stderr",
     "output_type": "stream",
     "text": [
      "2022-06-23 18:02:56.767175: I tensorflow/core/kernels/data/shuffle_dataset_op.cc:175] Filling up shuffle buffer (this may take a while): 460757 of 788842\n"
     ]
    },
    {
     "name": "stdout",
     "output_type": "stream",
     "text": [
      "   41/24652 [..............................] - ETA: 1:34 - loss: -26.0010 - accuracy: 0.0640"
     ]
    },
    {
     "name": "stderr",
     "output_type": "stream",
     "text": [
      "2022-06-23 18:02:59.766246: I tensorflow/core/kernels/data/shuffle_dataset_op.cc:228] Shuffle buffer filled.\n"
     ]
    },
    {
     "name": "stdout",
     "output_type": "stream",
     "text": [
      "24652/24652 [==============================] - 114s 4ms/step - loss: -13.8780 - accuracy: 0.0735 - val_loss: -7.1337 - val_accuracy: 0.0745\n",
      "Epoch 29/50\n"
     ]
    },
    {
     "name": "stderr",
     "output_type": "stream",
     "text": [
      "2022-06-23 18:05:20.353426: I tensorflow/core/kernels/data/shuffle_dataset_op.cc:175] Filling up shuffle buffer (this may take a while): 179186 of 788842\n"
     ]
    },
    {
     "name": "stdout",
     "output_type": "stream",
     "text": [
      "   45/24652 [..............................] - ETA: 1:26 - loss: -33.0509 - accuracy: 0.0625"
     ]
    },
    {
     "name": "stderr",
     "output_type": "stream",
     "text": [
      "2022-06-23 18:05:27.401518: I tensorflow/core/kernels/data/shuffle_dataset_op.cc:228] Shuffle buffer filled.\n"
     ]
    },
    {
     "name": "stdout",
     "output_type": "stream",
     "text": [
      "24652/24652 [==============================] - 116s 4ms/step - loss: -14.3909 - accuracy: 0.0734 - val_loss: -7.6784 - val_accuracy: 0.0745\n",
      "Epoch 30/50\n"
     ]
    },
    {
     "name": "stderr",
     "output_type": "stream",
     "text": [
      "2022-06-23 18:07:42.984000: I tensorflow/core/kernels/data/shuffle_dataset_op.cc:175] Filling up shuffle buffer (this may take a while): 169490 of 788842\n"
     ]
    },
    {
     "name": "stdout",
     "output_type": "stream",
     "text": [
      "   43/24652 [..............................] - ETA: 1:31 - loss: -1.6991 - accuracy: 0.0669 "
     ]
    },
    {
     "name": "stderr",
     "output_type": "stream",
     "text": [
      "2022-06-23 18:07:49.853807: I tensorflow/core/kernels/data/shuffle_dataset_op.cc:228] Shuffle buffer filled.\n"
     ]
    },
    {
     "name": "stdout",
     "output_type": "stream",
     "text": [
      "24652/24652 [==============================] - 130s 4ms/step - loss: -15.6047 - accuracy: 0.0735 - val_loss: -8.2060 - val_accuracy: 0.0745\n",
      "Epoch 31/50\n",
      "24652/24652 [==============================] - 106s 4ms/step - loss: -16.9986 - accuracy: 0.0735 - val_loss: -8.7647 - val_accuracy: 0.0745\n",
      "Epoch 32/50\n"
     ]
    },
    {
     "name": "stderr",
     "output_type": "stream",
     "text": [
      "2022-06-23 18:12:24.397641: I tensorflow/core/kernels/data/shuffle_dataset_op.cc:175] Filling up shuffle buffer (this may take a while): 735129 of 788842\n"
     ]
    },
    {
     "name": "stdout",
     "output_type": "stream",
     "text": [
      "   55/24652 [..............................] - ETA: 1:11 - loss: -6.4291 - accuracy: 0.0705 "
     ]
    },
    {
     "name": "stderr",
     "output_type": "stream",
     "text": [
      "2022-06-23 18:12:24.763276: I tensorflow/core/kernels/data/shuffle_dataset_op.cc:228] Shuffle buffer filled.\n"
     ]
    },
    {
     "name": "stdout",
     "output_type": "stream",
     "text": [
      "24652/24652 [==============================] - 118s 4ms/step - loss: -17.8720 - accuracy: 0.0735 - val_loss: -9.3215 - val_accuracy: 0.0745\n",
      "Epoch 33/50\n",
      "24652/24652 [==============================] - 111s 4ms/step - loss: -19.3519 - accuracy: 0.0735 - val_loss: -9.9475 - val_accuracy: 0.0745\n",
      "Epoch 34/50\n",
      "24652/24652 [==============================] - 110s 4ms/step - loss: -20.4843 - accuracy: 0.0735 - val_loss: -10.5423 - val_accuracy: 0.0745\n",
      "Epoch 35/50\n"
     ]
    },
    {
     "name": "stderr",
     "output_type": "stream",
     "text": [
      "2022-06-23 18:18:26.947238: I tensorflow/core/kernels/data/shuffle_dataset_op.cc:175] Filling up shuffle buffer (this may take a while): 460656 of 788842\n"
     ]
    },
    {
     "name": "stdout",
     "output_type": "stream",
     "text": [
      "   44/24652 [..............................] - ETA: 1:29 - loss: -27.5228 - accuracy: 0.0710"
     ]
    },
    {
     "name": "stderr",
     "output_type": "stream",
     "text": [
      "2022-06-23 18:18:29.631506: I tensorflow/core/kernels/data/shuffle_dataset_op.cc:228] Shuffle buffer filled.\n"
     ]
    },
    {
     "name": "stdout",
     "output_type": "stream",
     "text": [
      "24652/24652 [==============================] - 117s 4ms/step - loss: -21.4778 - accuracy: 0.0735 - val_loss: -11.1786 - val_accuracy: 0.0745\n",
      "Epoch 36/50\n"
     ]
    },
    {
     "name": "stderr",
     "output_type": "stream",
     "text": [
      "2022-06-23 18:20:48.853494: I tensorflow/core/kernels/data/shuffle_dataset_op.cc:175] Filling up shuffle buffer (this may take a while): 163959 of 788842\n"
     ]
    },
    {
     "name": "stdout",
     "output_type": "stream",
     "text": [
      "   44/24652 [..............................] - ETA: 1:28 - loss: -2.5455 - accuracy: 0.0810"
     ]
    },
    {
     "name": "stderr",
     "output_type": "stream",
     "text": [
      "2022-06-23 18:20:53.913622: I tensorflow/core/kernels/data/shuffle_dataset_op.cc:228] Shuffle buffer filled.\n"
     ]
    },
    {
     "name": "stdout",
     "output_type": "stream",
     "text": [
      "24652/24652 [==============================] - 134s 5ms/step - loss: -23.4970 - accuracy: 0.0735 - val_loss: -11.8319 - val_accuracy: 0.0745\n",
      "Epoch 37/50\n",
      "24652/24652 [==============================] - 108s 4ms/step - loss: -24.2395 - accuracy: 0.0735 - val_loss: -12.4845 - val_accuracy: 0.0745\n",
      "Epoch 38/50\n",
      "24652/24652 [==============================] - 116s 4ms/step - loss: -25.3399 - accuracy: 0.0735 - val_loss: -13.2002 - val_accuracy: 0.0745\n",
      "Epoch 39/50\n",
      "24652/24652 [==============================] - 112s 4ms/step - loss: -26.7986 - accuracy: 0.0735 - val_loss: -13.8985 - val_accuracy: 0.0745\n",
      "Epoch 40/50\n"
     ]
    },
    {
     "name": "stderr",
     "output_type": "stream",
     "text": [
      "2022-06-23 18:29:12.944658: I tensorflow/core/kernels/data/shuffle_dataset_op.cc:175] Filling up shuffle buffer (this may take a while): 730261 of 788842\n"
     ]
    },
    {
     "name": "stdout",
     "output_type": "stream",
     "text": [
      "   34/24652 [..............................] - ETA: 1:58 - loss: -24.5542 - accuracy: 0.0781"
     ]
    },
    {
     "name": "stderr",
     "output_type": "stream",
     "text": [
      "2022-06-23 18:29:13.356450: I tensorflow/core/kernels/data/shuffle_dataset_op.cc:228] Shuffle buffer filled.\n"
     ]
    },
    {
     "name": "stdout",
     "output_type": "stream",
     "text": [
      "24652/24652 [==============================] - 120s 4ms/step - loss: -28.4072 - accuracy: 0.0734 - val_loss: -14.6398 - val_accuracy: 0.0745\n",
      "Epoch 41/50\n"
     ]
    },
    {
     "name": "stderr",
     "output_type": "stream",
     "text": [
      "2022-06-23 18:31:34.851384: I tensorflow/core/kernels/data/shuffle_dataset_op.cc:175] Filling up shuffle buffer (this may take a while): 182310 of 788842\n"
     ]
    },
    {
     "name": "stdout",
     "output_type": "stream",
     "text": [
      "   40/24652 [..............................] - ETA: 1:40 - loss: -89.2583 - accuracy: 0.0719"
     ]
    },
    {
     "name": "stderr",
     "output_type": "stream",
     "text": [
      "2022-06-23 18:31:39.773923: I tensorflow/core/kernels/data/shuffle_dataset_op.cc:228] Shuffle buffer filled.\n"
     ]
    },
    {
     "name": "stdout",
     "output_type": "stream",
     "text": [
      "24652/24652 [==============================] - 126s 5ms/step - loss: -30.1106 - accuracy: 0.0735 - val_loss: -15.3808 - val_accuracy: 0.0745\n",
      "Epoch 42/50\n"
     ]
    },
    {
     "name": "stderr",
     "output_type": "stream",
     "text": [
      "2022-06-23 18:33:56.758449: I tensorflow/core/kernels/data/shuffle_dataset_op.cc:175] Filling up shuffle buffer (this may take a while): 161077 of 788842\n"
     ]
    },
    {
     "name": "stdout",
     "output_type": "stream",
     "text": [
      "   40/24652 [..............................] - ETA: 1:39 - loss: 55.6531 - accuracy: 0.0594"
     ]
    },
    {
     "name": "stderr",
     "output_type": "stream",
     "text": [
      "2022-06-23 18:34:02.606617: I tensorflow/core/kernels/data/shuffle_dataset_op.cc:228] Shuffle buffer filled.\n"
     ]
    },
    {
     "name": "stdout",
     "output_type": "stream",
     "text": [
      "24652/24652 [==============================] - 133s 5ms/step - loss: -30.8051 - accuracy: 0.0735 - val_loss: -16.1464 - val_accuracy: 0.0745\n",
      "Epoch 43/50\n",
      "24652/24652 [==============================] - 116s 4ms/step - loss: -31.7262 - accuracy: 0.0735 - val_loss: -16.8978 - val_accuracy: 0.0745\n",
      "Epoch 44/50\n"
     ]
    },
    {
     "name": "stderr",
     "output_type": "stream",
     "text": [
      "2022-06-23 18:38:31.387817: I tensorflow/core/kernels/data/shuffle_dataset_op.cc:175] Filling up shuffle buffer (this may take a while): 588862 of 788842\n"
     ]
    },
    {
     "name": "stdout",
     "output_type": "stream",
     "text": [
      "   32/24652 [..............................] - ETA: 2:09 - loss: 56.2304 - accuracy: 0.0801"
     ]
    },
    {
     "name": "stderr",
     "output_type": "stream",
     "text": [
      "2022-06-23 18:38:32.838405: I tensorflow/core/kernels/data/shuffle_dataset_op.cc:228] Shuffle buffer filled.\n"
     ]
    },
    {
     "name": "stdout",
     "output_type": "stream",
     "text": [
      "24652/24652 [==============================] - 122s 4ms/step - loss: -33.6143 - accuracy: 0.0735 - val_loss: -17.6829 - val_accuracy: 0.0745\n",
      "Epoch 45/50\n"
     ]
    },
    {
     "name": "stderr",
     "output_type": "stream",
     "text": [
      "2022-06-23 18:40:33.323319: I tensorflow/core/kernels/data/shuffle_dataset_op.cc:175] Filling up shuffle buffer (this may take a while): 537846 of 788842\n"
     ]
    },
    {
     "name": "stdout",
     "output_type": "stream",
     "text": [
      "   44/24652 [..............................] - ETA: 1:26 - loss: 43.6406 - accuracy: 0.0703 "
     ]
    },
    {
     "name": "stderr",
     "output_type": "stream",
     "text": [
      "2022-06-23 18:40:36.795853: I tensorflow/core/kernels/data/shuffle_dataset_op.cc:228] Shuffle buffer filled.\n"
     ]
    },
    {
     "name": "stdout",
     "output_type": "stream",
     "text": [
      "24652/24652 [==============================] - 123s 4ms/step - loss: -36.4758 - accuracy: 0.0735 - val_loss: -18.4788 - val_accuracy: 0.0745\n",
      "Epoch 46/50\n",
      "   28/24652 [..............................] - ETA: 1:32 - loss: -75.6628 - accuracy: 0.0770"
     ]
    },
    {
     "name": "stderr",
     "output_type": "stream",
     "text": [
      "2022-06-23 18:42:35.889116: I tensorflow/core/kernels/data/shuffle_dataset_op.cc:175] Filling up shuffle buffer (this may take a while): 776840 of 788842\n",
      "2022-06-23 18:42:35.967182: I tensorflow/core/kernels/data/shuffle_dataset_op.cc:228] Shuffle buffer filled.\n"
     ]
    },
    {
     "name": "stdout",
     "output_type": "stream",
     "text": [
      "24652/24652 [==============================] - 120s 4ms/step - loss: -38.2954 - accuracy: 0.0735 - val_loss: -19.3581 - val_accuracy: 0.0745\n",
      "Epoch 47/50\n"
     ]
    },
    {
     "name": "stderr",
     "output_type": "stream",
     "text": [
      "2022-06-23 18:44:36.253397: I tensorflow/core/kernels/data/shuffle_dataset_op.cc:175] Filling up shuffle buffer (this may take a while): 232016 of 788842\n"
     ]
    },
    {
     "name": "stdout",
     "output_type": "stream",
     "text": [
      "   45/24652 [..............................] - ETA: 1:27 - loss: -57.3777 - accuracy: 0.0819"
     ]
    },
    {
     "name": "stderr",
     "output_type": "stream",
     "text": [
      "2022-06-23 18:44:40.817647: I tensorflow/core/kernels/data/shuffle_dataset_op.cc:228] Shuffle buffer filled.\n"
     ]
    },
    {
     "name": "stdout",
     "output_type": "stream",
     "text": [
      "24652/24652 [==============================] - 123s 4ms/step - loss: -39.8725 - accuracy: 0.0735 - val_loss: -20.2116 - val_accuracy: 0.0745\n",
      "Epoch 48/50\n",
      "24652/24652 [==============================] - 115s 4ms/step - loss: -42.2531 - accuracy: 0.0735 - val_loss: -21.1365 - val_accuracy: 0.0745\n",
      "Epoch 49/50\n",
      "    1/24652 [..............................] - ETA: 69:50:23 - loss: 218.6511 - accuracy: 0.1562"
     ]
    },
    {
     "name": "stderr",
     "output_type": "stream",
     "text": [
      "2022-06-23 18:48:53.029061: I tensorflow/core/kernels/data/shuffle_dataset_op.cc:175] Filling up shuffle buffer (this may take a while): 759150 of 788842\n",
      "2022-06-23 18:48:53.223670: I tensorflow/core/kernels/data/shuffle_dataset_op.cc:228] Shuffle buffer filled.\n"
     ]
    },
    {
     "name": "stdout",
     "output_type": "stream",
     "text": [
      "24652/24652 [==============================] - 118s 4ms/step - loss: -43.4258 - accuracy: 0.0735 - val_loss: -22.0131 - val_accuracy: 0.0745\n",
      "Epoch 50/50\n"
     ]
    },
    {
     "name": "stderr",
     "output_type": "stream",
     "text": [
      "2022-06-23 18:51:14.935381: I tensorflow/core/kernels/data/shuffle_dataset_op.cc:175] Filling up shuffle buffer (this may take a while): 216671 of 788842\n"
     ]
    },
    {
     "name": "stdout",
     "output_type": "stream",
     "text": [
      "   44/24652 [..............................] - ETA: 1:29 - loss: -71.1671 - accuracy: 0.0696 "
     ]
    },
    {
     "name": "stderr",
     "output_type": "stream",
     "text": [
      "2022-06-23 18:51:19.345326: I tensorflow/core/kernels/data/shuffle_dataset_op.cc:228] Shuffle buffer filled.\n"
     ]
    },
    {
     "name": "stdout",
     "output_type": "stream",
     "text": [
      "24652/24652 [==============================] - 119s 4ms/step - loss: -44.6121 - accuracy: 0.0735 - val_loss: -22.9169 - val_accuracy: 0.0745\n"
     ]
    },
    {
     "data": {
      "text/plain": [
       "<keras.callbacks.History at 0x7f4a9d49be90>"
      ]
     },
     "execution_count": 31,
     "metadata": {},
     "output_type": "execute_result"
    }
   ],
   "source": [
    "model.fit(train_ds, epochs=50, validation_data=val_ds)"
   ]
  },
  {
   "cell_type": "code",
   "execution_count": 32,
   "id": "a35e6f5c",
   "metadata": {
    "execution": {
     "iopub.execute_input": "2022-06-23T18:53:36.235804Z",
     "iopub.status.busy": "2022-06-23T18:53:36.235315Z",
     "iopub.status.idle": "2022-06-23T18:53:39.250032Z",
     "shell.execute_reply": "2022-06-23T18:53:39.248843Z"
    },
    "papermill": {
     "duration": 7.916978,
     "end_time": "2022-06-23T18:53:39.253187",
     "exception": false,
     "start_time": "2022-06-23T18:53:31.336209",
     "status": "completed"
    },
    "tags": []
   },
   "outputs": [
    {
     "name": "stderr",
     "output_type": "stream",
     "text": [
      "2022-06-23 18:53:36.938650: W tensorflow/python/util/util.cc:348] Sets are not currently considered sequences, but this may change in the future, so consider avoiding using them.\n"
     ]
    }
   ],
   "source": [
    "# Save model\n",
    "model.save(\"dnn_1.tf\")"
   ]
  },
  {
   "cell_type": "markdown",
   "id": "f93f4ccd",
   "metadata": {
    "papermill": {
     "duration": 4.554501,
     "end_time": "2022-06-23T18:53:48.321735",
     "exception": false,
     "start_time": "2022-06-23T18:53:43.767234",
     "status": "completed"
    },
    "tags": []
   },
   "source": [
    "# Submission\n"
   ]
  },
  {
   "cell_type": "code",
   "execution_count": 33,
   "id": "d41639f8",
   "metadata": {
    "execution": {
     "iopub.execute_input": "2022-06-23T18:53:57.536870Z",
     "iopub.status.busy": "2022-06-23T18:53:57.536495Z",
     "iopub.status.idle": "2022-06-23T18:53:57.541431Z",
     "shell.execute_reply": "2022-06-23T18:53:57.540489Z"
    },
    "papermill": {
     "duration": 4.658717,
     "end_time": "2022-06-23T18:53:57.543339",
     "exception": false,
     "start_time": "2022-06-23T18:53:52.884622",
     "status": "completed"
    },
    "tags": []
   },
   "outputs": [],
   "source": [
    "# import jpx_tokyo_market_prediction\n",
    "\n",
    "\n",
    "# # Make predictions and submission\n",
    "# env = jpx_tokyo_market_prediction.make_env()   # initialize the environment\n",
    "# iter_test = env.iter_test()    # an iterator which loops over the test files\n",
    "# for (prices, options, financials, trades, secondary_prices, sample_prediction) in iter_test:\n",
    "#     prices = prices.sort_values('SecuritiesCode')\n",
    "#     prices = get_features(prices)\n",
    "#     prices = prices.replace((np.inf, -np.inf, np.nan), 0).reset_index(drop=True)\n",
    "#     prices = prices.fillna(0)\n",
    "#     test_ds = dataframe_to_dataset_test(prices)\n",
    "#     sample_prediction['target_pred'] = best_model.predict(test_ds)\n",
    "#     sample_prediction = sample_prediction.sort_values(by=\"target_pred\", ascending=False)\n",
    "#     sample_prediction['Rank'] = np.arange(2000)\n",
    "#     sample_prediction = sample_prediction.sort_values(by=\"SecuritiesCode\", ascending=True)\n",
    "#     sample_prediction.drop(['target_pred'], axis=1, inplace=True)\n",
    "#     display(sample_prediction)\n",
    "#     env.predict(sample_prediction)   # register your predictions"
   ]
  },
  {
   "cell_type": "code",
   "execution_count": null,
   "id": "7b6e3e6e",
   "metadata": {
    "papermill": {
     "duration": 4.583363,
     "end_time": "2022-06-23T18:54:06.602122",
     "exception": false,
     "start_time": "2022-06-23T18:54:02.018759",
     "status": "completed"
    },
    "tags": []
   },
   "outputs": [],
   "source": []
  },
  {
   "cell_type": "code",
   "execution_count": null,
   "id": "645d8b68",
   "metadata": {
    "papermill": {
     "duration": 4.679994,
     "end_time": "2022-06-23T18:54:15.911419",
     "exception": false,
     "start_time": "2022-06-23T18:54:11.231425",
     "status": "completed"
    },
    "tags": []
   },
   "outputs": [],
   "source": []
  }
 ],
 "metadata": {
  "kernelspec": {
   "display_name": "Python 3",
   "language": "python",
   "name": "python3"
  },
  "language_info": {
   "codemirror_mode": {
    "name": "ipython",
    "version": 3
   },
   "file_extension": ".py",
   "mimetype": "text/x-python",
   "name": "python",
   "nbconvert_exporter": "python",
   "pygments_lexer": "ipython3",
   "version": "3.7.12"
  },
  "papermill": {
   "default_parameters": {},
   "duration": 6968.891494,
   "end_time": "2022-06-23T18:54:25.350712",
   "environment_variables": {},
   "exception": null,
   "input_path": "__notebook__.ipynb",
   "output_path": "__notebook__.ipynb",
   "parameters": {},
   "start_time": "2022-06-23T16:58:16.459218",
   "version": "2.3.4"
  }
 },
 "nbformat": 4,
 "nbformat_minor": 5
}
