{
 "cells": [
  {
   "cell_type": "code",
   "execution_count": 1,
   "id": "2a58a178",
   "metadata": {
    "_cell_guid": "b1076dfc-b9ad-4769-8c92-a6c4dae69d19",
    "_uuid": "8f2839f25d086af736a60e9eeb907d3b93b6e0e5",
    "execution": {
     "iopub.execute_input": "2022-06-23T02:55:32.641378Z",
     "iopub.status.busy": "2022-06-23T02:55:32.640697Z",
     "iopub.status.idle": "2022-06-23T02:55:32.668409Z",
     "shell.execute_reply": "2022-06-23T02:55:32.667664Z"
    },
    "papermill": {
     "duration": 0.041372,
     "end_time": "2022-06-23T02:55:32.671000",
     "exception": false,
     "start_time": "2022-06-23T02:55:32.629628",
     "status": "completed"
    },
    "tags": []
   },
   "outputs": [
    {
     "name": "stdout",
     "output_type": "stream",
     "text": [
      "/kaggle/input/jpx-tokyo-stock-exchange-prediction/stock_list.csv\n",
      "/kaggle/input/jpx-tokyo-stock-exchange-prediction/example_test_files/sample_submission.csv\n",
      "/kaggle/input/jpx-tokyo-stock-exchange-prediction/example_test_files/options.csv\n",
      "/kaggle/input/jpx-tokyo-stock-exchange-prediction/example_test_files/financials.csv\n",
      "/kaggle/input/jpx-tokyo-stock-exchange-prediction/example_test_files/secondary_stock_prices.csv\n",
      "/kaggle/input/jpx-tokyo-stock-exchange-prediction/example_test_files/trades.csv\n",
      "/kaggle/input/jpx-tokyo-stock-exchange-prediction/example_test_files/stock_prices.csv\n",
      "/kaggle/input/jpx-tokyo-stock-exchange-prediction/jpx_tokyo_market_prediction/competition.cpython-37m-x86_64-linux-gnu.so\n",
      "/kaggle/input/jpx-tokyo-stock-exchange-prediction/jpx_tokyo_market_prediction/__init__.py\n",
      "/kaggle/input/jpx-tokyo-stock-exchange-prediction/data_specifications/stock_fin_spec.csv\n",
      "/kaggle/input/jpx-tokyo-stock-exchange-prediction/data_specifications/trades_spec.csv\n",
      "/kaggle/input/jpx-tokyo-stock-exchange-prediction/data_specifications/stock_price_spec.csv\n",
      "/kaggle/input/jpx-tokyo-stock-exchange-prediction/data_specifications/options_spec.csv\n",
      "/kaggle/input/jpx-tokyo-stock-exchange-prediction/data_specifications/stock_list_spec.csv\n",
      "/kaggle/input/jpx-tokyo-stock-exchange-prediction/train_files/options.csv\n",
      "/kaggle/input/jpx-tokyo-stock-exchange-prediction/train_files/financials.csv\n",
      "/kaggle/input/jpx-tokyo-stock-exchange-prediction/train_files/secondary_stock_prices.csv\n",
      "/kaggle/input/jpx-tokyo-stock-exchange-prediction/train_files/trades.csv\n",
      "/kaggle/input/jpx-tokyo-stock-exchange-prediction/train_files/stock_prices.csv\n",
      "/kaggle/input/jpx-tokyo-stock-exchange-prediction/supplemental_files/options.csv\n",
      "/kaggle/input/jpx-tokyo-stock-exchange-prediction/supplemental_files/financials.csv\n",
      "/kaggle/input/jpx-tokyo-stock-exchange-prediction/supplemental_files/secondary_stock_prices.csv\n",
      "/kaggle/input/jpx-tokyo-stock-exchange-prediction/supplemental_files/trades.csv\n",
      "/kaggle/input/jpx-tokyo-stock-exchange-prediction/supplemental_files/stock_prices.csv\n"
     ]
    }
   ],
   "source": [
    "# This Python 3 environment comes with many helpful analytics libraries installed\n",
    "# It is defined by the kaggle/python Docker image: https://github.com/kaggle/docker-python\n",
    "# For example, here's several helpful packages to load\n",
    "\n",
    "import numpy as np # linear algebra\n",
    "import pandas as pd # data processing, CSV file I/O (e.g. pd.read_csv)\n",
    "\n",
    "# Input data files are available in the read-only \"../input/\" directory\n",
    "# For example, running this (by clicking run or pressing Shift+Enter) will list all files under the input directory\n",
    "\n",
    "import os\n",
    "for dirname, _, filenames in os.walk('/kaggle/input'):\n",
    "    for filename in filenames:\n",
    "        print(os.path.join(dirname, filename))\n",
    "\n"
   ]
  },
  {
   "cell_type": "markdown",
   "id": "4acacb59",
   "metadata": {
    "papermill": {
     "duration": 0.007529,
     "end_time": "2022-06-23T02:55:32.686655",
     "exception": false,
     "start_time": "2022-06-23T02:55:32.679126",
     "status": "completed"
    },
    "tags": []
   },
   "source": [
    "# Here starts my Baseline\n",
    "\n",
    "Ideas:\n",
    "\n",
    "1  - Feature engeneering- Basic and effective;\n",
    "\n",
    "2 - Gradient Boosting Regressions;\n",
    "\n",
    "3 - Neuronets Regressions; and\n",
    "\n",
    "4 - Submission.\n",
    "\n"
   ]
  },
  {
   "cell_type": "markdown",
   "id": "ede3a3c0",
   "metadata": {
    "papermill": {
     "duration": 0.007487,
     "end_time": "2022-06-23T02:55:32.701892",
     "exception": false,
     "start_time": "2022-06-23T02:55:32.694405",
     "status": "completed"
    },
    "tags": []
   },
   "source": [
    "## 1 Feature Engeneering"
   ]
  },
  {
   "cell_type": "code",
   "execution_count": 2,
   "id": "7ea8d21c",
   "metadata": {
    "execution": {
     "iopub.execute_input": "2022-06-23T02:55:32.719241Z",
     "iopub.status.busy": "2022-06-23T02:55:32.718823Z",
     "iopub.status.idle": "2022-06-23T02:55:32.723509Z",
     "shell.execute_reply": "2022-06-23T02:55:32.722732Z"
    },
    "papermill": {
     "duration": 0.015748,
     "end_time": "2022-06-23T02:55:32.725400",
     "exception": false,
     "start_time": "2022-06-23T02:55:32.709652",
     "status": "completed"
    },
    "tags": []
   },
   "outputs": [],
   "source": [
    "\n",
    "def concat_df(df1, df2):\n",
    "    df1 = pd.concat([df1, df2],\n",
    "                    ignore_index=True, sort=False\n",
    "                    ).drop_duplicates([\"RowId\"], keep=\"first\")\n",
    "    return df1"
   ]
  },
  {
   "cell_type": "code",
   "execution_count": 3,
   "id": "454e8ad1",
   "metadata": {
    "execution": {
     "iopub.execute_input": "2022-06-23T02:55:32.743218Z",
     "iopub.status.busy": "2022-06-23T02:55:32.742523Z",
     "iopub.status.idle": "2022-06-23T02:55:32.746216Z",
     "shell.execute_reply": "2022-06-23T02:55:32.745606Z"
    },
    "papermill": {
     "duration": 0.014625,
     "end_time": "2022-06-23T02:55:32.747890",
     "exception": false,
     "start_time": "2022-06-23T02:55:32.733265",
     "status": "completed"
    },
    "tags": []
   },
   "outputs": [],
   "source": [
    "import gc"
   ]
  },
  {
   "cell_type": "code",
   "execution_count": 4,
   "id": "abca32ec",
   "metadata": {
    "execution": {
     "iopub.execute_input": "2022-06-23T02:55:32.765291Z",
     "iopub.status.busy": "2022-06-23T02:55:32.764667Z",
     "iopub.status.idle": "2022-06-23T02:55:38.929699Z",
     "shell.execute_reply": "2022-06-23T02:55:38.928364Z"
    },
    "papermill": {
     "duration": 6.176698,
     "end_time": "2022-06-23T02:55:38.932342",
     "exception": false,
     "start_time": "2022-06-23T02:55:32.755644",
     "status": "completed"
    },
    "tags": []
   },
   "outputs": [
    {
     "name": "stdout",
     "output_type": "stream",
     "text": [
      "<class 'pandas.core.frame.DataFrame'>\n",
      "Int64Index: 2078531 entries, 0 to 2078530\n",
      "Data columns (total 12 columns):\n",
      " #   Column            Non-Null Count    Dtype  \n",
      "---  ------            --------------    -----  \n",
      " 0   RowId             2078531 non-null  object \n",
      " 1   Date              2078531 non-null  object \n",
      " 2   SecuritiesCode    2078531 non-null  int16  \n",
      " 3   Open              2071589 non-null  float16\n",
      " 4   High              2071589 non-null  float16\n",
      " 5   Low               2071589 non-null  float16\n",
      " 6   Close             2071589 non-null  float16\n",
      " 7   Volume            2078531 non-null  int8   \n",
      " 8   AdjustmentFactor  2078531 non-null  float16\n",
      " 9   ExpectedDividend  16926 non-null    float16\n",
      " 10  SupervisionFlag   2078531 non-null  bool   \n",
      " 11  Target            2078293 non-null  float16\n",
      "dtypes: bool(1), float16(7), int16(1), int8(1), object(2)\n",
      "memory usage: 83.3+ MB\n"
     ]
    }
   ],
   "source": [
    "# For now... use pandas.... \n",
    "#If too heavy use Cudf\n",
    "\n",
    "# For now... just fix the floats\n",
    "dtypes = {\n",
    "'SecuritiesCode' :     np.int16,\n",
    "'Open'           :     np.float16,\n",
    "'High'           :     np.float16,\n",
    "'Low'            :     np.float16,\n",
    "'Close'          :     np.float16,\n",
    "'Volume'         :       np.int8,\n",
    "'AdjustmentFactor':    np.float16,\n",
    "'ExpectedDividend':    np.float16,\n",
    "'Target'        :      np.float16\n",
    "}\n",
    "path = \"../input/jpx-tokyo-stock-exchange-prediction/\"\n",
    "df_prices = pd.read_csv(f\"{path}train_files/stock_prices.csv\",dtype = dtypes)\n",
    "#prices = pd.read_csv(f\"{path}supplemental_files/stock_prices.csv\",dtype = dtypes)\n",
    "#df_prices = concat_df(df_prices, prices)\n",
    "#prices = pd.read_csv(f\"{path}train_files/secondary_stock_prices.csv\",dtype = dtypes)\n",
    "#df_prices = concat_df(df_prices, prices)\n",
    "#prices = pd.read_csv(f\"{path}supplemental_files/secondary_stock_prices.csv\",dtype = dtypes)\n",
    "#df_prices = concat_df(df_prices, prices)\n",
    "df_prices = df_prices[df_prices.Date<\"2021-06-01\"]\n",
    "df_prices.info(show_counts=True)"
   ]
  },
  {
   "cell_type": "code",
   "execution_count": null,
   "id": "0501f440",
   "metadata": {
    "execution": {
     "iopub.execute_input": "2022-06-23T02:16:07.181059Z",
     "iopub.status.busy": "2022-06-23T02:16:07.180117Z",
     "iopub.status.idle": "2022-06-23T02:16:07.774327Z",
     "shell.execute_reply": "2022-06-23T02:16:07.773002Z",
     "shell.execute_reply.started": "2022-06-23T02:16:07.180982Z"
    },
    "papermill": {
     "duration": 0.007733,
     "end_time": "2022-06-23T02:55:38.948995",
     "exception": false,
     "start_time": "2022-06-23T02:55:38.941262",
     "status": "completed"
    },
    "tags": []
   },
   "outputs": [],
   "source": []
  },
  {
   "cell_type": "code",
   "execution_count": 5,
   "id": "ef4112eb",
   "metadata": {
    "execution": {
     "iopub.execute_input": "2022-06-23T02:55:38.966697Z",
     "iopub.status.busy": "2022-06-23T02:55:38.966300Z",
     "iopub.status.idle": "2022-06-23T02:55:38.970222Z",
     "shell.execute_reply": "2022-06-23T02:55:38.969204Z"
    },
    "papermill": {
     "duration": 0.015028,
     "end_time": "2022-06-23T02:55:38.972025",
     "exception": false,
     "start_time": "2022-06-23T02:55:38.956997",
     "status": "completed"
    },
    "tags": []
   },
   "outputs": [],
   "source": [
    "# def prep_prices(price):\n",
    "#     price.fillna(0,inplace=True)\n",
    "#     return price"
   ]
  },
  {
   "cell_type": "code",
   "execution_count": 6,
   "id": "97ce9ff0",
   "metadata": {
    "execution": {
     "iopub.execute_input": "2022-06-23T02:55:38.989474Z",
     "iopub.status.busy": "2022-06-23T02:55:38.988923Z",
     "iopub.status.idle": "2022-06-23T02:55:38.992652Z",
     "shell.execute_reply": "2022-06-23T02:55:38.991999Z"
    },
    "papermill": {
     "duration": 0.014505,
     "end_time": "2022-06-23T02:55:38.994428",
     "exception": false,
     "start_time": "2022-06-23T02:55:38.979923",
     "status": "completed"
    },
    "tags": []
   },
   "outputs": [],
   "source": [
    "# df_prices = prep_prices(df_prices)\n",
    "# pd.options.display.float_format = '{:,.6g}'.format\n",
    "# df_prices.describe()"
   ]
  },
  {
   "cell_type": "code",
   "execution_count": 7,
   "id": "93d383c6",
   "metadata": {
    "execution": {
     "iopub.execute_input": "2022-06-23T02:55:39.011864Z",
     "iopub.status.busy": "2022-06-23T02:55:39.011468Z",
     "iopub.status.idle": "2022-06-23T02:55:39.015015Z",
     "shell.execute_reply": "2022-06-23T02:55:39.014051Z"
    },
    "papermill": {
     "duration": 0.014479,
     "end_time": "2022-06-23T02:55:39.016718",
     "exception": false,
     "start_time": "2022-06-23T02:55:39.002239",
     "status": "completed"
    },
    "tags": []
   },
   "outputs": [],
   "source": [
    "# # Open stock_list\n",
    "# stock_list = pd.read_csv(\"../input/jpx-tokyo-stock-exchange-prediction/stock_list.csv\")\n",
    "# stock_list"
   ]
  },
  {
   "cell_type": "code",
   "execution_count": 8,
   "id": "dc35761b",
   "metadata": {
    "execution": {
     "iopub.execute_input": "2022-06-23T02:55:39.034828Z",
     "iopub.status.busy": "2022-06-23T02:55:39.034241Z",
     "iopub.status.idle": "2022-06-23T02:55:39.038220Z",
     "shell.execute_reply": "2022-06-23T02:55:39.037555Z"
    },
    "papermill": {
     "duration": 0.014925,
     "end_time": "2022-06-23T02:55:39.039899",
     "exception": false,
     "start_time": "2022-06-23T02:55:39.024974",
     "status": "completed"
    },
    "tags": []
   },
   "outputs": [],
   "source": [
    "# #Match Stocklist to securities code\n",
    "# stock_list = stock_list[['SecuritiesCode','NewMarketSegment','33SectorCode','17SectorCode','Universe0','Section/Products','NewIndexSeriesSize']]\n",
    "# stock_list = stock_list.replace(np.nan,'-')\n",
    "# stock_list['Universe0'] = np.where(stock_list['Universe0'], 1, 0)\n",
    "# stock_list = stock_list.drop_duplicates()\n",
    "# stock_list\n"
   ]
  },
  {
   "cell_type": "code",
   "execution_count": 9,
   "id": "8b4d0630",
   "metadata": {
    "execution": {
     "iopub.execute_input": "2022-06-23T02:55:39.057286Z",
     "iopub.status.busy": "2022-06-23T02:55:39.056655Z",
     "iopub.status.idle": "2022-06-23T02:55:39.061509Z",
     "shell.execute_reply": "2022-06-23T02:55:39.060865Z"
    },
    "papermill": {
     "duration": 0.015628,
     "end_time": "2022-06-23T02:55:39.063277",
     "exception": false,
     "start_time": "2022-06-23T02:55:39.047649",
     "status": "completed"
    },
    "tags": []
   },
   "outputs": [],
   "source": [
    "from datetime import datetime\n",
    "import time\n",
    "\n",
    " # auxiliary function, from datetime to timestamp\n",
    "totimestamp = lambda s: np.int32(time.mktime(datetime.strptime(s, \"%Y-%m-%d\").timetuple()))"
   ]
  },
  {
   "cell_type": "markdown",
   "id": "34194159",
   "metadata": {
    "papermill": {
     "duration": 0.007697,
     "end_time": "2022-06-23T02:55:39.078696",
     "exception": false,
     "start_time": "2022-06-23T02:55:39.070999",
     "status": "completed"
    },
    "tags": []
   },
   "source": [
    "# Data Features\n"
   ]
  },
  {
   "cell_type": "code",
   "execution_count": 10,
   "id": "684db41b",
   "metadata": {
    "execution": {
     "iopub.execute_input": "2022-06-23T02:55:39.096592Z",
     "iopub.status.busy": "2022-06-23T02:55:39.095932Z",
     "iopub.status.idle": "2022-06-23T02:55:39.110096Z",
     "shell.execute_reply": "2022-06-23T02:55:39.109332Z"
    },
    "papermill": {
     "duration": 0.025404,
     "end_time": "2022-06-23T02:55:39.112087",
     "exception": false,
     "start_time": "2022-06-23T02:55:39.086683",
     "status": "completed"
    },
    "tags": []
   },
   "outputs": [],
   "source": [
    "\n",
    "# define function to compute log returns\n",
    "def log_return_feature(series, periods=1):\n",
    "    return np.log(series).diff(periods=periods)\n",
    "\n",
    "\n",
    "# def fill_the_gaps(df):\n",
    "#     new_df = pd.DataFrame(columns= df.columns)\n",
    "#     for i in range(len(df['SecuritiesCode'].unique())):\n",
    "#         new_df = new_df.append(df[df['SecuritiesCode'] == i].reindex(range(df[df['SecuritiesCode'] == i].index[0],df[df['SecuritiesCode'] == i].index[-1]+60,60),method='pad'))\n",
    "#     new_df.fillna(method = 'pad', inplace = True) \n",
    "#     return new_df\n",
    "\n",
    "\n",
    "def rsiFunc(prices, n=14):\n",
    "    deltas = np.diff(prices)\n",
    "    seed = deltas[:n+1]\n",
    "    up = seed[seed>=0].sum()/n\n",
    "    down = -seed[seed<0].sum()/n\n",
    "    rs = up/down\n",
    "    rsi = np.zeros_like(prices)\n",
    "    rsi[:n] = 100. - 100./(1.+rs)\n",
    "\n",
    "    for i in range(n, len(prices)):\n",
    "        delta = deltas[i-1] # cause the diff is 1 shorter\n",
    "\n",
    "        if delta>0:\n",
    "            upval = delta\n",
    "            downval = 0.\n",
    "        else:\n",
    "            upval = 0.\n",
    "            downval = -delta\n",
    "\n",
    "        up = (up*(n-1) + upval)/n\n",
    "        down = (down*(n-1) + downval)/n\n",
    "\n",
    "        rs = up/down\n",
    "        rsi[i] = 100. - 100./(1.+rs)\n",
    "\n",
    "    return rsi\n",
    "\n",
    "\n",
    "\n",
    "def get_features(df):\n",
    "\n",
    "    df['log_return_5'] = log_return_feature(df['Close'],periods=5)\n",
    "    df['log_return'] = log_return_feature(df['Close'],periods=1)\n",
    "\n",
    "    upper_shadow = lambda asset: asset.High - np.maximum(asset.Close,asset.Open)\n",
    "    lower_shadow = lambda asset: np.minimum(asset.Close,asset.Open)- asset.Low\n",
    "\n",
    "    df['upper_shadow'] = upper_shadow(df)\n",
    "    df['lower_shadow'] = lower_shadow(df)\n",
    "    \n",
    "#     df['EMA_21'] = df['Close'].ewm(span=21).mean()\n",
    "    \n",
    "#     df['EMA_55'] = df['Close'].ewm(span=55).mean()\n",
    "    \n",
    "#     df['EMA_315'] = df['Close'].ewm(span=315).mean()\n",
    "    \n",
    "#     df['EMA_825'] = df['Close'].ewm(span=825).mean()\n",
    "    \n",
    "    window = 7\n",
    "    \n",
    "    no_of_std = 2\n",
    "    \n",
    "    df[f'EMA_{window}'] = df['Close'].ewm(span=window).mean()\n",
    "    \n",
    "    df[f'EMA_{window}_std'] = df['Close'].rolling(window=window).std()\n",
    "    \n",
    "#     df[f'EMA_{window}_BB_high'] = df[f'EMA_{window}'] + no_of_std * df[f'EMA_{window}_std']\n",
    "    \n",
    "#     df[f'MA_{window}MA_BB_low'] = df[f'EMA_{window}'] - no_of_std * df[f'EMA_{window}_std']\n",
    "    \n",
    "    window = 5\n",
    "    \n",
    "    df[f'EMA_{window}'] = df['Close'].ewm(span=window).mean()\n",
    "    \n",
    "    df[f'EMA_{window}_std'] = df['Close'].rolling(window=window).std()\n",
    "    \n",
    "#     df[f'EMA_{window}_BB_high'] = df[f'EMA_{window}'] + no_of_std * df[f'EMA_{window}_std']\n",
    "    \n",
    "#     df[f'MA_{window}MA_BB_low'] = df[f'EMA_{window}'] - no_of_std * df[f'EMA_{window}_std']\n",
    "    \n",
    "    df['MACD'] = df['EMA_7'] - df['EMA_5']\n",
    "    \n",
    "    \n",
    "    df['rsi_5'] = rsiFunc(df['Close'].values, 5)\n",
    "    \n",
    "    df['rsi_7'] = rsiFunc(df['Close'].values, 7)\n",
    "    \n",
    "    df['rsi_21'] = rsiFunc(df['Close'].values, 21)\n",
    "    \n",
    "    \n",
    "    \n",
    "    df['VWAP'] = (df['Close'] * df['Volume'])/ df['Volume']\n",
    "\n",
    "\n",
    "\n",
    "\n",
    "    \n",
    "    \n",
    "    #df = pd.concat([df, pd.get_dummies(df['Asset_ID'], prefix= 'Asset_')], axis=1)\n",
    "\n",
    "    return df\n",
    "\n"
   ]
  },
  {
   "cell_type": "code",
   "execution_count": null,
   "id": "175db198",
   "metadata": {
    "papermill": {
     "duration": 0.00737,
     "end_time": "2022-06-23T02:55:39.127316",
     "exception": false,
     "start_time": "2022-06-23T02:55:39.119946",
     "status": "completed"
    },
    "tags": []
   },
   "outputs": [],
   "source": []
  },
  {
   "cell_type": "code",
   "execution_count": 11,
   "id": "09b28b3f",
   "metadata": {
    "execution": {
     "iopub.execute_input": "2022-06-23T02:55:39.144498Z",
     "iopub.status.busy": "2022-06-23T02:55:39.143965Z",
     "iopub.status.idle": "2022-06-23T02:56:07.429714Z",
     "shell.execute_reply": "2022-06-23T02:56:07.429006Z"
    },
    "papermill": {
     "duration": 28.296859,
     "end_time": "2022-06-23T02:56:07.431919",
     "exception": false,
     "start_time": "2022-06-23T02:55:39.135060",
     "status": "completed"
    },
    "tags": []
   },
   "outputs": [
    {
     "name": "stderr",
     "output_type": "stream",
     "text": [
      "/opt/conda/lib/python3.7/site-packages/pandas/core/algorithms.py:1711: RuntimeWarning: invalid value encountered in subtract\n",
      "  out_arr[res_indexer] = op(arr[res_indexer], arr[lag_indexer])\n",
      "/opt/conda/lib/python3.7/site-packages/numpy/lib/function_base.py:1292: RuntimeWarning: invalid value encountered in subtract\n",
      "  a = op(a[slice1], a[slice2])\n"
     ]
    }
   ],
   "source": [
    "df_prices = df_prices.sort_values('SecuritiesCode')\n",
    "\n",
    "df_prices = get_features(df_prices)\n",
    "\n",
    "df_prices = df_prices.replace((np.inf, -np.inf, np.nan), 0).reset_index(drop=True)\n",
    "\n",
    "df_prices = df_prices.fillna(0)"
   ]
  },
  {
   "cell_type": "markdown",
   "id": "19470b47",
   "metadata": {
    "papermill": {
     "duration": 0.007549,
     "end_time": "2022-06-23T02:56:07.447506",
     "exception": false,
     "start_time": "2022-06-23T02:56:07.439957",
     "status": "completed"
    },
    "tags": []
   },
   "source": [
    "## Data Preparation\n",
    "\n"
   ]
  },
  {
   "cell_type": "code",
   "execution_count": 12,
   "id": "584fa306",
   "metadata": {
    "execution": {
     "iopub.execute_input": "2022-06-23T02:56:07.465191Z",
     "iopub.status.busy": "2022-06-23T02:56:07.464418Z",
     "iopub.status.idle": "2022-06-23T02:56:08.478094Z",
     "shell.execute_reply": "2022-06-23T02:56:08.477129Z"
    },
    "papermill": {
     "duration": 1.024961,
     "end_time": "2022-06-23T02:56:08.480443",
     "exception": false,
     "start_time": "2022-06-23T02:56:07.455482",
     "status": "completed"
    },
    "tags": []
   },
   "outputs": [],
   "source": [
    "\n",
    "from sklearn.preprocessing import StandardScaler\n",
    "scaler = StandardScaler()"
   ]
  },
  {
   "cell_type": "code",
   "execution_count": 13,
   "id": "d3245ddc",
   "metadata": {
    "execution": {
     "iopub.execute_input": "2022-06-23T02:56:08.498593Z",
     "iopub.status.busy": "2022-06-23T02:56:08.498205Z",
     "iopub.status.idle": "2022-06-23T02:56:08.503772Z",
     "shell.execute_reply": "2022-06-23T02:56:08.502842Z"
    },
    "papermill": {
     "duration": 0.016565,
     "end_time": "2022-06-23T02:56:08.505482",
     "exception": false,
     "start_time": "2022-06-23T02:56:08.488917",
     "status": "completed"
    },
    "tags": []
   },
   "outputs": [],
   "source": [
    "scaled_features = ['Open', 'High', 'Low', 'Close', 'Volume', 'log_return_5', 'log_return', 'upper_shadow', 'lower_shadow',\n",
    "       'VWAP', 'EMA_7', 'EMA_7_std','EMA_5', 'EMA_5_std', 'MACD', 'rsi_5', 'rsi_7', 'rsi_21']\n",
    "features = [\"SecuritiesCode\",'Open', 'High', 'Low', 'Close', 'Volume', 'log_return_5', 'log_return', 'upper_shadow', 'lower_shadow',\n",
    "       'VWAP', 'EMA_7', 'EMA_7_std','EMA_5', 'EMA_5_std', 'MACD', 'rsi_5', 'rsi_7', 'rsi_21']"
   ]
  },
  {
   "cell_type": "code",
   "execution_count": null,
   "id": "09930871",
   "metadata": {
    "papermill": {
     "duration": 0.00764,
     "end_time": "2022-06-23T02:56:08.521127",
     "exception": false,
     "start_time": "2022-06-23T02:56:08.513487",
     "status": "completed"
    },
    "tags": []
   },
   "outputs": [],
   "source": []
  },
  {
   "cell_type": "code",
   "execution_count": 14,
   "id": "33fadcf9",
   "metadata": {
    "execution": {
     "iopub.execute_input": "2022-06-23T02:56:08.538414Z",
     "iopub.status.busy": "2022-06-23T02:56:08.538019Z",
     "iopub.status.idle": "2022-06-23T02:56:09.755005Z",
     "shell.execute_reply": "2022-06-23T02:56:09.754033Z"
    },
    "papermill": {
     "duration": 1.228296,
     "end_time": "2022-06-23T02:56:09.757312",
     "exception": false,
     "start_time": "2022-06-23T02:56:08.529016",
     "status": "completed"
    },
    "tags": []
   },
   "outputs": [],
   "source": [
    "df_prices[scaled_features] = scaler.fit_transform(df_prices[scaled_features])"
   ]
  },
  {
   "cell_type": "code",
   "execution_count": null,
   "id": "6a3c8892",
   "metadata": {
    "papermill": {
     "duration": 0.007436,
     "end_time": "2022-06-23T02:56:09.772687",
     "exception": false,
     "start_time": "2022-06-23T02:56:09.765251",
     "status": "completed"
    },
    "tags": []
   },
   "outputs": [],
   "source": []
  },
  {
   "cell_type": "markdown",
   "id": "f69a8ca4",
   "metadata": {
    "papermill": {
     "duration": 0.008063,
     "end_time": "2022-06-23T02:56:09.788583",
     "exception": false,
     "start_time": "2022-06-23T02:56:09.780520",
     "status": "completed"
    },
    "tags": []
   },
   "source": [
    "## Data Prep 2\n",
    "\n",
    "From Keras tutorial:\n",
    "https://keras.io/examples/timeseries/timeseries_classification_transformer/"
   ]
  },
  {
   "cell_type": "code",
   "execution_count": null,
   "id": "221996bf",
   "metadata": {
    "papermill": {
     "duration": 0.007731,
     "end_time": "2022-06-23T02:56:09.804235",
     "exception": false,
     "start_time": "2022-06-23T02:56:09.796504",
     "status": "completed"
    },
    "tags": []
   },
   "outputs": [],
   "source": []
  },
  {
   "cell_type": "code",
   "execution_count": 15,
   "id": "24c9ca99",
   "metadata": {
    "execution": {
     "iopub.execute_input": "2022-06-23T02:56:09.822461Z",
     "iopub.status.busy": "2022-06-23T02:56:09.821461Z",
     "iopub.status.idle": "2022-06-23T02:56:10.191528Z",
     "shell.execute_reply": "2022-06-23T02:56:10.190491Z"
    },
    "papermill": {
     "duration": 0.381425,
     "end_time": "2022-06-23T02:56:10.193971",
     "exception": false,
     "start_time": "2022-06-23T02:56:09.812546",
     "status": "completed"
    },
    "tags": []
   },
   "outputs": [],
   "source": [
    "# # Creating endog and exog variables\n",
    "y = df_prices[['Target']]\n",
    "X = df_prices[features]"
   ]
  },
  {
   "cell_type": "code",
   "execution_count": 16,
   "id": "cf1ab849",
   "metadata": {
    "execution": {
     "iopub.execute_input": "2022-06-23T02:56:10.211610Z",
     "iopub.status.busy": "2022-06-23T02:56:10.211120Z",
     "iopub.status.idle": "2022-06-23T02:56:11.027838Z",
     "shell.execute_reply": "2022-06-23T02:56:11.026789Z"
    },
    "papermill": {
     "duration": 0.828172,
     "end_time": "2022-06-23T02:56:11.030213",
     "exception": false,
     "start_time": "2022-06-23T02:56:10.202041",
     "status": "completed"
    },
    "tags": []
   },
   "outputs": [],
   "source": [
    "from sklearn.model_selection import train_test_split\n",
    "x_train, x_test, y_train, y_test = train_test_split(X, y, test_size=0.33, random_state=42)"
   ]
  },
  {
   "cell_type": "code",
   "execution_count": 17,
   "id": "33a7f8f8",
   "metadata": {
    "execution": {
     "iopub.execute_input": "2022-06-23T02:56:11.047953Z",
     "iopub.status.busy": "2022-06-23T02:56:11.047536Z",
     "iopub.status.idle": "2022-06-23T02:56:11.729730Z",
     "shell.execute_reply": "2022-06-23T02:56:11.728406Z"
    },
    "papermill": {
     "duration": 0.693961,
     "end_time": "2022-06-23T02:56:11.732200",
     "exception": false,
     "start_time": "2022-06-23T02:56:11.038239",
     "status": "completed"
    },
    "tags": []
   },
   "outputs": [],
   "source": [
    "x_train = np.asarray(x_train)\n",
    "y_train = np.asarray(y_train)\n",
    "x_test = np.asarray(x_test)\n",
    "y_test = np.asarray(y_test)\n",
    "\n",
    "x_train = x_train.reshape((x_train.shape[0], x_train.shape[1], 1))\n",
    "x_test = x_test.reshape((x_test.shape[0], x_test.shape[1], 1))\n",
    "\n",
    "n_classes = len(np.unique(y_train))\n",
    "\n",
    "idx = np.random.permutation(len(x_train))\n",
    "x_train = x_train[idx]\n",
    "y_train = y_train[idx]\n",
    "\n",
    "y_train[y_train == -1] = 0\n",
    "y_test[y_test == -1] = 0"
   ]
  },
  {
   "cell_type": "code",
   "execution_count": null,
   "id": "8ba4d3e3",
   "metadata": {
    "papermill": {
     "duration": 0.008112,
     "end_time": "2022-06-23T02:56:11.748746",
     "exception": false,
     "start_time": "2022-06-23T02:56:11.740634",
     "status": "completed"
    },
    "tags": []
   },
   "outputs": [],
   "source": []
  },
  {
   "cell_type": "code",
   "execution_count": 18,
   "id": "8e7d83e9",
   "metadata": {
    "execution": {
     "iopub.execute_input": "2022-06-23T02:56:11.766516Z",
     "iopub.status.busy": "2022-06-23T02:56:11.765793Z",
     "iopub.status.idle": "2022-06-23T02:56:11.971666Z",
     "shell.execute_reply": "2022-06-23T02:56:11.970571Z"
    },
    "papermill": {
     "duration": 0.216858,
     "end_time": "2022-06-23T02:56:11.973688",
     "exception": false,
     "start_time": "2022-06-23T02:56:11.756830",
     "status": "completed"
    },
    "tags": []
   },
   "outputs": [
    {
     "data": {
      "text/plain": [
       "21"
      ]
     },
     "execution_count": 18,
     "metadata": {},
     "output_type": "execute_result"
    }
   ],
   "source": [
    "del df_prices\n",
    "gc.collect()"
   ]
  },
  {
   "cell_type": "markdown",
   "id": "2bfca48a",
   "metadata": {
    "papermill": {
     "duration": 0.007903,
     "end_time": "2022-06-23T02:56:11.989789",
     "exception": false,
     "start_time": "2022-06-23T02:56:11.981886",
     "status": "completed"
    },
    "tags": []
   },
   "source": [
    "## Build The Model"
   ]
  },
  {
   "cell_type": "code",
   "execution_count": 19,
   "id": "e0e51711",
   "metadata": {
    "execution": {
     "iopub.execute_input": "2022-06-23T02:56:12.008267Z",
     "iopub.status.busy": "2022-06-23T02:56:12.007897Z",
     "iopub.status.idle": "2022-06-23T02:56:18.799641Z",
     "shell.execute_reply": "2022-06-23T02:56:18.798574Z"
    },
    "papermill": {
     "duration": 6.803678,
     "end_time": "2022-06-23T02:56:18.802188",
     "exception": false,
     "start_time": "2022-06-23T02:56:11.998510",
     "status": "completed"
    },
    "tags": []
   },
   "outputs": [],
   "source": [
    "from tensorflow import keras\n",
    "from tensorflow.keras import layers\n"
   ]
  },
  {
   "cell_type": "code",
   "execution_count": 20,
   "id": "4b43d207",
   "metadata": {
    "execution": {
     "iopub.execute_input": "2022-06-23T02:56:18.820437Z",
     "iopub.status.busy": "2022-06-23T02:56:18.819725Z",
     "iopub.status.idle": "2022-06-23T02:56:18.826769Z",
     "shell.execute_reply": "2022-06-23T02:56:18.825845Z"
    },
    "papermill": {
     "duration": 0.018298,
     "end_time": "2022-06-23T02:56:18.828840",
     "exception": false,
     "start_time": "2022-06-23T02:56:18.810542",
     "status": "completed"
    },
    "tags": []
   },
   "outputs": [],
   "source": [
    "def transformer_encoder(inputs, head_size, num_heads, ff_dim, dropout=0):\n",
    "    # Attention and Normalization\n",
    "    x = layers.MultiHeadAttention(\n",
    "        key_dim=head_size, num_heads=num_heads, dropout=dropout\n",
    "    )(inputs, inputs)\n",
    "    x = layers.Dropout(dropout)(x)\n",
    "    x = layers.LayerNormalization(epsilon=1e-6)(x)\n",
    "    res = x + inputs\n",
    "\n",
    "    # Feed Forward Part\n",
    "    x = layers.Conv1D(filters=ff_dim, kernel_size=1, activation=\"relu\")(res)\n",
    "    x = layers.Dropout(dropout)(x)\n",
    "    x = layers.Conv1D(filters=inputs.shape[-1], kernel_size=1)(x)\n",
    "    x = layers.LayerNormalization(epsilon=1e-6)(x)\n",
    "    return x + res"
   ]
  },
  {
   "cell_type": "code",
   "execution_count": 21,
   "id": "25896b56",
   "metadata": {
    "execution": {
     "iopub.execute_input": "2022-06-23T02:56:18.847691Z",
     "iopub.status.busy": "2022-06-23T02:56:18.846861Z",
     "iopub.status.idle": "2022-06-23T02:56:18.853224Z",
     "shell.execute_reply": "2022-06-23T02:56:18.852477Z"
    },
    "papermill": {
     "duration": 0.01789,
     "end_time": "2022-06-23T02:56:18.855201",
     "exception": false,
     "start_time": "2022-06-23T02:56:18.837311",
     "status": "completed"
    },
    "tags": []
   },
   "outputs": [],
   "source": [
    "def build_model(\n",
    "    input_shape,\n",
    "    head_size,\n",
    "    num_heads,\n",
    "    ff_dim,\n",
    "    num_transformer_blocks,\n",
    "    mlp_units,\n",
    "    dropout=0,\n",
    "    mlp_dropout=0,\n",
    "):\n",
    "    inputs = keras.Input(shape=input_shape)\n",
    "    x = inputs\n",
    "    for _ in range(num_transformer_blocks):\n",
    "        x = transformer_encoder(x, head_size, num_heads, ff_dim, dropout)\n",
    "\n",
    "    x = layers.GlobalAveragePooling1D(data_format=\"channels_first\")(x)\n",
    "    for dim in mlp_units:\n",
    "        x = layers.Dense(dim, activation=\"relu\")(x)\n",
    "        x = layers.Dropout(mlp_dropout)(x)\n",
    "    outputs = layers.Dense(n_classes, activation=\"softmax\")(x)\n",
    "    return keras.Model(inputs, outputs)"
   ]
  },
  {
   "cell_type": "markdown",
   "id": "2cfcf3ec",
   "metadata": {
    "papermill": {
     "duration": 0.007969,
     "end_time": "2022-06-23T02:56:18.871351",
     "exception": false,
     "start_time": "2022-06-23T02:56:18.863382",
     "status": "completed"
    },
    "tags": []
   },
   "source": [
    "## Train and evaluate"
   ]
  },
  {
   "cell_type": "code",
   "execution_count": 22,
   "id": "0e9a31a1",
   "metadata": {
    "execution": {
     "iopub.execute_input": "2022-06-23T02:56:18.889753Z",
     "iopub.status.busy": "2022-06-23T02:56:18.889107Z",
     "iopub.status.idle": "2022-06-23T11:06:30.648166Z",
     "shell.execute_reply": "2022-06-23T11:06:30.646187Z"
    },
    "papermill": {
     "duration": 29422.22658,
     "end_time": "2022-06-23T11:06:41.106165",
     "exception": false,
     "start_time": "2022-06-23T02:56:18.879585",
     "status": "completed"
    },
    "tags": []
   },
   "outputs": [
    {
     "name": "stderr",
     "output_type": "stream",
     "text": [
      "2022-06-23 02:56:19.122600: I tensorflow/core/common_runtime/process_util.cc:146] Creating new thread pool with default inter op setting: 2. Tune using inter_op_parallelism_threads for best performance.\n"
     ]
    },
    {
     "name": "stdout",
     "output_type": "stream",
     "text": [
      "Model: \"model\"\n",
      "__________________________________________________________________________________________________\n",
      "Layer (type)                    Output Shape         Param #     Connected to                     \n",
      "==================================================================================================\n",
      "input_1 (InputLayer)            [(None, 19, 1)]      0                                            \n",
      "__________________________________________________________________________________________________\n",
      "multi_head_attention (MultiHead (None, 19, 1)        7169        input_1[0][0]                    \n",
      "                                                                 input_1[0][0]                    \n",
      "__________________________________________________________________________________________________\n",
      "dropout (Dropout)               (None, 19, 1)        0           multi_head_attention[0][0]       \n",
      "__________________________________________________________________________________________________\n",
      "layer_normalization (LayerNorma (None, 19, 1)        2           dropout[0][0]                    \n",
      "__________________________________________________________________________________________________\n",
      "tf.__operators__.add (TFOpLambd (None, 19, 1)        0           layer_normalization[0][0]        \n",
      "                                                                 input_1[0][0]                    \n",
      "__________________________________________________________________________________________________\n",
      "conv1d (Conv1D)                 (None, 19, 4)        8           tf.__operators__.add[0][0]       \n",
      "__________________________________________________________________________________________________\n",
      "dropout_1 (Dropout)             (None, 19, 4)        0           conv1d[0][0]                     \n",
      "__________________________________________________________________________________________________\n",
      "conv1d_1 (Conv1D)               (None, 19, 1)        5           dropout_1[0][0]                  \n",
      "__________________________________________________________________________________________________\n",
      "layer_normalization_1 (LayerNor (None, 19, 1)        2           conv1d_1[0][0]                   \n",
      "__________________________________________________________________________________________________\n",
      "tf.__operators__.add_1 (TFOpLam (None, 19, 1)        0           layer_normalization_1[0][0]      \n",
      "                                                                 tf.__operators__.add[0][0]       \n",
      "__________________________________________________________________________________________________\n",
      "multi_head_attention_1 (MultiHe (None, 19, 1)        7169        tf.__operators__.add_1[0][0]     \n",
      "                                                                 tf.__operators__.add_1[0][0]     \n",
      "__________________________________________________________________________________________________\n",
      "dropout_2 (Dropout)             (None, 19, 1)        0           multi_head_attention_1[0][0]     \n",
      "__________________________________________________________________________________________________\n",
      "layer_normalization_2 (LayerNor (None, 19, 1)        2           dropout_2[0][0]                  \n",
      "__________________________________________________________________________________________________\n",
      "tf.__operators__.add_2 (TFOpLam (None, 19, 1)        0           layer_normalization_2[0][0]      \n",
      "                                                                 tf.__operators__.add_1[0][0]     \n",
      "__________________________________________________________________________________________________\n",
      "conv1d_2 (Conv1D)               (None, 19, 4)        8           tf.__operators__.add_2[0][0]     \n",
      "__________________________________________________________________________________________________\n",
      "dropout_3 (Dropout)             (None, 19, 4)        0           conv1d_2[0][0]                   \n",
      "__________________________________________________________________________________________________\n",
      "conv1d_3 (Conv1D)               (None, 19, 1)        5           dropout_3[0][0]                  \n",
      "__________________________________________________________________________________________________\n",
      "layer_normalization_3 (LayerNor (None, 19, 1)        2           conv1d_3[0][0]                   \n",
      "__________________________________________________________________________________________________\n",
      "tf.__operators__.add_3 (TFOpLam (None, 19, 1)        0           layer_normalization_3[0][0]      \n",
      "                                                                 tf.__operators__.add_2[0][0]     \n",
      "__________________________________________________________________________________________________\n",
      "multi_head_attention_2 (MultiHe (None, 19, 1)        7169        tf.__operators__.add_3[0][0]     \n",
      "                                                                 tf.__operators__.add_3[0][0]     \n",
      "__________________________________________________________________________________________________\n",
      "dropout_4 (Dropout)             (None, 19, 1)        0           multi_head_attention_2[0][0]     \n",
      "__________________________________________________________________________________________________\n",
      "layer_normalization_4 (LayerNor (None, 19, 1)        2           dropout_4[0][0]                  \n",
      "__________________________________________________________________________________________________\n",
      "tf.__operators__.add_4 (TFOpLam (None, 19, 1)        0           layer_normalization_4[0][0]      \n",
      "                                                                 tf.__operators__.add_3[0][0]     \n",
      "__________________________________________________________________________________________________\n",
      "conv1d_4 (Conv1D)               (None, 19, 4)        8           tf.__operators__.add_4[0][0]     \n",
      "__________________________________________________________________________________________________\n",
      "dropout_5 (Dropout)             (None, 19, 4)        0           conv1d_4[0][0]                   \n",
      "__________________________________________________________________________________________________\n",
      "conv1d_5 (Conv1D)               (None, 19, 1)        5           dropout_5[0][0]                  \n",
      "__________________________________________________________________________________________________\n",
      "layer_normalization_5 (LayerNor (None, 19, 1)        2           conv1d_5[0][0]                   \n",
      "__________________________________________________________________________________________________\n",
      "tf.__operators__.add_5 (TFOpLam (None, 19, 1)        0           layer_normalization_5[0][0]      \n",
      "                                                                 tf.__operators__.add_4[0][0]     \n",
      "__________________________________________________________________________________________________\n",
      "multi_head_attention_3 (MultiHe (None, 19, 1)        7169        tf.__operators__.add_5[0][0]     \n",
      "                                                                 tf.__operators__.add_5[0][0]     \n",
      "__________________________________________________________________________________________________\n",
      "dropout_6 (Dropout)             (None, 19, 1)        0           multi_head_attention_3[0][0]     \n",
      "__________________________________________________________________________________________________\n",
      "layer_normalization_6 (LayerNor (None, 19, 1)        2           dropout_6[0][0]                  \n",
      "__________________________________________________________________________________________________\n",
      "tf.__operators__.add_6 (TFOpLam (None, 19, 1)        0           layer_normalization_6[0][0]      \n",
      "                                                                 tf.__operators__.add_5[0][0]     \n",
      "__________________________________________________________________________________________________\n",
      "conv1d_6 (Conv1D)               (None, 19, 4)        8           tf.__operators__.add_6[0][0]     \n",
      "__________________________________________________________________________________________________\n",
      "dropout_7 (Dropout)             (None, 19, 4)        0           conv1d_6[0][0]                   \n",
      "__________________________________________________________________________________________________\n",
      "conv1d_7 (Conv1D)               (None, 19, 1)        5           dropout_7[0][0]                  \n",
      "__________________________________________________________________________________________________\n",
      "layer_normalization_7 (LayerNor (None, 19, 1)        2           conv1d_7[0][0]                   \n",
      "__________________________________________________________________________________________________\n",
      "tf.__operators__.add_7 (TFOpLam (None, 19, 1)        0           layer_normalization_7[0][0]      \n",
      "                                                                 tf.__operators__.add_6[0][0]     \n",
      "__________________________________________________________________________________________________\n",
      "global_average_pooling1d (Globa (None, 19)           0           tf.__operators__.add_7[0][0]     \n",
      "__________________________________________________________________________________________________\n",
      "dense (Dense)                   (None, 128)          2560        global_average_pooling1d[0][0]   \n",
      "__________________________________________________________________________________________________\n",
      "dropout_8 (Dropout)             (None, 128)          0           dense[0][0]                      \n",
      "__________________________________________________________________________________________________\n",
      "dense_1 (Dense)                 (None, 19931)        2571099     dropout_8[0][0]                  \n",
      "==================================================================================================\n",
      "Total params: 2,602,403\n",
      "Trainable params: 2,602,403\n",
      "Non-trainable params: 0\n",
      "__________________________________________________________________________________________________\n"
     ]
    },
    {
     "name": "stderr",
     "output_type": "stream",
     "text": [
      "2022-06-23 02:56:19.724613: I tensorflow/compiler/mlir/mlir_graph_optimization_pass.cc:185] None of the MLIR Optimization Passes are enabled (registered 2)\n"
     ]
    },
    {
     "name": "stdout",
     "output_type": "stream",
     "text": [
      "Epoch 1/200\n",
      "17408/17408 [==============================] - 2645s 152ms/step - loss: 0.3197 - sparse_categorical_accuracy: 0.0379 - val_loss: 0.0014 - val_sparse_categorical_accuracy: 0.0383\n",
      "Epoch 2/200\n",
      "17408/17408 [==============================] - 2657s 153ms/step - loss: 1.5825e-09 - sparse_categorical_accuracy: 0.0380 - val_loss: 0.0015 - val_sparse_categorical_accuracy: 0.0383\n",
      "Epoch 3/200\n",
      "17408/17408 [==============================] - 2673s 154ms/step - loss: 0.0000e+00 - sparse_categorical_accuracy: 0.0380 - val_loss: 0.0015 - val_sparse_categorical_accuracy: 0.0383\n",
      "Epoch 4/200\n",
      "17408/17408 [==============================] - 2644s 152ms/step - loss: 1.2840e-12 - sparse_categorical_accuracy: 0.0380 - val_loss: 0.0017 - val_sparse_categorical_accuracy: 0.0383\n",
      "Epoch 5/200\n",
      "17408/17408 [==============================] - 2660s 153ms/step - loss: 0.0000e+00 - sparse_categorical_accuracy: 0.0380 - val_loss: 0.0017 - val_sparse_categorical_accuracy: 0.0383\n",
      "Epoch 6/200\n",
      "17408/17408 [==============================] - 2694s 155ms/step - loss: 2.5680e-12 - sparse_categorical_accuracy: 0.0380 - val_loss: 0.0018 - val_sparse_categorical_accuracy: 0.0383\n",
      "Epoch 7/200\n",
      "17408/17408 [==============================] - 2718s 156ms/step - loss: 0.0000e+00 - sparse_categorical_accuracy: 0.0380 - val_loss: 0.0018 - val_sparse_categorical_accuracy: 0.0383\n",
      "Epoch 8/200\n",
      "17408/17408 [==============================] - 2674s 154ms/step - loss: 0.0000e+00 - sparse_categorical_accuracy: 0.0380 - val_loss: 0.0018 - val_sparse_categorical_accuracy: 0.0383\n",
      "Epoch 9/200\n",
      "17408/17408 [==============================] - 2678s 154ms/step - loss: 0.0000e+00 - sparse_categorical_accuracy: 0.0380 - val_loss: 0.0018 - val_sparse_categorical_accuracy: 0.0383\n",
      "Epoch 10/200\n",
      "17408/17408 [==============================] - 2683s 154ms/step - loss: 0.0000e+00 - sparse_categorical_accuracy: 0.0380 - val_loss: 0.0018 - val_sparse_categorical_accuracy: 0.0383\n",
      "Epoch 11/200\n",
      "17408/17408 [==============================] - 2684s 154ms/step - loss: 0.0000e+00 - sparse_categorical_accuracy: 0.0380 - val_loss: 0.0018 - val_sparse_categorical_accuracy: 0.0383\n"
     ]
    },
    {
     "data": {
      "text/plain": [
       "<keras.callbacks.History at 0x7fce8405d710>"
      ]
     },
     "execution_count": 22,
     "metadata": {},
     "output_type": "execute_result"
    }
   ],
   "source": [
    "input_shape = x_train.shape[1:]\n",
    "\n",
    "model = build_model(\n",
    "    input_shape,\n",
    "    head_size=256,\n",
    "    num_heads=4,\n",
    "    ff_dim=4,\n",
    "    num_transformer_blocks=4,\n",
    "    mlp_units=[128],\n",
    "    mlp_dropout=0.4,\n",
    "    dropout=0.25,\n",
    ")\n",
    "\n",
    "model.compile(\n",
    "    loss=\"sparse_categorical_crossentropy\",\n",
    "    optimizer=keras.optimizers.Adam(learning_rate=1e-4),\n",
    "    metrics=[\"sparse_categorical_accuracy\"],\n",
    ")\n",
    "model.summary()\n",
    "\n",
    "callbacks = [keras.callbacks.EarlyStopping(patience=10, restore_best_weights=True)]\n",
    "\n",
    "model.fit(\n",
    "    x_train,\n",
    "    y_train,\n",
    "    validation_split=0.2,\n",
    "    epochs=200,\n",
    "    batch_size=64,\n",
    "    callbacks=callbacks,\n",
    ")\n"
   ]
  },
  {
   "cell_type": "code",
   "execution_count": 23,
   "id": "3e0b9603",
   "metadata": {
    "execution": {
     "iopub.execute_input": "2022-06-23T11:07:01.358967Z",
     "iopub.status.busy": "2022-06-23T11:07:01.358447Z",
     "iopub.status.idle": "2022-06-23T11:18:15.605977Z",
     "shell.execute_reply": "2022-06-23T11:18:15.604982Z"
    },
    "papermill": {
     "duration": 684.22902,
     "end_time": "2022-06-23T11:18:15.608196",
     "exception": false,
     "start_time": "2022-06-23T11:06:51.379176",
     "status": "completed"
    },
    "tags": []
   },
   "outputs": [
    {
     "name": "stdout",
     "output_type": "stream",
     "text": [
      "21435/21435 [==============================] - 674s 31ms/step - loss: 0.0000e+00 - sparse_categorical_accuracy: 0.0381\n"
     ]
    },
    {
     "data": {
      "text/plain": [
       "[0.0, 0.03805568069219589]"
      ]
     },
     "execution_count": 23,
     "metadata": {},
     "output_type": "execute_result"
    }
   ],
   "source": [
    "model.evaluate(x_test, y_test, verbose=1)"
   ]
  },
  {
   "cell_type": "code",
   "execution_count": 24,
   "id": "51c92d61",
   "metadata": {
    "execution": {
     "iopub.execute_input": "2022-06-23T11:18:37.483160Z",
     "iopub.status.busy": "2022-06-23T11:18:37.482731Z",
     "iopub.status.idle": "2022-06-23T11:18:44.342638Z",
     "shell.execute_reply": "2022-06-23T11:18:44.341501Z"
    },
    "papermill": {
     "duration": 17.73935,
     "end_time": "2022-06-23T11:18:44.346705",
     "exception": false,
     "start_time": "2022-06-23T11:18:26.607355",
     "status": "completed"
    },
    "tags": []
   },
   "outputs": [
    {
     "name": "stderr",
     "output_type": "stream",
     "text": [
      "2022-06-23 11:18:39.872027: W tensorflow/python/util/util.cc:348] Sets are not currently considered sequences, but this may change in the future, so consider avoiding using them.\n"
     ]
    }
   ],
   "source": [
    "model.save(\"tr_1.tf\")"
   ]
  },
  {
   "cell_type": "code",
   "execution_count": null,
   "id": "5c48654f",
   "metadata": {
    "execution": {
     "iopub.execute_input": "2022-06-23T02:25:05.646039Z",
     "iopub.status.busy": "2022-06-23T02:25:05.64558Z",
     "iopub.status.idle": "2022-06-23T02:25:05.757188Z",
     "shell.execute_reply": "2022-06-23T02:25:05.756235Z",
     "shell.execute_reply.started": "2022-06-23T02:25:05.646006Z"
    },
    "papermill": {
     "duration": 13.717189,
     "end_time": "2022-06-23T11:19:09.005345",
     "exception": false,
     "start_time": "2022-06-23T11:18:55.288156",
     "status": "completed"
    },
    "tags": []
   },
   "outputs": [],
   "source": []
  },
  {
   "cell_type": "code",
   "execution_count": null,
   "id": "0ce65633",
   "metadata": {
    "execution": {
     "iopub.execute_input": "2022-06-23T02:25:25.71812Z",
     "iopub.status.busy": "2022-06-23T02:25:25.717606Z",
     "iopub.status.idle": "2022-06-23T02:25:25.726057Z",
     "shell.execute_reply": "2022-06-23T02:25:25.724932Z",
     "shell.execute_reply.started": "2022-06-23T02:25:25.718084Z"
    },
    "papermill": {
     "duration": 10.911278,
     "end_time": "2022-06-23T11:19:31.197626",
     "exception": false,
     "start_time": "2022-06-23T11:19:20.286348",
     "status": "completed"
    },
    "tags": []
   },
   "outputs": [],
   "source": []
  },
  {
   "cell_type": "code",
   "execution_count": null,
   "id": "a2db76e0",
   "metadata": {
    "execution": {
     "iopub.execute_input": "2022-06-23T02:24:52.511184Z",
     "iopub.status.busy": "2022-06-23T02:24:52.510746Z",
     "iopub.status.idle": "2022-06-23T02:24:52.522404Z",
     "shell.execute_reply": "2022-06-23T02:24:52.521373Z",
     "shell.execute_reply.started": "2022-06-23T02:24:52.511152Z"
    },
    "papermill": {
     "duration": 11.050385,
     "end_time": "2022-06-23T11:19:53.521100",
     "exception": false,
     "start_time": "2022-06-23T11:19:42.470715",
     "status": "completed"
    },
    "tags": []
   },
   "outputs": [],
   "source": []
  },
  {
   "cell_type": "markdown",
   "id": "d3f1a90f",
   "metadata": {
    "papermill": {
     "duration": 11.07242,
     "end_time": "2022-06-23T11:20:15.744313",
     "exception": false,
     "start_time": "2022-06-23T11:20:04.671893",
     "status": "completed"
    },
    "tags": []
   },
   "source": [
    "# Submission\n"
   ]
  },
  {
   "cell_type": "code",
   "execution_count": 25,
   "id": "e7167bd0",
   "metadata": {
    "execution": {
     "iopub.execute_input": "2022-06-23T11:20:37.723163Z",
     "iopub.status.busy": "2022-06-23T11:20:37.721943Z",
     "iopub.status.idle": "2022-06-23T11:20:37.726229Z",
     "shell.execute_reply": "2022-06-23T11:20:37.725583Z"
    },
    "papermill": {
     "duration": 11.266558,
     "end_time": "2022-06-23T11:20:37.727927",
     "exception": false,
     "start_time": "2022-06-23T11:20:26.461369",
     "status": "completed"
    },
    "tags": []
   },
   "outputs": [],
   "source": [
    "# "
   ]
  },
  {
   "cell_type": "code",
   "execution_count": null,
   "id": "0601a279",
   "metadata": {
    "papermill": {
     "duration": 11.037782,
     "end_time": "2022-06-23T11:20:59.783884",
     "exception": false,
     "start_time": "2022-06-23T11:20:48.746102",
     "status": "completed"
    },
    "tags": []
   },
   "outputs": [],
   "source": []
  },
  {
   "cell_type": "code",
   "execution_count": null,
   "id": "bf53c265",
   "metadata": {
    "papermill": {
     "duration": 10.62803,
     "end_time": "2022-06-23T11:21:21.499410",
     "exception": false,
     "start_time": "2022-06-23T11:21:10.871380",
     "status": "completed"
    },
    "tags": []
   },
   "outputs": [],
   "source": []
  }
 ],
 "metadata": {
  "kernelspec": {
   "display_name": "Python 3",
   "language": "python",
   "name": "python3"
  },
  "language_info": {
   "codemirror_mode": {
    "name": "ipython",
    "version": 3
   },
   "file_extension": ".py",
   "mimetype": "text/x-python",
   "name": "python",
   "nbconvert_exporter": "python",
   "pygments_lexer": "ipython3",
   "version": "3.7.12"
  },
  "papermill": {
   "default_parameters": {},
   "duration": 30372.386739,
   "end_time": "2022-06-23T11:21:35.756951",
   "environment_variables": {},
   "exception": null,
   "input_path": "__notebook__.ipynb",
   "output_path": "__notebook__.ipynb",
   "parameters": {},
   "start_time": "2022-06-23T02:55:23.370212",
   "version": "2.3.4"
  }
 },
 "nbformat": 4,
 "nbformat_minor": 5
}
