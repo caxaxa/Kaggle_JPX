{
 "cells": [
  {
   "cell_type": "code",
   "execution_count": 1,
   "id": "6ddaae96",
   "metadata": {
    "_cell_guid": "b1076dfc-b9ad-4769-8c92-a6c4dae69d19",
    "_uuid": "8f2839f25d086af736a60e9eeb907d3b93b6e0e5",
    "execution": {
     "iopub.execute_input": "2022-06-23T02:27:44.943671Z",
     "iopub.status.busy": "2022-06-23T02:27:44.943175Z",
     "iopub.status.idle": "2022-06-23T02:27:44.973653Z",
     "shell.execute_reply": "2022-06-23T02:27:44.972624Z"
    },
    "papermill": {
     "duration": 0.048747,
     "end_time": "2022-06-23T02:27:44.976990",
     "exception": false,
     "start_time": "2022-06-23T02:27:44.928243",
     "status": "completed"
    },
    "tags": []
   },
   "outputs": [
    {
     "name": "stdout",
     "output_type": "stream",
     "text": [
      "/kaggle/input/jpx-tokyo-stock-exchange-prediction/stock_list.csv\n",
      "/kaggle/input/jpx-tokyo-stock-exchange-prediction/example_test_files/sample_submission.csv\n",
      "/kaggle/input/jpx-tokyo-stock-exchange-prediction/example_test_files/options.csv\n",
      "/kaggle/input/jpx-tokyo-stock-exchange-prediction/example_test_files/financials.csv\n",
      "/kaggle/input/jpx-tokyo-stock-exchange-prediction/example_test_files/secondary_stock_prices.csv\n",
      "/kaggle/input/jpx-tokyo-stock-exchange-prediction/example_test_files/trades.csv\n",
      "/kaggle/input/jpx-tokyo-stock-exchange-prediction/example_test_files/stock_prices.csv\n",
      "/kaggle/input/jpx-tokyo-stock-exchange-prediction/jpx_tokyo_market_prediction/competition.cpython-37m-x86_64-linux-gnu.so\n",
      "/kaggle/input/jpx-tokyo-stock-exchange-prediction/jpx_tokyo_market_prediction/__init__.py\n",
      "/kaggle/input/jpx-tokyo-stock-exchange-prediction/data_specifications/stock_fin_spec.csv\n",
      "/kaggle/input/jpx-tokyo-stock-exchange-prediction/data_specifications/trades_spec.csv\n",
      "/kaggle/input/jpx-tokyo-stock-exchange-prediction/data_specifications/stock_price_spec.csv\n",
      "/kaggle/input/jpx-tokyo-stock-exchange-prediction/data_specifications/options_spec.csv\n",
      "/kaggle/input/jpx-tokyo-stock-exchange-prediction/data_specifications/stock_list_spec.csv\n",
      "/kaggle/input/jpx-tokyo-stock-exchange-prediction/train_files/options.csv\n",
      "/kaggle/input/jpx-tokyo-stock-exchange-prediction/train_files/financials.csv\n",
      "/kaggle/input/jpx-tokyo-stock-exchange-prediction/train_files/secondary_stock_prices.csv\n",
      "/kaggle/input/jpx-tokyo-stock-exchange-prediction/train_files/trades.csv\n",
      "/kaggle/input/jpx-tokyo-stock-exchange-prediction/train_files/stock_prices.csv\n",
      "/kaggle/input/jpx-tokyo-stock-exchange-prediction/supplemental_files/options.csv\n",
      "/kaggle/input/jpx-tokyo-stock-exchange-prediction/supplemental_files/financials.csv\n",
      "/kaggle/input/jpx-tokyo-stock-exchange-prediction/supplemental_files/secondary_stock_prices.csv\n",
      "/kaggle/input/jpx-tokyo-stock-exchange-prediction/supplemental_files/trades.csv\n",
      "/kaggle/input/jpx-tokyo-stock-exchange-prediction/supplemental_files/stock_prices.csv\n"
     ]
    }
   ],
   "source": [
    "# This Python 3 environment comes with many helpful analytics libraries installed\n",
    "# It is defined by the kaggle/python Docker image: https://github.com/kaggle/docker-python\n",
    "# For example, here's several helpful packages to load\n",
    "\n",
    "import numpy as np # linear algebra\n",
    "import pandas as pd # data processing, CSV file I/O (e.g. pd.read_csv)\n",
    "\n",
    "# Input data files are available in the read-only \"../input/\" directory\n",
    "# For example, running this (by clicking run or pressing Shift+Enter) will list all files under the input directory\n",
    "\n",
    "import os\n",
    "for dirname, _, filenames in os.walk('/kaggle/input'):\n",
    "    for filename in filenames:\n",
    "        print(os.path.join(dirname, filename))\n",
    "\n"
   ]
  },
  {
   "cell_type": "markdown",
   "id": "8df92a81",
   "metadata": {
    "papermill": {
     "duration": 0.01083,
     "end_time": "2022-06-23T02:27:44.999848",
     "exception": false,
     "start_time": "2022-06-23T02:27:44.989018",
     "status": "completed"
    },
    "tags": []
   },
   "source": [
    "# Here starts my Baseline\n",
    "\n",
    "Ideas:\n",
    "\n",
    "1  - Feature engeneering- Basic and effective;\n",
    "\n",
    "2 - Gradient Boosting Regressions;\n",
    "\n",
    "3 - Neuronets Regressions; and\n",
    "\n",
    "4 - Submission.\n",
    "\n"
   ]
  },
  {
   "cell_type": "markdown",
   "id": "2fe9a0a4",
   "metadata": {
    "papermill": {
     "duration": 0.011127,
     "end_time": "2022-06-23T02:27:45.022927",
     "exception": false,
     "start_time": "2022-06-23T02:27:45.011800",
     "status": "completed"
    },
    "tags": []
   },
   "source": [
    "## 1 Feature Engeneering"
   ]
  },
  {
   "cell_type": "code",
   "execution_count": 2,
   "id": "3b60ff58",
   "metadata": {
    "execution": {
     "iopub.execute_input": "2022-06-23T02:27:45.047878Z",
     "iopub.status.busy": "2022-06-23T02:27:45.046844Z",
     "iopub.status.idle": "2022-06-23T02:27:45.052571Z",
     "shell.execute_reply": "2022-06-23T02:27:45.051896Z"
    },
    "papermill": {
     "duration": 0.020723,
     "end_time": "2022-06-23T02:27:45.054669",
     "exception": false,
     "start_time": "2022-06-23T02:27:45.033946",
     "status": "completed"
    },
    "tags": []
   },
   "outputs": [],
   "source": [
    "\n",
    "def concat_df(df1, df2):\n",
    "    df1 = pd.concat([df1, df2],\n",
    "                    ignore_index=True, sort=False\n",
    "                    ).drop_duplicates([\"RowId\"], keep=\"first\")\n",
    "    return df1"
   ]
  },
  {
   "cell_type": "code",
   "execution_count": 3,
   "id": "1a5ad357",
   "metadata": {
    "execution": {
     "iopub.execute_input": "2022-06-23T02:27:45.079892Z",
     "iopub.status.busy": "2022-06-23T02:27:45.079114Z",
     "iopub.status.idle": "2022-06-23T02:27:45.084375Z",
     "shell.execute_reply": "2022-06-23T02:27:45.083516Z"
    },
    "papermill": {
     "duration": 0.020495,
     "end_time": "2022-06-23T02:27:45.086563",
     "exception": false,
     "start_time": "2022-06-23T02:27:45.066068",
     "status": "completed"
    },
    "tags": []
   },
   "outputs": [],
   "source": [
    "import gc"
   ]
  },
  {
   "cell_type": "code",
   "execution_count": 4,
   "id": "085404b3",
   "metadata": {
    "execution": {
     "iopub.execute_input": "2022-06-23T02:27:45.111288Z",
     "iopub.status.busy": "2022-06-23T02:27:45.110585Z",
     "iopub.status.idle": "2022-06-23T02:27:54.167258Z",
     "shell.execute_reply": "2022-06-23T02:27:54.166036Z"
    },
    "papermill": {
     "duration": 9.071898,
     "end_time": "2022-06-23T02:27:54.170027",
     "exception": false,
     "start_time": "2022-06-23T02:27:45.098129",
     "status": "completed"
    },
    "tags": []
   },
   "outputs": [
    {
     "name": "stdout",
     "output_type": "stream",
     "text": [
      "<class 'pandas.core.frame.DataFrame'>\n",
      "Int64Index: 2078531 entries, 0 to 2078530\n",
      "Data columns (total 12 columns):\n",
      " #   Column            Non-Null Count    Dtype  \n",
      "---  ------            --------------    -----  \n",
      " 0   RowId             2078531 non-null  object \n",
      " 1   Date              2078531 non-null  object \n",
      " 2   SecuritiesCode    2078531 non-null  int16  \n",
      " 3   Open              2071589 non-null  float16\n",
      " 4   High              2071589 non-null  float16\n",
      " 5   Low               2071589 non-null  float16\n",
      " 6   Close             2071589 non-null  float16\n",
      " 7   Volume            2078531 non-null  int8   \n",
      " 8   AdjustmentFactor  2078531 non-null  float16\n",
      " 9   ExpectedDividend  16926 non-null    float16\n",
      " 10  SupervisionFlag   2078531 non-null  bool   \n",
      " 11  Target            2078293 non-null  float16\n",
      "dtypes: bool(1), float16(7), int16(1), int8(1), object(2)\n",
      "memory usage: 83.3+ MB\n"
     ]
    }
   ],
   "source": [
    "# For now... use pandas.... \n",
    "#If too heavy use Cudf\n",
    "\n",
    "# For now... just fix the floats\n",
    "dtypes = {\n",
    "'SecuritiesCode' :     np.int16,\n",
    "'Open'           :     np.float16,\n",
    "'High'           :     np.float16,\n",
    "'Low'            :     np.float16,\n",
    "'Close'          :     np.float16,\n",
    "'Volume'         :       np.int8,\n",
    "'AdjustmentFactor':    np.float16,\n",
    "'ExpectedDividend':    np.float16,\n",
    "'Target'        :      np.float16\n",
    "}\n",
    "path = \"../input/jpx-tokyo-stock-exchange-prediction/\"\n",
    "df_prices = pd.read_csv(f\"{path}train_files/stock_prices.csv\",dtype = dtypes)\n",
    "#prices = pd.read_csv(f\"{path}supplemental_files/stock_prices.csv\",dtype = dtypes)\n",
    "#df_prices = concat_df(df_prices, prices)\n",
    "#prices = pd.read_csv(f\"{path}train_files/secondary_stock_prices.csv\",dtype = dtypes)\n",
    "#df_prices = concat_df(df_prices, prices)\n",
    "#prices = pd.read_csv(f\"{path}supplemental_files/secondary_stock_prices.csv\",dtype = dtypes)\n",
    "#df_prices = concat_df(df_prices, prices)\n",
    "df_prices = df_prices[df_prices.Date<\"2021-06-01\"]\n",
    "df_prices.info(show_counts=True)"
   ]
  },
  {
   "cell_type": "code",
   "execution_count": 5,
   "id": "f640d230",
   "metadata": {
    "execution": {
     "iopub.execute_input": "2022-06-23T02:27:54.195250Z",
     "iopub.status.busy": "2022-06-23T02:27:54.194807Z",
     "iopub.status.idle": "2022-06-23T02:27:54.853980Z",
     "shell.execute_reply": "2022-06-23T02:27:54.852707Z"
    },
    "papermill": {
     "duration": 0.675204,
     "end_time": "2022-06-23T02:27:54.856748",
     "exception": false,
     "start_time": "2022-06-23T02:27:54.181544",
     "status": "completed"
    },
    "tags": []
   },
   "outputs": [],
   "source": [
    "df_prices = df_prices[(df_prices['Date']<'2021-06-01' )& (df_prices['Date']>'2021-05-01')]"
   ]
  },
  {
   "cell_type": "code",
   "execution_count": 6,
   "id": "96a01963",
   "metadata": {
    "execution": {
     "iopub.execute_input": "2022-06-23T02:27:54.882657Z",
     "iopub.status.busy": "2022-06-23T02:27:54.881264Z",
     "iopub.status.idle": "2022-06-23T02:27:54.886615Z",
     "shell.execute_reply": "2022-06-23T02:27:54.885424Z"
    },
    "papermill": {
     "duration": 0.020514,
     "end_time": "2022-06-23T02:27:54.888886",
     "exception": false,
     "start_time": "2022-06-23T02:27:54.868372",
     "status": "completed"
    },
    "tags": []
   },
   "outputs": [],
   "source": [
    "# def prep_prices(price):\n",
    "#     price.fillna(0,inplace=True)\n",
    "#     return price"
   ]
  },
  {
   "cell_type": "code",
   "execution_count": 7,
   "id": "2d8423ec",
   "metadata": {
    "execution": {
     "iopub.execute_input": "2022-06-23T02:27:54.913770Z",
     "iopub.status.busy": "2022-06-23T02:27:54.913379Z",
     "iopub.status.idle": "2022-06-23T02:27:54.917853Z",
     "shell.execute_reply": "2022-06-23T02:27:54.916529Z"
    },
    "papermill": {
     "duration": 0.01935,
     "end_time": "2022-06-23T02:27:54.919913",
     "exception": false,
     "start_time": "2022-06-23T02:27:54.900563",
     "status": "completed"
    },
    "tags": []
   },
   "outputs": [],
   "source": [
    "# df_prices = prep_prices(df_prices)\n",
    "# pd.options.display.float_format = '{:,.6g}'.format\n",
    "# df_prices.describe()"
   ]
  },
  {
   "cell_type": "code",
   "execution_count": 8,
   "id": "25a98170",
   "metadata": {
    "execution": {
     "iopub.execute_input": "2022-06-23T02:27:54.944530Z",
     "iopub.status.busy": "2022-06-23T02:27:54.944138Z",
     "iopub.status.idle": "2022-06-23T02:27:54.948025Z",
     "shell.execute_reply": "2022-06-23T02:27:54.947087Z"
    },
    "papermill": {
     "duration": 0.0187,
     "end_time": "2022-06-23T02:27:54.950166",
     "exception": false,
     "start_time": "2022-06-23T02:27:54.931466",
     "status": "completed"
    },
    "tags": []
   },
   "outputs": [],
   "source": [
    "# # Open stock_list\n",
    "# stock_list = pd.read_csv(\"../input/jpx-tokyo-stock-exchange-prediction/stock_list.csv\")\n",
    "# stock_list"
   ]
  },
  {
   "cell_type": "code",
   "execution_count": 9,
   "id": "8e92478f",
   "metadata": {
    "execution": {
     "iopub.execute_input": "2022-06-23T02:27:54.975159Z",
     "iopub.status.busy": "2022-06-23T02:27:54.974504Z",
     "iopub.status.idle": "2022-06-23T02:27:54.978126Z",
     "shell.execute_reply": "2022-06-23T02:27:54.977446Z"
    },
    "papermill": {
     "duration": 0.018356,
     "end_time": "2022-06-23T02:27:54.980258",
     "exception": false,
     "start_time": "2022-06-23T02:27:54.961902",
     "status": "completed"
    },
    "tags": []
   },
   "outputs": [],
   "source": [
    "# #Match Stocklist to securities code\n",
    "# stock_list = stock_list[['SecuritiesCode','NewMarketSegment','33SectorCode','17SectorCode','Universe0','Section/Products','NewIndexSeriesSize']]\n",
    "# stock_list = stock_list.replace(np.nan,'-')\n",
    "# stock_list['Universe0'] = np.where(stock_list['Universe0'], 1, 0)\n",
    "# stock_list = stock_list.drop_duplicates()\n",
    "# stock_list\n"
   ]
  },
  {
   "cell_type": "code",
   "execution_count": 10,
   "id": "682f0c3b",
   "metadata": {
    "execution": {
     "iopub.execute_input": "2022-06-23T02:27:55.006129Z",
     "iopub.status.busy": "2022-06-23T02:27:55.005417Z",
     "iopub.status.idle": "2022-06-23T02:27:55.010553Z",
     "shell.execute_reply": "2022-06-23T02:27:55.009505Z"
    },
    "papermill": {
     "duration": 0.02149,
     "end_time": "2022-06-23T02:27:55.013285",
     "exception": false,
     "start_time": "2022-06-23T02:27:54.991795",
     "status": "completed"
    },
    "tags": []
   },
   "outputs": [],
   "source": [
    "from datetime import datetime\n",
    "import time\n",
    "\n",
    " # auxiliary function, from datetime to timestamp\n",
    "totimestamp = lambda s: np.int32(time.mktime(datetime.strptime(s, \"%Y-%m-%d\").timetuple()))"
   ]
  },
  {
   "cell_type": "markdown",
   "id": "76a08756",
   "metadata": {
    "papermill": {
     "duration": 0.011504,
     "end_time": "2022-06-23T02:27:55.036416",
     "exception": false,
     "start_time": "2022-06-23T02:27:55.024912",
     "status": "completed"
    },
    "tags": []
   },
   "source": [
    "# Data Features\n"
   ]
  },
  {
   "cell_type": "code",
   "execution_count": 11,
   "id": "d3481ddf",
   "metadata": {
    "execution": {
     "iopub.execute_input": "2022-06-23T02:27:55.062094Z",
     "iopub.status.busy": "2022-06-23T02:27:55.061688Z",
     "iopub.status.idle": "2022-06-23T02:27:55.081477Z",
     "shell.execute_reply": "2022-06-23T02:27:55.080279Z"
    },
    "papermill": {
     "duration": 0.035331,
     "end_time": "2022-06-23T02:27:55.083755",
     "exception": false,
     "start_time": "2022-06-23T02:27:55.048424",
     "status": "completed"
    },
    "tags": []
   },
   "outputs": [],
   "source": [
    "\n",
    "# define function to compute log returns\n",
    "def log_return_feature(series, periods=1):\n",
    "    return np.log(series).diff(periods=periods)\n",
    "\n",
    "\n",
    "# def fill_the_gaps(df):\n",
    "#     new_df = pd.DataFrame(columns= df.columns)\n",
    "#     for i in range(len(df['SecuritiesCode'].unique())):\n",
    "#         new_df = new_df.append(df[df['SecuritiesCode'] == i].reindex(range(df[df['SecuritiesCode'] == i].index[0],df[df['SecuritiesCode'] == i].index[-1]+60,60),method='pad'))\n",
    "#     new_df.fillna(method = 'pad', inplace = True) \n",
    "#     return new_df\n",
    "\n",
    "\n",
    "def rsiFunc(prices, n=14):\n",
    "    deltas = np.diff(prices)\n",
    "    seed = deltas[:n+1]\n",
    "    up = seed[seed>=0].sum()/n\n",
    "    down = -seed[seed<0].sum()/n\n",
    "    rs = up/down\n",
    "    rsi = np.zeros_like(prices)\n",
    "    rsi[:n] = 100. - 100./(1.+rs)\n",
    "\n",
    "    for i in range(n, len(prices)):\n",
    "        delta = deltas[i-1] # cause the diff is 1 shorter\n",
    "\n",
    "        if delta>0:\n",
    "            upval = delta\n",
    "            downval = 0.\n",
    "        else:\n",
    "            upval = 0.\n",
    "            downval = -delta\n",
    "\n",
    "        up = (up*(n-1) + upval)/n\n",
    "        down = (down*(n-1) + downval)/n\n",
    "\n",
    "        rs = up/down\n",
    "        rsi[i] = 100. - 100./(1.+rs)\n",
    "\n",
    "    return rsi\n",
    "\n",
    "\n",
    "\n",
    "def get_features(df):\n",
    "\n",
    "    df['log_return_5'] = log_return_feature(df['Close'],periods=5)\n",
    "    df['log_return'] = log_return_feature(df['Close'],periods=1)\n",
    "\n",
    "    upper_shadow = lambda asset: asset.High - np.maximum(asset.Close,asset.Open)\n",
    "    lower_shadow = lambda asset: np.minimum(asset.Close,asset.Open)- asset.Low\n",
    "\n",
    "    df['upper_shadow'] = upper_shadow(df)\n",
    "    df['lower_shadow'] = lower_shadow(df)\n",
    "    \n",
    "#     df['EMA_21'] = df['Close'].ewm(span=21).mean()\n",
    "    \n",
    "#     df['EMA_55'] = df['Close'].ewm(span=55).mean()\n",
    "    \n",
    "#     df['EMA_315'] = df['Close'].ewm(span=315).mean()\n",
    "    \n",
    "#     df['EMA_825'] = df['Close'].ewm(span=825).mean()\n",
    "    \n",
    "    window = 7\n",
    "    \n",
    "    no_of_std = 2\n",
    "    \n",
    "    df[f'EMA_{window}'] = df['Close'].ewm(span=window).mean()\n",
    "    \n",
    "    df[f'EMA_{window}_std'] = df['Close'].rolling(window=window).std()\n",
    "    \n",
    "#     df[f'EMA_{window}_BB_high'] = df[f'EMA_{window}'] + no_of_std * df[f'EMA_{window}_std']\n",
    "    \n",
    "#     df[f'MA_{window}MA_BB_low'] = df[f'EMA_{window}'] - no_of_std * df[f'EMA_{window}_std']\n",
    "    \n",
    "    window = 5\n",
    "    \n",
    "    df[f'EMA_{window}'] = df['Close'].ewm(span=window).mean()\n",
    "    \n",
    "    df[f'EMA_{window}_std'] = df['Close'].rolling(window=window).std()\n",
    "    \n",
    "#     df[f'EMA_{window}_BB_high'] = df[f'EMA_{window}'] + no_of_std * df[f'EMA_{window}_std']\n",
    "    \n",
    "#     df[f'MA_{window}MA_BB_low'] = df[f'EMA_{window}'] - no_of_std * df[f'EMA_{window}_std']\n",
    "    \n",
    "    df['MACD'] = df['EMA_7'] - df['EMA_5']\n",
    "    \n",
    "    \n",
    "    df['rsi_5'] = rsiFunc(df['Close'].values, 5)\n",
    "    \n",
    "    df['rsi_7'] = rsiFunc(df['Close'].values, 7)\n",
    "    \n",
    "    df['rsi_21'] = rsiFunc(df['Close'].values, 21)\n",
    "    \n",
    "    \n",
    "    \n",
    "    df['VWAP'] = (df['Close'] * df['Volume'])/ df['Volume']\n",
    "\n",
    "\n",
    "\n",
    "\n",
    "    \n",
    "    \n",
    "    #df = pd.concat([df, pd.get_dummies(df['Asset_ID'], prefix= 'Asset_')], axis=1)\n",
    "\n",
    "    return df\n",
    "\n"
   ]
  },
  {
   "cell_type": "code",
   "execution_count": null,
   "id": "53e5bfbe",
   "metadata": {
    "papermill": {
     "duration": 0.011193,
     "end_time": "2022-06-23T02:27:55.106884",
     "exception": false,
     "start_time": "2022-06-23T02:27:55.095691",
     "status": "completed"
    },
    "tags": []
   },
   "outputs": [],
   "source": []
  },
  {
   "cell_type": "code",
   "execution_count": 12,
   "id": "b8c17006",
   "metadata": {
    "execution": {
     "iopub.execute_input": "2022-06-23T02:27:55.131641Z",
     "iopub.status.busy": "2022-06-23T02:27:55.130895Z",
     "iopub.status.idle": "2022-06-23T02:27:56.026809Z",
     "shell.execute_reply": "2022-06-23T02:27:56.025683Z"
    },
    "papermill": {
     "duration": 0.910891,
     "end_time": "2022-06-23T02:27:56.029158",
     "exception": false,
     "start_time": "2022-06-23T02:27:55.118267",
     "status": "completed"
    },
    "tags": []
   },
   "outputs": [
    {
     "name": "stderr",
     "output_type": "stream",
     "text": [
      "/opt/conda/lib/python3.7/site-packages/pandas/core/algorithms.py:1711: RuntimeWarning: invalid value encountered in subtract\n",
      "  out_arr[res_indexer] = op(arr[res_indexer], arr[lag_indexer])\n",
      "/opt/conda/lib/python3.7/site-packages/numpy/lib/function_base.py:1292: RuntimeWarning: invalid value encountered in subtract\n",
      "  a = op(a[slice1], a[slice2])\n"
     ]
    }
   ],
   "source": [
    "df_prices = df_prices.sort_values('SecuritiesCode')\n",
    "\n",
    "df_prices = get_features(df_prices)\n",
    "\n",
    "df_prices = df_prices.replace((np.inf, -np.inf, np.nan), 0).reset_index(drop=True)\n",
    "\n",
    "df_prices = df_prices.fillna(0)"
   ]
  },
  {
   "cell_type": "markdown",
   "id": "a775e277",
   "metadata": {
    "papermill": {
     "duration": 0.012215,
     "end_time": "2022-06-23T02:27:56.053996",
     "exception": false,
     "start_time": "2022-06-23T02:27:56.041781",
     "status": "completed"
    },
    "tags": []
   },
   "source": [
    "## Data Preparation\n",
    "\n"
   ]
  },
  {
   "cell_type": "code",
   "execution_count": 13,
   "id": "710c6e53",
   "metadata": {
    "execution": {
     "iopub.execute_input": "2022-06-23T02:27:56.078845Z",
     "iopub.status.busy": "2022-06-23T02:27:56.078449Z",
     "iopub.status.idle": "2022-06-23T02:27:57.322652Z",
     "shell.execute_reply": "2022-06-23T02:27:57.321714Z"
    },
    "papermill": {
     "duration": 1.259817,
     "end_time": "2022-06-23T02:27:57.325514",
     "exception": false,
     "start_time": "2022-06-23T02:27:56.065697",
     "status": "completed"
    },
    "tags": []
   },
   "outputs": [],
   "source": [
    "\n",
    "from sklearn.preprocessing import StandardScaler\n",
    "scaler = StandardScaler()"
   ]
  },
  {
   "cell_type": "code",
   "execution_count": 14,
   "id": "a3130769",
   "metadata": {
    "execution": {
     "iopub.execute_input": "2022-06-23T02:27:57.350289Z",
     "iopub.status.busy": "2022-06-23T02:27:57.349840Z",
     "iopub.status.idle": "2022-06-23T02:27:57.356957Z",
     "shell.execute_reply": "2022-06-23T02:27:57.355760Z"
    },
    "papermill": {
     "duration": 0.022344,
     "end_time": "2022-06-23T02:27:57.359545",
     "exception": false,
     "start_time": "2022-06-23T02:27:57.337201",
     "status": "completed"
    },
    "tags": []
   },
   "outputs": [],
   "source": [
    "scaled_features = ['Open', 'High', 'Low', 'Close', 'Volume', 'log_return_5', 'log_return', 'upper_shadow', 'lower_shadow',\n",
    "       'VWAP', 'EMA_7', 'EMA_7_std','EMA_5', 'EMA_5_std', 'MACD', 'rsi_5', 'rsi_7', 'rsi_21']\n",
    "features = [\"SecuritiesCode\",'Open', 'High', 'Low', 'Close', 'Volume', 'log_return_5', 'log_return', 'upper_shadow', 'lower_shadow',\n",
    "       'VWAP', 'EMA_7', 'EMA_7_std','EMA_5', 'EMA_5_std', 'MACD', 'rsi_5', 'rsi_7', 'rsi_21']"
   ]
  },
  {
   "cell_type": "code",
   "execution_count": null,
   "id": "3e72bba5",
   "metadata": {
    "papermill": {
     "duration": 0.011563,
     "end_time": "2022-06-23T02:27:57.382611",
     "exception": false,
     "start_time": "2022-06-23T02:27:57.371048",
     "status": "completed"
    },
    "tags": []
   },
   "outputs": [],
   "source": []
  },
  {
   "cell_type": "code",
   "execution_count": 15,
   "id": "853ca916",
   "metadata": {
    "execution": {
     "iopub.execute_input": "2022-06-23T02:27:57.407938Z",
     "iopub.status.busy": "2022-06-23T02:27:57.407181Z",
     "iopub.status.idle": "2022-06-23T02:27:57.443974Z",
     "shell.execute_reply": "2022-06-23T02:27:57.442541Z"
    },
    "papermill": {
     "duration": 0.052939,
     "end_time": "2022-06-23T02:27:57.446981",
     "exception": false,
     "start_time": "2022-06-23T02:27:57.394042",
     "status": "completed"
    },
    "tags": []
   },
   "outputs": [],
   "source": [
    "df_prices[scaled_features] = scaler.fit_transform(df_prices[scaled_features])"
   ]
  },
  {
   "cell_type": "code",
   "execution_count": null,
   "id": "19f75b8f",
   "metadata": {
    "papermill": {
     "duration": 0.011667,
     "end_time": "2022-06-23T02:27:57.470628",
     "exception": false,
     "start_time": "2022-06-23T02:27:57.458961",
     "status": "completed"
    },
    "tags": []
   },
   "outputs": [],
   "source": []
  },
  {
   "cell_type": "markdown",
   "id": "cb898a28",
   "metadata": {
    "papermill": {
     "duration": 0.011506,
     "end_time": "2022-06-23T02:27:57.495319",
     "exception": false,
     "start_time": "2022-06-23T02:27:57.483813",
     "status": "completed"
    },
    "tags": []
   },
   "source": [
    "## Data Prep 2\n",
    "\n",
    "From Keras tutorial:\n",
    "https://keras.io/examples/timeseries/timeseries_classification_transformer/"
   ]
  },
  {
   "cell_type": "code",
   "execution_count": null,
   "id": "6fe67be7",
   "metadata": {
    "papermill": {
     "duration": 0.012045,
     "end_time": "2022-06-23T02:27:57.518868",
     "exception": false,
     "start_time": "2022-06-23T02:27:57.506823",
     "status": "completed"
    },
    "tags": []
   },
   "outputs": [],
   "source": []
  },
  {
   "cell_type": "code",
   "execution_count": 16,
   "id": "cbff5b67",
   "metadata": {
    "execution": {
     "iopub.execute_input": "2022-06-23T02:27:57.544081Z",
     "iopub.status.busy": "2022-06-23T02:27:57.543564Z",
     "iopub.status.idle": "2022-06-23T02:27:57.556450Z",
     "shell.execute_reply": "2022-06-23T02:27:57.555665Z"
    },
    "papermill": {
     "duration": 0.027893,
     "end_time": "2022-06-23T02:27:57.558822",
     "exception": false,
     "start_time": "2022-06-23T02:27:57.530929",
     "status": "completed"
    },
    "tags": []
   },
   "outputs": [],
   "source": [
    "# # Creating endog and exog variables\n",
    "y = df_prices[['Target']]\n",
    "X = df_prices[features]"
   ]
  },
  {
   "cell_type": "code",
   "execution_count": 17,
   "id": "758b87cc",
   "metadata": {
    "execution": {
     "iopub.execute_input": "2022-06-23T02:27:57.583694Z",
     "iopub.status.busy": "2022-06-23T02:27:57.582937Z",
     "iopub.status.idle": "2022-06-23T02:27:57.667643Z",
     "shell.execute_reply": "2022-06-23T02:27:57.666679Z"
    },
    "papermill": {
     "duration": 0.10002,
     "end_time": "2022-06-23T02:27:57.670220",
     "exception": false,
     "start_time": "2022-06-23T02:27:57.570200",
     "status": "completed"
    },
    "tags": []
   },
   "outputs": [],
   "source": [
    "from sklearn.model_selection import train_test_split\n",
    "x_train, x_test, y_train, y_test = train_test_split(X, y, test_size=0.33, random_state=42)"
   ]
  },
  {
   "cell_type": "code",
   "execution_count": 18,
   "id": "a87a97be",
   "metadata": {
    "execution": {
     "iopub.execute_input": "2022-06-23T02:27:57.695007Z",
     "iopub.status.busy": "2022-06-23T02:27:57.694628Z",
     "iopub.status.idle": "2022-06-23T02:27:57.713582Z",
     "shell.execute_reply": "2022-06-23T02:27:57.712561Z"
    },
    "papermill": {
     "duration": 0.033947,
     "end_time": "2022-06-23T02:27:57.716033",
     "exception": false,
     "start_time": "2022-06-23T02:27:57.682086",
     "status": "completed"
    },
    "tags": []
   },
   "outputs": [],
   "source": [
    "x_train = np.asarray(x_train)\n",
    "y_train = np.asarray(y_train)\n",
    "x_test = np.asarray(x_test)\n",
    "y_test = np.asarray(y_test)\n",
    "\n",
    "x_train = x_train.reshape((x_train.shape[0], x_train.shape[1], 1))\n",
    "x_test = x_test.reshape((x_test.shape[0], x_test.shape[1], 1))\n",
    "\n",
    "n_classes = len(np.unique(y_train))\n",
    "\n",
    "idx = np.random.permutation(len(x_train))\n",
    "x_train = x_train[idx]\n",
    "y_train = y_train[idx]\n",
    "\n",
    "y_train[y_train == -1] = 0\n",
    "y_test[y_test == -1] = 0"
   ]
  },
  {
   "cell_type": "code",
   "execution_count": null,
   "id": "5d24359c",
   "metadata": {
    "papermill": {
     "duration": 0.011798,
     "end_time": "2022-06-23T02:27:57.739161",
     "exception": false,
     "start_time": "2022-06-23T02:27:57.727363",
     "status": "completed"
    },
    "tags": []
   },
   "outputs": [],
   "source": []
  },
  {
   "cell_type": "code",
   "execution_count": 19,
   "id": "af421eb9",
   "metadata": {
    "execution": {
     "iopub.execute_input": "2022-06-23T02:27:57.765418Z",
     "iopub.status.busy": "2022-06-23T02:27:57.764679Z",
     "iopub.status.idle": "2022-06-23T02:27:57.891560Z",
     "shell.execute_reply": "2022-06-23T02:27:57.890590Z"
    },
    "papermill": {
     "duration": 0.142676,
     "end_time": "2022-06-23T02:27:57.893698",
     "exception": false,
     "start_time": "2022-06-23T02:27:57.751022",
     "status": "completed"
    },
    "tags": []
   },
   "outputs": [
    {
     "data": {
      "text/plain": [
       "21"
      ]
     },
     "execution_count": 19,
     "metadata": {},
     "output_type": "execute_result"
    }
   ],
   "source": [
    "del df_prices\n",
    "gc.collect()"
   ]
  },
  {
   "cell_type": "markdown",
   "id": "cfd4c9e3",
   "metadata": {
    "papermill": {
     "duration": 0.011904,
     "end_time": "2022-06-23T02:27:57.917002",
     "exception": false,
     "start_time": "2022-06-23T02:27:57.905098",
     "status": "completed"
    },
    "tags": []
   },
   "source": [
    "## Build The Model"
   ]
  },
  {
   "cell_type": "code",
   "execution_count": 20,
   "id": "b91cdff7",
   "metadata": {
    "execution": {
     "iopub.execute_input": "2022-06-23T02:27:57.943390Z",
     "iopub.status.busy": "2022-06-23T02:27:57.942611Z",
     "iopub.status.idle": "2022-06-23T02:28:05.918305Z",
     "shell.execute_reply": "2022-06-23T02:28:05.917283Z"
    },
    "papermill": {
     "duration": 7.991752,
     "end_time": "2022-06-23T02:28:05.920914",
     "exception": false,
     "start_time": "2022-06-23T02:27:57.929162",
     "status": "completed"
    },
    "tags": []
   },
   "outputs": [],
   "source": [
    "from tensorflow import keras\n",
    "from tensorflow.keras import layers\n"
   ]
  },
  {
   "cell_type": "code",
   "execution_count": 21,
   "id": "fc6fd870",
   "metadata": {
    "execution": {
     "iopub.execute_input": "2022-06-23T02:28:05.947570Z",
     "iopub.status.busy": "2022-06-23T02:28:05.946725Z",
     "iopub.status.idle": "2022-06-23T02:28:05.955560Z",
     "shell.execute_reply": "2022-06-23T02:28:05.954533Z"
    },
    "papermill": {
     "duration": 0.024139,
     "end_time": "2022-06-23T02:28:05.957660",
     "exception": false,
     "start_time": "2022-06-23T02:28:05.933521",
     "status": "completed"
    },
    "tags": []
   },
   "outputs": [],
   "source": [
    "def transformer_encoder(inputs, head_size, num_heads, ff_dim, dropout=0):\n",
    "    # Attention and Normalization\n",
    "    x = layers.MultiHeadAttention(\n",
    "        key_dim=head_size, num_heads=num_heads, dropout=dropout\n",
    "    )(inputs, inputs)\n",
    "    x = layers.Dropout(dropout)(x)\n",
    "    x = layers.LayerNormalization(epsilon=1e-6)(x)\n",
    "    res = x + inputs\n",
    "\n",
    "    # Feed Forward Part\n",
    "    x = layers.Conv1D(filters=ff_dim, kernel_size=1, activation=\"relu\")(res)\n",
    "    x = layers.Dropout(dropout)(x)\n",
    "    x = layers.Conv1D(filters=inputs.shape[-1], kernel_size=1)(x)\n",
    "    x = layers.LayerNormalization(epsilon=1e-6)(x)\n",
    "    return x + res"
   ]
  },
  {
   "cell_type": "code",
   "execution_count": 22,
   "id": "16546d4e",
   "metadata": {
    "execution": {
     "iopub.execute_input": "2022-06-23T02:28:05.984493Z",
     "iopub.status.busy": "2022-06-23T02:28:05.983449Z",
     "iopub.status.idle": "2022-06-23T02:28:05.992444Z",
     "shell.execute_reply": "2022-06-23T02:28:05.991607Z"
    },
    "papermill": {
     "duration": 0.02477,
     "end_time": "2022-06-23T02:28:05.994838",
     "exception": false,
     "start_time": "2022-06-23T02:28:05.970068",
     "status": "completed"
    },
    "tags": []
   },
   "outputs": [],
   "source": [
    "def build_model(\n",
    "    input_shape,\n",
    "    head_size,\n",
    "    num_heads,\n",
    "    ff_dim,\n",
    "    num_transformer_blocks,\n",
    "    mlp_units,\n",
    "    dropout=0,\n",
    "    mlp_dropout=0,\n",
    "):\n",
    "    inputs = keras.Input(shape=input_shape)\n",
    "    x = inputs\n",
    "    for _ in range(num_transformer_blocks):\n",
    "        x = transformer_encoder(x, head_size, num_heads, ff_dim, dropout)\n",
    "\n",
    "    x = layers.GlobalAveragePooling1D(data_format=\"channels_first\")(x)\n",
    "    for dim in mlp_units:\n",
    "        x = layers.Dense(dim, activation=\"relu\")(x)\n",
    "        x = layers.Dropout(mlp_dropout)(x)\n",
    "    outputs = layers.Dense(n_classes, activation=\"softmax\")(x)\n",
    "    return keras.Model(inputs, outputs)"
   ]
  },
  {
   "cell_type": "markdown",
   "id": "c0cce619",
   "metadata": {
    "papermill": {
     "duration": 0.011148,
     "end_time": "2022-06-23T02:28:06.017543",
     "exception": false,
     "start_time": "2022-06-23T02:28:06.006395",
     "status": "completed"
    },
    "tags": []
   },
   "source": [
    "## Train and evaluate"
   ]
  },
  {
   "cell_type": "code",
   "execution_count": 23,
   "id": "05c34c62",
   "metadata": {
    "execution": {
     "iopub.execute_input": "2022-06-23T02:28:06.042389Z",
     "iopub.status.busy": "2022-06-23T02:28:06.041654Z",
     "iopub.status.idle": "2022-06-23T02:41:35.466886Z",
     "shell.execute_reply": "2022-06-23T02:41:35.466094Z"
    },
    "papermill": {
     "duration": 809.439928,
     "end_time": "2022-06-23T02:41:35.468911",
     "exception": false,
     "start_time": "2022-06-23T02:28:06.028983",
     "status": "completed"
    },
    "tags": []
   },
   "outputs": [
    {
     "name": "stderr",
     "output_type": "stream",
     "text": [
      "2022-06-23 02:28:06.331517: I tensorflow/core/common_runtime/process_util.cc:146] Creating new thread pool with default inter op setting: 2. Tune using inter_op_parallelism_threads for best performance.\n"
     ]
    },
    {
     "name": "stdout",
     "output_type": "stream",
     "text": [
      "Model: \"model\"\n",
      "__________________________________________________________________________________________________\n",
      "Layer (type)                    Output Shape         Param #     Connected to                     \n",
      "==================================================================================================\n",
      "input_1 (InputLayer)            [(None, 19, 1)]      0                                            \n",
      "__________________________________________________________________________________________________\n",
      "multi_head_attention (MultiHead (None, 19, 1)        7169        input_1[0][0]                    \n",
      "                                                                 input_1[0][0]                    \n",
      "__________________________________________________________________________________________________\n",
      "dropout (Dropout)               (None, 19, 1)        0           multi_head_attention[0][0]       \n",
      "__________________________________________________________________________________________________\n",
      "layer_normalization (LayerNorma (None, 19, 1)        2           dropout[0][0]                    \n",
      "__________________________________________________________________________________________________\n",
      "tf.__operators__.add (TFOpLambd (None, 19, 1)        0           layer_normalization[0][0]        \n",
      "                                                                 input_1[0][0]                    \n",
      "__________________________________________________________________________________________________\n",
      "conv1d (Conv1D)                 (None, 19, 4)        8           tf.__operators__.add[0][0]       \n",
      "__________________________________________________________________________________________________\n",
      "dropout_1 (Dropout)             (None, 19, 4)        0           conv1d[0][0]                     \n",
      "__________________________________________________________________________________________________\n",
      "conv1d_1 (Conv1D)               (None, 19, 1)        5           dropout_1[0][0]                  \n",
      "__________________________________________________________________________________________________\n",
      "layer_normalization_1 (LayerNor (None, 19, 1)        2           conv1d_1[0][0]                   \n",
      "__________________________________________________________________________________________________\n",
      "tf.__operators__.add_1 (TFOpLam (None, 19, 1)        0           layer_normalization_1[0][0]      \n",
      "                                                                 tf.__operators__.add[0][0]       \n",
      "__________________________________________________________________________________________________\n",
      "multi_head_attention_1 (MultiHe (None, 19, 1)        7169        tf.__operators__.add_1[0][0]     \n",
      "                                                                 tf.__operators__.add_1[0][0]     \n",
      "__________________________________________________________________________________________________\n",
      "dropout_2 (Dropout)             (None, 19, 1)        0           multi_head_attention_1[0][0]     \n",
      "__________________________________________________________________________________________________\n",
      "layer_normalization_2 (LayerNor (None, 19, 1)        2           dropout_2[0][0]                  \n",
      "__________________________________________________________________________________________________\n",
      "tf.__operators__.add_2 (TFOpLam (None, 19, 1)        0           layer_normalization_2[0][0]      \n",
      "                                                                 tf.__operators__.add_1[0][0]     \n",
      "__________________________________________________________________________________________________\n",
      "conv1d_2 (Conv1D)               (None, 19, 4)        8           tf.__operators__.add_2[0][0]     \n",
      "__________________________________________________________________________________________________\n",
      "dropout_3 (Dropout)             (None, 19, 4)        0           conv1d_2[0][0]                   \n",
      "__________________________________________________________________________________________________\n",
      "conv1d_3 (Conv1D)               (None, 19, 1)        5           dropout_3[0][0]                  \n",
      "__________________________________________________________________________________________________\n",
      "layer_normalization_3 (LayerNor (None, 19, 1)        2           conv1d_3[0][0]                   \n",
      "__________________________________________________________________________________________________\n",
      "tf.__operators__.add_3 (TFOpLam (None, 19, 1)        0           layer_normalization_3[0][0]      \n",
      "                                                                 tf.__operators__.add_2[0][0]     \n",
      "__________________________________________________________________________________________________\n",
      "multi_head_attention_2 (MultiHe (None, 19, 1)        7169        tf.__operators__.add_3[0][0]     \n",
      "                                                                 tf.__operators__.add_3[0][0]     \n",
      "__________________________________________________________________________________________________\n",
      "dropout_4 (Dropout)             (None, 19, 1)        0           multi_head_attention_2[0][0]     \n",
      "__________________________________________________________________________________________________\n",
      "layer_normalization_4 (LayerNor (None, 19, 1)        2           dropout_4[0][0]                  \n",
      "__________________________________________________________________________________________________\n",
      "tf.__operators__.add_4 (TFOpLam (None, 19, 1)        0           layer_normalization_4[0][0]      \n",
      "                                                                 tf.__operators__.add_3[0][0]     \n",
      "__________________________________________________________________________________________________\n",
      "conv1d_4 (Conv1D)               (None, 19, 4)        8           tf.__operators__.add_4[0][0]     \n",
      "__________________________________________________________________________________________________\n",
      "dropout_5 (Dropout)             (None, 19, 4)        0           conv1d_4[0][0]                   \n",
      "__________________________________________________________________________________________________\n",
      "conv1d_5 (Conv1D)               (None, 19, 1)        5           dropout_5[0][0]                  \n",
      "__________________________________________________________________________________________________\n",
      "layer_normalization_5 (LayerNor (None, 19, 1)        2           conv1d_5[0][0]                   \n",
      "__________________________________________________________________________________________________\n",
      "tf.__operators__.add_5 (TFOpLam (None, 19, 1)        0           layer_normalization_5[0][0]      \n",
      "                                                                 tf.__operators__.add_4[0][0]     \n",
      "__________________________________________________________________________________________________\n",
      "multi_head_attention_3 (MultiHe (None, 19, 1)        7169        tf.__operators__.add_5[0][0]     \n",
      "                                                                 tf.__operators__.add_5[0][0]     \n",
      "__________________________________________________________________________________________________\n",
      "dropout_6 (Dropout)             (None, 19, 1)        0           multi_head_attention_3[0][0]     \n",
      "__________________________________________________________________________________________________\n",
      "layer_normalization_6 (LayerNor (None, 19, 1)        2           dropout_6[0][0]                  \n",
      "__________________________________________________________________________________________________\n",
      "tf.__operators__.add_6 (TFOpLam (None, 19, 1)        0           layer_normalization_6[0][0]      \n",
      "                                                                 tf.__operators__.add_5[0][0]     \n",
      "__________________________________________________________________________________________________\n",
      "conv1d_6 (Conv1D)               (None, 19, 4)        8           tf.__operators__.add_6[0][0]     \n",
      "__________________________________________________________________________________________________\n",
      "dropout_7 (Dropout)             (None, 19, 4)        0           conv1d_6[0][0]                   \n",
      "__________________________________________________________________________________________________\n",
      "conv1d_7 (Conv1D)               (None, 19, 1)        5           dropout_7[0][0]                  \n",
      "__________________________________________________________________________________________________\n",
      "layer_normalization_7 (LayerNor (None, 19, 1)        2           conv1d_7[0][0]                   \n",
      "__________________________________________________________________________________________________\n",
      "tf.__operators__.add_7 (TFOpLam (None, 19, 1)        0           layer_normalization_7[0][0]      \n",
      "                                                                 tf.__operators__.add_6[0][0]     \n",
      "__________________________________________________________________________________________________\n",
      "global_average_pooling1d (Globa (None, 19)           0           tf.__operators__.add_7[0][0]     \n",
      "__________________________________________________________________________________________________\n",
      "dense (Dense)                   (None, 128)          2560        global_average_pooling1d[0][0]   \n",
      "__________________________________________________________________________________________________\n",
      "dropout_8 (Dropout)             (None, 128)          0           dense[0][0]                      \n",
      "__________________________________________________________________________________________________\n",
      "dense_1 (Dense)                 (None, 9623)         1241367     dropout_8[0][0]                  \n",
      "==================================================================================================\n",
      "Total params: 1,272,671\n",
      "Trainable params: 1,272,671\n",
      "Non-trainable params: 0\n",
      "__________________________________________________________________________________________________\n",
      "Epoch 1/200\n"
     ]
    },
    {
     "name": "stderr",
     "output_type": "stream",
     "text": [
      "2022-06-23 02:28:06.944673: I tensorflow/compiler/mlir/mlir_graph_optimization_pass.cc:185] None of the MLIR Optimization Passes are enabled (registered 2)\n"
     ]
    },
    {
     "name": "stdout",
     "output_type": "stream",
     "text": [
      "302/302 [==============================] - 79s 243ms/step - loss: 56.0169 - sparse_categorical_accuracy: 0.0220 - val_loss: 0.0000e+00 - val_sparse_categorical_accuracy: 0.0330\n",
      "Epoch 2/200\n",
      "302/302 [==============================] - 73s 242ms/step - loss: 0.2956 - sparse_categorical_accuracy: 0.0306 - val_loss: 0.0000e+00 - val_sparse_categorical_accuracy: 0.0330\n",
      "Epoch 3/200\n",
      "302/302 [==============================] - 73s 242ms/step - loss: 0.0962 - sparse_categorical_accuracy: 0.0306 - val_loss: 0.0000e+00 - val_sparse_categorical_accuracy: 0.0330\n",
      "Epoch 4/200\n",
      "302/302 [==============================] - 73s 243ms/step - loss: 0.0442 - sparse_categorical_accuracy: 0.0307 - val_loss: 0.0000e+00 - val_sparse_categorical_accuracy: 0.0330\n",
      "Epoch 5/200\n",
      "302/302 [==============================] - 73s 243ms/step - loss: 0.0279 - sparse_categorical_accuracy: 0.0308 - val_loss: 0.0000e+00 - val_sparse_categorical_accuracy: 0.0330\n",
      "Epoch 6/200\n",
      "302/302 [==============================] - 73s 243ms/step - loss: 0.0237 - sparse_categorical_accuracy: 0.0308 - val_loss: 0.0000e+00 - val_sparse_categorical_accuracy: 0.0330\n",
      "Epoch 7/200\n",
      "302/302 [==============================] - 73s 241ms/step - loss: 0.0160 - sparse_categorical_accuracy: 0.0308 - val_loss: 0.0000e+00 - val_sparse_categorical_accuracy: 0.0330\n",
      "Epoch 8/200\n",
      "302/302 [==============================] - 72s 239ms/step - loss: 0.0121 - sparse_categorical_accuracy: 0.0308 - val_loss: 0.0000e+00 - val_sparse_categorical_accuracy: 0.0330\n",
      "Epoch 9/200\n",
      "302/302 [==============================] - 72s 239ms/step - loss: 0.0081 - sparse_categorical_accuracy: 0.0308 - val_loss: 0.0000e+00 - val_sparse_categorical_accuracy: 0.0330\n",
      "Epoch 10/200\n",
      "302/302 [==============================] - 73s 243ms/step - loss: 0.0103 - sparse_categorical_accuracy: 0.0308 - val_loss: 0.0000e+00 - val_sparse_categorical_accuracy: 0.0330\n",
      "Epoch 11/200\n",
      "302/302 [==============================] - 73s 241ms/step - loss: 0.0014 - sparse_categorical_accuracy: 0.0308 - val_loss: 0.0000e+00 - val_sparse_categorical_accuracy: 0.0330\n"
     ]
    },
    {
     "data": {
      "text/plain": [
       "<keras.callbacks.History at 0x7fe58a0bbe50>"
      ]
     },
     "execution_count": 23,
     "metadata": {},
     "output_type": "execute_result"
    }
   ],
   "source": [
    "input_shape = x_train.shape[1:]\n",
    "\n",
    "model = build_model(\n",
    "    input_shape,\n",
    "    head_size=256,\n",
    "    num_heads=4,\n",
    "    ff_dim=4,\n",
    "    num_transformer_blocks=4,\n",
    "    mlp_units=[128],\n",
    "    mlp_dropout=0.4,\n",
    "    dropout=0.25,\n",
    ")\n",
    "\n",
    "model.compile(\n",
    "    loss=\"sparse_categorical_crossentropy\",\n",
    "    optimizer=keras.optimizers.Adam(learning_rate=1e-4),\n",
    "    metrics=[\"sparse_categorical_accuracy\"],\n",
    ")\n",
    "model.summary()\n",
    "\n",
    "callbacks = [keras.callbacks.EarlyStopping(patience=10, restore_best_weights=True)]\n",
    "\n",
    "model.fit(\n",
    "    x_train,\n",
    "    y_train,\n",
    "    validation_split=0.2,\n",
    "    epochs=200,\n",
    "    batch_size=64,\n",
    "    callbacks=callbacks,\n",
    ")\n"
   ]
  },
  {
   "cell_type": "code",
   "execution_count": 24,
   "id": "a53f6c6c",
   "metadata": {
    "execution": {
     "iopub.execute_input": "2022-06-23T02:41:35.976966Z",
     "iopub.status.busy": "2022-06-23T02:41:35.976197Z",
     "iopub.status.idle": "2022-06-23T02:42:54.695115Z",
     "shell.execute_reply": "2022-06-23T02:42:54.693889Z"
    },
    "papermill": {
     "duration": 78.978315,
     "end_time": "2022-06-23T02:42:54.698044",
     "exception": false,
     "start_time": "2022-06-23T02:41:35.719729",
     "status": "completed"
    },
    "tags": []
   },
   "outputs": [
    {
     "name": "stdout",
     "output_type": "stream",
     "text": [
      "372/372 [==============================] - 14s 37ms/step - loss: 0.0000e+00 - sparse_categorical_accuracy: 0.0327\n"
     ]
    },
    {
     "data": {
      "text/plain": [
       "[0.0, 0.03265993297100067]"
      ]
     },
     "execution_count": 24,
     "metadata": {},
     "output_type": "execute_result"
    }
   ],
   "source": [
    "model.evaluate(x_test, y_test, verbose=1)"
   ]
  },
  {
   "cell_type": "code",
   "execution_count": 25,
   "id": "d1c9186e",
   "metadata": {
    "execution": {
     "iopub.execute_input": "2022-06-23T02:42:55.312926Z",
     "iopub.status.busy": "2022-06-23T02:42:55.312535Z",
     "iopub.status.idle": "2022-06-23T02:43:03.148988Z",
     "shell.execute_reply": "2022-06-23T02:43:03.147578Z"
    },
    "papermill": {
     "duration": 8.170727,
     "end_time": "2022-06-23T02:43:03.153006",
     "exception": false,
     "start_time": "2022-06-23T02:42:54.982279",
     "status": "completed"
    },
    "tags": []
   },
   "outputs": [
    {
     "name": "stderr",
     "output_type": "stream",
     "text": [
      "2022-06-23 02:42:57.636887: W tensorflow/python/util/util.cc:348] Sets are not currently considered sequences, but this may change in the future, so consider avoiding using them.\n"
     ]
    }
   ],
   "source": [
    "model.save(\"tr_1.tf\")"
   ]
  },
  {
   "cell_type": "code",
   "execution_count": null,
   "id": "bb3a1669",
   "metadata": {
    "execution": {
     "iopub.execute_input": "2022-06-23T02:25:05.646039Z",
     "iopub.status.busy": "2022-06-23T02:25:05.645580Z",
     "iopub.status.idle": "2022-06-23T02:25:05.757188Z",
     "shell.execute_reply": "2022-06-23T02:25:05.756235Z",
     "shell.execute_reply.started": "2022-06-23T02:25:05.646006Z"
    },
    "papermill": {
     "duration": 0.274415,
     "end_time": "2022-06-23T02:43:03.698543",
     "exception": false,
     "start_time": "2022-06-23T02:43:03.424128",
     "status": "completed"
    },
    "tags": []
   },
   "outputs": [],
   "source": []
  },
  {
   "cell_type": "code",
   "execution_count": null,
   "id": "2ded8788",
   "metadata": {
    "execution": {
     "iopub.execute_input": "2022-06-23T02:25:25.718120Z",
     "iopub.status.busy": "2022-06-23T02:25:25.717606Z",
     "iopub.status.idle": "2022-06-23T02:25:25.726057Z",
     "shell.execute_reply": "2022-06-23T02:25:25.724932Z",
     "shell.execute_reply.started": "2022-06-23T02:25:25.718084Z"
    },
    "papermill": {
     "duration": 0.271446,
     "end_time": "2022-06-23T02:43:04.242802",
     "exception": false,
     "start_time": "2022-06-23T02:43:03.971356",
     "status": "completed"
    },
    "tags": []
   },
   "outputs": [],
   "source": []
  },
  {
   "cell_type": "code",
   "execution_count": null,
   "id": "4854f146",
   "metadata": {
    "execution": {
     "iopub.execute_input": "2022-06-23T02:24:52.511184Z",
     "iopub.status.busy": "2022-06-23T02:24:52.510746Z",
     "iopub.status.idle": "2022-06-23T02:24:52.522404Z",
     "shell.execute_reply": "2022-06-23T02:24:52.521373Z",
     "shell.execute_reply.started": "2022-06-23T02:24:52.511152Z"
    },
    "papermill": {
     "duration": 0.269052,
     "end_time": "2022-06-23T02:43:04.780228",
     "exception": false,
     "start_time": "2022-06-23T02:43:04.511176",
     "status": "completed"
    },
    "tags": []
   },
   "outputs": [],
   "source": []
  },
  {
   "cell_type": "markdown",
   "id": "b436d822",
   "metadata": {
    "papermill": {
     "duration": 0.323605,
     "end_time": "2022-06-23T02:43:05.373246",
     "exception": false,
     "start_time": "2022-06-23T02:43:05.049641",
     "status": "completed"
    },
    "tags": []
   },
   "source": [
    "# Submission\n"
   ]
  },
  {
   "cell_type": "code",
   "execution_count": 26,
   "id": "15faf16a",
   "metadata": {
    "execution": {
     "iopub.execute_input": "2022-06-23T02:43:05.945040Z",
     "iopub.status.busy": "2022-06-23T02:43:05.944647Z",
     "iopub.status.idle": "2022-06-23T02:43:05.948066Z",
     "shell.execute_reply": "2022-06-23T02:43:05.947365Z"
    },
    "papermill": {
     "duration": 0.286241,
     "end_time": "2022-06-23T02:43:05.950105",
     "exception": false,
     "start_time": "2022-06-23T02:43:05.663864",
     "status": "completed"
    },
    "tags": []
   },
   "outputs": [],
   "source": [
    "# "
   ]
  },
  {
   "cell_type": "code",
   "execution_count": null,
   "id": "bd878aa9",
   "metadata": {
    "papermill": {
     "duration": 0.266919,
     "end_time": "2022-06-23T02:43:06.484601",
     "exception": false,
     "start_time": "2022-06-23T02:43:06.217682",
     "status": "completed"
    },
    "tags": []
   },
   "outputs": [],
   "source": []
  },
  {
   "cell_type": "code",
   "execution_count": null,
   "id": "d3d9041b",
   "metadata": {
    "papermill": {
     "duration": 0.270447,
     "end_time": "2022-06-23T02:43:07.028911",
     "exception": false,
     "start_time": "2022-06-23T02:43:06.758464",
     "status": "completed"
    },
    "tags": []
   },
   "outputs": [],
   "source": []
  }
 ],
 "metadata": {
  "kernelspec": {
   "display_name": "Python 3",
   "language": "python",
   "name": "python3"
  },
  "language_info": {
   "codemirror_mode": {
    "name": "ipython",
    "version": 3
   },
   "file_extension": ".py",
   "mimetype": "text/x-python",
   "name": "python",
   "nbconvert_exporter": "python",
   "pygments_lexer": "ipython3",
   "version": "3.7.12"
  },
  "papermill": {
   "default_parameters": {},
   "duration": 936.578702,
   "end_time": "2022-06-23T02:43:10.142590",
   "environment_variables": {},
   "exception": null,
   "input_path": "__notebook__.ipynb",
   "output_path": "__notebook__.ipynb",
   "parameters": {},
   "start_time": "2022-06-23T02:27:33.563888",
   "version": "2.3.4"
  }
 },
 "nbformat": 4,
 "nbformat_minor": 5
}
