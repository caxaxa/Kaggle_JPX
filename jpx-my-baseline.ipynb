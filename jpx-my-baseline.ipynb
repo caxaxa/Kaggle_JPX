{
 "cells": [
  {
   "cell_type": "code",
   "execution_count": 1,
   "id": "af399f68",
   "metadata": {
    "_cell_guid": "b1076dfc-b9ad-4769-8c92-a6c4dae69d19",
    "_uuid": "8f2839f25d086af736a60e9eeb907d3b93b6e0e5",
    "execution": {
     "iopub.execute_input": "2022-06-15T03:13:29.926115Z",
     "iopub.status.busy": "2022-06-15T03:13:29.925520Z",
     "iopub.status.idle": "2022-06-15T03:13:29.959442Z",
     "shell.execute_reply": "2022-06-15T03:13:29.958447Z"
    },
    "papermill": {
     "duration": 0.048019,
     "end_time": "2022-06-15T03:13:29.963070",
     "exception": false,
     "start_time": "2022-06-15T03:13:29.915051",
     "status": "completed"
    },
    "tags": []
   },
   "outputs": [
    {
     "name": "stdout",
     "output_type": "stream",
     "text": [
      "/kaggle/input/jpx-tokyo-stock-exchange-prediction/stock_list.csv\n",
      "/kaggle/input/jpx-tokyo-stock-exchange-prediction/example_test_files/sample_submission.csv\n",
      "/kaggle/input/jpx-tokyo-stock-exchange-prediction/example_test_files/options.csv\n",
      "/kaggle/input/jpx-tokyo-stock-exchange-prediction/example_test_files/financials.csv\n",
      "/kaggle/input/jpx-tokyo-stock-exchange-prediction/example_test_files/secondary_stock_prices.csv\n",
      "/kaggle/input/jpx-tokyo-stock-exchange-prediction/example_test_files/trades.csv\n",
      "/kaggle/input/jpx-tokyo-stock-exchange-prediction/example_test_files/stock_prices.csv\n",
      "/kaggle/input/jpx-tokyo-stock-exchange-prediction/jpx_tokyo_market_prediction/competition.cpython-37m-x86_64-linux-gnu.so\n",
      "/kaggle/input/jpx-tokyo-stock-exchange-prediction/jpx_tokyo_market_prediction/__init__.py\n",
      "/kaggle/input/jpx-tokyo-stock-exchange-prediction/data_specifications/stock_fin_spec.csv\n",
      "/kaggle/input/jpx-tokyo-stock-exchange-prediction/data_specifications/trades_spec.csv\n",
      "/kaggle/input/jpx-tokyo-stock-exchange-prediction/data_specifications/stock_price_spec.csv\n",
      "/kaggle/input/jpx-tokyo-stock-exchange-prediction/data_specifications/options_spec.csv\n",
      "/kaggle/input/jpx-tokyo-stock-exchange-prediction/data_specifications/stock_list_spec.csv\n",
      "/kaggle/input/jpx-tokyo-stock-exchange-prediction/train_files/options.csv\n",
      "/kaggle/input/jpx-tokyo-stock-exchange-prediction/train_files/financials.csv\n",
      "/kaggle/input/jpx-tokyo-stock-exchange-prediction/train_files/secondary_stock_prices.csv\n",
      "/kaggle/input/jpx-tokyo-stock-exchange-prediction/train_files/trades.csv\n",
      "/kaggle/input/jpx-tokyo-stock-exchange-prediction/train_files/stock_prices.csv\n",
      "/kaggle/input/jpx-tokyo-stock-exchange-prediction/supplemental_files/options.csv\n",
      "/kaggle/input/jpx-tokyo-stock-exchange-prediction/supplemental_files/financials.csv\n",
      "/kaggle/input/jpx-tokyo-stock-exchange-prediction/supplemental_files/secondary_stock_prices.csv\n",
      "/kaggle/input/jpx-tokyo-stock-exchange-prediction/supplemental_files/trades.csv\n",
      "/kaggle/input/jpx-tokyo-stock-exchange-prediction/supplemental_files/stock_prices.csv\n"
     ]
    }
   ],
   "source": [
    "# This Python 3 environment comes with many helpful analytics libraries installed\n",
    "# It is defined by the kaggle/python Docker image: https://github.com/kaggle/docker-python\n",
    "# For example, here's several helpful packages to load\n",
    "\n",
    "import numpy as np # linear algebra\n",
    "import pandas as pd # data processing, CSV file I/O (e.g. pd.read_csv)\n",
    "\n",
    "# Input data files are available in the read-only \"../input/\" directory\n",
    "# For example, running this (by clicking run or pressing Shift+Enter) will list all files under the input directory\n",
    "\n",
    "import os\n",
    "for dirname, _, filenames in os.walk('/kaggle/input'):\n",
    "    for filename in filenames:\n",
    "        print(os.path.join(dirname, filename))\n",
    "\n",
    "# You can write up to 20GB to the current directory (/kaggle/working/) th\n",
    "#at gets preserved as output when you create a version using \"Save & Run All\" \n",
    "# You can also write temporary files to /kaggle/temp/, but they won't be saved outside of the current session"
   ]
  },
  {
   "cell_type": "markdown",
   "id": "f01e0007",
   "metadata": {
    "papermill": {
     "duration": 0.007723,
     "end_time": "2022-06-15T03:13:29.979175",
     "exception": false,
     "start_time": "2022-06-15T03:13:29.971452",
     "status": "completed"
    },
    "tags": []
   },
   "source": [
    "# Here starts my Baseline\n",
    "\n",
    "Ideas:\n",
    "\n",
    "1  - Feature engeneering- Basic and effective;\n",
    "\n",
    "2 - Gradient Boosting Regressions;\n",
    "\n",
    "3 - Neuronets Regressions; and\n",
    "\n",
    "4 - Submission.\n",
    "\n"
   ]
  },
  {
   "cell_type": "markdown",
   "id": "ddf6fe65",
   "metadata": {
    "papermill": {
     "duration": 0.007227,
     "end_time": "2022-06-15T03:13:29.993807",
     "exception": false,
     "start_time": "2022-06-15T03:13:29.986580",
     "status": "completed"
    },
    "tags": []
   },
   "source": [
    "## 1 Feature Engeneering"
   ]
  },
  {
   "cell_type": "code",
   "execution_count": 2,
   "id": "a6221bd1",
   "metadata": {
    "execution": {
     "iopub.execute_input": "2022-06-15T03:13:30.010090Z",
     "iopub.status.busy": "2022-06-15T03:13:30.009708Z",
     "iopub.status.idle": "2022-06-15T03:13:30.014428Z",
     "shell.execute_reply": "2022-06-15T03:13:30.013653Z"
    },
    "papermill": {
     "duration": 0.014807,
     "end_time": "2022-06-15T03:13:30.016408",
     "exception": false,
     "start_time": "2022-06-15T03:13:30.001601",
     "status": "completed"
    },
    "tags": []
   },
   "outputs": [],
   "source": [
    "def concat_df(df1, df2):\n",
    "    df1 = pd.concat([df1, df2],\n",
    "                    ignore_index=True, sort=False\n",
    "                    ).drop_duplicates([\"RowId\"], keep=\"first\")\n",
    "    return df1"
   ]
  },
  {
   "cell_type": "code",
   "execution_count": 3,
   "id": "b707f851",
   "metadata": {
    "execution": {
     "iopub.execute_input": "2022-06-15T03:13:30.032575Z",
     "iopub.status.busy": "2022-06-15T03:13:30.031945Z",
     "iopub.status.idle": "2022-06-15T03:13:38.226762Z",
     "shell.execute_reply": "2022-06-15T03:13:38.225946Z"
    },
    "papermill": {
     "duration": 8.205525,
     "end_time": "2022-06-15T03:13:38.229157",
     "exception": false,
     "start_time": "2022-06-15T03:13:30.023632",
     "status": "completed"
    },
    "tags": []
   },
   "outputs": [
    {
     "name": "stdout",
     "output_type": "stream",
     "text": [
      "<class 'pandas.core.frame.DataFrame'>\n",
      "Int64Index: 273958 entries, 2288531 to 2562488\n",
      "Data columns (total 12 columns):\n",
      " #   Column            Non-Null Count   Dtype  \n",
      "---  ------            --------------   -----  \n",
      " 0   RowId             273958 non-null  object \n",
      " 1   Date              273958 non-null  object \n",
      " 2   SecuritiesCode    273958 non-null  int8   \n",
      " 3   Open              273119 non-null  float16\n",
      " 4   High              273119 non-null  float16\n",
      " 5   Low               273119 non-null  float16\n",
      " 6   Close             273119 non-null  float16\n",
      " 7   Volume            273958 non-null  int8   \n",
      " 8   AdjustmentFactor  273958 non-null  float16\n",
      " 9   ExpectedDividend  2066 non-null    float16\n",
      " 10  SupervisionFlag   273958 non-null  bool   \n",
      " 11  Target            273952 non-null  float16\n",
      "dtypes: bool(1), float16(7), int8(2), object(2)\n",
      "memory usage: 10.7+ MB\n"
     ]
    }
   ],
   "source": [
    "# For now... use pandas.... \n",
    "#If too heavy use Cudf\n",
    "\n",
    "# For now... just fix the floats\n",
    "dtypes = {\n",
    "'SecuritiesCode' : np.int8,\n",
    "'Open'           :     np.float16,\n",
    "'High'           :     np.float16,\n",
    "'Low'            :     np.float16,\n",
    "'Close'          :     np.float16,\n",
    "'Volume'         :       np.int8,\n",
    "'AdjustmentFactor':    np.float16,\n",
    "'ExpectedDividend':    np.float16,\n",
    "'Target'        :      np.float16\n",
    "}\n",
    "path = \"../input/jpx-tokyo-stock-exchange-prediction/\"\n",
    "df_prices = pd.read_csv(f\"{path}train_files/stock_prices.csv\",dtype = dtypes)\n",
    "prices = pd.read_csv(f\"{path}supplemental_files/stock_prices.csv\",dtype = dtypes)\n",
    "df_prices = concat_df(df_prices, prices)\n",
    "df_prices = df_prices[df_prices.Date>\"2021-11-01\"]\n",
    "df_prices.info(show_counts=True)"
   ]
  },
  {
   "cell_type": "code",
   "execution_count": 4,
   "id": "3c8ba243",
   "metadata": {
    "execution": {
     "iopub.execute_input": "2022-06-15T03:13:38.245347Z",
     "iopub.status.busy": "2022-06-15T03:13:38.245021Z",
     "iopub.status.idle": "2022-06-15T03:13:38.248454Z",
     "shell.execute_reply": "2022-06-15T03:13:38.247676Z"
    },
    "papermill": {
     "duration": 0.0133,
     "end_time": "2022-06-15T03:13:38.250078",
     "exception": false,
     "start_time": "2022-06-15T03:13:38.236778",
     "status": "completed"
    },
    "tags": []
   },
   "outputs": [],
   "source": [
    "# def prep_prices(price):\n",
    "#     price.fillna(0,inplace=True)\n",
    "#     return price"
   ]
  },
  {
   "cell_type": "code",
   "execution_count": 5,
   "id": "b7b47351",
   "metadata": {
    "execution": {
     "iopub.execute_input": "2022-06-15T03:13:38.266290Z",
     "iopub.status.busy": "2022-06-15T03:13:38.265734Z",
     "iopub.status.idle": "2022-06-15T03:13:38.269590Z",
     "shell.execute_reply": "2022-06-15T03:13:38.268662Z"
    },
    "papermill": {
     "duration": 0.014305,
     "end_time": "2022-06-15T03:13:38.271605",
     "exception": false,
     "start_time": "2022-06-15T03:13:38.257300",
     "status": "completed"
    },
    "tags": []
   },
   "outputs": [],
   "source": [
    "# df_prices = prep_prices(df_prices)\n",
    "# pd.options.display.float_format = '{:,.6g}'.format\n",
    "# df_prices.describe()"
   ]
  },
  {
   "cell_type": "code",
   "execution_count": null,
   "id": "11eee519",
   "metadata": {
    "papermill": {
     "duration": 0.007112,
     "end_time": "2022-06-15T03:13:38.286111",
     "exception": false,
     "start_time": "2022-06-15T03:13:38.278999",
     "status": "completed"
    },
    "tags": []
   },
   "outputs": [],
   "source": []
  },
  {
   "cell_type": "code",
   "execution_count": null,
   "id": "345188d7",
   "metadata": {
    "papermill": {
     "duration": 0.006919,
     "end_time": "2022-06-15T03:13:38.300397",
     "exception": false,
     "start_time": "2022-06-15T03:13:38.293478",
     "status": "completed"
    },
    "tags": []
   },
   "outputs": [],
   "source": []
  },
  {
   "cell_type": "code",
   "execution_count": 6,
   "id": "5e54d86b",
   "metadata": {
    "execution": {
     "iopub.execute_input": "2022-06-15T03:13:38.316966Z",
     "iopub.status.busy": "2022-06-15T03:13:38.316573Z",
     "iopub.status.idle": "2022-06-15T03:13:38.321416Z",
     "shell.execute_reply": "2022-06-15T03:13:38.320543Z"
    },
    "papermill": {
     "duration": 0.015493,
     "end_time": "2022-06-15T03:13:38.323150",
     "exception": false,
     "start_time": "2022-06-15T03:13:38.307657",
     "status": "completed"
    },
    "tags": []
   },
   "outputs": [],
   "source": [
    "from datetime import datetime\n",
    "import time\n",
    "\n",
    " # auxiliary function, from datetime to timestamp\n",
    "totimestamp = lambda s: np.int32(time.mktime(datetime.strptime(s, \"%Y-%m-%d\").timetuple()))"
   ]
  },
  {
   "cell_type": "markdown",
   "id": "3c181174",
   "metadata": {
    "papermill": {
     "duration": 0.006883,
     "end_time": "2022-06-15T03:13:38.337659",
     "exception": false,
     "start_time": "2022-06-15T03:13:38.330776",
     "status": "completed"
    },
    "tags": []
   },
   "source": [
    "# Data Features\n"
   ]
  },
  {
   "cell_type": "code",
   "execution_count": 7,
   "id": "2c496b0d",
   "metadata": {
    "execution": {
     "iopub.execute_input": "2022-06-15T03:13:38.354555Z",
     "iopub.status.busy": "2022-06-15T03:13:38.353498Z",
     "iopub.status.idle": "2022-06-15T03:13:38.373711Z",
     "shell.execute_reply": "2022-06-15T03:13:38.372920Z"
    },
    "papermill": {
     "duration": 0.030581,
     "end_time": "2022-06-15T03:13:38.375578",
     "exception": false,
     "start_time": "2022-06-15T03:13:38.344997",
     "status": "completed"
    },
    "tags": []
   },
   "outputs": [],
   "source": [
    "\n",
    "# define function to compute log returns\n",
    "def log_return(series, periods=1):\n",
    "    return np.log(series).diff(periods=periods)\n",
    "\n",
    "\n",
    "# def fill_the_gaps(df):\n",
    "#     new_df = pd.DataFrame(columns= df.columns)\n",
    "#     for i in range(len(df['SecuritiesCode'].unique())):\n",
    "#         new_df = new_df.append(df[df['SecuritiesCode'] == i].reindex(range(df[df['SecuritiesCode'] == i].index[0],df[df['SecuritiesCode'] == i].index[-1]+60,60),method='pad'))\n",
    "#     new_df.fillna(method = 'pad', inplace = True) \n",
    "#     return new_df\n",
    "\n",
    "\n",
    "def rsiFunc(prices, n=14):\n",
    "    deltas = np.diff(prices)\n",
    "    seed = deltas[:n+1]\n",
    "    up = seed[seed>=0].sum()/n\n",
    "    down = -seed[seed<0].sum()/n\n",
    "    rs = up/down\n",
    "    rsi = np.zeros_like(prices)\n",
    "    rsi[:n] = 100. - 100./(1.+rs)\n",
    "\n",
    "    for i in range(n, len(prices)):\n",
    "        delta = deltas[i-1] # cause the diff is 1 shorter\n",
    "\n",
    "        if delta>0:\n",
    "            upval = delta\n",
    "            downval = 0.\n",
    "        else:\n",
    "            upval = 0.\n",
    "            downval = -delta\n",
    "\n",
    "        up = (up*(n-1) + upval)/n\n",
    "        down = (down*(n-1) + downval)/n\n",
    "\n",
    "        rs = up/down\n",
    "        rsi[i] = 100. - 100./(1.+rs)\n",
    "\n",
    "    return rsi\n",
    "\n",
    "\n",
    "\n",
    "def get_features(df):\n",
    "\n",
    "    df['log_return_5'] = log_return(df['Close'],periods=5)\n",
    "    df['log_return'] = log_return(df['Close'],periods=1)\n",
    "\n",
    "    upper_shadow = lambda asset: asset.High - np.maximum(asset.Close,asset.Open)\n",
    "    lower_shadow = lambda asset: np.minimum(asset.Close,asset.Open)- asset.Low\n",
    "\n",
    "    df['upper_shadow'] = upper_shadow(df)\n",
    "    df['lower_shadow'] = lower_shadow(df)\n",
    "    \n",
    "    df['EMA_21'] = df['Close'].ewm(span=21).mean()\n",
    "    \n",
    "    df['EMA_55'] = df['Close'].ewm(span=55).mean()\n",
    "    \n",
    "    df['EMA_315'] = df['Close'].ewm(span=315).mean()\n",
    "    \n",
    "    df['EMA_825'] = df['Close'].ewm(span=825).mean()\n",
    "    \n",
    "    window = 7\n",
    "    \n",
    "    no_of_std = 2\n",
    "    \n",
    "    df[f'EMA_{window}'] = df['Close'].ewm(span=window).mean()\n",
    "    \n",
    "    df[f'EMA_{window}_std'] = df['Close'].rolling(window=window).std()\n",
    "    \n",
    "    df[f'EMA_{window}_BB_high'] = df[f'EMA_{window}'] + no_of_std * df[f'EMA_{window}_std']\n",
    "    \n",
    "    df[f'MA_{window}MA_BB_low'] = df[f'EMA_{window}'] - no_of_std * df[f'EMA_{window}_std']\n",
    "    \n",
    "    window = 5\n",
    "    \n",
    "    df[f'EMA_{window}'] = df['Close'].ewm(span=window).mean()\n",
    "    \n",
    "    df[f'EMA_{window}_std'] = df['Close'].rolling(window=window).std()\n",
    "    \n",
    "    df[f'EMA_{window}_BB_high'] = df[f'EMA_{window}'] + no_of_std * df[f'EMA_{window}_std']\n",
    "    \n",
    "    df[f'MA_{window}MA_BB_low'] = df[f'EMA_{window}'] - no_of_std * df[f'EMA_{window}_std']\n",
    "    \n",
    "    df['MACD'] = df['EMA_7'] - df['EMA_5']\n",
    "    \n",
    "    \n",
    "    df['rsi_5'] = rsiFunc(df['Close'].values, 5)\n",
    "    \n",
    "    df['rsi_7'] = rsiFunc(df['Close'].values, 7)\n",
    "    \n",
    "    df['rsi_21'] = rsiFunc(df['Close'].values, 21)\n",
    "\n",
    "    \n",
    "    \n",
    "    #df = pd.concat([df, pd.get_dummies(df['Asset_ID'], prefix= 'Asset_')], axis=1)\n",
    "    \n",
    "    df[['log_return_5', 'log_return', 'upper_shadow', 'lower_shadow',\n",
    "       'EMA_21', 'EMA_55', 'EMA_315', 'EMA_825', 'EMA_7', 'EMA_7_std',\n",
    "       'EMA_7_BB_high', 'MA_7MA_BB_low', 'EMA_5', 'EMA_5_std', 'EMA_5_BB_high',\n",
    "       'MA_5MA_BB_low', 'MACD', 'rsi_5', 'rsi_7', 'rsi_21']].astype('float16')\n",
    "    \n",
    "    return df\n",
    "\n"
   ]
  },
  {
   "cell_type": "code",
   "execution_count": 8,
   "id": "90362208",
   "metadata": {
    "execution": {
     "iopub.execute_input": "2022-06-15T03:13:38.391904Z",
     "iopub.status.busy": "2022-06-15T03:13:38.391546Z",
     "iopub.status.idle": "2022-06-15T03:13:44.160573Z",
     "shell.execute_reply": "2022-06-15T03:13:44.159665Z"
    },
    "papermill": {
     "duration": 5.779511,
     "end_time": "2022-06-15T03:13:44.162749",
     "exception": false,
     "start_time": "2022-06-15T03:13:38.383238",
     "status": "completed"
    },
    "tags": []
   },
   "outputs": [],
   "source": [
    "df_prices = get_features(df_prices)\n",
    "\n",
    "df_prices = df_prices.replace((np.inf, -np.inf, np.nan), 0).reset_index(drop=True)\n",
    "\n",
    "df_prices = df_prices.fillna(0)"
   ]
  },
  {
   "cell_type": "code",
   "execution_count": null,
   "id": "776ec669",
   "metadata": {
    "papermill": {
     "duration": 0.006859,
     "end_time": "2022-06-15T03:13:44.177010",
     "exception": false,
     "start_time": "2022-06-15T03:13:44.170151",
     "status": "completed"
    },
    "tags": []
   },
   "outputs": [],
   "source": []
  },
  {
   "cell_type": "code",
   "execution_count": null,
   "id": "5e5c4d78",
   "metadata": {
    "papermill": {
     "duration": 0.006904,
     "end_time": "2022-06-15T03:13:44.191400",
     "exception": false,
     "start_time": "2022-06-15T03:13:44.184496",
     "status": "completed"
    },
    "tags": []
   },
   "outputs": [],
   "source": []
  },
  {
   "cell_type": "markdown",
   "id": "2e28bc01",
   "metadata": {
    "papermill": {
     "duration": 0.00707,
     "end_time": "2022-06-15T03:13:44.205471",
     "exception": false,
     "start_time": "2022-06-15T03:13:44.198401",
     "status": "completed"
    },
    "tags": []
   },
   "source": [
    "## Training a Simple Model\n",
    "\n",
    "Xgboost"
   ]
  },
  {
   "cell_type": "code",
   "execution_count": null,
   "id": "e92e5aba",
   "metadata": {
    "papermill": {
     "duration": 0.006836,
     "end_time": "2022-06-15T03:13:44.219639",
     "exception": false,
     "start_time": "2022-06-15T03:13:44.212803",
     "status": "completed"
    },
    "tags": []
   },
   "outputs": [],
   "source": []
  },
  {
   "cell_type": "code",
   "execution_count": 9,
   "id": "4c948510",
   "metadata": {
    "execution": {
     "iopub.execute_input": "2022-06-15T03:13:44.236365Z",
     "iopub.status.busy": "2022-06-15T03:13:44.235344Z",
     "iopub.status.idle": "2022-06-15T03:13:45.353094Z",
     "shell.execute_reply": "2022-06-15T03:13:45.352305Z"
    },
    "papermill": {
     "duration": 1.128057,
     "end_time": "2022-06-15T03:13:45.355175",
     "exception": false,
     "start_time": "2022-06-15T03:13:44.227118",
     "status": "completed"
    },
    "tags": []
   },
   "outputs": [],
   "source": [
    "import xgboost as xgb\n",
    "from sklearn.preprocessing import StandardScaler\n",
    "scaler = StandardScaler()"
   ]
  },
  {
   "cell_type": "code",
   "execution_count": 10,
   "id": "03ae7e88",
   "metadata": {
    "execution": {
     "iopub.execute_input": "2022-06-15T03:13:45.371650Z",
     "iopub.status.busy": "2022-06-15T03:13:45.371322Z",
     "iopub.status.idle": "2022-06-15T03:13:45.376570Z",
     "shell.execute_reply": "2022-06-15T03:13:45.375803Z"
    },
    "papermill": {
     "duration": 0.015614,
     "end_time": "2022-06-15T03:13:45.378341",
     "exception": false,
     "start_time": "2022-06-15T03:13:45.362727",
     "status": "completed"
    },
    "tags": []
   },
   "outputs": [],
   "source": [
    "def model_training(X,y):\n",
    "    # Model training\n",
    "    \n",
    "    model = xgb.XGBRegressor(n_estimators=10000,learning_rate=0.1 , tree_method = 'gpu_hist') \n",
    "    model.fit(X, y)\n",
    "    \n",
    "    return model"
   ]
  },
  {
   "cell_type": "code",
   "execution_count": 11,
   "id": "88523c84",
   "metadata": {
    "execution": {
     "iopub.execute_input": "2022-06-15T03:13:45.395053Z",
     "iopub.status.busy": "2022-06-15T03:13:45.394618Z",
     "iopub.status.idle": "2022-06-15T03:13:45.398637Z",
     "shell.execute_reply": "2022-06-15T03:13:45.397936Z"
    },
    "papermill": {
     "duration": 0.014231,
     "end_time": "2022-06-15T03:13:45.400418",
     "exception": false,
     "start_time": "2022-06-15T03:13:45.386187",
     "status": "completed"
    },
    "tags": []
   },
   "outputs": [],
   "source": [
    "scaled_features = ['Open', 'High', 'Low', 'Close', 'Volume']\n",
    "features = ['SecuritiesCode','Open', 'High', 'Low', 'Close', 'Volume']"
   ]
  },
  {
   "cell_type": "code",
   "execution_count": 12,
   "id": "85326cfa",
   "metadata": {
    "execution": {
     "iopub.execute_input": "2022-06-15T03:13:45.416576Z",
     "iopub.status.busy": "2022-06-15T03:13:45.415823Z",
     "iopub.status.idle": "2022-06-15T03:13:45.435082Z",
     "shell.execute_reply": "2022-06-15T03:13:45.434193Z"
    },
    "papermill": {
     "duration": 0.029396,
     "end_time": "2022-06-15T03:13:45.437113",
     "exception": false,
     "start_time": "2022-06-15T03:13:45.407717",
     "status": "completed"
    },
    "tags": []
   },
   "outputs": [],
   "source": [
    "# Creating endog and exog variables\n",
    "y = df_prices[['Target']]\n",
    "X = df_prices[features]"
   ]
  },
  {
   "cell_type": "code",
   "execution_count": 13,
   "id": "86c107c9",
   "metadata": {
    "execution": {
     "iopub.execute_input": "2022-06-15T03:13:45.453277Z",
     "iopub.status.busy": "2022-06-15T03:13:45.452957Z",
     "iopub.status.idle": "2022-06-15T03:13:45.489686Z",
     "shell.execute_reply": "2022-06-15T03:13:45.488546Z"
    },
    "papermill": {
     "duration": 0.047978,
     "end_time": "2022-06-15T03:13:45.492664",
     "exception": false,
     "start_time": "2022-06-15T03:13:45.444686",
     "status": "completed"
    },
    "tags": []
   },
   "outputs": [
    {
     "name": "stderr",
     "output_type": "stream",
     "text": [
      "/opt/conda/lib/python3.7/site-packages/pandas/core/frame.py:3678: SettingWithCopyWarning: \n",
      "A value is trying to be set on a copy of a slice from a DataFrame.\n",
      "Try using .loc[row_indexer,col_indexer] = value instead\n",
      "\n",
      "See the caveats in the documentation: https://pandas.pydata.org/pandas-docs/stable/user_guide/indexing.html#returning-a-view-versus-a-copy\n",
      "  self[col] = igetitem(value, i)\n"
     ]
    }
   ],
   "source": [
    "X[scaled_features] = scaler.fit_transform(X[scaled_features])\n"
   ]
  },
  {
   "cell_type": "code",
   "execution_count": null,
   "id": "04ffde2f",
   "metadata": {
    "papermill": {
     "duration": 0.007412,
     "end_time": "2022-06-15T03:13:45.508310",
     "exception": false,
     "start_time": "2022-06-15T03:13:45.500898",
     "status": "completed"
    },
    "tags": []
   },
   "outputs": [],
   "source": []
  },
  {
   "cell_type": "code",
   "execution_count": 14,
   "id": "c62590ff",
   "metadata": {
    "execution": {
     "iopub.execute_input": "2022-06-15T03:13:45.525057Z",
     "iopub.status.busy": "2022-06-15T03:13:45.524633Z",
     "iopub.status.idle": "2022-06-15T03:14:13.155558Z",
     "shell.execute_reply": "2022-06-15T03:14:13.154672Z"
    },
    "papermill": {
     "duration": 27.642073,
     "end_time": "2022-06-15T03:14:13.157838",
     "exception": false,
     "start_time": "2022-06-15T03:13:45.515765",
     "status": "completed"
    },
    "tags": []
   },
   "outputs": [],
   "source": [
    "model_1 = model_training(X,y)"
   ]
  },
  {
   "cell_type": "code",
   "execution_count": 15,
   "id": "7aa263ce",
   "metadata": {
    "execution": {
     "iopub.execute_input": "2022-06-15T03:14:13.174056Z",
     "iopub.status.busy": "2022-06-15T03:14:13.173712Z",
     "iopub.status.idle": "2022-06-15T03:14:48.466542Z",
     "shell.execute_reply": "2022-06-15T03:14:48.465740Z"
    },
    "papermill": {
     "duration": 35.305446,
     "end_time": "2022-06-15T03:14:48.470994",
     "exception": false,
     "start_time": "2022-06-15T03:14:13.165548",
     "status": "completed"
    },
    "tags": []
   },
   "outputs": [
    {
     "data": {
      "text/plain": [
       "0.44089342111971364"
      ]
     },
     "execution_count": 15,
     "metadata": {},
     "output_type": "execute_result"
    }
   ],
   "source": [
    "model_1.score(X,y)"
   ]
  },
  {
   "cell_type": "code",
   "execution_count": 16,
   "id": "9a4461fb",
   "metadata": {
    "execution": {
     "iopub.execute_input": "2022-06-15T03:14:48.487444Z",
     "iopub.status.busy": "2022-06-15T03:14:48.486952Z",
     "iopub.status.idle": "2022-06-15T03:14:48.490975Z",
     "shell.execute_reply": "2022-06-15T03:14:48.490092Z"
    },
    "papermill": {
     "duration": 0.014426,
     "end_time": "2022-06-15T03:14:48.492952",
     "exception": false,
     "start_time": "2022-06-15T03:14:48.478526",
     "status": "completed"
    },
    "tags": []
   },
   "outputs": [],
   "source": [
    "import pickle"
   ]
  },
  {
   "cell_type": "code",
   "execution_count": 17,
   "id": "49d093a2",
   "metadata": {
    "execution": {
     "iopub.execute_input": "2022-06-15T03:14:48.509146Z",
     "iopub.status.busy": "2022-06-15T03:14:48.508785Z",
     "iopub.status.idle": "2022-06-15T03:14:48.788413Z",
     "shell.execute_reply": "2022-06-15T03:14:48.787559Z"
    },
    "papermill": {
     "duration": 0.290239,
     "end_time": "2022-06-15T03:14:48.790609",
     "exception": false,
     "start_time": "2022-06-15T03:14:48.500370",
     "status": "completed"
    },
    "tags": []
   },
   "outputs": [],
   "source": [
    "# Saving model\n",
    "\n",
    "#Saving the sklearn model\n",
    "\n",
    "filename = 'simple_xgb.sav'\n",
    "pickle.dump(model_1, open(filename, 'wb'))\n",
    "\n",
    "# save in text format\n",
    "model_1.save_model(\"simple_xgb.txt\")"
   ]
  },
  {
   "cell_type": "markdown",
   "id": "8d3002e3",
   "metadata": {
    "papermill": {
     "duration": 0.007324,
     "end_time": "2022-06-15T03:14:48.805666",
     "exception": false,
     "start_time": "2022-06-15T03:14:48.798342",
     "status": "completed"
    },
    "tags": []
   },
   "source": [
    "# Submission\n"
   ]
  },
  {
   "cell_type": "code",
   "execution_count": 18,
   "id": "dad304be",
   "metadata": {
    "execution": {
     "iopub.execute_input": "2022-06-15T03:14:48.822740Z",
     "iopub.status.busy": "2022-06-15T03:14:48.822381Z",
     "iopub.status.idle": "2022-06-15T03:14:48.828214Z",
     "shell.execute_reply": "2022-06-15T03:14:48.827450Z"
    },
    "papermill": {
     "duration": 0.016665,
     "end_time": "2022-06-15T03:14:48.830089",
     "exception": false,
     "start_time": "2022-06-15T03:14:48.813424",
     "status": "completed"
    },
    "tags": []
   },
   "outputs": [],
   "source": [
    "# def calc_spread_return_per_day(df, portfolio_size, toprank_weight_ratio):\n",
    "#     \"\"\"\n",
    "#     Args:\n",
    "#         df (pd.DataFrame): predicted results\n",
    "#         portfolio_size (int): # of equities to buy/sell\n",
    "#         toprank_weight_ratio (float): the relative weight of the most highly ranked stock compared to the least.\n",
    "#     Returns:\n",
    "#         (float): spread return\n",
    "#     \"\"\"\n",
    "#     assert df['Rank'].min() == 0\n",
    "#     assert df['Rank'].max() == len(df['Rank']) - 1\n",
    "#     weights = np.linspace(start=toprank_weight_ratio, stop=1, num=portfolio_size)\n",
    "#     purchase = (df.sort_values(by='Rank')['Target'][:portfolio_size] * weights).sum() / weights.mean()\n",
    "#     short = (df.sort_values(by='Rank', ascending=False)['Target'][:portfolio_size] * weights).sum() / weights.mean()\n",
    "#     return purchase - short\n",
    "\n",
    "# def calc_spread_return_sharpe(df: pd.DataFrame, portfolio_size: int = 200, toprank_weight_ratio: float = 2) -> float:\n",
    "#     \"\"\"\n",
    "#     Args:\n",
    "#         df (pd.DataFrame): predicted results\n",
    "#         portfolio_size (int): # of equities to buy/sell\n",
    "#         toprank_weight_ratio (float): the relative weight of the most highly ranked stock compared to the least.\n",
    "#     Returns:\n",
    "#         (float): sharpe ratio\n",
    "#     \"\"\"\n",
    "#     buf = df.groupby('Date').apply(calc_spread_return_per_day, portfolio_size, toprank_weight_ratio)\n",
    "#     sharpe_ratio = buf.mean() / buf.std()\n",
    "#     return sharpe_ratio, buf\n",
    "\n",
    "def add_rank(df, col_name=\"pred\"):\n",
    "    df[\"Rank\"] = df.groupby(\"Date\")[col_name].rank(ascending=False, method=\"first\") - 1 \n",
    "    df[\"Rank\"] = df[\"Rank\"].astype(\"int\")\n",
    "    return df"
   ]
  },
  {
   "cell_type": "code",
   "execution_count": 19,
   "id": "159f5265",
   "metadata": {
    "execution": {
     "iopub.execute_input": "2022-06-15T03:14:48.846122Z",
     "iopub.status.busy": "2022-06-15T03:14:48.845786Z",
     "iopub.status.idle": "2022-06-15T03:14:48.850333Z",
     "shell.execute_reply": "2022-06-15T03:14:48.849477Z"
    },
    "papermill": {
     "duration": 0.014748,
     "end_time": "2022-06-15T03:14:48.852271",
     "exception": false,
     "start_time": "2022-06-15T03:14:48.837523",
     "status": "completed"
    },
    "tags": []
   },
   "outputs": [],
   "source": [
    "# # By Yuike - https://www.kaggle.com/code/ikeppyo/examples-of-higher-scores-than-perfect-predictions\n",
    "\n",
    "# # This function adjusts the predictions so that the daily spread return approaches a certain value.\n",
    "# def adjuster(df):\n",
    "#     def calc_pred(df, x, y, z):\n",
    "#         return df['Target'].where(df['Target'].abs() < x, df['Target'] * y + np.sign(df['Target']) * z)\n",
    "\n",
    "#     def objective(trial, df):\n",
    "#         x = trial.suggest_uniform('x', 0, 0.2)\n",
    "#         y = trial.suggest_uniform('y', 0, 0.1)\n",
    "#         z = trial.suggest_uniform('z', 0, 1e-3)\n",
    "#         df[\"Rank\"] = calc_pred(df, x, y, z).rank(ascending=False, method=\"first\") - 1 \n",
    "#         df[\"Rank\"] = df[\"Rank\"].astype(\"int\")\n",
    "#         return calc_spread_return_per_day(df, 200, 2)\n",
    "    \n",
    "#     def predictor_per_day(df):\n",
    "#         study = optuna.create_study(direction='minimize', sampler=optuna.samplers.TPESampler(seed=2022))\n",
    "#         study.optimize(lambda trial: abs(objective(trial, df) - 10), 10)\n",
    "#         return calc_pred(df, *study.best_params.values())\n",
    "\n",
    "#     return df.groupby(\"Date\").apply(predictor_per_day).reset_index(level=0, drop=True)\n",
    "\n",
    "# def _predictor_base(feature_df):\n",
    "#     return model.predict(feature_df[feats])\n",
    "\n",
    "# def _predictor_with_adjuster(feature_df):\n",
    "#     feature_df[\"Target\"] = model.predict(feature_df[feats])\n",
    "#     return adjuster(feature_df)"
   ]
  },
  {
   "cell_type": "code",
   "execution_count": 20,
   "id": "df173490",
   "metadata": {
    "execution": {
     "iopub.execute_input": "2022-06-15T03:14:48.868475Z",
     "iopub.status.busy": "2022-06-15T03:14:48.868152Z",
     "iopub.status.idle": "2022-06-15T03:14:48.871706Z",
     "shell.execute_reply": "2022-06-15T03:14:48.870959Z"
    },
    "papermill": {
     "duration": 0.013598,
     "end_time": "2022-06-15T03:14:48.873388",
     "exception": false,
     "start_time": "2022-06-15T03:14:48.859790",
     "status": "completed"
    },
    "tags": []
   },
   "outputs": [],
   "source": [
    "# predictor = _predictor_with_adjuster"
   ]
  },
  {
   "cell_type": "code",
   "execution_count": 21,
   "id": "5bbe4219",
   "metadata": {
    "execution": {
     "iopub.execute_input": "2022-06-15T03:14:48.889428Z",
     "iopub.status.busy": "2022-06-15T03:14:48.889111Z",
     "iopub.status.idle": "2022-06-15T03:14:49.750344Z",
     "shell.execute_reply": "2022-06-15T03:14:49.749523Z"
    },
    "papermill": {
     "duration": 0.871586,
     "end_time": "2022-06-15T03:14:49.752434",
     "exception": false,
     "start_time": "2022-06-15T03:14:48.880848",
     "status": "completed"
    },
    "tags": []
   },
   "outputs": [
    {
     "name": "stdout",
     "output_type": "stream",
     "text": [
      "This version of the API is not optimized and should not be used to estimate the runtime of your code on the hidden test set.\n"
     ]
    }
   ],
   "source": [
    "import jpx_tokyo_market_prediction\n",
    "\n",
    "\n",
    "env = jpx_tokyo_market_prediction.make_env()   # initialize the environment\n",
    "iter_test = env.iter_test()    # an iterator which loops over the test files\n",
    "for (prices, options, financials, trades, secondary_prices, sample_prediction) in iter_test:\n",
    "    prices = get_features(prices)\n",
    "    prices = prices.replace((np.inf, -np.inf, np.nan), 0).reset_index(drop=True)\n",
    "    prices = prices.fillna(0)\n",
    "    prices[scaled_features] = scaler.fit_transform(prices[scaled_features])\n",
    "    prices['pred'] = model_1.predict(prices[features])\n",
    "    prices = add_rank(prices)\n",
    "    feature_map = prices.set_index('SecuritiesCode')['Rank'].to_dict()\n",
    "    sample_prediction['Rank'] = sample_prediction['SecuritiesCode'].map(feature_map)\n",
    "    env.predict(sample_prediction)"
   ]
  },
  {
   "cell_type": "code",
   "execution_count": null,
   "id": "78abbc5c",
   "metadata": {
    "papermill": {
     "duration": 0.007548,
     "end_time": "2022-06-15T03:14:49.768211",
     "exception": false,
     "start_time": "2022-06-15T03:14:49.760663",
     "status": "completed"
    },
    "tags": []
   },
   "outputs": [],
   "source": []
  }
 ],
 "metadata": {
  "kernelspec": {
   "display_name": "Python 3",
   "language": "python",
   "name": "python3"
  },
  "language_info": {
   "codemirror_mode": {
    "name": "ipython",
    "version": 3
   },
   "file_extension": ".py",
   "mimetype": "text/x-python",
   "name": "python",
   "nbconvert_exporter": "python",
   "pygments_lexer": "ipython3",
   "version": "3.7.12"
  },
  "papermill": {
   "default_parameters": {},
   "duration": 89.642267,
   "end_time": "2022-06-15T03:14:51.097549",
   "environment_variables": {},
   "exception": null,
   "input_path": "__notebook__.ipynb",
   "output_path": "__notebook__.ipynb",
   "parameters": {},
   "start_time": "2022-06-15T03:13:21.455282",
   "version": "2.3.4"
  }
 },
 "nbformat": 4,
 "nbformat_minor": 5
}
