{
 "cells": [
  {
   "cell_type": "code",
   "execution_count": 1,
   "id": "577738a3",
   "metadata": {
    "_cell_guid": "b1076dfc-b9ad-4769-8c92-a6c4dae69d19",
    "_uuid": "8f2839f25d086af736a60e9eeb907d3b93b6e0e5",
    "execution": {
     "iopub.execute_input": "2022-06-23T16:27:01.190074Z",
     "iopub.status.busy": "2022-06-23T16:27:01.189638Z",
     "iopub.status.idle": "2022-06-23T16:27:01.220019Z",
     "shell.execute_reply": "2022-06-23T16:27:01.219085Z"
    },
    "papermill": {
     "duration": 0.046649,
     "end_time": "2022-06-23T16:27:01.223193",
     "exception": false,
     "start_time": "2022-06-23T16:27:01.176544",
     "status": "completed"
    },
    "tags": []
   },
   "outputs": [
    {
     "name": "stdout",
     "output_type": "stream",
     "text": [
      "/kaggle/input/jpx-tokyo-stock-exchange-prediction/stock_list.csv\n",
      "/kaggle/input/jpx-tokyo-stock-exchange-prediction/example_test_files/sample_submission.csv\n",
      "/kaggle/input/jpx-tokyo-stock-exchange-prediction/example_test_files/options.csv\n",
      "/kaggle/input/jpx-tokyo-stock-exchange-prediction/example_test_files/financials.csv\n",
      "/kaggle/input/jpx-tokyo-stock-exchange-prediction/example_test_files/secondary_stock_prices.csv\n",
      "/kaggle/input/jpx-tokyo-stock-exchange-prediction/example_test_files/trades.csv\n",
      "/kaggle/input/jpx-tokyo-stock-exchange-prediction/example_test_files/stock_prices.csv\n",
      "/kaggle/input/jpx-tokyo-stock-exchange-prediction/jpx_tokyo_market_prediction/competition.cpython-37m-x86_64-linux-gnu.so\n",
      "/kaggle/input/jpx-tokyo-stock-exchange-prediction/jpx_tokyo_market_prediction/__init__.py\n",
      "/kaggle/input/jpx-tokyo-stock-exchange-prediction/data_specifications/stock_fin_spec.csv\n",
      "/kaggle/input/jpx-tokyo-stock-exchange-prediction/data_specifications/trades_spec.csv\n",
      "/kaggle/input/jpx-tokyo-stock-exchange-prediction/data_specifications/stock_price_spec.csv\n",
      "/kaggle/input/jpx-tokyo-stock-exchange-prediction/data_specifications/options_spec.csv\n",
      "/kaggle/input/jpx-tokyo-stock-exchange-prediction/data_specifications/stock_list_spec.csv\n",
      "/kaggle/input/jpx-tokyo-stock-exchange-prediction/train_files/options.csv\n",
      "/kaggle/input/jpx-tokyo-stock-exchange-prediction/train_files/financials.csv\n",
      "/kaggle/input/jpx-tokyo-stock-exchange-prediction/train_files/secondary_stock_prices.csv\n",
      "/kaggle/input/jpx-tokyo-stock-exchange-prediction/train_files/trades.csv\n",
      "/kaggle/input/jpx-tokyo-stock-exchange-prediction/train_files/stock_prices.csv\n",
      "/kaggle/input/jpx-tokyo-stock-exchange-prediction/supplemental_files/options.csv\n",
      "/kaggle/input/jpx-tokyo-stock-exchange-prediction/supplemental_files/financials.csv\n",
      "/kaggle/input/jpx-tokyo-stock-exchange-prediction/supplemental_files/secondary_stock_prices.csv\n",
      "/kaggle/input/jpx-tokyo-stock-exchange-prediction/supplemental_files/trades.csv\n",
      "/kaggle/input/jpx-tokyo-stock-exchange-prediction/supplemental_files/stock_prices.csv\n"
     ]
    }
   ],
   "source": [
    "# This Python 3 environment comes with many helpful analytics libraries installed\n",
    "# It is defined by the kaggle/python Docker image: https://github.com/kaggle/docker-python\n",
    "# For example, here's several helpful packages to load\n",
    "\n",
    "import numpy as np # linear algebra\n",
    "import pandas as pd # data processing, CSV file I/O (e.g. pd.read_csv)\n",
    "\n",
    "# Input data files are available in the read-only \"../input/\" directory\n",
    "# For example, running this (by clicking run or pressing Shift+Enter) will list all files under the input directory\n",
    "\n",
    "import os\n",
    "for dirname, _, filenames in os.walk('/kaggle/input'):\n",
    "    for filename in filenames:\n",
    "        print(os.path.join(dirname, filename))\n",
    "\n",
    "# You can write up to 20GB to the current directory (/kaggle/working/) th\n",
    "#at gets preserved as output when you create a version using \"Save & Run All\" \n",
    "# You can also write temporary files to /kaggle/temp/, but they won't be saved outside of the current session"
   ]
  },
  {
   "cell_type": "markdown",
   "id": "abc5f177",
   "metadata": {
    "papermill": {
     "duration": 0.007739,
     "end_time": "2022-06-23T16:27:01.239774",
     "exception": false,
     "start_time": "2022-06-23T16:27:01.232035",
     "status": "completed"
    },
    "tags": []
   },
   "source": [
    "# Here starts my Baseline\n",
    "\n",
    "Ideas:\n",
    "\n",
    "1  - Feature engeneering- Basic and effective;\n",
    "\n",
    "2 - Gradient Boosting Regressions;\n",
    "\n",
    "3 - Neuronets Regressions; and\n",
    "\n",
    "4 - Submission.\n",
    "\n"
   ]
  },
  {
   "cell_type": "markdown",
   "id": "af6a0edf",
   "metadata": {
    "papermill": {
     "duration": 0.007791,
     "end_time": "2022-06-23T16:27:01.255755",
     "exception": false,
     "start_time": "2022-06-23T16:27:01.247964",
     "status": "completed"
    },
    "tags": []
   },
   "source": [
    "## 1 Feature Engeneering"
   ]
  },
  {
   "cell_type": "code",
   "execution_count": 2,
   "id": "9715bae3",
   "metadata": {
    "execution": {
     "iopub.execute_input": "2022-06-23T16:27:01.273947Z",
     "iopub.status.busy": "2022-06-23T16:27:01.273326Z",
     "iopub.status.idle": "2022-06-23T16:27:01.277978Z",
     "shell.execute_reply": "2022-06-23T16:27:01.277267Z"
    },
    "papermill": {
     "duration": 0.015963,
     "end_time": "2022-06-23T16:27:01.279747",
     "exception": false,
     "start_time": "2022-06-23T16:27:01.263784",
     "status": "completed"
    },
    "tags": []
   },
   "outputs": [],
   "source": [
    "def concat_df(df1, df2):\n",
    "    df1 = pd.concat([df1, df2],\n",
    "                    ignore_index=True, sort=False\n",
    "                    ).drop_duplicates([\"RowId\"], keep=\"first\")\n",
    "    return df1"
   ]
  },
  {
   "cell_type": "code",
   "execution_count": 3,
   "id": "86eb65f5",
   "metadata": {
    "execution": {
     "iopub.execute_input": "2022-06-23T16:27:01.297589Z",
     "iopub.status.busy": "2022-06-23T16:27:01.296975Z",
     "iopub.status.idle": "2022-06-23T16:27:25.541275Z",
     "shell.execute_reply": "2022-06-23T16:27:25.540389Z"
    },
    "papermill": {
     "duration": 24.255509,
     "end_time": "2022-06-23T16:27:25.543286",
     "exception": false,
     "start_time": "2022-06-23T16:27:01.287777",
     "status": "completed"
    },
    "tags": []
   },
   "outputs": [
    {
     "name": "stdout",
     "output_type": "stream",
     "text": [
      "<class 'pandas.core.frame.DataFrame'>\n",
      "Int64Index: 5189768 entries, 0 to 5189767\n",
      "Data columns (total 12 columns):\n",
      " #   Column            Non-Null Count    Dtype  \n",
      "---  ------            --------------    -----  \n",
      " 0   RowId             5189768 non-null  object \n",
      " 1   Date              5189768 non-null  object \n",
      " 2   SecuritiesCode    5189768 non-null  int16  \n",
      " 3   Open              5080824 non-null  float16\n",
      " 4   High              5080824 non-null  float16\n",
      " 5   Low               5080824 non-null  float16\n",
      " 6   Close             5080824 non-null  float16\n",
      " 7   Volume            5189768 non-null  int8   \n",
      " 8   AdjustmentFactor  5189768 non-null  float16\n",
      " 9   ExpectedDividend  41373 non-null    float16\n",
      " 10  SupervisionFlag   5189768 non-null  bool   \n",
      " 11  Target            5188728 non-null  float16\n",
      "dtypes: bool(1), float16(7), int16(1), int8(1), object(2)\n",
      "memory usage: 207.9+ MB\n"
     ]
    }
   ],
   "source": [
    "# For now... use pandas.... \n",
    "#If too heavy use Cudf\n",
    "\n",
    "# For now... just fix the floats\n",
    "dtypes = {\n",
    "'SecuritiesCode' :     np.int16,\n",
    "'Open'           :     np.float16,\n",
    "'High'           :     np.float16,\n",
    "'Low'            :     np.float16,\n",
    "'Close'          :     np.float16,\n",
    "'Volume'         :       np.int8,\n",
    "'AdjustmentFactor':    np.float16,\n",
    "'ExpectedDividend':    np.float16,\n",
    "'Target'        :      np.float16\n",
    "}\n",
    "path = \"../input/jpx-tokyo-stock-exchange-prediction/\"\n",
    "df_prices = pd.read_csv(f\"{path}train_files/stock_prices.csv\",dtype = dtypes)\n",
    "prices = pd.read_csv(f\"{path}supplemental_files/stock_prices.csv\",dtype = dtypes)\n",
    "df_prices = concat_df(df_prices, prices)\n",
    "prices = pd.read_csv(f\"{path}train_files/secondary_stock_prices.csv\",dtype = dtypes)\n",
    "df_prices = concat_df(df_prices, prices)\n",
    "prices = pd.read_csv(f\"{path}supplemental_files/secondary_stock_prices.csv\",dtype = dtypes)\n",
    "df_prices = concat_df(df_prices, prices)\n",
    "#df_prices = df_prices[df_prices.Date<\"2021-11-01\"]\n",
    "df_prices.info(show_counts=True)"
   ]
  },
  {
   "cell_type": "code",
   "execution_count": 4,
   "id": "b495ee0c",
   "metadata": {
    "execution": {
     "iopub.execute_input": "2022-06-23T16:27:25.561910Z",
     "iopub.status.busy": "2022-06-23T16:27:25.561045Z",
     "iopub.status.idle": "2022-06-23T16:27:25.565248Z",
     "shell.execute_reply": "2022-06-23T16:27:25.564358Z"
    },
    "papermill": {
     "duration": 0.015418,
     "end_time": "2022-06-23T16:27:25.567207",
     "exception": false,
     "start_time": "2022-06-23T16:27:25.551789",
     "status": "completed"
    },
    "tags": []
   },
   "outputs": [],
   "source": [
    "# def prep_prices(price):\n",
    "#     price.fillna(0,inplace=True)\n",
    "#     return price"
   ]
  },
  {
   "cell_type": "code",
   "execution_count": 5,
   "id": "e7b794bc",
   "metadata": {
    "execution": {
     "iopub.execute_input": "2022-06-23T16:27:25.585407Z",
     "iopub.status.busy": "2022-06-23T16:27:25.584506Z",
     "iopub.status.idle": "2022-06-23T16:27:25.588829Z",
     "shell.execute_reply": "2022-06-23T16:27:25.588060Z"
    },
    "papermill": {
     "duration": 0.015412,
     "end_time": "2022-06-23T16:27:25.590786",
     "exception": false,
     "start_time": "2022-06-23T16:27:25.575374",
     "status": "completed"
    },
    "tags": []
   },
   "outputs": [],
   "source": [
    "# df_prices = prep_prices(df_prices)\n",
    "# pd.options.display.float_format = '{:,.6g}'.format\n",
    "# df_prices.describe()"
   ]
  },
  {
   "cell_type": "code",
   "execution_count": null,
   "id": "9b910e3f",
   "metadata": {
    "papermill": {
     "duration": 0.008114,
     "end_time": "2022-06-23T16:27:25.607112",
     "exception": false,
     "start_time": "2022-06-23T16:27:25.598998",
     "status": "completed"
    },
    "tags": []
   },
   "outputs": [],
   "source": []
  },
  {
   "cell_type": "code",
   "execution_count": null,
   "id": "f418992a",
   "metadata": {
    "papermill": {
     "duration": 0.0079,
     "end_time": "2022-06-23T16:27:25.623290",
     "exception": false,
     "start_time": "2022-06-23T16:27:25.615390",
     "status": "completed"
    },
    "tags": []
   },
   "outputs": [],
   "source": []
  },
  {
   "cell_type": "code",
   "execution_count": 6,
   "id": "2edd0398",
   "metadata": {
    "execution": {
     "iopub.execute_input": "2022-06-23T16:27:25.641679Z",
     "iopub.status.busy": "2022-06-23T16:27:25.640962Z",
     "iopub.status.idle": "2022-06-23T16:27:25.645025Z",
     "shell.execute_reply": "2022-06-23T16:27:25.644440Z"
    },
    "papermill": {
     "duration": 0.015372,
     "end_time": "2022-06-23T16:27:25.646888",
     "exception": false,
     "start_time": "2022-06-23T16:27:25.631516",
     "status": "completed"
    },
    "tags": []
   },
   "outputs": [],
   "source": [
    "# from datetime import datetime\n",
    "# import time\n",
    "\n",
    "#  # auxiliary function, from datetime to timestamp\n",
    "# totimestamp = lambda s: np.int32(time.mktime(datetime.strptime(s, \"%Y-%m-%d\").timetuple()))"
   ]
  },
  {
   "cell_type": "markdown",
   "id": "621dc86a",
   "metadata": {
    "papermill": {
     "duration": 0.008313,
     "end_time": "2022-06-23T16:27:25.663161",
     "exception": false,
     "start_time": "2022-06-23T16:27:25.654848",
     "status": "completed"
    },
    "tags": []
   },
   "source": [
    "# Data Features\n"
   ]
  },
  {
   "cell_type": "code",
   "execution_count": 7,
   "id": "ec52e118",
   "metadata": {
    "execution": {
     "iopub.execute_input": "2022-06-23T16:27:25.682280Z",
     "iopub.status.busy": "2022-06-23T16:27:25.681369Z",
     "iopub.status.idle": "2022-06-23T16:27:25.691957Z",
     "shell.execute_reply": "2022-06-23T16:27:25.690964Z"
    },
    "papermill": {
     "duration": 0.022296,
     "end_time": "2022-06-23T16:27:25.693867",
     "exception": false,
     "start_time": "2022-06-23T16:27:25.671571",
     "status": "completed"
    },
    "tags": []
   },
   "outputs": [],
   "source": [
    "\n",
    "# define function to compute log returns\n",
    "# def log_return(series, periods=1):\n",
    "#     return np.log(series).diff(periods=periods)\n",
    "\n",
    "\n",
    "# # def fill_the_gaps(df):\n",
    "# #     new_df = pd.DataFrame(columns= df.columns)\n",
    "# #     for i in range(len(df['SecuritiesCode'].unique())):\n",
    "# #         new_df = new_df.append(df[df['SecuritiesCode'] == i].reindex(range(df[df['SecuritiesCode'] == i].index[0],df[df['SecuritiesCode'] == i].index[-1]+60,60),method='pad'))\n",
    "# #     new_df.fillna(method = 'pad', inplace = True) \n",
    "# #     return new_df\n",
    "\n",
    "\n",
    "# def rsiFunc(prices, n=14):\n",
    "#     deltas = np.diff(prices)\n",
    "#     seed = deltas[:n+1]\n",
    "#     up = seed[seed>=0].sum()/n\n",
    "#     down = -seed[seed<0].sum()/n\n",
    "#     rs = up/down\n",
    "#     rsi = np.zeros_like(prices)\n",
    "#     rsi[:n] = 100. - 100./(1.+rs)\n",
    "\n",
    "#     for i in range(n, len(prices)):\n",
    "#         delta = deltas[i-1] # cause the diff is 1 shorter\n",
    "\n",
    "#         if delta>0:\n",
    "#             upval = delta\n",
    "#             downval = 0.\n",
    "#         else:\n",
    "#             upval = 0.\n",
    "#             downval = -delta\n",
    "\n",
    "#         up = (up*(n-1) + upval)/n\n",
    "#         down = (down*(n-1) + downval)/n\n",
    "\n",
    "#         rs = up/down\n",
    "#         rsi[i] = 100. - 100./(1.+rs)\n",
    "\n",
    "#     return rsi\n",
    "\n",
    "\n",
    "\n",
    "def get_features(df):\n",
    "\n",
    "#     df['log_return_5'] = log_return(df['Close'],periods=5)\n",
    "#     df['log_return'] = log_return(df['Close'],periods=1)\n",
    "\n",
    "    upper_shadow = lambda asset: asset.High - np.maximum(asset.Close,asset.Open)\n",
    "    lower_shadow = lambda asset: np.minimum(asset.Close,asset.Open)- asset.Low\n",
    "\n",
    "    df['upper_shadow'] = upper_shadow(df)\n",
    "    df['lower_shadow'] = lower_shadow(df)\n",
    "    \n",
    "#     df['EMA_21'] = df['Close'].ewm(span=21).mean()\n",
    "    \n",
    "#     df['EMA_55'] = df['Close'].ewm(span=55).mean()\n",
    "    \n",
    "#     df['EMA_315'] = df['Close'].ewm(span=315).mean()\n",
    "    \n",
    "#     df['EMA_825'] = df['Close'].ewm(span=825).mean()\n",
    "    \n",
    "#     window = 7\n",
    "    \n",
    "#     no_of_std = 2\n",
    "    \n",
    "#     df[f'EMA_{window}'] = df['Close'].ewm(span=window).mean()\n",
    "    \n",
    "#     df[f'EMA_{window}_std'] = df['Close'].rolling(window=window).std()\n",
    "    \n",
    "#     df[f'EMA_{window}_BB_high'] = df[f'EMA_{window}'] + no_of_std * df[f'EMA_{window}_std']\n",
    "    \n",
    "#     df[f'MA_{window}MA_BB_low'] = df[f'EMA_{window}'] - no_of_std * df[f'EMA_{window}_std']\n",
    "    \n",
    "#     window = 5\n",
    "    \n",
    "#     df[f'EMA_{window}'] = df['Close'].ewm(span=window).mean()\n",
    "    \n",
    "#     df[f'EMA_{window}_std'] = df['Close'].rolling(window=window).std()\n",
    "    \n",
    "#     df[f'EMA_{window}_BB_high'] = df[f'EMA_{window}'] + no_of_std * df[f'EMA_{window}_std']\n",
    "    \n",
    "#     df[f'MA_{window}MA_BB_low'] = df[f'EMA_{window}'] - no_of_std * df[f'EMA_{window}_std']\n",
    "    \n",
    "#     df['MACD'] = df['EMA_7'] - df['EMA_5']\n",
    "    \n",
    "    \n",
    "#     df['rsi_5'] = rsiFunc(df['Close'].values, 5)\n",
    "    \n",
    "#     df['rsi_7'] = rsiFunc(df['Close'].values, 7)\n",
    "    \n",
    "#     df['rsi_21'] = rsiFunc(df['Close'].values, 21)\n",
    "    \n",
    "    \n",
    "    \n",
    "    df['VWAP'] = (df['Close'] * df['Volume'])/ df['Volume']\n",
    "\n",
    "\n",
    "\n",
    "\n",
    "    \n",
    "    \n",
    "    #df = pd.concat([df, pd.get_dummies(df['Asset_ID'], prefix= 'Asset_')], axis=1)\n",
    "    \n",
    "    df[[ 'upper_shadow', 'lower_shadow','VWAP']].astype('float16')\n",
    "    \n",
    "    return df\n",
    "\n"
   ]
  },
  {
   "cell_type": "code",
   "execution_count": 8,
   "id": "ab0eafc7",
   "metadata": {
    "execution": {
     "iopub.execute_input": "2022-06-23T16:27:25.711744Z",
     "iopub.status.busy": "2022-06-23T16:27:25.710968Z",
     "iopub.status.idle": "2022-06-23T16:27:33.904143Z",
     "shell.execute_reply": "2022-06-23T16:27:33.903438Z"
    },
    "papermill": {
     "duration": 8.204418,
     "end_time": "2022-06-23T16:27:33.906334",
     "exception": false,
     "start_time": "2022-06-23T16:27:25.701916",
     "status": "completed"
    },
    "tags": []
   },
   "outputs": [],
   "source": [
    "#sort the database per stock before running the feature function\n",
    "#df_prices = df_prices.sort_values('SecuritiesCode')\n",
    "\n",
    "df_prices = get_features(df_prices)\n",
    "\n",
    "df_prices = df_prices.replace((np.inf, -np.inf, np.nan), 0).reset_index(drop=True)\n",
    "\n",
    "df_prices = df_prices.fillna(0)"
   ]
  },
  {
   "cell_type": "code",
   "execution_count": null,
   "id": "9e7178ee",
   "metadata": {
    "papermill": {
     "duration": 0.008102,
     "end_time": "2022-06-23T16:27:33.922588",
     "exception": false,
     "start_time": "2022-06-23T16:27:33.914486",
     "status": "completed"
    },
    "tags": []
   },
   "outputs": [],
   "source": []
  },
  {
   "cell_type": "code",
   "execution_count": null,
   "id": "b81b5ab7",
   "metadata": {
    "papermill": {
     "duration": 0.008023,
     "end_time": "2022-06-23T16:27:33.939193",
     "exception": false,
     "start_time": "2022-06-23T16:27:33.931170",
     "status": "completed"
    },
    "tags": []
   },
   "outputs": [],
   "source": []
  },
  {
   "cell_type": "markdown",
   "id": "eb8a088a",
   "metadata": {
    "papermill": {
     "duration": 0.00796,
     "end_time": "2022-06-23T16:27:33.955433",
     "exception": false,
     "start_time": "2022-06-23T16:27:33.947473",
     "status": "completed"
    },
    "tags": []
   },
   "source": [
    "## Training a Simple Model\n",
    "\n",
    "GB"
   ]
  },
  {
   "cell_type": "code",
   "execution_count": null,
   "id": "ffdd5908",
   "metadata": {
    "papermill": {
     "duration": 0.007994,
     "end_time": "2022-06-23T16:27:33.971719",
     "exception": false,
     "start_time": "2022-06-23T16:27:33.963725",
     "status": "completed"
    },
    "tags": []
   },
   "outputs": [],
   "source": []
  },
  {
   "cell_type": "code",
   "execution_count": 9,
   "id": "c3fba9bd",
   "metadata": {
    "execution": {
     "iopub.execute_input": "2022-06-23T16:27:33.990079Z",
     "iopub.status.busy": "2022-06-23T16:27:33.989216Z",
     "iopub.status.idle": "2022-06-23T16:27:35.186363Z",
     "shell.execute_reply": "2022-06-23T16:27:35.185550Z"
    },
    "papermill": {
     "duration": 1.209013,
     "end_time": "2022-06-23T16:27:35.188941",
     "exception": false,
     "start_time": "2022-06-23T16:27:33.979928",
     "status": "completed"
    },
    "tags": []
   },
   "outputs": [],
   "source": [
    "from sklearn.ensemble import GradientBoostingRegressor\n",
    "from sklearn.preprocessing import StandardScaler\n",
    "scaler = StandardScaler()"
   ]
  },
  {
   "cell_type": "code",
   "execution_count": 10,
   "id": "34e4360c",
   "metadata": {
    "execution": {
     "iopub.execute_input": "2022-06-23T16:27:35.206545Z",
     "iopub.status.busy": "2022-06-23T16:27:35.206125Z",
     "iopub.status.idle": "2022-06-23T16:27:35.215067Z",
     "shell.execute_reply": "2022-06-23T16:27:35.210929Z"
    },
    "papermill": {
     "duration": 0.020579,
     "end_time": "2022-06-23T16:27:35.217454",
     "exception": false,
     "start_time": "2022-06-23T16:27:35.196875",
     "status": "completed"
    },
    "tags": []
   },
   "outputs": [],
   "source": [
    "def model_training(X,y):\n",
    "    # Model training\n",
    "    \n",
    "    model = GradientBoostingRegressor() \n",
    "    model.fit(X, y)\n",
    "    \n",
    "    return model\n"
   ]
  },
  {
   "cell_type": "code",
   "execution_count": 11,
   "id": "918c66fd",
   "metadata": {
    "execution": {
     "iopub.execute_input": "2022-06-23T16:27:35.237860Z",
     "iopub.status.busy": "2022-06-23T16:27:35.237172Z",
     "iopub.status.idle": "2022-06-23T16:27:35.243144Z",
     "shell.execute_reply": "2022-06-23T16:27:35.242261Z"
    },
    "papermill": {
     "duration": 0.018163,
     "end_time": "2022-06-23T16:27:35.245311",
     "exception": false,
     "start_time": "2022-06-23T16:27:35.227148",
     "status": "completed"
    },
    "tags": []
   },
   "outputs": [],
   "source": [
    "scaled_features = ['Open', 'High', 'Low', 'Close', 'Volume', 'upper_shadow', 'lower_shadow','VWAP']\n",
    "features = [\"SecuritiesCode\",'Open', 'High', 'Low', 'Close', 'Volume', 'upper_shadow', 'lower_shadow','VWAP']"
   ]
  },
  {
   "cell_type": "code",
   "execution_count": 12,
   "id": "67ae630f",
   "metadata": {
    "execution": {
     "iopub.execute_input": "2022-06-23T16:27:35.269410Z",
     "iopub.status.busy": "2022-06-23T16:27:35.268436Z",
     "iopub.status.idle": "2022-06-23T16:27:35.826179Z",
     "shell.execute_reply": "2022-06-23T16:27:35.825340Z"
    },
    "papermill": {
     "duration": 0.573879,
     "end_time": "2022-06-23T16:27:35.828504",
     "exception": false,
     "start_time": "2022-06-23T16:27:35.254625",
     "status": "completed"
    },
    "tags": []
   },
   "outputs": [],
   "source": [
    "# Creating endog and exog variables\n",
    "y = df_prices[['Target']]\n",
    "X = df_prices[features]"
   ]
  },
  {
   "cell_type": "code",
   "execution_count": 13,
   "id": "3f4e52d8",
   "metadata": {
    "execution": {
     "iopub.execute_input": "2022-06-23T16:27:35.846288Z",
     "iopub.status.busy": "2022-06-23T16:27:35.845912Z",
     "iopub.status.idle": "2022-06-23T16:27:37.011760Z",
     "shell.execute_reply": "2022-06-23T16:27:37.010739Z"
    },
    "papermill": {
     "duration": 1.17722,
     "end_time": "2022-06-23T16:27:37.013934",
     "exception": false,
     "start_time": "2022-06-23T16:27:35.836714",
     "status": "completed"
    },
    "tags": []
   },
   "outputs": [
    {
     "name": "stderr",
     "output_type": "stream",
     "text": [
      "/opt/conda/lib/python3.7/site-packages/pandas/core/frame.py:3678: SettingWithCopyWarning: \n",
      "A value is trying to be set on a copy of a slice from a DataFrame.\n",
      "Try using .loc[row_indexer,col_indexer] = value instead\n",
      "\n",
      "See the caveats in the documentation: https://pandas.pydata.org/pandas-docs/stable/user_guide/indexing.html#returning-a-view-versus-a-copy\n",
      "  self[col] = igetitem(value, i)\n"
     ]
    }
   ],
   "source": [
    "X[scaled_features] = scaler.fit_transform(X[scaled_features])\n"
   ]
  },
  {
   "cell_type": "code",
   "execution_count": null,
   "id": "fe59f295",
   "metadata": {
    "papermill": {
     "duration": 0.007943,
     "end_time": "2022-06-23T16:27:37.030679",
     "exception": false,
     "start_time": "2022-06-23T16:27:37.022736",
     "status": "completed"
    },
    "tags": []
   },
   "outputs": [],
   "source": []
  },
  {
   "cell_type": "code",
   "execution_count": 14,
   "id": "1beee95b",
   "metadata": {
    "execution": {
     "iopub.execute_input": "2022-06-23T16:27:37.048724Z",
     "iopub.status.busy": "2022-06-23T16:27:37.048278Z",
     "iopub.status.idle": "2022-06-23T16:50:43.861303Z",
     "shell.execute_reply": "2022-06-23T16:50:43.859747Z"
    },
    "papermill": {
     "duration": 1386.83605,
     "end_time": "2022-06-23T16:50:43.874849",
     "exception": false,
     "start_time": "2022-06-23T16:27:37.038799",
     "status": "completed"
    },
    "tags": []
   },
   "outputs": [
    {
     "name": "stderr",
     "output_type": "stream",
     "text": [
      "/opt/conda/lib/python3.7/site-packages/sklearn/ensemble/_gb.py:494: DataConversionWarning: A column-vector y was passed when a 1d array was expected. Please change the shape of y to (n_samples, ), for example using ravel().\n",
      "  y = column_or_1d(y, warn=True)\n"
     ]
    },
    {
     "name": "stdout",
     "output_type": "stream",
     "text": [
      "CPU times: user 22min 57s, sys: 9.2 s, total: 23min 6s\n",
      "Wall time: 23min 6s\n"
     ]
    }
   ],
   "source": [
    "%%time\n",
    "\n",
    "model_1 = model_training(X,y)"
   ]
  },
  {
   "cell_type": "code",
   "execution_count": 15,
   "id": "e0383995",
   "metadata": {
    "execution": {
     "iopub.execute_input": "2022-06-23T16:50:43.892919Z",
     "iopub.status.busy": "2022-06-23T16:50:43.892453Z",
     "iopub.status.idle": "2022-06-23T16:50:49.865319Z",
     "shell.execute_reply": "2022-06-23T16:50:49.864422Z"
    },
    "papermill": {
     "duration": 5.984595,
     "end_time": "2022-06-23T16:50:49.867491",
     "exception": false,
     "start_time": "2022-06-23T16:50:43.882896",
     "status": "completed"
    },
    "tags": []
   },
   "outputs": [
    {
     "data": {
      "text/plain": [
       "0.0024390177891785436"
      ]
     },
     "execution_count": 15,
     "metadata": {},
     "output_type": "execute_result"
    }
   ],
   "source": [
    "model_1.score(X,y)"
   ]
  },
  {
   "cell_type": "code",
   "execution_count": 16,
   "id": "3f0a0c95",
   "metadata": {
    "execution": {
     "iopub.execute_input": "2022-06-23T16:50:49.886556Z",
     "iopub.status.busy": "2022-06-23T16:50:49.886168Z",
     "iopub.status.idle": "2022-06-23T16:50:49.890238Z",
     "shell.execute_reply": "2022-06-23T16:50:49.889440Z"
    },
    "papermill": {
     "duration": 0.016063,
     "end_time": "2022-06-23T16:50:49.892104",
     "exception": false,
     "start_time": "2022-06-23T16:50:49.876041",
     "status": "completed"
    },
    "tags": []
   },
   "outputs": [],
   "source": [
    "import pickle"
   ]
  },
  {
   "cell_type": "code",
   "execution_count": 17,
   "id": "3f5ad94f",
   "metadata": {
    "execution": {
     "iopub.execute_input": "2022-06-23T16:50:49.910807Z",
     "iopub.status.busy": "2022-06-23T16:50:49.910423Z",
     "iopub.status.idle": "2022-06-23T16:50:49.922068Z",
     "shell.execute_reply": "2022-06-23T16:50:49.921211Z"
    },
    "papermill": {
     "duration": 0.023113,
     "end_time": "2022-06-23T16:50:49.923994",
     "exception": false,
     "start_time": "2022-06-23T16:50:49.900881",
     "status": "completed"
    },
    "tags": []
   },
   "outputs": [],
   "source": [
    "# Saving model\n",
    "\n",
    "#Saving the sklearn model\n",
    "\n",
    "filename = 'simple_skgb.sav'\n",
    "pickle.dump(model_1, open(filename, 'wb'))"
   ]
  },
  {
   "cell_type": "markdown",
   "id": "1403653f",
   "metadata": {
    "papermill": {
     "duration": 0.008469,
     "end_time": "2022-06-23T16:50:49.941003",
     "exception": false,
     "start_time": "2022-06-23T16:50:49.932534",
     "status": "completed"
    },
    "tags": []
   },
   "source": [
    "# Submission\n"
   ]
  },
  {
   "cell_type": "code",
   "execution_count": 18,
   "id": "ee61feb6",
   "metadata": {
    "execution": {
     "iopub.execute_input": "2022-06-23T16:50:49.959301Z",
     "iopub.status.busy": "2022-06-23T16:50:49.958899Z",
     "iopub.status.idle": "2022-06-23T16:50:49.964473Z",
     "shell.execute_reply": "2022-06-23T16:50:49.963645Z"
    },
    "papermill": {
     "duration": 0.016901,
     "end_time": "2022-06-23T16:50:49.966322",
     "exception": false,
     "start_time": "2022-06-23T16:50:49.949421",
     "status": "completed"
    },
    "tags": []
   },
   "outputs": [],
   "source": [
    "\n",
    "\n",
    "def add_rank(df, col_name=\"pred\"):\n",
    "    df[\"Rank\"] = df.groupby(\"Date\")[col_name].rank(ascending=False, method=\"first\") - 1 \n",
    "    df[\"Rank\"] = df[\"Rank\"].astype(\"int\")\n",
    "    return df"
   ]
  },
  {
   "cell_type": "code",
   "execution_count": null,
   "id": "702e3c0e",
   "metadata": {
    "papermill": {
     "duration": 0.00846,
     "end_time": "2022-06-23T16:50:49.983538",
     "exception": false,
     "start_time": "2022-06-23T16:50:49.975078",
     "status": "completed"
    },
    "tags": []
   },
   "outputs": [],
   "source": []
  },
  {
   "cell_type": "code",
   "execution_count": null,
   "id": "e000651b",
   "metadata": {
    "papermill": {
     "duration": 0.008282,
     "end_time": "2022-06-23T16:50:50.000549",
     "exception": false,
     "start_time": "2022-06-23T16:50:49.992267",
     "status": "completed"
    },
    "tags": []
   },
   "outputs": [],
   "source": []
  },
  {
   "cell_type": "code",
   "execution_count": 19,
   "id": "86330e33",
   "metadata": {
    "execution": {
     "iopub.execute_input": "2022-06-23T16:50:50.019206Z",
     "iopub.status.busy": "2022-06-23T16:50:50.018813Z",
     "iopub.status.idle": "2022-06-23T16:50:50.325523Z",
     "shell.execute_reply": "2022-06-23T16:50:50.324798Z"
    },
    "papermill": {
     "duration": 0.318696,
     "end_time": "2022-06-23T16:50:50.327787",
     "exception": false,
     "start_time": "2022-06-23T16:50:50.009091",
     "status": "completed"
    },
    "tags": []
   },
   "outputs": [
    {
     "name": "stdout",
     "output_type": "stream",
     "text": [
      "This version of the API is not optimized and should not be used to estimate the runtime of your code on the hidden test set.\n"
     ]
    }
   ],
   "source": [
    "import jpx_tokyo_market_prediction\n",
    "\n",
    "\n",
    "env = jpx_tokyo_market_prediction.make_env()   # initialize the environment\n",
    "iter_test = env.iter_test()    # an iterator which loops over the test files\n",
    "for (prices, options, financials, trades, secondary_prices, sample_prediction) in iter_test:\n",
    "    prices = get_features(prices)\n",
    "    prices = prices.replace((np.inf, -np.inf, np.nan), 0).reset_index(drop=True)\n",
    "    prices = prices.fillna(0)\n",
    "    prices[scaled_features] = scaler.fit_transform(prices[scaled_features])\n",
    "    prices['pred'] = model_1.predict(prices[features])\n",
    "    prices = add_rank(prices)\n",
    "    feature_map = prices.set_index('SecuritiesCode')['Rank'].to_dict()\n",
    "    sample_prediction['Rank'] = sample_prediction['SecuritiesCode'].map(feature_map)\n",
    "    env.predict(sample_prediction)"
   ]
  },
  {
   "cell_type": "code",
   "execution_count": null,
   "id": "01f7dd00",
   "metadata": {
    "papermill": {
     "duration": 0.008394,
     "end_time": "2022-06-23T16:50:50.345384",
     "exception": false,
     "start_time": "2022-06-23T16:50:50.336990",
     "status": "completed"
    },
    "tags": []
   },
   "outputs": [],
   "source": []
  }
 ],
 "metadata": {
  "kernelspec": {
   "display_name": "Python 3",
   "language": "python",
   "name": "python3"
  },
  "language_info": {
   "codemirror_mode": {
    "name": "ipython",
    "version": 3
   },
   "file_extension": ".py",
   "mimetype": "text/x-python",
   "name": "python",
   "nbconvert_exporter": "python",
   "pygments_lexer": "ipython3",
   "version": "3.7.12"
  },
  "papermill": {
   "default_parameters": {},
   "duration": 1439.730237,
   "end_time": "2022-06-23T16:50:51.481457",
   "environment_variables": {},
   "exception": null,
   "input_path": "__notebook__.ipynb",
   "output_path": "__notebook__.ipynb",
   "parameters": {},
   "start_time": "2022-06-23T16:26:51.751220",
   "version": "2.3.4"
  }
 },
 "nbformat": 4,
 "nbformat_minor": 5
}
