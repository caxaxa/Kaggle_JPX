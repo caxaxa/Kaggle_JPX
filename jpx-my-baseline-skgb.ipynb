{
 "cells": [
  {
   "cell_type": "code",
   "execution_count": 1,
   "id": "1e618e59",
   "metadata": {
    "_cell_guid": "b1076dfc-b9ad-4769-8c92-a6c4dae69d19",
    "_uuid": "8f2839f25d086af736a60e9eeb907d3b93b6e0e5",
    "execution": {
     "iopub.execute_input": "2022-06-21T23:45:58.346200Z",
     "iopub.status.busy": "2022-06-21T23:45:58.345640Z",
     "iopub.status.idle": "2022-06-21T23:45:58.371833Z",
     "shell.execute_reply": "2022-06-21T23:45:58.371134Z"
    },
    "papermill": {
     "duration": 0.038998,
     "end_time": "2022-06-21T23:45:58.374982",
     "exception": false,
     "start_time": "2022-06-21T23:45:58.335984",
     "status": "completed"
    },
    "tags": []
   },
   "outputs": [
    {
     "name": "stdout",
     "output_type": "stream",
     "text": [
      "/kaggle/input/jpx-tokyo-stock-exchange-prediction/stock_list.csv\n",
      "/kaggle/input/jpx-tokyo-stock-exchange-prediction/example_test_files/sample_submission.csv\n",
      "/kaggle/input/jpx-tokyo-stock-exchange-prediction/example_test_files/options.csv\n",
      "/kaggle/input/jpx-tokyo-stock-exchange-prediction/example_test_files/financials.csv\n",
      "/kaggle/input/jpx-tokyo-stock-exchange-prediction/example_test_files/secondary_stock_prices.csv\n",
      "/kaggle/input/jpx-tokyo-stock-exchange-prediction/example_test_files/trades.csv\n",
      "/kaggle/input/jpx-tokyo-stock-exchange-prediction/example_test_files/stock_prices.csv\n",
      "/kaggle/input/jpx-tokyo-stock-exchange-prediction/jpx_tokyo_market_prediction/competition.cpython-37m-x86_64-linux-gnu.so\n",
      "/kaggle/input/jpx-tokyo-stock-exchange-prediction/jpx_tokyo_market_prediction/__init__.py\n",
      "/kaggle/input/jpx-tokyo-stock-exchange-prediction/data_specifications/stock_fin_spec.csv\n",
      "/kaggle/input/jpx-tokyo-stock-exchange-prediction/data_specifications/trades_spec.csv\n",
      "/kaggle/input/jpx-tokyo-stock-exchange-prediction/data_specifications/stock_price_spec.csv\n",
      "/kaggle/input/jpx-tokyo-stock-exchange-prediction/data_specifications/options_spec.csv\n",
      "/kaggle/input/jpx-tokyo-stock-exchange-prediction/data_specifications/stock_list_spec.csv\n",
      "/kaggle/input/jpx-tokyo-stock-exchange-prediction/train_files/options.csv\n",
      "/kaggle/input/jpx-tokyo-stock-exchange-prediction/train_files/financials.csv\n",
      "/kaggle/input/jpx-tokyo-stock-exchange-prediction/train_files/secondary_stock_prices.csv\n",
      "/kaggle/input/jpx-tokyo-stock-exchange-prediction/train_files/trades.csv\n",
      "/kaggle/input/jpx-tokyo-stock-exchange-prediction/train_files/stock_prices.csv\n",
      "/kaggle/input/jpx-tokyo-stock-exchange-prediction/supplemental_files/options.csv\n",
      "/kaggle/input/jpx-tokyo-stock-exchange-prediction/supplemental_files/financials.csv\n",
      "/kaggle/input/jpx-tokyo-stock-exchange-prediction/supplemental_files/secondary_stock_prices.csv\n",
      "/kaggle/input/jpx-tokyo-stock-exchange-prediction/supplemental_files/trades.csv\n",
      "/kaggle/input/jpx-tokyo-stock-exchange-prediction/supplemental_files/stock_prices.csv\n"
     ]
    }
   ],
   "source": [
    "# This Python 3 environment comes with many helpful analytics libraries installed\n",
    "# It is defined by the kaggle/python Docker image: https://github.com/kaggle/docker-python\n",
    "# For example, here's several helpful packages to load\n",
    "\n",
    "import numpy as np # linear algebra\n",
    "import pandas as pd # data processing, CSV file I/O (e.g. pd.read_csv)\n",
    "\n",
    "# Input data files are available in the read-only \"../input/\" directory\n",
    "# For example, running this (by clicking run or pressing Shift+Enter) will list all files under the input directory\n",
    "\n",
    "import os\n",
    "for dirname, _, filenames in os.walk('/kaggle/input'):\n",
    "    for filename in filenames:\n",
    "        print(os.path.join(dirname, filename))\n",
    "\n",
    "# You can write up to 20GB to the current directory (/kaggle/working/) th\n",
    "#at gets preserved as output when you create a version using \"Save & Run All\" \n",
    "# You can also write temporary files to /kaggle/temp/, but they won't be saved outside of the current session"
   ]
  },
  {
   "cell_type": "markdown",
   "id": "210968e6",
   "metadata": {
    "papermill": {
     "duration": 0.006892,
     "end_time": "2022-06-21T23:45:58.389898",
     "exception": false,
     "start_time": "2022-06-21T23:45:58.383006",
     "status": "completed"
    },
    "tags": []
   },
   "source": [
    "# Here starts my Baseline\n",
    "\n",
    "Ideas:\n",
    "\n",
    "1  - Feature engeneering- Basic and effective;\n",
    "\n",
    "2 - Gradient Boosting Regressions;\n",
    "\n",
    "3 - Neuronets Regressions; and\n",
    "\n",
    "4 - Submission.\n",
    "\n"
   ]
  },
  {
   "cell_type": "markdown",
   "id": "fe5e7c00",
   "metadata": {
    "papermill": {
     "duration": 0.006647,
     "end_time": "2022-06-21T23:45:58.403438",
     "exception": false,
     "start_time": "2022-06-21T23:45:58.396791",
     "status": "completed"
    },
    "tags": []
   },
   "source": [
    "## 1 Feature Engeneering"
   ]
  },
  {
   "cell_type": "code",
   "execution_count": 2,
   "id": "db894b95",
   "metadata": {
    "execution": {
     "iopub.execute_input": "2022-06-21T23:45:58.419079Z",
     "iopub.status.busy": "2022-06-21T23:45:58.418309Z",
     "iopub.status.idle": "2022-06-21T23:45:58.423314Z",
     "shell.execute_reply": "2022-06-21T23:45:58.422640Z"
    },
    "papermill": {
     "duration": 0.014271,
     "end_time": "2022-06-21T23:45:58.424893",
     "exception": false,
     "start_time": "2022-06-21T23:45:58.410622",
     "status": "completed"
    },
    "tags": []
   },
   "outputs": [],
   "source": [
    "def concat_df(df1, df2):\n",
    "    df1 = pd.concat([df1, df2],\n",
    "                    ignore_index=True, sort=False\n",
    "                    ).drop_duplicates([\"RowId\"], keep=\"first\")\n",
    "    return df1"
   ]
  },
  {
   "cell_type": "code",
   "execution_count": 3,
   "id": "bca2a1d3",
   "metadata": {
    "execution": {
     "iopub.execute_input": "2022-06-21T23:45:58.440109Z",
     "iopub.status.busy": "2022-06-21T23:45:58.439486Z",
     "iopub.status.idle": "2022-06-21T23:46:04.905840Z",
     "shell.execute_reply": "2022-06-21T23:46:04.904949Z"
    },
    "papermill": {
     "duration": 6.476485,
     "end_time": "2022-06-21T23:46:04.908331",
     "exception": false,
     "start_time": "2022-06-21T23:45:58.431846",
     "status": "completed"
    },
    "tags": []
   },
   "outputs": [
    {
     "name": "stdout",
     "output_type": "stream",
     "text": [
      "<class 'pandas.core.frame.DataFrame'>\n",
      "Int64Index: 2286531 entries, 0 to 2286530\n",
      "Data columns (total 12 columns):\n",
      " #   Column            Non-Null Count    Dtype  \n",
      "---  ------            --------------    -----  \n",
      " 0   RowId             2286531 non-null  object \n",
      " 1   Date              2286531 non-null  object \n",
      " 2   SecuritiesCode    2286531 non-null  int16  \n",
      " 3   Open              2279061 non-null  float16\n",
      " 4   High              2279061 non-null  float16\n",
      " 5   Low               2279061 non-null  float16\n",
      " 6   Close             2279061 non-null  float16\n",
      " 7   Volume            2286531 non-null  int8   \n",
      " 8   AdjustmentFactor  2286531 non-null  float16\n",
      " 9   ExpectedDividend  18810 non-null    float16\n",
      " 10  SupervisionFlag   2286531 non-null  bool   \n",
      " 11  Target            2286293 non-null  float16\n",
      "dtypes: bool(1), float16(7), int16(1), int8(1), object(2)\n",
      "memory usage: 91.6+ MB\n"
     ]
    }
   ],
   "source": [
    "# For now... use pandas.... \n",
    "#If too heavy use Cudf\n",
    "\n",
    "# For now... just fix the floats\n",
    "dtypes = {\n",
    "'SecuritiesCode' :     np.int16,\n",
    "'Open'           :     np.float16,\n",
    "'High'           :     np.float16,\n",
    "'Low'            :     np.float16,\n",
    "'Close'          :     np.float16,\n",
    "'Volume'         :       np.int8,\n",
    "'AdjustmentFactor':    np.float16,\n",
    "'ExpectedDividend':    np.float16,\n",
    "'Target'        :      np.float16\n",
    "}\n",
    "path = \"../input/jpx-tokyo-stock-exchange-prediction/\"\n",
    "df_prices = pd.read_csv(f\"{path}train_files/stock_prices.csv\",dtype = dtypes)\n",
    "#prices = pd.read_csv(f\"{path}supplemental_files/stock_prices.csv\",dtype = dtypes)\n",
    "#df_prices = concat_df(df_prices, prices)\n",
    "#prices = pd.read_csv(f\"{path}train_files/secondary_stock_prices.csv\",dtype = dtypes)\n",
    "#df_prices = concat_df(df_prices, prices)\n",
    "#prices = pd.read_csv(f\"{path}supplemental_files/secondary_stock_prices.csv\",dtype = dtypes)\n",
    "#df_prices = concat_df(df_prices, prices)\n",
    "df_prices = df_prices[df_prices.Date<\"2021-11-01\"]\n",
    "df_prices.info(show_counts=True)"
   ]
  },
  {
   "cell_type": "code",
   "execution_count": 4,
   "id": "b5ecca38",
   "metadata": {
    "execution": {
     "iopub.execute_input": "2022-06-21T23:46:04.924463Z",
     "iopub.status.busy": "2022-06-21T23:46:04.924182Z",
     "iopub.status.idle": "2022-06-21T23:46:04.927634Z",
     "shell.execute_reply": "2022-06-21T23:46:04.926891Z"
    },
    "papermill": {
     "duration": 0.013089,
     "end_time": "2022-06-21T23:46:04.929404",
     "exception": false,
     "start_time": "2022-06-21T23:46:04.916315",
     "status": "completed"
    },
    "tags": []
   },
   "outputs": [],
   "source": [
    "# def prep_prices(price):\n",
    "#     price.fillna(0,inplace=True)\n",
    "#     return price"
   ]
  },
  {
   "cell_type": "code",
   "execution_count": 5,
   "id": "f7111237",
   "metadata": {
    "execution": {
     "iopub.execute_input": "2022-06-21T23:46:04.943956Z",
     "iopub.status.busy": "2022-06-21T23:46:04.943705Z",
     "iopub.status.idle": "2022-06-21T23:46:04.947682Z",
     "shell.execute_reply": "2022-06-21T23:46:04.947006Z"
    },
    "papermill": {
     "duration": 0.012935,
     "end_time": "2022-06-21T23:46:04.949203",
     "exception": false,
     "start_time": "2022-06-21T23:46:04.936268",
     "status": "completed"
    },
    "tags": []
   },
   "outputs": [],
   "source": [
    "# df_prices = prep_prices(df_prices)\n",
    "# pd.options.display.float_format = '{:,.6g}'.format\n",
    "# df_prices.describe()"
   ]
  },
  {
   "cell_type": "code",
   "execution_count": null,
   "id": "774e55ce",
   "metadata": {
    "papermill": {
     "duration": 0.006746,
     "end_time": "2022-06-21T23:46:04.963282",
     "exception": false,
     "start_time": "2022-06-21T23:46:04.956536",
     "status": "completed"
    },
    "tags": []
   },
   "outputs": [],
   "source": []
  },
  {
   "cell_type": "code",
   "execution_count": null,
   "id": "15342096",
   "metadata": {
    "papermill": {
     "duration": 0.006793,
     "end_time": "2022-06-21T23:46:04.976941",
     "exception": false,
     "start_time": "2022-06-21T23:46:04.970148",
     "status": "completed"
    },
    "tags": []
   },
   "outputs": [],
   "source": []
  },
  {
   "cell_type": "code",
   "execution_count": 6,
   "id": "00f0853d",
   "metadata": {
    "execution": {
     "iopub.execute_input": "2022-06-21T23:46:04.992566Z",
     "iopub.status.busy": "2022-06-21T23:46:04.992318Z",
     "iopub.status.idle": "2022-06-21T23:46:04.996520Z",
     "shell.execute_reply": "2022-06-21T23:46:04.995663Z"
    },
    "papermill": {
     "duration": 0.014037,
     "end_time": "2022-06-21T23:46:04.998366",
     "exception": false,
     "start_time": "2022-06-21T23:46:04.984329",
     "status": "completed"
    },
    "tags": []
   },
   "outputs": [],
   "source": [
    "from datetime import datetime\n",
    "import time\n",
    "\n",
    " # auxiliary function, from datetime to timestamp\n",
    "totimestamp = lambda s: np.int32(time.mktime(datetime.strptime(s, \"%Y-%m-%d\").timetuple()))"
   ]
  },
  {
   "cell_type": "markdown",
   "id": "3d9d08c6",
   "metadata": {
    "papermill": {
     "duration": 0.006608,
     "end_time": "2022-06-21T23:46:05.011722",
     "exception": false,
     "start_time": "2022-06-21T23:46:05.005114",
     "status": "completed"
    },
    "tags": []
   },
   "source": [
    "# Data Features\n"
   ]
  },
  {
   "cell_type": "code",
   "execution_count": 7,
   "id": "b4f78de0",
   "metadata": {
    "execution": {
     "iopub.execute_input": "2022-06-21T23:46:05.027288Z",
     "iopub.status.busy": "2022-06-21T23:46:05.026987Z",
     "iopub.status.idle": "2022-06-21T23:46:05.046771Z",
     "shell.execute_reply": "2022-06-21T23:46:05.046098Z"
    },
    "papermill": {
     "duration": 0.029919,
     "end_time": "2022-06-21T23:46:05.048628",
     "exception": false,
     "start_time": "2022-06-21T23:46:05.018709",
     "status": "completed"
    },
    "tags": []
   },
   "outputs": [],
   "source": [
    "\n",
    "# define function to compute log returns\n",
    "def log_return(series, periods=1):\n",
    "    return np.log(series).diff(periods=periods)\n",
    "\n",
    "\n",
    "# def fill_the_gaps(df):\n",
    "#     new_df = pd.DataFrame(columns= df.columns)\n",
    "#     for i in range(len(df['SecuritiesCode'].unique())):\n",
    "#         new_df = new_df.append(df[df['SecuritiesCode'] == i].reindex(range(df[df['SecuritiesCode'] == i].index[0],df[df['SecuritiesCode'] == i].index[-1]+60,60),method='pad'))\n",
    "#     new_df.fillna(method = 'pad', inplace = True) \n",
    "#     return new_df\n",
    "\n",
    "\n",
    "def rsiFunc(prices, n=14):\n",
    "    deltas = np.diff(prices)\n",
    "    seed = deltas[:n+1]\n",
    "    up = seed[seed>=0].sum()/n\n",
    "    down = -seed[seed<0].sum()/n\n",
    "    rs = up/down\n",
    "    rsi = np.zeros_like(prices)\n",
    "    rsi[:n] = 100. - 100./(1.+rs)\n",
    "\n",
    "    for i in range(n, len(prices)):\n",
    "        delta = deltas[i-1] # cause the diff is 1 shorter\n",
    "\n",
    "        if delta>0:\n",
    "            upval = delta\n",
    "            downval = 0.\n",
    "        else:\n",
    "            upval = 0.\n",
    "            downval = -delta\n",
    "\n",
    "        up = (up*(n-1) + upval)/n\n",
    "        down = (down*(n-1) + downval)/n\n",
    "\n",
    "        rs = up/down\n",
    "        rsi[i] = 100. - 100./(1.+rs)\n",
    "\n",
    "    return rsi\n",
    "\n",
    "\n",
    "\n",
    "def get_features(df):\n",
    "\n",
    "    df['log_return_5'] = log_return(df['Close'],periods=5)\n",
    "    df['log_return'] = log_return(df['Close'],periods=1)\n",
    "\n",
    "    upper_shadow = lambda asset: asset.High - np.maximum(asset.Close,asset.Open)\n",
    "    lower_shadow = lambda asset: np.minimum(asset.Close,asset.Open)- asset.Low\n",
    "\n",
    "    df['upper_shadow'] = upper_shadow(df)\n",
    "    df['lower_shadow'] = lower_shadow(df)\n",
    "    \n",
    "    df['EMA_21'] = df['Close'].ewm(span=21).mean()\n",
    "    \n",
    "    df['EMA_55'] = df['Close'].ewm(span=55).mean()\n",
    "    \n",
    "    df['EMA_315'] = df['Close'].ewm(span=315).mean()\n",
    "    \n",
    "    df['EMA_825'] = df['Close'].ewm(span=825).mean()\n",
    "    \n",
    "    window = 7\n",
    "    \n",
    "    no_of_std = 2\n",
    "    \n",
    "    df[f'EMA_{window}'] = df['Close'].ewm(span=window).mean()\n",
    "    \n",
    "    df[f'EMA_{window}_std'] = df['Close'].rolling(window=window).std()\n",
    "    \n",
    "    df[f'EMA_{window}_BB_high'] = df[f'EMA_{window}'] + no_of_std * df[f'EMA_{window}_std']\n",
    "    \n",
    "    df[f'MA_{window}MA_BB_low'] = df[f'EMA_{window}'] - no_of_std * df[f'EMA_{window}_std']\n",
    "    \n",
    "    window = 5\n",
    "    \n",
    "    df[f'EMA_{window}'] = df['Close'].ewm(span=window).mean()\n",
    "    \n",
    "    df[f'EMA_{window}_std'] = df['Close'].rolling(window=window).std()\n",
    "    \n",
    "    df[f'EMA_{window}_BB_high'] = df[f'EMA_{window}'] + no_of_std * df[f'EMA_{window}_std']\n",
    "    \n",
    "    df[f'MA_{window}MA_BB_low'] = df[f'EMA_{window}'] - no_of_std * df[f'EMA_{window}_std']\n",
    "    \n",
    "    df['MACD'] = df['EMA_7'] - df['EMA_5']\n",
    "    \n",
    "    \n",
    "    df['rsi_5'] = rsiFunc(df['Close'].values, 5)\n",
    "    \n",
    "    df['rsi_7'] = rsiFunc(df['Close'].values, 7)\n",
    "    \n",
    "    df['rsi_21'] = rsiFunc(df['Close'].values, 21)\n",
    "\n",
    "    \n",
    "    \n",
    "    df['VWAP'] = (df['Close'] * df['Volume'])/ df['Volume']  \n",
    "    \n",
    "    #df = pd.concat([df, pd.get_dummies(df['Asset_ID'], prefix= 'Asset_')], axis=1)\n",
    "    \n",
    "    df[['log_return_5', 'log_return', 'upper_shadow', 'lower_shadow',\n",
    "       'EMA_21', 'EMA_55', 'EMA_315', 'EMA_825', 'EMA_7', 'EMA_7_std',\n",
    "       'EMA_7_BB_high', 'MA_7MA_BB_low', 'EMA_5', 'EMA_5_std', 'EMA_5_BB_high',\n",
    "       'MA_5MA_BB_low', 'MACD', 'rsi_5', 'rsi_7', 'rsi_21']].astype('float16')\n",
    "    \n",
    "    return df\n",
    "\n"
   ]
  },
  {
   "cell_type": "code",
   "execution_count": 8,
   "id": "292f4e75",
   "metadata": {
    "execution": {
     "iopub.execute_input": "2022-06-21T23:46:05.063424Z",
     "iopub.status.busy": "2022-06-21T23:46:05.063182Z",
     "iopub.status.idle": "2022-06-21T23:46:54.251946Z",
     "shell.execute_reply": "2022-06-21T23:46:54.251115Z"
    },
    "papermill": {
     "duration": 49.198389,
     "end_time": "2022-06-21T23:46:54.254045",
     "exception": false,
     "start_time": "2022-06-21T23:46:05.055656",
     "status": "completed"
    },
    "tags": []
   },
   "outputs": [
    {
     "name": "stderr",
     "output_type": "stream",
     "text": [
      "/opt/conda/lib/python3.7/site-packages/pandas/core/algorithms.py:1711: RuntimeWarning: invalid value encountered in subtract\n",
      "  out_arr[res_indexer] = op(arr[res_indexer], arr[lag_indexer])\n",
      "/opt/conda/lib/python3.7/site-packages/numpy/lib/function_base.py:1292: RuntimeWarning: invalid value encountered in subtract\n",
      "  a = op(a[slice1], a[slice2])\n"
     ]
    }
   ],
   "source": [
    "#sort the database per stock before running the feature function\n",
    "df_prices = df_prices.sort_values('SecuritiesCode')\n",
    "\n",
    "df_prices = get_features(df_prices)\n",
    "\n",
    "df_prices = df_prices.replace((np.inf, -np.inf, np.nan), 0).reset_index(drop=True)\n",
    "\n",
    "df_prices = df_prices.fillna(0)"
   ]
  },
  {
   "cell_type": "code",
   "execution_count": null,
   "id": "816c216f",
   "metadata": {
    "papermill": {
     "duration": 0.007173,
     "end_time": "2022-06-21T23:46:54.268730",
     "exception": false,
     "start_time": "2022-06-21T23:46:54.261557",
     "status": "completed"
    },
    "tags": []
   },
   "outputs": [],
   "source": []
  },
  {
   "cell_type": "code",
   "execution_count": null,
   "id": "a5f5b170",
   "metadata": {
    "papermill": {
     "duration": 0.006941,
     "end_time": "2022-06-21T23:46:54.282907",
     "exception": false,
     "start_time": "2022-06-21T23:46:54.275966",
     "status": "completed"
    },
    "tags": []
   },
   "outputs": [],
   "source": []
  },
  {
   "cell_type": "markdown",
   "id": "bee57463",
   "metadata": {
    "papermill": {
     "duration": 0.00753,
     "end_time": "2022-06-21T23:46:54.297893",
     "exception": false,
     "start_time": "2022-06-21T23:46:54.290363",
     "status": "completed"
    },
    "tags": []
   },
   "source": [
    "## Training a Simple Model\n",
    "\n",
    "Xgboost"
   ]
  },
  {
   "cell_type": "code",
   "execution_count": null,
   "id": "1b122453",
   "metadata": {
    "papermill": {
     "duration": 0.007167,
     "end_time": "2022-06-21T23:46:54.312136",
     "exception": false,
     "start_time": "2022-06-21T23:46:54.304969",
     "status": "completed"
    },
    "tags": []
   },
   "outputs": [],
   "source": []
  },
  {
   "cell_type": "code",
   "execution_count": 9,
   "id": "a566867b",
   "metadata": {
    "execution": {
     "iopub.execute_input": "2022-06-21T23:46:54.327443Z",
     "iopub.status.busy": "2022-06-21T23:46:54.327072Z",
     "iopub.status.idle": "2022-06-21T23:46:55.581108Z",
     "shell.execute_reply": "2022-06-21T23:46:55.580328Z"
    },
    "papermill": {
     "duration": 1.26418,
     "end_time": "2022-06-21T23:46:55.583223",
     "exception": false,
     "start_time": "2022-06-21T23:46:54.319043",
     "status": "completed"
    },
    "tags": []
   },
   "outputs": [],
   "source": [
    "from sklearn.ensemble import GradientBoostingRegressor\n",
    "from sklearn.preprocessing import StandardScaler\n",
    "scaler = StandardScaler()"
   ]
  },
  {
   "cell_type": "code",
   "execution_count": 10,
   "id": "6dc38cfe",
   "metadata": {
    "execution": {
     "iopub.execute_input": "2022-06-21T23:46:55.599480Z",
     "iopub.status.busy": "2022-06-21T23:46:55.599190Z",
     "iopub.status.idle": "2022-06-21T23:46:55.603329Z",
     "shell.execute_reply": "2022-06-21T23:46:55.602500Z"
    },
    "papermill": {
     "duration": 0.013689,
     "end_time": "2022-06-21T23:46:55.605015",
     "exception": false,
     "start_time": "2022-06-21T23:46:55.591326",
     "status": "completed"
    },
    "tags": []
   },
   "outputs": [],
   "source": [
    "def model_training(X,y):\n",
    "    # Model training\n",
    "    \n",
    "    model = GradientBoostingRegressor() \n",
    "    model.fit(X, y)\n",
    "    \n",
    "    return model\n"
   ]
  },
  {
   "cell_type": "code",
   "execution_count": 11,
   "id": "51019ce9",
   "metadata": {
    "execution": {
     "iopub.execute_input": "2022-06-21T23:46:55.620510Z",
     "iopub.status.busy": "2022-06-21T23:46:55.620258Z",
     "iopub.status.idle": "2022-06-21T23:46:55.625883Z",
     "shell.execute_reply": "2022-06-21T23:46:55.624977Z"
    },
    "papermill": {
     "duration": 0.015419,
     "end_time": "2022-06-21T23:46:55.627957",
     "exception": false,
     "start_time": "2022-06-21T23:46:55.612538",
     "status": "completed"
    },
    "tags": []
   },
   "outputs": [],
   "source": [
    "scaled_features = ['Open', 'High', 'Low', 'Close', 'Volume','log_return_5', 'log_return', 'upper_shadow', 'lower_shadow',\n",
    "       'EMA_21', 'EMA_55', 'EMA_315', 'EMA_825', 'EMA_7', 'EMA_7_std',\n",
    "       'EMA_7_BB_high', 'MA_7MA_BB_low', 'EMA_5', 'EMA_5_std', 'EMA_5_BB_high',\n",
    "       'MA_5MA_BB_low', 'MACD', 'rsi_5', 'rsi_7', 'rsi_21']\n",
    "features = ['SecuritiesCode','Open', 'High', 'Low', 'Close', 'Volume','log_return_5', 'log_return', 'upper_shadow', 'lower_shadow',\n",
    "       'EMA_21', 'EMA_55', 'EMA_315', 'EMA_825', 'EMA_7', 'EMA_7_std',\n",
    "       'EMA_7_BB_high', 'MA_7MA_BB_low', 'EMA_5', 'EMA_5_std', 'EMA_5_BB_high',\n",
    "       'MA_5MA_BB_low', 'MACD', 'rsi_5', 'rsi_7', 'rsi_21']\n"
   ]
  },
  {
   "cell_type": "code",
   "execution_count": 12,
   "id": "2832daaf",
   "metadata": {
    "execution": {
     "iopub.execute_input": "2022-06-21T23:46:55.643136Z",
     "iopub.status.busy": "2022-06-21T23:46:55.642864Z",
     "iopub.status.idle": "2022-06-21T23:46:56.029742Z",
     "shell.execute_reply": "2022-06-21T23:46:56.028902Z"
    },
    "papermill": {
     "duration": 0.397189,
     "end_time": "2022-06-21T23:46:56.032338",
     "exception": false,
     "start_time": "2022-06-21T23:46:55.635149",
     "status": "completed"
    },
    "tags": []
   },
   "outputs": [],
   "source": [
    "# Creating endog and exog variables\n",
    "y = df_prices[['Target']]\n",
    "X = df_prices[features]"
   ]
  },
  {
   "cell_type": "code",
   "execution_count": 13,
   "id": "c73a31a9",
   "metadata": {
    "execution": {
     "iopub.execute_input": "2022-06-21T23:46:56.048725Z",
     "iopub.status.busy": "2022-06-21T23:46:56.048174Z",
     "iopub.status.idle": "2022-06-21T23:46:57.305475Z",
     "shell.execute_reply": "2022-06-21T23:46:57.304557Z"
    },
    "papermill": {
     "duration": 1.267756,
     "end_time": "2022-06-21T23:46:57.307724",
     "exception": false,
     "start_time": "2022-06-21T23:46:56.039968",
     "status": "completed"
    },
    "tags": []
   },
   "outputs": [
    {
     "name": "stderr",
     "output_type": "stream",
     "text": [
      "/opt/conda/lib/python3.7/site-packages/pandas/core/frame.py:3678: SettingWithCopyWarning: \n",
      "A value is trying to be set on a copy of a slice from a DataFrame.\n",
      "Try using .loc[row_indexer,col_indexer] = value instead\n",
      "\n",
      "See the caveats in the documentation: https://pandas.pydata.org/pandas-docs/stable/user_guide/indexing.html#returning-a-view-versus-a-copy\n",
      "  self[col] = igetitem(value, i)\n"
     ]
    }
   ],
   "source": [
    "X[scaled_features] = scaler.fit_transform(X[scaled_features])\n"
   ]
  },
  {
   "cell_type": "code",
   "execution_count": null,
   "id": "fe34702f",
   "metadata": {
    "papermill": {
     "duration": 0.006998,
     "end_time": "2022-06-21T23:46:57.322173",
     "exception": false,
     "start_time": "2022-06-21T23:46:57.315175",
     "status": "completed"
    },
    "tags": []
   },
   "outputs": [],
   "source": []
  },
  {
   "cell_type": "code",
   "execution_count": 14,
   "id": "09cf7805",
   "metadata": {
    "execution": {
     "iopub.execute_input": "2022-06-21T23:46:57.337881Z",
     "iopub.status.busy": "2022-06-21T23:46:57.337576Z",
     "iopub.status.idle": "2022-06-22T00:20:37.379700Z",
     "shell.execute_reply": "2022-06-22T00:20:37.378865Z"
    },
    "papermill": {
     "duration": 2020.059746,
     "end_time": "2022-06-22T00:20:37.389419",
     "exception": false,
     "start_time": "2022-06-21T23:46:57.329673",
     "status": "completed"
    },
    "tags": []
   },
   "outputs": [
    {
     "name": "stderr",
     "output_type": "stream",
     "text": [
      "/opt/conda/lib/python3.7/site-packages/sklearn/ensemble/_gb.py:494: DataConversionWarning: A column-vector y was passed when a 1d array was expected. Please change the shape of y to (n_samples, ), for example using ravel().\n",
      "  y = column_or_1d(y, warn=True)\n"
     ]
    },
    {
     "name": "stdout",
     "output_type": "stream",
     "text": [
      "CPU times: user 33min 29s, sys: 1.47 s, total: 33min 31s\n",
      "Wall time: 33min 40s\n"
     ]
    }
   ],
   "source": [
    "%%time\n",
    "\n",
    "model_1 = model_training(X,y)"
   ]
  },
  {
   "cell_type": "code",
   "execution_count": 15,
   "id": "22d7cca6",
   "metadata": {
    "execution": {
     "iopub.execute_input": "2022-06-22T00:20:37.406194Z",
     "iopub.status.busy": "2022-06-22T00:20:37.405481Z",
     "iopub.status.idle": "2022-06-22T00:20:41.144791Z",
     "shell.execute_reply": "2022-06-22T00:20:41.144027Z"
    },
    "papermill": {
     "duration": 3.749786,
     "end_time": "2022-06-22T00:20:41.146844",
     "exception": false,
     "start_time": "2022-06-22T00:20:37.397058",
     "status": "completed"
    },
    "tags": []
   },
   "outputs": [
    {
     "data": {
      "text/plain": [
       "0.003793440532281811"
      ]
     },
     "execution_count": 15,
     "metadata": {},
     "output_type": "execute_result"
    }
   ],
   "source": [
    "model_1.score(X,y)"
   ]
  },
  {
   "cell_type": "code",
   "execution_count": 16,
   "id": "8393cf81",
   "metadata": {
    "execution": {
     "iopub.execute_input": "2022-06-22T00:20:41.163983Z",
     "iopub.status.busy": "2022-06-22T00:20:41.163303Z",
     "iopub.status.idle": "2022-06-22T00:20:41.167128Z",
     "shell.execute_reply": "2022-06-22T00:20:41.166270Z"
    },
    "papermill": {
     "duration": 0.014194,
     "end_time": "2022-06-22T00:20:41.168958",
     "exception": false,
     "start_time": "2022-06-22T00:20:41.154764",
     "status": "completed"
    },
    "tags": []
   },
   "outputs": [],
   "source": [
    "import pickle"
   ]
  },
  {
   "cell_type": "code",
   "execution_count": 17,
   "id": "b1ba7cf5",
   "metadata": {
    "execution": {
     "iopub.execute_input": "2022-06-22T00:20:41.185057Z",
     "iopub.status.busy": "2022-06-22T00:20:41.184744Z",
     "iopub.status.idle": "2022-06-22T00:20:41.194183Z",
     "shell.execute_reply": "2022-06-22T00:20:41.193509Z"
    },
    "papermill": {
     "duration": 0.019477,
     "end_time": "2022-06-22T00:20:41.195809",
     "exception": false,
     "start_time": "2022-06-22T00:20:41.176332",
     "status": "completed"
    },
    "tags": []
   },
   "outputs": [],
   "source": [
    "# Saving model\n",
    "\n",
    "#Saving the sklearn model\n",
    "\n",
    "filename = 'simple_skgb.sav'\n",
    "pickle.dump(model_1, open(filename, 'wb'))"
   ]
  },
  {
   "cell_type": "markdown",
   "id": "c272bdd7",
   "metadata": {
    "papermill": {
     "duration": 0.007146,
     "end_time": "2022-06-22T00:20:41.210202",
     "exception": false,
     "start_time": "2022-06-22T00:20:41.203056",
     "status": "completed"
    },
    "tags": []
   },
   "source": [
    "# Submission\n"
   ]
  },
  {
   "cell_type": "code",
   "execution_count": 18,
   "id": "d1a1ff2c",
   "metadata": {
    "execution": {
     "iopub.execute_input": "2022-06-22T00:20:41.225782Z",
     "iopub.status.busy": "2022-06-22T00:20:41.225510Z",
     "iopub.status.idle": "2022-06-22T00:20:41.230029Z",
     "shell.execute_reply": "2022-06-22T00:20:41.229234Z"
    },
    "papermill": {
     "duration": 0.014447,
     "end_time": "2022-06-22T00:20:41.231865",
     "exception": false,
     "start_time": "2022-06-22T00:20:41.217418",
     "status": "completed"
    },
    "tags": []
   },
   "outputs": [],
   "source": [
    "\n",
    "\n",
    "def add_rank(df, col_name=\"pred\"):\n",
    "    df[\"Rank\"] = df.groupby(\"Date\")[col_name].rank(ascending=False, method=\"first\") - 1 \n",
    "    df[\"Rank\"] = df[\"Rank\"].astype(\"int\")\n",
    "    return df"
   ]
  },
  {
   "cell_type": "code",
   "execution_count": null,
   "id": "c6ebfd6a",
   "metadata": {
    "execution": {
     "iopub.execute_input": "2022-06-15T00:36:20.556492Z",
     "iopub.status.busy": "2022-06-15T00:36:20.556101Z",
     "iopub.status.idle": "2022-06-15T00:36:20.568645Z",
     "shell.execute_reply": "2022-06-15T00:36:20.567757Z",
     "shell.execute_reply.started": "2022-06-15T00:36:20.556449Z"
    },
    "papermill": {
     "duration": 0.007084,
     "end_time": "2022-06-22T00:20:41.246201",
     "exception": false,
     "start_time": "2022-06-22T00:20:41.239117",
     "status": "completed"
    },
    "tags": []
   },
   "outputs": [],
   "source": []
  },
  {
   "cell_type": "code",
   "execution_count": null,
   "id": "1db2ed57",
   "metadata": {
    "execution": {
     "iopub.execute_input": "2022-06-15T00:38:51.635586Z",
     "iopub.status.busy": "2022-06-15T00:38:51.635129Z",
     "iopub.status.idle": "2022-06-15T00:38:51.639976Z",
     "shell.execute_reply": "2022-06-15T00:38:51.638842Z",
     "shell.execute_reply.started": "2022-06-15T00:38:51.635532Z"
    },
    "papermill": {
     "duration": 0.007356,
     "end_time": "2022-06-22T00:20:41.260824",
     "exception": false,
     "start_time": "2022-06-22T00:20:41.253468",
     "status": "completed"
    },
    "tags": []
   },
   "outputs": [],
   "source": []
  },
  {
   "cell_type": "code",
   "execution_count": 19,
   "id": "319e2b93",
   "metadata": {
    "execution": {
     "iopub.execute_input": "2022-06-22T00:20:41.277211Z",
     "iopub.status.busy": "2022-06-22T00:20:41.276921Z",
     "iopub.status.idle": "2022-06-22T00:20:41.604640Z",
     "shell.execute_reply": "2022-06-22T00:20:41.603855Z"
    },
    "papermill": {
     "duration": 0.338266,
     "end_time": "2022-06-22T00:20:41.606755",
     "exception": false,
     "start_time": "2022-06-22T00:20:41.268489",
     "status": "completed"
    },
    "tags": []
   },
   "outputs": [
    {
     "name": "stdout",
     "output_type": "stream",
     "text": [
      "This version of the API is not optimized and should not be used to estimate the runtime of your code on the hidden test set.\n"
     ]
    }
   ],
   "source": [
    "import jpx_tokyo_market_prediction\n",
    "\n",
    "\n",
    "env = jpx_tokyo_market_prediction.make_env()   # initialize the environment\n",
    "iter_test = env.iter_test()    # an iterator which loops over the test files\n",
    "for (prices, options, financials, trades, secondary_prices, sample_prediction) in iter_test:\n",
    "    prices = get_features(prices)\n",
    "    prices = prices.replace((np.inf, -np.inf, np.nan), 0).reset_index(drop=True)\n",
    "    prices = prices.fillna(0)\n",
    "    prices[scaled_features] = scaler.fit_transform(prices[scaled_features])\n",
    "    prices['pred'] = model_1.predict(prices[features])\n",
    "    prices = add_rank(prices)\n",
    "    feature_map = prices.set_index('SecuritiesCode')['Rank'].to_dict()\n",
    "    sample_prediction['Rank'] = sample_prediction['SecuritiesCode'].map(feature_map)\n",
    "    env.predict(sample_prediction)"
   ]
  },
  {
   "cell_type": "code",
   "execution_count": null,
   "id": "a410b746",
   "metadata": {
    "papermill": {
     "duration": 0.007235,
     "end_time": "2022-06-22T00:20:41.621899",
     "exception": false,
     "start_time": "2022-06-22T00:20:41.614664",
     "status": "completed"
    },
    "tags": []
   },
   "outputs": [],
   "source": []
  }
 ],
 "metadata": {
  "kernelspec": {
   "display_name": "Python 3",
   "language": "python",
   "name": "python3"
  },
  "language_info": {
   "codemirror_mode": {
    "name": "ipython",
    "version": 3
   },
   "file_extension": ".py",
   "mimetype": "text/x-python",
   "name": "python",
   "nbconvert_exporter": "python",
   "pygments_lexer": "ipython3",
   "version": "3.7.12"
  },
  "papermill": {
   "default_parameters": {},
   "duration": 2092.038358,
   "end_time": "2022-06-22T00:20:42.351715",
   "environment_variables": {},
   "exception": null,
   "input_path": "__notebook__.ipynb",
   "output_path": "__notebook__.ipynb",
   "parameters": {},
   "start_time": "2022-06-21T23:45:50.313357",
   "version": "2.3.4"
  }
 },
 "nbformat": 4,
 "nbformat_minor": 5
}
