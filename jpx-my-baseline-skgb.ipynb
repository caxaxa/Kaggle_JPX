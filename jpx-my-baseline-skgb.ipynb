{
 "cells": [
  {
   "cell_type": "code",
   "execution_count": 1,
   "id": "e8fb4911",
   "metadata": {
    "_cell_guid": "b1076dfc-b9ad-4769-8c92-a6c4dae69d19",
    "_uuid": "8f2839f25d086af736a60e9eeb907d3b93b6e0e5",
    "execution": {
     "iopub.execute_input": "2022-06-20T03:02:15.081624Z",
     "iopub.status.busy": "2022-06-20T03:02:15.080610Z",
     "iopub.status.idle": "2022-06-20T03:02:15.108832Z",
     "shell.execute_reply": "2022-06-20T03:02:15.108078Z"
    },
    "papermill": {
     "duration": 0.043419,
     "end_time": "2022-06-20T03:02:15.112579",
     "exception": false,
     "start_time": "2022-06-20T03:02:15.069160",
     "status": "completed"
    },
    "tags": []
   },
   "outputs": [
    {
     "name": "stdout",
     "output_type": "stream",
     "text": [
      "/kaggle/input/jpx-tokyo-stock-exchange-prediction/stock_list.csv\n",
      "/kaggle/input/jpx-tokyo-stock-exchange-prediction/example_test_files/sample_submission.csv\n",
      "/kaggle/input/jpx-tokyo-stock-exchange-prediction/example_test_files/options.csv\n",
      "/kaggle/input/jpx-tokyo-stock-exchange-prediction/example_test_files/financials.csv\n",
      "/kaggle/input/jpx-tokyo-stock-exchange-prediction/example_test_files/secondary_stock_prices.csv\n",
      "/kaggle/input/jpx-tokyo-stock-exchange-prediction/example_test_files/trades.csv\n",
      "/kaggle/input/jpx-tokyo-stock-exchange-prediction/example_test_files/stock_prices.csv\n",
      "/kaggle/input/jpx-tokyo-stock-exchange-prediction/jpx_tokyo_market_prediction/competition.cpython-37m-x86_64-linux-gnu.so\n",
      "/kaggle/input/jpx-tokyo-stock-exchange-prediction/jpx_tokyo_market_prediction/__init__.py\n",
      "/kaggle/input/jpx-tokyo-stock-exchange-prediction/data_specifications/stock_fin_spec.csv\n",
      "/kaggle/input/jpx-tokyo-stock-exchange-prediction/data_specifications/trades_spec.csv\n",
      "/kaggle/input/jpx-tokyo-stock-exchange-prediction/data_specifications/stock_price_spec.csv\n",
      "/kaggle/input/jpx-tokyo-stock-exchange-prediction/data_specifications/options_spec.csv\n",
      "/kaggle/input/jpx-tokyo-stock-exchange-prediction/data_specifications/stock_list_spec.csv\n",
      "/kaggle/input/jpx-tokyo-stock-exchange-prediction/train_files/options.csv\n",
      "/kaggle/input/jpx-tokyo-stock-exchange-prediction/train_files/financials.csv\n",
      "/kaggle/input/jpx-tokyo-stock-exchange-prediction/train_files/secondary_stock_prices.csv\n",
      "/kaggle/input/jpx-tokyo-stock-exchange-prediction/train_files/trades.csv\n",
      "/kaggle/input/jpx-tokyo-stock-exchange-prediction/train_files/stock_prices.csv\n",
      "/kaggle/input/jpx-tokyo-stock-exchange-prediction/supplemental_files/options.csv\n",
      "/kaggle/input/jpx-tokyo-stock-exchange-prediction/supplemental_files/financials.csv\n",
      "/kaggle/input/jpx-tokyo-stock-exchange-prediction/supplemental_files/secondary_stock_prices.csv\n",
      "/kaggle/input/jpx-tokyo-stock-exchange-prediction/supplemental_files/trades.csv\n",
      "/kaggle/input/jpx-tokyo-stock-exchange-prediction/supplemental_files/stock_prices.csv\n"
     ]
    }
   ],
   "source": [
    "# This Python 3 environment comes with many helpful analytics libraries installed\n",
    "# It is defined by the kaggle/python Docker image: https://github.com/kaggle/docker-python\n",
    "# For example, here's several helpful packages to load\n",
    "\n",
    "import numpy as np # linear algebra\n",
    "import pandas as pd # data processing, CSV file I/O (e.g. pd.read_csv)\n",
    "\n",
    "# Input data files are available in the read-only \"../input/\" directory\n",
    "# For example, running this (by clicking run or pressing Shift+Enter) will list all files under the input directory\n",
    "\n",
    "import os\n",
    "for dirname, _, filenames in os.walk('/kaggle/input'):\n",
    "    for filename in filenames:\n",
    "        print(os.path.join(dirname, filename))\n",
    "\n",
    "# You can write up to 20GB to the current directory (/kaggle/working/) th\n",
    "#at gets preserved as output when you create a version using \"Save & Run All\" \n",
    "# You can also write temporary files to /kaggle/temp/, but they won't be saved outside of the current session"
   ]
  },
  {
   "cell_type": "markdown",
   "id": "ee0258cb",
   "metadata": {
    "papermill": {
     "duration": 0.007748,
     "end_time": "2022-06-20T03:02:15.128605",
     "exception": false,
     "start_time": "2022-06-20T03:02:15.120857",
     "status": "completed"
    },
    "tags": []
   },
   "source": [
    "# Here starts my Baseline\n",
    "\n",
    "Ideas:\n",
    "\n",
    "1  - Feature engeneering- Basic and effective;\n",
    "\n",
    "2 - Gradient Boosting Regressions;\n",
    "\n",
    "3 - Neuronets Regressions; and\n",
    "\n",
    "4 - Submission.\n",
    "\n"
   ]
  },
  {
   "cell_type": "markdown",
   "id": "48f27790",
   "metadata": {
    "papermill": {
     "duration": 0.007877,
     "end_time": "2022-06-20T03:02:15.144431",
     "exception": false,
     "start_time": "2022-06-20T03:02:15.136554",
     "status": "completed"
    },
    "tags": []
   },
   "source": [
    "## 1 Feature Engeneering"
   ]
  },
  {
   "cell_type": "code",
   "execution_count": 2,
   "id": "38f98b20",
   "metadata": {
    "execution": {
     "iopub.execute_input": "2022-06-20T03:02:15.160730Z",
     "iopub.status.busy": "2022-06-20T03:02:15.160189Z",
     "iopub.status.idle": "2022-06-20T03:02:15.165164Z",
     "shell.execute_reply": "2022-06-20T03:02:15.164331Z"
    },
    "papermill": {
     "duration": 0.015112,
     "end_time": "2022-06-20T03:02:15.167077",
     "exception": false,
     "start_time": "2022-06-20T03:02:15.151965",
     "status": "completed"
    },
    "tags": []
   },
   "outputs": [],
   "source": [
    "def concat_df(df1, df2):\n",
    "    df1 = pd.concat([df1, df2],\n",
    "                    ignore_index=True, sort=False\n",
    "                    ).drop_duplicates([\"RowId\"], keep=\"first\")\n",
    "    return df1"
   ]
  },
  {
   "cell_type": "code",
   "execution_count": 3,
   "id": "ad03dd62",
   "metadata": {
    "execution": {
     "iopub.execute_input": "2022-06-20T03:02:15.183933Z",
     "iopub.status.busy": "2022-06-20T03:02:15.183116Z",
     "iopub.status.idle": "2022-06-20T03:02:23.257986Z",
     "shell.execute_reply": "2022-06-20T03:02:23.256977Z"
    },
    "papermill": {
     "duration": 8.086328,
     "end_time": "2022-06-20T03:02:23.260870",
     "exception": false,
     "start_time": "2022-06-20T03:02:15.174542",
     "status": "completed"
    },
    "tags": []
   },
   "outputs": [
    {
     "name": "stdout",
     "output_type": "stream",
     "text": [
      "<class 'pandas.core.frame.DataFrame'>\n",
      "Int64Index: 273958 entries, 2288531 to 2562488\n",
      "Data columns (total 12 columns):\n",
      " #   Column            Non-Null Count   Dtype  \n",
      "---  ------            --------------   -----  \n",
      " 0   RowId             273958 non-null  object \n",
      " 1   Date              273958 non-null  object \n",
      " 2   SecuritiesCode    273958 non-null  int8   \n",
      " 3   Open              273119 non-null  float16\n",
      " 4   High              273119 non-null  float16\n",
      " 5   Low               273119 non-null  float16\n",
      " 6   Close             273119 non-null  float16\n",
      " 7   Volume            273958 non-null  int8   \n",
      " 8   AdjustmentFactor  273958 non-null  float16\n",
      " 9   ExpectedDividend  2066 non-null    float16\n",
      " 10  SupervisionFlag   273958 non-null  bool   \n",
      " 11  Target            273952 non-null  float16\n",
      "dtypes: bool(1), float16(7), int8(2), object(2)\n",
      "memory usage: 10.7+ MB\n"
     ]
    }
   ],
   "source": [
    "# For now... use pandas.... \n",
    "#If too heavy use Cudf\n",
    "\n",
    "# For now... just fix the floats\n",
    "dtypes = {\n",
    "'SecuritiesCode' : np.int8,\n",
    "'Open'           :     np.float16,\n",
    "'High'           :     np.float16,\n",
    "'Low'            :     np.float16,\n",
    "'Close'          :     np.float16,\n",
    "'Volume'         :       np.int8,\n",
    "'AdjustmentFactor':    np.float16,\n",
    "'ExpectedDividend':    np.float16,\n",
    "'Target'        :      np.float16\n",
    "}\n",
    "path = \"../input/jpx-tokyo-stock-exchange-prediction/\"\n",
    "df_prices = pd.read_csv(f\"{path}train_files/stock_prices.csv\",dtype = dtypes)\n",
    "prices = pd.read_csv(f\"{path}supplemental_files/stock_prices.csv\",dtype = dtypes)\n",
    "df_prices = concat_df(df_prices, prices)\n",
    "df_prices = df_prices[df_prices.Date>\"2021-11-01\"]\n",
    "df_prices.info(show_counts=True)"
   ]
  },
  {
   "cell_type": "code",
   "execution_count": 4,
   "id": "6b396ef4",
   "metadata": {
    "execution": {
     "iopub.execute_input": "2022-06-20T03:02:23.278267Z",
     "iopub.status.busy": "2022-06-20T03:02:23.277637Z",
     "iopub.status.idle": "2022-06-20T03:02:23.282099Z",
     "shell.execute_reply": "2022-06-20T03:02:23.281412Z"
    },
    "papermill": {
     "duration": 0.013893,
     "end_time": "2022-06-20T03:02:23.283804",
     "exception": false,
     "start_time": "2022-06-20T03:02:23.269911",
     "status": "completed"
    },
    "tags": []
   },
   "outputs": [],
   "source": [
    "# def prep_prices(price):\n",
    "#     price.fillna(0,inplace=True)\n",
    "#     return price"
   ]
  },
  {
   "cell_type": "code",
   "execution_count": 5,
   "id": "67992456",
   "metadata": {
    "execution": {
     "iopub.execute_input": "2022-06-20T03:02:23.298925Z",
     "iopub.status.busy": "2022-06-20T03:02:23.298366Z",
     "iopub.status.idle": "2022-06-20T03:02:23.302914Z",
     "shell.execute_reply": "2022-06-20T03:02:23.302103Z"
    },
    "papermill": {
     "duration": 0.013898,
     "end_time": "2022-06-20T03:02:23.304639",
     "exception": false,
     "start_time": "2022-06-20T03:02:23.290741",
     "status": "completed"
    },
    "tags": []
   },
   "outputs": [],
   "source": [
    "# df_prices = prep_prices(df_prices)\n",
    "# pd.options.display.float_format = '{:,.6g}'.format\n",
    "# df_prices.describe()"
   ]
  },
  {
   "cell_type": "code",
   "execution_count": null,
   "id": "9a51bfe6",
   "metadata": {
    "papermill": {
     "duration": 0.007208,
     "end_time": "2022-06-20T03:02:23.318810",
     "exception": false,
     "start_time": "2022-06-20T03:02:23.311602",
     "status": "completed"
    },
    "tags": []
   },
   "outputs": [],
   "source": []
  },
  {
   "cell_type": "code",
   "execution_count": null,
   "id": "7d06a9a2",
   "metadata": {
    "papermill": {
     "duration": 0.006725,
     "end_time": "2022-06-20T03:02:23.332552",
     "exception": false,
     "start_time": "2022-06-20T03:02:23.325827",
     "status": "completed"
    },
    "tags": []
   },
   "outputs": [],
   "source": []
  },
  {
   "cell_type": "code",
   "execution_count": 6,
   "id": "a1bc298b",
   "metadata": {
    "execution": {
     "iopub.execute_input": "2022-06-20T03:02:23.348076Z",
     "iopub.status.busy": "2022-06-20T03:02:23.347827Z",
     "iopub.status.idle": "2022-06-20T03:02:23.352056Z",
     "shell.execute_reply": "2022-06-20T03:02:23.351246Z"
    },
    "papermill": {
     "duration": 0.014177,
     "end_time": "2022-06-20T03:02:23.353933",
     "exception": false,
     "start_time": "2022-06-20T03:02:23.339756",
     "status": "completed"
    },
    "tags": []
   },
   "outputs": [],
   "source": [
    "from datetime import datetime\n",
    "import time\n",
    "\n",
    " # auxiliary function, from datetime to timestamp\n",
    "totimestamp = lambda s: np.int32(time.mktime(datetime.strptime(s, \"%Y-%m-%d\").timetuple()))"
   ]
  },
  {
   "cell_type": "markdown",
   "id": "fb19741d",
   "metadata": {
    "papermill": {
     "duration": 0.006726,
     "end_time": "2022-06-20T03:02:23.367572",
     "exception": false,
     "start_time": "2022-06-20T03:02:23.360846",
     "status": "completed"
    },
    "tags": []
   },
   "source": [
    "# Data Features\n"
   ]
  },
  {
   "cell_type": "code",
   "execution_count": 7,
   "id": "a4e607e7",
   "metadata": {
    "execution": {
     "iopub.execute_input": "2022-06-20T03:02:23.382551Z",
     "iopub.status.busy": "2022-06-20T03:02:23.382182Z",
     "iopub.status.idle": "2022-06-20T03:02:23.400333Z",
     "shell.execute_reply": "2022-06-20T03:02:23.399621Z"
    },
    "papermill": {
     "duration": 0.027635,
     "end_time": "2022-06-20T03:02:23.402153",
     "exception": false,
     "start_time": "2022-06-20T03:02:23.374518",
     "status": "completed"
    },
    "tags": []
   },
   "outputs": [],
   "source": [
    "\n",
    "# define function to compute log returns\n",
    "def log_return(series, periods=1):\n",
    "    return np.log(series).diff(periods=periods)\n",
    "\n",
    "\n",
    "# def fill_the_gaps(df):\n",
    "#     new_df = pd.DataFrame(columns= df.columns)\n",
    "#     for i in range(len(df['SecuritiesCode'].unique())):\n",
    "#         new_df = new_df.append(df[df['SecuritiesCode'] == i].reindex(range(df[df['SecuritiesCode'] == i].index[0],df[df['SecuritiesCode'] == i].index[-1]+60,60),method='pad'))\n",
    "#     new_df.fillna(method = 'pad', inplace = True) \n",
    "#     return new_df\n",
    "\n",
    "\n",
    "def rsiFunc(prices, n=14):\n",
    "    deltas = np.diff(prices)\n",
    "    seed = deltas[:n+1]\n",
    "    up = seed[seed>=0].sum()/n\n",
    "    down = -seed[seed<0].sum()/n\n",
    "    rs = up/down\n",
    "    rsi = np.zeros_like(prices)\n",
    "    rsi[:n] = 100. - 100./(1.+rs)\n",
    "\n",
    "    for i in range(n, len(prices)):\n",
    "        delta = deltas[i-1] # cause the diff is 1 shorter\n",
    "\n",
    "        if delta>0:\n",
    "            upval = delta\n",
    "            downval = 0.\n",
    "        else:\n",
    "            upval = 0.\n",
    "            downval = -delta\n",
    "\n",
    "        up = (up*(n-1) + upval)/n\n",
    "        down = (down*(n-1) + downval)/n\n",
    "\n",
    "        rs = up/down\n",
    "        rsi[i] = 100. - 100./(1.+rs)\n",
    "\n",
    "    return rsi\n",
    "\n",
    "\n",
    "\n",
    "def get_features(df):\n",
    "\n",
    "    df['log_return_5'] = log_return(df['Close'],periods=5)\n",
    "    df['log_return'] = log_return(df['Close'],periods=1)\n",
    "\n",
    "    upper_shadow = lambda asset: asset.High - np.maximum(asset.Close,asset.Open)\n",
    "    lower_shadow = lambda asset: np.minimum(asset.Close,asset.Open)- asset.Low\n",
    "\n",
    "    df['upper_shadow'] = upper_shadow(df)\n",
    "    df['lower_shadow'] = lower_shadow(df)\n",
    "    \n",
    "    df['EMA_21'] = df['Close'].ewm(span=21).mean()\n",
    "    \n",
    "    df['EMA_55'] = df['Close'].ewm(span=55).mean()\n",
    "    \n",
    "    df['EMA_315'] = df['Close'].ewm(span=315).mean()\n",
    "    \n",
    "    df['EMA_825'] = df['Close'].ewm(span=825).mean()\n",
    "    \n",
    "    window = 7\n",
    "    \n",
    "    no_of_std = 2\n",
    "    \n",
    "    df[f'EMA_{window}'] = df['Close'].ewm(span=window).mean()\n",
    "    \n",
    "    df[f'EMA_{window}_std'] = df['Close'].rolling(window=window).std()\n",
    "    \n",
    "    df[f'EMA_{window}_BB_high'] = df[f'EMA_{window}'] + no_of_std * df[f'EMA_{window}_std']\n",
    "    \n",
    "    df[f'MA_{window}MA_BB_low'] = df[f'EMA_{window}'] - no_of_std * df[f'EMA_{window}_std']\n",
    "    \n",
    "    window = 5\n",
    "    \n",
    "    df[f'EMA_{window}'] = df['Close'].ewm(span=window).mean()\n",
    "    \n",
    "    df[f'EMA_{window}_std'] = df['Close'].rolling(window=window).std()\n",
    "    \n",
    "    df[f'EMA_{window}_BB_high'] = df[f'EMA_{window}'] + no_of_std * df[f'EMA_{window}_std']\n",
    "    \n",
    "    df[f'MA_{window}MA_BB_low'] = df[f'EMA_{window}'] - no_of_std * df[f'EMA_{window}_std']\n",
    "    \n",
    "    df['MACD'] = df['EMA_7'] - df['EMA_5']\n",
    "    \n",
    "    \n",
    "    df['rsi_5'] = rsiFunc(df['Close'].values, 5)\n",
    "    \n",
    "    df['rsi_7'] = rsiFunc(df['Close'].values, 7)\n",
    "    \n",
    "    df['rsi_21'] = rsiFunc(df['Close'].values, 21)\n",
    "\n",
    "    \n",
    "    \n",
    "    #df = pd.concat([df, pd.get_dummies(df['Asset_ID'], prefix= 'Asset_')], axis=1)\n",
    "    \n",
    "    df[['log_return_5', 'log_return', 'upper_shadow', 'lower_shadow',\n",
    "       'EMA_21', 'EMA_55', 'EMA_315', 'EMA_825', 'EMA_7', 'EMA_7_std',\n",
    "       'EMA_7_BB_high', 'MA_7MA_BB_low', 'EMA_5', 'EMA_5_std', 'EMA_5_BB_high',\n",
    "       'MA_5MA_BB_low', 'MACD', 'rsi_5', 'rsi_7', 'rsi_21']].astype('float16')\n",
    "    \n",
    "    return df\n",
    "\n"
   ]
  },
  {
   "cell_type": "code",
   "execution_count": 8,
   "id": "60f4a1e9",
   "metadata": {
    "execution": {
     "iopub.execute_input": "2022-06-20T03:02:23.417319Z",
     "iopub.status.busy": "2022-06-20T03:02:23.417080Z",
     "iopub.status.idle": "2022-06-20T03:02:29.080166Z",
     "shell.execute_reply": "2022-06-20T03:02:29.079347Z"
    },
    "papermill": {
     "duration": 5.672917,
     "end_time": "2022-06-20T03:02:29.082289",
     "exception": false,
     "start_time": "2022-06-20T03:02:23.409372",
     "status": "completed"
    },
    "tags": []
   },
   "outputs": [],
   "source": [
    "df_prices = get_features(df_prices)\n",
    "\n",
    "df_prices = df_prices.replace((np.inf, -np.inf, np.nan), 0).reset_index(drop=True)\n",
    "\n",
    "df_prices = df_prices.fillna(0)"
   ]
  },
  {
   "cell_type": "code",
   "execution_count": null,
   "id": "11ce9dab",
   "metadata": {
    "papermill": {
     "duration": 0.007213,
     "end_time": "2022-06-20T03:02:29.096806",
     "exception": false,
     "start_time": "2022-06-20T03:02:29.089593",
     "status": "completed"
    },
    "tags": []
   },
   "outputs": [],
   "source": []
  },
  {
   "cell_type": "code",
   "execution_count": null,
   "id": "140ec750",
   "metadata": {
    "papermill": {
     "duration": 0.006825,
     "end_time": "2022-06-20T03:02:29.110615",
     "exception": false,
     "start_time": "2022-06-20T03:02:29.103790",
     "status": "completed"
    },
    "tags": []
   },
   "outputs": [],
   "source": []
  },
  {
   "cell_type": "markdown",
   "id": "29547347",
   "metadata": {
    "papermill": {
     "duration": 0.006812,
     "end_time": "2022-06-20T03:02:29.124444",
     "exception": false,
     "start_time": "2022-06-20T03:02:29.117632",
     "status": "completed"
    },
    "tags": []
   },
   "source": [
    "## Training a Simple Model\n",
    "\n",
    "Xgboost"
   ]
  },
  {
   "cell_type": "code",
   "execution_count": null,
   "id": "67e2e9c4",
   "metadata": {
    "papermill": {
     "duration": 0.006828,
     "end_time": "2022-06-20T03:02:29.138169",
     "exception": false,
     "start_time": "2022-06-20T03:02:29.131341",
     "status": "completed"
    },
    "tags": []
   },
   "outputs": [],
   "source": []
  },
  {
   "cell_type": "code",
   "execution_count": 9,
   "id": "3be1f789",
   "metadata": {
    "execution": {
     "iopub.execute_input": "2022-06-20T03:02:29.153417Z",
     "iopub.status.busy": "2022-06-20T03:02:29.153088Z",
     "iopub.status.idle": "2022-06-20T03:02:30.151388Z",
     "shell.execute_reply": "2022-06-20T03:02:30.150442Z"
    },
    "papermill": {
     "duration": 1.008967,
     "end_time": "2022-06-20T03:02:30.154241",
     "exception": false,
     "start_time": "2022-06-20T03:02:29.145274",
     "status": "completed"
    },
    "tags": []
   },
   "outputs": [],
   "source": [
    "from sklearn.ensemble import GradientBoostingRegressor\n",
    "from sklearn.preprocessing import StandardScaler\n",
    "scaler = StandardScaler()"
   ]
  },
  {
   "cell_type": "code",
   "execution_count": 10,
   "id": "ad80079f",
   "metadata": {
    "execution": {
     "iopub.execute_input": "2022-06-20T03:02:30.169943Z",
     "iopub.status.busy": "2022-06-20T03:02:30.169639Z",
     "iopub.status.idle": "2022-06-20T03:02:30.173723Z",
     "shell.execute_reply": "2022-06-20T03:02:30.172899Z"
    },
    "papermill": {
     "duration": 0.014168,
     "end_time": "2022-06-20T03:02:30.175655",
     "exception": false,
     "start_time": "2022-06-20T03:02:30.161487",
     "status": "completed"
    },
    "tags": []
   },
   "outputs": [],
   "source": [
    "def model_training(X,y):\n",
    "    # Model training\n",
    "    \n",
    "    model = GradientBoostingRegressor() \n",
    "    model.fit(X, y)\n",
    "    \n",
    "    return model\n"
   ]
  },
  {
   "cell_type": "code",
   "execution_count": 11,
   "id": "6dd2f2ba",
   "metadata": {
    "execution": {
     "iopub.execute_input": "2022-06-20T03:02:30.190502Z",
     "iopub.status.busy": "2022-06-20T03:02:30.190246Z",
     "iopub.status.idle": "2022-06-20T03:02:30.195852Z",
     "shell.execute_reply": "2022-06-20T03:02:30.195022Z"
    },
    "papermill": {
     "duration": 0.015031,
     "end_time": "2022-06-20T03:02:30.197641",
     "exception": false,
     "start_time": "2022-06-20T03:02:30.182610",
     "status": "completed"
    },
    "tags": []
   },
   "outputs": [],
   "source": [
    "scaled_features = ['Open', 'High', 'Low', 'Close', 'Volume','log_return_5', 'log_return', 'upper_shadow', 'lower_shadow',\n",
    "       'EMA_21', 'EMA_55', 'EMA_315', 'EMA_825', 'EMA_7', 'EMA_7_std',\n",
    "       'EMA_7_BB_high', 'MA_7MA_BB_low', 'EMA_5', 'EMA_5_std', 'EMA_5_BB_high',\n",
    "       'MA_5MA_BB_low', 'MACD', 'rsi_5', 'rsi_7', 'rsi_21']\n",
    "features = ['Open', 'High', 'Low', 'Close', 'Volume','log_return_5', 'log_return', 'upper_shadow', 'lower_shadow',\n",
    "       'EMA_21', 'EMA_55', 'EMA_315', 'EMA_825', 'EMA_7', 'EMA_7_std',\n",
    "       'EMA_7_BB_high', 'MA_7MA_BB_low', 'EMA_5', 'EMA_5_std', 'EMA_5_BB_high',\n",
    "       'MA_5MA_BB_low', 'MACD', 'rsi_5', 'rsi_7', 'rsi_21']\n"
   ]
  },
  {
   "cell_type": "code",
   "execution_count": 12,
   "id": "ed143a9a",
   "metadata": {
    "execution": {
     "iopub.execute_input": "2022-06-20T03:02:30.212454Z",
     "iopub.status.busy": "2022-06-20T03:02:30.212204Z",
     "iopub.status.idle": "2022-06-20T03:02:30.244385Z",
     "shell.execute_reply": "2022-06-20T03:02:30.243564Z"
    },
    "papermill": {
     "duration": 0.041981,
     "end_time": "2022-06-20T03:02:30.246605",
     "exception": false,
     "start_time": "2022-06-20T03:02:30.204624",
     "status": "completed"
    },
    "tags": []
   },
   "outputs": [],
   "source": [
    "# Creating endog and exog variables\n",
    "y = df_prices[['Target']]\n",
    "X = df_prices[features]"
   ]
  },
  {
   "cell_type": "code",
   "execution_count": 13,
   "id": "de29ede6",
   "metadata": {
    "execution": {
     "iopub.execute_input": "2022-06-20T03:02:30.262598Z",
     "iopub.status.busy": "2022-06-20T03:02:30.262306Z",
     "iopub.status.idle": "2022-06-20T03:02:30.427343Z",
     "shell.execute_reply": "2022-06-20T03:02:30.426515Z"
    },
    "papermill": {
     "duration": 0.17592,
     "end_time": "2022-06-20T03:02:30.429925",
     "exception": false,
     "start_time": "2022-06-20T03:02:30.254005",
     "status": "completed"
    },
    "tags": []
   },
   "outputs": [
    {
     "name": "stderr",
     "output_type": "stream",
     "text": [
      "/opt/conda/lib/python3.7/site-packages/pandas/core/frame.py:3678: SettingWithCopyWarning: \n",
      "A value is trying to be set on a copy of a slice from a DataFrame.\n",
      "Try using .loc[row_indexer,col_indexer] = value instead\n",
      "\n",
      "See the caveats in the documentation: https://pandas.pydata.org/pandas-docs/stable/user_guide/indexing.html#returning-a-view-versus-a-copy\n",
      "  self[col] = igetitem(value, i)\n"
     ]
    }
   ],
   "source": [
    "X[scaled_features] = scaler.fit_transform(X[scaled_features])\n"
   ]
  },
  {
   "cell_type": "code",
   "execution_count": null,
   "id": "acedbb51",
   "metadata": {
    "papermill": {
     "duration": 0.007158,
     "end_time": "2022-06-20T03:02:30.444781",
     "exception": false,
     "start_time": "2022-06-20T03:02:30.437623",
     "status": "completed"
    },
    "tags": []
   },
   "outputs": [],
   "source": []
  },
  {
   "cell_type": "code",
   "execution_count": 14,
   "id": "b6e43caa",
   "metadata": {
    "execution": {
     "iopub.execute_input": "2022-06-20T03:02:30.460059Z",
     "iopub.status.busy": "2022-06-20T03:02:30.459758Z",
     "iopub.status.idle": "2022-06-20T03:05:43.071214Z",
     "shell.execute_reply": "2022-06-20T03:05:43.070393Z"
    },
    "papermill": {
     "duration": 192.629316,
     "end_time": "2022-06-20T03:05:43.081183",
     "exception": false,
     "start_time": "2022-06-20T03:02:30.451867",
     "status": "completed"
    },
    "tags": []
   },
   "outputs": [
    {
     "name": "stderr",
     "output_type": "stream",
     "text": [
      "/opt/conda/lib/python3.7/site-packages/sklearn/ensemble/_gb.py:494: DataConversionWarning: A column-vector y was passed when a 1d array was expected. Please change the shape of y to (n_samples, ), for example using ravel().\n",
      "  y = column_or_1d(y, warn=True)\n"
     ]
    },
    {
     "name": "stdout",
     "output_type": "stream",
     "text": [
      "CPU times: user 3min 11s, sys: 141 ms, total: 3min 12s\n",
      "Wall time: 3min 12s\n"
     ]
    }
   ],
   "source": [
    "%%time\n",
    "\n",
    "model_1 = model_training(X,y)"
   ]
  },
  {
   "cell_type": "code",
   "execution_count": 15,
   "id": "d19a9c38",
   "metadata": {
    "execution": {
     "iopub.execute_input": "2022-06-20T03:05:43.097980Z",
     "iopub.status.busy": "2022-06-20T03:05:43.097684Z",
     "iopub.status.idle": "2022-06-20T03:05:43.406685Z",
     "shell.execute_reply": "2022-06-20T03:05:43.405905Z"
    },
    "papermill": {
     "duration": 0.319123,
     "end_time": "2022-06-20T03:05:43.408540",
     "exception": false,
     "start_time": "2022-06-20T03:05:43.089417",
     "status": "completed"
    },
    "tags": []
   },
   "outputs": [
    {
     "data": {
      "text/plain": [
       "0.01606002180292676"
      ]
     },
     "execution_count": 15,
     "metadata": {},
     "output_type": "execute_result"
    }
   ],
   "source": [
    "model_1.score(X,y)"
   ]
  },
  {
   "cell_type": "code",
   "execution_count": 16,
   "id": "8f653df9",
   "metadata": {
    "execution": {
     "iopub.execute_input": "2022-06-20T03:05:43.425042Z",
     "iopub.status.busy": "2022-06-20T03:05:43.424390Z",
     "iopub.status.idle": "2022-06-20T03:05:43.428097Z",
     "shell.execute_reply": "2022-06-20T03:05:43.427383Z"
    },
    "papermill": {
     "duration": 0.013599,
     "end_time": "2022-06-20T03:05:43.429733",
     "exception": false,
     "start_time": "2022-06-20T03:05:43.416134",
     "status": "completed"
    },
    "tags": []
   },
   "outputs": [],
   "source": [
    "import pickle"
   ]
  },
  {
   "cell_type": "code",
   "execution_count": 17,
   "id": "eaf60489",
   "metadata": {
    "execution": {
     "iopub.execute_input": "2022-06-20T03:05:43.445362Z",
     "iopub.status.busy": "2022-06-20T03:05:43.445094Z",
     "iopub.status.idle": "2022-06-20T03:05:43.452991Z",
     "shell.execute_reply": "2022-06-20T03:05:43.452343Z"
    },
    "papermill": {
     "duration": 0.017509,
     "end_time": "2022-06-20T03:05:43.454579",
     "exception": false,
     "start_time": "2022-06-20T03:05:43.437070",
     "status": "completed"
    },
    "tags": []
   },
   "outputs": [],
   "source": [
    "# Saving model\n",
    "\n",
    "#Saving the sklearn model\n",
    "\n",
    "filename = 'simple_skgb.sav'\n",
    "pickle.dump(model_1, open(filename, 'wb'))"
   ]
  },
  {
   "cell_type": "markdown",
   "id": "dd72128a",
   "metadata": {
    "papermill": {
     "duration": 0.007154,
     "end_time": "2022-06-20T03:05:43.469556",
     "exception": false,
     "start_time": "2022-06-20T03:05:43.462402",
     "status": "completed"
    },
    "tags": []
   },
   "source": [
    "# Submission\n"
   ]
  },
  {
   "cell_type": "code",
   "execution_count": 18,
   "id": "401ab404",
   "metadata": {
    "execution": {
     "iopub.execute_input": "2022-06-20T03:05:43.485163Z",
     "iopub.status.busy": "2022-06-20T03:05:43.484914Z",
     "iopub.status.idle": "2022-06-20T03:05:43.491391Z",
     "shell.execute_reply": "2022-06-20T03:05:43.490761Z"
    },
    "papermill": {
     "duration": 0.01609,
     "end_time": "2022-06-20T03:05:43.492999",
     "exception": false,
     "start_time": "2022-06-20T03:05:43.476909",
     "status": "completed"
    },
    "tags": []
   },
   "outputs": [],
   "source": [
    "# def calc_spread_return_per_day(df, portfolio_size, toprank_weight_ratio):\n",
    "#     \"\"\"\n",
    "#     Args:\n",
    "#         df (pd.DataFrame): predicted results\n",
    "#         portfolio_size (int): # of equities to buy/sell\n",
    "#         toprank_weight_ratio (float): the relative weight of the most highly ranked stock compared to the least.\n",
    "#     Returns:\n",
    "#         (float): spread return\n",
    "#     \"\"\"\n",
    "#     assert df['Rank'].min() == 0\n",
    "#     assert df['Rank'].max() == len(df['Rank']) - 1\n",
    "#     weights = np.linspace(start=toprank_weight_ratio, stop=1, num=portfolio_size)\n",
    "#     purchase = (df.sort_values(by='Rank')['Target'][:portfolio_size] * weights).sum() / weights.mean()\n",
    "#     short = (df.sort_values(by='Rank', ascending=False)['Target'][:portfolio_size] * weights).sum() / weights.mean()\n",
    "#     return purchase - short\n",
    "\n",
    "# def calc_spread_return_sharpe(df: pd.DataFrame, portfolio_size: int = 200, toprank_weight_ratio: float = 2) -> float:\n",
    "#     \"\"\"\n",
    "#     Args:\n",
    "#         df (pd.DataFrame): predicted results\n",
    "#         portfolio_size (int): # of equities to buy/sell\n",
    "#         toprank_weight_ratio (float): the relative weight of the most highly ranked stock compared to the least.\n",
    "#     Returns:\n",
    "#         (float): sharpe ratio\n",
    "#     \"\"\"\n",
    "#     buf = df.groupby('Date').apply(calc_spread_return_per_day, portfolio_size, toprank_weight_ratio)\n",
    "#     sharpe_ratio = buf.mean() / buf.std()\n",
    "#     return sharpe_ratio, buf\n",
    "\n",
    "def add_rank(df, col_name=\"pred\"):\n",
    "    df[\"Rank\"] = df.groupby(\"Date\")[col_name].rank(ascending=False, method=\"first\") - 1 \n",
    "    df[\"Rank\"] = df[\"Rank\"].astype(\"int\")\n",
    "    return df"
   ]
  },
  {
   "cell_type": "code",
   "execution_count": 19,
   "id": "00951260",
   "metadata": {
    "execution": {
     "iopub.execute_input": "2022-06-20T03:05:43.508864Z",
     "iopub.status.busy": "2022-06-20T03:05:43.508319Z",
     "iopub.status.idle": "2022-06-20T03:05:43.512389Z",
     "shell.execute_reply": "2022-06-20T03:05:43.511727Z"
    },
    "papermill": {
     "duration": 0.013697,
     "end_time": "2022-06-20T03:05:43.514011",
     "exception": false,
     "start_time": "2022-06-20T03:05:43.500314",
     "status": "completed"
    },
    "tags": []
   },
   "outputs": [],
   "source": [
    "# # By Yuike - https://www.kaggle.com/code/ikeppyo/examples-of-higher-scores-than-perfect-predictions\n",
    "\n",
    "# # This function adjusts the predictions so that the daily spread return approaches a certain value.\n",
    "# def adjuster(df):\n",
    "#     def calc_pred(df, x, y, z):\n",
    "#         return df['Target'].where(df['Target'].abs() < x, df['Target'] * y + np.sign(df['Target']) * z)\n",
    "\n",
    "#     def objective(trial, df):\n",
    "#         x = trial.suggest_uniform('x', 0, 0.2)\n",
    "#         y = trial.suggest_uniform('y', 0, 0.1)\n",
    "#         z = trial.suggest_uniform('z', 0, 1e-3)\n",
    "#         df[\"Rank\"] = calc_pred(df, x, y, z).rank(ascending=False, method=\"first\") - 1 \n",
    "#         df[\"Rank\"] = df[\"Rank\"].astype(\"int\")\n",
    "#         return calc_spread_return_per_day(df, 200, 2)\n",
    "    \n",
    "#     def predictor_per_day(df):\n",
    "#         study = optuna.create_study(direction='minimize', sampler=optuna.samplers.TPESampler(seed=2022))\n",
    "#         study.optimize(lambda trial: abs(objective(trial, df) - 10), 10)\n",
    "#         return calc_pred(df, *study.best_params.values())\n",
    "\n",
    "#     return df.groupby(\"Date\").apply(predictor_per_day).reset_index(level=0, drop=True)\n",
    "\n",
    "# def _predictor_base(feature_df):\n",
    "#     return model.predict(feature_df[feats])\n",
    "\n",
    "# def _predictor_with_adjuster(feature_df):\n",
    "#     feature_df[\"Target\"] = model.predict(feature_df[feats])\n",
    "#     return adjuster(feature_df)"
   ]
  },
  {
   "cell_type": "code",
   "execution_count": 20,
   "id": "3037b3ec",
   "metadata": {
    "execution": {
     "iopub.execute_input": "2022-06-20T03:05:43.530060Z",
     "iopub.status.busy": "2022-06-20T03:05:43.529446Z",
     "iopub.status.idle": "2022-06-20T03:05:43.532786Z",
     "shell.execute_reply": "2022-06-20T03:05:43.532017Z"
    },
    "papermill": {
     "duration": 0.01315,
     "end_time": "2022-06-20T03:05:43.534379",
     "exception": false,
     "start_time": "2022-06-20T03:05:43.521229",
     "status": "completed"
    },
    "tags": []
   },
   "outputs": [],
   "source": [
    "# predictor = _predictor_with_adjuster"
   ]
  },
  {
   "cell_type": "code",
   "execution_count": 21,
   "id": "f1437333",
   "metadata": {
    "execution": {
     "iopub.execute_input": "2022-06-20T03:05:43.550077Z",
     "iopub.status.busy": "2022-06-20T03:05:43.549617Z",
     "iopub.status.idle": "2022-06-20T03:05:43.869475Z",
     "shell.execute_reply": "2022-06-20T03:05:43.868707Z"
    },
    "papermill": {
     "duration": 0.330025,
     "end_time": "2022-06-20T03:05:43.871616",
     "exception": false,
     "start_time": "2022-06-20T03:05:43.541591",
     "status": "completed"
    },
    "tags": []
   },
   "outputs": [
    {
     "name": "stdout",
     "output_type": "stream",
     "text": [
      "This version of the API is not optimized and should not be used to estimate the runtime of your code on the hidden test set.\n"
     ]
    }
   ],
   "source": [
    "import jpx_tokyo_market_prediction\n",
    "\n",
    "\n",
    "env = jpx_tokyo_market_prediction.make_env()   # initialize the environment\n",
    "iter_test = env.iter_test()    # an iterator which loops over the test files\n",
    "for (prices, options, financials, trades, secondary_prices, sample_prediction) in iter_test:\n",
    "    prices = get_features(prices)\n",
    "    prices = prices.replace((np.inf, -np.inf, np.nan), 0).reset_index(drop=True)\n",
    "    prices = prices.fillna(0)\n",
    "    prices[scaled_features] = scaler.fit_transform(prices[scaled_features])\n",
    "    prices['pred'] = model_1.predict(prices[features])\n",
    "    prices = add_rank(prices)\n",
    "    feature_map = prices.set_index('SecuritiesCode')['Rank'].to_dict()\n",
    "    sample_prediction['Rank'] = sample_prediction['SecuritiesCode'].map(feature_map)\n",
    "    env.predict(sample_prediction)"
   ]
  },
  {
   "cell_type": "code",
   "execution_count": null,
   "id": "022d6e06",
   "metadata": {
    "papermill": {
     "duration": 0.007304,
     "end_time": "2022-06-20T03:05:43.886842",
     "exception": false,
     "start_time": "2022-06-20T03:05:43.879538",
     "status": "completed"
    },
    "tags": []
   },
   "outputs": [],
   "source": []
  }
 ],
 "metadata": {
  "kernelspec": {
   "display_name": "Python 3",
   "language": "python",
   "name": "python3"
  },
  "language_info": {
   "codemirror_mode": {
    "name": "ipython",
    "version": 3
   },
   "file_extension": ".py",
   "mimetype": "text/x-python",
   "name": "python",
   "nbconvert_exporter": "python",
   "pygments_lexer": "ipython3",
   "version": "3.7.12"
  },
  "papermill": {
   "default_parameters": {},
   "duration": 217.43438,
   "end_time": "2022-06-20T03:05:44.414378",
   "environment_variables": {},
   "exception": null,
   "input_path": "__notebook__.ipynb",
   "output_path": "__notebook__.ipynb",
   "parameters": {},
   "start_time": "2022-06-20T03:02:06.979998",
   "version": "2.3.4"
  }
 },
 "nbformat": 4,
 "nbformat_minor": 5
}
