{
 "cells": [
  {
   "cell_type": "code",
   "execution_count": 1,
   "id": "afc5673b",
   "metadata": {
    "_cell_guid": "b1076dfc-b9ad-4769-8c92-a6c4dae69d19",
    "_uuid": "8f2839f25d086af736a60e9eeb907d3b93b6e0e5",
    "execution": {
     "iopub.execute_input": "2022-06-19T19:48:38.906000Z",
     "iopub.status.busy": "2022-06-19T19:48:38.905020Z",
     "iopub.status.idle": "2022-06-19T19:48:38.929388Z",
     "shell.execute_reply": "2022-06-19T19:48:38.928716Z"
    },
    "papermill": {
     "duration": 0.03775,
     "end_time": "2022-06-19T19:48:38.931616",
     "exception": false,
     "start_time": "2022-06-19T19:48:38.893866",
     "status": "completed"
    },
    "tags": []
   },
   "outputs": [
    {
     "name": "stdout",
     "output_type": "stream",
     "text": [
      "/kaggle/input/jpx-tokyo-stock-exchange-prediction/stock_list.csv\n",
      "/kaggle/input/jpx-tokyo-stock-exchange-prediction/example_test_files/sample_submission.csv\n",
      "/kaggle/input/jpx-tokyo-stock-exchange-prediction/example_test_files/options.csv\n",
      "/kaggle/input/jpx-tokyo-stock-exchange-prediction/example_test_files/financials.csv\n",
      "/kaggle/input/jpx-tokyo-stock-exchange-prediction/example_test_files/secondary_stock_prices.csv\n",
      "/kaggle/input/jpx-tokyo-stock-exchange-prediction/example_test_files/trades.csv\n",
      "/kaggle/input/jpx-tokyo-stock-exchange-prediction/example_test_files/stock_prices.csv\n",
      "/kaggle/input/jpx-tokyo-stock-exchange-prediction/jpx_tokyo_market_prediction/competition.cpython-37m-x86_64-linux-gnu.so\n",
      "/kaggle/input/jpx-tokyo-stock-exchange-prediction/jpx_tokyo_market_prediction/__init__.py\n",
      "/kaggle/input/jpx-tokyo-stock-exchange-prediction/data_specifications/stock_fin_spec.csv\n",
      "/kaggle/input/jpx-tokyo-stock-exchange-prediction/data_specifications/trades_spec.csv\n",
      "/kaggle/input/jpx-tokyo-stock-exchange-prediction/data_specifications/stock_price_spec.csv\n",
      "/kaggle/input/jpx-tokyo-stock-exchange-prediction/data_specifications/options_spec.csv\n",
      "/kaggle/input/jpx-tokyo-stock-exchange-prediction/data_specifications/stock_list_spec.csv\n",
      "/kaggle/input/jpx-tokyo-stock-exchange-prediction/train_files/options.csv\n",
      "/kaggle/input/jpx-tokyo-stock-exchange-prediction/train_files/financials.csv\n",
      "/kaggle/input/jpx-tokyo-stock-exchange-prediction/train_files/secondary_stock_prices.csv\n",
      "/kaggle/input/jpx-tokyo-stock-exchange-prediction/train_files/trades.csv\n",
      "/kaggle/input/jpx-tokyo-stock-exchange-prediction/train_files/stock_prices.csv\n",
      "/kaggle/input/jpx-tokyo-stock-exchange-prediction/supplemental_files/options.csv\n",
      "/kaggle/input/jpx-tokyo-stock-exchange-prediction/supplemental_files/financials.csv\n",
      "/kaggle/input/jpx-tokyo-stock-exchange-prediction/supplemental_files/secondary_stock_prices.csv\n",
      "/kaggle/input/jpx-tokyo-stock-exchange-prediction/supplemental_files/trades.csv\n",
      "/kaggle/input/jpx-tokyo-stock-exchange-prediction/supplemental_files/stock_prices.csv\n"
     ]
    }
   ],
   "source": [
    "# This Python 3 environment comes with many helpful analytics libraries installed\n",
    "# It is defined by the kaggle/python Docker image: https://github.com/kaggle/docker-python\n",
    "# For example, here's several helpful packages to load\n",
    "\n",
    "import numpy as np # linear algebra\n",
    "import pandas as pd # data processing, CSV file I/O (e.g. pd.read_csv)\n",
    "\n",
    "# Input data files are available in the read-only \"../input/\" directory\n",
    "# For example, running this (by clicking run or pressing Shift+Enter) will list all files under the input directory\n",
    "\n",
    "import os\n",
    "for dirname, _, filenames in os.walk('/kaggle/input'):\n",
    "    for filename in filenames:\n",
    "        print(os.path.join(dirname, filename))\n",
    "\n",
    "# You can write up to 20GB to the current directory (/kaggle/working/) th\n",
    "#at gets preserved as output when you create a version using \"Save & Run All\" \n",
    "# You can also write temporary files to /kaggle/temp/, but they won't be saved outside of the current session"
   ]
  },
  {
   "cell_type": "markdown",
   "id": "6da460f2",
   "metadata": {
    "papermill": {
     "duration": 0.008388,
     "end_time": "2022-06-19T19:48:38.948975",
     "exception": false,
     "start_time": "2022-06-19T19:48:38.940587",
     "status": "completed"
    },
    "tags": []
   },
   "source": [
    "# Here starts my Baseline\n",
    "\n",
    "Ideas:\n",
    "\n",
    "1  - Feature engeneering- Basic and effective;\n",
    "\n",
    "2 - Gradient Boosting Regressions;\n",
    "\n",
    "3 - Neuronets Regressions; and\n",
    "\n",
    "4 - Submission.\n",
    "\n"
   ]
  },
  {
   "cell_type": "markdown",
   "id": "41872834",
   "metadata": {
    "papermill": {
     "duration": 0.008175,
     "end_time": "2022-06-19T19:48:38.965503",
     "exception": false,
     "start_time": "2022-06-19T19:48:38.957328",
     "status": "completed"
    },
    "tags": []
   },
   "source": [
    "## 1 Feature Engeneering"
   ]
  },
  {
   "cell_type": "code",
   "execution_count": 2,
   "id": "30dbdf4b",
   "metadata": {
    "execution": {
     "iopub.execute_input": "2022-06-19T19:48:38.984555Z",
     "iopub.status.busy": "2022-06-19T19:48:38.983736Z",
     "iopub.status.idle": "2022-06-19T19:48:38.988665Z",
     "shell.execute_reply": "2022-06-19T19:48:38.988051Z"
    },
    "papermill": {
     "duration": 0.016151,
     "end_time": "2022-06-19T19:48:38.990407",
     "exception": false,
     "start_time": "2022-06-19T19:48:38.974256",
     "status": "completed"
    },
    "tags": []
   },
   "outputs": [],
   "source": [
    "def concat_df(df1, df2):\n",
    "    df1 = pd.concat([df1, df2],\n",
    "                    ignore_index=True, sort=False\n",
    "                    ).drop_duplicates([\"RowId\"], keep=\"first\")\n",
    "    return df1"
   ]
  },
  {
   "cell_type": "code",
   "execution_count": 3,
   "id": "e426c045",
   "metadata": {
    "execution": {
     "iopub.execute_input": "2022-06-19T19:48:39.008917Z",
     "iopub.status.busy": "2022-06-19T19:48:39.008345Z",
     "iopub.status.idle": "2022-06-19T19:48:48.029481Z",
     "shell.execute_reply": "2022-06-19T19:48:48.028559Z"
    },
    "papermill": {
     "duration": 9.032833,
     "end_time": "2022-06-19T19:48:48.031561",
     "exception": false,
     "start_time": "2022-06-19T19:48:38.998728",
     "status": "completed"
    },
    "tags": []
   },
   "outputs": [
    {
     "name": "stdout",
     "output_type": "stream",
     "text": [
      "<class 'pandas.core.frame.DataFrame'>\n",
      "Int64Index: 273958 entries, 2288531 to 2562488\n",
      "Data columns (total 12 columns):\n",
      " #   Column            Non-Null Count   Dtype  \n",
      "---  ------            --------------   -----  \n",
      " 0   RowId             273958 non-null  object \n",
      " 1   Date              273958 non-null  object \n",
      " 2   SecuritiesCode    273958 non-null  int8   \n",
      " 3   Open              273119 non-null  float16\n",
      " 4   High              273119 non-null  float16\n",
      " 5   Low               273119 non-null  float16\n",
      " 6   Close             273119 non-null  float16\n",
      " 7   Volume            273958 non-null  int8   \n",
      " 8   AdjustmentFactor  273958 non-null  float16\n",
      " 9   ExpectedDividend  2066 non-null    float16\n",
      " 10  SupervisionFlag   273958 non-null  bool   \n",
      " 11  Target            273952 non-null  float16\n",
      "dtypes: bool(1), float16(7), int8(2), object(2)\n",
      "memory usage: 10.7+ MB\n"
     ]
    }
   ],
   "source": [
    "# For now... use pandas.... \n",
    "#If too heavy use Cudf\n",
    "\n",
    "# For now... just fix the floats\n",
    "dtypes = {\n",
    "'SecuritiesCode' : np.int8,\n",
    "'Open'           :     np.float16,\n",
    "'High'           :     np.float16,\n",
    "'Low'            :     np.float16,\n",
    "'Close'          :     np.float16,\n",
    "'Volume'         :       np.int8,\n",
    "'AdjustmentFactor':    np.float16,\n",
    "'ExpectedDividend':    np.float16,\n",
    "'Target'        :      np.float16\n",
    "}\n",
    "path = \"../input/jpx-tokyo-stock-exchange-prediction/\"\n",
    "df_prices = pd.read_csv(f\"{path}train_files/stock_prices.csv\",dtype = dtypes)\n",
    "prices = pd.read_csv(f\"{path}supplemental_files/stock_prices.csv\",dtype = dtypes)\n",
    "df_prices = concat_df(df_prices, prices)\n",
    "df_prices = df_prices[df_prices.Date>\"2021-11-01\"]\n",
    "df_prices.info(show_counts=True)"
   ]
  },
  {
   "cell_type": "code",
   "execution_count": 4,
   "id": "0d6392ee",
   "metadata": {
    "execution": {
     "iopub.execute_input": "2022-06-19T19:48:48.050829Z",
     "iopub.status.busy": "2022-06-19T19:48:48.050345Z",
     "iopub.status.idle": "2022-06-19T19:48:48.053327Z",
     "shell.execute_reply": "2022-06-19T19:48:48.052728Z"
    },
    "papermill": {
     "duration": 0.014555,
     "end_time": "2022-06-19T19:48:48.055129",
     "exception": false,
     "start_time": "2022-06-19T19:48:48.040574",
     "status": "completed"
    },
    "tags": []
   },
   "outputs": [],
   "source": [
    "# def prep_prices(price):\n",
    "#     price.fillna(0,inplace=True)\n",
    "#     return price"
   ]
  },
  {
   "cell_type": "code",
   "execution_count": 5,
   "id": "115a531b",
   "metadata": {
    "execution": {
     "iopub.execute_input": "2022-06-19T19:48:48.074449Z",
     "iopub.status.busy": "2022-06-19T19:48:48.073808Z",
     "iopub.status.idle": "2022-06-19T19:48:48.078000Z",
     "shell.execute_reply": "2022-06-19T19:48:48.076525Z"
    },
    "papermill": {
     "duration": 0.016424,
     "end_time": "2022-06-19T19:48:48.080437",
     "exception": false,
     "start_time": "2022-06-19T19:48:48.064013",
     "status": "completed"
    },
    "tags": []
   },
   "outputs": [],
   "source": [
    "# df_prices = prep_prices(df_prices)\n",
    "# pd.options.display.float_format = '{:,.6g}'.format\n",
    "# df_prices.describe()"
   ]
  },
  {
   "cell_type": "code",
   "execution_count": null,
   "id": "84970ab3",
   "metadata": {
    "papermill": {
     "duration": 0.008215,
     "end_time": "2022-06-19T19:48:48.097501",
     "exception": false,
     "start_time": "2022-06-19T19:48:48.089286",
     "status": "completed"
    },
    "tags": []
   },
   "outputs": [],
   "source": []
  },
  {
   "cell_type": "code",
   "execution_count": null,
   "id": "58375580",
   "metadata": {
    "papermill": {
     "duration": 0.008084,
     "end_time": "2022-06-19T19:48:48.114016",
     "exception": false,
     "start_time": "2022-06-19T19:48:48.105932",
     "status": "completed"
    },
    "tags": []
   },
   "outputs": [],
   "source": []
  },
  {
   "cell_type": "code",
   "execution_count": 6,
   "id": "2e7a52fd",
   "metadata": {
    "execution": {
     "iopub.execute_input": "2022-06-19T19:48:48.132882Z",
     "iopub.status.busy": "2022-06-19T19:48:48.132246Z",
     "iopub.status.idle": "2022-06-19T19:48:48.136528Z",
     "shell.execute_reply": "2022-06-19T19:48:48.135922Z"
    },
    "papermill": {
     "duration": 0.015846,
     "end_time": "2022-06-19T19:48:48.138372",
     "exception": false,
     "start_time": "2022-06-19T19:48:48.122526",
     "status": "completed"
    },
    "tags": []
   },
   "outputs": [],
   "source": [
    "from datetime import datetime\n",
    "import time\n",
    "\n",
    " # auxiliary function, from datetime to timestamp\n",
    "totimestamp = lambda s: np.int32(time.mktime(datetime.strptime(s, \"%Y-%m-%d\").timetuple()))"
   ]
  },
  {
   "cell_type": "markdown",
   "id": "ff6e5fe4",
   "metadata": {
    "papermill": {
     "duration": 0.008232,
     "end_time": "2022-06-19T19:48:48.155352",
     "exception": false,
     "start_time": "2022-06-19T19:48:48.147120",
     "status": "completed"
    },
    "tags": []
   },
   "source": [
    "# Data Features\n"
   ]
  },
  {
   "cell_type": "code",
   "execution_count": 7,
   "id": "6b74e683",
   "metadata": {
    "execution": {
     "iopub.execute_input": "2022-06-19T19:48:48.174430Z",
     "iopub.status.busy": "2022-06-19T19:48:48.174019Z",
     "iopub.status.idle": "2022-06-19T19:48:48.196262Z",
     "shell.execute_reply": "2022-06-19T19:48:48.195310Z"
    },
    "papermill": {
     "duration": 0.034559,
     "end_time": "2022-06-19T19:48:48.198511",
     "exception": false,
     "start_time": "2022-06-19T19:48:48.163952",
     "status": "completed"
    },
    "tags": []
   },
   "outputs": [],
   "source": [
    "\n",
    "# define function to compute log returns\n",
    "def log_return(series, periods=1):\n",
    "    return np.log(series).diff(periods=periods)\n",
    "\n",
    "\n",
    "# def fill_the_gaps(df):\n",
    "#     new_df = pd.DataFrame(columns= df.columns)\n",
    "#     for i in range(len(df['SecuritiesCode'].unique())):\n",
    "#         new_df = new_df.append(df[df['SecuritiesCode'] == i].reindex(range(df[df['SecuritiesCode'] == i].index[0],df[df['SecuritiesCode'] == i].index[-1]+60,60),method='pad'))\n",
    "#     new_df.fillna(method = 'pad', inplace = True) \n",
    "#     return new_df\n",
    "\n",
    "\n",
    "def rsiFunc(prices, n=14):\n",
    "    deltas = np.diff(prices)\n",
    "    seed = deltas[:n+1]\n",
    "    up = seed[seed>=0].sum()/n\n",
    "    down = -seed[seed<0].sum()/n\n",
    "    rs = up/down\n",
    "    rsi = np.zeros_like(prices)\n",
    "    rsi[:n] = 100. - 100./(1.+rs)\n",
    "\n",
    "    for i in range(n, len(prices)):\n",
    "        delta = deltas[i-1] # cause the diff is 1 shorter\n",
    "\n",
    "        if delta>0:\n",
    "            upval = delta\n",
    "            downval = 0.\n",
    "        else:\n",
    "            upval = 0.\n",
    "            downval = -delta\n",
    "\n",
    "        up = (up*(n-1) + upval)/n\n",
    "        down = (down*(n-1) + downval)/n\n",
    "\n",
    "        rs = up/down\n",
    "        rsi[i] = 100. - 100./(1.+rs)\n",
    "\n",
    "    return rsi\n",
    "\n",
    "\n",
    "\n",
    "def get_features(df):\n",
    "\n",
    "    df['log_return_5'] = log_return(df['Close'],periods=5)\n",
    "    df['log_return'] = log_return(df['Close'],periods=1)\n",
    "\n",
    "    upper_shadow = lambda asset: asset.High - np.maximum(asset.Close,asset.Open)\n",
    "    lower_shadow = lambda asset: np.minimum(asset.Close,asset.Open)- asset.Low\n",
    "\n",
    "    df['upper_shadow'] = upper_shadow(df)\n",
    "    df['lower_shadow'] = lower_shadow(df)\n",
    "    \n",
    "    df['EMA_21'] = df['Close'].ewm(span=21).mean()\n",
    "    \n",
    "    df['EMA_55'] = df['Close'].ewm(span=55).mean()\n",
    "    \n",
    "    df['EMA_315'] = df['Close'].ewm(span=315).mean()\n",
    "    \n",
    "    df['EMA_825'] = df['Close'].ewm(span=825).mean()\n",
    "    \n",
    "    window = 7\n",
    "    \n",
    "    no_of_std = 2\n",
    "    \n",
    "    df[f'EMA_{window}'] = df['Close'].ewm(span=window).mean()\n",
    "    \n",
    "    df[f'EMA_{window}_std'] = df['Close'].rolling(window=window).std()\n",
    "    \n",
    "    df[f'EMA_{window}_BB_high'] = df[f'EMA_{window}'] + no_of_std * df[f'EMA_{window}_std']\n",
    "    \n",
    "    df[f'MA_{window}MA_BB_low'] = df[f'EMA_{window}'] - no_of_std * df[f'EMA_{window}_std']\n",
    "    \n",
    "    window = 5\n",
    "    \n",
    "    df[f'EMA_{window}'] = df['Close'].ewm(span=window).mean()\n",
    "    \n",
    "    df[f'EMA_{window}_std'] = df['Close'].rolling(window=window).std()\n",
    "    \n",
    "    df[f'EMA_{window}_BB_high'] = df[f'EMA_{window}'] + no_of_std * df[f'EMA_{window}_std']\n",
    "    \n",
    "    df[f'MA_{window}MA_BB_low'] = df[f'EMA_{window}'] - no_of_std * df[f'EMA_{window}_std']\n",
    "    \n",
    "    df['MACD'] = df['EMA_7'] - df['EMA_5']\n",
    "    \n",
    "    \n",
    "    df['rsi_5'] = rsiFunc(df['Close'].values, 5)\n",
    "    \n",
    "    df['rsi_7'] = rsiFunc(df['Close'].values, 7)\n",
    "    \n",
    "    df['rsi_21'] = rsiFunc(df['Close'].values, 21)\n",
    "\n",
    "    \n",
    "    \n",
    "    #df = pd.concat([df, pd.get_dummies(df['Asset_ID'], prefix= 'Asset_')], axis=1)\n",
    "    \n",
    "    df[['log_return_5', 'log_return', 'upper_shadow', 'lower_shadow',\n",
    "       'EMA_21', 'EMA_55', 'EMA_315', 'EMA_825', 'EMA_7', 'EMA_7_std',\n",
    "       'EMA_7_BB_high', 'MA_7MA_BB_low', 'EMA_5', 'EMA_5_std', 'EMA_5_BB_high',\n",
    "       'MA_5MA_BB_low', 'MACD', 'rsi_5', 'rsi_7', 'rsi_21']].astype('float16')\n",
    "    \n",
    "    return df\n",
    "\n"
   ]
  },
  {
   "cell_type": "code",
   "execution_count": 8,
   "id": "f4a33881",
   "metadata": {
    "execution": {
     "iopub.execute_input": "2022-06-19T19:48:48.217925Z",
     "iopub.status.busy": "2022-06-19T19:48:48.217321Z",
     "iopub.status.idle": "2022-06-19T19:48:54.703831Z",
     "shell.execute_reply": "2022-06-19T19:48:54.703104Z"
    },
    "papermill": {
     "duration": 6.498908,
     "end_time": "2022-06-19T19:48:54.706037",
     "exception": false,
     "start_time": "2022-06-19T19:48:48.207129",
     "status": "completed"
    },
    "tags": []
   },
   "outputs": [],
   "source": [
    "df_prices = get_features(df_prices)\n",
    "\n",
    "df_prices = df_prices.replace((np.inf, -np.inf, np.nan), 0).reset_index(drop=True)\n",
    "\n",
    "df_prices = df_prices.fillna(0)"
   ]
  },
  {
   "cell_type": "code",
   "execution_count": null,
   "id": "b9b7deca",
   "metadata": {
    "papermill": {
     "duration": 0.008583,
     "end_time": "2022-06-19T19:48:54.723426",
     "exception": false,
     "start_time": "2022-06-19T19:48:54.714843",
     "status": "completed"
    },
    "tags": []
   },
   "outputs": [],
   "source": []
  },
  {
   "cell_type": "code",
   "execution_count": null,
   "id": "0996864c",
   "metadata": {
    "papermill": {
     "duration": 0.008238,
     "end_time": "2022-06-19T19:48:54.740551",
     "exception": false,
     "start_time": "2022-06-19T19:48:54.732313",
     "status": "completed"
    },
    "tags": []
   },
   "outputs": [],
   "source": []
  },
  {
   "cell_type": "markdown",
   "id": "3dbbb3e9",
   "metadata": {
    "papermill": {
     "duration": 0.008264,
     "end_time": "2022-06-19T19:48:54.757243",
     "exception": false,
     "start_time": "2022-06-19T19:48:54.748979",
     "status": "completed"
    },
    "tags": []
   },
   "source": [
    "## Training a Simple Model\n",
    "\n",
    "Xgboost"
   ]
  },
  {
   "cell_type": "code",
   "execution_count": null,
   "id": "237cbd81",
   "metadata": {
    "papermill": {
     "duration": 0.008232,
     "end_time": "2022-06-19T19:48:54.773916",
     "exception": false,
     "start_time": "2022-06-19T19:48:54.765684",
     "status": "completed"
    },
    "tags": []
   },
   "outputs": [],
   "source": []
  },
  {
   "cell_type": "code",
   "execution_count": 9,
   "id": "6c87d29e",
   "metadata": {
    "execution": {
     "iopub.execute_input": "2022-06-19T19:48:54.792900Z",
     "iopub.status.busy": "2022-06-19T19:48:54.792501Z",
     "iopub.status.idle": "2022-06-19T19:48:56.813719Z",
     "shell.execute_reply": "2022-06-19T19:48:56.812785Z"
    },
    "papermill": {
     "duration": 2.033443,
     "end_time": "2022-06-19T19:48:56.816088",
     "exception": false,
     "start_time": "2022-06-19T19:48:54.782645",
     "status": "completed"
    },
    "tags": []
   },
   "outputs": [
    {
     "data": {
      "text/html": [
       "<style type='text/css'>\n",
       ".datatable table.frame { margin-bottom: 0; }\n",
       ".datatable table.frame thead { border-bottom: none; }\n",
       ".datatable table.frame tr.coltypes td {  color: #FFFFFF;  line-height: 6px;  padding: 0 0.5em;}\n",
       ".datatable .bool    { background: #DDDD99; }\n",
       ".datatable .object  { background: #565656; }\n",
       ".datatable .int     { background: #5D9E5D; }\n",
       ".datatable .float   { background: #4040CC; }\n",
       ".datatable .str     { background: #CC4040; }\n",
       ".datatable .time    { background: #40CC40; }\n",
       ".datatable .row_index {  background: var(--jp-border-color3);  border-right: 1px solid var(--jp-border-color0);  color: var(--jp-ui-font-color3);  font-size: 9px;}\n",
       ".datatable .frame tbody td { text-align: left; }\n",
       ".datatable .frame tr.coltypes .row_index {  background: var(--jp-border-color0);}\n",
       ".datatable th:nth-child(2) { padding-left: 12px; }\n",
       ".datatable .hellipsis {  color: var(--jp-cell-editor-border-color);}\n",
       ".datatable .vellipsis {  background: var(--jp-layout-color0);  color: var(--jp-cell-editor-border-color);}\n",
       ".datatable .na {  color: var(--jp-cell-editor-border-color);  font-size: 80%;}\n",
       ".datatable .sp {  opacity: 0.25;}\n",
       ".datatable .footer { font-size: 9px; }\n",
       ".datatable .frame_dimensions {  background: var(--jp-border-color3);  border-top: 1px solid var(--jp-border-color0);  color: var(--jp-ui-font-color3);  display: inline-block;  opacity: 0.6;  padding: 1px 10px 1px 5px;}\n",
       "</style>\n"
      ],
      "text/plain": [
       "<IPython.core.display.HTML object>"
      ]
     },
     "metadata": {},
     "output_type": "display_data"
    }
   ],
   "source": [
    "from lightgbm import LGBMRegressor\n",
    "from sklearn.preprocessing import StandardScaler\n",
    "scaler = StandardScaler()"
   ]
  },
  {
   "cell_type": "code",
   "execution_count": 10,
   "id": "9cbbae71",
   "metadata": {
    "execution": {
     "iopub.execute_input": "2022-06-19T19:48:56.835632Z",
     "iopub.status.busy": "2022-06-19T19:48:56.835260Z",
     "iopub.status.idle": "2022-06-19T19:48:56.840078Z",
     "shell.execute_reply": "2022-06-19T19:48:56.839388Z"
    },
    "papermill": {
     "duration": 0.016779,
     "end_time": "2022-06-19T19:48:56.841806",
     "exception": false,
     "start_time": "2022-06-19T19:48:56.825027",
     "status": "completed"
    },
    "tags": []
   },
   "outputs": [],
   "source": [
    "def model_training(X,y):\n",
    "    # Model training\n",
    "    \n",
    "    model = LGBMRegressor(n_estimators=5000,num_leaves=700,learning_rate=0.1) #, device_type = 'gpu' for allowing GPU\n",
    "    model.fit(X, y)\n",
    "    \n",
    "    return model\n"
   ]
  },
  {
   "cell_type": "code",
   "execution_count": 11,
   "id": "9b9c0528",
   "metadata": {
    "execution": {
     "iopub.execute_input": "2022-06-19T19:48:56.861308Z",
     "iopub.status.busy": "2022-06-19T19:48:56.860323Z",
     "iopub.status.idle": "2022-06-19T19:48:56.866546Z",
     "shell.execute_reply": "2022-06-19T19:48:56.865939Z"
    },
    "papermill": {
     "duration": 0.017803,
     "end_time": "2022-06-19T19:48:56.868343",
     "exception": false,
     "start_time": "2022-06-19T19:48:56.850540",
     "status": "completed"
    },
    "tags": []
   },
   "outputs": [],
   "source": [
    "scaled_features = ['Open', 'High', 'Low', 'Close', 'Volume','log_return_5', 'log_return', 'upper_shadow', 'lower_shadow',\n",
    "       'EMA_21', 'EMA_55', 'EMA_315', 'EMA_825', 'EMA_7', 'EMA_7_std',\n",
    "       'EMA_7_BB_high', 'MA_7MA_BB_low', 'EMA_5', 'EMA_5_std', 'EMA_5_BB_high',\n",
    "       'MA_5MA_BB_low', 'MACD', 'rsi_5', 'rsi_7', 'rsi_21']\n",
    "features = ['Open', 'High', 'Low', 'Close', 'Volume', 'log_return_5', 'log_return', 'upper_shadow', 'lower_shadow',\n",
    "       'EMA_21', 'EMA_55', 'EMA_315', 'EMA_825', 'EMA_7', 'EMA_7_std',\n",
    "       'EMA_7_BB_high', 'MA_7MA_BB_low', 'EMA_5', 'EMA_5_std', 'EMA_5_BB_high',\n",
    "       'MA_5MA_BB_low', 'MACD', 'rsi_5', 'rsi_7', 'rsi_21']"
   ]
  },
  {
   "cell_type": "code",
   "execution_count": 12,
   "id": "ec083997",
   "metadata": {
    "execution": {
     "iopub.execute_input": "2022-06-19T19:48:56.887843Z",
     "iopub.status.busy": "2022-06-19T19:48:56.887293Z",
     "iopub.status.idle": "2022-06-19T19:48:56.923111Z",
     "shell.execute_reply": "2022-06-19T19:48:56.922293Z"
    },
    "papermill": {
     "duration": 0.048087,
     "end_time": "2022-06-19T19:48:56.925335",
     "exception": false,
     "start_time": "2022-06-19T19:48:56.877248",
     "status": "completed"
    },
    "tags": []
   },
   "outputs": [],
   "source": [
    "# Creating endog and exog variables\n",
    "y = df_prices[['Target']]\n",
    "X = df_prices[features]"
   ]
  },
  {
   "cell_type": "code",
   "execution_count": 13,
   "id": "790186a8",
   "metadata": {
    "execution": {
     "iopub.execute_input": "2022-06-19T19:48:56.944997Z",
     "iopub.status.busy": "2022-06-19T19:48:56.944386Z",
     "iopub.status.idle": "2022-06-19T19:48:57.133778Z",
     "shell.execute_reply": "2022-06-19T19:48:57.132679Z"
    },
    "papermill": {
     "duration": 0.202458,
     "end_time": "2022-06-19T19:48:57.136574",
     "exception": false,
     "start_time": "2022-06-19T19:48:56.934116",
     "status": "completed"
    },
    "tags": []
   },
   "outputs": [
    {
     "name": "stderr",
     "output_type": "stream",
     "text": [
      "/opt/conda/lib/python3.7/site-packages/pandas/core/frame.py:3678: SettingWithCopyWarning: \n",
      "A value is trying to be set on a copy of a slice from a DataFrame.\n",
      "Try using .loc[row_indexer,col_indexer] = value instead\n",
      "\n",
      "See the caveats in the documentation: https://pandas.pydata.org/pandas-docs/stable/user_guide/indexing.html#returning-a-view-versus-a-copy\n",
      "  self[col] = igetitem(value, i)\n"
     ]
    }
   ],
   "source": [
    "X[scaled_features] = scaler.fit_transform(X[scaled_features])\n"
   ]
  },
  {
   "cell_type": "code",
   "execution_count": null,
   "id": "b0525c50",
   "metadata": {
    "papermill": {
     "duration": 0.008607,
     "end_time": "2022-06-19T19:48:57.154025",
     "exception": false,
     "start_time": "2022-06-19T19:48:57.145418",
     "status": "completed"
    },
    "tags": []
   },
   "outputs": [],
   "source": []
  },
  {
   "cell_type": "code",
   "execution_count": 14,
   "id": "b82bb1a4",
   "metadata": {
    "execution": {
     "iopub.execute_input": "2022-06-19T19:48:57.173740Z",
     "iopub.status.busy": "2022-06-19T19:48:57.172834Z",
     "iopub.status.idle": "2022-06-19T19:53:26.208836Z",
     "shell.execute_reply": "2022-06-19T19:53:26.207601Z"
    },
    "papermill": {
     "duration": 269.057046,
     "end_time": "2022-06-19T19:53:26.219942",
     "exception": false,
     "start_time": "2022-06-19T19:48:57.162896",
     "status": "completed"
    },
    "tags": []
   },
   "outputs": [
    {
     "name": "stdout",
     "output_type": "stream",
     "text": [
      "CPU times: user 17min 12s, sys: 18.3 s, total: 17min 31s\n",
      "Wall time: 4min 29s\n"
     ]
    }
   ],
   "source": [
    "%%time\n",
    "\n",
    "model_1 = model_training(X,y)"
   ]
  },
  {
   "cell_type": "code",
   "execution_count": 15,
   "id": "34193330",
   "metadata": {
    "execution": {
     "iopub.execute_input": "2022-06-19T19:53:26.239532Z",
     "iopub.status.busy": "2022-06-19T19:53:26.239151Z",
     "iopub.status.idle": "2022-06-19T19:55:23.646749Z",
     "shell.execute_reply": "2022-06-19T19:55:23.644591Z"
    },
    "papermill": {
     "duration": 117.421952,
     "end_time": "2022-06-19T19:55:23.650949",
     "exception": false,
     "start_time": "2022-06-19T19:53:26.228997",
     "status": "completed"
    },
    "tags": []
   },
   "outputs": [
    {
     "data": {
      "text/plain": [
       "0.9998672205836235"
      ]
     },
     "execution_count": 15,
     "metadata": {},
     "output_type": "execute_result"
    }
   ],
   "source": [
    "model_1.score(X,y)"
   ]
  },
  {
   "cell_type": "code",
   "execution_count": 16,
   "id": "044821c3",
   "metadata": {
    "execution": {
     "iopub.execute_input": "2022-06-19T19:55:23.670748Z",
     "iopub.status.busy": "2022-06-19T19:55:23.670367Z",
     "iopub.status.idle": "2022-06-19T19:55:23.674027Z",
     "shell.execute_reply": "2022-06-19T19:55:23.673379Z"
    },
    "papermill": {
     "duration": 0.015725,
     "end_time": "2022-06-19T19:55:23.675765",
     "exception": false,
     "start_time": "2022-06-19T19:55:23.660040",
     "status": "completed"
    },
    "tags": []
   },
   "outputs": [],
   "source": [
    "import pickle"
   ]
  },
  {
   "cell_type": "code",
   "execution_count": 17,
   "id": "637b95c0",
   "metadata": {
    "execution": {
     "iopub.execute_input": "2022-06-19T19:55:23.695767Z",
     "iopub.status.busy": "2022-06-19T19:55:23.695112Z",
     "iopub.status.idle": "2022-06-19T19:55:42.432074Z",
     "shell.execute_reply": "2022-06-19T19:55:42.431105Z"
    },
    "papermill": {
     "duration": 18.749659,
     "end_time": "2022-06-19T19:55:42.434496",
     "exception": false,
     "start_time": "2022-06-19T19:55:23.684837",
     "status": "completed"
    },
    "tags": []
   },
   "outputs": [],
   "source": [
    "# Saving model\n",
    "\n",
    "#Saving the booster\n",
    "model_1.booster_.save_model('simple_LGBM.txt')\n",
    "\n",
    "#Saving the sklearn model\n",
    "\n",
    "filename = 'simple_LGBM.sav'\n",
    "pickle.dump(model_1, open(filename, 'wb'))"
   ]
  },
  {
   "cell_type": "markdown",
   "id": "ebb0de3d",
   "metadata": {
    "papermill": {
     "duration": 0.008956,
     "end_time": "2022-06-19T19:55:42.452935",
     "exception": false,
     "start_time": "2022-06-19T19:55:42.443979",
     "status": "completed"
    },
    "tags": []
   },
   "source": [
    "# Submission\n"
   ]
  },
  {
   "cell_type": "code",
   "execution_count": 18,
   "id": "50f8d533",
   "metadata": {
    "execution": {
     "iopub.execute_input": "2022-06-19T19:55:42.473278Z",
     "iopub.status.busy": "2022-06-19T19:55:42.472894Z",
     "iopub.status.idle": "2022-06-19T19:55:42.479833Z",
     "shell.execute_reply": "2022-06-19T19:55:42.478854Z"
    },
    "papermill": {
     "duration": 0.019588,
     "end_time": "2022-06-19T19:55:42.481845",
     "exception": false,
     "start_time": "2022-06-19T19:55:42.462257",
     "status": "completed"
    },
    "tags": []
   },
   "outputs": [],
   "source": [
    "# def calc_spread_return_per_day(df, portfolio_size, toprank_weight_ratio):\n",
    "#     \"\"\"\n",
    "#     Args:\n",
    "#         df (pd.DataFrame): predicted results\n",
    "#         portfolio_size (int): # of equities to buy/sell\n",
    "#         toprank_weight_ratio (float): the relative weight of the most highly ranked stock compared to the least.\n",
    "#     Returns:\n",
    "#         (float): spread return\n",
    "#     \"\"\"\n",
    "#     assert df['Rank'].min() == 0\n",
    "#     assert df['Rank'].max() == len(df['Rank']) - 1\n",
    "#     weights = np.linspace(start=toprank_weight_ratio, stop=1, num=portfolio_size)\n",
    "#     purchase = (df.sort_values(by='Rank')['Target'][:portfolio_size] * weights).sum() / weights.mean()\n",
    "#     short = (df.sort_values(by='Rank', ascending=False)['Target'][:portfolio_size] * weights).sum() / weights.mean()\n",
    "#     return purchase - short\n",
    "\n",
    "# def calc_spread_return_sharpe(df: pd.DataFrame, portfolio_size: int = 200, toprank_weight_ratio: float = 2) -> float:\n",
    "#     \"\"\"\n",
    "#     Args:\n",
    "#         df (pd.DataFrame): predicted results\n",
    "#         portfolio_size (int): # of equities to buy/sell\n",
    "#         toprank_weight_ratio (float): the relative weight of the most highly ranked stock compared to the least.\n",
    "#     Returns:\n",
    "#         (float): sharpe ratio\n",
    "#     \"\"\"\n",
    "#     buf = df.groupby('Date').apply(calc_spread_return_per_day, portfolio_size, toprank_weight_ratio)\n",
    "#     sharpe_ratio = buf.mean() / buf.std()\n",
    "#     return sharpe_ratio, buf\n",
    "\n",
    "def add_rank(df, col_name=\"pred\"):\n",
    "    df[\"Rank\"] = df.groupby(\"Date\")[col_name].rank(ascending=False, method=\"first\") - 1 \n",
    "    df[\"Rank\"] = df[\"Rank\"].astype(\"int\")\n",
    "    return df"
   ]
  },
  {
   "cell_type": "code",
   "execution_count": 19,
   "id": "dfdea66b",
   "metadata": {
    "execution": {
     "iopub.execute_input": "2022-06-19T19:55:42.502043Z",
     "iopub.status.busy": "2022-06-19T19:55:42.501367Z",
     "iopub.status.idle": "2022-06-19T19:55:42.506194Z",
     "shell.execute_reply": "2022-06-19T19:55:42.505236Z"
    },
    "papermill": {
     "duration": 0.01713,
     "end_time": "2022-06-19T19:55:42.508122",
     "exception": false,
     "start_time": "2022-06-19T19:55:42.490992",
     "status": "completed"
    },
    "tags": []
   },
   "outputs": [],
   "source": [
    "# # By Yuike - https://www.kaggle.com/code/ikeppyo/examples-of-higher-scores-than-perfect-predictions\n",
    "\n",
    "# # This function adjusts the predictions so that the daily spread return approaches a certain value.\n",
    "# def adjuster(df):\n",
    "#     def calc_pred(df, x, y, z):\n",
    "#         return df['Target'].where(df['Target'].abs() < x, df['Target'] * y + np.sign(df['Target']) * z)\n",
    "\n",
    "#     def objective(trial, df):\n",
    "#         x = trial.suggest_uniform('x', 0, 0.2)\n",
    "#         y = trial.suggest_uniform('y', 0, 0.1)\n",
    "#         z = trial.suggest_uniform('z', 0, 1e-3)\n",
    "#         df[\"Rank\"] = calc_pred(df, x, y, z).rank(ascending=False, method=\"first\") - 1 \n",
    "#         df[\"Rank\"] = df[\"Rank\"].astype(\"int\")\n",
    "#         return calc_spread_return_per_day(df, 200, 2)\n",
    "    \n",
    "#     def predictor_per_day(df):\n",
    "#         study = optuna.create_study(direction='minimize', sampler=optuna.samplers.TPESampler(seed=2022))\n",
    "#         study.optimize(lambda trial: abs(objective(trial, df) - 10), 10)\n",
    "#         return calc_pred(df, *study.best_params.values())\n",
    "\n",
    "#     return df.groupby(\"Date\").apply(predictor_per_day).reset_index(level=0, drop=True)\n",
    "\n",
    "# def _predictor_base(feature_df):\n",
    "#     return model.predict(feature_df[feats])\n",
    "\n",
    "# def _predictor_with_adjuster(feature_df):\n",
    "#     feature_df[\"Target\"] = model.predict(feature_df[feats])\n",
    "#     return adjuster(feature_df)"
   ]
  },
  {
   "cell_type": "code",
   "execution_count": 20,
   "id": "11667754",
   "metadata": {
    "execution": {
     "iopub.execute_input": "2022-06-19T19:55:42.528145Z",
     "iopub.status.busy": "2022-06-19T19:55:42.527718Z",
     "iopub.status.idle": "2022-06-19T19:55:42.530990Z",
     "shell.execute_reply": "2022-06-19T19:55:42.530368Z"
    },
    "papermill": {
     "duration": 0.015453,
     "end_time": "2022-06-19T19:55:42.532734",
     "exception": false,
     "start_time": "2022-06-19T19:55:42.517281",
     "status": "completed"
    },
    "tags": []
   },
   "outputs": [],
   "source": [
    "# predictor = _predictor_with_adjuster"
   ]
  },
  {
   "cell_type": "code",
   "execution_count": 21,
   "id": "f509fe86",
   "metadata": {
    "execution": {
     "iopub.execute_input": "2022-06-19T19:55:42.552941Z",
     "iopub.status.busy": "2022-06-19T19:55:42.552263Z",
     "iopub.status.idle": "2022-06-19T19:55:44.665585Z",
     "shell.execute_reply": "2022-06-19T19:55:44.664693Z"
    },
    "papermill": {
     "duration": 2.126318,
     "end_time": "2022-06-19T19:55:44.668121",
     "exception": false,
     "start_time": "2022-06-19T19:55:42.541803",
     "status": "completed"
    },
    "tags": []
   },
   "outputs": [
    {
     "name": "stdout",
     "output_type": "stream",
     "text": [
      "This version of the API is not optimized and should not be used to estimate the runtime of your code on the hidden test set.\n"
     ]
    }
   ],
   "source": [
    "import jpx_tokyo_market_prediction\n",
    "\n",
    "\n",
    "env = jpx_tokyo_market_prediction.make_env()   # initialize the environment\n",
    "iter_test = env.iter_test()    # an iterator which loops over the test files\n",
    "for (prices, options, financials, trades, secondary_prices, sample_prediction) in iter_test:\n",
    "    prices = get_features(prices)\n",
    "    prices = prices.replace((np.inf, -np.inf, np.nan), 0).reset_index(drop=True)\n",
    "    prices = prices.fillna(0)\n",
    "    prices[scaled_features] = scaler.fit_transform(prices[scaled_features])\n",
    "    prices['pred'] = model_1.predict(prices[features])\n",
    "    prices = add_rank(prices)\n",
    "    feature_map = prices.set_index('SecuritiesCode')['Rank'].to_dict()\n",
    "    sample_prediction['Rank'] = sample_prediction['SecuritiesCode'].map(feature_map)\n",
    "    env.predict(sample_prediction)"
   ]
  },
  {
   "cell_type": "code",
   "execution_count": null,
   "id": "7caa4f7f",
   "metadata": {
    "papermill": {
     "duration": 0.577912,
     "end_time": "2022-06-19T19:55:45.255504",
     "exception": false,
     "start_time": "2022-06-19T19:55:44.677592",
     "status": "completed"
    },
    "tags": []
   },
   "outputs": [],
   "source": []
  }
 ],
 "metadata": {
  "kernelspec": {
   "display_name": "Python 3",
   "language": "python",
   "name": "python3"
  },
  "language_info": {
   "codemirror_mode": {
    "name": "ipython",
    "version": 3
   },
   "file_extension": ".py",
   "mimetype": "text/x-python",
   "name": "python",
   "nbconvert_exporter": "python",
   "pygments_lexer": "ipython3",
   "version": "3.7.12"
  },
  "papermill": {
   "default_parameters": {},
   "duration": 436.92919,
   "end_time": "2022-06-19T19:55:46.087781",
   "environment_variables": {},
   "exception": null,
   "input_path": "__notebook__.ipynb",
   "output_path": "__notebook__.ipynb",
   "parameters": {},
   "start_time": "2022-06-19T19:48:29.158591",
   "version": "2.3.4"
  }
 },
 "nbformat": 4,
 "nbformat_minor": 5
}
