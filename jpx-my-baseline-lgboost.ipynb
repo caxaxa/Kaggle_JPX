{
 "cells": [
  {
   "cell_type": "code",
   "execution_count": 1,
   "id": "df6837c9",
   "metadata": {
    "_cell_guid": "b1076dfc-b9ad-4769-8c92-a6c4dae69d19",
    "_uuid": "8f2839f25d086af736a60e9eeb907d3b93b6e0e5",
    "execution": {
     "iopub.execute_input": "2022-06-23T16:27:12.421536Z",
     "iopub.status.busy": "2022-06-23T16:27:12.421007Z",
     "iopub.status.idle": "2022-06-23T16:27:12.456815Z",
     "shell.execute_reply": "2022-06-23T16:27:12.455719Z"
    },
    "papermill": {
     "duration": 0.051788,
     "end_time": "2022-06-23T16:27:12.459606",
     "exception": false,
     "start_time": "2022-06-23T16:27:12.407818",
     "status": "completed"
    },
    "tags": []
   },
   "outputs": [
    {
     "name": "stdout",
     "output_type": "stream",
     "text": [
      "/kaggle/input/jpx-tokyo-stock-exchange-prediction/stock_list.csv\n",
      "/kaggle/input/jpx-tokyo-stock-exchange-prediction/example_test_files/sample_submission.csv\n",
      "/kaggle/input/jpx-tokyo-stock-exchange-prediction/example_test_files/options.csv\n",
      "/kaggle/input/jpx-tokyo-stock-exchange-prediction/example_test_files/financials.csv\n",
      "/kaggle/input/jpx-tokyo-stock-exchange-prediction/example_test_files/secondary_stock_prices.csv\n",
      "/kaggle/input/jpx-tokyo-stock-exchange-prediction/example_test_files/trades.csv\n",
      "/kaggle/input/jpx-tokyo-stock-exchange-prediction/example_test_files/stock_prices.csv\n",
      "/kaggle/input/jpx-tokyo-stock-exchange-prediction/jpx_tokyo_market_prediction/competition.cpython-37m-x86_64-linux-gnu.so\n",
      "/kaggle/input/jpx-tokyo-stock-exchange-prediction/jpx_tokyo_market_prediction/__init__.py\n",
      "/kaggle/input/jpx-tokyo-stock-exchange-prediction/data_specifications/stock_fin_spec.csv\n",
      "/kaggle/input/jpx-tokyo-stock-exchange-prediction/data_specifications/trades_spec.csv\n",
      "/kaggle/input/jpx-tokyo-stock-exchange-prediction/data_specifications/stock_price_spec.csv\n",
      "/kaggle/input/jpx-tokyo-stock-exchange-prediction/data_specifications/options_spec.csv\n",
      "/kaggle/input/jpx-tokyo-stock-exchange-prediction/data_specifications/stock_list_spec.csv\n",
      "/kaggle/input/jpx-tokyo-stock-exchange-prediction/train_files/options.csv\n",
      "/kaggle/input/jpx-tokyo-stock-exchange-prediction/train_files/financials.csv\n",
      "/kaggle/input/jpx-tokyo-stock-exchange-prediction/train_files/secondary_stock_prices.csv\n",
      "/kaggle/input/jpx-tokyo-stock-exchange-prediction/train_files/trades.csv\n",
      "/kaggle/input/jpx-tokyo-stock-exchange-prediction/train_files/stock_prices.csv\n",
      "/kaggle/input/jpx-tokyo-stock-exchange-prediction/supplemental_files/options.csv\n",
      "/kaggle/input/jpx-tokyo-stock-exchange-prediction/supplemental_files/financials.csv\n",
      "/kaggle/input/jpx-tokyo-stock-exchange-prediction/supplemental_files/secondary_stock_prices.csv\n",
      "/kaggle/input/jpx-tokyo-stock-exchange-prediction/supplemental_files/trades.csv\n",
      "/kaggle/input/jpx-tokyo-stock-exchange-prediction/supplemental_files/stock_prices.csv\n"
     ]
    }
   ],
   "source": [
    "# This Python 3 environment comes with many helpful analytics libraries installed\n",
    "# It is defined by the kaggle/python Docker image: https://github.com/kaggle/docker-python\n",
    "# For example, here's several helpful packages to load\n",
    "\n",
    "import numpy as np # linear algebra\n",
    "import pandas as pd # data processing, CSV file I/O (e.g. pd.read_csv)\n",
    "\n",
    "# Input data files are available in the read-only \"../input/\" directory\n",
    "# For example, running this (by clicking run or pressing Shift+Enter) will list all files under the input directory\n",
    "\n",
    "import os\n",
    "for dirname, _, filenames in os.walk('/kaggle/input'):\n",
    "    for filename in filenames:\n",
    "        print(os.path.join(dirname, filename))\n",
    "\n",
    "# You can write up to 20GB to the current directory (/kaggle/working/) th\n",
    "#at gets preserved as output when you create a version using \"Save & Run All\" \n",
    "# You can also write temporary files to /kaggle/temp/, but they won't be saved outside of the current session"
   ]
  },
  {
   "cell_type": "markdown",
   "id": "a7ee92f4",
   "metadata": {
    "papermill": {
     "duration": 0.008049,
     "end_time": "2022-06-23T16:27:12.476269",
     "exception": false,
     "start_time": "2022-06-23T16:27:12.468220",
     "status": "completed"
    },
    "tags": []
   },
   "source": [
    "# Here starts my Baseline\n",
    "\n",
    "Ideas:\n",
    "\n",
    "1  - Feature engeneering- Basic and effective;\n",
    "\n",
    "2 - Gradient Boosting Regressions;\n",
    "\n",
    "3 - Neuronets Regressions; and\n",
    "\n",
    "4 - Submission.\n",
    "\n"
   ]
  },
  {
   "cell_type": "markdown",
   "id": "ebc9a32b",
   "metadata": {
    "papermill": {
     "duration": 0.007988,
     "end_time": "2022-06-23T16:27:12.492709",
     "exception": false,
     "start_time": "2022-06-23T16:27:12.484721",
     "status": "completed"
    },
    "tags": []
   },
   "source": [
    "## 1 Feature Engeneering"
   ]
  },
  {
   "cell_type": "code",
   "execution_count": 2,
   "id": "74a06a2c",
   "metadata": {
    "execution": {
     "iopub.execute_input": "2022-06-23T16:27:12.511266Z",
     "iopub.status.busy": "2022-06-23T16:27:12.510437Z",
     "iopub.status.idle": "2022-06-23T16:27:12.516130Z",
     "shell.execute_reply": "2022-06-23T16:27:12.515283Z"
    },
    "papermill": {
     "duration": 0.017302,
     "end_time": "2022-06-23T16:27:12.518251",
     "exception": false,
     "start_time": "2022-06-23T16:27:12.500949",
     "status": "completed"
    },
    "tags": []
   },
   "outputs": [],
   "source": [
    "def concat_df(df1, df2):\n",
    "    df1 = pd.concat([df1, df2],\n",
    "                    ignore_index=True, sort=False\n",
    "                    ).drop_duplicates([\"RowId\"], keep=\"first\")\n",
    "    return df1"
   ]
  },
  {
   "cell_type": "code",
   "execution_count": 3,
   "id": "cf77665f",
   "metadata": {
    "execution": {
     "iopub.execute_input": "2022-06-23T16:27:12.536681Z",
     "iopub.status.busy": "2022-06-23T16:27:12.536261Z",
     "iopub.status.idle": "2022-06-23T16:27:37.942000Z",
     "shell.execute_reply": "2022-06-23T16:27:37.940893Z"
    },
    "papermill": {
     "duration": 25.418584,
     "end_time": "2022-06-23T16:27:37.945201",
     "exception": false,
     "start_time": "2022-06-23T16:27:12.526617",
     "status": "completed"
    },
    "tags": []
   },
   "outputs": [
    {
     "name": "stdout",
     "output_type": "stream",
     "text": [
      "<class 'pandas.core.frame.DataFrame'>\n",
      "Int64Index: 5189768 entries, 0 to 5189767\n",
      "Data columns (total 12 columns):\n",
      " #   Column            Non-Null Count    Dtype  \n",
      "---  ------            --------------    -----  \n",
      " 0   RowId             5189768 non-null  object \n",
      " 1   Date              5189768 non-null  object \n",
      " 2   SecuritiesCode    5189768 non-null  int16  \n",
      " 3   Open              5080824 non-null  float16\n",
      " 4   High              5080824 non-null  float16\n",
      " 5   Low               5080824 non-null  float16\n",
      " 6   Close             5080824 non-null  float16\n",
      " 7   Volume            5189768 non-null  int8   \n",
      " 8   AdjustmentFactor  5189768 non-null  float16\n",
      " 9   ExpectedDividend  41373 non-null    float16\n",
      " 10  SupervisionFlag   5189768 non-null  bool   \n",
      " 11  Target            5188728 non-null  float16\n",
      "dtypes: bool(1), float16(7), int16(1), int8(1), object(2)\n",
      "memory usage: 207.9+ MB\n"
     ]
    }
   ],
   "source": [
    "# For now... use pandas.... \n",
    "#If too heavy use Cudf\n",
    "\n",
    "# For now... just fix the floats\n",
    "dtypes = {\n",
    "'SecuritiesCode' :     np.int16,\n",
    "'Open'           :     np.float16,\n",
    "'High'           :     np.float16,\n",
    "'Low'            :     np.float16,\n",
    "'Close'          :     np.float16,\n",
    "'Volume'         :       np.int8,\n",
    "'AdjustmentFactor':    np.float16,\n",
    "'ExpectedDividend':    np.float16,\n",
    "'Target'        :      np.float16\n",
    "}\n",
    "path = \"../input/jpx-tokyo-stock-exchange-prediction/\"\n",
    "df_prices = pd.read_csv(f\"{path}train_files/stock_prices.csv\",dtype = dtypes)\n",
    "prices = pd.read_csv(f\"{path}supplemental_files/stock_prices.csv\",dtype = dtypes)\n",
    "df_prices = concat_df(df_prices, prices)\n",
    "prices = pd.read_csv(f\"{path}train_files/secondary_stock_prices.csv\",dtype = dtypes)\n",
    "df_prices = concat_df(df_prices, prices)\n",
    "prices = pd.read_csv(f\"{path}supplemental_files/secondary_stock_prices.csv\",dtype = dtypes)\n",
    "df_prices = concat_df(df_prices, prices)\n",
    "#df_prices = df_prices[df_prices.Date<\"2021-11-01\"]\n",
    "df_prices.info(show_counts=True)"
   ]
  },
  {
   "cell_type": "code",
   "execution_count": 4,
   "id": "b1fb9c6a",
   "metadata": {
    "execution": {
     "iopub.execute_input": "2022-06-23T16:27:37.964392Z",
     "iopub.status.busy": "2022-06-23T16:27:37.963985Z",
     "iopub.status.idle": "2022-06-23T16:27:37.968040Z",
     "shell.execute_reply": "2022-06-23T16:27:37.967063Z"
    },
    "papermill": {
     "duration": 0.015784,
     "end_time": "2022-06-23T16:27:37.970009",
     "exception": false,
     "start_time": "2022-06-23T16:27:37.954225",
     "status": "completed"
    },
    "tags": []
   },
   "outputs": [],
   "source": [
    "# def prep_prices(price):\n",
    "#     price.fillna(0,inplace=True)\n",
    "#     return price"
   ]
  },
  {
   "cell_type": "code",
   "execution_count": 5,
   "id": "35f91ed9",
   "metadata": {
    "execution": {
     "iopub.execute_input": "2022-06-23T16:27:37.988526Z",
     "iopub.status.busy": "2022-06-23T16:27:37.987853Z",
     "iopub.status.idle": "2022-06-23T16:27:37.992124Z",
     "shell.execute_reply": "2022-06-23T16:27:37.991499Z"
    },
    "papermill": {
     "duration": 0.015746,
     "end_time": "2022-06-23T16:27:37.994016",
     "exception": false,
     "start_time": "2022-06-23T16:27:37.978270",
     "status": "completed"
    },
    "tags": []
   },
   "outputs": [],
   "source": [
    "# df_prices = prep_prices(df_prices)\n",
    "# pd.options.display.float_format = '{:,.6g}'.format\n",
    "# df_prices.describe()"
   ]
  },
  {
   "cell_type": "code",
   "execution_count": null,
   "id": "8d7cbec1",
   "metadata": {
    "papermill": {
     "duration": 0.008047,
     "end_time": "2022-06-23T16:27:38.010758",
     "exception": false,
     "start_time": "2022-06-23T16:27:38.002711",
     "status": "completed"
    },
    "tags": []
   },
   "outputs": [],
   "source": []
  },
  {
   "cell_type": "code",
   "execution_count": null,
   "id": "f2a0b6ad",
   "metadata": {
    "papermill": {
     "duration": 0.007991,
     "end_time": "2022-06-23T16:27:38.027108",
     "exception": false,
     "start_time": "2022-06-23T16:27:38.019117",
     "status": "completed"
    },
    "tags": []
   },
   "outputs": [],
   "source": []
  },
  {
   "cell_type": "code",
   "execution_count": 6,
   "id": "591e7a62",
   "metadata": {
    "execution": {
     "iopub.execute_input": "2022-06-23T16:27:38.045577Z",
     "iopub.status.busy": "2022-06-23T16:27:38.045133Z",
     "iopub.status.idle": "2022-06-23T16:27:38.049414Z",
     "shell.execute_reply": "2022-06-23T16:27:38.048663Z"
    },
    "papermill": {
     "duration": 0.016025,
     "end_time": "2022-06-23T16:27:38.051524",
     "exception": false,
     "start_time": "2022-06-23T16:27:38.035499",
     "status": "completed"
    },
    "tags": []
   },
   "outputs": [],
   "source": [
    "# from datetime import datetime\n",
    "# import time\n",
    "\n",
    "#  # auxiliary function, from datetime to timestamp\n",
    "# totimestamp = lambda s: np.int32(time.mktime(datetime.strptime(s, \"%Y-%m-%d\").timetuple()))"
   ]
  },
  {
   "cell_type": "markdown",
   "id": "368cfa50",
   "metadata": {
    "papermill": {
     "duration": 0.008062,
     "end_time": "2022-06-23T16:27:38.067979",
     "exception": false,
     "start_time": "2022-06-23T16:27:38.059917",
     "status": "completed"
    },
    "tags": []
   },
   "source": [
    "# Data Features\n"
   ]
  },
  {
   "cell_type": "code",
   "execution_count": 7,
   "id": "16989a2f",
   "metadata": {
    "execution": {
     "iopub.execute_input": "2022-06-23T16:27:38.086576Z",
     "iopub.status.busy": "2022-06-23T16:27:38.086160Z",
     "iopub.status.idle": "2022-06-23T16:27:38.096241Z",
     "shell.execute_reply": "2022-06-23T16:27:38.095526Z"
    },
    "papermill": {
     "duration": 0.022095,
     "end_time": "2022-06-23T16:27:38.098393",
     "exception": false,
     "start_time": "2022-06-23T16:27:38.076298",
     "status": "completed"
    },
    "tags": []
   },
   "outputs": [],
   "source": [
    "\n",
    "# define function to compute log returns\n",
    "# def log_return(series, periods=1):\n",
    "#     return np.log(series).diff(periods=periods)\n",
    "\n",
    "\n",
    "# # def fill_the_gaps(df):\n",
    "# #     new_df = pd.DataFrame(columns= df.columns)\n",
    "# #     for i in range(len(df['SecuritiesCode'].unique())):\n",
    "# #         new_df = new_df.append(df[df['SecuritiesCode'] == i].reindex(range(df[df['SecuritiesCode'] == i].index[0],df[df['SecuritiesCode'] == i].index[-1]+60,60),method='pad'))\n",
    "# #     new_df.fillna(method = 'pad', inplace = True) \n",
    "# #     return new_df\n",
    "\n",
    "\n",
    "# def rsiFunc(prices, n=14):\n",
    "#     deltas = np.diff(prices)\n",
    "#     seed = deltas[:n+1]\n",
    "#     up = seed[seed>=0].sum()/n\n",
    "#     down = -seed[seed<0].sum()/n\n",
    "#     rs = up/down\n",
    "#     rsi = np.zeros_like(prices)\n",
    "#     rsi[:n] = 100. - 100./(1.+rs)\n",
    "\n",
    "#     for i in range(n, len(prices)):\n",
    "#         delta = deltas[i-1] # cause the diff is 1 shorter\n",
    "\n",
    "#         if delta>0:\n",
    "#             upval = delta\n",
    "#             downval = 0.\n",
    "#         else:\n",
    "#             upval = 0.\n",
    "#             downval = -delta\n",
    "\n",
    "#         up = (up*(n-1) + upval)/n\n",
    "#         down = (down*(n-1) + downval)/n\n",
    "\n",
    "#         rs = up/down\n",
    "#         rsi[i] = 100. - 100./(1.+rs)\n",
    "\n",
    "#     return rsi\n",
    "\n",
    "\n",
    "\n",
    "def get_features(df):\n",
    "\n",
    "#     df['log_return_5'] = log_return(df['Close'],periods=5)\n",
    "#     df['log_return'] = log_return(df['Close'],periods=1)\n",
    "\n",
    "    upper_shadow = lambda asset: asset.High - np.maximum(asset.Close,asset.Open)\n",
    "    lower_shadow = lambda asset: np.minimum(asset.Close,asset.Open)- asset.Low\n",
    "\n",
    "    df['upper_shadow'] = upper_shadow(df)\n",
    "    df['lower_shadow'] = lower_shadow(df)\n",
    "    \n",
    "#     df['EMA_21'] = df['Close'].ewm(span=21).mean()\n",
    "    \n",
    "#     df['EMA_55'] = df['Close'].ewm(span=55).mean()\n",
    "    \n",
    "#     df['EMA_315'] = df['Close'].ewm(span=315).mean()\n",
    "    \n",
    "#     df['EMA_825'] = df['Close'].ewm(span=825).mean()\n",
    "    \n",
    "#     window = 7\n",
    "    \n",
    "#     no_of_std = 2\n",
    "    \n",
    "#     df[f'EMA_{window}'] = df['Close'].ewm(span=window).mean()\n",
    "    \n",
    "#     df[f'EMA_{window}_std'] = df['Close'].rolling(window=window).std()\n",
    "    \n",
    "#     df[f'EMA_{window}_BB_high'] = df[f'EMA_{window}'] + no_of_std * df[f'EMA_{window}_std']\n",
    "    \n",
    "#     df[f'MA_{window}MA_BB_low'] = df[f'EMA_{window}'] - no_of_std * df[f'EMA_{window}_std']\n",
    "    \n",
    "#     window = 5\n",
    "    \n",
    "#     df[f'EMA_{window}'] = df['Close'].ewm(span=window).mean()\n",
    "    \n",
    "#     df[f'EMA_{window}_std'] = df['Close'].rolling(window=window).std()\n",
    "    \n",
    "#     df[f'EMA_{window}_BB_high'] = df[f'EMA_{window}'] + no_of_std * df[f'EMA_{window}_std']\n",
    "    \n",
    "#     df[f'MA_{window}MA_BB_low'] = df[f'EMA_{window}'] - no_of_std * df[f'EMA_{window}_std']\n",
    "    \n",
    "#     df['MACD'] = df['EMA_7'] - df['EMA_5']\n",
    "    \n",
    "    \n",
    "#     df['rsi_5'] = rsiFunc(df['Close'].values, 5)\n",
    "    \n",
    "#     df['rsi_7'] = rsiFunc(df['Close'].values, 7)\n",
    "    \n",
    "#     df['rsi_21'] = rsiFunc(df['Close'].values, 21)\n",
    "    \n",
    "    \n",
    "    \n",
    "    df['VWAP'] = (df['Close'] * df['Volume'])/ df['Volume']\n",
    "\n",
    "\n",
    "\n",
    "\n",
    "    \n",
    "    \n",
    "    #df = pd.concat([df, pd.get_dummies(df['Asset_ID'], prefix= 'Asset_')], axis=1)\n",
    "    \n",
    "    df[[ 'upper_shadow', 'lower_shadow','VWAP']].astype('float16')\n",
    "    \n",
    "    return df\n",
    "\n"
   ]
  },
  {
   "cell_type": "code",
   "execution_count": 8,
   "id": "f3f0e2f6",
   "metadata": {
    "execution": {
     "iopub.execute_input": "2022-06-23T16:27:38.116933Z",
     "iopub.status.busy": "2022-06-23T16:27:38.116204Z",
     "iopub.status.idle": "2022-06-23T16:27:46.370719Z",
     "shell.execute_reply": "2022-06-23T16:27:46.369709Z"
    },
    "papermill": {
     "duration": 8.266485,
     "end_time": "2022-06-23T16:27:46.373153",
     "exception": false,
     "start_time": "2022-06-23T16:27:38.106668",
     "status": "completed"
    },
    "tags": []
   },
   "outputs": [],
   "source": [
    "#sort the database per stock before running the feature function\n",
    "#df_prices = df_prices.sort_values('SecuritiesCode')\n",
    "\n",
    "df_prices = get_features(df_prices)\n",
    "\n",
    "df_prices = df_prices.replace((np.inf, -np.inf, np.nan), 0).reset_index(drop=True)\n",
    "\n",
    "df_prices = df_prices.fillna(0)"
   ]
  },
  {
   "cell_type": "code",
   "execution_count": null,
   "id": "cd62d0a9",
   "metadata": {
    "papermill": {
     "duration": 0.007894,
     "end_time": "2022-06-23T16:27:46.389748",
     "exception": false,
     "start_time": "2022-06-23T16:27:46.381854",
     "status": "completed"
    },
    "tags": []
   },
   "outputs": [],
   "source": []
  },
  {
   "cell_type": "code",
   "execution_count": null,
   "id": "a3825ad0",
   "metadata": {
    "papermill": {
     "duration": 0.007872,
     "end_time": "2022-06-23T16:27:46.405748",
     "exception": false,
     "start_time": "2022-06-23T16:27:46.397876",
     "status": "completed"
    },
    "tags": []
   },
   "outputs": [],
   "source": []
  },
  {
   "cell_type": "markdown",
   "id": "dca21b2a",
   "metadata": {
    "papermill": {
     "duration": 0.007803,
     "end_time": "2022-06-23T16:27:46.422008",
     "exception": false,
     "start_time": "2022-06-23T16:27:46.414205",
     "status": "completed"
    },
    "tags": []
   },
   "source": [
    "## Training a Simple Model\n",
    "\n",
    "Xgboost"
   ]
  },
  {
   "cell_type": "code",
   "execution_count": null,
   "id": "0615a4a3",
   "metadata": {
    "papermill": {
     "duration": 0.007923,
     "end_time": "2022-06-23T16:27:46.438001",
     "exception": false,
     "start_time": "2022-06-23T16:27:46.430078",
     "status": "completed"
    },
    "tags": []
   },
   "outputs": [],
   "source": []
  },
  {
   "cell_type": "code",
   "execution_count": 9,
   "id": "6d255231",
   "metadata": {
    "execution": {
     "iopub.execute_input": "2022-06-23T16:27:46.456361Z",
     "iopub.status.busy": "2022-06-23T16:27:46.455969Z",
     "iopub.status.idle": "2022-06-23T16:27:48.620625Z",
     "shell.execute_reply": "2022-06-23T16:27:48.619567Z"
    },
    "papermill": {
     "duration": 2.176647,
     "end_time": "2022-06-23T16:27:48.622997",
     "exception": false,
     "start_time": "2022-06-23T16:27:46.446350",
     "status": "completed"
    },
    "tags": []
   },
   "outputs": [
    {
     "data": {
      "text/html": [
       "<style type='text/css'>\n",
       ".datatable table.frame { margin-bottom: 0; }\n",
       ".datatable table.frame thead { border-bottom: none; }\n",
       ".datatable table.frame tr.coltypes td {  color: #FFFFFF;  line-height: 6px;  padding: 0 0.5em;}\n",
       ".datatable .bool    { background: #DDDD99; }\n",
       ".datatable .object  { background: #565656; }\n",
       ".datatable .int     { background: #5D9E5D; }\n",
       ".datatable .float   { background: #4040CC; }\n",
       ".datatable .str     { background: #CC4040; }\n",
       ".datatable .time    { background: #40CC40; }\n",
       ".datatable .row_index {  background: var(--jp-border-color3);  border-right: 1px solid var(--jp-border-color0);  color: var(--jp-ui-font-color3);  font-size: 9px;}\n",
       ".datatable .frame tbody td { text-align: left; }\n",
       ".datatable .frame tr.coltypes .row_index {  background: var(--jp-border-color0);}\n",
       ".datatable th:nth-child(2) { padding-left: 12px; }\n",
       ".datatable .hellipsis {  color: var(--jp-cell-editor-border-color);}\n",
       ".datatable .vellipsis {  background: var(--jp-layout-color0);  color: var(--jp-cell-editor-border-color);}\n",
       ".datatable .na {  color: var(--jp-cell-editor-border-color);  font-size: 80%;}\n",
       ".datatable .sp {  opacity: 0.25;}\n",
       ".datatable .footer { font-size: 9px; }\n",
       ".datatable .frame_dimensions {  background: var(--jp-border-color3);  border-top: 1px solid var(--jp-border-color0);  color: var(--jp-ui-font-color3);  display: inline-block;  opacity: 0.6;  padding: 1px 10px 1px 5px;}\n",
       "</style>\n"
      ],
      "text/plain": [
       "<IPython.core.display.HTML object>"
      ]
     },
     "metadata": {},
     "output_type": "display_data"
    }
   ],
   "source": [
    "from lightgbm import LGBMRegressor\n",
    "from sklearn.preprocessing import StandardScaler\n",
    "scaler = StandardScaler()"
   ]
  },
  {
   "cell_type": "code",
   "execution_count": 10,
   "id": "cdde6e19",
   "metadata": {
    "execution": {
     "iopub.execute_input": "2022-06-23T16:27:48.642653Z",
     "iopub.status.busy": "2022-06-23T16:27:48.642258Z",
     "iopub.status.idle": "2022-06-23T16:27:48.647521Z",
     "shell.execute_reply": "2022-06-23T16:27:48.646496Z"
    },
    "papermill": {
     "duration": 0.017882,
     "end_time": "2022-06-23T16:27:48.649695",
     "exception": false,
     "start_time": "2022-06-23T16:27:48.631813",
     "status": "completed"
    },
    "tags": []
   },
   "outputs": [],
   "source": [
    "def model_training(X,y):\n",
    "    # Model training\n",
    "    \n",
    "    model = LGBMRegressor(n_estimators=5000,num_leaves=700,learning_rate=0.1) #, device_type = 'gpu' for allowing GPU\n",
    "    model.fit(X, y)\n",
    "    \n",
    "    return model\n"
   ]
  },
  {
   "cell_type": "code",
   "execution_count": 11,
   "id": "28776e4b",
   "metadata": {
    "execution": {
     "iopub.execute_input": "2022-06-23T16:27:48.669526Z",
     "iopub.status.busy": "2022-06-23T16:27:48.668423Z",
     "iopub.status.idle": "2022-06-23T16:27:48.674050Z",
     "shell.execute_reply": "2022-06-23T16:27:48.673072Z"
    },
    "papermill": {
     "duration": 0.017621,
     "end_time": "2022-06-23T16:27:48.676261",
     "exception": false,
     "start_time": "2022-06-23T16:27:48.658640",
     "status": "completed"
    },
    "tags": []
   },
   "outputs": [],
   "source": [
    "scaled_features = ['Open', 'High', 'Low', 'Close', 'Volume', 'upper_shadow', 'lower_shadow','VWAP']\n",
    "features = [\"SecuritiesCode\",'Open', 'High', 'Low', 'Close', 'Volume', 'upper_shadow', 'lower_shadow','VWAP']"
   ]
  },
  {
   "cell_type": "code",
   "execution_count": 12,
   "id": "1f33581d",
   "metadata": {
    "execution": {
     "iopub.execute_input": "2022-06-23T16:27:48.695448Z",
     "iopub.status.busy": "2022-06-23T16:27:48.695039Z",
     "iopub.status.idle": "2022-06-23T16:27:49.254794Z",
     "shell.execute_reply": "2022-06-23T16:27:49.253809Z"
    },
    "papermill": {
     "duration": 0.572341,
     "end_time": "2022-06-23T16:27:49.257298",
     "exception": false,
     "start_time": "2022-06-23T16:27:48.684957",
     "status": "completed"
    },
    "tags": []
   },
   "outputs": [],
   "source": [
    "# Creating endog and exog variables\n",
    "y = df_prices[['Target']]\n",
    "X = df_prices[features]"
   ]
  },
  {
   "cell_type": "code",
   "execution_count": 13,
   "id": "b0885035",
   "metadata": {
    "execution": {
     "iopub.execute_input": "2022-06-23T16:27:49.276229Z",
     "iopub.status.busy": "2022-06-23T16:27:49.275830Z",
     "iopub.status.idle": "2022-06-23T16:27:50.502949Z",
     "shell.execute_reply": "2022-06-23T16:27:50.502022Z"
    },
    "papermill": {
     "duration": 1.239455,
     "end_time": "2022-06-23T16:27:50.505301",
     "exception": false,
     "start_time": "2022-06-23T16:27:49.265846",
     "status": "completed"
    },
    "tags": []
   },
   "outputs": [
    {
     "name": "stderr",
     "output_type": "stream",
     "text": [
      "/opt/conda/lib/python3.7/site-packages/pandas/core/frame.py:3678: SettingWithCopyWarning: \n",
      "A value is trying to be set on a copy of a slice from a DataFrame.\n",
      "Try using .loc[row_indexer,col_indexer] = value instead\n",
      "\n",
      "See the caveats in the documentation: https://pandas.pydata.org/pandas-docs/stable/user_guide/indexing.html#returning-a-view-versus-a-copy\n",
      "  self[col] = igetitem(value, i)\n"
     ]
    }
   ],
   "source": [
    "X[scaled_features] = scaler.fit_transform(X[scaled_features])\n"
   ]
  },
  {
   "cell_type": "code",
   "execution_count": null,
   "id": "20a99dee",
   "metadata": {
    "papermill": {
     "duration": 0.008131,
     "end_time": "2022-06-23T16:27:50.522065",
     "exception": false,
     "start_time": "2022-06-23T16:27:50.513934",
     "status": "completed"
    },
    "tags": []
   },
   "outputs": [],
   "source": []
  },
  {
   "cell_type": "code",
   "execution_count": 14,
   "id": "3c985536",
   "metadata": {
    "execution": {
     "iopub.execute_input": "2022-06-23T16:27:50.540638Z",
     "iopub.status.busy": "2022-06-23T16:27:50.540210Z",
     "iopub.status.idle": "2022-06-23T16:38:37.428961Z",
     "shell.execute_reply": "2022-06-23T16:38:37.427705Z"
    },
    "papermill": {
     "duration": 646.913615,
     "end_time": "2022-06-23T16:38:37.444238",
     "exception": false,
     "start_time": "2022-06-23T16:27:50.530623",
     "status": "completed"
    },
    "tags": []
   },
   "outputs": [
    {
     "name": "stdout",
     "output_type": "stream",
     "text": [
      "CPU times: user 41min 44s, sys: 22.4 s, total: 42min 6s\n",
      "Wall time: 10min 46s\n"
     ]
    }
   ],
   "source": [
    "%%time\n",
    "\n",
    "model_1 = model_training(X,y)"
   ]
  },
  {
   "cell_type": "code",
   "execution_count": 15,
   "id": "26a14308",
   "metadata": {
    "execution": {
     "iopub.execute_input": "2022-06-23T16:38:37.464802Z",
     "iopub.status.busy": "2022-06-23T16:38:37.464339Z",
     "iopub.status.idle": "2022-06-23T17:00:46.340305Z",
     "shell.execute_reply": "2022-06-23T17:00:46.339443Z"
    },
    "papermill": {
     "duration": 1328.899531,
     "end_time": "2022-06-23T17:00:46.352660",
     "exception": false,
     "start_time": "2022-06-23T16:38:37.453129",
     "status": "completed"
    },
    "tags": []
   },
   "outputs": [
    {
     "data": {
      "text/plain": [
       "0.4179786496501232"
      ]
     },
     "execution_count": 15,
     "metadata": {},
     "output_type": "execute_result"
    }
   ],
   "source": [
    "model_1.score(X,y)"
   ]
  },
  {
   "cell_type": "code",
   "execution_count": 16,
   "id": "70ff7915",
   "metadata": {
    "execution": {
     "iopub.execute_input": "2022-06-23T17:00:46.374356Z",
     "iopub.status.busy": "2022-06-23T17:00:46.373611Z",
     "iopub.status.idle": "2022-06-23T17:00:46.377860Z",
     "shell.execute_reply": "2022-06-23T17:00:46.377020Z"
    },
    "papermill": {
     "duration": 0.018248,
     "end_time": "2022-06-23T17:00:46.380020",
     "exception": false,
     "start_time": "2022-06-23T17:00:46.361772",
     "status": "completed"
    },
    "tags": []
   },
   "outputs": [],
   "source": [
    "import pickle"
   ]
  },
  {
   "cell_type": "code",
   "execution_count": 17,
   "id": "b3a820d6",
   "metadata": {
    "execution": {
     "iopub.execute_input": "2022-06-23T17:00:46.400714Z",
     "iopub.status.busy": "2022-06-23T17:00:46.400215Z",
     "iopub.status.idle": "2022-06-23T17:01:06.305867Z",
     "shell.execute_reply": "2022-06-23T17:01:06.304971Z"
    },
    "papermill": {
     "duration": 19.919225,
     "end_time": "2022-06-23T17:01:06.308494",
     "exception": false,
     "start_time": "2022-06-23T17:00:46.389269",
     "status": "completed"
    },
    "tags": []
   },
   "outputs": [],
   "source": [
    "# Saving model\n",
    "\n",
    "#Saving the booster\n",
    "model_1.booster_.save_model('simple_LGBM.txt')\n",
    "\n",
    "#Saving the sklearn model\n",
    "\n",
    "filename = 'simple_LGBM.sav'\n",
    "pickle.dump(model_1, open(filename, 'wb'))"
   ]
  },
  {
   "cell_type": "markdown",
   "id": "0529fdcf",
   "metadata": {
    "papermill": {
     "duration": 0.009571,
     "end_time": "2022-06-23T17:01:06.327919",
     "exception": false,
     "start_time": "2022-06-23T17:01:06.318348",
     "status": "completed"
    },
    "tags": []
   },
   "source": [
    "# Submission\n"
   ]
  },
  {
   "cell_type": "code",
   "execution_count": 18,
   "id": "e247cae7",
   "metadata": {
    "execution": {
     "iopub.execute_input": "2022-06-23T17:01:06.351359Z",
     "iopub.status.busy": "2022-06-23T17:01:06.350707Z",
     "iopub.status.idle": "2022-06-23T17:01:06.357554Z",
     "shell.execute_reply": "2022-06-23T17:01:06.356613Z"
    },
    "papermill": {
     "duration": 0.022518,
     "end_time": "2022-06-23T17:01:06.359811",
     "exception": false,
     "start_time": "2022-06-23T17:01:06.337293",
     "status": "completed"
    },
    "tags": []
   },
   "outputs": [],
   "source": [
    "# def calc_spread_return_per_day(df, portfolio_size, toprank_weight_ratio):\n",
    "#     \"\"\"\n",
    "#     Args:\n",
    "#         df (pd.DataFrame): predicted results\n",
    "#         portfolio_size (int): # of equities to buy/sell\n",
    "#         toprank_weight_ratio (float): the relative weight of the most highly ranked stock compared to the least.\n",
    "#     Returns:\n",
    "#         (float): spread return\n",
    "#     \"\"\"\n",
    "#     assert df['Rank'].min() == 0\n",
    "#     assert df['Rank'].max() == len(df['Rank']) - 1\n",
    "#     weights = np.linspace(start=toprank_weight_ratio, stop=1, num=portfolio_size)\n",
    "#     purchase = (df.sort_values(by='Rank')['Target'][:portfolio_size] * weights).sum() / weights.mean()\n",
    "#     short = (df.sort_values(by='Rank', ascending=False)['Target'][:portfolio_size] * weights).sum() / weights.mean()\n",
    "#     return purchase - short\n",
    "\n",
    "# def calc_spread_return_sharpe(df: pd.DataFrame, portfolio_size: int = 200, toprank_weight_ratio: float = 2) -> float:\n",
    "#     \"\"\"\n",
    "#     Args:\n",
    "#         df (pd.DataFrame): predicted results\n",
    "#         portfolio_size (int): # of equities to buy/sell\n",
    "#         toprank_weight_ratio (float): the relative weight of the most highly ranked stock compared to the least.\n",
    "#     Returns:\n",
    "#         (float): sharpe ratio\n",
    "#     \"\"\"\n",
    "#     buf = df.groupby('Date').apply(calc_spread_return_per_day, portfolio_size, toprank_weight_ratio)\n",
    "#     sharpe_ratio = buf.mean() / buf.std()\n",
    "#     return sharpe_ratio, buf\n",
    "\n",
    "def add_rank(df, col_name=\"pred\"):\n",
    "    df[\"Rank\"] = df.groupby(\"Date\")[col_name].rank(ascending=False, method=\"first\") - 1 \n",
    "    df[\"Rank\"] = df[\"Rank\"].astype(\"int\")\n",
    "    return df"
   ]
  },
  {
   "cell_type": "code",
   "execution_count": 19,
   "id": "1efe9820",
   "metadata": {
    "execution": {
     "iopub.execute_input": "2022-06-23T17:01:06.380971Z",
     "iopub.status.busy": "2022-06-23T17:01:06.380250Z",
     "iopub.status.idle": "2022-06-23T17:01:06.385716Z",
     "shell.execute_reply": "2022-06-23T17:01:06.384774Z"
    },
    "papermill": {
     "duration": 0.018907,
     "end_time": "2022-06-23T17:01:06.388103",
     "exception": false,
     "start_time": "2022-06-23T17:01:06.369196",
     "status": "completed"
    },
    "tags": []
   },
   "outputs": [],
   "source": [
    "# # By Yuike - https://www.kaggle.com/code/ikeppyo/examples-of-higher-scores-than-perfect-predictions\n",
    "\n",
    "# # This function adjusts the predictions so that the daily spread return approaches a certain value.\n",
    "# def adjuster(df):\n",
    "#     def calc_pred(df, x, y, z):\n",
    "#         return df['Target'].where(df['Target'].abs() < x, df['Target'] * y + np.sign(df['Target']) * z)\n",
    "\n",
    "#     def objective(trial, df):\n",
    "#         x = trial.suggest_uniform('x', 0, 0.2)\n",
    "#         y = trial.suggest_uniform('y', 0, 0.1)\n",
    "#         z = trial.suggest_uniform('z', 0, 1e-3)\n",
    "#         df[\"Rank\"] = calc_pred(df, x, y, z).rank(ascending=False, method=\"first\") - 1 \n",
    "#         df[\"Rank\"] = df[\"Rank\"].astype(\"int\")\n",
    "#         return calc_spread_return_per_day(df, 200, 2)\n",
    "    \n",
    "#     def predictor_per_day(df):\n",
    "#         study = optuna.create_study(direction='minimize', sampler=optuna.samplers.TPESampler(seed=2022))\n",
    "#         study.optimize(lambda trial: abs(objective(trial, df) - 10), 10)\n",
    "#         return calc_pred(df, *study.best_params.values())\n",
    "\n",
    "#     return df.groupby(\"Date\").apply(predictor_per_day).reset_index(level=0, drop=True)\n",
    "\n",
    "# def _predictor_base(feature_df):\n",
    "#     return model.predict(feature_df[feats])\n",
    "\n",
    "# def _predictor_with_adjuster(feature_df):\n",
    "#     feature_df[\"Target\"] = model.predict(feature_df[feats])\n",
    "#     return adjuster(feature_df)"
   ]
  },
  {
   "cell_type": "code",
   "execution_count": 20,
   "id": "bdce42a0",
   "metadata": {
    "execution": {
     "iopub.execute_input": "2022-06-23T17:01:06.408553Z",
     "iopub.status.busy": "2022-06-23T17:01:06.408073Z",
     "iopub.status.idle": "2022-06-23T17:01:06.412523Z",
     "shell.execute_reply": "2022-06-23T17:01:06.411461Z"
    },
    "papermill": {
     "duration": 0.017375,
     "end_time": "2022-06-23T17:01:06.414807",
     "exception": false,
     "start_time": "2022-06-23T17:01:06.397432",
     "status": "completed"
    },
    "tags": []
   },
   "outputs": [],
   "source": [
    "# predictor = _predictor_with_adjuster"
   ]
  },
  {
   "cell_type": "code",
   "execution_count": 21,
   "id": "60c967ac",
   "metadata": {
    "execution": {
     "iopub.execute_input": "2022-06-23T17:01:06.435333Z",
     "iopub.status.busy": "2022-06-23T17:01:06.434884Z",
     "iopub.status.idle": "2022-06-23T17:01:08.594239Z",
     "shell.execute_reply": "2022-06-23T17:01:08.592954Z"
    },
    "papermill": {
     "duration": 2.173287,
     "end_time": "2022-06-23T17:01:08.597435",
     "exception": false,
     "start_time": "2022-06-23T17:01:06.424148",
     "status": "completed"
    },
    "tags": []
   },
   "outputs": [
    {
     "name": "stdout",
     "output_type": "stream",
     "text": [
      "This version of the API is not optimized and should not be used to estimate the runtime of your code on the hidden test set.\n"
     ]
    }
   ],
   "source": [
    "import jpx_tokyo_market_prediction\n",
    "\n",
    "\n",
    "env = jpx_tokyo_market_prediction.make_env()   # initialize the environment\n",
    "iter_test = env.iter_test()    # an iterator which loops over the test files\n",
    "for (prices, options, financials, trades, secondary_prices, sample_prediction) in iter_test:\n",
    "    prices = get_features(prices)\n",
    "    prices = prices.replace((np.inf, -np.inf, np.nan), 0).reset_index(drop=True)\n",
    "    prices = prices.fillna(0)\n",
    "    prices[scaled_features] = scaler.fit_transform(prices[scaled_features])\n",
    "    prices['pred'] = model_1.predict(prices[features])\n",
    "    prices = add_rank(prices)\n",
    "    feature_map = prices.set_index('SecuritiesCode')['Rank'].to_dict()\n",
    "    sample_prediction['Rank'] = sample_prediction['SecuritiesCode'].map(feature_map)\n",
    "    env.predict(sample_prediction)"
   ]
  },
  {
   "cell_type": "code",
   "execution_count": null,
   "id": "a1e987d1",
   "metadata": {
    "papermill": {
     "duration": 0.009027,
     "end_time": "2022-06-23T17:01:08.615885",
     "exception": false,
     "start_time": "2022-06-23T17:01:08.606858",
     "status": "completed"
    },
    "tags": []
   },
   "outputs": [],
   "source": []
  }
 ],
 "metadata": {
  "kernelspec": {
   "display_name": "Python 3",
   "language": "python",
   "name": "python3"
  },
  "language_info": {
   "codemirror_mode": {
    "name": "ipython",
    "version": 3
   },
   "file_extension": ".py",
   "mimetype": "text/x-python",
   "name": "python",
   "nbconvert_exporter": "python",
   "pygments_lexer": "ipython3",
   "version": "3.7.12"
  },
  "papermill": {
   "default_parameters": {},
   "duration": 2048.016662,
   "end_time": "2022-06-23T17:01:10.057206",
   "environment_variables": {},
   "exception": null,
   "input_path": "__notebook__.ipynb",
   "output_path": "__notebook__.ipynb",
   "parameters": {},
   "start_time": "2022-06-23T16:27:02.040544",
   "version": "2.3.4"
  }
 },
 "nbformat": 4,
 "nbformat_minor": 5
}
