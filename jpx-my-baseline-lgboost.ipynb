{
 "cells": [
  {
   "cell_type": "code",
   "execution_count": 1,
   "id": "28395f27",
   "metadata": {
    "_cell_guid": "b1076dfc-b9ad-4769-8c92-a6c4dae69d19",
    "_uuid": "8f2839f25d086af736a60e9eeb907d3b93b6e0e5",
    "execution": {
     "iopub.execute_input": "2022-06-21T23:48:58.888403Z",
     "iopub.status.busy": "2022-06-21T23:48:58.887641Z",
     "iopub.status.idle": "2022-06-21T23:48:58.929578Z",
     "shell.execute_reply": "2022-06-21T23:48:58.928564Z"
    },
    "papermill": {
     "duration": 0.058957,
     "end_time": "2022-06-21T23:48:58.933231",
     "exception": false,
     "start_time": "2022-06-21T23:48:58.874274",
     "status": "completed"
    },
    "tags": []
   },
   "outputs": [
    {
     "name": "stdout",
     "output_type": "stream",
     "text": [
      "/kaggle/input/jpx-tokyo-stock-exchange-prediction/stock_list.csv\n",
      "/kaggle/input/jpx-tokyo-stock-exchange-prediction/example_test_files/sample_submission.csv\n",
      "/kaggle/input/jpx-tokyo-stock-exchange-prediction/example_test_files/options.csv\n",
      "/kaggle/input/jpx-tokyo-stock-exchange-prediction/example_test_files/financials.csv\n",
      "/kaggle/input/jpx-tokyo-stock-exchange-prediction/example_test_files/secondary_stock_prices.csv\n",
      "/kaggle/input/jpx-tokyo-stock-exchange-prediction/example_test_files/trades.csv\n",
      "/kaggle/input/jpx-tokyo-stock-exchange-prediction/example_test_files/stock_prices.csv\n",
      "/kaggle/input/jpx-tokyo-stock-exchange-prediction/jpx_tokyo_market_prediction/competition.cpython-37m-x86_64-linux-gnu.so\n",
      "/kaggle/input/jpx-tokyo-stock-exchange-prediction/jpx_tokyo_market_prediction/__init__.py\n",
      "/kaggle/input/jpx-tokyo-stock-exchange-prediction/data_specifications/stock_fin_spec.csv\n",
      "/kaggle/input/jpx-tokyo-stock-exchange-prediction/data_specifications/trades_spec.csv\n",
      "/kaggle/input/jpx-tokyo-stock-exchange-prediction/data_specifications/stock_price_spec.csv\n",
      "/kaggle/input/jpx-tokyo-stock-exchange-prediction/data_specifications/options_spec.csv\n",
      "/kaggle/input/jpx-tokyo-stock-exchange-prediction/data_specifications/stock_list_spec.csv\n",
      "/kaggle/input/jpx-tokyo-stock-exchange-prediction/train_files/options.csv\n",
      "/kaggle/input/jpx-tokyo-stock-exchange-prediction/train_files/financials.csv\n",
      "/kaggle/input/jpx-tokyo-stock-exchange-prediction/train_files/secondary_stock_prices.csv\n",
      "/kaggle/input/jpx-tokyo-stock-exchange-prediction/train_files/trades.csv\n",
      "/kaggle/input/jpx-tokyo-stock-exchange-prediction/train_files/stock_prices.csv\n",
      "/kaggle/input/jpx-tokyo-stock-exchange-prediction/supplemental_files/options.csv\n",
      "/kaggle/input/jpx-tokyo-stock-exchange-prediction/supplemental_files/financials.csv\n",
      "/kaggle/input/jpx-tokyo-stock-exchange-prediction/supplemental_files/secondary_stock_prices.csv\n",
      "/kaggle/input/jpx-tokyo-stock-exchange-prediction/supplemental_files/trades.csv\n",
      "/kaggle/input/jpx-tokyo-stock-exchange-prediction/supplemental_files/stock_prices.csv\n"
     ]
    }
   ],
   "source": [
    "# This Python 3 environment comes with many helpful analytics libraries installed\n",
    "# It is defined by the kaggle/python Docker image: https://github.com/kaggle/docker-python\n",
    "# For example, here's several helpful packages to load\n",
    "\n",
    "import numpy as np # linear algebra\n",
    "import pandas as pd # data processing, CSV file I/O (e.g. pd.read_csv)\n",
    "\n",
    "# Input data files are available in the read-only \"../input/\" directory\n",
    "# For example, running this (by clicking run or pressing Shift+Enter) will list all files under the input directory\n",
    "\n",
    "import os\n",
    "for dirname, _, filenames in os.walk('/kaggle/input'):\n",
    "    for filename in filenames:\n",
    "        print(os.path.join(dirname, filename))\n",
    "\n",
    "# You can write up to 20GB to the current directory (/kaggle/working/) th\n",
    "#at gets preserved as output when you create a version using \"Save & Run All\" \n",
    "# You can also write temporary files to /kaggle/temp/, but they won't be saved outside of the current session"
   ]
  },
  {
   "cell_type": "markdown",
   "id": "d872ee64",
   "metadata": {
    "papermill": {
     "duration": 0.009535,
     "end_time": "2022-06-21T23:48:58.953165",
     "exception": false,
     "start_time": "2022-06-21T23:48:58.943630",
     "status": "completed"
    },
    "tags": []
   },
   "source": [
    "# Here starts my Baseline\n",
    "\n",
    "Ideas:\n",
    "\n",
    "1  - Feature engeneering- Basic and effective;\n",
    "\n",
    "2 - Gradient Boosting Regressions;\n",
    "\n",
    "3 - Neuronets Regressions; and\n",
    "\n",
    "4 - Submission.\n",
    "\n"
   ]
  },
  {
   "cell_type": "markdown",
   "id": "c89b2d42",
   "metadata": {
    "papermill": {
     "duration": 0.008884,
     "end_time": "2022-06-21T23:48:58.971490",
     "exception": false,
     "start_time": "2022-06-21T23:48:58.962606",
     "status": "completed"
    },
    "tags": []
   },
   "source": [
    "## 1 Feature Engeneering"
   ]
  },
  {
   "cell_type": "code",
   "execution_count": 2,
   "id": "edaf8575",
   "metadata": {
    "execution": {
     "iopub.execute_input": "2022-06-21T23:48:58.992553Z",
     "iopub.status.busy": "2022-06-21T23:48:58.991773Z",
     "iopub.status.idle": "2022-06-21T23:48:58.997647Z",
     "shell.execute_reply": "2022-06-21T23:48:58.996831Z"
    },
    "papermill": {
     "duration": 0.019913,
     "end_time": "2022-06-21T23:48:59.000608",
     "exception": false,
     "start_time": "2022-06-21T23:48:58.980695",
     "status": "completed"
    },
    "tags": []
   },
   "outputs": [],
   "source": [
    "def concat_df(df1, df2):\n",
    "    df1 = pd.concat([df1, df2],\n",
    "                    ignore_index=True, sort=False\n",
    "                    ).drop_duplicates([\"RowId\"], keep=\"first\")\n",
    "    return df1"
   ]
  },
  {
   "cell_type": "code",
   "execution_count": 3,
   "id": "59bb4c31",
   "metadata": {
    "execution": {
     "iopub.execute_input": "2022-06-21T23:48:59.024385Z",
     "iopub.status.busy": "2022-06-21T23:48:59.023604Z",
     "iopub.status.idle": "2022-06-21T23:49:09.168449Z",
     "shell.execute_reply": "2022-06-21T23:49:09.167097Z"
    },
    "papermill": {
     "duration": 10.161128,
     "end_time": "2022-06-21T23:49:09.172948",
     "exception": false,
     "start_time": "2022-06-21T23:48:59.011820",
     "status": "completed"
    },
    "tags": []
   },
   "outputs": [
    {
     "name": "stdout",
     "output_type": "stream",
     "text": [
      "<class 'pandas.core.frame.DataFrame'>\n",
      "Int64Index: 2286531 entries, 0 to 2286530\n",
      "Data columns (total 12 columns):\n",
      " #   Column            Non-Null Count    Dtype  \n",
      "---  ------            --------------    -----  \n",
      " 0   RowId             2286531 non-null  object \n",
      " 1   Date              2286531 non-null  object \n",
      " 2   SecuritiesCode    2286531 non-null  int16  \n",
      " 3   Open              2279061 non-null  float16\n",
      " 4   High              2279061 non-null  float16\n",
      " 5   Low               2279061 non-null  float16\n",
      " 6   Close             2279061 non-null  float16\n",
      " 7   Volume            2286531 non-null  int8   \n",
      " 8   AdjustmentFactor  2286531 non-null  float16\n",
      " 9   ExpectedDividend  18810 non-null    float16\n",
      " 10  SupervisionFlag   2286531 non-null  bool   \n",
      " 11  Target            2286293 non-null  float16\n",
      "dtypes: bool(1), float16(7), int16(1), int8(1), object(2)\n",
      "memory usage: 91.6+ MB\n"
     ]
    }
   ],
   "source": [
    "# For now... use pandas.... \n",
    "#If too heavy use Cudf\n",
    "\n",
    "# For now... just fix the floats\n",
    "dtypes = {\n",
    "'SecuritiesCode' :     np.int16,\n",
    "'Open'           :     np.float16,\n",
    "'High'           :     np.float16,\n",
    "'Low'            :     np.float16,\n",
    "'Close'          :     np.float16,\n",
    "'Volume'         :       np.int8,\n",
    "'AdjustmentFactor':    np.float16,\n",
    "'ExpectedDividend':    np.float16,\n",
    "'Target'        :      np.float16\n",
    "}\n",
    "path = \"../input/jpx-tokyo-stock-exchange-prediction/\"\n",
    "df_prices = pd.read_csv(f\"{path}train_files/stock_prices.csv\",dtype = dtypes)\n",
    "#prices = pd.read_csv(f\"{path}supplemental_files/stock_prices.csv\",dtype = dtypes)\n",
    "#df_prices = concat_df(df_prices, prices)\n",
    "#prices = pd.read_csv(f\"{path}train_files/secondary_stock_prices.csv\",dtype = dtypes)\n",
    "#df_prices = concat_df(df_prices, prices)\n",
    "#prices = pd.read_csv(f\"{path}supplemental_files/secondary_stock_prices.csv\",dtype = dtypes)\n",
    "#df_prices = concat_df(df_prices, prices)\n",
    "df_prices = df_prices[df_prices.Date<\"2021-11-01\"]\n",
    "df_prices.info(show_counts=True)"
   ]
  },
  {
   "cell_type": "code",
   "execution_count": 4,
   "id": "f558c6d4",
   "metadata": {
    "execution": {
     "iopub.execute_input": "2022-06-21T23:49:09.195636Z",
     "iopub.status.busy": "2022-06-21T23:49:09.195147Z",
     "iopub.status.idle": "2022-06-21T23:49:09.199625Z",
     "shell.execute_reply": "2022-06-21T23:49:09.198438Z"
    },
    "papermill": {
     "duration": 0.019226,
     "end_time": "2022-06-21T23:49:09.202503",
     "exception": false,
     "start_time": "2022-06-21T23:49:09.183277",
     "status": "completed"
    },
    "tags": []
   },
   "outputs": [],
   "source": [
    "# def prep_prices(price):\n",
    "#     price.fillna(0,inplace=True)\n",
    "#     return price"
   ]
  },
  {
   "cell_type": "code",
   "execution_count": 5,
   "id": "3423d85a",
   "metadata": {
    "execution": {
     "iopub.execute_input": "2022-06-21T23:49:09.223255Z",
     "iopub.status.busy": "2022-06-21T23:49:09.222776Z",
     "iopub.status.idle": "2022-06-21T23:49:09.228151Z",
     "shell.execute_reply": "2022-06-21T23:49:09.226984Z"
    },
    "papermill": {
     "duration": 0.018608,
     "end_time": "2022-06-21T23:49:09.230532",
     "exception": false,
     "start_time": "2022-06-21T23:49:09.211924",
     "status": "completed"
    },
    "tags": []
   },
   "outputs": [],
   "source": [
    "# df_prices = prep_prices(df_prices)\n",
    "# pd.options.display.float_format = '{:,.6g}'.format\n",
    "# df_prices.describe()"
   ]
  },
  {
   "cell_type": "code",
   "execution_count": null,
   "id": "13b71bdf",
   "metadata": {
    "papermill": {
     "duration": 0.009067,
     "end_time": "2022-06-21T23:49:09.249006",
     "exception": false,
     "start_time": "2022-06-21T23:49:09.239939",
     "status": "completed"
    },
    "tags": []
   },
   "outputs": [],
   "source": []
  },
  {
   "cell_type": "code",
   "execution_count": null,
   "id": "b56813dd",
   "metadata": {
    "papermill": {
     "duration": 0.009012,
     "end_time": "2022-06-21T23:49:09.267888",
     "exception": false,
     "start_time": "2022-06-21T23:49:09.258876",
     "status": "completed"
    },
    "tags": []
   },
   "outputs": [],
   "source": []
  },
  {
   "cell_type": "code",
   "execution_count": 6,
   "id": "5a66d744",
   "metadata": {
    "execution": {
     "iopub.execute_input": "2022-06-21T23:49:09.289399Z",
     "iopub.status.busy": "2022-06-21T23:49:09.288115Z",
     "iopub.status.idle": "2022-06-21T23:49:09.294891Z",
     "shell.execute_reply": "2022-06-21T23:49:09.294055Z"
    },
    "papermill": {
     "duration": 0.020073,
     "end_time": "2022-06-21T23:49:09.297314",
     "exception": false,
     "start_time": "2022-06-21T23:49:09.277241",
     "status": "completed"
    },
    "tags": []
   },
   "outputs": [],
   "source": [
    "from datetime import datetime\n",
    "import time\n",
    "\n",
    " # auxiliary function, from datetime to timestamp\n",
    "totimestamp = lambda s: np.int32(time.mktime(datetime.strptime(s, \"%Y-%m-%d\").timetuple()))"
   ]
  },
  {
   "cell_type": "markdown",
   "id": "4bbb0309",
   "metadata": {
    "papermill": {
     "duration": 0.009001,
     "end_time": "2022-06-21T23:49:09.315903",
     "exception": false,
     "start_time": "2022-06-21T23:49:09.306902",
     "status": "completed"
    },
    "tags": []
   },
   "source": [
    "# Data Features\n"
   ]
  },
  {
   "cell_type": "code",
   "execution_count": 7,
   "id": "ca5312da",
   "metadata": {
    "execution": {
     "iopub.execute_input": "2022-06-21T23:49:09.340561Z",
     "iopub.status.busy": "2022-06-21T23:49:09.339775Z",
     "iopub.status.idle": "2022-06-21T23:49:09.364093Z",
     "shell.execute_reply": "2022-06-21T23:49:09.362697Z"
    },
    "papermill": {
     "duration": 0.039869,
     "end_time": "2022-06-21T23:49:09.366875",
     "exception": false,
     "start_time": "2022-06-21T23:49:09.327006",
     "status": "completed"
    },
    "tags": []
   },
   "outputs": [],
   "source": [
    "\n",
    "# define function to compute log returns\n",
    "def log_return(series, periods=1):\n",
    "    return np.log(series).diff(periods=periods)\n",
    "\n",
    "\n",
    "# def fill_the_gaps(df):\n",
    "#     new_df = pd.DataFrame(columns= df.columns)\n",
    "#     for i in range(len(df['SecuritiesCode'].unique())):\n",
    "#         new_df = new_df.append(df[df['SecuritiesCode'] == i].reindex(range(df[df['SecuritiesCode'] == i].index[0],df[df['SecuritiesCode'] == i].index[-1]+60,60),method='pad'))\n",
    "#     new_df.fillna(method = 'pad', inplace = True) \n",
    "#     return new_df\n",
    "\n",
    "\n",
    "def rsiFunc(prices, n=14):\n",
    "    deltas = np.diff(prices)\n",
    "    seed = deltas[:n+1]\n",
    "    up = seed[seed>=0].sum()/n\n",
    "    down = -seed[seed<0].sum()/n\n",
    "    rs = up/down\n",
    "    rsi = np.zeros_like(prices)\n",
    "    rsi[:n] = 100. - 100./(1.+rs)\n",
    "\n",
    "    for i in range(n, len(prices)):\n",
    "        delta = deltas[i-1] # cause the diff is 1 shorter\n",
    "\n",
    "        if delta>0:\n",
    "            upval = delta\n",
    "            downval = 0.\n",
    "        else:\n",
    "            upval = 0.\n",
    "            downval = -delta\n",
    "\n",
    "        up = (up*(n-1) + upval)/n\n",
    "        down = (down*(n-1) + downval)/n\n",
    "\n",
    "        rs = up/down\n",
    "        rsi[i] = 100. - 100./(1.+rs)\n",
    "\n",
    "    return rsi\n",
    "\n",
    "\n",
    "\n",
    "def get_features(df):\n",
    "\n",
    "    df['log_return_5'] = log_return(df['Close'],periods=5)\n",
    "    df['log_return'] = log_return(df['Close'],periods=1)\n",
    "\n",
    "    upper_shadow = lambda asset: asset.High - np.maximum(asset.Close,asset.Open)\n",
    "    lower_shadow = lambda asset: np.minimum(asset.Close,asset.Open)- asset.Low\n",
    "\n",
    "    df['upper_shadow'] = upper_shadow(df)\n",
    "    df['lower_shadow'] = lower_shadow(df)\n",
    "    \n",
    "    df['EMA_21'] = df['Close'].ewm(span=21).mean()\n",
    "    \n",
    "    df['EMA_55'] = df['Close'].ewm(span=55).mean()\n",
    "    \n",
    "    df['EMA_315'] = df['Close'].ewm(span=315).mean()\n",
    "    \n",
    "    df['EMA_825'] = df['Close'].ewm(span=825).mean()\n",
    "    \n",
    "    window = 7\n",
    "    \n",
    "    no_of_std = 2\n",
    "    \n",
    "    df[f'EMA_{window}'] = df['Close'].ewm(span=window).mean()\n",
    "    \n",
    "    df[f'EMA_{window}_std'] = df['Close'].rolling(window=window).std()\n",
    "    \n",
    "    df[f'EMA_{window}_BB_high'] = df[f'EMA_{window}'] + no_of_std * df[f'EMA_{window}_std']\n",
    "    \n",
    "    df[f'MA_{window}MA_BB_low'] = df[f'EMA_{window}'] - no_of_std * df[f'EMA_{window}_std']\n",
    "    \n",
    "    window = 5\n",
    "    \n",
    "    df[f'EMA_{window}'] = df['Close'].ewm(span=window).mean()\n",
    "    \n",
    "    df[f'EMA_{window}_std'] = df['Close'].rolling(window=window).std()\n",
    "    \n",
    "    df[f'EMA_{window}_BB_high'] = df[f'EMA_{window}'] + no_of_std * df[f'EMA_{window}_std']\n",
    "    \n",
    "    df[f'MA_{window}MA_BB_low'] = df[f'EMA_{window}'] - no_of_std * df[f'EMA_{window}_std']\n",
    "    \n",
    "    df['MACD'] = df['EMA_7'] - df['EMA_5']\n",
    "    \n",
    "    \n",
    "    df['rsi_5'] = rsiFunc(df['Close'].values, 5)\n",
    "    \n",
    "    df['rsi_7'] = rsiFunc(df['Close'].values, 7)\n",
    "    \n",
    "    df['rsi_21'] = rsiFunc(df['Close'].values, 21)\n",
    "    \n",
    "    \n",
    "    \n",
    "    df['VWAP'] = (df['Close'] * df['Volume'])/ df['Volume']\n",
    "\n",
    "\n",
    "\n",
    "\n",
    "    \n",
    "    \n",
    "    #df = pd.concat([df, pd.get_dummies(df['Asset_ID'], prefix= 'Asset_')], axis=1)\n",
    "    \n",
    "    df[['log_return_5', 'log_return', 'upper_shadow', 'lower_shadow',\n",
    "       'EMA_21', 'EMA_55', 'EMA_315', 'EMA_825', 'EMA_7', 'EMA_7_std',\n",
    "       'EMA_7_BB_high', 'MA_7MA_BB_low', 'EMA_5', 'EMA_5_std', 'EMA_5_BB_high',\n",
    "       'MA_5MA_BB_low', 'MACD', 'rsi_5', 'rsi_7', 'rsi_21']].astype('float16')\n",
    "    \n",
    "    return df\n",
    "\n"
   ]
  },
  {
   "cell_type": "code",
   "execution_count": 8,
   "id": "898bf7b3",
   "metadata": {
    "execution": {
     "iopub.execute_input": "2022-06-21T23:49:09.388305Z",
     "iopub.status.busy": "2022-06-21T23:49:09.387856Z",
     "iopub.status.idle": "2022-06-21T23:50:06.852490Z",
     "shell.execute_reply": "2022-06-21T23:50:06.851382Z"
    },
    "papermill": {
     "duration": 57.478859,
     "end_time": "2022-06-21T23:50:06.855302",
     "exception": false,
     "start_time": "2022-06-21T23:49:09.376443",
     "status": "completed"
    },
    "tags": []
   },
   "outputs": [
    {
     "name": "stderr",
     "output_type": "stream",
     "text": [
      "/opt/conda/lib/python3.7/site-packages/pandas/core/algorithms.py:1711: RuntimeWarning: invalid value encountered in subtract\n",
      "  out_arr[res_indexer] = op(arr[res_indexer], arr[lag_indexer])\n",
      "/opt/conda/lib/python3.7/site-packages/numpy/lib/function_base.py:1292: RuntimeWarning: invalid value encountered in subtract\n",
      "  a = op(a[slice1], a[slice2])\n"
     ]
    }
   ],
   "source": [
    "#sort the database per stock before running the feature function\n",
    "df_prices = df_prices.sort_values('SecuritiesCode')\n",
    "\n",
    "df_prices = get_features(df_prices)\n",
    "\n",
    "df_prices = df_prices.replace((np.inf, -np.inf, np.nan), 0).reset_index(drop=True)\n",
    "\n",
    "df_prices = df_prices.fillna(0)"
   ]
  },
  {
   "cell_type": "code",
   "execution_count": null,
   "id": "83667aac",
   "metadata": {
    "papermill": {
     "duration": 0.009204,
     "end_time": "2022-06-21T23:50:06.874644",
     "exception": false,
     "start_time": "2022-06-21T23:50:06.865440",
     "status": "completed"
    },
    "tags": []
   },
   "outputs": [],
   "source": []
  },
  {
   "cell_type": "code",
   "execution_count": null,
   "id": "eec82611",
   "metadata": {
    "papermill": {
     "duration": 0.009667,
     "end_time": "2022-06-21T23:50:06.894010",
     "exception": false,
     "start_time": "2022-06-21T23:50:06.884343",
     "status": "completed"
    },
    "tags": []
   },
   "outputs": [],
   "source": []
  },
  {
   "cell_type": "markdown",
   "id": "9d64b6ff",
   "metadata": {
    "papermill": {
     "duration": 0.00913,
     "end_time": "2022-06-21T23:50:06.912707",
     "exception": false,
     "start_time": "2022-06-21T23:50:06.903577",
     "status": "completed"
    },
    "tags": []
   },
   "source": [
    "## Training a Simple Model\n",
    "\n",
    "Xgboost"
   ]
  },
  {
   "cell_type": "code",
   "execution_count": null,
   "id": "50df72fd",
   "metadata": {
    "papermill": {
     "duration": 0.009026,
     "end_time": "2022-06-21T23:50:06.931437",
     "exception": false,
     "start_time": "2022-06-21T23:50:06.922411",
     "status": "completed"
    },
    "tags": []
   },
   "outputs": [],
   "source": []
  },
  {
   "cell_type": "code",
   "execution_count": 9,
   "id": "1bbf01aa",
   "metadata": {
    "execution": {
     "iopub.execute_input": "2022-06-21T23:50:06.952695Z",
     "iopub.status.busy": "2022-06-21T23:50:06.952203Z",
     "iopub.status.idle": "2022-06-21T23:50:09.336072Z",
     "shell.execute_reply": "2022-06-21T23:50:09.334835Z"
    },
    "papermill": {
     "duration": 2.398828,
     "end_time": "2022-06-21T23:50:09.339824",
     "exception": false,
     "start_time": "2022-06-21T23:50:06.940996",
     "status": "completed"
    },
    "tags": []
   },
   "outputs": [
    {
     "data": {
      "text/html": [
       "<style type='text/css'>\n",
       ".datatable table.frame { margin-bottom: 0; }\n",
       ".datatable table.frame thead { border-bottom: none; }\n",
       ".datatable table.frame tr.coltypes td {  color: #FFFFFF;  line-height: 6px;  padding: 0 0.5em;}\n",
       ".datatable .bool    { background: #DDDD99; }\n",
       ".datatable .object  { background: #565656; }\n",
       ".datatable .int     { background: #5D9E5D; }\n",
       ".datatable .float   { background: #4040CC; }\n",
       ".datatable .str     { background: #CC4040; }\n",
       ".datatable .time    { background: #40CC40; }\n",
       ".datatable .row_index {  background: var(--jp-border-color3);  border-right: 1px solid var(--jp-border-color0);  color: var(--jp-ui-font-color3);  font-size: 9px;}\n",
       ".datatable .frame tbody td { text-align: left; }\n",
       ".datatable .frame tr.coltypes .row_index {  background: var(--jp-border-color0);}\n",
       ".datatable th:nth-child(2) { padding-left: 12px; }\n",
       ".datatable .hellipsis {  color: var(--jp-cell-editor-border-color);}\n",
       ".datatable .vellipsis {  background: var(--jp-layout-color0);  color: var(--jp-cell-editor-border-color);}\n",
       ".datatable .na {  color: var(--jp-cell-editor-border-color);  font-size: 80%;}\n",
       ".datatable .sp {  opacity: 0.25;}\n",
       ".datatable .footer { font-size: 9px; }\n",
       ".datatable .frame_dimensions {  background: var(--jp-border-color3);  border-top: 1px solid var(--jp-border-color0);  color: var(--jp-ui-font-color3);  display: inline-block;  opacity: 0.6;  padding: 1px 10px 1px 5px;}\n",
       "</style>\n"
      ],
      "text/plain": [
       "<IPython.core.display.HTML object>"
      ]
     },
     "metadata": {},
     "output_type": "display_data"
    }
   ],
   "source": [
    "from lightgbm import LGBMRegressor\n",
    "from sklearn.preprocessing import StandardScaler\n",
    "scaler = StandardScaler()"
   ]
  },
  {
   "cell_type": "code",
   "execution_count": 10,
   "id": "67f6639b",
   "metadata": {
    "execution": {
     "iopub.execute_input": "2022-06-21T23:50:09.362411Z",
     "iopub.status.busy": "2022-06-21T23:50:09.361653Z",
     "iopub.status.idle": "2022-06-21T23:50:09.368893Z",
     "shell.execute_reply": "2022-06-21T23:50:09.367748Z"
    },
    "papermill": {
     "duration": 0.021474,
     "end_time": "2022-06-21T23:50:09.371309",
     "exception": false,
     "start_time": "2022-06-21T23:50:09.349835",
     "status": "completed"
    },
    "tags": []
   },
   "outputs": [],
   "source": [
    "def model_training(X,y):\n",
    "    # Model training\n",
    "    \n",
    "    model = LGBMRegressor(n_estimators=5000,num_leaves=700,learning_rate=0.1) #, device_type = 'gpu' for allowing GPU\n",
    "    model.fit(X, y)\n",
    "    \n",
    "    return model\n"
   ]
  },
  {
   "cell_type": "code",
   "execution_count": 11,
   "id": "1253ee04",
   "metadata": {
    "execution": {
     "iopub.execute_input": "2022-06-21T23:50:09.395398Z",
     "iopub.status.busy": "2022-06-21T23:50:09.394568Z",
     "iopub.status.idle": "2022-06-21T23:50:09.402825Z",
     "shell.execute_reply": "2022-06-21T23:50:09.401773Z"
    },
    "papermill": {
     "duration": 0.023408,
     "end_time": "2022-06-21T23:50:09.405230",
     "exception": false,
     "start_time": "2022-06-21T23:50:09.381822",
     "status": "completed"
    },
    "tags": []
   },
   "outputs": [],
   "source": [
    "scaled_features = ['Open', 'High', 'Low', 'Close', 'Volume','log_return_5', 'log_return', 'upper_shadow', 'lower_shadow',\n",
    "       'EMA_21', 'EMA_55', 'EMA_315', 'EMA_825', 'EMA_7', 'EMA_7_std',\n",
    "       'EMA_7_BB_high', 'MA_7MA_BB_low', 'EMA_5', 'EMA_5_std', 'EMA_5_BB_high',\n",
    "       'MA_5MA_BB_low', 'MACD', 'rsi_5', 'rsi_7', 'rsi_21']\n",
    "features = [\"SecuritiesCode\",'Open', 'High', 'Low', 'Close', 'Volume', 'log_return_5', 'log_return', 'upper_shadow', 'lower_shadow',\n",
    "       'EMA_21', 'EMA_55', 'EMA_315', 'EMA_825', 'EMA_7', 'EMA_7_std',\n",
    "       'EMA_7_BB_high', 'MA_7MA_BB_low', 'EMA_5', 'EMA_5_std', 'EMA_5_BB_high',\n",
    "       'MA_5MA_BB_low', 'MACD', 'rsi_5', 'rsi_7', 'rsi_21']"
   ]
  },
  {
   "cell_type": "code",
   "execution_count": 12,
   "id": "8329905c",
   "metadata": {
    "execution": {
     "iopub.execute_input": "2022-06-21T23:50:09.428608Z",
     "iopub.status.busy": "2022-06-21T23:50:09.427695Z",
     "iopub.status.idle": "2022-06-21T23:50:10.018034Z",
     "shell.execute_reply": "2022-06-21T23:50:10.017063Z"
    },
    "papermill": {
     "duration": 0.605537,
     "end_time": "2022-06-21T23:50:10.020750",
     "exception": false,
     "start_time": "2022-06-21T23:50:09.415213",
     "status": "completed"
    },
    "tags": []
   },
   "outputs": [],
   "source": [
    "# Creating endog and exog variables\n",
    "y = df_prices[['Target']]\n",
    "X = df_prices[features]"
   ]
  },
  {
   "cell_type": "code",
   "execution_count": 13,
   "id": "68309a8d",
   "metadata": {
    "execution": {
     "iopub.execute_input": "2022-06-21T23:50:10.043609Z",
     "iopub.status.busy": "2022-06-21T23:50:10.043158Z",
     "iopub.status.idle": "2022-06-21T23:50:12.281848Z",
     "shell.execute_reply": "2022-06-21T23:50:12.280599Z"
    },
    "papermill": {
     "duration": 2.25388,
     "end_time": "2022-06-21T23:50:12.284588",
     "exception": false,
     "start_time": "2022-06-21T23:50:10.030708",
     "status": "completed"
    },
    "tags": []
   },
   "outputs": [
    {
     "name": "stderr",
     "output_type": "stream",
     "text": [
      "/opt/conda/lib/python3.7/site-packages/pandas/core/frame.py:3678: SettingWithCopyWarning: \n",
      "A value is trying to be set on a copy of a slice from a DataFrame.\n",
      "Try using .loc[row_indexer,col_indexer] = value instead\n",
      "\n",
      "See the caveats in the documentation: https://pandas.pydata.org/pandas-docs/stable/user_guide/indexing.html#returning-a-view-versus-a-copy\n",
      "  self[col] = igetitem(value, i)\n"
     ]
    }
   ],
   "source": [
    "X[scaled_features] = scaler.fit_transform(X[scaled_features])\n"
   ]
  },
  {
   "cell_type": "code",
   "execution_count": null,
   "id": "bb2cac3d",
   "metadata": {
    "papermill": {
     "duration": 0.009747,
     "end_time": "2022-06-21T23:50:12.304272",
     "exception": false,
     "start_time": "2022-06-21T23:50:12.294525",
     "status": "completed"
    },
    "tags": []
   },
   "outputs": [],
   "source": []
  },
  {
   "cell_type": "code",
   "execution_count": 14,
   "id": "c66ebd7b",
   "metadata": {
    "execution": {
     "iopub.execute_input": "2022-06-21T23:50:12.325569Z",
     "iopub.status.busy": "2022-06-21T23:50:12.324905Z",
     "iopub.status.idle": "2022-06-22T00:01:45.847374Z",
     "shell.execute_reply": "2022-06-22T00:01:45.845659Z"
    },
    "papermill": {
     "duration": 693.550385,
     "end_time": "2022-06-22T00:01:45.864202",
     "exception": false,
     "start_time": "2022-06-21T23:50:12.313817",
     "status": "completed"
    },
    "tags": []
   },
   "outputs": [
    {
     "name": "stdout",
     "output_type": "stream",
     "text": [
      "CPU times: user 44min 32s, sys: 26.2 s, total: 44min 58s\n",
      "Wall time: 11min 33s\n"
     ]
    }
   ],
   "source": [
    "%%time\n",
    "\n",
    "model_1 = model_training(X,y)"
   ]
  },
  {
   "cell_type": "code",
   "execution_count": 15,
   "id": "acf9cf0c",
   "metadata": {
    "execution": {
     "iopub.execute_input": "2022-06-22T00:01:45.886831Z",
     "iopub.status.busy": "2022-06-22T00:01:45.886253Z",
     "iopub.status.idle": "2022-06-22T00:14:58.007977Z",
     "shell.execute_reply": "2022-06-22T00:14:58.006469Z"
    },
    "papermill": {
     "duration": 792.14941,
     "end_time": "2022-06-22T00:14:58.023493",
     "exception": false,
     "start_time": "2022-06-22T00:01:45.874083",
     "status": "completed"
    },
    "tags": []
   },
   "outputs": [
    {
     "data": {
      "text/plain": [
       "0.8191173533916107"
      ]
     },
     "execution_count": 15,
     "metadata": {},
     "output_type": "execute_result"
    }
   ],
   "source": [
    "model_1.score(X,y)"
   ]
  },
  {
   "cell_type": "code",
   "execution_count": 16,
   "id": "4c7c27aa",
   "metadata": {
    "execution": {
     "iopub.execute_input": "2022-06-22T00:14:58.047568Z",
     "iopub.status.busy": "2022-06-22T00:14:58.047071Z",
     "iopub.status.idle": "2022-06-22T00:14:58.053876Z",
     "shell.execute_reply": "2022-06-22T00:14:58.052312Z"
    },
    "papermill": {
     "duration": 0.022945,
     "end_time": "2022-06-22T00:14:58.056447",
     "exception": false,
     "start_time": "2022-06-22T00:14:58.033502",
     "status": "completed"
    },
    "tags": []
   },
   "outputs": [],
   "source": [
    "import pickle"
   ]
  },
  {
   "cell_type": "code",
   "execution_count": 17,
   "id": "a38aad76",
   "metadata": {
    "execution": {
     "iopub.execute_input": "2022-06-22T00:14:58.081050Z",
     "iopub.status.busy": "2022-06-22T00:14:58.080092Z",
     "iopub.status.idle": "2022-06-22T00:15:18.441502Z",
     "shell.execute_reply": "2022-06-22T00:15:18.440594Z"
    },
    "papermill": {
     "duration": 20.377472,
     "end_time": "2022-06-22T00:15:18.444141",
     "exception": false,
     "start_time": "2022-06-22T00:14:58.066669",
     "status": "completed"
    },
    "tags": []
   },
   "outputs": [],
   "source": [
    "# Saving model\n",
    "\n",
    "#Saving the booster\n",
    "model_1.booster_.save_model('simple_LGBM.txt')\n",
    "\n",
    "#Saving the sklearn model\n",
    "\n",
    "filename = 'simple_LGBM.sav'\n",
    "pickle.dump(model_1, open(filename, 'wb'))"
   ]
  },
  {
   "cell_type": "markdown",
   "id": "396534b4",
   "metadata": {
    "papermill": {
     "duration": 0.013502,
     "end_time": "2022-06-22T00:15:18.468774",
     "exception": false,
     "start_time": "2022-06-22T00:15:18.455272",
     "status": "completed"
    },
    "tags": []
   },
   "source": [
    "# Submission\n"
   ]
  },
  {
   "cell_type": "code",
   "execution_count": 18,
   "id": "94016701",
   "metadata": {
    "execution": {
     "iopub.execute_input": "2022-06-22T00:15:18.511603Z",
     "iopub.status.busy": "2022-06-22T00:15:18.510505Z",
     "iopub.status.idle": "2022-06-22T00:15:18.523239Z",
     "shell.execute_reply": "2022-06-22T00:15:18.521859Z"
    },
    "papermill": {
     "duration": 0.039239,
     "end_time": "2022-06-22T00:15:18.527477",
     "exception": false,
     "start_time": "2022-06-22T00:15:18.488238",
     "status": "completed"
    },
    "tags": []
   },
   "outputs": [],
   "source": [
    "# def calc_spread_return_per_day(df, portfolio_size, toprank_weight_ratio):\n",
    "#     \"\"\"\n",
    "#     Args:\n",
    "#         df (pd.DataFrame): predicted results\n",
    "#         portfolio_size (int): # of equities to buy/sell\n",
    "#         toprank_weight_ratio (float): the relative weight of the most highly ranked stock compared to the least.\n",
    "#     Returns:\n",
    "#         (float): spread return\n",
    "#     \"\"\"\n",
    "#     assert df['Rank'].min() == 0\n",
    "#     assert df['Rank'].max() == len(df['Rank']) - 1\n",
    "#     weights = np.linspace(start=toprank_weight_ratio, stop=1, num=portfolio_size)\n",
    "#     purchase = (df.sort_values(by='Rank')['Target'][:portfolio_size] * weights).sum() / weights.mean()\n",
    "#     short = (df.sort_values(by='Rank', ascending=False)['Target'][:portfolio_size] * weights).sum() / weights.mean()\n",
    "#     return purchase - short\n",
    "\n",
    "# def calc_spread_return_sharpe(df: pd.DataFrame, portfolio_size: int = 200, toprank_weight_ratio: float = 2) -> float:\n",
    "#     \"\"\"\n",
    "#     Args:\n",
    "#         df (pd.DataFrame): predicted results\n",
    "#         portfolio_size (int): # of equities to buy/sell\n",
    "#         toprank_weight_ratio (float): the relative weight of the most highly ranked stock compared to the least.\n",
    "#     Returns:\n",
    "#         (float): sharpe ratio\n",
    "#     \"\"\"\n",
    "#     buf = df.groupby('Date').apply(calc_spread_return_per_day, portfolio_size, toprank_weight_ratio)\n",
    "#     sharpe_ratio = buf.mean() / buf.std()\n",
    "#     return sharpe_ratio, buf\n",
    "\n",
    "def add_rank(df, col_name=\"pred\"):\n",
    "    df[\"Rank\"] = df.groupby(\"Date\")[col_name].rank(ascending=False, method=\"first\") - 1 \n",
    "    df[\"Rank\"] = df[\"Rank\"].astype(\"int\")\n",
    "    return df"
   ]
  },
  {
   "cell_type": "code",
   "execution_count": 19,
   "id": "e36b646b",
   "metadata": {
    "execution": {
     "iopub.execute_input": "2022-06-22T00:15:18.580797Z",
     "iopub.status.busy": "2022-06-22T00:15:18.579242Z",
     "iopub.status.idle": "2022-06-22T00:15:18.588923Z",
     "shell.execute_reply": "2022-06-22T00:15:18.587845Z"
    },
    "papermill": {
     "duration": 0.041711,
     "end_time": "2022-06-22T00:15:18.591631",
     "exception": false,
     "start_time": "2022-06-22T00:15:18.549920",
     "status": "completed"
    },
    "tags": []
   },
   "outputs": [],
   "source": [
    "# # By Yuike - https://www.kaggle.com/code/ikeppyo/examples-of-higher-scores-than-perfect-predictions\n",
    "\n",
    "# # This function adjusts the predictions so that the daily spread return approaches a certain value.\n",
    "# def adjuster(df):\n",
    "#     def calc_pred(df, x, y, z):\n",
    "#         return df['Target'].where(df['Target'].abs() < x, df['Target'] * y + np.sign(df['Target']) * z)\n",
    "\n",
    "#     def objective(trial, df):\n",
    "#         x = trial.suggest_uniform('x', 0, 0.2)\n",
    "#         y = trial.suggest_uniform('y', 0, 0.1)\n",
    "#         z = trial.suggest_uniform('z', 0, 1e-3)\n",
    "#         df[\"Rank\"] = calc_pred(df, x, y, z).rank(ascending=False, method=\"first\") - 1 \n",
    "#         df[\"Rank\"] = df[\"Rank\"].astype(\"int\")\n",
    "#         return calc_spread_return_per_day(df, 200, 2)\n",
    "    \n",
    "#     def predictor_per_day(df):\n",
    "#         study = optuna.create_study(direction='minimize', sampler=optuna.samplers.TPESampler(seed=2022))\n",
    "#         study.optimize(lambda trial: abs(objective(trial, df) - 10), 10)\n",
    "#         return calc_pred(df, *study.best_params.values())\n",
    "\n",
    "#     return df.groupby(\"Date\").apply(predictor_per_day).reset_index(level=0, drop=True)\n",
    "\n",
    "# def _predictor_base(feature_df):\n",
    "#     return model.predict(feature_df[feats])\n",
    "\n",
    "# def _predictor_with_adjuster(feature_df):\n",
    "#     feature_df[\"Target\"] = model.predict(feature_df[feats])\n",
    "#     return adjuster(feature_df)"
   ]
  },
  {
   "cell_type": "code",
   "execution_count": 20,
   "id": "b8f71a5f",
   "metadata": {
    "execution": {
     "iopub.execute_input": "2022-06-22T00:15:18.621401Z",
     "iopub.status.busy": "2022-06-22T00:15:18.620752Z",
     "iopub.status.idle": "2022-06-22T00:15:18.626667Z",
     "shell.execute_reply": "2022-06-22T00:15:18.625513Z"
    },
    "papermill": {
     "duration": 0.024112,
     "end_time": "2022-06-22T00:15:18.630081",
     "exception": false,
     "start_time": "2022-06-22T00:15:18.605969",
     "status": "completed"
    },
    "tags": []
   },
   "outputs": [],
   "source": [
    "# predictor = _predictor_with_adjuster"
   ]
  },
  {
   "cell_type": "code",
   "execution_count": 21,
   "id": "28907275",
   "metadata": {
    "execution": {
     "iopub.execute_input": "2022-06-22T00:15:18.658684Z",
     "iopub.status.busy": "2022-06-22T00:15:18.657655Z",
     "iopub.status.idle": "2022-06-22T00:15:20.785576Z",
     "shell.execute_reply": "2022-06-22T00:15:20.784512Z"
    },
    "papermill": {
     "duration": 2.143197,
     "end_time": "2022-06-22T00:15:20.788043",
     "exception": false,
     "start_time": "2022-06-22T00:15:18.644846",
     "status": "completed"
    },
    "tags": []
   },
   "outputs": [
    {
     "name": "stdout",
     "output_type": "stream",
     "text": [
      "This version of the API is not optimized and should not be used to estimate the runtime of your code on the hidden test set.\n"
     ]
    }
   ],
   "source": [
    "import jpx_tokyo_market_prediction\n",
    "\n",
    "\n",
    "env = jpx_tokyo_market_prediction.make_env()   # initialize the environment\n",
    "iter_test = env.iter_test()    # an iterator which loops over the test files\n",
    "for (prices, options, financials, trades, secondary_prices, sample_prediction) in iter_test:\n",
    "    prices = get_features(prices)\n",
    "    prices = prices.replace((np.inf, -np.inf, np.nan), 0).reset_index(drop=True)\n",
    "    prices = prices.fillna(0)\n",
    "    prices[scaled_features] = scaler.fit_transform(prices[scaled_features])\n",
    "    prices['pred'] = model_1.predict(prices[features])\n",
    "    prices = add_rank(prices)\n",
    "    feature_map = prices.set_index('SecuritiesCode')['Rank'].to_dict()\n",
    "    sample_prediction['Rank'] = sample_prediction['SecuritiesCode'].map(feature_map)\n",
    "    env.predict(sample_prediction)"
   ]
  },
  {
   "cell_type": "code",
   "execution_count": null,
   "id": "520f917a",
   "metadata": {
    "papermill": {
     "duration": 0.00981,
     "end_time": "2022-06-22T00:15:20.808208",
     "exception": false,
     "start_time": "2022-06-22T00:15:20.798398",
     "status": "completed"
    },
    "tags": []
   },
   "outputs": [],
   "source": []
  }
 ],
 "metadata": {
  "kernelspec": {
   "display_name": "Python 3",
   "language": "python",
   "name": "python3"
  },
  "language_info": {
   "codemirror_mode": {
    "name": "ipython",
    "version": 3
   },
   "file_extension": ".py",
   "mimetype": "text/x-python",
   "name": "python",
   "nbconvert_exporter": "python",
   "pygments_lexer": "ipython3",
   "version": "3.7.12"
  },
  "papermill": {
   "default_parameters": {},
   "duration": 1596.586896,
   "end_time": "2022-06-22T00:15:22.650954",
   "environment_variables": {},
   "exception": null,
   "input_path": "__notebook__.ipynb",
   "output_path": "__notebook__.ipynb",
   "parameters": {},
   "start_time": "2022-06-21T23:48:46.064058",
   "version": "2.3.4"
  }
 },
 "nbformat": 4,
 "nbformat_minor": 5
}
