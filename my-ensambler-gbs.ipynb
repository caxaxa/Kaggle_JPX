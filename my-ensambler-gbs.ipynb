{
 "cells": [
  {
   "cell_type": "code",
   "execution_count": 1,
   "id": "279d5045",
   "metadata": {
    "_cell_guid": "b1076dfc-b9ad-4769-8c92-a6c4dae69d19",
    "_uuid": "8f2839f25d086af736a60e9eeb907d3b93b6e0e5",
    "execution": {
     "iopub.execute_input": "2022-06-23T00:34:13.027540Z",
     "iopub.status.busy": "2022-06-23T00:34:13.026686Z",
     "iopub.status.idle": "2022-06-23T00:34:13.086971Z",
     "shell.execute_reply": "2022-06-23T00:34:13.086037Z"
    },
    "papermill": {
     "duration": 0.072172,
     "end_time": "2022-06-23T00:34:13.090596",
     "exception": false,
     "start_time": "2022-06-23T00:34:13.018424",
     "status": "completed"
    },
    "tags": []
   },
   "outputs": [
    {
     "name": "stdout",
     "output_type": "stream",
     "text": [
      "/kaggle/input/jpx-my-baseline-lgboost/__results__.html\n",
      "/kaggle/input/jpx-my-baseline-lgboost/simple_LGBM.txt\n",
      "/kaggle/input/jpx-my-baseline-lgboost/simple_LGBM.sav\n",
      "/kaggle/input/jpx-my-baseline-lgboost/submission.csv\n",
      "/kaggle/input/jpx-my-baseline-lgboost/__notebook__.ipynb\n",
      "/kaggle/input/jpx-my-baseline-lgboost/__output__.json\n",
      "/kaggle/input/jpx-my-baseline-lgboost/custom.css\n",
      "/kaggle/input/jpx-my-baseline-dnn/__results__.html\n",
      "/kaggle/input/jpx-my-baseline-dnn/submission.csv\n",
      "/kaggle/input/jpx-my-baseline-dnn/__notebook__.ipynb\n",
      "/kaggle/input/jpx-my-baseline-dnn/__output__.json\n",
      "/kaggle/input/jpx-my-baseline-dnn/model.png\n",
      "/kaggle/input/jpx-my-baseline-dnn/custom.css\n",
      "/kaggle/input/jpx-my-baseline-dnn/spx_toy_model.tf/saved_model.pb\n",
      "/kaggle/input/jpx-my-baseline-dnn/spx_toy_model.tf/keras_metadata.pb\n",
      "/kaggle/input/jpx-my-baseline-dnn/spx_toy_model.tf/variables/variables.index\n",
      "/kaggle/input/jpx-my-baseline-dnn/spx_toy_model.tf/variables/variables.data-00000-of-00001\n",
      "/kaggle/input/jpx-my-baseline-dnn/__results___files/__results___39_0.png\n",
      "/kaggle/input/jpx-tokyo-stock-exchange-prediction/stock_list.csv\n",
      "/kaggle/input/jpx-tokyo-stock-exchange-prediction/example_test_files/sample_submission.csv\n",
      "/kaggle/input/jpx-tokyo-stock-exchange-prediction/example_test_files/options.csv\n",
      "/kaggle/input/jpx-tokyo-stock-exchange-prediction/example_test_files/financials.csv\n",
      "/kaggle/input/jpx-tokyo-stock-exchange-prediction/example_test_files/secondary_stock_prices.csv\n",
      "/kaggle/input/jpx-tokyo-stock-exchange-prediction/example_test_files/trades.csv\n",
      "/kaggle/input/jpx-tokyo-stock-exchange-prediction/example_test_files/stock_prices.csv\n",
      "/kaggle/input/jpx-tokyo-stock-exchange-prediction/jpx_tokyo_market_prediction/competition.cpython-37m-x86_64-linux-gnu.so\n",
      "/kaggle/input/jpx-tokyo-stock-exchange-prediction/jpx_tokyo_market_prediction/__init__.py\n",
      "/kaggle/input/jpx-tokyo-stock-exchange-prediction/data_specifications/stock_fin_spec.csv\n",
      "/kaggle/input/jpx-tokyo-stock-exchange-prediction/data_specifications/trades_spec.csv\n",
      "/kaggle/input/jpx-tokyo-stock-exchange-prediction/data_specifications/stock_price_spec.csv\n",
      "/kaggle/input/jpx-tokyo-stock-exchange-prediction/data_specifications/options_spec.csv\n",
      "/kaggle/input/jpx-tokyo-stock-exchange-prediction/data_specifications/stock_list_spec.csv\n",
      "/kaggle/input/jpx-tokyo-stock-exchange-prediction/train_files/options.csv\n",
      "/kaggle/input/jpx-tokyo-stock-exchange-prediction/train_files/financials.csv\n",
      "/kaggle/input/jpx-tokyo-stock-exchange-prediction/train_files/secondary_stock_prices.csv\n",
      "/kaggle/input/jpx-tokyo-stock-exchange-prediction/train_files/trades.csv\n",
      "/kaggle/input/jpx-tokyo-stock-exchange-prediction/train_files/stock_prices.csv\n",
      "/kaggle/input/jpx-tokyo-stock-exchange-prediction/supplemental_files/options.csv\n",
      "/kaggle/input/jpx-tokyo-stock-exchange-prediction/supplemental_files/financials.csv\n",
      "/kaggle/input/jpx-tokyo-stock-exchange-prediction/supplemental_files/secondary_stock_prices.csv\n",
      "/kaggle/input/jpx-tokyo-stock-exchange-prediction/supplemental_files/trades.csv\n",
      "/kaggle/input/jpx-tokyo-stock-exchange-prediction/supplemental_files/stock_prices.csv\n",
      "/kaggle/input/jpx-my-baseline-skgb/__results__.html\n",
      "/kaggle/input/jpx-my-baseline-skgb/simple_skgb.sav\n",
      "/kaggle/input/jpx-my-baseline-skgb/submission.csv\n",
      "/kaggle/input/jpx-my-baseline-skgb/__notebook__.ipynb\n",
      "/kaggle/input/jpx-my-baseline-skgb/__output__.json\n",
      "/kaggle/input/jpx-my-baseline-skgb/custom.css\n",
      "/kaggle/input/jpx-my-baseline-xgboost/simple_xgb.txt\n",
      "/kaggle/input/jpx-my-baseline-xgboost/__results__.html\n",
      "/kaggle/input/jpx-my-baseline-xgboost/submission.csv\n",
      "/kaggle/input/jpx-my-baseline-xgboost/__notebook__.ipynb\n",
      "/kaggle/input/jpx-my-baseline-xgboost/__output__.json\n",
      "/kaggle/input/jpx-my-baseline-xgboost/simple_xgb.sav\n",
      "/kaggle/input/jpx-my-baseline-xgboost/custom.css\n"
     ]
    }
   ],
   "source": [
    "# importing Relevant Packages\n",
    "import numpy as np \n",
    "import pandas as pd \n",
    "import gc\n",
    "import pickle\n",
    "\n",
    "import os\n",
    "for dirname, _, filenames in os.walk('/kaggle/input'):\n",
    "    for filename in filenames:\n",
    "        print(os.path.join(dirname, filename))\n"
   ]
  },
  {
   "cell_type": "markdown",
   "id": "52f668fe",
   "metadata": {
    "papermill": {
     "duration": 0.004604,
     "end_time": "2022-06-23T00:34:13.100574",
     "exception": false,
     "start_time": "2022-06-23T00:34:13.095970",
     "status": "completed"
    },
    "tags": []
   },
   "source": [
    "## Loading the Gradient Boosting Regression Models "
   ]
  },
  {
   "cell_type": "code",
   "execution_count": 2,
   "id": "eaba469a",
   "metadata": {
    "execution": {
     "iopub.execute_input": "2022-06-23T00:34:13.112875Z",
     "iopub.status.busy": "2022-06-23T00:34:13.112115Z",
     "iopub.status.idle": "2022-06-23T00:34:21.881397Z",
     "shell.execute_reply": "2022-06-23T00:34:21.880264Z"
    },
    "papermill": {
     "duration": 8.778921,
     "end_time": "2022-06-23T00:34:21.884429",
     "exception": false,
     "start_time": "2022-06-23T00:34:13.105508",
     "status": "completed"
    },
    "tags": []
   },
   "outputs": [
    {
     "name": "stdout",
     "output_type": "stream",
     "text": [
      "[00:34:15] WARNING: ../src/gbm/gbtree.cc:390: Loading from a raw memory buffer on CPU only machine.  Changing tree_method to hist.\n",
      "[00:34:15] WARNING: ../src/learner.cc:248: No visible GPU is found, setting `gpu_id` to -1\n"
     ]
    },
    {
     "data": {
      "text/html": [
       "<style type='text/css'>\n",
       ".datatable table.frame { margin-bottom: 0; }\n",
       ".datatable table.frame thead { border-bottom: none; }\n",
       ".datatable table.frame tr.coltypes td {  color: #FFFFFF;  line-height: 6px;  padding: 0 0.5em;}\n",
       ".datatable .bool    { background: #DDDD99; }\n",
       ".datatable .object  { background: #565656; }\n",
       ".datatable .int     { background: #5D9E5D; }\n",
       ".datatable .float   { background: #4040CC; }\n",
       ".datatable .str     { background: #CC4040; }\n",
       ".datatable .time    { background: #40CC40; }\n",
       ".datatable .row_index {  background: var(--jp-border-color3);  border-right: 1px solid var(--jp-border-color0);  color: var(--jp-ui-font-color3);  font-size: 9px;}\n",
       ".datatable .frame tbody td { text-align: left; }\n",
       ".datatable .frame tr.coltypes .row_index {  background: var(--jp-border-color0);}\n",
       ".datatable th:nth-child(2) { padding-left: 12px; }\n",
       ".datatable .hellipsis {  color: var(--jp-cell-editor-border-color);}\n",
       ".datatable .vellipsis {  background: var(--jp-layout-color0);  color: var(--jp-cell-editor-border-color);}\n",
       ".datatable .na {  color: var(--jp-cell-editor-border-color);  font-size: 80%;}\n",
       ".datatable .sp {  opacity: 0.25;}\n",
       ".datatable .footer { font-size: 9px; }\n",
       ".datatable .frame_dimensions {  background: var(--jp-border-color3);  border-top: 1px solid var(--jp-border-color0);  color: var(--jp-ui-font-color3);  display: inline-block;  opacity: 0.6;  padding: 1px 10px 1px 5px;}\n",
       "</style>\n"
      ],
      "text/plain": [
       "<IPython.core.display.HTML object>"
      ]
     },
     "metadata": {},
     "output_type": "display_data"
    }
   ],
   "source": [
    "#loading models\n",
    "model_1 = pickle.load(open('../input/jpx-my-baseline-xgboost/simple_xgb.sav', 'rb'))\n",
    "model_2 = pickle.load(open('../input/jpx-my-baseline-lgboost/simple_LGBM.sav', 'rb'))\n",
    "model_3 = pickle.load(open('../input/jpx-my-baseline-skgb/simple_skgb.sav', 'rb'))\n",
    "\n",
    "#setting the wieghts:\n",
    "w = [0.25,0.7,0.05] \n"
   ]
  },
  {
   "cell_type": "code",
   "execution_count": 3,
   "id": "1efc6b50",
   "metadata": {
    "execution": {
     "iopub.execute_input": "2022-06-23T00:34:21.897384Z",
     "iopub.status.busy": "2022-06-23T00:34:21.896877Z",
     "iopub.status.idle": "2022-06-23T00:34:30.725070Z",
     "shell.execute_reply": "2022-06-23T00:34:30.723756Z"
    },
    "papermill": {
     "duration": 8.845615,
     "end_time": "2022-06-23T00:34:30.735478",
     "exception": false,
     "start_time": "2022-06-23T00:34:21.889863",
     "status": "completed"
    },
    "tags": []
   },
   "outputs": [
    {
     "name": "stderr",
     "output_type": "stream",
     "text": [
      "2022-06-23 00:34:29.020284: I tensorflow/core/common_runtime/process_util.cc:146] Creating new thread pool with default inter op setting: 2. Tune using inter_op_parallelism_threads for best performance.\n",
      "2022-06-23 00:34:30.474338: I tensorflow/compiler/mlir/mlir_graph_optimization_pass.cc:185] None of the MLIR Optimization Passes are enabled (registered 2)\n"
     ]
    }
   ],
   "source": [
    "#loading DNN models\n",
    "\n",
    "import keras\n",
    "\n",
    "dnn_1 = keras.models.load_model(\"../input/jpx-my-baseline-dnn/spx_toy_model.tf\")"
   ]
  },
  {
   "cell_type": "markdown",
   "id": "c76e00f5",
   "metadata": {
    "papermill": {
     "duration": 0.005423,
     "end_time": "2022-06-23T00:34:30.746553",
     "exception": false,
     "start_time": "2022-06-23T00:34:30.741130",
     "status": "completed"
    },
    "tags": []
   },
   "source": [
    "## Feature Engeneering"
   ]
  },
  {
   "cell_type": "code",
   "execution_count": null,
   "id": "25108c61",
   "metadata": {
    "papermill": {
     "duration": 0.005446,
     "end_time": "2022-06-23T00:34:30.758391",
     "exception": false,
     "start_time": "2022-06-23T00:34:30.752945",
     "status": "completed"
    },
    "tags": []
   },
   "outputs": [],
   "source": []
  },
  {
   "cell_type": "code",
   "execution_count": 4,
   "id": "93b27849",
   "metadata": {
    "execution": {
     "iopub.execute_input": "2022-06-23T00:34:30.773213Z",
     "iopub.status.busy": "2022-06-23T00:34:30.772171Z",
     "iopub.status.idle": "2022-06-23T00:34:31.094950Z",
     "shell.execute_reply": "2022-06-23T00:34:31.093997Z"
    },
    "papermill": {
     "duration": 0.332647,
     "end_time": "2022-06-23T00:34:31.097445",
     "exception": false,
     "start_time": "2022-06-23T00:34:30.764798",
     "status": "completed"
    },
    "tags": []
   },
   "outputs": [],
   "source": [
    "\n",
    "# define function to compute log returns\n",
    "def log_return(series, periods=1):\n",
    "    return np.log(series).diff(periods=periods)\n",
    "\n",
    "\n",
    "\n",
    "def rsiFunc(prices, n=14):\n",
    "    deltas = np.diff(prices)\n",
    "    seed = deltas[:n+1]\n",
    "    up = seed[seed>=0].sum()/n\n",
    "    down = -seed[seed<0].sum()/n\n",
    "    rs = up/down\n",
    "    rsi = np.zeros_like(prices)\n",
    "    rsi[:n] = 100. - 100./(1.+rs)\n",
    "\n",
    "    for i in range(n, len(prices)):\n",
    "        delta = deltas[i-1] # cause the diff is 1 shorter\n",
    "\n",
    "        if delta>0:\n",
    "            upval = delta\n",
    "            downval = 0.\n",
    "        else:\n",
    "            upval = 0.\n",
    "            downval = -delta\n",
    "\n",
    "        up = (up*(n-1) + upval)/n\n",
    "        down = (down*(n-1) + downval)/n\n",
    "\n",
    "        rs = up/down\n",
    "        rsi[i] = 100. - 100./(1.+rs)\n",
    "\n",
    "    return rsi\n",
    "\n",
    "\n",
    "\n",
    "def get_features(df):\n",
    "\n",
    "    df['log_return_5'] = log_return(df['Close'],periods=5)\n",
    "    df['log_return'] = log_return(df['Close'],periods=1)\n",
    "\n",
    "    upper_shadow = lambda asset: asset.High - np.maximum(asset.Close,asset.Open)\n",
    "    lower_shadow = lambda asset: np.minimum(asset.Close,asset.Open)- asset.Low\n",
    "\n",
    "    df['upper_shadow'] = upper_shadow(df)\n",
    "    df['lower_shadow'] = lower_shadow(df)\n",
    "    \n",
    "    df['EMA_21'] = df['Close'].ewm(span=21).mean()\n",
    "    \n",
    "    df['EMA_55'] = df['Close'].ewm(span=55).mean()\n",
    "    \n",
    "    df['EMA_315'] = df['Close'].ewm(span=315).mean()\n",
    "    \n",
    "    df['EMA_825'] = df['Close'].ewm(span=825).mean()\n",
    "    \n",
    "    window = 7\n",
    "    \n",
    "    no_of_std = 2\n",
    "    \n",
    "    df[f'EMA_{window}'] = df['Close'].ewm(span=window).mean()\n",
    "    \n",
    "    df[f'EMA_{window}_std'] = df['Close'].rolling(window=window).std()\n",
    "    \n",
    "    df[f'EMA_{window}_BB_high'] = df[f'EMA_{window}'] + no_of_std * df[f'EMA_{window}_std']\n",
    "    \n",
    "    df[f'MA_{window}MA_BB_low'] = df[f'EMA_{window}'] - no_of_std * df[f'EMA_{window}_std']\n",
    "    \n",
    "    window = 5\n",
    "    \n",
    "    df[f'EMA_{window}'] = df['Close'].ewm(span=window).mean()\n",
    "    \n",
    "    df[f'EMA_{window}_std'] = df['Close'].rolling(window=window).std()\n",
    "    \n",
    "    df[f'EMA_{window}_BB_high'] = df[f'EMA_{window}'] + no_of_std * df[f'EMA_{window}_std']\n",
    "    \n",
    "    df[f'MA_{window}MA_BB_low'] = df[f'EMA_{window}'] - no_of_std * df[f'EMA_{window}_std']\n",
    "    \n",
    "    df['MACD'] = df['EMA_7'] - df['EMA_5']\n",
    "    \n",
    "    \n",
    "    df['rsi_5'] = rsiFunc(df['Close'].values, 5)\n",
    "    \n",
    "    df['rsi_7'] = rsiFunc(df['Close'].values, 7)\n",
    "    \n",
    "    df['rsi_21'] = rsiFunc(df['Close'].values, 21)\n",
    "    \n",
    "    \n",
    "    df['VWAP'] = (df['Close'] * df['Volume'])/ df['Volume']\n",
    "\n",
    "    \n",
    "    #df = pd.concat([df, pd.get_dummies(df['Asset_ID'], prefix= 'Asset_')], axis=1)\n",
    "    \n",
    "    df[['log_return_5', 'log_return', 'upper_shadow', 'lower_shadow',\n",
    "       'EMA_21', 'EMA_55', 'EMA_315', 'EMA_825', 'EMA_7', 'EMA_7_std',\n",
    "       'EMA_7_BB_high', 'MA_7MA_BB_low', 'EMA_5', 'EMA_5_std', 'EMA_5_BB_high',\n",
    "       'MA_5MA_BB_low', 'MACD', 'rsi_5', 'rsi_7', 'rsi_21']].astype('float16')\n",
    "    \n",
    "    return df\n",
    "\n"
   ]
  },
  {
   "cell_type": "code",
   "execution_count": 5,
   "id": "2085b6e7",
   "metadata": {
    "execution": {
     "iopub.execute_input": "2022-06-23T00:34:31.110833Z",
     "iopub.status.busy": "2022-06-23T00:34:31.110337Z",
     "iopub.status.idle": "2022-06-23T00:34:31.115361Z",
     "shell.execute_reply": "2022-06-23T00:34:31.114288Z"
    },
    "papermill": {
     "duration": 0.014469,
     "end_time": "2022-06-23T00:34:31.117465",
     "exception": false,
     "start_time": "2022-06-23T00:34:31.102996",
     "status": "completed"
    },
    "tags": []
   },
   "outputs": [],
   "source": [
    "from sklearn.preprocessing import StandardScaler\n",
    "scaler = StandardScaler()"
   ]
  },
  {
   "cell_type": "code",
   "execution_count": 6,
   "id": "91e9364c",
   "metadata": {
    "execution": {
     "iopub.execute_input": "2022-06-23T00:34:31.131671Z",
     "iopub.status.busy": "2022-06-23T00:34:31.130538Z",
     "iopub.status.idle": "2022-06-23T00:34:31.140116Z",
     "shell.execute_reply": "2022-06-23T00:34:31.138777Z"
    },
    "papermill": {
     "duration": 0.019393,
     "end_time": "2022-06-23T00:34:31.142569",
     "exception": false,
     "start_time": "2022-06-23T00:34:31.123176",
     "status": "completed"
    },
    "tags": []
   },
   "outputs": [],
   "source": [
    "#sellectiong the features GB\n",
    "\n",
    "scaled_features = ['Open', 'High', 'Low', 'Close', 'Volume','log_return_5', 'log_return', 'upper_shadow', 'lower_shadow',\n",
    "       'EMA_21', 'EMA_55', 'EMA_315', 'EMA_825', 'EMA_7', 'EMA_7_std',\n",
    "       'EMA_7_BB_high', 'MA_7MA_BB_low', 'EMA_5', 'EMA_5_std', 'EMA_5_BB_high',\n",
    "       'MA_5MA_BB_low', 'MACD', 'rsi_5', 'rsi_7', 'rsi_21']\n",
    "features = ['Open', 'High', 'Low', 'Close', 'Volume','log_return_5', 'log_return', 'upper_shadow', 'lower_shadow',\n",
    "       'EMA_21', 'EMA_55', 'EMA_315', 'EMA_825', 'EMA_7', 'EMA_7_std',\n",
    "       'EMA_7_BB_high', 'MA_7MA_BB_low', 'EMA_5', 'EMA_5_std', 'EMA_5_BB_high',\n",
    "       'MA_5MA_BB_low', 'MACD', 'rsi_5', 'rsi_7', 'rsi_21']\n",
    "\n",
    "dnn_features = ['SecuritiesCode','Open', 'High', 'Low', 'Close', 'Volume','log_return_5', 'log_return', 'upper_shadow', 'lower_shadow',\n",
    "       'EMA_21', 'EMA_55', 'EMA_315', 'EMA_825', 'EMA_7', 'EMA_7_std',\n",
    "       'EMA_5', 'EMA_5_std', 'MACD', 'rsi_5', 'rsi_7', 'rsi_21']"
   ]
  },
  {
   "cell_type": "markdown",
   "id": "be0603fc",
   "metadata": {
    "papermill": {
     "duration": 0.005218,
     "end_time": "2022-06-23T00:34:31.153354",
     "exception": false,
     "start_time": "2022-06-23T00:34:31.148136",
     "status": "completed"
    },
    "tags": []
   },
   "source": [
    "## Submiting"
   ]
  },
  {
   "cell_type": "code",
   "execution_count": null,
   "id": "90d2ac11",
   "metadata": {
    "papermill": {
     "duration": 0.004994,
     "end_time": "2022-06-23T00:34:31.163650",
     "exception": false,
     "start_time": "2022-06-23T00:34:31.158656",
     "status": "completed"
    },
    "tags": []
   },
   "outputs": [],
   "source": [
    "\n"
   ]
  },
  {
   "cell_type": "code",
   "execution_count": 7,
   "id": "5a7e7ba5",
   "metadata": {
    "execution": {
     "iopub.execute_input": "2022-06-23T00:34:31.177187Z",
     "iopub.status.busy": "2022-06-23T00:34:31.176173Z",
     "iopub.status.idle": "2022-06-23T00:34:31.182028Z",
     "shell.execute_reply": "2022-06-23T00:34:31.181248Z"
    },
    "papermill": {
     "duration": 0.015401,
     "end_time": "2022-06-23T00:34:31.184424",
     "exception": false,
     "start_time": "2022-06-23T00:34:31.169023",
     "status": "completed"
    },
    "tags": []
   },
   "outputs": [],
   "source": [
    "#Building the Ranking Function\n",
    "\n",
    "def add_rank(df, col_name=\"pred\"):\n",
    "    df[\"Rank\"] = df.groupby(\"Date\")[col_name].rank(ascending=False, method=\"first\") - 1 \n",
    "    df[\"Rank\"] = df[\"Rank\"].astype(\"int\")\n",
    "    return df"
   ]
  },
  {
   "cell_type": "code",
   "execution_count": 8,
   "id": "51da6cc6",
   "metadata": {
    "execution": {
     "iopub.execute_input": "2022-06-23T00:34:31.197892Z",
     "iopub.status.busy": "2022-06-23T00:34:31.197169Z",
     "iopub.status.idle": "2022-06-23T00:34:31.201993Z",
     "shell.execute_reply": "2022-06-23T00:34:31.201148Z"
    },
    "papermill": {
     "duration": 0.014148,
     "end_time": "2022-06-23T00:34:31.204208",
     "exception": false,
     "start_time": "2022-06-23T00:34:31.190060",
     "status": "completed"
    },
    "tags": []
   },
   "outputs": [],
   "source": [
    "# import jpx_tokyo_market_prediction\n",
    "\n",
    "\n",
    "# env = jpx_tokyo_market_prediction.make_env()   # initialize the environment\n",
    "# iter_test = env.iter_test()    # an iterator which loops over the test files\n",
    "# for (prices, options, financials, trades, secondary_prices, sample_prediction) in iter_test:\n",
    "#     prices = get_features(prices)\n",
    "#     prices = prices.replace((np.inf, -np.inf, np.nan), 0).reset_index(drop=True)\n",
    "#     prices = prices.fillna(0)\n",
    "#     prices[scaled_features] = scaler.fit_transform(prices[scaled_features])\n",
    "#     pred_1 = model_1.predict(prices[features])\n",
    "#     pred_2 = model_2.predict(prices[features])\n",
    "#     pred_3 = model_3.predict(prices[features])\n",
    "#     prices['pred'] = pred_1*w[0] + pred_2*w[1] + pred_3*w[2]\n",
    "#     prices = add_rank(prices)\n",
    "#     feature_map = prices.set_index('SecuritiesCode')['Rank'].to_dict()\n",
    "#     sample_prediction['Rank'] = sample_prediction['SecuritiesCode'].map(feature_map)\n",
    "#     env.predict(sample_prediction)"
   ]
  },
  {
   "cell_type": "code",
   "execution_count": 9,
   "id": "42153674",
   "metadata": {
    "execution": {
     "iopub.execute_input": "2022-06-23T00:34:31.218056Z",
     "iopub.status.busy": "2022-06-23T00:34:31.217340Z",
     "iopub.status.idle": "2022-06-23T00:34:33.563687Z",
     "shell.execute_reply": "2022-06-23T00:34:33.562516Z"
    },
    "papermill": {
     "duration": 2.356666,
     "end_time": "2022-06-23T00:34:33.566765",
     "exception": false,
     "start_time": "2022-06-23T00:34:31.210099",
     "status": "completed"
    },
    "tags": []
   },
   "outputs": [
    {
     "name": "stdout",
     "output_type": "stream",
     "text": [
      "This version of the API is not optimized and should not be used to estimate the runtime of your code on the hidden test set.\n"
     ]
    },
    {
     "name": "stderr",
     "output_type": "stream",
     "text": [
      "/opt/conda/lib/python3.7/site-packages/keras/engine/functional.py:585: UserWarning: Input dict contained keys ['Date', 'RowId', 'AdjustmentFactor', 'ExpectedDividend', 'SupervisionFlag', 'EMA_21', 'EMA_55', 'EMA_315', 'EMA_825', 'EMA_7_BB_high', 'MA_7MA_BB_low', 'EMA_5_BB_high', 'MA_5MA_BB_low'] which did not match any model input. They will be ignored by the model.\n",
      "  [n for n in tensors.keys() if n not in ref_input_names])\n"
     ]
    }
   ],
   "source": [
    "import jpx_tokyo_market_prediction\n",
    "\n",
    "\n",
    "env = jpx_tokyo_market_prediction.make_env()   # initialize the environment\n",
    "iter_test = env.iter_test()    # an iterator which loops over the test files\n",
    "for (prices, options, financials, trades, secondary_prices, sample_prediction) in iter_test:\n",
    "    prices = get_features(prices)\n",
    "    prices = prices.replace((np.inf, -np.inf, np.nan), 0).reset_index(drop=True)\n",
    "    prices = prices.fillna(0)\n",
    "    prices['pred'] = dnn_1.predict(dict(prices))\n",
    "    prices = add_rank(prices)\n",
    "    feature_map = prices.set_index('SecuritiesCode')['Rank'].to_dict()\n",
    "    sample_prediction['Rank'] = sample_prediction['SecuritiesCode'].map(feature_map)\n",
    "    env.predict(sample_prediction)"
   ]
  },
  {
   "cell_type": "code",
   "execution_count": null,
   "id": "77b22f44",
   "metadata": {
    "papermill": {
     "duration": 0.005803,
     "end_time": "2022-06-23T00:34:33.579731",
     "exception": false,
     "start_time": "2022-06-23T00:34:33.573928",
     "status": "completed"
    },
    "tags": []
   },
   "outputs": [],
   "source": []
  }
 ],
 "metadata": {
  "kernelspec": {
   "display_name": "Python 3",
   "language": "python",
   "name": "python3"
  },
  "language_info": {
   "codemirror_mode": {
    "name": "ipython",
    "version": 3
   },
   "file_extension": ".py",
   "mimetype": "text/x-python",
   "name": "python",
   "nbconvert_exporter": "python",
   "pygments_lexer": "ipython3",
   "version": "3.7.12"
  },
  "papermill": {
   "default_parameters": {},
   "duration": 34.912775,
   "end_time": "2022-06-23T00:34:36.628475",
   "environment_variables": {},
   "exception": null,
   "input_path": "__notebook__.ipynb",
   "output_path": "__notebook__.ipynb",
   "parameters": {},
   "start_time": "2022-06-23T00:34:01.715700",
   "version": "2.3.4"
  }
 },
 "nbformat": 4,
 "nbformat_minor": 5
}
