{
 "cells": [
  {
   "cell_type": "code",
   "execution_count": 1,
   "id": "27752c05",
   "metadata": {
    "_cell_guid": "b1076dfc-b9ad-4769-8c92-a6c4dae69d19",
    "_uuid": "8f2839f25d086af736a60e9eeb907d3b93b6e0e5",
    "execution": {
     "iopub.execute_input": "2022-06-20T03:16:40.206110Z",
     "iopub.status.busy": "2022-06-20T03:16:40.204877Z",
     "iopub.status.idle": "2022-06-20T03:16:40.251572Z",
     "shell.execute_reply": "2022-06-20T03:16:40.250928Z"
    },
    "papermill": {
     "duration": 0.057345,
     "end_time": "2022-06-20T03:16:40.256580",
     "exception": false,
     "start_time": "2022-06-20T03:16:40.199235",
     "status": "completed"
    },
    "tags": []
   },
   "outputs": [
    {
     "name": "stdout",
     "output_type": "stream",
     "text": [
      "/kaggle/input/jpx-my-baseline-lgboost/__results__.html\n",
      "/kaggle/input/jpx-my-baseline-lgboost/simple_LGBM.txt\n",
      "/kaggle/input/jpx-my-baseline-lgboost/simple_LGBM.sav\n",
      "/kaggle/input/jpx-my-baseline-lgboost/submission.csv\n",
      "/kaggle/input/jpx-my-baseline-lgboost/__notebook__.ipynb\n",
      "/kaggle/input/jpx-my-baseline-lgboost/__output__.json\n",
      "/kaggle/input/jpx-my-baseline-lgboost/custom.css\n",
      "/kaggle/input/jpx-my-baseline-xgboost/simple_xgb.txt\n",
      "/kaggle/input/jpx-my-baseline-xgboost/__results__.html\n",
      "/kaggle/input/jpx-my-baseline-xgboost/submission.csv\n",
      "/kaggle/input/jpx-my-baseline-xgboost/__notebook__.ipynb\n",
      "/kaggle/input/jpx-my-baseline-xgboost/__output__.json\n",
      "/kaggle/input/jpx-my-baseline-xgboost/simple_xgb.sav\n",
      "/kaggle/input/jpx-my-baseline-xgboost/custom.css\n",
      "/kaggle/input/jpx-my-baseline-skgb/__results__.html\n",
      "/kaggle/input/jpx-my-baseline-skgb/simple_skgb.sav\n",
      "/kaggle/input/jpx-my-baseline-skgb/submission.csv\n",
      "/kaggle/input/jpx-my-baseline-skgb/__notebook__.ipynb\n",
      "/kaggle/input/jpx-my-baseline-skgb/__output__.json\n",
      "/kaggle/input/jpx-my-baseline-skgb/custom.css\n",
      "/kaggle/input/jpx-tokyo-stock-exchange-prediction/stock_list.csv\n",
      "/kaggle/input/jpx-tokyo-stock-exchange-prediction/example_test_files/sample_submission.csv\n",
      "/kaggle/input/jpx-tokyo-stock-exchange-prediction/example_test_files/options.csv\n",
      "/kaggle/input/jpx-tokyo-stock-exchange-prediction/example_test_files/financials.csv\n",
      "/kaggle/input/jpx-tokyo-stock-exchange-prediction/example_test_files/secondary_stock_prices.csv\n",
      "/kaggle/input/jpx-tokyo-stock-exchange-prediction/example_test_files/trades.csv\n",
      "/kaggle/input/jpx-tokyo-stock-exchange-prediction/example_test_files/stock_prices.csv\n",
      "/kaggle/input/jpx-tokyo-stock-exchange-prediction/jpx_tokyo_market_prediction/competition.cpython-37m-x86_64-linux-gnu.so\n",
      "/kaggle/input/jpx-tokyo-stock-exchange-prediction/jpx_tokyo_market_prediction/__init__.py\n",
      "/kaggle/input/jpx-tokyo-stock-exchange-prediction/data_specifications/stock_fin_spec.csv\n",
      "/kaggle/input/jpx-tokyo-stock-exchange-prediction/data_specifications/trades_spec.csv\n",
      "/kaggle/input/jpx-tokyo-stock-exchange-prediction/data_specifications/stock_price_spec.csv\n",
      "/kaggle/input/jpx-tokyo-stock-exchange-prediction/data_specifications/options_spec.csv\n",
      "/kaggle/input/jpx-tokyo-stock-exchange-prediction/data_specifications/stock_list_spec.csv\n",
      "/kaggle/input/jpx-tokyo-stock-exchange-prediction/train_files/options.csv\n",
      "/kaggle/input/jpx-tokyo-stock-exchange-prediction/train_files/financials.csv\n",
      "/kaggle/input/jpx-tokyo-stock-exchange-prediction/train_files/secondary_stock_prices.csv\n",
      "/kaggle/input/jpx-tokyo-stock-exchange-prediction/train_files/trades.csv\n",
      "/kaggle/input/jpx-tokyo-stock-exchange-prediction/train_files/stock_prices.csv\n",
      "/kaggle/input/jpx-tokyo-stock-exchange-prediction/supplemental_files/options.csv\n",
      "/kaggle/input/jpx-tokyo-stock-exchange-prediction/supplemental_files/financials.csv\n",
      "/kaggle/input/jpx-tokyo-stock-exchange-prediction/supplemental_files/secondary_stock_prices.csv\n",
      "/kaggle/input/jpx-tokyo-stock-exchange-prediction/supplemental_files/trades.csv\n",
      "/kaggle/input/jpx-tokyo-stock-exchange-prediction/supplemental_files/stock_prices.csv\n"
     ]
    }
   ],
   "source": [
    "# importing Relevant Packages\n",
    "import numpy as np \n",
    "import pandas as pd \n",
    "import gc\n",
    "import pickle\n",
    "\n",
    "import os\n",
    "for dirname, _, filenames in os.walk('/kaggle/input'):\n",
    "    for filename in filenames:\n",
    "        print(os.path.join(dirname, filename))\n"
   ]
  },
  {
   "cell_type": "markdown",
   "id": "ace7fc59",
   "metadata": {
    "papermill": {
     "duration": 0.003303,
     "end_time": "2022-06-20T03:16:40.264911",
     "exception": false,
     "start_time": "2022-06-20T03:16:40.261608",
     "status": "completed"
    },
    "tags": []
   },
   "source": [
    "## Loading the Gradient Boosting Regression Models "
   ]
  },
  {
   "cell_type": "code",
   "execution_count": 2,
   "id": "7574e5ce",
   "metadata": {
    "execution": {
     "iopub.execute_input": "2022-06-20T03:16:40.273779Z",
     "iopub.status.busy": "2022-06-20T03:16:40.273140Z",
     "iopub.status.idle": "2022-06-20T03:16:47.836459Z",
     "shell.execute_reply": "2022-06-20T03:16:47.835288Z"
    },
    "papermill": {
     "duration": 7.570422,
     "end_time": "2022-06-20T03:16:47.838807",
     "exception": false,
     "start_time": "2022-06-20T03:16:40.268385",
     "status": "completed"
    },
    "tags": []
   },
   "outputs": [
    {
     "name": "stdout",
     "output_type": "stream",
     "text": [
      "[03:16:41] WARNING: ../src/gbm/gbtree.cc:390: Loading from a raw memory buffer on CPU only machine.  Changing tree_method to hist.\n",
      "[03:16:41] WARNING: ../src/learner.cc:248: No visible GPU is found, setting `gpu_id` to -1\n"
     ]
    },
    {
     "data": {
      "text/html": [
       "<style type='text/css'>\n",
       ".datatable table.frame { margin-bottom: 0; }\n",
       ".datatable table.frame thead { border-bottom: none; }\n",
       ".datatable table.frame tr.coltypes td {  color: #FFFFFF;  line-height: 6px;  padding: 0 0.5em;}\n",
       ".datatable .bool    { background: #DDDD99; }\n",
       ".datatable .object  { background: #565656; }\n",
       ".datatable .int     { background: #5D9E5D; }\n",
       ".datatable .float   { background: #4040CC; }\n",
       ".datatable .str     { background: #CC4040; }\n",
       ".datatable .time    { background: #40CC40; }\n",
       ".datatable .row_index {  background: var(--jp-border-color3);  border-right: 1px solid var(--jp-border-color0);  color: var(--jp-ui-font-color3);  font-size: 9px;}\n",
       ".datatable .frame tbody td { text-align: left; }\n",
       ".datatable .frame tr.coltypes .row_index {  background: var(--jp-border-color0);}\n",
       ".datatable th:nth-child(2) { padding-left: 12px; }\n",
       ".datatable .hellipsis {  color: var(--jp-cell-editor-border-color);}\n",
       ".datatable .vellipsis {  background: var(--jp-layout-color0);  color: var(--jp-cell-editor-border-color);}\n",
       ".datatable .na {  color: var(--jp-cell-editor-border-color);  font-size: 80%;}\n",
       ".datatable .sp {  opacity: 0.25;}\n",
       ".datatable .footer { font-size: 9px; }\n",
       ".datatable .frame_dimensions {  background: var(--jp-border-color3);  border-top: 1px solid var(--jp-border-color0);  color: var(--jp-ui-font-color3);  display: inline-block;  opacity: 0.6;  padding: 1px 10px 1px 5px;}\n",
       "</style>\n"
      ],
      "text/plain": [
       "<IPython.core.display.HTML object>"
      ]
     },
     "metadata": {},
     "output_type": "display_data"
    }
   ],
   "source": [
    "#loading models\n",
    "model_1 = pickle.load(open('../input/jpx-my-baseline-xgboost/simple_xgb.sav', 'rb'))\n",
    "model_2 = pickle.load(open('../input/jpx-my-baseline-lgboost/simple_LGBM.sav', 'rb'))\n",
    "model_3 = pickle.load(open('../input/jpx-my-baseline-skgb/simple_skgb.sav', 'rb'))\n",
    "\n",
    "#setting the wieghts:\n",
    "w = [0.4,0.4,0.2] \n"
   ]
  },
  {
   "cell_type": "markdown",
   "id": "483fe8ca",
   "metadata": {
    "papermill": {
     "duration": 0.003567,
     "end_time": "2022-06-20T03:16:47.846354",
     "exception": false,
     "start_time": "2022-06-20T03:16:47.842787",
     "status": "completed"
    },
    "tags": []
   },
   "source": [
    "## Feature Engeneering"
   ]
  },
  {
   "cell_type": "code",
   "execution_count": 3,
   "id": "381ea238",
   "metadata": {
    "execution": {
     "iopub.execute_input": "2022-06-20T03:16:47.855236Z",
     "iopub.status.busy": "2022-06-20T03:16:47.854842Z",
     "iopub.status.idle": "2022-06-20T03:16:47.859437Z",
     "shell.execute_reply": "2022-06-20T03:16:47.858574Z"
    },
    "papermill": {
     "duration": 0.011388,
     "end_time": "2022-06-20T03:16:47.861452",
     "exception": false,
     "start_time": "2022-06-20T03:16:47.850064",
     "status": "completed"
    },
    "tags": []
   },
   "outputs": [],
   "source": [
    "from datetime import datetime\n",
    "import time\n",
    "\n",
    " # auxiliary function, from datetime to timestamp\n",
    "totimestamp = lambda s: np.int32(time.mktime(datetime.strptime(s, \"%Y-%m-%d\").timetuple()))"
   ]
  },
  {
   "cell_type": "code",
   "execution_count": 4,
   "id": "3b3abda2",
   "metadata": {
    "execution": {
     "iopub.execute_input": "2022-06-20T03:16:47.870715Z",
     "iopub.status.busy": "2022-06-20T03:16:47.870344Z",
     "iopub.status.idle": "2022-06-20T03:16:47.887503Z",
     "shell.execute_reply": "2022-06-20T03:16:47.886601Z"
    },
    "papermill": {
     "duration": 0.024106,
     "end_time": "2022-06-20T03:16:47.889367",
     "exception": false,
     "start_time": "2022-06-20T03:16:47.865261",
     "status": "completed"
    },
    "tags": []
   },
   "outputs": [],
   "source": [
    "\n",
    "# define function to compute log returns\n",
    "def log_return(series, periods=1):\n",
    "    return np.log(series).diff(periods=periods)\n",
    "\n",
    "\n",
    "\n",
    "def rsiFunc(prices, n=14):\n",
    "    deltas = np.diff(prices)\n",
    "    seed = deltas[:n+1]\n",
    "    up = seed[seed>=0].sum()/n\n",
    "    down = -seed[seed<0].sum()/n\n",
    "    rs = up/down\n",
    "    rsi = np.zeros_like(prices)\n",
    "    rsi[:n] = 100. - 100./(1.+rs)\n",
    "\n",
    "    for i in range(n, len(prices)):\n",
    "        delta = deltas[i-1] # cause the diff is 1 shorter\n",
    "\n",
    "        if delta>0:\n",
    "            upval = delta\n",
    "            downval = 0.\n",
    "        else:\n",
    "            upval = 0.\n",
    "            downval = -delta\n",
    "\n",
    "        up = (up*(n-1) + upval)/n\n",
    "        down = (down*(n-1) + downval)/n\n",
    "\n",
    "        rs = up/down\n",
    "        rsi[i] = 100. - 100./(1.+rs)\n",
    "\n",
    "    return rsi\n",
    "\n",
    "\n",
    "\n",
    "def get_features(df):\n",
    "\n",
    "    df['log_return_5'] = log_return(df['Close'],periods=5)\n",
    "    df['log_return'] = log_return(df['Close'],periods=1)\n",
    "\n",
    "    upper_shadow = lambda asset: asset.High - np.maximum(asset.Close,asset.Open)\n",
    "    lower_shadow = lambda asset: np.minimum(asset.Close,asset.Open)- asset.Low\n",
    "\n",
    "    df['upper_shadow'] = upper_shadow(df)\n",
    "    df['lower_shadow'] = lower_shadow(df)\n",
    "    \n",
    "    df['EMA_21'] = df['Close'].ewm(span=21).mean()\n",
    "    \n",
    "    df['EMA_55'] = df['Close'].ewm(span=55).mean()\n",
    "    \n",
    "    df['EMA_315'] = df['Close'].ewm(span=315).mean()\n",
    "    \n",
    "    df['EMA_825'] = df['Close'].ewm(span=825).mean()\n",
    "    \n",
    "    window = 7\n",
    "    \n",
    "    no_of_std = 2\n",
    "    \n",
    "    df[f'EMA_{window}'] = df['Close'].ewm(span=window).mean()\n",
    "    \n",
    "    df[f'EMA_{window}_std'] = df['Close'].rolling(window=window).std()\n",
    "    \n",
    "    df[f'EMA_{window}_BB_high'] = df[f'EMA_{window}'] + no_of_std * df[f'EMA_{window}_std']\n",
    "    \n",
    "    df[f'MA_{window}MA_BB_low'] = df[f'EMA_{window}'] - no_of_std * df[f'EMA_{window}_std']\n",
    "    \n",
    "    window = 5\n",
    "    \n",
    "    df[f'EMA_{window}'] = df['Close'].ewm(span=window).mean()\n",
    "    \n",
    "    df[f'EMA_{window}_std'] = df['Close'].rolling(window=window).std()\n",
    "    \n",
    "    df[f'EMA_{window}_BB_high'] = df[f'EMA_{window}'] + no_of_std * df[f'EMA_{window}_std']\n",
    "    \n",
    "    df[f'MA_{window}MA_BB_low'] = df[f'EMA_{window}'] - no_of_std * df[f'EMA_{window}_std']\n",
    "    \n",
    "    df['MACD'] = df['EMA_7'] - df['EMA_5']\n",
    "    \n",
    "    \n",
    "    df['rsi_5'] = rsiFunc(df['Close'].values, 5)\n",
    "    \n",
    "    df['rsi_7'] = rsiFunc(df['Close'].values, 7)\n",
    "    \n",
    "    df['rsi_21'] = rsiFunc(df['Close'].values, 21)\n",
    "\n",
    "    \n",
    "    \n",
    "    #df = pd.concat([df, pd.get_dummies(df['Asset_ID'], prefix= 'Asset_')], axis=1)\n",
    "    \n",
    "    df[['log_return_5', 'log_return', 'upper_shadow', 'lower_shadow',\n",
    "       'EMA_21', 'EMA_55', 'EMA_315', 'EMA_825', 'EMA_7', 'EMA_7_std',\n",
    "       'EMA_7_BB_high', 'MA_7MA_BB_low', 'EMA_5', 'EMA_5_std', 'EMA_5_BB_high',\n",
    "       'MA_5MA_BB_low', 'MACD', 'rsi_5', 'rsi_7', 'rsi_21']].astype('float16')\n",
    "    \n",
    "    return df\n",
    "\n"
   ]
  },
  {
   "cell_type": "code",
   "execution_count": 5,
   "id": "12e46d47",
   "metadata": {
    "execution": {
     "iopub.execute_input": "2022-06-20T03:16:47.898462Z",
     "iopub.status.busy": "2022-06-20T03:16:47.897795Z",
     "iopub.status.idle": "2022-06-20T03:16:47.902316Z",
     "shell.execute_reply": "2022-06-20T03:16:47.901472Z"
    },
    "papermill": {
     "duration": 0.011095,
     "end_time": "2022-06-20T03:16:47.904237",
     "exception": false,
     "start_time": "2022-06-20T03:16:47.893142",
     "status": "completed"
    },
    "tags": []
   },
   "outputs": [],
   "source": [
    "from sklearn.preprocessing import StandardScaler\n",
    "scaler = StandardScaler()"
   ]
  },
  {
   "cell_type": "code",
   "execution_count": 6,
   "id": "a2dc8bb8",
   "metadata": {
    "execution": {
     "iopub.execute_input": "2022-06-20T03:16:47.913243Z",
     "iopub.status.busy": "2022-06-20T03:16:47.912709Z",
     "iopub.status.idle": "2022-06-20T03:16:47.917644Z",
     "shell.execute_reply": "2022-06-20T03:16:47.917027Z"
    },
    "papermill": {
     "duration": 0.01167,
     "end_time": "2022-06-20T03:16:47.919574",
     "exception": false,
     "start_time": "2022-06-20T03:16:47.907904",
     "status": "completed"
    },
    "tags": []
   },
   "outputs": [],
   "source": [
    "#sellectiong the features\n",
    "\n",
    "scaled_features = ['Open', 'High', 'Low', 'Close', 'Volume','log_return_5', 'log_return', 'upper_shadow', 'lower_shadow',\n",
    "       'EMA_21', 'EMA_55', 'EMA_315', 'EMA_825', 'EMA_7', 'EMA_7_std',\n",
    "       'EMA_7_BB_high', 'MA_7MA_BB_low', 'EMA_5', 'EMA_5_std', 'EMA_5_BB_high',\n",
    "       'MA_5MA_BB_low', 'MACD', 'rsi_5', 'rsi_7', 'rsi_21']\n",
    "features = ['Open', 'High', 'Low', 'Close', 'Volume','log_return_5', 'log_return', 'upper_shadow', 'lower_shadow',\n",
    "       'EMA_21', 'EMA_55', 'EMA_315', 'EMA_825', 'EMA_7', 'EMA_7_std',\n",
    "       'EMA_7_BB_high', 'MA_7MA_BB_low', 'EMA_5', 'EMA_5_std', 'EMA_5_BB_high',\n",
    "       'MA_5MA_BB_low', 'MACD', 'rsi_5', 'rsi_7', 'rsi_21']\n",
    "\n"
   ]
  },
  {
   "cell_type": "markdown",
   "id": "2f9854ea",
   "metadata": {
    "papermill": {
     "duration": 0.00358,
     "end_time": "2022-06-20T03:16:47.927097",
     "exception": false,
     "start_time": "2022-06-20T03:16:47.923517",
     "status": "completed"
    },
    "tags": []
   },
   "source": [
    "## Submiting"
   ]
  },
  {
   "cell_type": "code",
   "execution_count": null,
   "id": "e559ae39",
   "metadata": {
    "papermill": {
     "duration": 0.003505,
     "end_time": "2022-06-20T03:16:47.934338",
     "exception": false,
     "start_time": "2022-06-20T03:16:47.930833",
     "status": "completed"
    },
    "tags": []
   },
   "outputs": [],
   "source": [
    "\n"
   ]
  },
  {
   "cell_type": "code",
   "execution_count": 7,
   "id": "a2c3f0fc",
   "metadata": {
    "execution": {
     "iopub.execute_input": "2022-06-20T03:16:47.943775Z",
     "iopub.status.busy": "2022-06-20T03:16:47.942902Z",
     "iopub.status.idle": "2022-06-20T03:16:47.948107Z",
     "shell.execute_reply": "2022-06-20T03:16:47.947247Z"
    },
    "papermill": {
     "duration": 0.011827,
     "end_time": "2022-06-20T03:16:47.949948",
     "exception": false,
     "start_time": "2022-06-20T03:16:47.938121",
     "status": "completed"
    },
    "tags": []
   },
   "outputs": [],
   "source": [
    "#Building the Ranking Function\n",
    "\n",
    "def add_rank(df, col_name=\"pred\"):\n",
    "    df[\"Rank\"] = df.groupby(\"Date\")[col_name].rank(ascending=False, method=\"first\") - 1 \n",
    "    df[\"Rank\"] = df[\"Rank\"].astype(\"int\")\n",
    "    return df"
   ]
  },
  {
   "cell_type": "code",
   "execution_count": 8,
   "id": "53937571",
   "metadata": {
    "execution": {
     "iopub.execute_input": "2022-06-20T03:16:47.959186Z",
     "iopub.status.busy": "2022-06-20T03:16:47.958416Z",
     "iopub.status.idle": "2022-06-20T03:16:50.449301Z",
     "shell.execute_reply": "2022-06-20T03:16:50.448376Z"
    },
    "papermill": {
     "duration": 2.497585,
     "end_time": "2022-06-20T03:16:50.451338",
     "exception": false,
     "start_time": "2022-06-20T03:16:47.953753",
     "status": "completed"
    },
    "tags": []
   },
   "outputs": [
    {
     "name": "stdout",
     "output_type": "stream",
     "text": [
      "This version of the API is not optimized and should not be used to estimate the runtime of your code on the hidden test set.\n"
     ]
    }
   ],
   "source": [
    "import jpx_tokyo_market_prediction\n",
    "\n",
    "\n",
    "env = jpx_tokyo_market_prediction.make_env()   # initialize the environment\n",
    "iter_test = env.iter_test()    # an iterator which loops over the test files\n",
    "for (prices, options, financials, trades, secondary_prices, sample_prediction) in iter_test:\n",
    "    prices = get_features(prices)\n",
    "    prices = prices.replace((np.inf, -np.inf, np.nan), 0).reset_index(drop=True)\n",
    "    prices = prices.fillna(0)\n",
    "    prices[scaled_features] = scaler.fit_transform(prices[scaled_features])\n",
    "    pred_1 = model_1.predict(prices[features])\n",
    "    pred_2 = model_2.predict(prices[features])\n",
    "    pred_3 = model_3.predict(prices[features])\n",
    "    prices['pred'] = pred_1*w[0] + pred_2*w[1] + pred_3*w[2]\n",
    "    prices = add_rank(prices)\n",
    "    feature_map = prices.set_index('SecuritiesCode')['Rank'].to_dict()\n",
    "    sample_prediction['Rank'] = sample_prediction['SecuritiesCode'].map(feature_map)\n",
    "    env.predict(sample_prediction)"
   ]
  },
  {
   "cell_type": "code",
   "execution_count": null,
   "id": "88e972b1",
   "metadata": {
    "papermill": {
     "duration": 0.003493,
     "end_time": "2022-06-20T03:16:50.458826",
     "exception": false,
     "start_time": "2022-06-20T03:16:50.455333",
     "status": "completed"
    },
    "tags": []
   },
   "outputs": [],
   "source": []
  },
  {
   "cell_type": "code",
   "execution_count": null,
   "id": "e55ddf38",
   "metadata": {
    "papermill": {
     "duration": 0.003529,
     "end_time": "2022-06-20T03:16:50.466185",
     "exception": false,
     "start_time": "2022-06-20T03:16:50.462656",
     "status": "completed"
    },
    "tags": []
   },
   "outputs": [],
   "source": []
  },
  {
   "cell_type": "code",
   "execution_count": null,
   "id": "015c705f",
   "metadata": {
    "papermill": {
     "duration": 0.003906,
     "end_time": "2022-06-20T03:16:50.473893",
     "exception": false,
     "start_time": "2022-06-20T03:16:50.469987",
     "status": "completed"
    },
    "tags": []
   },
   "outputs": [],
   "source": []
  }
 ],
 "metadata": {
  "kernelspec": {
   "display_name": "Python 3",
   "language": "python",
   "name": "python3"
  },
  "language_info": {
   "codemirror_mode": {
    "name": "ipython",
    "version": 3
   },
   "file_extension": ".py",
   "mimetype": "text/x-python",
   "name": "python",
   "nbconvert_exporter": "python",
   "pygments_lexer": "ipython3",
   "version": "3.7.12"
  },
  "papermill": {
   "default_parameters": {},
   "duration": 19.870184,
   "end_time": "2022-06-20T03:16:51.298444",
   "environment_variables": {},
   "exception": null,
   "input_path": "__notebook__.ipynb",
   "output_path": "__notebook__.ipynb",
   "parameters": {},
   "start_time": "2022-06-20T03:16:31.428260",
   "version": "2.3.4"
  }
 },
 "nbformat": 4,
 "nbformat_minor": 5
}
