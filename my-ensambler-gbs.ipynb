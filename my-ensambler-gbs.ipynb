{
 "cells": [
  {
   "cell_type": "code",
   "execution_count": 1,
   "id": "50f1da69",
   "metadata": {
    "_cell_guid": "b1076dfc-b9ad-4769-8c92-a6c4dae69d19",
    "_uuid": "8f2839f25d086af736a60e9eeb907d3b93b6e0e5",
    "execution": {
     "iopub.execute_input": "2022-06-29T15:26:06.874568Z",
     "iopub.status.busy": "2022-06-29T15:26:06.874129Z",
     "iopub.status.idle": "2022-06-29T15:26:06.937258Z",
     "shell.execute_reply": "2022-06-29T15:26:06.936191Z"
    },
    "papermill": {
     "duration": 0.078795,
     "end_time": "2022-06-29T15:26:06.940847",
     "exception": false,
     "start_time": "2022-06-29T15:26:06.862052",
     "status": "completed"
    },
    "tags": []
   },
   "outputs": [
    {
     "name": "stdout",
     "output_type": "stream",
     "text": [
      "/kaggle/input/jpx-my-baseline-skgb/__results__.html\n",
      "/kaggle/input/jpx-my-baseline-skgb/simple_skgb.sav\n",
      "/kaggle/input/jpx-my-baseline-skgb/submission.csv\n",
      "/kaggle/input/jpx-my-baseline-skgb/__notebook__.ipynb\n",
      "/kaggle/input/jpx-my-baseline-skgb/__output__.json\n",
      "/kaggle/input/jpx-my-baseline-skgb/custom.css\n",
      "/kaggle/input/jpx-my-baseline-transformer/__results__.html\n",
      "/kaggle/input/jpx-my-baseline-transformer/submission.csv\n",
      "/kaggle/input/jpx-my-baseline-transformer/__notebook__.ipynb\n",
      "/kaggle/input/jpx-my-baseline-transformer/__output__.json\n",
      "/kaggle/input/jpx-my-baseline-transformer/custom.css\n",
      "/kaggle/input/jpx-my-baseline-transformer/tr_1.tf/saved_model.pb\n",
      "/kaggle/input/jpx-my-baseline-transformer/tr_1.tf/keras_metadata.pb\n",
      "/kaggle/input/jpx-my-baseline-transformer/tr_1.tf/variables/variables.index\n",
      "/kaggle/input/jpx-my-baseline-transformer/tr_1.tf/variables/variables.data-00000-of-00001\n",
      "/kaggle/input/jpx-my-baseline-dnn/__results__.html\n",
      "/kaggle/input/jpx-my-baseline-dnn/submission.csv\n",
      "/kaggle/input/jpx-my-baseline-dnn/__notebook__.ipynb\n",
      "/kaggle/input/jpx-my-baseline-dnn/__output__.json\n",
      "/kaggle/input/jpx-my-baseline-dnn/model.png\n",
      "/kaggle/input/jpx-my-baseline-dnn/custom.css\n",
      "/kaggle/input/jpx-my-baseline-dnn/dnn_1.tf/saved_model.pb\n",
      "/kaggle/input/jpx-my-baseline-dnn/dnn_1.tf/keras_metadata.pb\n",
      "/kaggle/input/jpx-my-baseline-dnn/dnn_1.tf/variables/variables.index\n",
      "/kaggle/input/jpx-my-baseline-dnn/dnn_1.tf/variables/variables.data-00000-of-00001\n",
      "/kaggle/input/jpx-my-baseline-dnn/__results___files/__results___39_0.png\n",
      "/kaggle/input/jpx-my-baseline-xgboost/simple_xgb.txt\n",
      "/kaggle/input/jpx-my-baseline-xgboost/__results__.html\n",
      "/kaggle/input/jpx-my-baseline-xgboost/submission.csv\n",
      "/kaggle/input/jpx-my-baseline-xgboost/__notebook__.ipynb\n",
      "/kaggle/input/jpx-my-baseline-xgboost/__output__.json\n",
      "/kaggle/input/jpx-my-baseline-xgboost/simple_xgb.sav\n",
      "/kaggle/input/jpx-my-baseline-xgboost/custom.css\n",
      "/kaggle/input/jpx-tokyo-stock-exchange-prediction/stock_list.csv\n",
      "/kaggle/input/jpx-tokyo-stock-exchange-prediction/example_test_files/sample_submission.csv\n",
      "/kaggle/input/jpx-tokyo-stock-exchange-prediction/example_test_files/options.csv\n",
      "/kaggle/input/jpx-tokyo-stock-exchange-prediction/example_test_files/financials.csv\n",
      "/kaggle/input/jpx-tokyo-stock-exchange-prediction/example_test_files/secondary_stock_prices.csv\n",
      "/kaggle/input/jpx-tokyo-stock-exchange-prediction/example_test_files/trades.csv\n",
      "/kaggle/input/jpx-tokyo-stock-exchange-prediction/example_test_files/stock_prices.csv\n",
      "/kaggle/input/jpx-tokyo-stock-exchange-prediction/jpx_tokyo_market_prediction/competition.cpython-37m-x86_64-linux-gnu.so\n",
      "/kaggle/input/jpx-tokyo-stock-exchange-prediction/jpx_tokyo_market_prediction/__init__.py\n",
      "/kaggle/input/jpx-tokyo-stock-exchange-prediction/data_specifications/stock_fin_spec.csv\n",
      "/kaggle/input/jpx-tokyo-stock-exchange-prediction/data_specifications/trades_spec.csv\n",
      "/kaggle/input/jpx-tokyo-stock-exchange-prediction/data_specifications/stock_price_spec.csv\n",
      "/kaggle/input/jpx-tokyo-stock-exchange-prediction/data_specifications/options_spec.csv\n",
      "/kaggle/input/jpx-tokyo-stock-exchange-prediction/data_specifications/stock_list_spec.csv\n",
      "/kaggle/input/jpx-tokyo-stock-exchange-prediction/train_files/options.csv\n",
      "/kaggle/input/jpx-tokyo-stock-exchange-prediction/train_files/financials.csv\n",
      "/kaggle/input/jpx-tokyo-stock-exchange-prediction/train_files/secondary_stock_prices.csv\n",
      "/kaggle/input/jpx-tokyo-stock-exchange-prediction/train_files/trades.csv\n",
      "/kaggle/input/jpx-tokyo-stock-exchange-prediction/train_files/stock_prices.csv\n",
      "/kaggle/input/jpx-tokyo-stock-exchange-prediction/supplemental_files/options.csv\n",
      "/kaggle/input/jpx-tokyo-stock-exchange-prediction/supplemental_files/financials.csv\n",
      "/kaggle/input/jpx-tokyo-stock-exchange-prediction/supplemental_files/secondary_stock_prices.csv\n",
      "/kaggle/input/jpx-tokyo-stock-exchange-prediction/supplemental_files/trades.csv\n",
      "/kaggle/input/jpx-tokyo-stock-exchange-prediction/supplemental_files/stock_prices.csv\n",
      "/kaggle/input/jpx-my-baseline-lgboost/__results__.html\n",
      "/kaggle/input/jpx-my-baseline-lgboost/simple_LGBM.txt\n",
      "/kaggle/input/jpx-my-baseline-lgboost/simple_LGBM.sav\n",
      "/kaggle/input/jpx-my-baseline-lgboost/submission.csv\n",
      "/kaggle/input/jpx-my-baseline-lgboost/__notebook__.ipynb\n",
      "/kaggle/input/jpx-my-baseline-lgboost/__output__.json\n",
      "/kaggle/input/jpx-my-baseline-lgboost/custom.css\n"
     ]
    }
   ],
   "source": [
    "# importing Relevant Packages\n",
    "import numpy as np \n",
    "import pandas as pd \n",
    "import gc\n",
    "import pickle\n",
    "\n",
    "import os\n",
    "for dirname, _, filenames in os.walk('/kaggle/input'):\n",
    "    for filename in filenames:\n",
    "        print(os.path.join(dirname, filename))\n"
   ]
  },
  {
   "cell_type": "markdown",
   "id": "a0bec086",
   "metadata": {
    "papermill": {
     "duration": 0.006541,
     "end_time": "2022-06-29T15:26:06.954857",
     "exception": false,
     "start_time": "2022-06-29T15:26:06.948316",
     "status": "completed"
    },
    "tags": []
   },
   "source": [
    "## Loading the Gradient Boosting Regression Models "
   ]
  },
  {
   "cell_type": "code",
   "execution_count": 2,
   "id": "6e828ace",
   "metadata": {
    "execution": {
     "iopub.execute_input": "2022-06-29T15:26:06.970327Z",
     "iopub.status.busy": "2022-06-29T15:26:06.969616Z",
     "iopub.status.idle": "2022-06-29T15:26:14.854015Z",
     "shell.execute_reply": "2022-06-29T15:26:14.852956Z"
    },
    "papermill": {
     "duration": 7.894986,
     "end_time": "2022-06-29T15:26:14.856534",
     "exception": false,
     "start_time": "2022-06-29T15:26:06.961548",
     "status": "completed"
    },
    "tags": []
   },
   "outputs": [
    {
     "name": "stdout",
     "output_type": "stream",
     "text": [
      "[15:26:08] WARNING: ../src/gbm/gbtree.cc:390: Loading from a raw memory buffer on CPU only machine.  Changing tree_method to hist.\n",
      "[15:26:08] WARNING: ../src/learner.cc:248: No visible GPU is found, setting `gpu_id` to -1\n"
     ]
    },
    {
     "data": {
      "text/html": [
       "<style type='text/css'>\n",
       ".datatable table.frame { margin-bottom: 0; }\n",
       ".datatable table.frame thead { border-bottom: none; }\n",
       ".datatable table.frame tr.coltypes td {  color: #FFFFFF;  line-height: 6px;  padding: 0 0.5em;}\n",
       ".datatable .bool    { background: #DDDD99; }\n",
       ".datatable .object  { background: #565656; }\n",
       ".datatable .int     { background: #5D9E5D; }\n",
       ".datatable .float   { background: #4040CC; }\n",
       ".datatable .str     { background: #CC4040; }\n",
       ".datatable .time    { background: #40CC40; }\n",
       ".datatable .row_index {  background: var(--jp-border-color3);  border-right: 1px solid var(--jp-border-color0);  color: var(--jp-ui-font-color3);  font-size: 9px;}\n",
       ".datatable .frame tbody td { text-align: left; }\n",
       ".datatable .frame tr.coltypes .row_index {  background: var(--jp-border-color0);}\n",
       ".datatable th:nth-child(2) { padding-left: 12px; }\n",
       ".datatable .hellipsis {  color: var(--jp-cell-editor-border-color);}\n",
       ".datatable .vellipsis {  background: var(--jp-layout-color0);  color: var(--jp-cell-editor-border-color);}\n",
       ".datatable .na {  color: var(--jp-cell-editor-border-color);  font-size: 80%;}\n",
       ".datatable .sp {  opacity: 0.25;}\n",
       ".datatable .footer { font-size: 9px; }\n",
       ".datatable .frame_dimensions {  background: var(--jp-border-color3);  border-top: 1px solid var(--jp-border-color0);  color: var(--jp-ui-font-color3);  display: inline-block;  opacity: 0.6;  padding: 1px 10px 1px 5px;}\n",
       "</style>\n"
      ],
      "text/plain": [
       "<IPython.core.display.HTML object>"
      ]
     },
     "metadata": {},
     "output_type": "display_data"
    }
   ],
   "source": [
    "#loading models\n",
    "model_1 = pickle.load(open('../input/jpx-my-baseline-xgboost/simple_xgb.sav', 'rb'))\n",
    "model_2 = pickle.load(open('../input/jpx-my-baseline-lgboost/simple_LGBM.sav', 'rb'))\n",
    "model_3 = pickle.load(open('../input/jpx-my-baseline-skgb/simple_skgb.sav', 'rb'))\n",
    "\n",
    "#setting the wieghts:\n",
    "w = [0.25,0.7,0.05] \n"
   ]
  },
  {
   "cell_type": "code",
   "execution_count": 3,
   "id": "4cb1561a",
   "metadata": {
    "execution": {
     "iopub.execute_input": "2022-06-29T15:26:14.872878Z",
     "iopub.status.busy": "2022-06-29T15:26:14.871733Z",
     "iopub.status.idle": "2022-06-29T15:26:21.599258Z",
     "shell.execute_reply": "2022-06-29T15:26:21.598144Z"
    },
    "papermill": {
     "duration": 6.738572,
     "end_time": "2022-06-29T15:26:21.602260",
     "exception": false,
     "start_time": "2022-06-29T15:26:14.863688",
     "status": "completed"
    },
    "tags": []
   },
   "outputs": [
    {
     "name": "stderr",
     "output_type": "stream",
     "text": [
      "2022-06-29 15:26:20.448843: I tensorflow/core/common_runtime/process_util.cc:146] Creating new thread pool with default inter op setting: 2. Tune using inter_op_parallelism_threads for best performance.\n",
      "2022-06-29 15:26:21.432507: I tensorflow/compiler/mlir/mlir_graph_optimization_pass.cc:185] None of the MLIR Optimization Passes are enabled (registered 2)\n"
     ]
    }
   ],
   "source": [
    "#loading DNN models\n",
    "\n",
    "import keras\n",
    "\n",
    "dnn_1 = keras.models.load_model(\"../input/jpx-my-baseline-dnn/dnn_1.tf\")"
   ]
  },
  {
   "cell_type": "code",
   "execution_count": 4,
   "id": "7a2e6ca2",
   "metadata": {
    "execution": {
     "iopub.execute_input": "2022-06-29T15:26:21.617854Z",
     "iopub.status.busy": "2022-06-29T15:26:21.617427Z",
     "iopub.status.idle": "2022-06-29T15:26:25.076465Z",
     "shell.execute_reply": "2022-06-29T15:26:25.075333Z"
    },
    "papermill": {
     "duration": 3.469695,
     "end_time": "2022-06-29T15:26:25.079038",
     "exception": false,
     "start_time": "2022-06-29T15:26:21.609343",
     "status": "completed"
    },
    "tags": []
   },
   "outputs": [],
   "source": [
    "#loading Transformer\n",
    "\n",
    "import keras\n",
    "\n",
    "tr_1 = keras.models.load_model(\"../input/jpx-my-baseline-transformer/tr_1.tf\")"
   ]
  },
  {
   "cell_type": "markdown",
   "id": "b55257e4",
   "metadata": {
    "papermill": {
     "duration": 0.006743,
     "end_time": "2022-06-29T15:26:25.093326",
     "exception": false,
     "start_time": "2022-06-29T15:26:25.086583",
     "status": "completed"
    },
    "tags": []
   },
   "source": [
    "## Feature Engeneering"
   ]
  },
  {
   "cell_type": "code",
   "execution_count": null,
   "id": "1320d46a",
   "metadata": {
    "papermill": {
     "duration": 0.006813,
     "end_time": "2022-06-29T15:26:25.107185",
     "exception": false,
     "start_time": "2022-06-29T15:26:25.100372",
     "status": "completed"
    },
    "tags": []
   },
   "outputs": [],
   "source": []
  },
  {
   "cell_type": "code",
   "execution_count": 5,
   "id": "b7a5ca6c",
   "metadata": {
    "execution": {
     "iopub.execute_input": "2022-06-29T15:26:25.123396Z",
     "iopub.status.busy": "2022-06-29T15:26:25.122979Z",
     "iopub.status.idle": "2022-06-29T15:26:25.133559Z",
     "shell.execute_reply": "2022-06-29T15:26:25.132536Z"
    },
    "papermill": {
     "duration": 0.021692,
     "end_time": "2022-06-29T15:26:25.135914",
     "exception": false,
     "start_time": "2022-06-29T15:26:25.114222",
     "status": "completed"
    },
    "tags": []
   },
   "outputs": [],
   "source": [
    "# define function to compute log returns\n",
    "# def log_return(series, periods=1):\n",
    "#     return np.log(series).diff(periods=periods)\n",
    "\n",
    "\n",
    "# # def fill_the_gaps(df):\n",
    "# #     new_df = pd.DataFrame(columns= df.columns)\n",
    "# #     for i in range(len(df['SecuritiesCode'].unique())):\n",
    "# #         new_df = new_df.append(df[df['SecuritiesCode'] == i].reindex(range(df[df['SecuritiesCode'] == i].index[0],df[df['SecuritiesCode'] == i].index[-1]+60,60),method='pad'))\n",
    "# #     new_df.fillna(method = 'pad', inplace = True) \n",
    "# #     return new_df\n",
    "\n",
    "\n",
    "# def rsiFunc(prices, n=14):\n",
    "#     deltas = np.diff(prices)\n",
    "#     seed = deltas[:n+1]\n",
    "#     up = seed[seed>=0].sum()/n\n",
    "#     down = -seed[seed<0].sum()/n\n",
    "#     rs = up/down\n",
    "#     rsi = np.zeros_like(prices)\n",
    "#     rsi[:n] = 100. - 100./(1.+rs)\n",
    "\n",
    "#     for i in range(n, len(prices)):\n",
    "#         delta = deltas[i-1] # cause the diff is 1 shorter\n",
    "\n",
    "#         if delta>0:\n",
    "#             upval = delta\n",
    "#             downval = 0.\n",
    "#         else:\n",
    "#             upval = 0.\n",
    "#             downval = -delta\n",
    "\n",
    "#         up = (up*(n-1) + upval)/n\n",
    "#         down = (down*(n-1) + downval)/n\n",
    "\n",
    "#         rs = up/down\n",
    "#         rsi[i] = 100. - 100./(1.+rs)\n",
    "\n",
    "#     return rsi\n",
    "\n",
    "\n",
    "\n",
    "def get_features(df):\n",
    "\n",
    "#     df['log_return_5'] = log_return(df['Close'],periods=5)\n",
    "#     df['log_return'] = log_return(df['Close'],periods=1)\n",
    "\n",
    "    upper_shadow = lambda asset: asset.High - np.maximum(asset.Close,asset.Open)\n",
    "    lower_shadow = lambda asset: np.minimum(asset.Close,asset.Open)- asset.Low\n",
    "\n",
    "    df['upper_shadow'] = upper_shadow(df)\n",
    "    df['lower_shadow'] = lower_shadow(df)\n",
    "    \n",
    "#     df['EMA_21'] = df['Close'].ewm(span=21).mean()\n",
    "    \n",
    "#     df['EMA_55'] = df['Close'].ewm(span=55).mean()\n",
    "    \n",
    "#     df['EMA_315'] = df['Close'].ewm(span=315).mean()\n",
    "    \n",
    "#     df['EMA_825'] = df['Close'].ewm(span=825).mean()\n",
    "    \n",
    "#     window = 7\n",
    "    \n",
    "#     no_of_std = 2\n",
    "    \n",
    "#     df[f'EMA_{window}'] = df['Close'].ewm(span=window).mean()\n",
    "    \n",
    "#     df[f'EMA_{window}_std'] = df['Close'].rolling(window=window).std()\n",
    "    \n",
    "#     df[f'EMA_{window}_BB_high'] = df[f'EMA_{window}'] + no_of_std * df[f'EMA_{window}_std']\n",
    "    \n",
    "#     df[f'MA_{window}MA_BB_low'] = df[f'EMA_{window}'] - no_of_std * df[f'EMA_{window}_std']\n",
    "    \n",
    "#     window = 5\n",
    "    \n",
    "#     df[f'EMA_{window}'] = df['Close'].ewm(span=window).mean()\n",
    "    \n",
    "#     df[f'EMA_{window}_std'] = df['Close'].rolling(window=window).std()\n",
    "    \n",
    "#     df[f'EMA_{window}_BB_high'] = df[f'EMA_{window}'] + no_of_std * df[f'EMA_{window}_std']\n",
    "    \n",
    "#     df[f'MA_{window}MA_BB_low'] = df[f'EMA_{window}'] - no_of_std * df[f'EMA_{window}_std']\n",
    "    \n",
    "#     df['MACD'] = df['EMA_7'] - df['EMA_5']\n",
    "    \n",
    "    \n",
    "#     df['rsi_5'] = rsiFunc(df['Close'].values, 5)\n",
    "    \n",
    "#     df['rsi_7'] = rsiFunc(df['Close'].values, 7)\n",
    "    \n",
    "#     df['rsi_21'] = rsiFunc(df['Close'].values, 21)\n",
    "    \n",
    "    \n",
    "    \n",
    "    df['VWAP'] = (df['Close'] * df['Volume'])/ df['Volume']\n",
    "\n",
    "\n",
    "\n",
    "\n",
    "    \n",
    "    \n",
    "    #df = pd.concat([df, pd.get_dummies(df['Asset_ID'], prefix= 'Asset_')], axis=1)\n",
    "    \n",
    "    df[[ 'upper_shadow', 'lower_shadow','VWAP']].astype('float16')\n",
    "    \n",
    "    return df"
   ]
  },
  {
   "cell_type": "code",
   "execution_count": 6,
   "id": "b967da94",
   "metadata": {
    "execution": {
     "iopub.execute_input": "2022-06-29T15:26:25.151770Z",
     "iopub.status.busy": "2022-06-29T15:26:25.151375Z",
     "iopub.status.idle": "2022-06-29T15:26:25.156131Z",
     "shell.execute_reply": "2022-06-29T15:26:25.155075Z"
    },
    "papermill": {
     "duration": 0.015018,
     "end_time": "2022-06-29T15:26:25.158160",
     "exception": false,
     "start_time": "2022-06-29T15:26:25.143142",
     "status": "completed"
    },
    "tags": []
   },
   "outputs": [],
   "source": [
    "from sklearn.preprocessing import StandardScaler\n",
    "scaler = StandardScaler()"
   ]
  },
  {
   "cell_type": "code",
   "execution_count": 7,
   "id": "303bbf4b",
   "metadata": {
    "execution": {
     "iopub.execute_input": "2022-06-29T15:26:25.174577Z",
     "iopub.status.busy": "2022-06-29T15:26:25.174213Z",
     "iopub.status.idle": "2022-06-29T15:26:25.179759Z",
     "shell.execute_reply": "2022-06-29T15:26:25.178746Z"
    },
    "papermill": {
     "duration": 0.0159,
     "end_time": "2022-06-29T15:26:25.181780",
     "exception": false,
     "start_time": "2022-06-29T15:26:25.165880",
     "status": "completed"
    },
    "tags": []
   },
   "outputs": [],
   "source": [
    "#sellectiong the features GB\n",
    "\n",
    "scaled_features = ['Open', 'High', 'Low', 'Close', 'Volume', 'upper_shadow', 'lower_shadow','VWAP']\n",
    "features = [\"SecuritiesCode\",'Open', 'High', 'Low', 'Close', 'Volume', 'upper_shadow', 'lower_shadow','VWAP']"
   ]
  },
  {
   "cell_type": "markdown",
   "id": "b78c31b1",
   "metadata": {
    "papermill": {
     "duration": 0.006748,
     "end_time": "2022-06-29T15:26:25.195550",
     "exception": false,
     "start_time": "2022-06-29T15:26:25.188802",
     "status": "completed"
    },
    "tags": []
   },
   "source": [
    "## Submiting"
   ]
  },
  {
   "cell_type": "code",
   "execution_count": null,
   "id": "f2e8ae2f",
   "metadata": {
    "papermill": {
     "duration": 0.006493,
     "end_time": "2022-06-29T15:26:25.209120",
     "exception": false,
     "start_time": "2022-06-29T15:26:25.202627",
     "status": "completed"
    },
    "tags": []
   },
   "outputs": [],
   "source": [
    "\n"
   ]
  },
  {
   "cell_type": "code",
   "execution_count": 8,
   "id": "8362087c",
   "metadata": {
    "execution": {
     "iopub.execute_input": "2022-06-29T15:26:25.225555Z",
     "iopub.status.busy": "2022-06-29T15:26:25.224786Z",
     "iopub.status.idle": "2022-06-29T15:26:25.230916Z",
     "shell.execute_reply": "2022-06-29T15:26:25.230108Z"
    },
    "papermill": {
     "duration": 0.017153,
     "end_time": "2022-06-29T15:26:25.233128",
     "exception": false,
     "start_time": "2022-06-29T15:26:25.215975",
     "status": "completed"
    },
    "tags": []
   },
   "outputs": [],
   "source": [
    "#Building the Ranking Function\n",
    "\n",
    "def add_rank(df, col_name=\"pred\"):\n",
    "    df[\"Rank\"] = df.groupby(\"Date\")[col_name].rank(ascending=False, method=\"first\") - 1 \n",
    "    df[\"Rank\"] = df[\"Rank\"].astype(\"int\")\n",
    "    return df"
   ]
  },
  {
   "cell_type": "code",
   "execution_count": 9,
   "id": "b2eb7339",
   "metadata": {
    "execution": {
     "iopub.execute_input": "2022-06-29T15:26:25.249434Z",
     "iopub.status.busy": "2022-06-29T15:26:25.248647Z",
     "iopub.status.idle": "2022-06-29T15:26:26.626783Z",
     "shell.execute_reply": "2022-06-29T15:26:26.625836Z"
    },
    "papermill": {
     "duration": 1.388939,
     "end_time": "2022-06-29T15:26:26.629280",
     "exception": false,
     "start_time": "2022-06-29T15:26:25.240341",
     "status": "completed"
    },
    "tags": []
   },
   "outputs": [
    {
     "name": "stdout",
     "output_type": "stream",
     "text": [
      "This version of the API is not optimized and should not be used to estimate the runtime of your code on the hidden test set.\n"
     ]
    }
   ],
   "source": [
    "import jpx_tokyo_market_prediction\n",
    "\n",
    "\n",
    "env = jpx_tokyo_market_prediction.make_env()   # initialize the environment\n",
    "iter_test = env.iter_test()    # an iterator which loops over the test files\n",
    "for (prices, options, financials, trades, secondary_prices, sample_prediction) in iter_test:\n",
    "    prices = get_features(prices)\n",
    "    prices = prices.replace((np.inf, -np.inf, np.nan), 0).reset_index(drop=True)\n",
    "    prices = prices.fillna(0)\n",
    "    prices[scaled_features] = scaler.fit_transform(prices[scaled_features])\n",
    "    pred_1 = model_1.predict(prices[features])\n",
    "    pred_2 = model_2.predict(prices[features])\n",
    "    pred_3 = model_3.predict(prices[features])\n",
    "    prices['pred'] = pred_1*w[0] + pred_2*w[1] + pred_3*w[2]\n",
    "    prices = add_rank(prices)\n",
    "    feature_map = prices.set_index('SecuritiesCode')['Rank'].to_dict()\n",
    "    sample_prediction['Rank'] = sample_prediction['SecuritiesCode'].map(feature_map)\n",
    "    env.predict(sample_prediction)"
   ]
  },
  {
   "cell_type": "code",
   "execution_count": 10,
   "id": "118e4e1b",
   "metadata": {
    "execution": {
     "iopub.execute_input": "2022-06-29T15:26:26.645489Z",
     "iopub.status.busy": "2022-06-29T15:26:26.644807Z",
     "iopub.status.idle": "2022-06-29T15:26:26.649566Z",
     "shell.execute_reply": "2022-06-29T15:26:26.648502Z"
    },
    "papermill": {
     "duration": 0.015227,
     "end_time": "2022-06-29T15:26:26.651687",
     "exception": false,
     "start_time": "2022-06-29T15:26:26.636460",
     "status": "completed"
    },
    "tags": []
   },
   "outputs": [],
   "source": [
    "# #with DNN\n",
    "\n",
    "# import jpx_tokyo_market_prediction\n",
    "\n",
    "\n",
    "# env = jpx_tokyo_market_prediction.make_env()   # initialize the environment\n",
    "# iter_test = env.iter_test()    # an iterator which loops over the test files\n",
    "# for (prices, options, financials, trades, secondary_prices, sample_prediction) in iter_test:\n",
    "#     prices = get_features(prices)\n",
    "#     prices = prices.replace((np.inf, -np.inf, np.nan), 0).reset_index(drop=True)\n",
    "#     prices = prices.fillna(0)\n",
    "#     prices[tr_scaled_features] = scaler.fit_transform(prices[dnn_features])\n",
    "#     prices['pred'] = dnn_1.predict(dict(prices))\n",
    "#     prices = add_rank(prices)\n",
    "#     feature_map = prices.set_index('SecuritiesCode')['Rank'].to_dict()\n",
    "#     sample_prediction['Rank'] = sample_prediction['SecuritiesCode'].map(feature_map)\n",
    "#     env.predict(sample_prediction)"
   ]
  },
  {
   "cell_type": "code",
   "execution_count": 11,
   "id": "2662f81a",
   "metadata": {
    "execution": {
     "iopub.execute_input": "2022-06-29T15:26:26.666998Z",
     "iopub.status.busy": "2022-06-29T15:26:26.666606Z",
     "iopub.status.idle": "2022-06-29T15:26:26.671597Z",
     "shell.execute_reply": "2022-06-29T15:26:26.670740Z"
    },
    "papermill": {
     "duration": 0.015116,
     "end_time": "2022-06-29T15:26:26.673624",
     "exception": false,
     "start_time": "2022-06-29T15:26:26.658508",
     "status": "completed"
    },
    "tags": []
   },
   "outputs": [],
   "source": [
    "\n",
    "# sample = {\n",
    "#     \"SecuritiesCode\": 33,\n",
    "#     \"Open\": 0.00135,\n",
    "#     \"High\": 0.1535,\n",
    "#     \"Low\": 0.10035,\n",
    "#     \"Close\": 0.13075,\n",
    "#     \"Volume\": 0.1435,\n",
    "#     \"log_return\": 0.00135,\n",
    "#     \"log_return_5\": 0.00135,\n",
    "#     \"upper_shadow\": 0.4135,\n",
    "#     \"lower_shadow\": 0.0135,\n",
    "#     \"VWAP\": 0.1305,\n",
    "#     \"EMA_7\": 0.7135,\n",
    "#     \"EMA_7_std\": 0.135,\n",
    "#     \"EMA_5\": 0.135,\n",
    "#     \"EMA_5_std\": 0.15,\n",
    "#     \"MACD\": 0.125,\n",
    "#     \"rsi_5\": 0.135,\n",
    "#     \"rsi_7\": 0.015,\n",
    "#     \"rsi_21\": 0,\n",
    "# }\n",
    "\n",
    "# input_dict = {name: tf.convert_to_tensor([value]) for name, value in sample.items()}\n",
    "# predictions = dnn_1.predict(input_dict)\n",
    "\n",
    "# print(\n",
    "#     \"This particular patient had a %.1f percent probability \"\n",
    "#     \"of having a heart disease, as evaluated by our model.\" % (100 * predictions[0][0],)\n",
    "# )"
   ]
  },
  {
   "cell_type": "code",
   "execution_count": null,
   "id": "d4c7103d",
   "metadata": {
    "execution": {
     "iopub.execute_input": "2022-06-23T15:46:37.086442Z",
     "iopub.status.busy": "2022-06-23T15:46:37.085976Z",
     "iopub.status.idle": "2022-06-23T15:46:37.563278Z",
     "shell.execute_reply": "2022-06-23T15:46:37.562068Z",
     "shell.execute_reply.started": "2022-06-23T15:46:37.086409Z"
    },
    "papermill": {
     "duration": 0.006519,
     "end_time": "2022-06-29T15:26:26.686968",
     "exception": false,
     "start_time": "2022-06-29T15:26:26.680449",
     "status": "completed"
    },
    "tags": []
   },
   "outputs": [],
   "source": []
  },
  {
   "cell_type": "code",
   "execution_count": null,
   "id": "96327b4f",
   "metadata": {
    "execution": {
     "iopub.execute_input": "2022-06-23T15:50:32.614072Z",
     "iopub.status.busy": "2022-06-23T15:50:32.613629Z",
     "iopub.status.idle": "2022-06-23T15:50:32.622607Z",
     "shell.execute_reply": "2022-06-23T15:50:32.62127Z",
     "shell.execute_reply.started": "2022-06-23T15:50:32.614043Z"
    },
    "papermill": {
     "duration": 0.006473,
     "end_time": "2022-06-29T15:26:26.700204",
     "exception": false,
     "start_time": "2022-06-29T15:26:26.693731",
     "status": "completed"
    },
    "tags": []
   },
   "outputs": [],
   "source": [
    "\n",
    "\n"
   ]
  },
  {
   "cell_type": "code",
   "execution_count": null,
   "id": "0167f85b",
   "metadata": {
    "execution": {
     "iopub.execute_input": "2022-06-23T15:50:55.947801Z",
     "iopub.status.busy": "2022-06-23T15:50:55.947325Z",
     "iopub.status.idle": "2022-06-23T15:50:57.87755Z",
     "shell.execute_reply": "2022-06-23T15:50:57.876373Z",
     "shell.execute_reply.started": "2022-06-23T15:50:55.947764Z"
    },
    "papermill": {
     "duration": 0.006736,
     "end_time": "2022-06-29T15:26:26.713891",
     "exception": false,
     "start_time": "2022-06-29T15:26:26.707155",
     "status": "completed"
    },
    "tags": []
   },
   "outputs": [],
   "source": []
  },
  {
   "cell_type": "code",
   "execution_count": null,
   "id": "acb3b403",
   "metadata": {
    "execution": {
     "iopub.execute_input": "2022-06-23T15:52:14.603986Z",
     "iopub.status.busy": "2022-06-23T15:52:14.60353Z",
     "iopub.status.idle": "2022-06-23T15:52:14.611101Z",
     "shell.execute_reply": "2022-06-23T15:52:14.610005Z",
     "shell.execute_reply.started": "2022-06-23T15:52:14.603953Z"
    },
    "papermill": {
     "duration": 0.006506,
     "end_time": "2022-06-29T15:26:26.727238",
     "exception": false,
     "start_time": "2022-06-29T15:26:26.720732",
     "status": "completed"
    },
    "tags": []
   },
   "outputs": [],
   "source": []
  },
  {
   "cell_type": "code",
   "execution_count": null,
   "id": "ccda26dd",
   "metadata": {
    "execution": {
     "iopub.execute_input": "2022-06-23T16:02:06.334122Z",
     "iopub.status.busy": "2022-06-23T16:02:06.333736Z",
     "iopub.status.idle": "2022-06-23T16:02:06.369841Z",
     "shell.execute_reply": "2022-06-23T16:02:06.368696Z",
     "shell.execute_reply.started": "2022-06-23T16:02:06.334091Z"
    },
    "papermill": {
     "duration": 0.0067,
     "end_time": "2022-06-29T15:26:26.740722",
     "exception": false,
     "start_time": "2022-06-29T15:26:26.734022",
     "status": "completed"
    },
    "tags": []
   },
   "outputs": [],
   "source": []
  },
  {
   "cell_type": "code",
   "execution_count": null,
   "id": "2ff2ebbe",
   "metadata": {
    "execution": {
     "iopub.execute_input": "2022-06-23T19:19:23.091964Z",
     "iopub.status.busy": "2022-06-23T19:19:23.091559Z",
     "iopub.status.idle": "2022-06-23T19:19:23.846583Z",
     "shell.execute_reply": "2022-06-23T19:19:23.845627Z",
     "shell.execute_reply.started": "2022-06-23T19:19:23.091931Z"
    },
    "papermill": {
     "duration": 0.006589,
     "end_time": "2022-06-29T15:26:26.754006",
     "exception": false,
     "start_time": "2022-06-29T15:26:26.747417",
     "status": "completed"
    },
    "tags": []
   },
   "outputs": [],
   "source": []
  },
  {
   "cell_type": "code",
   "execution_count": null,
   "id": "bc76389a",
   "metadata": {
    "papermill": {
     "duration": 0.006501,
     "end_time": "2022-06-29T15:26:26.767333",
     "exception": false,
     "start_time": "2022-06-29T15:26:26.760832",
     "status": "completed"
    },
    "tags": []
   },
   "outputs": [],
   "source": []
  }
 ],
 "metadata": {
  "kernelspec": {
   "display_name": "Python 3",
   "language": "python",
   "name": "python3"
  },
  "language_info": {
   "codemirror_mode": {
    "name": "ipython",
    "version": 3
   },
   "file_extension": ".py",
   "mimetype": "text/x-python",
   "name": "python",
   "nbconvert_exporter": "python",
   "pygments_lexer": "ipython3",
   "version": "3.7.12"
  },
  "papermill": {
   "default_parameters": {},
   "duration": 32.647522,
   "end_time": "2022-06-29T15:26:29.594688",
   "environment_variables": {},
   "exception": null,
   "input_path": "__notebook__.ipynb",
   "output_path": "__notebook__.ipynb",
   "parameters": {},
   "start_time": "2022-06-29T15:25:56.947166",
   "version": "2.3.4"
  }
 },
 "nbformat": 4,
 "nbformat_minor": 5
}
