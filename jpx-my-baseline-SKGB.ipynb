{
 "cells": [
  {
   "cell_type": "code",
   "execution_count": 1,
   "id": "22a3dfb3",
   "metadata": {
    "_cell_guid": "b1076dfc-b9ad-4769-8c92-a6c4dae69d19",
    "_uuid": "8f2839f25d086af736a60e9eeb907d3b93b6e0e5",
    "execution": {
     "iopub.execute_input": "2022-06-21T22:49:30.163389Z",
     "iopub.status.busy": "2022-06-21T22:49:30.162727Z",
     "iopub.status.idle": "2022-06-21T22:49:30.190865Z",
     "shell.execute_reply": "2022-06-21T22:49:30.190089Z"
    },
    "papermill": {
     "duration": 0.040939,
     "end_time": "2022-06-21T22:49:30.193947",
     "exception": false,
     "start_time": "2022-06-21T22:49:30.153008",
     "status": "completed"
    },
    "tags": []
   },
   "outputs": [
    {
     "name": "stdout",
     "output_type": "stream",
     "text": [
      "/kaggle/input/jpx-tokyo-stock-exchange-prediction/stock_list.csv\n",
      "/kaggle/input/jpx-tokyo-stock-exchange-prediction/example_test_files/sample_submission.csv\n",
      "/kaggle/input/jpx-tokyo-stock-exchange-prediction/example_test_files/options.csv\n",
      "/kaggle/input/jpx-tokyo-stock-exchange-prediction/example_test_files/financials.csv\n",
      "/kaggle/input/jpx-tokyo-stock-exchange-prediction/example_test_files/secondary_stock_prices.csv\n",
      "/kaggle/input/jpx-tokyo-stock-exchange-prediction/example_test_files/trades.csv\n",
      "/kaggle/input/jpx-tokyo-stock-exchange-prediction/example_test_files/stock_prices.csv\n",
      "/kaggle/input/jpx-tokyo-stock-exchange-prediction/jpx_tokyo_market_prediction/competition.cpython-37m-x86_64-linux-gnu.so\n",
      "/kaggle/input/jpx-tokyo-stock-exchange-prediction/jpx_tokyo_market_prediction/__init__.py\n",
      "/kaggle/input/jpx-tokyo-stock-exchange-prediction/data_specifications/stock_fin_spec.csv\n",
      "/kaggle/input/jpx-tokyo-stock-exchange-prediction/data_specifications/trades_spec.csv\n",
      "/kaggle/input/jpx-tokyo-stock-exchange-prediction/data_specifications/stock_price_spec.csv\n",
      "/kaggle/input/jpx-tokyo-stock-exchange-prediction/data_specifications/options_spec.csv\n",
      "/kaggle/input/jpx-tokyo-stock-exchange-prediction/data_specifications/stock_list_spec.csv\n",
      "/kaggle/input/jpx-tokyo-stock-exchange-prediction/train_files/options.csv\n",
      "/kaggle/input/jpx-tokyo-stock-exchange-prediction/train_files/financials.csv\n",
      "/kaggle/input/jpx-tokyo-stock-exchange-prediction/train_files/secondary_stock_prices.csv\n",
      "/kaggle/input/jpx-tokyo-stock-exchange-prediction/train_files/trades.csv\n",
      "/kaggle/input/jpx-tokyo-stock-exchange-prediction/train_files/stock_prices.csv\n",
      "/kaggle/input/jpx-tokyo-stock-exchange-prediction/supplemental_files/options.csv\n",
      "/kaggle/input/jpx-tokyo-stock-exchange-prediction/supplemental_files/financials.csv\n",
      "/kaggle/input/jpx-tokyo-stock-exchange-prediction/supplemental_files/secondary_stock_prices.csv\n",
      "/kaggle/input/jpx-tokyo-stock-exchange-prediction/supplemental_files/trades.csv\n",
      "/kaggle/input/jpx-tokyo-stock-exchange-prediction/supplemental_files/stock_prices.csv\n"
     ]
    }
   ],
   "source": [
    "# This Python 3 environment comes with many helpful analytics libraries installed\n",
    "# It is defined by the kaggle/python Docker image: https://github.com/kaggle/docker-python\n",
    "# For example, here's several helpful packages to load\n",
    "\n",
    "import numpy as np # linear algebra\n",
    "import pandas as pd # data processing, CSV file I/O (e.g. pd.read_csv)\n",
    "\n",
    "# Input data files are available in the read-only \"../input/\" directory\n",
    "# For example, running this (by clicking run or pressing Shift+Enter) will list all files under the input directory\n",
    "\n",
    "import os\n",
    "for dirname, _, filenames in os.walk('/kaggle/input'):\n",
    "    for filename in filenames:\n",
    "        print(os.path.join(dirname, filename))\n",
    "\n",
    "# You can write up to 20GB to the current directory (/kaggle/working/) th\n",
    "#at gets preserved as output when you create a version using \"Save & Run All\" \n",
    "# You can also write temporary files to /kaggle/temp/, but they won't be saved outside of the current session"
   ]
  },
  {
   "cell_type": "markdown",
   "id": "ba16a7a0",
   "metadata": {
    "papermill": {
     "duration": 0.006526,
     "end_time": "2022-06-21T22:49:30.208886",
     "exception": false,
     "start_time": "2022-06-21T22:49:30.202360",
     "status": "completed"
    },
    "tags": []
   },
   "source": [
    "# Here starts my Baseline\n",
    "\n",
    "Ideas:\n",
    "\n",
    "1  - Feature engeneering- Basic and effective;\n",
    "\n",
    "2 - Gradient Boosting Regressions;\n",
    "\n",
    "3 - Neuronets Regressions; and\n",
    "\n",
    "4 - Submission.\n",
    "\n"
   ]
  },
  {
   "cell_type": "markdown",
   "id": "360af4a9",
   "metadata": {
    "papermill": {
     "duration": 0.006555,
     "end_time": "2022-06-21T22:49:30.222347",
     "exception": false,
     "start_time": "2022-06-21T22:49:30.215792",
     "status": "completed"
    },
    "tags": []
   },
   "source": [
    "## 1 Feature Engeneering"
   ]
  },
  {
   "cell_type": "code",
   "execution_count": 2,
   "id": "55b3ece2",
   "metadata": {
    "execution": {
     "iopub.execute_input": "2022-06-21T22:49:30.238553Z",
     "iopub.status.busy": "2022-06-21T22:49:30.237905Z",
     "iopub.status.idle": "2022-06-21T22:49:30.243160Z",
     "shell.execute_reply": "2022-06-21T22:49:30.242483Z"
    },
    "papermill": {
     "duration": 0.015183,
     "end_time": "2022-06-21T22:49:30.244866",
     "exception": false,
     "start_time": "2022-06-21T22:49:30.229683",
     "status": "completed"
    },
    "tags": []
   },
   "outputs": [],
   "source": [
    "def concat_df(df1, df2):\n",
    "    df1 = pd.concat([df1, df2],\n",
    "                    ignore_index=True, sort=False\n",
    "                    ).drop_duplicates([\"RowId\"], keep=\"first\")\n",
    "    return df1"
   ]
  },
  {
   "cell_type": "code",
   "execution_count": 3,
   "id": "0fa5f92a",
   "metadata": {
    "execution": {
     "iopub.execute_input": "2022-06-21T22:49:30.259322Z",
     "iopub.status.busy": "2022-06-21T22:49:30.259071Z",
     "iopub.status.idle": "2022-06-21T22:49:36.774432Z",
     "shell.execute_reply": "2022-06-21T22:49:36.773645Z"
    },
    "papermill": {
     "duration": 6.524605,
     "end_time": "2022-06-21T22:49:36.776291",
     "exception": false,
     "start_time": "2022-06-21T22:49:30.251686",
     "status": "completed"
    },
    "tags": []
   },
   "outputs": [
    {
     "name": "stdout",
     "output_type": "stream",
     "text": [
      "<class 'pandas.core.frame.DataFrame'>\n",
      "Int64Index: 2286531 entries, 0 to 2286530\n",
      "Data columns (total 12 columns):\n",
      " #   Column            Non-Null Count    Dtype  \n",
      "---  ------            --------------    -----  \n",
      " 0   RowId             2286531 non-null  object \n",
      " 1   Date              2286531 non-null  object \n",
      " 2   SecuritiesCode    2286531 non-null  int16  \n",
      " 3   Open              2279061 non-null  float16\n",
      " 4   High              2279061 non-null  float16\n",
      " 5   Low               2279061 non-null  float16\n",
      " 6   Close             2279061 non-null  float16\n",
      " 7   Volume            2286531 non-null  int8   \n",
      " 8   AdjustmentFactor  2286531 non-null  float16\n",
      " 9   ExpectedDividend  18810 non-null    float16\n",
      " 10  SupervisionFlag   2286531 non-null  bool   \n",
      " 11  Target            2286293 non-null  float16\n",
      "dtypes: bool(1), float16(7), int16(1), int8(1), object(2)\n",
      "memory usage: 91.6+ MB\n"
     ]
    }
   ],
   "source": [
    "# For now... use pandas.... \n",
    "#If too heavy use Cudf\n",
    "\n",
    "# For now... just fix the floats\n",
    "dtypes = {\n",
    "'SecuritiesCode' :     np.int16,\n",
    "'Open'           :     np.float16,\n",
    "'High'           :     np.float16,\n",
    "'Low'            :     np.float16,\n",
    "'Close'          :     np.float16,\n",
    "'Volume'         :       np.int8,\n",
    "'AdjustmentFactor':    np.float16,\n",
    "'ExpectedDividend':    np.float16,\n",
    "'Target'        :      np.float16\n",
    "}\n",
    "path = \"../input/jpx-tokyo-stock-exchange-prediction/\"\n",
    "df_prices = pd.read_csv(f\"{path}train_files/stock_prices.csv\",dtype = dtypes)\n",
    "#prices = pd.read_csv(f\"{path}supplemental_files/stock_prices.csv\",dtype = dtypes)\n",
    "#df_prices = concat_df(df_prices, prices)\n",
    "#prices = pd.read_csv(f\"{path}train_files/secondary_stock_prices.csv\",dtype = dtypes)\n",
    "#df_prices = concat_df(df_prices, prices)\n",
    "#prices = pd.read_csv(f\"{path}supplemental_files/secondary_stock_prices.csv\",dtype = dtypes)\n",
    "#df_prices = concat_df(df_prices, prices)\n",
    "df_prices = df_prices[df_prices.Date<\"2021-11-01\"]\n",
    "df_prices.info(show_counts=True)"
   ]
  },
  {
   "cell_type": "code",
   "execution_count": null,
   "id": "287c212f",
   "metadata": {
    "papermill": {
     "duration": 0.006847,
     "end_time": "2022-06-21T22:49:36.790893",
     "exception": false,
     "start_time": "2022-06-21T22:49:36.784046",
     "status": "completed"
    },
    "tags": []
   },
   "outputs": [],
   "source": []
  },
  {
   "cell_type": "code",
   "execution_count": 4,
   "id": "1534ab29",
   "metadata": {
    "execution": {
     "iopub.execute_input": "2022-06-21T22:49:36.805512Z",
     "iopub.status.busy": "2022-06-21T22:49:36.805206Z",
     "iopub.status.idle": "2022-06-21T22:49:36.808679Z",
     "shell.execute_reply": "2022-06-21T22:49:36.807836Z"
    },
    "papermill": {
     "duration": 0.012867,
     "end_time": "2022-06-21T22:49:36.810565",
     "exception": false,
     "start_time": "2022-06-21T22:49:36.797698",
     "status": "completed"
    },
    "tags": []
   },
   "outputs": [],
   "source": [
    "# def prep_prices(price):\n",
    "#     price.fillna(0,inplace=True)\n",
    "#     return price"
   ]
  },
  {
   "cell_type": "code",
   "execution_count": 5,
   "id": "887d7e52",
   "metadata": {
    "execution": {
     "iopub.execute_input": "2022-06-21T22:49:36.825222Z",
     "iopub.status.busy": "2022-06-21T22:49:36.824971Z",
     "iopub.status.idle": "2022-06-21T22:49:36.829087Z",
     "shell.execute_reply": "2022-06-21T22:49:36.828388Z"
    },
    "papermill": {
     "duration": 0.013016,
     "end_time": "2022-06-21T22:49:36.830691",
     "exception": false,
     "start_time": "2022-06-21T22:49:36.817675",
     "status": "completed"
    },
    "tags": []
   },
   "outputs": [],
   "source": [
    "# df_prices = prep_prices(df_prices)\n",
    "# pd.options.display.float_format = '{:,.6g}'.format\n",
    "# df_prices.describe()"
   ]
  },
  {
   "cell_type": "code",
   "execution_count": 6,
   "id": "f99048d7",
   "metadata": {
    "execution": {
     "iopub.execute_input": "2022-06-21T22:49:36.845051Z",
     "iopub.status.busy": "2022-06-21T22:49:36.844534Z",
     "iopub.status.idle": "2022-06-21T22:49:36.848151Z",
     "shell.execute_reply": "2022-06-21T22:49:36.847080Z"
    },
    "papermill": {
     "duration": 0.012444,
     "end_time": "2022-06-21T22:49:36.849734",
     "exception": false,
     "start_time": "2022-06-21T22:49:36.837290",
     "status": "completed"
    },
    "tags": []
   },
   "outputs": [],
   "source": [
    "# # Open stock_list\n",
    "# stock_list = pd.read_csv(\"../input/jpx-tokyo-stock-exchange-prediction/stock_list.csv\")\n",
    "# stock_list"
   ]
  },
  {
   "cell_type": "code",
   "execution_count": 7,
   "id": "5455dc65",
   "metadata": {
    "execution": {
     "iopub.execute_input": "2022-06-21T22:49:36.864578Z",
     "iopub.status.busy": "2022-06-21T22:49:36.864325Z",
     "iopub.status.idle": "2022-06-21T22:49:36.868031Z",
     "shell.execute_reply": "2022-06-21T22:49:36.867341Z"
    },
    "papermill": {
     "duration": 0.013068,
     "end_time": "2022-06-21T22:49:36.869583",
     "exception": false,
     "start_time": "2022-06-21T22:49:36.856515",
     "status": "completed"
    },
    "tags": []
   },
   "outputs": [],
   "source": [
    "# #Match Stocklist to securities code\n",
    "# stock_list = stock_list[['SecuritiesCode','NewMarketSegment','33SectorCode','17SectorCode','Universe0','Section/Products','NewIndexSeriesSize']]\n",
    "# stock_list = stock_list.replace(np.nan,'-')\n",
    "# stock_list['Universe0'] = np.where(stock_list['Universe0'], 1, 0)\n",
    "# stock_list = stock_list.drop_duplicates()\n",
    "# stock_list\n"
   ]
  },
  {
   "cell_type": "code",
   "execution_count": 8,
   "id": "d5cb565c",
   "metadata": {
    "execution": {
     "iopub.execute_input": "2022-06-21T22:49:36.883689Z",
     "iopub.status.busy": "2022-06-21T22:49:36.883418Z",
     "iopub.status.idle": "2022-06-21T22:49:36.888075Z",
     "shell.execute_reply": "2022-06-21T22:49:36.887378Z"
    },
    "papermill": {
     "duration": 0.013489,
     "end_time": "2022-06-21T22:49:36.889708",
     "exception": false,
     "start_time": "2022-06-21T22:49:36.876219",
     "status": "completed"
    },
    "tags": []
   },
   "outputs": [],
   "source": [
    "from datetime import datetime\n",
    "import time\n",
    "\n",
    " # auxiliary function, from datetime to timestamp\n",
    "totimestamp = lambda s: np.int32(time.mktime(datetime.strptime(s, \"%Y-%m-%d\").timetuple()))"
   ]
  },
  {
   "cell_type": "markdown",
   "id": "818842c4",
   "metadata": {
    "papermill": {
     "duration": 0.006387,
     "end_time": "2022-06-21T22:49:36.902762",
     "exception": false,
     "start_time": "2022-06-21T22:49:36.896375",
     "status": "completed"
    },
    "tags": []
   },
   "source": [
    "# Data Features\n"
   ]
  },
  {
   "cell_type": "code",
   "execution_count": 9,
   "id": "7d3776e3",
   "metadata": {
    "execution": {
     "iopub.execute_input": "2022-06-21T22:49:36.917375Z",
     "iopub.status.busy": "2022-06-21T22:49:36.917132Z",
     "iopub.status.idle": "2022-06-21T22:49:36.936252Z",
     "shell.execute_reply": "2022-06-21T22:49:36.935375Z"
    },
    "papermill": {
     "duration": 0.028394,
     "end_time": "2022-06-21T22:49:36.938050",
     "exception": false,
     "start_time": "2022-06-21T22:49:36.909656",
     "status": "completed"
    },
    "tags": []
   },
   "outputs": [],
   "source": [
    "\n",
    "# define function to compute log returns\n",
    "def log_return(series, periods=1):\n",
    "    return np.log(series).diff(periods=periods)\n",
    "\n",
    "\n",
    "# def fill_the_gaps(df):\n",
    "#     new_df = pd.DataFrame(columns= df.columns)\n",
    "#     for i in range(len(df['SecuritiesCode'].unique())):\n",
    "#         new_df = new_df.append(df[df['SecuritiesCode'] == i].reindex(range(df[df['SecuritiesCode'] == i].index[0],df[df['SecuritiesCode'] == i].index[-1]+60,60),method='pad'))\n",
    "#     new_df.fillna(method = 'pad', inplace = True) \n",
    "#     return new_df\n",
    "\n",
    "\n",
    "def rsiFunc(prices, n=14):\n",
    "    deltas = np.diff(prices)\n",
    "    seed = deltas[:n+1]\n",
    "    up = seed[seed>=0].sum()/n\n",
    "    down = -seed[seed<0].sum()/n\n",
    "    rs = up/down\n",
    "    rsi = np.zeros_like(prices)\n",
    "    rsi[:n] = 100. - 100./(1.+rs)\n",
    "\n",
    "    for i in range(n, len(prices)):\n",
    "        delta = deltas[i-1] # cause the diff is 1 shorter\n",
    "\n",
    "        if delta>0:\n",
    "            upval = delta\n",
    "            downval = 0.\n",
    "        else:\n",
    "            upval = 0.\n",
    "            downval = -delta\n",
    "\n",
    "        up = (up*(n-1) + upval)/n\n",
    "        down = (down*(n-1) + downval)/n\n",
    "\n",
    "        rs = up/down\n",
    "        rsi[i] = 100. - 100./(1.+rs)\n",
    "\n",
    "    return rsi\n",
    "\n",
    "\n",
    "\n",
    "def get_features(df):\n",
    "\n",
    "    df['log_return_5'] = log_return(df['Close'],periods=5)\n",
    "    df['log_return'] = log_return(df['Close'],periods=1)\n",
    "\n",
    "    upper_shadow = lambda asset: asset.High - np.maximum(asset.Close,asset.Open)\n",
    "    lower_shadow = lambda asset: np.minimum(asset.Close,asset.Open)- asset.Low\n",
    "\n",
    "    df['upper_shadow'] = upper_shadow(df)\n",
    "    df['lower_shadow'] = lower_shadow(df)\n",
    "    \n",
    "    df['EMA_21'] = df['Close'].ewm(span=21).mean()\n",
    "    \n",
    "    df['EMA_55'] = df['Close'].ewm(span=55).mean()\n",
    "    \n",
    "    df['EMA_315'] = df['Close'].ewm(span=315).mean()\n",
    "    \n",
    "    df['EMA_825'] = df['Close'].ewm(span=825).mean()\n",
    "    \n",
    "    window = 7\n",
    "    \n",
    "    no_of_std = 2\n",
    "    \n",
    "    df[f'EMA_{window}'] = df['Close'].ewm(span=window).mean()\n",
    "    \n",
    "    df[f'EMA_{window}_std'] = df['Close'].rolling(window=window).std()\n",
    "    \n",
    "    df[f'EMA_{window}_BB_high'] = df[f'EMA_{window}'] + no_of_std * df[f'EMA_{window}_std']\n",
    "    \n",
    "    df[f'MA_{window}MA_BB_low'] = df[f'EMA_{window}'] - no_of_std * df[f'EMA_{window}_std']\n",
    "    \n",
    "    window = 5\n",
    "    \n",
    "    df[f'EMA_{window}'] = df['Close'].ewm(span=window).mean()\n",
    "    \n",
    "    df[f'EMA_{window}_std'] = df['Close'].rolling(window=window).std()\n",
    "    \n",
    "    df[f'EMA_{window}_BB_high'] = df[f'EMA_{window}'] + no_of_std * df[f'EMA_{window}_std']\n",
    "    \n",
    "    df[f'MA_{window}MA_BB_low'] = df[f'EMA_{window}'] - no_of_std * df[f'EMA_{window}_std']\n",
    "    \n",
    "    df['MACD'] = df['EMA_7'] - df['EMA_5']\n",
    "    \n",
    "    \n",
    "    df['rsi_5'] = rsiFunc(df['Close'].values, 5)\n",
    "    \n",
    "    df['rsi_7'] = rsiFunc(df['Close'].values, 7)\n",
    "    \n",
    "    df['rsi_21'] = rsiFunc(df['Close'].values, 21)\n",
    "    \n",
    "    \n",
    "    \n",
    "    df['VWAP'] = (df['Close'] * df['Volume'])/ df['Volume']\n",
    "\n",
    "\n",
    "\n",
    "\n",
    "    \n",
    "    \n",
    "    #df = pd.concat([df, pd.get_dummies(df['Asset_ID'], prefix= 'Asset_')], axis=1)\n",
    "    \n",
    "    df[['log_return_5', 'log_return', 'upper_shadow', 'lower_shadow',\n",
    "       'EMA_21', 'EMA_55', 'EMA_315', 'EMA_825', 'EMA_7', 'EMA_7_std',\n",
    "       'EMA_7_BB_high', 'MA_7MA_BB_low', 'EMA_5', 'EMA_5_std', 'EMA_5_BB_high',\n",
    "       'MA_5MA_BB_low', 'MACD', 'rsi_5', 'rsi_7', 'rsi_21']].astype('float16')\n",
    "    \n",
    "    return df\n",
    "\n"
   ]
  },
  {
   "cell_type": "code",
   "execution_count": 10,
   "id": "0e23b3ea",
   "metadata": {
    "execution": {
     "iopub.execute_input": "2022-06-21T22:49:36.951984Z",
     "iopub.status.busy": "2022-06-21T22:49:36.951746Z",
     "iopub.status.idle": "2022-06-21T22:50:25.563808Z",
     "shell.execute_reply": "2022-06-21T22:50:25.562963Z"
    },
    "papermill": {
     "duration": 48.621359,
     "end_time": "2022-06-21T22:50:25.565916",
     "exception": false,
     "start_time": "2022-06-21T22:49:36.944557",
     "status": "completed"
    },
    "tags": []
   },
   "outputs": [
    {
     "name": "stderr",
     "output_type": "stream",
     "text": [
      "/opt/conda/lib/python3.7/site-packages/pandas/core/algorithms.py:1711: RuntimeWarning: invalid value encountered in subtract\n",
      "  out_arr[res_indexer] = op(arr[res_indexer], arr[lag_indexer])\n",
      "/opt/conda/lib/python3.7/site-packages/numpy/lib/function_base.py:1292: RuntimeWarning: invalid value encountered in subtract\n",
      "  a = op(a[slice1], a[slice2])\n"
     ]
    }
   ],
   "source": [
    "df_prices = df_prices.sort_values('SecuritiesCode')\n",
    "\n",
    "df_prices = get_features(df_prices)\n",
    "\n",
    "df_prices = df_prices.replace((np.inf, -np.inf, np.nan), 0).reset_index(drop=True)\n",
    "\n",
    "df_prices = df_prices.fillna(0)"
   ]
  },
  {
   "cell_type": "markdown",
   "id": "a7947b15",
   "metadata": {
    "papermill": {
     "duration": 0.006632,
     "end_time": "2022-06-21T22:50:25.580542",
     "exception": false,
     "start_time": "2022-06-21T22:50:25.573910",
     "status": "completed"
    },
    "tags": []
   },
   "source": [
    "## Training a Simple Model\n",
    "\n",
    "Xgboost"
   ]
  },
  {
   "cell_type": "code",
   "execution_count": 11,
   "id": "37d093af",
   "metadata": {
    "execution": {
     "iopub.execute_input": "2022-06-21T22:50:25.595139Z",
     "iopub.status.busy": "2022-06-21T22:50:25.594844Z",
     "iopub.status.idle": "2022-06-21T22:50:26.488161Z",
     "shell.execute_reply": "2022-06-21T22:50:26.487377Z"
    },
    "papermill": {
     "duration": 0.902768,
     "end_time": "2022-06-21T22:50:26.490001",
     "exception": false,
     "start_time": "2022-06-21T22:50:25.587233",
     "status": "completed"
    },
    "tags": []
   },
   "outputs": [
    {
     "data": {
      "text/html": [
       "<div>\n",
       "<style scoped>\n",
       "    .dataframe tbody tr th:only-of-type {\n",
       "        vertical-align: middle;\n",
       "    }\n",
       "\n",
       "    .dataframe tbody tr th {\n",
       "        vertical-align: top;\n",
       "    }\n",
       "\n",
       "    .dataframe thead th {\n",
       "        text-align: right;\n",
       "    }\n",
       "</style>\n",
       "<table border=\"1\" class=\"dataframe\">\n",
       "  <thead>\n",
       "    <tr style=\"text-align: right;\">\n",
       "      <th></th>\n",
       "      <th>RowId</th>\n",
       "      <th>Date</th>\n",
       "      <th>SecuritiesCode</th>\n",
       "      <th>Open</th>\n",
       "      <th>High</th>\n",
       "      <th>Low</th>\n",
       "      <th>Close</th>\n",
       "      <th>Volume</th>\n",
       "      <th>AdjustmentFactor</th>\n",
       "      <th>ExpectedDividend</th>\n",
       "      <th>...</th>\n",
       "      <th>MA_7MA_BB_low</th>\n",
       "      <th>EMA_5</th>\n",
       "      <th>EMA_5_std</th>\n",
       "      <th>EMA_5_BB_high</th>\n",
       "      <th>MA_5MA_BB_low</th>\n",
       "      <th>MACD</th>\n",
       "      <th>rsi_5</th>\n",
       "      <th>rsi_7</th>\n",
       "      <th>rsi_21</th>\n",
       "      <th>VWAP</th>\n",
       "    </tr>\n",
       "  </thead>\n",
       "  <tbody>\n",
       "    <tr>\n",
       "      <th>0</th>\n",
       "      <td>20170104_1301</td>\n",
       "      <td>2017-01-04</td>\n",
       "      <td>1301</td>\n",
       "      <td>2734.0</td>\n",
       "      <td>2756.0</td>\n",
       "      <td>2730.0</td>\n",
       "      <td>2742.0</td>\n",
       "      <td>-88</td>\n",
       "      <td>1.0</td>\n",
       "      <td>0.0</td>\n",
       "      <td>...</td>\n",
       "      <td>0.000000</td>\n",
       "      <td>2742.000000</td>\n",
       "      <td>0.000000</td>\n",
       "      <td>0.000000</td>\n",
       "      <td>0.000000</td>\n",
       "      <td>0.000000</td>\n",
       "      <td>54.4375</td>\n",
       "      <td>60.25</td>\n",
       "      <td>54.21875</td>\n",
       "      <td>0.0</td>\n",
       "    </tr>\n",
       "    <tr>\n",
       "      <th>1</th>\n",
       "      <td>20171030_1301</td>\n",
       "      <td>2017-10-30</td>\n",
       "      <td>1301</td>\n",
       "      <td>3620.0</td>\n",
       "      <td>3676.0</td>\n",
       "      <td>3584.0</td>\n",
       "      <td>3676.0</td>\n",
       "      <td>20</td>\n",
       "      <td>1.0</td>\n",
       "      <td>0.0</td>\n",
       "      <td>...</td>\n",
       "      <td>0.000000</td>\n",
       "      <td>3302.400000</td>\n",
       "      <td>0.000000</td>\n",
       "      <td>0.000000</td>\n",
       "      <td>0.000000</td>\n",
       "      <td>-26.685714</td>\n",
       "      <td>54.4375</td>\n",
       "      <td>60.25</td>\n",
       "      <td>54.21875</td>\n",
       "      <td>0.0</td>\n",
       "    </tr>\n",
       "    <tr>\n",
       "      <th>2</th>\n",
       "      <td>20210127_1301</td>\n",
       "      <td>2021-01-27</td>\n",
       "      <td>1301</td>\n",
       "      <td>3060.0</td>\n",
       "      <td>3070.0</td>\n",
       "      <td>3040.0</td>\n",
       "      <td>3060.0</td>\n",
       "      <td>-28</td>\n",
       "      <td>1.0</td>\n",
       "      <td>0.0</td>\n",
       "      <td>...</td>\n",
       "      <td>0.000000</td>\n",
       "      <td>3187.578947</td>\n",
       "      <td>0.000000</td>\n",
       "      <td>0.000000</td>\n",
       "      <td>0.000000</td>\n",
       "      <td>-5.146515</td>\n",
       "      <td>54.4375</td>\n",
       "      <td>60.25</td>\n",
       "      <td>54.21875</td>\n",
       "      <td>0.0</td>\n",
       "    </tr>\n",
       "    <tr>\n",
       "      <th>3</th>\n",
       "      <td>20171031_1301</td>\n",
       "      <td>2017-10-31</td>\n",
       "      <td>1301</td>\n",
       "      <td>3676.0</td>\n",
       "      <td>3684.0</td>\n",
       "      <td>3644.0</td>\n",
       "      <td>3664.0</td>\n",
       "      <td>8</td>\n",
       "      <td>1.0</td>\n",
       "      <td>0.0</td>\n",
       "      <td>...</td>\n",
       "      <td>0.000000</td>\n",
       "      <td>3385.476923</td>\n",
       "      <td>0.000000</td>\n",
       "      <td>0.000000</td>\n",
       "      <td>0.000000</td>\n",
       "      <td>-26.928352</td>\n",
       "      <td>54.4375</td>\n",
       "      <td>60.25</td>\n",
       "      <td>54.21875</td>\n",
       "      <td>3664.0</td>\n",
       "    </tr>\n",
       "    <tr>\n",
       "      <th>4</th>\n",
       "      <td>20210126_1301</td>\n",
       "      <td>2021-01-26</td>\n",
       "      <td>1301</td>\n",
       "      <td>3080.0</td>\n",
       "      <td>3080.0</td>\n",
       "      <td>3030.0</td>\n",
       "      <td>3040.0</td>\n",
       "      <td>52</td>\n",
       "      <td>1.0</td>\n",
       "      <td>0.0</td>\n",
       "      <td>...</td>\n",
       "      <td>0.000000</td>\n",
       "      <td>3252.853081</td>\n",
       "      <td>415.394752</td>\n",
       "      <td>4083.642585</td>\n",
       "      <td>2422.063577</td>\n",
       "      <td>1.280082</td>\n",
       "      <td>54.4375</td>\n",
       "      <td>60.25</td>\n",
       "      <td>54.21875</td>\n",
       "      <td>0.0</td>\n",
       "    </tr>\n",
       "    <tr>\n",
       "      <th>...</th>\n",
       "      <td>...</td>\n",
       "      <td>...</td>\n",
       "      <td>...</td>\n",
       "      <td>...</td>\n",
       "      <td>...</td>\n",
       "      <td>...</td>\n",
       "      <td>...</td>\n",
       "      <td>...</td>\n",
       "      <td>...</td>\n",
       "      <td>...</td>\n",
       "      <td>...</td>\n",
       "      <td>...</td>\n",
       "      <td>...</td>\n",
       "      <td>...</td>\n",
       "      <td>...</td>\n",
       "      <td>...</td>\n",
       "      <td>...</td>\n",
       "      <td>...</td>\n",
       "      <td>...</td>\n",
       "      <td>...</td>\n",
       "      <td>...</td>\n",
       "    </tr>\n",
       "    <tr>\n",
       "      <th>2286526</th>\n",
       "      <td>20181227_9997</td>\n",
       "      <td>2018-12-27</td>\n",
       "      <td>9997</td>\n",
       "      <td>950.0</td>\n",
       "      <td>1009.0</td>\n",
       "      <td>950.0</td>\n",
       "      <td>1008.0</td>\n",
       "      <td>100</td>\n",
       "      <td>1.0</td>\n",
       "      <td>0.0</td>\n",
       "      <td>...</td>\n",
       "      <td>501.393136</td>\n",
       "      <td>1064.836937</td>\n",
       "      <td>210.252229</td>\n",
       "      <td>1485.341396</td>\n",
       "      <td>644.332478</td>\n",
       "      <td>-27.450375</td>\n",
       "      <td>0.0000</td>\n",
       "      <td>0.00</td>\n",
       "      <td>0.00000</td>\n",
       "      <td>0.0</td>\n",
       "    </tr>\n",
       "    <tr>\n",
       "      <th>2286527</th>\n",
       "      <td>20210126_9997</td>\n",
       "      <td>2021-01-26</td>\n",
       "      <td>9997</td>\n",
       "      <td>1174.0</td>\n",
       "      <td>1185.0</td>\n",
       "      <td>1157.0</td>\n",
       "      <td>1171.0</td>\n",
       "      <td>108</td>\n",
       "      <td>1.0</td>\n",
       "      <td>0.0</td>\n",
       "      <td>...</td>\n",
       "      <td>617.363390</td>\n",
       "      <td>1100.224625</td>\n",
       "      <td>209.513723</td>\n",
       "      <td>1519.252070</td>\n",
       "      <td>681.197179</td>\n",
       "      <td>-29.434703</td>\n",
       "      <td>0.0000</td>\n",
       "      <td>0.00</td>\n",
       "      <td>0.00000</td>\n",
       "      <td>0.0</td>\n",
       "    </tr>\n",
       "    <tr>\n",
       "      <th>2286528</th>\n",
       "      <td>20171228_9997</td>\n",
       "      <td>2017-12-28</td>\n",
       "      <td>9997</td>\n",
       "      <td>1416.0</td>\n",
       "      <td>1424.0</td>\n",
       "      <td>1380.0</td>\n",
       "      <td>1384.0</td>\n",
       "      <td>120</td>\n",
       "      <td>1.0</td>\n",
       "      <td>0.0</td>\n",
       "      <td>...</td>\n",
       "      <td>737.502955</td>\n",
       "      <td>1194.816417</td>\n",
       "      <td>145.395323</td>\n",
       "      <td>1485.607063</td>\n",
       "      <td>904.025770</td>\n",
       "      <td>-45.723975</td>\n",
       "      <td>0.0000</td>\n",
       "      <td>0.00</td>\n",
       "      <td>0.00000</td>\n",
       "      <td>0.0</td>\n",
       "    </tr>\n",
       "    <tr>\n",
       "      <th>2286529</th>\n",
       "      <td>20190621_9997</td>\n",
       "      <td>2019-06-21</td>\n",
       "      <td>9997</td>\n",
       "      <td>732.0</td>\n",
       "      <td>735.0</td>\n",
       "      <td>726.0</td>\n",
       "      <td>728.0</td>\n",
       "      <td>-48</td>\n",
       "      <td>1.0</td>\n",
       "      <td>0.0</td>\n",
       "      <td>...</td>\n",
       "      <td>530.403691</td>\n",
       "      <td>1039.210944</td>\n",
       "      <td>261.294470</td>\n",
       "      <td>1561.799884</td>\n",
       "      <td>516.622005</td>\n",
       "      <td>4.608386</td>\n",
       "      <td>0.0000</td>\n",
       "      <td>0.00</td>\n",
       "      <td>0.00000</td>\n",
       "      <td>728.0</td>\n",
       "    </tr>\n",
       "    <tr>\n",
       "      <th>2286530</th>\n",
       "      <td>20211029_9997</td>\n",
       "      <td>2021-10-29</td>\n",
       "      <td>9997</td>\n",
       "      <td>801.0</td>\n",
       "      <td>806.0</td>\n",
       "      <td>792.0</td>\n",
       "      <td>798.0</td>\n",
       "      <td>-64</td>\n",
       "      <td>1.0</td>\n",
       "      <td>0.0</td>\n",
       "      <td>...</td>\n",
       "      <td>467.411518</td>\n",
       "      <td>958.807296</td>\n",
       "      <td>269.241899</td>\n",
       "      <td>1497.291094</td>\n",
       "      <td>420.323499</td>\n",
       "      <td>23.557202</td>\n",
       "      <td>0.0000</td>\n",
       "      <td>0.00</td>\n",
       "      <td>0.00000</td>\n",
       "      <td>798.0</td>\n",
       "    </tr>\n",
       "  </tbody>\n",
       "</table>\n",
       "<p>2286531 rows × 33 columns</p>\n",
       "</div>"
      ],
      "text/plain": [
       "                 RowId        Date  SecuritiesCode    Open    High     Low  \\\n",
       "0        20170104_1301  2017-01-04            1301  2734.0  2756.0  2730.0   \n",
       "1        20171030_1301  2017-10-30            1301  3620.0  3676.0  3584.0   \n",
       "2        20210127_1301  2021-01-27            1301  3060.0  3070.0  3040.0   \n",
       "3        20171031_1301  2017-10-31            1301  3676.0  3684.0  3644.0   \n",
       "4        20210126_1301  2021-01-26            1301  3080.0  3080.0  3030.0   \n",
       "...                ...         ...             ...     ...     ...     ...   \n",
       "2286526  20181227_9997  2018-12-27            9997   950.0  1009.0   950.0   \n",
       "2286527  20210126_9997  2021-01-26            9997  1174.0  1185.0  1157.0   \n",
       "2286528  20171228_9997  2017-12-28            9997  1416.0  1424.0  1380.0   \n",
       "2286529  20190621_9997  2019-06-21            9997   732.0   735.0   726.0   \n",
       "2286530  20211029_9997  2021-10-29            9997   801.0   806.0   792.0   \n",
       "\n",
       "          Close  Volume  AdjustmentFactor  ExpectedDividend  ...  \\\n",
       "0        2742.0     -88               1.0               0.0  ...   \n",
       "1        3676.0      20               1.0               0.0  ...   \n",
       "2        3060.0     -28               1.0               0.0  ...   \n",
       "3        3664.0       8               1.0               0.0  ...   \n",
       "4        3040.0      52               1.0               0.0  ...   \n",
       "...         ...     ...               ...               ...  ...   \n",
       "2286526  1008.0     100               1.0               0.0  ...   \n",
       "2286527  1171.0     108               1.0               0.0  ...   \n",
       "2286528  1384.0     120               1.0               0.0  ...   \n",
       "2286529   728.0     -48               1.0               0.0  ...   \n",
       "2286530   798.0     -64               1.0               0.0  ...   \n",
       "\n",
       "         MA_7MA_BB_low        EMA_5   EMA_5_std  EMA_5_BB_high  MA_5MA_BB_low  \\\n",
       "0             0.000000  2742.000000    0.000000       0.000000       0.000000   \n",
       "1             0.000000  3302.400000    0.000000       0.000000       0.000000   \n",
       "2             0.000000  3187.578947    0.000000       0.000000       0.000000   \n",
       "3             0.000000  3385.476923    0.000000       0.000000       0.000000   \n",
       "4             0.000000  3252.853081  415.394752    4083.642585    2422.063577   \n",
       "...                ...          ...         ...            ...            ...   \n",
       "2286526     501.393136  1064.836937  210.252229    1485.341396     644.332478   \n",
       "2286527     617.363390  1100.224625  209.513723    1519.252070     681.197179   \n",
       "2286528     737.502955  1194.816417  145.395323    1485.607063     904.025770   \n",
       "2286529     530.403691  1039.210944  261.294470    1561.799884     516.622005   \n",
       "2286530     467.411518   958.807296  269.241899    1497.291094     420.323499   \n",
       "\n",
       "              MACD    rsi_5  rsi_7    rsi_21    VWAP  \n",
       "0         0.000000  54.4375  60.25  54.21875     0.0  \n",
       "1       -26.685714  54.4375  60.25  54.21875     0.0  \n",
       "2        -5.146515  54.4375  60.25  54.21875     0.0  \n",
       "3       -26.928352  54.4375  60.25  54.21875  3664.0  \n",
       "4         1.280082  54.4375  60.25  54.21875     0.0  \n",
       "...            ...      ...    ...       ...     ...  \n",
       "2286526 -27.450375   0.0000   0.00   0.00000     0.0  \n",
       "2286527 -29.434703   0.0000   0.00   0.00000     0.0  \n",
       "2286528 -45.723975   0.0000   0.00   0.00000     0.0  \n",
       "2286529   4.608386   0.0000   0.00   0.00000   728.0  \n",
       "2286530  23.557202   0.0000   0.00   0.00000   798.0  \n",
       "\n",
       "[2286531 rows x 33 columns]"
      ]
     },
     "execution_count": 11,
     "metadata": {},
     "output_type": "execute_result"
    }
   ],
   "source": [
    "df_prices"
   ]
  },
  {
   "cell_type": "code",
   "execution_count": 12,
   "id": "4e6b665b",
   "metadata": {
    "execution": {
     "iopub.execute_input": "2022-06-21T22:50:26.506759Z",
     "iopub.status.busy": "2022-06-21T22:50:26.505960Z",
     "iopub.status.idle": "2022-06-21T22:50:27.602847Z",
     "shell.execute_reply": "2022-06-21T22:50:27.602071Z"
    },
    "papermill": {
     "duration": 1.10751,
     "end_time": "2022-06-21T22:50:27.605282",
     "exception": false,
     "start_time": "2022-06-21T22:50:26.497772",
     "status": "completed"
    },
    "tags": []
   },
   "outputs": [],
   "source": [
    "import xgboost as xgb\n",
    "from sklearn.preprocessing import StandardScaler\n",
    "scaler = StandardScaler()"
   ]
  },
  {
   "cell_type": "code",
   "execution_count": 13,
   "id": "e72e91c9",
   "metadata": {
    "execution": {
     "iopub.execute_input": "2022-06-21T22:50:27.621758Z",
     "iopub.status.busy": "2022-06-21T22:50:27.621489Z",
     "iopub.status.idle": "2022-06-21T22:50:27.626732Z",
     "shell.execute_reply": "2022-06-21T22:50:27.626064Z"
    },
    "papermill": {
     "duration": 0.01517,
     "end_time": "2022-06-21T22:50:27.628409",
     "exception": false,
     "start_time": "2022-06-21T22:50:27.613239",
     "status": "completed"
    },
    "tags": []
   },
   "outputs": [],
   "source": [
    "def model_training(X,y):\n",
    "    # Model training\n",
    "    \n",
    "    model = xgb.XGBRegressor(n_estimators=5000,learning_rate=0.1 , tree_method = 'gpu_hist') \n",
    "    model.fit(X, y)\n",
    "    \n",
    "    return model\n"
   ]
  },
  {
   "cell_type": "code",
   "execution_count": 14,
   "id": "17a33e39",
   "metadata": {
    "execution": {
     "iopub.execute_input": "2022-06-21T22:50:27.644391Z",
     "iopub.status.busy": "2022-06-21T22:50:27.643869Z",
     "iopub.status.idle": "2022-06-21T22:50:27.649524Z",
     "shell.execute_reply": "2022-06-21T22:50:27.648602Z"
    },
    "papermill": {
     "duration": 0.01594,
     "end_time": "2022-06-21T22:50:27.651657",
     "exception": false,
     "start_time": "2022-06-21T22:50:27.635717",
     "status": "completed"
    },
    "tags": []
   },
   "outputs": [],
   "source": [
    "scaled_features = ['Open', 'High', 'Low', 'Close', 'Volume','log_return_5', 'log_return', 'upper_shadow', 'lower_shadow',\n",
    "       'EMA_21', 'EMA_55', 'EMA_315', 'EMA_825', 'EMA_7', 'EMA_7_std',\n",
    "       'EMA_7_BB_high', 'MA_7MA_BB_low', 'EMA_5', 'EMA_5_std', 'EMA_5_BB_high',\n",
    "       'MA_5MA_BB_low', 'MACD', 'rsi_5', 'rsi_7', 'rsi_21']\n",
    "features = [\"SecuritiesCode\",'Open', 'High', 'Low', 'Close', 'Volume', 'log_return_5', 'log_return', 'upper_shadow', 'lower_shadow',\n",
    "       'EMA_21', 'EMA_55', 'EMA_315', 'EMA_825', 'EMA_7', 'EMA_7_std',\n",
    "       'EMA_7_BB_high', 'MA_7MA_BB_low', 'EMA_5', 'EMA_5_std', 'EMA_5_BB_high',\n",
    "       'MA_5MA_BB_low', 'MACD', 'rsi_5', 'rsi_7', 'rsi_21']"
   ]
  },
  {
   "cell_type": "code",
   "execution_count": 15,
   "id": "7de6bb0c",
   "metadata": {
    "execution": {
     "iopub.execute_input": "2022-06-21T22:50:27.666897Z",
     "iopub.status.busy": "2022-06-21T22:50:27.666660Z",
     "iopub.status.idle": "2022-06-21T22:50:28.053323Z",
     "shell.execute_reply": "2022-06-21T22:50:28.052491Z"
    },
    "papermill": {
     "duration": 0.396597,
     "end_time": "2022-06-21T22:50:28.055379",
     "exception": false,
     "start_time": "2022-06-21T22:50:27.658782",
     "status": "completed"
    },
    "tags": []
   },
   "outputs": [],
   "source": [
    "# Creating endog and exog variables\n",
    "y = df_prices[['Target']]\n",
    "X = df_prices[features]"
   ]
  },
  {
   "cell_type": "code",
   "execution_count": 16,
   "id": "b9017145",
   "metadata": {
    "execution": {
     "iopub.execute_input": "2022-06-21T22:50:28.071913Z",
     "iopub.status.busy": "2022-06-21T22:50:28.071534Z",
     "iopub.status.idle": "2022-06-21T22:50:29.315935Z",
     "shell.execute_reply": "2022-06-21T22:50:29.315096Z"
    },
    "papermill": {
     "duration": 1.254863,
     "end_time": "2022-06-21T22:50:29.318022",
     "exception": false,
     "start_time": "2022-06-21T22:50:28.063159",
     "status": "completed"
    },
    "tags": []
   },
   "outputs": [
    {
     "name": "stderr",
     "output_type": "stream",
     "text": [
      "/opt/conda/lib/python3.7/site-packages/pandas/core/frame.py:3678: SettingWithCopyWarning: \n",
      "A value is trying to be set on a copy of a slice from a DataFrame.\n",
      "Try using .loc[row_indexer,col_indexer] = value instead\n",
      "\n",
      "See the caveats in the documentation: https://pandas.pydata.org/pandas-docs/stable/user_guide/indexing.html#returning-a-view-versus-a-copy\n",
      "  self[col] = igetitem(value, i)\n"
     ]
    }
   ],
   "source": [
    "X[scaled_features] = scaler.fit_transform(X[scaled_features])\n"
   ]
  },
  {
   "cell_type": "code",
   "execution_count": 17,
   "id": "3b933a04",
   "metadata": {
    "execution": {
     "iopub.execute_input": "2022-06-21T22:50:29.334222Z",
     "iopub.status.busy": "2022-06-21T22:50:29.333940Z",
     "iopub.status.idle": "2022-06-21T22:51:27.957041Z",
     "shell.execute_reply": "2022-06-21T22:51:27.956155Z"
    },
    "papermill": {
     "duration": 58.640135,
     "end_time": "2022-06-21T22:51:27.965798",
     "exception": false,
     "start_time": "2022-06-21T22:50:29.325663",
     "status": "completed"
    },
    "tags": []
   },
   "outputs": [
    {
     "name": "stdout",
     "output_type": "stream",
     "text": [
      "CPU times: user 57.1 s, sys: 1.04 s, total: 58.1 s\n",
      "Wall time: 58.6 s\n"
     ]
    }
   ],
   "source": [
    "%%time\n",
    "\n",
    "model_1 = model_training(X,y)"
   ]
  },
  {
   "cell_type": "code",
   "execution_count": 18,
   "id": "633a22d2",
   "metadata": {
    "execution": {
     "iopub.execute_input": "2022-06-21T22:51:27.982233Z",
     "iopub.status.busy": "2022-06-21T22:51:27.981635Z",
     "iopub.status.idle": "2022-06-21T22:54:43.865209Z",
     "shell.execute_reply": "2022-06-21T22:54:43.864345Z"
    },
    "papermill": {
     "duration": 195.901663,
     "end_time": "2022-06-21T22:54:43.874919",
     "exception": false,
     "start_time": "2022-06-21T22:51:27.973256",
     "status": "completed"
    },
    "tags": []
   },
   "outputs": [
    {
     "data": {
      "text/plain": [
       "0.18277878879906395"
      ]
     },
     "execution_count": 18,
     "metadata": {},
     "output_type": "execute_result"
    }
   ],
   "source": [
    "model_1.score(X,y)"
   ]
  },
  {
   "cell_type": "code",
   "execution_count": 19,
   "id": "816f89e2",
   "metadata": {
    "execution": {
     "iopub.execute_input": "2022-06-21T22:54:43.892137Z",
     "iopub.status.busy": "2022-06-21T22:54:43.891832Z",
     "iopub.status.idle": "2022-06-21T22:54:43.895436Z",
     "shell.execute_reply": "2022-06-21T22:54:43.894647Z"
    },
    "papermill": {
     "duration": 0.014253,
     "end_time": "2022-06-21T22:54:43.897207",
     "exception": false,
     "start_time": "2022-06-21T22:54:43.882954",
     "status": "completed"
    },
    "tags": []
   },
   "outputs": [],
   "source": [
    "import pickle"
   ]
  },
  {
   "cell_type": "code",
   "execution_count": 20,
   "id": "1cbcec1b",
   "metadata": {
    "execution": {
     "iopub.execute_input": "2022-06-21T22:54:43.913295Z",
     "iopub.status.busy": "2022-06-21T22:54:43.913019Z",
     "iopub.status.idle": "2022-06-21T22:54:44.086621Z",
     "shell.execute_reply": "2022-06-21T22:54:44.085781Z"
    },
    "papermill": {
     "duration": 0.184144,
     "end_time": "2022-06-21T22:54:44.088720",
     "exception": false,
     "start_time": "2022-06-21T22:54:43.904576",
     "status": "completed"
    },
    "tags": []
   },
   "outputs": [],
   "source": [
    "# Saving model\n",
    "\n",
    "#Saving the sklearn model\n",
    "\n",
    "filename = 'simple_xgb.sav'\n",
    "pickle.dump(model_1, open(filename, 'wb'))\n",
    "\n",
    "# save in text format\n",
    "model_1.save_model(\"simple_xgb.txt\")"
   ]
  },
  {
   "cell_type": "markdown",
   "id": "5cd4bd1c",
   "metadata": {
    "papermill": {
     "duration": 0.007787,
     "end_time": "2022-06-21T22:54:44.104868",
     "exception": false,
     "start_time": "2022-06-21T22:54:44.097081",
     "status": "completed"
    },
    "tags": []
   },
   "source": [
    "# Submission\n"
   ]
  },
  {
   "cell_type": "code",
   "execution_count": 21,
   "id": "931abf81",
   "metadata": {
    "execution": {
     "iopub.execute_input": "2022-06-21T22:54:44.121786Z",
     "iopub.status.busy": "2022-06-21T22:54:44.120965Z",
     "iopub.status.idle": "2022-06-21T22:54:44.126250Z",
     "shell.execute_reply": "2022-06-21T22:54:44.125468Z"
    },
    "papermill": {
     "duration": 0.01579,
     "end_time": "2022-06-21T22:54:44.128047",
     "exception": false,
     "start_time": "2022-06-21T22:54:44.112257",
     "status": "completed"
    },
    "tags": []
   },
   "outputs": [],
   "source": [
    "#Add a rank Function\n",
    "\n",
    "def add_rank(df, col_name=\"pred\"):\n",
    "    df[\"Rank\"] = df.groupby(\"Date\")[col_name].rank(ascending=False, method=\"first\") - 1 \n",
    "    df[\"Rank\"] = df[\"Rank\"].astype(\"int\")\n",
    "    return df"
   ]
  },
  {
   "cell_type": "code",
   "execution_count": 22,
   "id": "39c36bc0",
   "metadata": {
    "execution": {
     "iopub.execute_input": "2022-06-21T22:54:44.144324Z",
     "iopub.status.busy": "2022-06-21T22:54:44.144019Z",
     "iopub.status.idle": "2022-06-21T22:54:44.835581Z",
     "shell.execute_reply": "2022-06-21T22:54:44.834783Z"
    },
    "papermill": {
     "duration": 0.70215,
     "end_time": "2022-06-21T22:54:44.837679",
     "exception": false,
     "start_time": "2022-06-21T22:54:44.135529",
     "status": "completed"
    },
    "tags": []
   },
   "outputs": [
    {
     "name": "stdout",
     "output_type": "stream",
     "text": [
      "This version of the API is not optimized and should not be used to estimate the runtime of your code on the hidden test set.\n"
     ]
    }
   ],
   "source": [
    "import jpx_tokyo_market_prediction\n",
    "\n",
    "\n",
    "env = jpx_tokyo_market_prediction.make_env()   # initialize the environment\n",
    "iter_test = env.iter_test()    # an iterator which loops over the test files\n",
    "for (prices, options, financials, trades, secondary_prices, sample_prediction) in iter_test:\n",
    "    prices = get_features(prices)\n",
    "    prices = prices.replace((np.inf, -np.inf, np.nan), 0).reset_index(drop=True)\n",
    "    prices = prices.fillna(0)\n",
    "    prices[scaled_features] = scaler.fit_transform(prices[scaled_features])\n",
    "    prices['pred'] = model_1.predict(prices[features])\n",
    "    prices = add_rank(prices)\n",
    "    feature_map = prices.set_index('SecuritiesCode')['Rank'].to_dict()\n",
    "    sample_prediction['Rank'] = sample_prediction['SecuritiesCode'].map(feature_map)\n",
    "    env.predict(sample_prediction)"
   ]
  },
  {
   "cell_type": "code",
   "execution_count": null,
   "id": "46ec940a",
   "metadata": {
    "papermill": {
     "duration": 0.007708,
     "end_time": "2022-06-21T22:54:44.853616",
     "exception": false,
     "start_time": "2022-06-21T22:54:44.845908",
     "status": "completed"
    },
    "tags": []
   },
   "outputs": [],
   "source": []
  },
  {
   "cell_type": "code",
   "execution_count": null,
   "id": "bf8b1fdd",
   "metadata": {
    "papermill": {
     "duration": 0.007499,
     "end_time": "2022-06-21T22:54:44.869021",
     "exception": false,
     "start_time": "2022-06-21T22:54:44.861522",
     "status": "completed"
    },
    "tags": []
   },
   "outputs": [],
   "source": []
  },
  {
   "cell_type": "code",
   "execution_count": null,
   "id": "79f395dc",
   "metadata": {
    "papermill": {
     "duration": 0.007311,
     "end_time": "2022-06-21T22:54:44.883773",
     "exception": false,
     "start_time": "2022-06-21T22:54:44.876462",
     "status": "completed"
    },
    "tags": []
   },
   "outputs": [],
   "source": []
  }
 ],
 "metadata": {
  "kernelspec": {
   "display_name": "Python 3",
   "language": "python",
   "name": "python3"
  },
  "language_info": {
   "codemirror_mode": {
    "name": "ipython",
    "version": 3
   },
   "file_extension": ".py",
   "mimetype": "text/x-python",
   "name": "python",
   "nbconvert_exporter": "python",
   "pygments_lexer": "ipython3",
   "version": "3.7.12"
  },
  "papermill": {
   "default_parameters": {},
   "duration": 324.136328,
   "end_time": "2022-06-21T22:54:46.214245",
   "environment_variables": {},
   "exception": null,
   "input_path": "__notebook__.ipynb",
   "output_path": "__notebook__.ipynb",
   "parameters": {},
   "start_time": "2022-06-21T22:49:22.077917",
   "version": "2.3.4"
  }
 },
 "nbformat": 4,
 "nbformat_minor": 5
}
