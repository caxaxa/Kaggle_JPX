{
 "cells": [
  {
   "cell_type": "code",
   "execution_count": 1,
   "id": "eb1d7144",
   "metadata": {
    "_cell_guid": "b1076dfc-b9ad-4769-8c92-a6c4dae69d19",
    "_uuid": "8f2839f25d086af736a60e9eeb907d3b93b6e0e5",
    "execution": {
     "iopub.execute_input": "2022-06-20T05:04:06.965288Z",
     "iopub.status.busy": "2022-06-20T05:04:06.964200Z",
     "iopub.status.idle": "2022-06-20T05:04:07.013284Z",
     "shell.execute_reply": "2022-06-20T05:04:07.012262Z"
    },
    "papermill": {
     "duration": 0.066421,
     "end_time": "2022-06-20T05:04:07.018784",
     "exception": false,
     "start_time": "2022-06-20T05:04:06.952363",
     "status": "completed"
    },
    "tags": []
   },
   "outputs": [
    {
     "name": "stdout",
     "output_type": "stream",
     "text": [
      "/kaggle/input/jpx-tokyo-stock-exchange-prediction/stock_list.csv\n",
      "/kaggle/input/jpx-tokyo-stock-exchange-prediction/example_test_files/sample_submission.csv\n",
      "/kaggle/input/jpx-tokyo-stock-exchange-prediction/example_test_files/options.csv\n",
      "/kaggle/input/jpx-tokyo-stock-exchange-prediction/example_test_files/financials.csv\n",
      "/kaggle/input/jpx-tokyo-stock-exchange-prediction/example_test_files/secondary_stock_prices.csv\n",
      "/kaggle/input/jpx-tokyo-stock-exchange-prediction/example_test_files/trades.csv\n",
      "/kaggle/input/jpx-tokyo-stock-exchange-prediction/example_test_files/stock_prices.csv\n",
      "/kaggle/input/jpx-tokyo-stock-exchange-prediction/jpx_tokyo_market_prediction/competition.cpython-37m-x86_64-linux-gnu.so\n",
      "/kaggle/input/jpx-tokyo-stock-exchange-prediction/jpx_tokyo_market_prediction/__init__.py\n",
      "/kaggle/input/jpx-tokyo-stock-exchange-prediction/data_specifications/stock_fin_spec.csv\n",
      "/kaggle/input/jpx-tokyo-stock-exchange-prediction/data_specifications/trades_spec.csv\n",
      "/kaggle/input/jpx-tokyo-stock-exchange-prediction/data_specifications/stock_price_spec.csv\n",
      "/kaggle/input/jpx-tokyo-stock-exchange-prediction/data_specifications/options_spec.csv\n",
      "/kaggle/input/jpx-tokyo-stock-exchange-prediction/data_specifications/stock_list_spec.csv\n",
      "/kaggle/input/jpx-tokyo-stock-exchange-prediction/train_files/options.csv\n",
      "/kaggle/input/jpx-tokyo-stock-exchange-prediction/train_files/financials.csv\n",
      "/kaggle/input/jpx-tokyo-stock-exchange-prediction/train_files/secondary_stock_prices.csv\n",
      "/kaggle/input/jpx-tokyo-stock-exchange-prediction/train_files/trades.csv\n",
      "/kaggle/input/jpx-tokyo-stock-exchange-prediction/train_files/stock_prices.csv\n",
      "/kaggle/input/jpx-tokyo-stock-exchange-prediction/supplemental_files/options.csv\n",
      "/kaggle/input/jpx-tokyo-stock-exchange-prediction/supplemental_files/financials.csv\n",
      "/kaggle/input/jpx-tokyo-stock-exchange-prediction/supplemental_files/secondary_stock_prices.csv\n",
      "/kaggle/input/jpx-tokyo-stock-exchange-prediction/supplemental_files/trades.csv\n",
      "/kaggle/input/jpx-tokyo-stock-exchange-prediction/supplemental_files/stock_prices.csv\n"
     ]
    }
   ],
   "source": [
    "# This Python 3 environment comes with many helpful analytics libraries installed\n",
    "# It is defined by the kaggle/python Docker image: https://github.com/kaggle/docker-python\n",
    "# For example, here's several helpful packages to load\n",
    "\n",
    "import numpy as np # linear algebra\n",
    "import pandas as pd # data processing, CSV file I/O (e.g. pd.read_csv)\n",
    "\n",
    "# Input data files are available in the read-only \"../input/\" directory\n",
    "# For example, running this (by clicking run or pressing Shift+Enter) will list all files under the input directory\n",
    "\n",
    "import os\n",
    "for dirname, _, filenames in os.walk('/kaggle/input'):\n",
    "    for filename in filenames:\n",
    "        print(os.path.join(dirname, filename))\n",
    "\n",
    "# You can write up to 20GB to the current directory (/kaggle/working/) th\n",
    "#at gets preserved as output when you create a version using \"Save & Run All\" \n",
    "# You can also write temporary files to /kaggle/temp/, but they won't be saved outside of the current session"
   ]
  },
  {
   "cell_type": "markdown",
   "id": "c318a1e9",
   "metadata": {
    "papermill": {
     "duration": 0.00841,
     "end_time": "2022-06-20T05:04:07.035962",
     "exception": false,
     "start_time": "2022-06-20T05:04:07.027552",
     "status": "completed"
    },
    "tags": []
   },
   "source": [
    "# Here starts my Baseline\n",
    "\n",
    "Ideas:\n",
    "\n",
    "1  - Feature engeneering- Basic and effective;\n",
    "\n",
    "2 - Gradient Boosting Regressions;\n",
    "\n",
    "3 - Neuronets Regressions; and\n",
    "\n",
    "4 - Submission.\n",
    "\n"
   ]
  },
  {
   "cell_type": "markdown",
   "id": "ac3123f9",
   "metadata": {
    "papermill": {
     "duration": 0.007767,
     "end_time": "2022-06-20T05:04:07.052088",
     "exception": false,
     "start_time": "2022-06-20T05:04:07.044321",
     "status": "completed"
    },
    "tags": []
   },
   "source": [
    "## 1 Feature Engeneering"
   ]
  },
  {
   "cell_type": "code",
   "execution_count": 2,
   "id": "09f7311b",
   "metadata": {
    "execution": {
     "iopub.execute_input": "2022-06-20T05:04:07.070802Z",
     "iopub.status.busy": "2022-06-20T05:04:07.070008Z",
     "iopub.status.idle": "2022-06-20T05:04:07.075033Z",
     "shell.execute_reply": "2022-06-20T05:04:07.074225Z"
    },
    "papermill": {
     "duration": 0.016312,
     "end_time": "2022-06-20T05:04:07.076919",
     "exception": false,
     "start_time": "2022-06-20T05:04:07.060607",
     "status": "completed"
    },
    "tags": []
   },
   "outputs": [],
   "source": [
    "def concat_df(df1, df2):\n",
    "    df1 = pd.concat([df1, df2],\n",
    "                    ignore_index=True, sort=False\n",
    "                    ).drop_duplicates([\"RowId\"], keep=\"first\")\n",
    "    return df1"
   ]
  },
  {
   "cell_type": "code",
   "execution_count": 3,
   "id": "0a74311a",
   "metadata": {
    "execution": {
     "iopub.execute_input": "2022-06-20T05:04:07.094888Z",
     "iopub.status.busy": "2022-06-20T05:04:07.094081Z",
     "iopub.status.idle": "2022-06-20T05:04:31.272988Z",
     "shell.execute_reply": "2022-06-20T05:04:31.271988Z"
    },
    "papermill": {
     "duration": 24.192268,
     "end_time": "2022-06-20T05:04:31.276769",
     "exception": false,
     "start_time": "2022-06-20T05:04:07.084501",
     "status": "completed"
    },
    "tags": []
   },
   "outputs": [
    {
     "name": "stdout",
     "output_type": "stream",
     "text": [
      "<class 'pandas.core.frame.DataFrame'>\n",
      "Int64Index: 562531 entries, 2288531 to 5189767\n",
      "Data columns (total 12 columns):\n",
      " #   Column            Non-Null Count   Dtype  \n",
      "---  ------            --------------   -----  \n",
      " 0   RowId             562531 non-null  object \n",
      " 1   Date              562531 non-null  object \n",
      " 2   SecuritiesCode    562531 non-null  int8   \n",
      " 3   Open              551404 non-null  float16\n",
      " 4   High              551404 non-null  float16\n",
      " 5   Low               551404 non-null  float16\n",
      " 6   Close             551404 non-null  float16\n",
      " 7   Volume            562531 non-null  int8   \n",
      " 8   AdjustmentFactor  562531 non-null  float16\n",
      " 9   ExpectedDividend  4229 non-null    float16\n",
      " 10  SupervisionFlag   562531 non-null  bool   \n",
      " 11  Target            562445 non-null  float16\n",
      "dtypes: bool(1), float16(7), int8(2), object(2)\n",
      "memory usage: 22.0+ MB\n"
     ]
    }
   ],
   "source": [
    "# For now... use pandas.... \n",
    "#If too heavy use Cudf\n",
    "\n",
    "# For now... just fix the floats\n",
    "dtypes = {\n",
    "'SecuritiesCode' : np.int8,\n",
    "'Open'           :     np.float16,\n",
    "'High'           :     np.float16,\n",
    "'Low'            :     np.float16,\n",
    "'Close'          :     np.float16,\n",
    "'Volume'         :       np.int8,\n",
    "'AdjustmentFactor':    np.float16,\n",
    "'ExpectedDividend':    np.float16,\n",
    "'Target'        :      np.float16\n",
    "}\n",
    "path = \"../input/jpx-tokyo-stock-exchange-prediction/\"\n",
    "df_prices = pd.read_csv(f\"{path}train_files/stock_prices.csv\",dtype = dtypes)\n",
    "prices = pd.read_csv(f\"{path}supplemental_files/stock_prices.csv\",dtype = dtypes)\n",
    "df_prices = concat_df(df_prices, prices)\n",
    "prices = pd.read_csv(f\"{path}train_files/secondary_stock_prices.csv\",dtype = dtypes)\n",
    "df_prices = concat_df(df_prices, prices)\n",
    "prices = pd.read_csv(f\"{path}supplemental_files/secondary_stock_prices.csv\",dtype = dtypes)\n",
    "df_prices = concat_df(df_prices, prices)\n",
    "df_prices = df_prices[df_prices.Date>\"2021-11-01\"]\n",
    "df_prices.info(show_counts=True)"
   ]
  },
  {
   "cell_type": "code",
   "execution_count": 4,
   "id": "8fa17b8f",
   "metadata": {
    "execution": {
     "iopub.execute_input": "2022-06-20T05:04:31.297068Z",
     "iopub.status.busy": "2022-06-20T05:04:31.296654Z",
     "iopub.status.idle": "2022-06-20T05:04:31.300779Z",
     "shell.execute_reply": "2022-06-20T05:04:31.299859Z"
    },
    "papermill": {
     "duration": 0.015825,
     "end_time": "2022-06-20T05:04:31.302687",
     "exception": false,
     "start_time": "2022-06-20T05:04:31.286862",
     "status": "completed"
    },
    "tags": []
   },
   "outputs": [],
   "source": [
    "# def prep_prices(price):\n",
    "#     price.fillna(0,inplace=True)\n",
    "#     return price"
   ]
  },
  {
   "cell_type": "code",
   "execution_count": 5,
   "id": "77f2702a",
   "metadata": {
    "execution": {
     "iopub.execute_input": "2022-06-20T05:04:31.321837Z",
     "iopub.status.busy": "2022-06-20T05:04:31.320951Z",
     "iopub.status.idle": "2022-06-20T05:04:31.325329Z",
     "shell.execute_reply": "2022-06-20T05:04:31.324386Z"
    },
    "papermill": {
     "duration": 0.016231,
     "end_time": "2022-06-20T05:04:31.327336",
     "exception": false,
     "start_time": "2022-06-20T05:04:31.311105",
     "status": "completed"
    },
    "tags": []
   },
   "outputs": [],
   "source": [
    "# df_prices = prep_prices(df_prices)\n",
    "# pd.options.display.float_format = '{:,.6g}'.format\n",
    "# df_prices.describe()"
   ]
  },
  {
   "cell_type": "code",
   "execution_count": null,
   "id": "0b66dc51",
   "metadata": {
    "papermill": {
     "duration": 0.008306,
     "end_time": "2022-06-20T05:04:31.344412",
     "exception": false,
     "start_time": "2022-06-20T05:04:31.336106",
     "status": "completed"
    },
    "tags": []
   },
   "outputs": [],
   "source": []
  },
  {
   "cell_type": "code",
   "execution_count": null,
   "id": "9f617029",
   "metadata": {
    "papermill": {
     "duration": 0.008019,
     "end_time": "2022-06-20T05:04:31.360901",
     "exception": false,
     "start_time": "2022-06-20T05:04:31.352882",
     "status": "completed"
    },
    "tags": []
   },
   "outputs": [],
   "source": []
  },
  {
   "cell_type": "code",
   "execution_count": 6,
   "id": "c3b92b4f",
   "metadata": {
    "execution": {
     "iopub.execute_input": "2022-06-20T05:04:31.379882Z",
     "iopub.status.busy": "2022-06-20T05:04:31.379209Z",
     "iopub.status.idle": "2022-06-20T05:04:31.384354Z",
     "shell.execute_reply": "2022-06-20T05:04:31.383431Z"
    },
    "papermill": {
     "duration": 0.017106,
     "end_time": "2022-06-20T05:04:31.386313",
     "exception": false,
     "start_time": "2022-06-20T05:04:31.369207",
     "status": "completed"
    },
    "tags": []
   },
   "outputs": [],
   "source": [
    "from datetime import datetime\n",
    "import time\n",
    "\n",
    " # auxiliary function, from datetime to timestamp\n",
    "totimestamp = lambda s: np.int32(time.mktime(datetime.strptime(s, \"%Y-%m-%d\").timetuple()))"
   ]
  },
  {
   "cell_type": "markdown",
   "id": "5c971579",
   "metadata": {
    "papermill": {
     "duration": 0.007863,
     "end_time": "2022-06-20T05:04:31.402098",
     "exception": false,
     "start_time": "2022-06-20T05:04:31.394235",
     "status": "completed"
    },
    "tags": []
   },
   "source": [
    "# Data Features\n"
   ]
  },
  {
   "cell_type": "code",
   "execution_count": 7,
   "id": "6ef684d4",
   "metadata": {
    "execution": {
     "iopub.execute_input": "2022-06-20T05:04:31.419662Z",
     "iopub.status.busy": "2022-06-20T05:04:31.419261Z",
     "iopub.status.idle": "2022-06-20T05:04:31.442378Z",
     "shell.execute_reply": "2022-06-20T05:04:31.441488Z"
    },
    "papermill": {
     "duration": 0.034334,
     "end_time": "2022-06-20T05:04:31.444395",
     "exception": false,
     "start_time": "2022-06-20T05:04:31.410061",
     "status": "completed"
    },
    "tags": []
   },
   "outputs": [],
   "source": [
    "\n",
    "# define function to compute log returns\n",
    "def log_return(series, periods=1):\n",
    "    return np.log(series).diff(periods=periods)\n",
    "\n",
    "\n",
    "# def fill_the_gaps(df):\n",
    "#     new_df = pd.DataFrame(columns= df.columns)\n",
    "#     for i in range(len(df['SecuritiesCode'].unique())):\n",
    "#         new_df = new_df.append(df[df['SecuritiesCode'] == i].reindex(range(df[df['SecuritiesCode'] == i].index[0],df[df['SecuritiesCode'] == i].index[-1]+60,60),method='pad'))\n",
    "#     new_df.fillna(method = 'pad', inplace = True) \n",
    "#     return new_df\n",
    "\n",
    "\n",
    "def rsiFunc(prices, n=14):\n",
    "    deltas = np.diff(prices)\n",
    "    seed = deltas[:n+1]\n",
    "    up = seed[seed>=0].sum()/n\n",
    "    down = -seed[seed<0].sum()/n\n",
    "    rs = up/down\n",
    "    rsi = np.zeros_like(prices)\n",
    "    rsi[:n] = 100. - 100./(1.+rs)\n",
    "\n",
    "    for i in range(n, len(prices)):\n",
    "        delta = deltas[i-1] # cause the diff is 1 shorter\n",
    "\n",
    "        if delta>0:\n",
    "            upval = delta\n",
    "            downval = 0.\n",
    "        else:\n",
    "            upval = 0.\n",
    "            downval = -delta\n",
    "\n",
    "        up = (up*(n-1) + upval)/n\n",
    "        down = (down*(n-1) + downval)/n\n",
    "\n",
    "        rs = up/down\n",
    "        rsi[i] = 100. - 100./(1.+rs)\n",
    "\n",
    "    return rsi\n",
    "\n",
    "\n",
    "\n",
    "def get_features(df):\n",
    "\n",
    "    df['log_return_5'] = log_return(df['Close'],periods=5)\n",
    "    df['log_return'] = log_return(df['Close'],periods=1)\n",
    "\n",
    "    upper_shadow = lambda asset: asset.High - np.maximum(asset.Close,asset.Open)\n",
    "    lower_shadow = lambda asset: np.minimum(asset.Close,asset.Open)- asset.Low\n",
    "\n",
    "    df['upper_shadow'] = upper_shadow(df)\n",
    "    df['lower_shadow'] = lower_shadow(df)\n",
    "    \n",
    "    df['EMA_21'] = df['Close'].ewm(span=21).mean()\n",
    "    \n",
    "    df['EMA_55'] = df['Close'].ewm(span=55).mean()\n",
    "    \n",
    "    df['EMA_315'] = df['Close'].ewm(span=315).mean()\n",
    "    \n",
    "    df['EMA_825'] = df['Close'].ewm(span=825).mean()\n",
    "    \n",
    "    window = 7\n",
    "    \n",
    "    no_of_std = 2\n",
    "    \n",
    "    df[f'EMA_{window}'] = df['Close'].ewm(span=window).mean()\n",
    "    \n",
    "    df[f'EMA_{window}_std'] = df['Close'].rolling(window=window).std()\n",
    "    \n",
    "    df[f'EMA_{window}_BB_high'] = df[f'EMA_{window}'] + no_of_std * df[f'EMA_{window}_std']\n",
    "    \n",
    "    df[f'MA_{window}MA_BB_low'] = df[f'EMA_{window}'] - no_of_std * df[f'EMA_{window}_std']\n",
    "    \n",
    "    window = 5\n",
    "    \n",
    "    df[f'EMA_{window}'] = df['Close'].ewm(span=window).mean()\n",
    "    \n",
    "    df[f'EMA_{window}_std'] = df['Close'].rolling(window=window).std()\n",
    "    \n",
    "    df[f'EMA_{window}_BB_high'] = df[f'EMA_{window}'] + no_of_std * df[f'EMA_{window}_std']\n",
    "    \n",
    "    df[f'MA_{window}MA_BB_low'] = df[f'EMA_{window}'] - no_of_std * df[f'EMA_{window}_std']\n",
    "    \n",
    "    df['MACD'] = df['EMA_7'] - df['EMA_5']\n",
    "    \n",
    "    \n",
    "    df['rsi_5'] = rsiFunc(df['Close'].values, 5)\n",
    "    \n",
    "    df['rsi_7'] = rsiFunc(df['Close'].values, 7)\n",
    "    \n",
    "    df['rsi_21'] = rsiFunc(df['Close'].values, 21)\n",
    "    \n",
    "    \n",
    "    \n",
    "    #df['VWAP'] = (df['Close'] * df['Volume'])/ df['Volume']\n",
    "\n",
    "    #df['dayofweek'] = df['dt'].dt.dayofweek\n",
    "\n",
    "\n",
    "    \n",
    "    \n",
    "    #df = pd.concat([df, pd.get_dummies(df['Asset_ID'], prefix= 'Asset_')], axis=1)\n",
    "    \n",
    "    df[['log_return_5', 'log_return', 'upper_shadow', 'lower_shadow',\n",
    "       'EMA_21', 'EMA_55', 'EMA_315', 'EMA_825', 'EMA_7', 'EMA_7_std',\n",
    "       'EMA_7_BB_high', 'MA_7MA_BB_low', 'EMA_5', 'EMA_5_std', 'EMA_5_BB_high',\n",
    "       'MA_5MA_BB_low', 'MACD', 'rsi_5', 'rsi_7', 'rsi_21']].astype('float16')\n",
    "    \n",
    "    return df\n",
    "\n"
   ]
  },
  {
   "cell_type": "code",
   "execution_count": 8,
   "id": "1c5be184",
   "metadata": {
    "execution": {
     "iopub.execute_input": "2022-06-20T05:04:31.462441Z",
     "iopub.status.busy": "2022-06-20T05:04:31.462062Z",
     "iopub.status.idle": "2022-06-20T05:04:44.982400Z",
     "shell.execute_reply": "2022-06-20T05:04:44.981536Z"
    },
    "papermill": {
     "duration": 13.53219,
     "end_time": "2022-06-20T05:04:44.984670",
     "exception": false,
     "start_time": "2022-06-20T05:04:31.452480",
     "status": "completed"
    },
    "tags": []
   },
   "outputs": [
    {
     "name": "stderr",
     "output_type": "stream",
     "text": [
      "/opt/conda/lib/python3.7/site-packages/pandas/core/algorithms.py:1711: RuntimeWarning: invalid value encountered in subtract\n",
      "  out_arr[res_indexer] = op(arr[res_indexer], arr[lag_indexer])\n",
      "/opt/conda/lib/python3.7/site-packages/numpy/lib/function_base.py:1292: RuntimeWarning: invalid value encountered in subtract\n",
      "  a = op(a[slice1], a[slice2])\n"
     ]
    }
   ],
   "source": [
    "df_prices = get_features(df_prices)\n",
    "\n",
    "df_prices = df_prices.replace((np.inf, -np.inf, np.nan), 0).reset_index(drop=True)\n",
    "\n",
    "df_prices = df_prices.fillna(0)"
   ]
  },
  {
   "cell_type": "code",
   "execution_count": null,
   "id": "ef24e4f7",
   "metadata": {
    "papermill": {
     "duration": 0.008285,
     "end_time": "2022-06-20T05:04:45.001438",
     "exception": false,
     "start_time": "2022-06-20T05:04:44.993153",
     "status": "completed"
    },
    "tags": []
   },
   "outputs": [],
   "source": []
  },
  {
   "cell_type": "code",
   "execution_count": null,
   "id": "c06877b8",
   "metadata": {
    "papermill": {
     "duration": 0.008216,
     "end_time": "2022-06-20T05:04:45.018120",
     "exception": false,
     "start_time": "2022-06-20T05:04:45.009904",
     "status": "completed"
    },
    "tags": []
   },
   "outputs": [],
   "source": []
  },
  {
   "cell_type": "markdown",
   "id": "a1ae36c5",
   "metadata": {
    "papermill": {
     "duration": 0.008399,
     "end_time": "2022-06-20T05:04:45.035425",
     "exception": false,
     "start_time": "2022-06-20T05:04:45.027026",
     "status": "completed"
    },
    "tags": []
   },
   "source": [
    "## Training a Simple Model\n",
    "\n",
    "Xgboost"
   ]
  },
  {
   "cell_type": "code",
   "execution_count": null,
   "id": "5c209d8a",
   "metadata": {
    "papermill": {
     "duration": 0.008379,
     "end_time": "2022-06-20T05:04:45.052222",
     "exception": false,
     "start_time": "2022-06-20T05:04:45.043843",
     "status": "completed"
    },
    "tags": []
   },
   "outputs": [],
   "source": []
  },
  {
   "cell_type": "code",
   "execution_count": 9,
   "id": "4c326c7c",
   "metadata": {
    "execution": {
     "iopub.execute_input": "2022-06-20T05:04:45.070803Z",
     "iopub.status.busy": "2022-06-20T05:04:45.070418Z",
     "iopub.status.idle": "2022-06-20T05:04:46.256091Z",
     "shell.execute_reply": "2022-06-20T05:04:46.255177Z"
    },
    "papermill": {
     "duration": 1.197493,
     "end_time": "2022-06-20T05:04:46.258487",
     "exception": false,
     "start_time": "2022-06-20T05:04:45.060994",
     "status": "completed"
    },
    "tags": []
   },
   "outputs": [],
   "source": [
    "import xgboost as xgb\n",
    "from sklearn.preprocessing import StandardScaler\n",
    "scaler = StandardScaler()"
   ]
  },
  {
   "cell_type": "code",
   "execution_count": 10,
   "id": "3a0f1465",
   "metadata": {
    "execution": {
     "iopub.execute_input": "2022-06-20T05:04:46.276582Z",
     "iopub.status.busy": "2022-06-20T05:04:46.276234Z",
     "iopub.status.idle": "2022-06-20T05:04:46.281377Z",
     "shell.execute_reply": "2022-06-20T05:04:46.280582Z"
    },
    "papermill": {
     "duration": 0.016081,
     "end_time": "2022-06-20T05:04:46.283082",
     "exception": false,
     "start_time": "2022-06-20T05:04:46.267001",
     "status": "completed"
    },
    "tags": []
   },
   "outputs": [],
   "source": [
    "def model_training(X,y):\n",
    "    # Model training\n",
    "    \n",
    "    model = xgb.XGBRegressor(n_estimators=5000,learning_rate=0.1 , tree_method = 'gpu_hist') \n",
    "    model.fit(X, y)\n",
    "    \n",
    "    return model\n"
   ]
  },
  {
   "cell_type": "code",
   "execution_count": 11,
   "id": "be574b5d",
   "metadata": {
    "execution": {
     "iopub.execute_input": "2022-06-20T05:04:46.301970Z",
     "iopub.status.busy": "2022-06-20T05:04:46.301115Z",
     "iopub.status.idle": "2022-06-20T05:04:46.307569Z",
     "shell.execute_reply": "2022-06-20T05:04:46.306757Z"
    },
    "papermill": {
     "duration": 0.018104,
     "end_time": "2022-06-20T05:04:46.309490",
     "exception": false,
     "start_time": "2022-06-20T05:04:46.291386",
     "status": "completed"
    },
    "tags": []
   },
   "outputs": [],
   "source": [
    "scaled_features = ['Open', 'High', 'Low', 'Close', 'Volume','log_return_5', 'log_return', 'upper_shadow', 'lower_shadow',\n",
    "       'EMA_21', 'EMA_55', 'EMA_315', 'EMA_825', 'EMA_7', 'EMA_7_std',\n",
    "       'EMA_7_BB_high', 'MA_7MA_BB_low', 'EMA_5', 'EMA_5_std', 'EMA_5_BB_high',\n",
    "       'MA_5MA_BB_low', 'MACD', 'rsi_5', 'rsi_7', 'rsi_21']\n",
    "features = ['Open', 'High', 'Low', 'Close', 'Volume', 'log_return_5', 'log_return', 'upper_shadow', 'lower_shadow',\n",
    "       'EMA_21', 'EMA_55', 'EMA_315', 'EMA_825', 'EMA_7', 'EMA_7_std',\n",
    "       'EMA_7_BB_high', 'MA_7MA_BB_low', 'EMA_5', 'EMA_5_std', 'EMA_5_BB_high',\n",
    "       'MA_5MA_BB_low', 'MACD', 'rsi_5', 'rsi_7', 'rsi_21']"
   ]
  },
  {
   "cell_type": "code",
   "execution_count": 12,
   "id": "490700d1",
   "metadata": {
    "execution": {
     "iopub.execute_input": "2022-06-20T05:04:46.328363Z",
     "iopub.status.busy": "2022-06-20T05:04:46.327957Z",
     "iopub.status.idle": "2022-06-20T05:04:46.395674Z",
     "shell.execute_reply": "2022-06-20T05:04:46.394745Z"
    },
    "papermill": {
     "duration": 0.079768,
     "end_time": "2022-06-20T05:04:46.398029",
     "exception": false,
     "start_time": "2022-06-20T05:04:46.318261",
     "status": "completed"
    },
    "tags": []
   },
   "outputs": [],
   "source": [
    "# Creating endog and exog variables\n",
    "y = df_prices[['Target']]\n",
    "X = df_prices[features]"
   ]
  },
  {
   "cell_type": "code",
   "execution_count": 13,
   "id": "3e448b81",
   "metadata": {
    "execution": {
     "iopub.execute_input": "2022-06-20T05:04:46.416856Z",
     "iopub.status.busy": "2022-06-20T05:04:46.416458Z",
     "iopub.status.idle": "2022-06-20T05:04:46.762194Z",
     "shell.execute_reply": "2022-06-20T05:04:46.761274Z"
    },
    "papermill": {
     "duration": 0.358464,
     "end_time": "2022-06-20T05:04:46.765265",
     "exception": false,
     "start_time": "2022-06-20T05:04:46.406801",
     "status": "completed"
    },
    "tags": []
   },
   "outputs": [
    {
     "name": "stderr",
     "output_type": "stream",
     "text": [
      "/opt/conda/lib/python3.7/site-packages/pandas/core/frame.py:3678: SettingWithCopyWarning: \n",
      "A value is trying to be set on a copy of a slice from a DataFrame.\n",
      "Try using .loc[row_indexer,col_indexer] = value instead\n",
      "\n",
      "See the caveats in the documentation: https://pandas.pydata.org/pandas-docs/stable/user_guide/indexing.html#returning-a-view-versus-a-copy\n",
      "  self[col] = igetitem(value, i)\n"
     ]
    }
   ],
   "source": [
    "X[scaled_features] = scaler.fit_transform(X[scaled_features])\n"
   ]
  },
  {
   "cell_type": "code",
   "execution_count": null,
   "id": "6342b970",
   "metadata": {
    "papermill": {
     "duration": 0.007868,
     "end_time": "2022-06-20T05:04:46.782406",
     "exception": false,
     "start_time": "2022-06-20T05:04:46.774538",
     "status": "completed"
    },
    "tags": []
   },
   "outputs": [],
   "source": []
  },
  {
   "cell_type": "code",
   "execution_count": 14,
   "id": "e81280dc",
   "metadata": {
    "execution": {
     "iopub.execute_input": "2022-06-20T05:04:46.800842Z",
     "iopub.status.busy": "2022-06-20T05:04:46.799940Z",
     "iopub.status.idle": "2022-06-20T05:05:19.808630Z",
     "shell.execute_reply": "2022-06-20T05:05:19.807645Z"
    },
    "papermill": {
     "duration": 33.029097,
     "end_time": "2022-06-20T05:05:19.819631",
     "exception": false,
     "start_time": "2022-06-20T05:04:46.790534",
     "status": "completed"
    },
    "tags": []
   },
   "outputs": [
    {
     "name": "stdout",
     "output_type": "stream",
     "text": [
      "CPU times: user 30.5 s, sys: 878 ms, total: 31.3 s\n",
      "Wall time: 33 s\n"
     ]
    }
   ],
   "source": [
    "%%time\n",
    "\n",
    "model_1 = model_training(X,y)"
   ]
  },
  {
   "cell_type": "code",
   "execution_count": 15,
   "id": "bd2fc4e1",
   "metadata": {
    "execution": {
     "iopub.execute_input": "2022-06-20T05:05:19.839452Z",
     "iopub.status.busy": "2022-06-20T05:05:19.838535Z",
     "iopub.status.idle": "2022-06-20T05:06:22.949140Z",
     "shell.execute_reply": "2022-06-20T05:06:22.948229Z"
    },
    "papermill": {
     "duration": 63.128801,
     "end_time": "2022-06-20T05:06:22.957296",
     "exception": false,
     "start_time": "2022-06-20T05:05:19.828495",
     "status": "completed"
    },
    "tags": []
   },
   "outputs": [
    {
     "data": {
      "text/plain": [
       "0.45721909735415134"
      ]
     },
     "execution_count": 15,
     "metadata": {},
     "output_type": "execute_result"
    }
   ],
   "source": [
    "model_1.score(X,y)"
   ]
  },
  {
   "cell_type": "code",
   "execution_count": 16,
   "id": "486308ae",
   "metadata": {
    "execution": {
     "iopub.execute_input": "2022-06-20T05:06:22.976588Z",
     "iopub.status.busy": "2022-06-20T05:06:22.976211Z",
     "iopub.status.idle": "2022-06-20T05:06:22.980896Z",
     "shell.execute_reply": "2022-06-20T05:06:22.980004Z"
    },
    "papermill": {
     "duration": 0.01634,
     "end_time": "2022-06-20T05:06:22.982825",
     "exception": false,
     "start_time": "2022-06-20T05:06:22.966485",
     "status": "completed"
    },
    "tags": []
   },
   "outputs": [],
   "source": [
    "import pickle"
   ]
  },
  {
   "cell_type": "code",
   "execution_count": 17,
   "id": "736895f5",
   "metadata": {
    "execution": {
     "iopub.execute_input": "2022-06-20T05:06:23.002020Z",
     "iopub.status.busy": "2022-06-20T05:06:23.001147Z",
     "iopub.status.idle": "2022-06-20T05:06:23.189834Z",
     "shell.execute_reply": "2022-06-20T05:06:23.188891Z"
    },
    "papermill": {
     "duration": 0.200787,
     "end_time": "2022-06-20T05:06:23.192237",
     "exception": false,
     "start_time": "2022-06-20T05:06:22.991450",
     "status": "completed"
    },
    "tags": []
   },
   "outputs": [],
   "source": [
    "# Saving model\n",
    "\n",
    "#Saving the sklearn model\n",
    "\n",
    "filename = 'simple_xgb.sav'\n",
    "pickle.dump(model_1, open(filename, 'wb'))\n",
    "\n",
    "# save in text format\n",
    "model_1.save_model(\"simple_xgb.txt\")"
   ]
  },
  {
   "cell_type": "markdown",
   "id": "e610a891",
   "metadata": {
    "papermill": {
     "duration": 0.008347,
     "end_time": "2022-06-20T05:06:23.209443",
     "exception": false,
     "start_time": "2022-06-20T05:06:23.201096",
     "status": "completed"
    },
    "tags": []
   },
   "source": [
    "# Submission\n"
   ]
  },
  {
   "cell_type": "code",
   "execution_count": 18,
   "id": "6819be95",
   "metadata": {
    "execution": {
     "iopub.execute_input": "2022-06-20T05:06:23.228104Z",
     "iopub.status.busy": "2022-06-20T05:06:23.227690Z",
     "iopub.status.idle": "2022-06-20T05:06:23.234410Z",
     "shell.execute_reply": "2022-06-20T05:06:23.233348Z"
    },
    "papermill": {
     "duration": 0.018851,
     "end_time": "2022-06-20T05:06:23.236809",
     "exception": false,
     "start_time": "2022-06-20T05:06:23.217958",
     "status": "completed"
    },
    "tags": []
   },
   "outputs": [],
   "source": [
    "# def calc_spread_return_per_day(df, portfolio_size, toprank_weight_ratio):\n",
    "#     \"\"\"\n",
    "#     Args:\n",
    "#         df (pd.DataFrame): predicted results\n",
    "#         portfolio_size (int): # of equities to buy/sell\n",
    "#         toprank_weight_ratio (float): the relative weight of the most highly ranked stock compared to the least.\n",
    "#     Returns:\n",
    "#         (float): spread return\n",
    "#     \"\"\"\n",
    "#     assert df['Rank'].min() == 0\n",
    "#     assert df['Rank'].max() == len(df['Rank']) - 1\n",
    "#     weights = np.linspace(start=toprank_weight_ratio, stop=1, num=portfolio_size)\n",
    "#     purchase = (df.sort_values(by='Rank')['Target'][:portfolio_size] * weights).sum() / weights.mean()\n",
    "#     short = (df.sort_values(by='Rank', ascending=False)['Target'][:portfolio_size] * weights).sum() / weights.mean()\n",
    "#     return purchase - short\n",
    "\n",
    "# def calc_spread_return_sharpe(df: pd.DataFrame, portfolio_size: int = 200, toprank_weight_ratio: float = 2) -> float:\n",
    "#     \"\"\"\n",
    "#     Args:\n",
    "#         df (pd.DataFrame): predicted results\n",
    "#         portfolio_size (int): # of equities to buy/sell\n",
    "#         toprank_weight_ratio (float): the relative weight of the most highly ranked stock compared to the least.\n",
    "#     Returns:\n",
    "#         (float): sharpe ratio\n",
    "#     \"\"\"\n",
    "#     buf = df.groupby('Date').apply(calc_spread_return_per_day, portfolio_size, toprank_weight_ratio)\n",
    "#     sharpe_ratio = buf.mean() / buf.std()\n",
    "#     return sharpe_ratio, buf\n",
    "\n",
    "def add_rank(df, col_name=\"pred\"):\n",
    "    df[\"Rank\"] = df.groupby(\"Date\")[col_name].rank(ascending=False, method=\"first\") - 1 \n",
    "    df[\"Rank\"] = df[\"Rank\"].astype(\"int\")\n",
    "    return df"
   ]
  },
  {
   "cell_type": "code",
   "execution_count": 19,
   "id": "40985bda",
   "metadata": {
    "execution": {
     "iopub.execute_input": "2022-06-20T05:06:23.255392Z",
     "iopub.status.busy": "2022-06-20T05:06:23.255016Z",
     "iopub.status.idle": "2022-06-20T05:06:23.259921Z",
     "shell.execute_reply": "2022-06-20T05:06:23.259082Z"
    },
    "papermill": {
     "duration": 0.016351,
     "end_time": "2022-06-20T05:06:23.261721",
     "exception": false,
     "start_time": "2022-06-20T05:06:23.245370",
     "status": "completed"
    },
    "tags": []
   },
   "outputs": [],
   "source": [
    "# # By Yuike - https://www.kaggle.com/code/ikeppyo/examples-of-higher-scores-than-perfect-predictions\n",
    "\n",
    "# # This function adjusts the predictions so that the daily spread return approaches a certain value.\n",
    "# def adjuster(df):\n",
    "#     def calc_pred(df, x, y, z):\n",
    "#         return df['Target'].where(df['Target'].abs() < x, df['Target'] * y + np.sign(df['Target']) * z)\n",
    "\n",
    "#     def objective(trial, df):\n",
    "#         x = trial.suggest_uniform('x', 0, 0.2)\n",
    "#         y = trial.suggest_uniform('y', 0, 0.1)\n",
    "#         z = trial.suggest_uniform('z', 0, 1e-3)\n",
    "#         df[\"Rank\"] = calc_pred(df, x, y, z).rank(ascending=False, method=\"first\") - 1 \n",
    "#         df[\"Rank\"] = df[\"Rank\"].astype(\"int\")\n",
    "#         return calc_spread_return_per_day(df, 200, 2)\n",
    "    \n",
    "#     def predictor_per_day(df):\n",
    "#         study = optuna.create_study(direction='minimize', sampler=optuna.samplers.TPESampler(seed=2022))\n",
    "#         study.optimize(lambda trial: abs(objective(trial, df) - 10), 10)\n",
    "#         return calc_pred(df, *study.best_params.values())\n",
    "\n",
    "#     return df.groupby(\"Date\").apply(predictor_per_day).reset_index(level=0, drop=True)\n",
    "\n",
    "# def _predictor_base(feature_df):\n",
    "#     return model.predict(feature_df[feats])\n",
    "\n",
    "# def _predictor_with_adjuster(feature_df):\n",
    "#     feature_df[\"Target\"] = model.predict(feature_df[feats])\n",
    "#     return adjuster(feature_df)"
   ]
  },
  {
   "cell_type": "code",
   "execution_count": 20,
   "id": "abad3ece",
   "metadata": {
    "execution": {
     "iopub.execute_input": "2022-06-20T05:06:23.281329Z",
     "iopub.status.busy": "2022-06-20T05:06:23.280443Z",
     "iopub.status.idle": "2022-06-20T05:06:23.284504Z",
     "shell.execute_reply": "2022-06-20T05:06:23.283671Z"
    },
    "papermill": {
     "duration": 0.016214,
     "end_time": "2022-06-20T05:06:23.286551",
     "exception": false,
     "start_time": "2022-06-20T05:06:23.270337",
     "status": "completed"
    },
    "tags": []
   },
   "outputs": [],
   "source": [
    "# predictor = _predictor_with_adjuster"
   ]
  },
  {
   "cell_type": "code",
   "execution_count": 21,
   "id": "4af8601c",
   "metadata": {
    "execution": {
     "iopub.execute_input": "2022-06-20T05:06:23.305357Z",
     "iopub.status.busy": "2022-06-20T05:06:23.304985Z",
     "iopub.status.idle": "2022-06-20T05:06:24.147568Z",
     "shell.execute_reply": "2022-06-20T05:06:24.146699Z"
    },
    "papermill": {
     "duration": 0.854824,
     "end_time": "2022-06-20T05:06:24.149888",
     "exception": false,
     "start_time": "2022-06-20T05:06:23.295064",
     "status": "completed"
    },
    "tags": []
   },
   "outputs": [
    {
     "name": "stdout",
     "output_type": "stream",
     "text": [
      "This version of the API is not optimized and should not be used to estimate the runtime of your code on the hidden test set.\n"
     ]
    }
   ],
   "source": [
    "import jpx_tokyo_market_prediction\n",
    "\n",
    "\n",
    "env = jpx_tokyo_market_prediction.make_env()   # initialize the environment\n",
    "iter_test = env.iter_test()    # an iterator which loops over the test files\n",
    "for (prices, options, financials, trades, secondary_prices, sample_prediction) in iter_test:\n",
    "    prices = get_features(prices)\n",
    "    prices = prices.replace((np.inf, -np.inf, np.nan), 0).reset_index(drop=True)\n",
    "    prices = prices.fillna(0)\n",
    "    prices[scaled_features] = scaler.fit_transform(prices[scaled_features])\n",
    "    prices['pred'] = model_1.predict(prices[features])\n",
    "    prices = add_rank(prices)\n",
    "    feature_map = prices.set_index('SecuritiesCode')['Rank'].to_dict()\n",
    "    sample_prediction['Rank'] = sample_prediction['SecuritiesCode'].map(feature_map)\n",
    "    env.predict(sample_prediction)"
   ]
  },
  {
   "cell_type": "code",
   "execution_count": null,
   "id": "b3870e3d",
   "metadata": {
    "papermill": {
     "duration": 0.008684,
     "end_time": "2022-06-20T05:06:24.167836",
     "exception": false,
     "start_time": "2022-06-20T05:06:24.159152",
     "status": "completed"
    },
    "tags": []
   },
   "outputs": [],
   "source": []
  }
 ],
 "metadata": {
  "kernelspec": {
   "display_name": "Python 3",
   "language": "python",
   "name": "python3"
  },
  "language_info": {
   "codemirror_mode": {
    "name": "ipython",
    "version": 3
   },
   "file_extension": ".py",
   "mimetype": "text/x-python",
   "name": "python",
   "nbconvert_exporter": "python",
   "pygments_lexer": "ipython3",
   "version": "3.7.12"
  },
  "papermill": {
   "default_parameters": {},
   "duration": 149.058881,
   "end_time": "2022-06-20T05:06:25.600546",
   "environment_variables": {},
   "exception": null,
   "input_path": "__notebook__.ipynb",
   "output_path": "__notebook__.ipynb",
   "parameters": {},
   "start_time": "2022-06-20T05:03:56.541665",
   "version": "2.3.4"
  }
 },
 "nbformat": 4,
 "nbformat_minor": 5
}
