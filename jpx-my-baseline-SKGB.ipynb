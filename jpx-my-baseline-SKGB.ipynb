{
 "cells": [
  {
   "cell_type": "code",
   "execution_count": 1,
   "id": "0c1aebdb",
   "metadata": {
    "_cell_guid": "b1076dfc-b9ad-4769-8c92-a6c4dae69d19",
    "_uuid": "8f2839f25d086af736a60e9eeb907d3b93b6e0e5",
    "execution": {
     "iopub.execute_input": "2022-06-19T19:15:06.700899Z",
     "iopub.status.busy": "2022-06-19T19:15:06.700127Z",
     "iopub.status.idle": "2022-06-19T19:15:06.730957Z",
     "shell.execute_reply": "2022-06-19T19:15:06.730179Z"
    },
    "papermill": {
     "duration": 0.043422,
     "end_time": "2022-06-19T19:15:06.733880",
     "exception": false,
     "start_time": "2022-06-19T19:15:06.690458",
     "status": "completed"
    },
    "tags": []
   },
   "outputs": [
    {
     "name": "stdout",
     "output_type": "stream",
     "text": [
      "/kaggle/input/jpx-tokyo-stock-exchange-prediction/stock_list.csv\n",
      "/kaggle/input/jpx-tokyo-stock-exchange-prediction/example_test_files/sample_submission.csv\n",
      "/kaggle/input/jpx-tokyo-stock-exchange-prediction/example_test_files/options.csv\n",
      "/kaggle/input/jpx-tokyo-stock-exchange-prediction/example_test_files/financials.csv\n",
      "/kaggle/input/jpx-tokyo-stock-exchange-prediction/example_test_files/secondary_stock_prices.csv\n",
      "/kaggle/input/jpx-tokyo-stock-exchange-prediction/example_test_files/trades.csv\n",
      "/kaggle/input/jpx-tokyo-stock-exchange-prediction/example_test_files/stock_prices.csv\n",
      "/kaggle/input/jpx-tokyo-stock-exchange-prediction/jpx_tokyo_market_prediction/competition.cpython-37m-x86_64-linux-gnu.so\n",
      "/kaggle/input/jpx-tokyo-stock-exchange-prediction/jpx_tokyo_market_prediction/__init__.py\n",
      "/kaggle/input/jpx-tokyo-stock-exchange-prediction/data_specifications/stock_fin_spec.csv\n",
      "/kaggle/input/jpx-tokyo-stock-exchange-prediction/data_specifications/trades_spec.csv\n",
      "/kaggle/input/jpx-tokyo-stock-exchange-prediction/data_specifications/stock_price_spec.csv\n",
      "/kaggle/input/jpx-tokyo-stock-exchange-prediction/data_specifications/options_spec.csv\n",
      "/kaggle/input/jpx-tokyo-stock-exchange-prediction/data_specifications/stock_list_spec.csv\n",
      "/kaggle/input/jpx-tokyo-stock-exchange-prediction/train_files/options.csv\n",
      "/kaggle/input/jpx-tokyo-stock-exchange-prediction/train_files/financials.csv\n",
      "/kaggle/input/jpx-tokyo-stock-exchange-prediction/train_files/secondary_stock_prices.csv\n",
      "/kaggle/input/jpx-tokyo-stock-exchange-prediction/train_files/trades.csv\n",
      "/kaggle/input/jpx-tokyo-stock-exchange-prediction/train_files/stock_prices.csv\n",
      "/kaggle/input/jpx-tokyo-stock-exchange-prediction/supplemental_files/options.csv\n",
      "/kaggle/input/jpx-tokyo-stock-exchange-prediction/supplemental_files/financials.csv\n",
      "/kaggle/input/jpx-tokyo-stock-exchange-prediction/supplemental_files/secondary_stock_prices.csv\n",
      "/kaggle/input/jpx-tokyo-stock-exchange-prediction/supplemental_files/trades.csv\n",
      "/kaggle/input/jpx-tokyo-stock-exchange-prediction/supplemental_files/stock_prices.csv\n"
     ]
    }
   ],
   "source": [
    "# This Python 3 environment comes with many helpful analytics libraries installed\n",
    "# It is defined by the kaggle/python Docker image: https://github.com/kaggle/docker-python\n",
    "# For example, here's several helpful packages to load\n",
    "\n",
    "import numpy as np # linear algebra\n",
    "import pandas as pd # data processing, CSV file I/O (e.g. pd.read_csv)\n",
    "\n",
    "# Input data files are available in the read-only \"../input/\" directory\n",
    "# For example, running this (by clicking run or pressing Shift+Enter) will list all files under the input directory\n",
    "\n",
    "import os\n",
    "for dirname, _, filenames in os.walk('/kaggle/input'):\n",
    "    for filename in filenames:\n",
    "        print(os.path.join(dirname, filename))\n",
    "\n",
    "# You can write up to 20GB to the current directory (/kaggle/working/) th\n",
    "#at gets preserved as output when you create a version using \"Save & Run All\" \n",
    "# You can also write temporary files to /kaggle/temp/, but they won't be saved outside of the current session"
   ]
  },
  {
   "cell_type": "markdown",
   "id": "8940b88e",
   "metadata": {
    "papermill": {
     "duration": 0.006815,
     "end_time": "2022-06-19T19:15:06.748876",
     "exception": false,
     "start_time": "2022-06-19T19:15:06.742061",
     "status": "completed"
    },
    "tags": []
   },
   "source": [
    "# Here starts my Baseline\n",
    "\n",
    "Ideas:\n",
    "\n",
    "1  - Feature engeneering- Basic and effective;\n",
    "\n",
    "2 - Gradient Boosting Regressions;\n",
    "\n",
    "3 - Neuronets Regressions; and\n",
    "\n",
    "4 - Submission.\n",
    "\n"
   ]
  },
  {
   "cell_type": "markdown",
   "id": "77b0d3a6",
   "metadata": {
    "papermill": {
     "duration": 0.006771,
     "end_time": "2022-06-19T19:15:06.762647",
     "exception": false,
     "start_time": "2022-06-19T19:15:06.755876",
     "status": "completed"
    },
    "tags": []
   },
   "source": [
    "## 1 Feature Engeneering"
   ]
  },
  {
   "cell_type": "code",
   "execution_count": 2,
   "id": "f52ebd5e",
   "metadata": {
    "execution": {
     "iopub.execute_input": "2022-06-19T19:15:06.777974Z",
     "iopub.status.busy": "2022-06-19T19:15:06.777674Z",
     "iopub.status.idle": "2022-06-19T19:15:06.782276Z",
     "shell.execute_reply": "2022-06-19T19:15:06.781401Z"
    },
    "papermill": {
     "duration": 0.014238,
     "end_time": "2022-06-19T19:15:06.784037",
     "exception": false,
     "start_time": "2022-06-19T19:15:06.769799",
     "status": "completed"
    },
    "tags": []
   },
   "outputs": [],
   "source": [
    "def concat_df(df1, df2):\n",
    "    df1 = pd.concat([df1, df2],\n",
    "                    ignore_index=True, sort=False\n",
    "                    ).drop_duplicates([\"RowId\"], keep=\"first\")\n",
    "    return df1"
   ]
  },
  {
   "cell_type": "code",
   "execution_count": 3,
   "id": "662a68b6",
   "metadata": {
    "execution": {
     "iopub.execute_input": "2022-06-19T19:15:06.799003Z",
     "iopub.status.busy": "2022-06-19T19:15:06.798639Z",
     "iopub.status.idle": "2022-06-19T19:15:14.924313Z",
     "shell.execute_reply": "2022-06-19T19:15:14.923499Z"
    },
    "papermill": {
     "duration": 8.135643,
     "end_time": "2022-06-19T19:15:14.926594",
     "exception": false,
     "start_time": "2022-06-19T19:15:06.790951",
     "status": "completed"
    },
    "tags": []
   },
   "outputs": [
    {
     "name": "stdout",
     "output_type": "stream",
     "text": [
      "<class 'pandas.core.frame.DataFrame'>\n",
      "Int64Index: 273958 entries, 2288531 to 2562488\n",
      "Data columns (total 12 columns):\n",
      " #   Column            Non-Null Count   Dtype  \n",
      "---  ------            --------------   -----  \n",
      " 0   RowId             273958 non-null  object \n",
      " 1   Date              273958 non-null  object \n",
      " 2   SecuritiesCode    273958 non-null  int8   \n",
      " 3   Open              273119 non-null  float16\n",
      " 4   High              273119 non-null  float16\n",
      " 5   Low               273119 non-null  float16\n",
      " 6   Close             273119 non-null  float16\n",
      " 7   Volume            273958 non-null  int8   \n",
      " 8   AdjustmentFactor  273958 non-null  float16\n",
      " 9   ExpectedDividend  2066 non-null    float16\n",
      " 10  SupervisionFlag   273958 non-null  bool   \n",
      " 11  Target            273952 non-null  float16\n",
      "dtypes: bool(1), float16(7), int8(2), object(2)\n",
      "memory usage: 10.7+ MB\n"
     ]
    }
   ],
   "source": [
    "# For now... use pandas.... \n",
    "#If too heavy use Cudf\n",
    "\n",
    "# For now... just fix the floats\n",
    "dtypes = {\n",
    "'SecuritiesCode' : np.int8,\n",
    "'Open'           :     np.float16,\n",
    "'High'           :     np.float16,\n",
    "'Low'            :     np.float16,\n",
    "'Close'          :     np.float16,\n",
    "'Volume'         :       np.int8,\n",
    "'AdjustmentFactor':    np.float16,\n",
    "'ExpectedDividend':    np.float16,\n",
    "'Target'        :      np.float16\n",
    "}\n",
    "path = \"../input/jpx-tokyo-stock-exchange-prediction/\"\n",
    "df_prices = pd.read_csv(f\"{path}train_files/stock_prices.csv\",dtype = dtypes)\n",
    "prices = pd.read_csv(f\"{path}supplemental_files/stock_prices.csv\",dtype = dtypes)\n",
    "df_prices = concat_df(df_prices, prices)\n",
    "df_prices = df_prices[df_prices.Date>\"2021-11-01\"]\n",
    "df_prices.info(show_counts=True)"
   ]
  },
  {
   "cell_type": "code",
   "execution_count": 4,
   "id": "e20be349",
   "metadata": {
    "execution": {
     "iopub.execute_input": "2022-06-19T19:15:14.943081Z",
     "iopub.status.busy": "2022-06-19T19:15:14.942323Z",
     "iopub.status.idle": "2022-06-19T19:15:14.946579Z",
     "shell.execute_reply": "2022-06-19T19:15:14.945900Z"
    },
    "papermill": {
     "duration": 0.013647,
     "end_time": "2022-06-19T19:15:14.948215",
     "exception": false,
     "start_time": "2022-06-19T19:15:14.934568",
     "status": "completed"
    },
    "tags": []
   },
   "outputs": [],
   "source": [
    "# def prep_prices(price):\n",
    "#     price.fillna(0,inplace=True)\n",
    "#     return price"
   ]
  },
  {
   "cell_type": "code",
   "execution_count": 5,
   "id": "d8e8c0e5",
   "metadata": {
    "execution": {
     "iopub.execute_input": "2022-06-19T19:15:14.963090Z",
     "iopub.status.busy": "2022-06-19T19:15:14.962834Z",
     "iopub.status.idle": "2022-06-19T19:15:14.966238Z",
     "shell.execute_reply": "2022-06-19T19:15:14.965423Z"
    },
    "papermill": {
     "duration": 0.013002,
     "end_time": "2022-06-19T19:15:14.968197",
     "exception": false,
     "start_time": "2022-06-19T19:15:14.955195",
     "status": "completed"
    },
    "tags": []
   },
   "outputs": [],
   "source": [
    "# df_prices = prep_prices(df_prices)\n",
    "# pd.options.display.float_format = '{:,.6g}'.format\n",
    "# df_prices.describe()"
   ]
  },
  {
   "cell_type": "code",
   "execution_count": null,
   "id": "f437cfa2",
   "metadata": {
    "papermill": {
     "duration": 0.006852,
     "end_time": "2022-06-19T19:15:14.982208",
     "exception": false,
     "start_time": "2022-06-19T19:15:14.975356",
     "status": "completed"
    },
    "tags": []
   },
   "outputs": [],
   "source": []
  },
  {
   "cell_type": "code",
   "execution_count": null,
   "id": "04343dc6",
   "metadata": {
    "papermill": {
     "duration": 0.006717,
     "end_time": "2022-06-19T19:15:14.996059",
     "exception": false,
     "start_time": "2022-06-19T19:15:14.989342",
     "status": "completed"
    },
    "tags": []
   },
   "outputs": [],
   "source": []
  },
  {
   "cell_type": "code",
   "execution_count": 6,
   "id": "0ed7833e",
   "metadata": {
    "execution": {
     "iopub.execute_input": "2022-06-19T19:15:15.012398Z",
     "iopub.status.busy": "2022-06-19T19:15:15.011957Z",
     "iopub.status.idle": "2022-06-19T19:15:15.016257Z",
     "shell.execute_reply": "2022-06-19T19:15:15.015552Z"
    },
    "papermill": {
     "duration": 0.014734,
     "end_time": "2022-06-19T19:15:15.017941",
     "exception": false,
     "start_time": "2022-06-19T19:15:15.003207",
     "status": "completed"
    },
    "tags": []
   },
   "outputs": [],
   "source": [
    "from datetime import datetime\n",
    "import time\n",
    "\n",
    " # auxiliary function, from datetime to timestamp\n",
    "totimestamp = lambda s: np.int32(time.mktime(datetime.strptime(s, \"%Y-%m-%d\").timetuple()))"
   ]
  },
  {
   "cell_type": "markdown",
   "id": "119a57b0",
   "metadata": {
    "papermill": {
     "duration": 0.006736,
     "end_time": "2022-06-19T19:15:15.031512",
     "exception": false,
     "start_time": "2022-06-19T19:15:15.024776",
     "status": "completed"
    },
    "tags": []
   },
   "source": [
    "# Data Features\n"
   ]
  },
  {
   "cell_type": "code",
   "execution_count": 7,
   "id": "2e679042",
   "metadata": {
    "execution": {
     "iopub.execute_input": "2022-06-19T19:15:15.046882Z",
     "iopub.status.busy": "2022-06-19T19:15:15.046631Z",
     "iopub.status.idle": "2022-06-19T19:15:15.064375Z",
     "shell.execute_reply": "2022-06-19T19:15:15.063589Z"
    },
    "papermill": {
     "duration": 0.027328,
     "end_time": "2022-06-19T19:15:15.065967",
     "exception": false,
     "start_time": "2022-06-19T19:15:15.038639",
     "status": "completed"
    },
    "tags": []
   },
   "outputs": [],
   "source": [
    "\n",
    "# define function to compute log returns\n",
    "def log_return(series, periods=1):\n",
    "    return np.log(series).diff(periods=periods)\n",
    "\n",
    "\n",
    "# def fill_the_gaps(df):\n",
    "#     new_df = pd.DataFrame(columns= df.columns)\n",
    "#     for i in range(len(df['SecuritiesCode'].unique())):\n",
    "#         new_df = new_df.append(df[df['SecuritiesCode'] == i].reindex(range(df[df['SecuritiesCode'] == i].index[0],df[df['SecuritiesCode'] == i].index[-1]+60,60),method='pad'))\n",
    "#     new_df.fillna(method = 'pad', inplace = True) \n",
    "#     return new_df\n",
    "\n",
    "\n",
    "def rsiFunc(prices, n=14):\n",
    "    deltas = np.diff(prices)\n",
    "    seed = deltas[:n+1]\n",
    "    up = seed[seed>=0].sum()/n\n",
    "    down = -seed[seed<0].sum()/n\n",
    "    rs = up/down\n",
    "    rsi = np.zeros_like(prices)\n",
    "    rsi[:n] = 100. - 100./(1.+rs)\n",
    "\n",
    "    for i in range(n, len(prices)):\n",
    "        delta = deltas[i-1] # cause the diff is 1 shorter\n",
    "\n",
    "        if delta>0:\n",
    "            upval = delta\n",
    "            downval = 0.\n",
    "        else:\n",
    "            upval = 0.\n",
    "            downval = -delta\n",
    "\n",
    "        up = (up*(n-1) + upval)/n\n",
    "        down = (down*(n-1) + downval)/n\n",
    "\n",
    "        rs = up/down\n",
    "        rsi[i] = 100. - 100./(1.+rs)\n",
    "\n",
    "    return rsi\n",
    "\n",
    "\n",
    "\n",
    "def get_features(df):\n",
    "\n",
    "    df['log_return_5'] = log_return(df['Close'],periods=5)\n",
    "    df['log_return'] = log_return(df['Close'],periods=1)\n",
    "\n",
    "    upper_shadow = lambda asset: asset.High - np.maximum(asset.Close,asset.Open)\n",
    "    lower_shadow = lambda asset: np.minimum(asset.Close,asset.Open)- asset.Low\n",
    "\n",
    "    df['upper_shadow'] = upper_shadow(df)\n",
    "    df['lower_shadow'] = lower_shadow(df)\n",
    "    \n",
    "    df['EMA_21'] = df['Close'].ewm(span=21).mean()\n",
    "    \n",
    "    df['EMA_55'] = df['Close'].ewm(span=55).mean()\n",
    "    \n",
    "    df['EMA_315'] = df['Close'].ewm(span=315).mean()\n",
    "    \n",
    "    df['EMA_825'] = df['Close'].ewm(span=825).mean()\n",
    "    \n",
    "    window = 7\n",
    "    \n",
    "    no_of_std = 2\n",
    "    \n",
    "    df[f'EMA_{window}'] = df['Close'].ewm(span=window).mean()\n",
    "    \n",
    "    df[f'EMA_{window}_std'] = df['Close'].rolling(window=window).std()\n",
    "    \n",
    "    df[f'EMA_{window}_BB_high'] = df[f'EMA_{window}'] + no_of_std * df[f'EMA_{window}_std']\n",
    "    \n",
    "    df[f'MA_{window}MA_BB_low'] = df[f'EMA_{window}'] - no_of_std * df[f'EMA_{window}_std']\n",
    "    \n",
    "    window = 5\n",
    "    \n",
    "    df[f'EMA_{window}'] = df['Close'].ewm(span=window).mean()\n",
    "    \n",
    "    df[f'EMA_{window}_std'] = df['Close'].rolling(window=window).std()\n",
    "    \n",
    "    df[f'EMA_{window}_BB_high'] = df[f'EMA_{window}'] + no_of_std * df[f'EMA_{window}_std']\n",
    "    \n",
    "    df[f'MA_{window}MA_BB_low'] = df[f'EMA_{window}'] - no_of_std * df[f'EMA_{window}_std']\n",
    "    \n",
    "    df['MACD'] = df['EMA_7'] - df['EMA_5']\n",
    "    \n",
    "    \n",
    "    df['rsi_5'] = rsiFunc(df['Close'].values, 5)\n",
    "    \n",
    "    df['rsi_7'] = rsiFunc(df['Close'].values, 7)\n",
    "    \n",
    "    df['rsi_21'] = rsiFunc(df['Close'].values, 21)\n",
    "\n",
    "    \n",
    "    \n",
    "    #df = pd.concat([df, pd.get_dummies(df['Asset_ID'], prefix= 'Asset_')], axis=1)\n",
    "    \n",
    "    df[['log_return_5', 'log_return', 'upper_shadow', 'lower_shadow',\n",
    "       'EMA_21', 'EMA_55', 'EMA_315', 'EMA_825', 'EMA_7', 'EMA_7_std',\n",
    "       'EMA_7_BB_high', 'MA_7MA_BB_low', 'EMA_5', 'EMA_5_std', 'EMA_5_BB_high',\n",
    "       'MA_5MA_BB_low', 'MACD', 'rsi_5', 'rsi_7', 'rsi_21']].astype('float16')\n",
    "    \n",
    "    return df\n",
    "\n"
   ]
  },
  {
   "cell_type": "code",
   "execution_count": 8,
   "id": "fa1e20b2",
   "metadata": {
    "execution": {
     "iopub.execute_input": "2022-06-19T19:15:15.081346Z",
     "iopub.status.busy": "2022-06-19T19:15:15.080766Z",
     "iopub.status.idle": "2022-06-19T19:15:20.604573Z",
     "shell.execute_reply": "2022-06-19T19:15:20.603562Z"
    },
    "papermill": {
     "duration": 5.534609,
     "end_time": "2022-06-19T19:15:20.607637",
     "exception": false,
     "start_time": "2022-06-19T19:15:15.073028",
     "status": "completed"
    },
    "tags": []
   },
   "outputs": [],
   "source": [
    "df_prices = get_features(df_prices)\n",
    "\n",
    "df_prices = df_prices.replace((np.inf, -np.inf, np.nan), 0).reset_index(drop=True)\n",
    "\n",
    "df_prices = df_prices.fillna(0)"
   ]
  },
  {
   "cell_type": "code",
   "execution_count": null,
   "id": "6c3ca55b",
   "metadata": {
    "papermill": {
     "duration": 0.011986,
     "end_time": "2022-06-19T19:15:20.633331",
     "exception": false,
     "start_time": "2022-06-19T19:15:20.621345",
     "status": "completed"
    },
    "tags": []
   },
   "outputs": [],
   "source": []
  },
  {
   "cell_type": "code",
   "execution_count": null,
   "id": "b8496845",
   "metadata": {
    "papermill": {
     "duration": 0.01083,
     "end_time": "2022-06-19T19:15:20.655402",
     "exception": false,
     "start_time": "2022-06-19T19:15:20.644572",
     "status": "completed"
    },
    "tags": []
   },
   "outputs": [],
   "source": []
  },
  {
   "cell_type": "markdown",
   "id": "d7c6ce64",
   "metadata": {
    "papermill": {
     "duration": 0.010974,
     "end_time": "2022-06-19T19:15:20.677464",
     "exception": false,
     "start_time": "2022-06-19T19:15:20.666490",
     "status": "completed"
    },
    "tags": []
   },
   "source": [
    "## Training a Simple Model\n",
    "\n",
    "Xgboost"
   ]
  },
  {
   "cell_type": "code",
   "execution_count": null,
   "id": "d64a0ae7",
   "metadata": {
    "papermill": {
     "duration": 0.011068,
     "end_time": "2022-06-19T19:15:20.699647",
     "exception": false,
     "start_time": "2022-06-19T19:15:20.688579",
     "status": "completed"
    },
    "tags": []
   },
   "outputs": [],
   "source": []
  },
  {
   "cell_type": "code",
   "execution_count": 9,
   "id": "a453012f",
   "metadata": {
    "execution": {
     "iopub.execute_input": "2022-06-19T19:15:20.724081Z",
     "iopub.status.busy": "2022-06-19T19:15:20.723566Z",
     "iopub.status.idle": "2022-06-19T19:15:21.783278Z",
     "shell.execute_reply": "2022-06-19T19:15:21.782474Z"
    },
    "papermill": {
     "duration": 1.074684,
     "end_time": "2022-06-19T19:15:21.785477",
     "exception": false,
     "start_time": "2022-06-19T19:15:20.710793",
     "status": "completed"
    },
    "tags": []
   },
   "outputs": [],
   "source": [
    "import xgboost as xgb\n",
    "from sklearn.preprocessing import StandardScaler\n",
    "scaler = StandardScaler()"
   ]
  },
  {
   "cell_type": "code",
   "execution_count": 10,
   "id": "5b6cf281",
   "metadata": {
    "execution": {
     "iopub.execute_input": "2022-06-19T19:15:21.801434Z",
     "iopub.status.busy": "2022-06-19T19:15:21.801083Z",
     "iopub.status.idle": "2022-06-19T19:15:21.805607Z",
     "shell.execute_reply": "2022-06-19T19:15:21.804896Z"
    },
    "papermill": {
     "duration": 0.014002,
     "end_time": "2022-06-19T19:15:21.807242",
     "exception": false,
     "start_time": "2022-06-19T19:15:21.793240",
     "status": "completed"
    },
    "tags": []
   },
   "outputs": [],
   "source": [
    "def model_training(X,y):\n",
    "    # Model training\n",
    "    \n",
    "    model = xgb.XGBRegressor(n_estimators=5000,learning_rate=0.1 , tree_method = 'gpu_hist') \n",
    "    model.fit(X, y)\n",
    "    \n",
    "    return model\n"
   ]
  },
  {
   "cell_type": "code",
   "execution_count": 11,
   "id": "57d140e9",
   "metadata": {
    "execution": {
     "iopub.execute_input": "2022-06-19T19:15:21.824480Z",
     "iopub.status.busy": "2022-06-19T19:15:21.823104Z",
     "iopub.status.idle": "2022-06-19T19:15:21.830113Z",
     "shell.execute_reply": "2022-06-19T19:15:21.829149Z"
    },
    "papermill": {
     "duration": 0.017414,
     "end_time": "2022-06-19T19:15:21.831819",
     "exception": false,
     "start_time": "2022-06-19T19:15:21.814405",
     "status": "completed"
    },
    "tags": []
   },
   "outputs": [],
   "source": [
    "scaled_features = ['Open', 'High', 'Low', 'Close', 'Volume', 'AdjustmentFactor', 'ExpectedDividend', 'SupervisionFlag','log_return_5', 'log_return', 'upper_shadow', 'lower_shadow',\n",
    "       'EMA_21', 'EMA_55', 'EMA_315', 'EMA_825', 'EMA_7', 'EMA_7_std',\n",
    "       'EMA_7_BB_high', 'MA_7MA_BB_low', 'EMA_5', 'EMA_5_std', 'EMA_5_BB_high',\n",
    "       'MA_5MA_BB_low', 'MACD', 'rsi_5', 'rsi_7', 'rsi_21']\n",
    "features = ['Open', 'High', 'Low', 'Close', 'Volume', 'AdjustmentFactor', 'ExpectedDividend', 'SupervisionFlag','log_return_5', 'log_return', 'upper_shadow', 'lower_shadow',\n",
    "       'EMA_21', 'EMA_55', 'EMA_315', 'EMA_825', 'EMA_7', 'EMA_7_std',\n",
    "       'EMA_7_BB_high', 'MA_7MA_BB_low', 'EMA_5', 'EMA_5_std', 'EMA_5_BB_high',\n",
    "       'MA_5MA_BB_low', 'MACD', 'rsi_5', 'rsi_7', 'rsi_21']"
   ]
  },
  {
   "cell_type": "code",
   "execution_count": 12,
   "id": "ac1b0bd7",
   "metadata": {
    "execution": {
     "iopub.execute_input": "2022-06-19T19:15:21.848215Z",
     "iopub.status.busy": "2022-06-19T19:15:21.846860Z",
     "iopub.status.idle": "2022-06-19T19:15:21.883128Z",
     "shell.execute_reply": "2022-06-19T19:15:21.882301Z"
    },
    "papermill": {
     "duration": 0.046131,
     "end_time": "2022-06-19T19:15:21.885218",
     "exception": false,
     "start_time": "2022-06-19T19:15:21.839087",
     "status": "completed"
    },
    "tags": []
   },
   "outputs": [],
   "source": [
    "# Creating endog and exog variables\n",
    "y = df_prices[['Target']]\n",
    "X = df_prices[features]"
   ]
  },
  {
   "cell_type": "code",
   "execution_count": 13,
   "id": "6b32b19b",
   "metadata": {
    "execution": {
     "iopub.execute_input": "2022-06-19T19:15:21.901884Z",
     "iopub.status.busy": "2022-06-19T19:15:21.901117Z",
     "iopub.status.idle": "2022-06-19T19:15:25.084374Z",
     "shell.execute_reply": "2022-06-19T19:15:25.082070Z"
    },
    "papermill": {
     "duration": 3.194051,
     "end_time": "2022-06-19T19:15:25.086680",
     "exception": false,
     "start_time": "2022-06-19T19:15:21.892629",
     "status": "completed"
    },
    "tags": []
   },
   "outputs": [
    {
     "name": "stderr",
     "output_type": "stream",
     "text": [
      "/opt/conda/lib/python3.7/site-packages/pandas/core/frame.py:3678: SettingWithCopyWarning: \n",
      "A value is trying to be set on a copy of a slice from a DataFrame.\n",
      "Try using .loc[row_indexer,col_indexer] = value instead\n",
      "\n",
      "See the caveats in the documentation: https://pandas.pydata.org/pandas-docs/stable/user_guide/indexing.html#returning-a-view-versus-a-copy\n",
      "  self[col] = igetitem(value, i)\n"
     ]
    }
   ],
   "source": [
    "X[scaled_features] = scaler.fit_transform(X[scaled_features])\n"
   ]
  },
  {
   "cell_type": "code",
   "execution_count": null,
   "id": "4d792177",
   "metadata": {
    "papermill": {
     "duration": 0.006935,
     "end_time": "2022-06-19T19:15:25.101706",
     "exception": false,
     "start_time": "2022-06-19T19:15:25.094771",
     "status": "completed"
    },
    "tags": []
   },
   "outputs": [],
   "source": []
  },
  {
   "cell_type": "code",
   "execution_count": 14,
   "id": "6308bcd6",
   "metadata": {
    "execution": {
     "iopub.execute_input": "2022-06-19T19:15:25.117078Z",
     "iopub.status.busy": "2022-06-19T19:15:25.116770Z",
     "iopub.status.idle": "2022-06-19T19:15:52.211323Z",
     "shell.execute_reply": "2022-06-19T19:15:52.210358Z"
    },
    "papermill": {
     "duration": 27.105213,
     "end_time": "2022-06-19T19:15:52.213965",
     "exception": false,
     "start_time": "2022-06-19T19:15:25.108752",
     "status": "completed"
    },
    "tags": []
   },
   "outputs": [
    {
     "name": "stdout",
     "output_type": "stream",
     "text": [
      "CPU times: user 24.9 s, sys: 605 ms, total: 25.5 s\n",
      "Wall time: 27.1 s\n"
     ]
    }
   ],
   "source": [
    "%%time\n",
    "\n",
    "model_1 = model_training(X,y)"
   ]
  },
  {
   "cell_type": "code",
   "execution_count": 15,
   "id": "5ab54f5f",
   "metadata": {
    "execution": {
     "iopub.execute_input": "2022-06-19T19:15:52.231078Z",
     "iopub.status.busy": "2022-06-19T19:15:52.230768Z",
     "iopub.status.idle": "2022-06-19T19:16:15.804320Z",
     "shell.execute_reply": "2022-06-19T19:16:15.803497Z"
    },
    "papermill": {
     "duration": 23.584249,
     "end_time": "2022-06-19T19:16:15.806722",
     "exception": false,
     "start_time": "2022-06-19T19:15:52.222473",
     "status": "completed"
    },
    "tags": []
   },
   "outputs": [
    {
     "data": {
      "text/plain": [
       "0.6160670036698805"
      ]
     },
     "execution_count": 15,
     "metadata": {},
     "output_type": "execute_result"
    }
   ],
   "source": [
    "model_1.score(X,y)"
   ]
  },
  {
   "cell_type": "code",
   "execution_count": 16,
   "id": "39e13c2e",
   "metadata": {
    "execution": {
     "iopub.execute_input": "2022-06-19T19:16:15.832830Z",
     "iopub.status.busy": "2022-06-19T19:16:15.832371Z",
     "iopub.status.idle": "2022-06-19T19:16:15.836472Z",
     "shell.execute_reply": "2022-06-19T19:16:15.835797Z"
    },
    "papermill": {
     "duration": 0.020723,
     "end_time": "2022-06-19T19:16:15.839855",
     "exception": false,
     "start_time": "2022-06-19T19:16:15.819132",
     "status": "completed"
    },
    "tags": []
   },
   "outputs": [],
   "source": [
    "import pickle"
   ]
  },
  {
   "cell_type": "code",
   "execution_count": 17,
   "id": "ee29e913",
   "metadata": {
    "execution": {
     "iopub.execute_input": "2022-06-19T19:16:15.865157Z",
     "iopub.status.busy": "2022-06-19T19:16:15.864734Z",
     "iopub.status.idle": "2022-06-19T19:16:16.046686Z",
     "shell.execute_reply": "2022-06-19T19:16:16.045832Z"
    },
    "papermill": {
     "duration": 0.196833,
     "end_time": "2022-06-19T19:16:16.048823",
     "exception": false,
     "start_time": "2022-06-19T19:16:15.851990",
     "status": "completed"
    },
    "tags": []
   },
   "outputs": [],
   "source": [
    "# Saving model\n",
    "\n",
    "#Saving the sklearn model\n",
    "\n",
    "filename = 'simple_xgb.sav'\n",
    "pickle.dump(model_1, open(filename, 'wb'))\n",
    "\n",
    "# save in text format\n",
    "model_1.save_model(\"simple_xgb.txt\")"
   ]
  },
  {
   "cell_type": "markdown",
   "id": "590bea2f",
   "metadata": {
    "papermill": {
     "duration": 0.007033,
     "end_time": "2022-06-19T19:16:16.063852",
     "exception": false,
     "start_time": "2022-06-19T19:16:16.056819",
     "status": "completed"
    },
    "tags": []
   },
   "source": [
    "# Submission\n"
   ]
  },
  {
   "cell_type": "code",
   "execution_count": 18,
   "id": "99dbf732",
   "metadata": {
    "execution": {
     "iopub.execute_input": "2022-06-19T19:16:16.080101Z",
     "iopub.status.busy": "2022-06-19T19:16:16.079235Z",
     "iopub.status.idle": "2022-06-19T19:16:16.085885Z",
     "shell.execute_reply": "2022-06-19T19:16:16.085199Z"
    },
    "papermill": {
     "duration": 0.016569,
     "end_time": "2022-06-19T19:16:16.087604",
     "exception": false,
     "start_time": "2022-06-19T19:16:16.071035",
     "status": "completed"
    },
    "tags": []
   },
   "outputs": [],
   "source": [
    "# def calc_spread_return_per_day(df, portfolio_size, toprank_weight_ratio):\n",
    "#     \"\"\"\n",
    "#     Args:\n",
    "#         df (pd.DataFrame): predicted results\n",
    "#         portfolio_size (int): # of equities to buy/sell\n",
    "#         toprank_weight_ratio (float): the relative weight of the most highly ranked stock compared to the least.\n",
    "#     Returns:\n",
    "#         (float): spread return\n",
    "#     \"\"\"\n",
    "#     assert df['Rank'].min() == 0\n",
    "#     assert df['Rank'].max() == len(df['Rank']) - 1\n",
    "#     weights = np.linspace(start=toprank_weight_ratio, stop=1, num=portfolio_size)\n",
    "#     purchase = (df.sort_values(by='Rank')['Target'][:portfolio_size] * weights).sum() / weights.mean()\n",
    "#     short = (df.sort_values(by='Rank', ascending=False)['Target'][:portfolio_size] * weights).sum() / weights.mean()\n",
    "#     return purchase - short\n",
    "\n",
    "# def calc_spread_return_sharpe(df: pd.DataFrame, portfolio_size: int = 200, toprank_weight_ratio: float = 2) -> float:\n",
    "#     \"\"\"\n",
    "#     Args:\n",
    "#         df (pd.DataFrame): predicted results\n",
    "#         portfolio_size (int): # of equities to buy/sell\n",
    "#         toprank_weight_ratio (float): the relative weight of the most highly ranked stock compared to the least.\n",
    "#     Returns:\n",
    "#         (float): sharpe ratio\n",
    "#     \"\"\"\n",
    "#     buf = df.groupby('Date').apply(calc_spread_return_per_day, portfolio_size, toprank_weight_ratio)\n",
    "#     sharpe_ratio = buf.mean() / buf.std()\n",
    "#     return sharpe_ratio, buf\n",
    "\n",
    "def add_rank(df, col_name=\"pred\"):\n",
    "    df[\"Rank\"] = df.groupby(\"Date\")[col_name].rank(ascending=False, method=\"first\") - 1 \n",
    "    df[\"Rank\"] = df[\"Rank\"].astype(\"int\")\n",
    "    return df"
   ]
  },
  {
   "cell_type": "code",
   "execution_count": 19,
   "id": "977a47ea",
   "metadata": {
    "execution": {
     "iopub.execute_input": "2022-06-19T19:16:16.102934Z",
     "iopub.status.busy": "2022-06-19T19:16:16.102670Z",
     "iopub.status.idle": "2022-06-19T19:16:16.106927Z",
     "shell.execute_reply": "2022-06-19T19:16:16.106124Z"
    },
    "papermill": {
     "duration": 0.014208,
     "end_time": "2022-06-19T19:16:16.108914",
     "exception": false,
     "start_time": "2022-06-19T19:16:16.094706",
     "status": "completed"
    },
    "tags": []
   },
   "outputs": [],
   "source": [
    "# # By Yuike - https://www.kaggle.com/code/ikeppyo/examples-of-higher-scores-than-perfect-predictions\n",
    "\n",
    "# # This function adjusts the predictions so that the daily spread return approaches a certain value.\n",
    "# def adjuster(df):\n",
    "#     def calc_pred(df, x, y, z):\n",
    "#         return df['Target'].where(df['Target'].abs() < x, df['Target'] * y + np.sign(df['Target']) * z)\n",
    "\n",
    "#     def objective(trial, df):\n",
    "#         x = trial.suggest_uniform('x', 0, 0.2)\n",
    "#         y = trial.suggest_uniform('y', 0, 0.1)\n",
    "#         z = trial.suggest_uniform('z', 0, 1e-3)\n",
    "#         df[\"Rank\"] = calc_pred(df, x, y, z).rank(ascending=False, method=\"first\") - 1 \n",
    "#         df[\"Rank\"] = df[\"Rank\"].astype(\"int\")\n",
    "#         return calc_spread_return_per_day(df, 200, 2)\n",
    "    \n",
    "#     def predictor_per_day(df):\n",
    "#         study = optuna.create_study(direction='minimize', sampler=optuna.samplers.TPESampler(seed=2022))\n",
    "#         study.optimize(lambda trial: abs(objective(trial, df) - 10), 10)\n",
    "#         return calc_pred(df, *study.best_params.values())\n",
    "\n",
    "#     return df.groupby(\"Date\").apply(predictor_per_day).reset_index(level=0, drop=True)\n",
    "\n",
    "# def _predictor_base(feature_df):\n",
    "#     return model.predict(feature_df[feats])\n",
    "\n",
    "# def _predictor_with_adjuster(feature_df):\n",
    "#     feature_df[\"Target\"] = model.predict(feature_df[feats])\n",
    "#     return adjuster(feature_df)"
   ]
  },
  {
   "cell_type": "code",
   "execution_count": 20,
   "id": "466f9178",
   "metadata": {
    "execution": {
     "iopub.execute_input": "2022-06-19T19:16:16.124346Z",
     "iopub.status.busy": "2022-06-19T19:16:16.124076Z",
     "iopub.status.idle": "2022-06-19T19:16:16.127894Z",
     "shell.execute_reply": "2022-06-19T19:16:16.127202Z"
    },
    "papermill": {
     "duration": 0.013266,
     "end_time": "2022-06-19T19:16:16.129549",
     "exception": false,
     "start_time": "2022-06-19T19:16:16.116283",
     "status": "completed"
    },
    "tags": []
   },
   "outputs": [],
   "source": [
    "# predictor = _predictor_with_adjuster"
   ]
  },
  {
   "cell_type": "code",
   "execution_count": 21,
   "id": "1a182d0f",
   "metadata": {
    "execution": {
     "iopub.execute_input": "2022-06-19T19:16:16.144802Z",
     "iopub.status.busy": "2022-06-19T19:16:16.144548Z",
     "iopub.status.idle": "2022-06-19T19:16:16.851493Z",
     "shell.execute_reply": "2022-06-19T19:16:16.850651Z"
    },
    "papermill": {
     "duration": 0.716885,
     "end_time": "2022-06-19T19:16:16.853577",
     "exception": false,
     "start_time": "2022-06-19T19:16:16.136692",
     "status": "completed"
    },
    "tags": []
   },
   "outputs": [
    {
     "name": "stdout",
     "output_type": "stream",
     "text": [
      "This version of the API is not optimized and should not be used to estimate the runtime of your code on the hidden test set.\n"
     ]
    }
   ],
   "source": [
    "import jpx_tokyo_market_prediction\n",
    "\n",
    "\n",
    "env = jpx_tokyo_market_prediction.make_env()   # initialize the environment\n",
    "iter_test = env.iter_test()    # an iterator which loops over the test files\n",
    "for (prices, options, financials, trades, secondary_prices, sample_prediction) in iter_test:\n",
    "    prices = get_features(prices)\n",
    "    prices = prices.replace((np.inf, -np.inf, np.nan), 0).reset_index(drop=True)\n",
    "    prices = prices.fillna(0)\n",
    "    prices[scaled_features] = scaler.fit_transform(prices[scaled_features])\n",
    "    prices['pred'] = model_1.predict(prices[features])\n",
    "    prices = add_rank(prices)\n",
    "    feature_map = prices.set_index('SecuritiesCode')['Rank'].to_dict()\n",
    "    sample_prediction['Rank'] = sample_prediction['SecuritiesCode'].map(feature_map)\n",
    "    env.predict(sample_prediction)"
   ]
  },
  {
   "cell_type": "code",
   "execution_count": null,
   "id": "cd771d20",
   "metadata": {
    "papermill": {
     "duration": 0.007497,
     "end_time": "2022-06-19T19:16:16.868680",
     "exception": false,
     "start_time": "2022-06-19T19:16:16.861183",
     "status": "completed"
    },
    "tags": []
   },
   "outputs": [],
   "source": []
  }
 ],
 "metadata": {
  "kernelspec": {
   "display_name": "Python 3",
   "language": "python",
   "name": "python3"
  },
  "language_info": {
   "codemirror_mode": {
    "name": "ipython",
    "version": 3
   },
   "file_extension": ".py",
   "mimetype": "text/x-python",
   "name": "python",
   "nbconvert_exporter": "python",
   "pygments_lexer": "ipython3",
   "version": "3.7.12"
  },
  "papermill": {
   "default_parameters": {},
   "duration": 79.239418,
   "end_time": "2022-06-19T19:16:17.997649",
   "environment_variables": {},
   "exception": null,
   "input_path": "__notebook__.ipynb",
   "output_path": "__notebook__.ipynb",
   "parameters": {},
   "start_time": "2022-06-19T19:14:58.758231",
   "version": "2.3.4"
  }
 },
 "nbformat": 4,
 "nbformat_minor": 5
}
