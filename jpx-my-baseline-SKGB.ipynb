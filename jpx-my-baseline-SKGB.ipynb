{
 "cells": [
  {
   "cell_type": "code",
   "execution_count": 1,
   "id": "84f401cc",
   "metadata": {
    "_cell_guid": "b1076dfc-b9ad-4769-8c92-a6c4dae69d19",
    "_uuid": "8f2839f25d086af736a60e9eeb907d3b93b6e0e5",
    "execution": {
     "iopub.execute_input": "2022-06-19T19:26:05.859915Z",
     "iopub.status.busy": "2022-06-19T19:26:05.858933Z",
     "iopub.status.idle": "2022-06-19T19:26:05.884825Z",
     "shell.execute_reply": "2022-06-19T19:26:05.884086Z"
    },
    "papermill": {
     "duration": 0.037882,
     "end_time": "2022-06-19T19:26:05.887384",
     "exception": false,
     "start_time": "2022-06-19T19:26:05.849502",
     "status": "completed"
    },
    "tags": []
   },
   "outputs": [
    {
     "name": "stdout",
     "output_type": "stream",
     "text": [
      "/kaggle/input/jpx-tokyo-stock-exchange-prediction/stock_list.csv\n",
      "/kaggle/input/jpx-tokyo-stock-exchange-prediction/example_test_files/sample_submission.csv\n",
      "/kaggle/input/jpx-tokyo-stock-exchange-prediction/example_test_files/options.csv\n",
      "/kaggle/input/jpx-tokyo-stock-exchange-prediction/example_test_files/financials.csv\n",
      "/kaggle/input/jpx-tokyo-stock-exchange-prediction/example_test_files/secondary_stock_prices.csv\n",
      "/kaggle/input/jpx-tokyo-stock-exchange-prediction/example_test_files/trades.csv\n",
      "/kaggle/input/jpx-tokyo-stock-exchange-prediction/example_test_files/stock_prices.csv\n",
      "/kaggle/input/jpx-tokyo-stock-exchange-prediction/jpx_tokyo_market_prediction/competition.cpython-37m-x86_64-linux-gnu.so\n",
      "/kaggle/input/jpx-tokyo-stock-exchange-prediction/jpx_tokyo_market_prediction/__init__.py\n",
      "/kaggle/input/jpx-tokyo-stock-exchange-prediction/data_specifications/stock_fin_spec.csv\n",
      "/kaggle/input/jpx-tokyo-stock-exchange-prediction/data_specifications/trades_spec.csv\n",
      "/kaggle/input/jpx-tokyo-stock-exchange-prediction/data_specifications/stock_price_spec.csv\n",
      "/kaggle/input/jpx-tokyo-stock-exchange-prediction/data_specifications/options_spec.csv\n",
      "/kaggle/input/jpx-tokyo-stock-exchange-prediction/data_specifications/stock_list_spec.csv\n",
      "/kaggle/input/jpx-tokyo-stock-exchange-prediction/train_files/options.csv\n",
      "/kaggle/input/jpx-tokyo-stock-exchange-prediction/train_files/financials.csv\n",
      "/kaggle/input/jpx-tokyo-stock-exchange-prediction/train_files/secondary_stock_prices.csv\n",
      "/kaggle/input/jpx-tokyo-stock-exchange-prediction/train_files/trades.csv\n",
      "/kaggle/input/jpx-tokyo-stock-exchange-prediction/train_files/stock_prices.csv\n",
      "/kaggle/input/jpx-tokyo-stock-exchange-prediction/supplemental_files/options.csv\n",
      "/kaggle/input/jpx-tokyo-stock-exchange-prediction/supplemental_files/financials.csv\n",
      "/kaggle/input/jpx-tokyo-stock-exchange-prediction/supplemental_files/secondary_stock_prices.csv\n",
      "/kaggle/input/jpx-tokyo-stock-exchange-prediction/supplemental_files/trades.csv\n",
      "/kaggle/input/jpx-tokyo-stock-exchange-prediction/supplemental_files/stock_prices.csv\n"
     ]
    }
   ],
   "source": [
    "# This Python 3 environment comes with many helpful analytics libraries installed\n",
    "# It is defined by the kaggle/python Docker image: https://github.com/kaggle/docker-python\n",
    "# For example, here's several helpful packages to load\n",
    "\n",
    "import numpy as np # linear algebra\n",
    "import pandas as pd # data processing, CSV file I/O (e.g. pd.read_csv)\n",
    "\n",
    "# Input data files are available in the read-only \"../input/\" directory\n",
    "# For example, running this (by clicking run or pressing Shift+Enter) will list all files under the input directory\n",
    "\n",
    "import os\n",
    "for dirname, _, filenames in os.walk('/kaggle/input'):\n",
    "    for filename in filenames:\n",
    "        print(os.path.join(dirname, filename))\n",
    "\n",
    "# You can write up to 20GB to the current directory (/kaggle/working/) th\n",
    "#at gets preserved as output when you create a version using \"Save & Run All\" \n",
    "# You can also write temporary files to /kaggle/temp/, but they won't be saved outside of the current session"
   ]
  },
  {
   "cell_type": "markdown",
   "id": "cda42809",
   "metadata": {
    "papermill": {
     "duration": 0.011294,
     "end_time": "2022-06-19T19:26:05.906005",
     "exception": false,
     "start_time": "2022-06-19T19:26:05.894711",
     "status": "completed"
    },
    "tags": []
   },
   "source": [
    "# Here starts my Baseline\n",
    "\n",
    "Ideas:\n",
    "\n",
    "1  - Feature engeneering- Basic and effective;\n",
    "\n",
    "2 - Gradient Boosting Regressions;\n",
    "\n",
    "3 - Neuronets Regressions; and\n",
    "\n",
    "4 - Submission.\n",
    "\n"
   ]
  },
  {
   "cell_type": "markdown",
   "id": "a22dc0f6",
   "metadata": {
    "papermill": {
     "duration": 0.012155,
     "end_time": "2022-06-19T19:26:05.933106",
     "exception": false,
     "start_time": "2022-06-19T19:26:05.920951",
     "status": "completed"
    },
    "tags": []
   },
   "source": [
    "## 1 Feature Engeneering"
   ]
  },
  {
   "cell_type": "code",
   "execution_count": 2,
   "id": "1860dac8",
   "metadata": {
    "execution": {
     "iopub.execute_input": "2022-06-19T19:26:05.958373Z",
     "iopub.status.busy": "2022-06-19T19:26:05.957965Z",
     "iopub.status.idle": "2022-06-19T19:26:05.963262Z",
     "shell.execute_reply": "2022-06-19T19:26:05.962536Z"
    },
    "papermill": {
     "duration": 0.021085,
     "end_time": "2022-06-19T19:26:05.966746",
     "exception": false,
     "start_time": "2022-06-19T19:26:05.945661",
     "status": "completed"
    },
    "tags": []
   },
   "outputs": [],
   "source": [
    "def concat_df(df1, df2):\n",
    "    df1 = pd.concat([df1, df2],\n",
    "                    ignore_index=True, sort=False\n",
    "                    ).drop_duplicates([\"RowId\"], keep=\"first\")\n",
    "    return df1"
   ]
  },
  {
   "cell_type": "code",
   "execution_count": 3,
   "id": "34b5549a",
   "metadata": {
    "execution": {
     "iopub.execute_input": "2022-06-19T19:26:05.986281Z",
     "iopub.status.busy": "2022-06-19T19:26:05.986017Z",
     "iopub.status.idle": "2022-06-19T19:26:13.757251Z",
     "shell.execute_reply": "2022-06-19T19:26:13.756332Z"
    },
    "papermill": {
     "duration": 7.781321,
     "end_time": "2022-06-19T19:26:13.759427",
     "exception": false,
     "start_time": "2022-06-19T19:26:05.978106",
     "status": "completed"
    },
    "tags": []
   },
   "outputs": [
    {
     "name": "stdout",
     "output_type": "stream",
     "text": [
      "<class 'pandas.core.frame.DataFrame'>\n",
      "Int64Index: 273958 entries, 2288531 to 2562488\n",
      "Data columns (total 12 columns):\n",
      " #   Column            Non-Null Count   Dtype  \n",
      "---  ------            --------------   -----  \n",
      " 0   RowId             273958 non-null  object \n",
      " 1   Date              273958 non-null  object \n",
      " 2   SecuritiesCode    273958 non-null  int8   \n",
      " 3   Open              273119 non-null  float16\n",
      " 4   High              273119 non-null  float16\n",
      " 5   Low               273119 non-null  float16\n",
      " 6   Close             273119 non-null  float16\n",
      " 7   Volume            273958 non-null  int8   \n",
      " 8   AdjustmentFactor  273958 non-null  float16\n",
      " 9   ExpectedDividend  2066 non-null    float16\n",
      " 10  SupervisionFlag   273958 non-null  bool   \n",
      " 11  Target            273952 non-null  float16\n",
      "dtypes: bool(1), float16(7), int8(2), object(2)\n",
      "memory usage: 10.7+ MB\n"
     ]
    }
   ],
   "source": [
    "# For now... use pandas.... \n",
    "#If too heavy use Cudf\n",
    "\n",
    "# For now... just fix the floats\n",
    "dtypes = {\n",
    "'SecuritiesCode' : np.int8,\n",
    "'Open'           :     np.float16,\n",
    "'High'           :     np.float16,\n",
    "'Low'            :     np.float16,\n",
    "'Close'          :     np.float16,\n",
    "'Volume'         :       np.int8,\n",
    "'AdjustmentFactor':    np.float16,\n",
    "'ExpectedDividend':    np.float16,\n",
    "'Target'        :      np.float16\n",
    "}\n",
    "path = \"../input/jpx-tokyo-stock-exchange-prediction/\"\n",
    "df_prices = pd.read_csv(f\"{path}train_files/stock_prices.csv\",dtype = dtypes)\n",
    "prices = pd.read_csv(f\"{path}supplemental_files/stock_prices.csv\",dtype = dtypes)\n",
    "df_prices = concat_df(df_prices, prices)\n",
    "df_prices = df_prices[df_prices.Date>\"2021-11-01\"]\n",
    "df_prices.info(show_counts=True)"
   ]
  },
  {
   "cell_type": "code",
   "execution_count": 4,
   "id": "733bef72",
   "metadata": {
    "execution": {
     "iopub.execute_input": "2022-06-19T19:26:13.777550Z",
     "iopub.status.busy": "2022-06-19T19:26:13.776913Z",
     "iopub.status.idle": "2022-06-19T19:26:13.781081Z",
     "shell.execute_reply": "2022-06-19T19:26:13.780425Z"
    },
    "papermill": {
     "duration": 0.015455,
     "end_time": "2022-06-19T19:26:13.782917",
     "exception": false,
     "start_time": "2022-06-19T19:26:13.767462",
     "status": "completed"
    },
    "tags": []
   },
   "outputs": [],
   "source": [
    "# def prep_prices(price):\n",
    "#     price.fillna(0,inplace=True)\n",
    "#     return price"
   ]
  },
  {
   "cell_type": "code",
   "execution_count": 5,
   "id": "3bde4ab7",
   "metadata": {
    "execution": {
     "iopub.execute_input": "2022-06-19T19:26:13.798461Z",
     "iopub.status.busy": "2022-06-19T19:26:13.798166Z",
     "iopub.status.idle": "2022-06-19T19:26:13.801603Z",
     "shell.execute_reply": "2022-06-19T19:26:13.800830Z"
    },
    "papermill": {
     "duration": 0.013075,
     "end_time": "2022-06-19T19:26:13.803217",
     "exception": false,
     "start_time": "2022-06-19T19:26:13.790142",
     "status": "completed"
    },
    "tags": []
   },
   "outputs": [],
   "source": [
    "# df_prices = prep_prices(df_prices)\n",
    "# pd.options.display.float_format = '{:,.6g}'.format\n",
    "# df_prices.describe()"
   ]
  },
  {
   "cell_type": "code",
   "execution_count": null,
   "id": "eb82cba1",
   "metadata": {
    "papermill": {
     "duration": 0.00669,
     "end_time": "2022-06-19T19:26:13.817021",
     "exception": false,
     "start_time": "2022-06-19T19:26:13.810331",
     "status": "completed"
    },
    "tags": []
   },
   "outputs": [],
   "source": []
  },
  {
   "cell_type": "code",
   "execution_count": null,
   "id": "0d3639e1",
   "metadata": {
    "papermill": {
     "duration": 0.006864,
     "end_time": "2022-06-19T19:26:13.831028",
     "exception": false,
     "start_time": "2022-06-19T19:26:13.824164",
     "status": "completed"
    },
    "tags": []
   },
   "outputs": [],
   "source": []
  },
  {
   "cell_type": "code",
   "execution_count": 6,
   "id": "3c26bb74",
   "metadata": {
    "execution": {
     "iopub.execute_input": "2022-06-19T19:26:13.846946Z",
     "iopub.status.busy": "2022-06-19T19:26:13.846683Z",
     "iopub.status.idle": "2022-06-19T19:26:13.850632Z",
     "shell.execute_reply": "2022-06-19T19:26:13.849894Z"
    },
    "papermill": {
     "duration": 0.014397,
     "end_time": "2022-06-19T19:26:13.852309",
     "exception": false,
     "start_time": "2022-06-19T19:26:13.837912",
     "status": "completed"
    },
    "tags": []
   },
   "outputs": [],
   "source": [
    "from datetime import datetime\n",
    "import time\n",
    "\n",
    " # auxiliary function, from datetime to timestamp\n",
    "totimestamp = lambda s: np.int32(time.mktime(datetime.strptime(s, \"%Y-%m-%d\").timetuple()))"
   ]
  },
  {
   "cell_type": "markdown",
   "id": "64522718",
   "metadata": {
    "papermill": {
     "duration": 0.006617,
     "end_time": "2022-06-19T19:26:13.865909",
     "exception": false,
     "start_time": "2022-06-19T19:26:13.859292",
     "status": "completed"
    },
    "tags": []
   },
   "source": [
    "# Data Features\n"
   ]
  },
  {
   "cell_type": "code",
   "execution_count": 7,
   "id": "36c89897",
   "metadata": {
    "execution": {
     "iopub.execute_input": "2022-06-19T19:26:13.881051Z",
     "iopub.status.busy": "2022-06-19T19:26:13.880811Z",
     "iopub.status.idle": "2022-06-19T19:26:13.899340Z",
     "shell.execute_reply": "2022-06-19T19:26:13.898553Z"
    },
    "papermill": {
     "duration": 0.02787,
     "end_time": "2022-06-19T19:26:13.900911",
     "exception": false,
     "start_time": "2022-06-19T19:26:13.873041",
     "status": "completed"
    },
    "tags": []
   },
   "outputs": [],
   "source": [
    "\n",
    "# define function to compute log returns\n",
    "def log_return(series, periods=1):\n",
    "    return np.log(series).diff(periods=periods)\n",
    "\n",
    "\n",
    "# def fill_the_gaps(df):\n",
    "#     new_df = pd.DataFrame(columns= df.columns)\n",
    "#     for i in range(len(df['SecuritiesCode'].unique())):\n",
    "#         new_df = new_df.append(df[df['SecuritiesCode'] == i].reindex(range(df[df['SecuritiesCode'] == i].index[0],df[df['SecuritiesCode'] == i].index[-1]+60,60),method='pad'))\n",
    "#     new_df.fillna(method = 'pad', inplace = True) \n",
    "#     return new_df\n",
    "\n",
    "\n",
    "def rsiFunc(prices, n=14):\n",
    "    deltas = np.diff(prices)\n",
    "    seed = deltas[:n+1]\n",
    "    up = seed[seed>=0].sum()/n\n",
    "    down = -seed[seed<0].sum()/n\n",
    "    rs = up/down\n",
    "    rsi = np.zeros_like(prices)\n",
    "    rsi[:n] = 100. - 100./(1.+rs)\n",
    "\n",
    "    for i in range(n, len(prices)):\n",
    "        delta = deltas[i-1] # cause the diff is 1 shorter\n",
    "\n",
    "        if delta>0:\n",
    "            upval = delta\n",
    "            downval = 0.\n",
    "        else:\n",
    "            upval = 0.\n",
    "            downval = -delta\n",
    "\n",
    "        up = (up*(n-1) + upval)/n\n",
    "        down = (down*(n-1) + downval)/n\n",
    "\n",
    "        rs = up/down\n",
    "        rsi[i] = 100. - 100./(1.+rs)\n",
    "\n",
    "    return rsi\n",
    "\n",
    "\n",
    "\n",
    "def get_features(df):\n",
    "\n",
    "    df['log_return_5'] = log_return(df['Close'],periods=5)\n",
    "    df['log_return'] = log_return(df['Close'],periods=1)\n",
    "\n",
    "    upper_shadow = lambda asset: asset.High - np.maximum(asset.Close,asset.Open)\n",
    "    lower_shadow = lambda asset: np.minimum(asset.Close,asset.Open)- asset.Low\n",
    "\n",
    "    df['upper_shadow'] = upper_shadow(df)\n",
    "    df['lower_shadow'] = lower_shadow(df)\n",
    "    \n",
    "    df['EMA_21'] = df['Close'].ewm(span=21).mean()\n",
    "    \n",
    "    df['EMA_55'] = df['Close'].ewm(span=55).mean()\n",
    "    \n",
    "    df['EMA_315'] = df['Close'].ewm(span=315).mean()\n",
    "    \n",
    "    df['EMA_825'] = df['Close'].ewm(span=825).mean()\n",
    "    \n",
    "    window = 7\n",
    "    \n",
    "    no_of_std = 2\n",
    "    \n",
    "    df[f'EMA_{window}'] = df['Close'].ewm(span=window).mean()\n",
    "    \n",
    "    df[f'EMA_{window}_std'] = df['Close'].rolling(window=window).std()\n",
    "    \n",
    "    df[f'EMA_{window}_BB_high'] = df[f'EMA_{window}'] + no_of_std * df[f'EMA_{window}_std']\n",
    "    \n",
    "    df[f'MA_{window}MA_BB_low'] = df[f'EMA_{window}'] - no_of_std * df[f'EMA_{window}_std']\n",
    "    \n",
    "    window = 5\n",
    "    \n",
    "    df[f'EMA_{window}'] = df['Close'].ewm(span=window).mean()\n",
    "    \n",
    "    df[f'EMA_{window}_std'] = df['Close'].rolling(window=window).std()\n",
    "    \n",
    "    df[f'EMA_{window}_BB_high'] = df[f'EMA_{window}'] + no_of_std * df[f'EMA_{window}_std']\n",
    "    \n",
    "    df[f'MA_{window}MA_BB_low'] = df[f'EMA_{window}'] - no_of_std * df[f'EMA_{window}_std']\n",
    "    \n",
    "    df['MACD'] = df['EMA_7'] - df['EMA_5']\n",
    "    \n",
    "    \n",
    "    df['rsi_5'] = rsiFunc(df['Close'].values, 5)\n",
    "    \n",
    "    df['rsi_7'] = rsiFunc(df['Close'].values, 7)\n",
    "    \n",
    "    df['rsi_21'] = rsiFunc(df['Close'].values, 21)\n",
    "\n",
    "    \n",
    "    \n",
    "    #df = pd.concat([df, pd.get_dummies(df['Asset_ID'], prefix= 'Asset_')], axis=1)\n",
    "    \n",
    "    df[['log_return_5', 'log_return', 'upper_shadow', 'lower_shadow',\n",
    "       'EMA_21', 'EMA_55', 'EMA_315', 'EMA_825', 'EMA_7', 'EMA_7_std',\n",
    "       'EMA_7_BB_high', 'MA_7MA_BB_low', 'EMA_5', 'EMA_5_std', 'EMA_5_BB_high',\n",
    "       'MA_5MA_BB_low', 'MACD', 'rsi_5', 'rsi_7', 'rsi_21']].astype('float16')\n",
    "    \n",
    "    return df\n",
    "\n"
   ]
  },
  {
   "cell_type": "code",
   "execution_count": 8,
   "id": "e54b85a2",
   "metadata": {
    "execution": {
     "iopub.execute_input": "2022-06-19T19:26:13.916313Z",
     "iopub.status.busy": "2022-06-19T19:26:13.916050Z",
     "iopub.status.idle": "2022-06-19T19:26:19.633959Z",
     "shell.execute_reply": "2022-06-19T19:26:19.633160Z"
    },
    "papermill": {
     "duration": 5.727967,
     "end_time": "2022-06-19T19:26:19.636337",
     "exception": false,
     "start_time": "2022-06-19T19:26:13.908370",
     "status": "completed"
    },
    "tags": []
   },
   "outputs": [],
   "source": [
    "df_prices = get_features(df_prices)\n",
    "\n",
    "df_prices = df_prices.replace((np.inf, -np.inf, np.nan), 0).reset_index(drop=True)\n",
    "\n",
    "df_prices = df_prices.fillna(0)"
   ]
  },
  {
   "cell_type": "code",
   "execution_count": null,
   "id": "31ef2551",
   "metadata": {
    "papermill": {
     "duration": 0.006991,
     "end_time": "2022-06-19T19:26:19.650653",
     "exception": false,
     "start_time": "2022-06-19T19:26:19.643662",
     "status": "completed"
    },
    "tags": []
   },
   "outputs": [],
   "source": []
  },
  {
   "cell_type": "code",
   "execution_count": null,
   "id": "4a47f4c2",
   "metadata": {
    "papermill": {
     "duration": 0.006908,
     "end_time": "2022-06-19T19:26:19.664680",
     "exception": false,
     "start_time": "2022-06-19T19:26:19.657772",
     "status": "completed"
    },
    "tags": []
   },
   "outputs": [],
   "source": []
  },
  {
   "cell_type": "markdown",
   "id": "bfb20ffc",
   "metadata": {
    "papermill": {
     "duration": 0.006832,
     "end_time": "2022-06-19T19:26:19.678543",
     "exception": false,
     "start_time": "2022-06-19T19:26:19.671711",
     "status": "completed"
    },
    "tags": []
   },
   "source": [
    "## Training a Simple Model\n",
    "\n",
    "Xgboost"
   ]
  },
  {
   "cell_type": "code",
   "execution_count": null,
   "id": "c62147b1",
   "metadata": {
    "papermill": {
     "duration": 0.007199,
     "end_time": "2022-06-19T19:26:19.692979",
     "exception": false,
     "start_time": "2022-06-19T19:26:19.685780",
     "status": "completed"
    },
    "tags": []
   },
   "outputs": [],
   "source": []
  },
  {
   "cell_type": "code",
   "execution_count": 9,
   "id": "5417fab5",
   "metadata": {
    "execution": {
     "iopub.execute_input": "2022-06-19T19:26:19.708045Z",
     "iopub.status.busy": "2022-06-19T19:26:19.707741Z",
     "iopub.status.idle": "2022-06-19T19:26:20.691624Z",
     "shell.execute_reply": "2022-06-19T19:26:20.690861Z"
    },
    "papermill": {
     "duration": 0.993626,
     "end_time": "2022-06-19T19:26:20.693676",
     "exception": false,
     "start_time": "2022-06-19T19:26:19.700050",
     "status": "completed"
    },
    "tags": []
   },
   "outputs": [],
   "source": [
    "import xgboost as xgb\n",
    "from sklearn.preprocessing import StandardScaler\n",
    "scaler = StandardScaler()"
   ]
  },
  {
   "cell_type": "code",
   "execution_count": 10,
   "id": "f276b694",
   "metadata": {
    "execution": {
     "iopub.execute_input": "2022-06-19T19:26:20.710106Z",
     "iopub.status.busy": "2022-06-19T19:26:20.709799Z",
     "iopub.status.idle": "2022-06-19T19:26:20.714259Z",
     "shell.execute_reply": "2022-06-19T19:26:20.713455Z"
    },
    "papermill": {
     "duration": 0.014615,
     "end_time": "2022-06-19T19:26:20.715885",
     "exception": false,
     "start_time": "2022-06-19T19:26:20.701270",
     "status": "completed"
    },
    "tags": []
   },
   "outputs": [],
   "source": [
    "def model_training(X,y):\n",
    "    # Model training\n",
    "    \n",
    "    model = xgb.XGBRegressor(n_estimators=5000,learning_rate=0.1 , tree_method = 'gpu_hist') \n",
    "    model.fit(X, y)\n",
    "    \n",
    "    return model\n"
   ]
  },
  {
   "cell_type": "code",
   "execution_count": 11,
   "id": "4c0ad04e",
   "metadata": {
    "execution": {
     "iopub.execute_input": "2022-06-19T19:26:20.730818Z",
     "iopub.status.busy": "2022-06-19T19:26:20.730576Z",
     "iopub.status.idle": "2022-06-19T19:26:20.735843Z",
     "shell.execute_reply": "2022-06-19T19:26:20.735118Z"
    },
    "papermill": {
     "duration": 0.014578,
     "end_time": "2022-06-19T19:26:20.737434",
     "exception": false,
     "start_time": "2022-06-19T19:26:20.722856",
     "status": "completed"
    },
    "tags": []
   },
   "outputs": [],
   "source": [
    "scaled_features = ['Open', 'High', 'Low', 'Close', 'Volume','log_return_5', 'log_return', 'upper_shadow', 'lower_shadow',\n",
    "       'EMA_21', 'EMA_55', 'EMA_315', 'EMA_825', 'EMA_7', 'EMA_7_std',\n",
    "       'EMA_7_BB_high', 'MA_7MA_BB_low', 'EMA_5', 'EMA_5_std', 'EMA_5_BB_high',\n",
    "       'MA_5MA_BB_low', 'MACD', 'rsi_5', 'rsi_7', 'rsi_21']\n",
    "features = ['Open', 'High', 'Low', 'Close', 'Volume', 'log_return_5', 'log_return', 'upper_shadow', 'lower_shadow',\n",
    "       'EMA_21', 'EMA_55', 'EMA_315', 'EMA_825', 'EMA_7', 'EMA_7_std',\n",
    "       'EMA_7_BB_high', 'MA_7MA_BB_low', 'EMA_5', 'EMA_5_std', 'EMA_5_BB_high',\n",
    "       'MA_5MA_BB_low', 'MACD', 'rsi_5', 'rsi_7', 'rsi_21']"
   ]
  },
  {
   "cell_type": "code",
   "execution_count": 12,
   "id": "5f99efaf",
   "metadata": {
    "execution": {
     "iopub.execute_input": "2022-06-19T19:26:20.752490Z",
     "iopub.status.busy": "2022-06-19T19:26:20.752224Z",
     "iopub.status.idle": "2022-06-19T19:26:20.784378Z",
     "shell.execute_reply": "2022-06-19T19:26:20.783553Z"
    },
    "papermill": {
     "duration": 0.041898,
     "end_time": "2022-06-19T19:26:20.786401",
     "exception": false,
     "start_time": "2022-06-19T19:26:20.744503",
     "status": "completed"
    },
    "tags": []
   },
   "outputs": [],
   "source": [
    "# Creating endog and exog variables\n",
    "y = df_prices[['Target']]\n",
    "X = df_prices[features]"
   ]
  },
  {
   "cell_type": "code",
   "execution_count": 13,
   "id": "78ae5469",
   "metadata": {
    "execution": {
     "iopub.execute_input": "2022-06-19T19:26:20.802302Z",
     "iopub.status.busy": "2022-06-19T19:26:20.802003Z",
     "iopub.status.idle": "2022-06-19T19:26:20.962967Z",
     "shell.execute_reply": "2022-06-19T19:26:20.962160Z"
    },
    "papermill": {
     "duration": 0.171992,
     "end_time": "2022-06-19T19:26:20.965753",
     "exception": false,
     "start_time": "2022-06-19T19:26:20.793761",
     "status": "completed"
    },
    "tags": []
   },
   "outputs": [
    {
     "name": "stderr",
     "output_type": "stream",
     "text": [
      "/opt/conda/lib/python3.7/site-packages/pandas/core/frame.py:3678: SettingWithCopyWarning: \n",
      "A value is trying to be set on a copy of a slice from a DataFrame.\n",
      "Try using .loc[row_indexer,col_indexer] = value instead\n",
      "\n",
      "See the caveats in the documentation: https://pandas.pydata.org/pandas-docs/stable/user_guide/indexing.html#returning-a-view-versus-a-copy\n",
      "  self[col] = igetitem(value, i)\n"
     ]
    }
   ],
   "source": [
    "X[scaled_features] = scaler.fit_transform(X[scaled_features])\n"
   ]
  },
  {
   "cell_type": "code",
   "execution_count": null,
   "id": "784bff41",
   "metadata": {
    "papermill": {
     "duration": 0.00753,
     "end_time": "2022-06-19T19:26:20.981858",
     "exception": false,
     "start_time": "2022-06-19T19:26:20.974328",
     "status": "completed"
    },
    "tags": []
   },
   "outputs": [],
   "source": []
  },
  {
   "cell_type": "code",
   "execution_count": 14,
   "id": "869cc20b",
   "metadata": {
    "execution": {
     "iopub.execute_input": "2022-06-19T19:26:20.997101Z",
     "iopub.status.busy": "2022-06-19T19:26:20.996803Z",
     "iopub.status.idle": "2022-06-19T19:26:47.901774Z",
     "shell.execute_reply": "2022-06-19T19:26:47.900854Z"
    },
    "papermill": {
     "duration": 26.915695,
     "end_time": "2022-06-19T19:26:47.904582",
     "exception": false,
     "start_time": "2022-06-19T19:26:20.988887",
     "status": "completed"
    },
    "tags": []
   },
   "outputs": [
    {
     "name": "stdout",
     "output_type": "stream",
     "text": [
      "CPU times: user 24.6 s, sys: 667 ms, total: 25.3 s\n",
      "Wall time: 26.9 s\n"
     ]
    }
   ],
   "source": [
    "%%time\n",
    "\n",
    "model_1 = model_training(X,y)"
   ]
  },
  {
   "cell_type": "code",
   "execution_count": 15,
   "id": "33ac29bc",
   "metadata": {
    "execution": {
     "iopub.execute_input": "2022-06-19T19:26:47.922120Z",
     "iopub.status.busy": "2022-06-19T19:26:47.921277Z",
     "iopub.status.idle": "2022-06-19T19:27:11.853701Z",
     "shell.execute_reply": "2022-06-19T19:27:11.852944Z"
    },
    "papermill": {
     "duration": 23.942602,
     "end_time": "2022-06-19T19:27:11.855704",
     "exception": false,
     "start_time": "2022-06-19T19:26:47.913102",
     "status": "completed"
    },
    "tags": []
   },
   "outputs": [
    {
     "data": {
      "text/plain": [
       "0.6166194256091879"
      ]
     },
     "execution_count": 15,
     "metadata": {},
     "output_type": "execute_result"
    }
   ],
   "source": [
    "model_1.score(X,y)"
   ]
  },
  {
   "cell_type": "code",
   "execution_count": 16,
   "id": "1caa68f2",
   "metadata": {
    "execution": {
     "iopub.execute_input": "2022-06-19T19:27:11.872217Z",
     "iopub.status.busy": "2022-06-19T19:27:11.871819Z",
     "iopub.status.idle": "2022-06-19T19:27:11.875724Z",
     "shell.execute_reply": "2022-06-19T19:27:11.874958Z"
    },
    "papermill": {
     "duration": 0.013763,
     "end_time": "2022-06-19T19:27:11.877352",
     "exception": false,
     "start_time": "2022-06-19T19:27:11.863589",
     "status": "completed"
    },
    "tags": []
   },
   "outputs": [],
   "source": [
    "import pickle"
   ]
  },
  {
   "cell_type": "code",
   "execution_count": 17,
   "id": "807c4771",
   "metadata": {
    "execution": {
     "iopub.execute_input": "2022-06-19T19:27:11.892975Z",
     "iopub.status.busy": "2022-06-19T19:27:11.892520Z",
     "iopub.status.idle": "2022-06-19T19:27:12.067342Z",
     "shell.execute_reply": "2022-06-19T19:27:12.066506Z"
    },
    "papermill": {
     "duration": 0.184801,
     "end_time": "2022-06-19T19:27:12.069382",
     "exception": false,
     "start_time": "2022-06-19T19:27:11.884581",
     "status": "completed"
    },
    "tags": []
   },
   "outputs": [],
   "source": [
    "# Saving model\n",
    "\n",
    "#Saving the sklearn model\n",
    "\n",
    "filename = 'simple_xgb.sav'\n",
    "pickle.dump(model_1, open(filename, 'wb'))\n",
    "\n",
    "# save in text format\n",
    "model_1.save_model(\"simple_xgb.txt\")"
   ]
  },
  {
   "cell_type": "markdown",
   "id": "e17a69fd",
   "metadata": {
    "papermill": {
     "duration": 0.00711,
     "end_time": "2022-06-19T19:27:12.084415",
     "exception": false,
     "start_time": "2022-06-19T19:27:12.077305",
     "status": "completed"
    },
    "tags": []
   },
   "source": [
    "# Submission\n"
   ]
  },
  {
   "cell_type": "code",
   "execution_count": 18,
   "id": "c872395c",
   "metadata": {
    "execution": {
     "iopub.execute_input": "2022-06-19T19:27:12.100061Z",
     "iopub.status.busy": "2022-06-19T19:27:12.099782Z",
     "iopub.status.idle": "2022-06-19T19:27:12.105510Z",
     "shell.execute_reply": "2022-06-19T19:27:12.104647Z"
    },
    "papermill": {
     "duration": 0.015628,
     "end_time": "2022-06-19T19:27:12.107181",
     "exception": false,
     "start_time": "2022-06-19T19:27:12.091553",
     "status": "completed"
    },
    "tags": []
   },
   "outputs": [],
   "source": [
    "# def calc_spread_return_per_day(df, portfolio_size, toprank_weight_ratio):\n",
    "#     \"\"\"\n",
    "#     Args:\n",
    "#         df (pd.DataFrame): predicted results\n",
    "#         portfolio_size (int): # of equities to buy/sell\n",
    "#         toprank_weight_ratio (float): the relative weight of the most highly ranked stock compared to the least.\n",
    "#     Returns:\n",
    "#         (float): spread return\n",
    "#     \"\"\"\n",
    "#     assert df['Rank'].min() == 0\n",
    "#     assert df['Rank'].max() == len(df['Rank']) - 1\n",
    "#     weights = np.linspace(start=toprank_weight_ratio, stop=1, num=portfolio_size)\n",
    "#     purchase = (df.sort_values(by='Rank')['Target'][:portfolio_size] * weights).sum() / weights.mean()\n",
    "#     short = (df.sort_values(by='Rank', ascending=False)['Target'][:portfolio_size] * weights).sum() / weights.mean()\n",
    "#     return purchase - short\n",
    "\n",
    "# def calc_spread_return_sharpe(df: pd.DataFrame, portfolio_size: int = 200, toprank_weight_ratio: float = 2) -> float:\n",
    "#     \"\"\"\n",
    "#     Args:\n",
    "#         df (pd.DataFrame): predicted results\n",
    "#         portfolio_size (int): # of equities to buy/sell\n",
    "#         toprank_weight_ratio (float): the relative weight of the most highly ranked stock compared to the least.\n",
    "#     Returns:\n",
    "#         (float): sharpe ratio\n",
    "#     \"\"\"\n",
    "#     buf = df.groupby('Date').apply(calc_spread_return_per_day, portfolio_size, toprank_weight_ratio)\n",
    "#     sharpe_ratio = buf.mean() / buf.std()\n",
    "#     return sharpe_ratio, buf\n",
    "\n",
    "def add_rank(df, col_name=\"pred\"):\n",
    "    df[\"Rank\"] = df.groupby(\"Date\")[col_name].rank(ascending=False, method=\"first\") - 1 \n",
    "    df[\"Rank\"] = df[\"Rank\"].astype(\"int\")\n",
    "    return df"
   ]
  },
  {
   "cell_type": "code",
   "execution_count": 19,
   "id": "65b4f7dd",
   "metadata": {
    "execution": {
     "iopub.execute_input": "2022-06-19T19:27:12.123146Z",
     "iopub.status.busy": "2022-06-19T19:27:12.122519Z",
     "iopub.status.idle": "2022-06-19T19:27:12.127913Z",
     "shell.execute_reply": "2022-06-19T19:27:12.127260Z"
    },
    "papermill": {
     "duration": 0.015314,
     "end_time": "2022-06-19T19:27:12.129672",
     "exception": false,
     "start_time": "2022-06-19T19:27:12.114358",
     "status": "completed"
    },
    "tags": []
   },
   "outputs": [],
   "source": [
    "# # By Yuike - https://www.kaggle.com/code/ikeppyo/examples-of-higher-scores-than-perfect-predictions\n",
    "\n",
    "# # This function adjusts the predictions so that the daily spread return approaches a certain value.\n",
    "# def adjuster(df):\n",
    "#     def calc_pred(df, x, y, z):\n",
    "#         return df['Target'].where(df['Target'].abs() < x, df['Target'] * y + np.sign(df['Target']) * z)\n",
    "\n",
    "#     def objective(trial, df):\n",
    "#         x = trial.suggest_uniform('x', 0, 0.2)\n",
    "#         y = trial.suggest_uniform('y', 0, 0.1)\n",
    "#         z = trial.suggest_uniform('z', 0, 1e-3)\n",
    "#         df[\"Rank\"] = calc_pred(df, x, y, z).rank(ascending=False, method=\"first\") - 1 \n",
    "#         df[\"Rank\"] = df[\"Rank\"].astype(\"int\")\n",
    "#         return calc_spread_return_per_day(df, 200, 2)\n",
    "    \n",
    "#     def predictor_per_day(df):\n",
    "#         study = optuna.create_study(direction='minimize', sampler=optuna.samplers.TPESampler(seed=2022))\n",
    "#         study.optimize(lambda trial: abs(objective(trial, df) - 10), 10)\n",
    "#         return calc_pred(df, *study.best_params.values())\n",
    "\n",
    "#     return df.groupby(\"Date\").apply(predictor_per_day).reset_index(level=0, drop=True)\n",
    "\n",
    "# def _predictor_base(feature_df):\n",
    "#     return model.predict(feature_df[feats])\n",
    "\n",
    "# def _predictor_with_adjuster(feature_df):\n",
    "#     feature_df[\"Target\"] = model.predict(feature_df[feats])\n",
    "#     return adjuster(feature_df)"
   ]
  },
  {
   "cell_type": "code",
   "execution_count": 20,
   "id": "d04c12e6",
   "metadata": {
    "execution": {
     "iopub.execute_input": "2022-06-19T19:27:12.145322Z",
     "iopub.status.busy": "2022-06-19T19:27:12.145060Z",
     "iopub.status.idle": "2022-06-19T19:27:12.148313Z",
     "shell.execute_reply": "2022-06-19T19:27:12.147575Z"
    },
    "papermill": {
     "duration": 0.012815,
     "end_time": "2022-06-19T19:27:12.149985",
     "exception": false,
     "start_time": "2022-06-19T19:27:12.137170",
     "status": "completed"
    },
    "tags": []
   },
   "outputs": [],
   "source": [
    "# predictor = _predictor_with_adjuster"
   ]
  },
  {
   "cell_type": "code",
   "execution_count": 21,
   "id": "868859c9",
   "metadata": {
    "execution": {
     "iopub.execute_input": "2022-06-19T19:27:12.166105Z",
     "iopub.status.busy": "2022-06-19T19:27:12.165485Z",
     "iopub.status.idle": "2022-06-19T19:27:12.845395Z",
     "shell.execute_reply": "2022-06-19T19:27:12.844259Z"
    },
    "papermill": {
     "duration": 0.690082,
     "end_time": "2022-06-19T19:27:12.847483",
     "exception": false,
     "start_time": "2022-06-19T19:27:12.157401",
     "status": "completed"
    },
    "tags": []
   },
   "outputs": [
    {
     "name": "stdout",
     "output_type": "stream",
     "text": [
      "This version of the API is not optimized and should not be used to estimate the runtime of your code on the hidden test set.\n"
     ]
    }
   ],
   "source": [
    "import jpx_tokyo_market_prediction\n",
    "\n",
    "\n",
    "env = jpx_tokyo_market_prediction.make_env()   # initialize the environment\n",
    "iter_test = env.iter_test()    # an iterator which loops over the test files\n",
    "for (prices, options, financials, trades, secondary_prices, sample_prediction) in iter_test:\n",
    "    prices = get_features(prices)\n",
    "    prices = prices.replace((np.inf, -np.inf, np.nan), 0).reset_index(drop=True)\n",
    "    prices = prices.fillna(0)\n",
    "    prices[scaled_features] = scaler.fit_transform(prices[scaled_features])\n",
    "    prices['pred'] = model_1.predict(prices[features])\n",
    "    prices = add_rank(prices)\n",
    "    feature_map = prices.set_index('SecuritiesCode')['Rank'].to_dict()\n",
    "    sample_prediction['Rank'] = sample_prediction['SecuritiesCode'].map(feature_map)\n",
    "    env.predict(sample_prediction)"
   ]
  },
  {
   "cell_type": "code",
   "execution_count": null,
   "id": "efd89bc3",
   "metadata": {
    "papermill": {
     "duration": 0.007288,
     "end_time": "2022-06-19T19:27:12.862743",
     "exception": false,
     "start_time": "2022-06-19T19:27:12.855455",
     "status": "completed"
    },
    "tags": []
   },
   "outputs": [],
   "source": []
  }
 ],
 "metadata": {
  "kernelspec": {
   "display_name": "Python 3",
   "language": "python",
   "name": "python3"
  },
  "language_info": {
   "codemirror_mode": {
    "name": "ipython",
    "version": 3
   },
   "file_extension": ".py",
   "mimetype": "text/x-python",
   "name": "python",
   "nbconvert_exporter": "python",
   "pygments_lexer": "ipython3",
   "version": "3.7.12"
  },
  "papermill": {
   "default_parameters": {},
   "duration": 76.257428,
   "end_time": "2022-06-19T19:27:14.093218",
   "environment_variables": {},
   "exception": null,
   "input_path": "__notebook__.ipynb",
   "output_path": "__notebook__.ipynb",
   "parameters": {},
   "start_time": "2022-06-19T19:25:57.835790",
   "version": "2.3.4"
  }
 },
 "nbformat": 4,
 "nbformat_minor": 5
}
