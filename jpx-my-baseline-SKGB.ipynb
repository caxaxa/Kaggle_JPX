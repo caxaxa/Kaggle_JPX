{
 "cells": [
  {
   "cell_type": "code",
   "execution_count": 1,
   "id": "f3b8c1bc",
   "metadata": {
    "_cell_guid": "b1076dfc-b9ad-4769-8c92-a6c4dae69d19",
    "_uuid": "8f2839f25d086af736a60e9eeb907d3b93b6e0e5",
    "execution": {
     "iopub.execute_input": "2022-06-23T16:21:38.854063Z",
     "iopub.status.busy": "2022-06-23T16:21:38.853653Z",
     "iopub.status.idle": "2022-06-23T16:21:38.881546Z",
     "shell.execute_reply": "2022-06-23T16:21:38.880868Z"
    },
    "papermill": {
     "duration": 0.03972,
     "end_time": "2022-06-23T16:21:38.884717",
     "exception": false,
     "start_time": "2022-06-23T16:21:38.844997",
     "status": "completed"
    },
    "tags": []
   },
   "outputs": [
    {
     "name": "stdout",
     "output_type": "stream",
     "text": [
      "/kaggle/input/jpx-tokyo-stock-exchange-prediction/stock_list.csv\n",
      "/kaggle/input/jpx-tokyo-stock-exchange-prediction/example_test_files/sample_submission.csv\n",
      "/kaggle/input/jpx-tokyo-stock-exchange-prediction/example_test_files/options.csv\n",
      "/kaggle/input/jpx-tokyo-stock-exchange-prediction/example_test_files/financials.csv\n",
      "/kaggle/input/jpx-tokyo-stock-exchange-prediction/example_test_files/secondary_stock_prices.csv\n",
      "/kaggle/input/jpx-tokyo-stock-exchange-prediction/example_test_files/trades.csv\n",
      "/kaggle/input/jpx-tokyo-stock-exchange-prediction/example_test_files/stock_prices.csv\n",
      "/kaggle/input/jpx-tokyo-stock-exchange-prediction/jpx_tokyo_market_prediction/competition.cpython-37m-x86_64-linux-gnu.so\n",
      "/kaggle/input/jpx-tokyo-stock-exchange-prediction/jpx_tokyo_market_prediction/__init__.py\n",
      "/kaggle/input/jpx-tokyo-stock-exchange-prediction/data_specifications/stock_fin_spec.csv\n",
      "/kaggle/input/jpx-tokyo-stock-exchange-prediction/data_specifications/trades_spec.csv\n",
      "/kaggle/input/jpx-tokyo-stock-exchange-prediction/data_specifications/stock_price_spec.csv\n",
      "/kaggle/input/jpx-tokyo-stock-exchange-prediction/data_specifications/options_spec.csv\n",
      "/kaggle/input/jpx-tokyo-stock-exchange-prediction/data_specifications/stock_list_spec.csv\n",
      "/kaggle/input/jpx-tokyo-stock-exchange-prediction/train_files/options.csv\n",
      "/kaggle/input/jpx-tokyo-stock-exchange-prediction/train_files/financials.csv\n",
      "/kaggle/input/jpx-tokyo-stock-exchange-prediction/train_files/secondary_stock_prices.csv\n",
      "/kaggle/input/jpx-tokyo-stock-exchange-prediction/train_files/trades.csv\n",
      "/kaggle/input/jpx-tokyo-stock-exchange-prediction/train_files/stock_prices.csv\n",
      "/kaggle/input/jpx-tokyo-stock-exchange-prediction/supplemental_files/options.csv\n",
      "/kaggle/input/jpx-tokyo-stock-exchange-prediction/supplemental_files/financials.csv\n",
      "/kaggle/input/jpx-tokyo-stock-exchange-prediction/supplemental_files/secondary_stock_prices.csv\n",
      "/kaggle/input/jpx-tokyo-stock-exchange-prediction/supplemental_files/trades.csv\n",
      "/kaggle/input/jpx-tokyo-stock-exchange-prediction/supplemental_files/stock_prices.csv\n"
     ]
    }
   ],
   "source": [
    "# This Python 3 environment comes with many helpful analytics libraries installed\n",
    "# It is defined by the kaggle/python Docker image: https://github.com/kaggle/docker-python\n",
    "# For example, here's several helpful packages to load\n",
    "\n",
    "import numpy as np # linear algebra\n",
    "import pandas as pd # data processing, CSV file I/O (e.g. pd.read_csv)\n",
    "\n",
    "# Input data files are available in the read-only \"../input/\" directory\n",
    "# For example, running this (by clicking run or pressing Shift+Enter) will list all files under the input directory\n",
    "\n",
    "import os\n",
    "for dirname, _, filenames in os.walk('/kaggle/input'):\n",
    "    for filename in filenames:\n",
    "        print(os.path.join(dirname, filename))\n",
    "\n",
    "# You can write up to 20GB to the current directory (/kaggle/working/) th\n",
    "#at gets preserved as output when you create a version using \"Save & Run All\" \n",
    "# You can also write temporary files to /kaggle/temp/, but they won't be saved outside of the current session"
   ]
  },
  {
   "cell_type": "markdown",
   "id": "0f4922a4",
   "metadata": {
    "papermill": {
     "duration": 0.006671,
     "end_time": "2022-06-23T16:21:38.898802",
     "exception": false,
     "start_time": "2022-06-23T16:21:38.892131",
     "status": "completed"
    },
    "tags": []
   },
   "source": [
    "# Here starts my Baseline\n",
    "\n",
    "Ideas:\n",
    "\n",
    "1  - Feature engeneering- Basic and effective;\n",
    "\n",
    "2 - Gradient Boosting Regressions;\n",
    "\n",
    "3 - Neuronets Regressions; and\n",
    "\n",
    "4 - Submission.\n",
    "\n"
   ]
  },
  {
   "cell_type": "markdown",
   "id": "f451009b",
   "metadata": {
    "papermill": {
     "duration": 0.006047,
     "end_time": "2022-06-23T16:21:38.911386",
     "exception": false,
     "start_time": "2022-06-23T16:21:38.905339",
     "status": "completed"
    },
    "tags": []
   },
   "source": [
    "## 1 Feature Engeneering"
   ]
  },
  {
   "cell_type": "code",
   "execution_count": 2,
   "id": "ad25a28f",
   "metadata": {
    "execution": {
     "iopub.execute_input": "2022-06-23T16:21:38.925120Z",
     "iopub.status.busy": "2022-06-23T16:21:38.924605Z",
     "iopub.status.idle": "2022-06-23T16:21:38.928895Z",
     "shell.execute_reply": "2022-06-23T16:21:38.928073Z"
    },
    "papermill": {
     "duration": 0.012974,
     "end_time": "2022-06-23T16:21:38.930658",
     "exception": false,
     "start_time": "2022-06-23T16:21:38.917684",
     "status": "completed"
    },
    "tags": []
   },
   "outputs": [],
   "source": [
    "def concat_df(df1, df2):\n",
    "    df1 = pd.concat([df1, df2],\n",
    "                    ignore_index=True, sort=False\n",
    "                    ).drop_duplicates([\"RowId\"], keep=\"first\")\n",
    "    return df1"
   ]
  },
  {
   "cell_type": "code",
   "execution_count": 3,
   "id": "c4bae85a",
   "metadata": {
    "execution": {
     "iopub.execute_input": "2022-06-23T16:21:38.944066Z",
     "iopub.status.busy": "2022-06-23T16:21:38.943831Z",
     "iopub.status.idle": "2022-06-23T16:22:00.015720Z",
     "shell.execute_reply": "2022-06-23T16:22:00.014157Z"
    },
    "papermill": {
     "duration": 21.080744,
     "end_time": "2022-06-23T16:22:00.017593",
     "exception": false,
     "start_time": "2022-06-23T16:21:38.936849",
     "status": "completed"
    },
    "tags": []
   },
   "outputs": [
    {
     "name": "stdout",
     "output_type": "stream",
     "text": [
      "<class 'pandas.core.frame.DataFrame'>\n",
      "Int64Index: 5189768 entries, 0 to 5189767\n",
      "Data columns (total 12 columns):\n",
      " #   Column            Non-Null Count    Dtype  \n",
      "---  ------            --------------    -----  \n",
      " 0   RowId             5189768 non-null  object \n",
      " 1   Date              5189768 non-null  object \n",
      " 2   SecuritiesCode    5189768 non-null  int16  \n",
      " 3   Open              5080824 non-null  float16\n",
      " 4   High              5080824 non-null  float16\n",
      " 5   Low               5080824 non-null  float16\n",
      " 6   Close             5080824 non-null  float16\n",
      " 7   Volume            5189768 non-null  int8   \n",
      " 8   AdjustmentFactor  5189768 non-null  float16\n",
      " 9   ExpectedDividend  41373 non-null    float16\n",
      " 10  SupervisionFlag   5189768 non-null  bool   \n",
      " 11  Target            5188728 non-null  float16\n",
      "dtypes: bool(1), float16(7), int16(1), int8(1), object(2)\n",
      "memory usage: 207.9+ MB\n"
     ]
    }
   ],
   "source": [
    "# For now... use pandas.... \n",
    "#If too heavy use Cudf\n",
    "\n",
    "# For now... just fix the floats\n",
    "dtypes = {\n",
    "'SecuritiesCode' :     np.int16,\n",
    "'Open'           :     np.float16,\n",
    "'High'           :     np.float16,\n",
    "'Low'            :     np.float16,\n",
    "'Close'          :     np.float16,\n",
    "'Volume'         :       np.int8,\n",
    "'AdjustmentFactor':    np.float16,\n",
    "'ExpectedDividend':    np.float16,\n",
    "'Target'        :      np.float16\n",
    "}\n",
    "path = \"../input/jpx-tokyo-stock-exchange-prediction/\"\n",
    "df_prices = pd.read_csv(f\"{path}train_files/stock_prices.csv\",dtype = dtypes)\n",
    "prices = pd.read_csv(f\"{path}supplemental_files/stock_prices.csv\",dtype = dtypes)\n",
    "df_prices = concat_df(df_prices, prices)\n",
    "prices = pd.read_csv(f\"{path}train_files/secondary_stock_prices.csv\",dtype = dtypes)\n",
    "df_prices = concat_df(df_prices, prices)\n",
    "prices = pd.read_csv(f\"{path}supplemental_files/secondary_stock_prices.csv\",dtype = dtypes)\n",
    "df_prices = concat_df(df_prices, prices)\n",
    "#df_prices = df_prices[df_prices.Date<\"2021-11-01\"]\n",
    "df_prices.info(show_counts=True)"
   ]
  },
  {
   "cell_type": "code",
   "execution_count": null,
   "id": "d26889c1",
   "metadata": {
    "papermill": {
     "duration": 0.006572,
     "end_time": "2022-06-23T16:22:00.030919",
     "exception": false,
     "start_time": "2022-06-23T16:22:00.024347",
     "status": "completed"
    },
    "tags": []
   },
   "outputs": [],
   "source": []
  },
  {
   "cell_type": "code",
   "execution_count": 4,
   "id": "e640b72c",
   "metadata": {
    "execution": {
     "iopub.execute_input": "2022-06-23T16:22:00.045723Z",
     "iopub.status.busy": "2022-06-23T16:22:00.045071Z",
     "iopub.status.idle": "2022-06-23T16:22:00.048997Z",
     "shell.execute_reply": "2022-06-23T16:22:00.048163Z"
    },
    "papermill": {
     "duration": 0.012831,
     "end_time": "2022-06-23T16:22:00.050655",
     "exception": false,
     "start_time": "2022-06-23T16:22:00.037824",
     "status": "completed"
    },
    "tags": []
   },
   "outputs": [],
   "source": [
    "# def prep_prices(price):\n",
    "#     price.fillna(0,inplace=True)\n",
    "#     return price"
   ]
  },
  {
   "cell_type": "code",
   "execution_count": 5,
   "id": "f7e8d530",
   "metadata": {
    "execution": {
     "iopub.execute_input": "2022-06-23T16:22:00.064479Z",
     "iopub.status.busy": "2022-06-23T16:22:00.064217Z",
     "iopub.status.idle": "2022-06-23T16:22:00.067179Z",
     "shell.execute_reply": "2022-06-23T16:22:00.066432Z"
    },
    "papermill": {
     "duration": 0.012036,
     "end_time": "2022-06-23T16:22:00.068975",
     "exception": false,
     "start_time": "2022-06-23T16:22:00.056939",
     "status": "completed"
    },
    "tags": []
   },
   "outputs": [],
   "source": [
    "# df_prices = prep_prices(df_prices)\n",
    "# pd.options.display.float_format = '{:,.6g}'.format\n",
    "# df_prices.describe()"
   ]
  },
  {
   "cell_type": "code",
   "execution_count": 6,
   "id": "d1751d29",
   "metadata": {
    "execution": {
     "iopub.execute_input": "2022-06-23T16:22:00.083033Z",
     "iopub.status.busy": "2022-06-23T16:22:00.082781Z",
     "iopub.status.idle": "2022-06-23T16:22:00.085916Z",
     "shell.execute_reply": "2022-06-23T16:22:00.085210Z"
    },
    "papermill": {
     "duration": 0.012139,
     "end_time": "2022-06-23T16:22:00.087495",
     "exception": false,
     "start_time": "2022-06-23T16:22:00.075356",
     "status": "completed"
    },
    "tags": []
   },
   "outputs": [],
   "source": [
    "# # Open stock_list\n",
    "# stock_list = pd.read_csv(\"../input/jpx-tokyo-stock-exchange-prediction/stock_list.csv\")\n",
    "# stock_list"
   ]
  },
  {
   "cell_type": "code",
   "execution_count": 7,
   "id": "517435d8",
   "metadata": {
    "execution": {
     "iopub.execute_input": "2022-06-23T16:22:00.101387Z",
     "iopub.status.busy": "2022-06-23T16:22:00.100715Z",
     "iopub.status.idle": "2022-06-23T16:22:00.104562Z",
     "shell.execute_reply": "2022-06-23T16:22:00.103895Z"
    },
    "papermill": {
     "duration": 0.012594,
     "end_time": "2022-06-23T16:22:00.106336",
     "exception": false,
     "start_time": "2022-06-23T16:22:00.093742",
     "status": "completed"
    },
    "tags": []
   },
   "outputs": [],
   "source": [
    "# #Match Stocklist to securities code\n",
    "# stock_list = stock_list[['SecuritiesCode','NewMarketSegment','33SectorCode','17SectorCode','Universe0','Section/Products','NewIndexSeriesSize']]\n",
    "# stock_list = stock_list.replace(np.nan,'-')\n",
    "# stock_list['Universe0'] = np.where(stock_list['Universe0'], 1, 0)\n",
    "# stock_list = stock_list.drop_duplicates()\n",
    "# stock_list\n"
   ]
  },
  {
   "cell_type": "code",
   "execution_count": 8,
   "id": "cdde06e9",
   "metadata": {
    "execution": {
     "iopub.execute_input": "2022-06-23T16:22:00.120681Z",
     "iopub.status.busy": "2022-06-23T16:22:00.120149Z",
     "iopub.status.idle": "2022-06-23T16:22:00.123635Z",
     "shell.execute_reply": "2022-06-23T16:22:00.122812Z"
    },
    "papermill": {
     "duration": 0.012561,
     "end_time": "2022-06-23T16:22:00.125382",
     "exception": false,
     "start_time": "2022-06-23T16:22:00.112821",
     "status": "completed"
    },
    "tags": []
   },
   "outputs": [],
   "source": [
    "# from datetime import datetime\n",
    "# import time\n",
    "\n",
    " # auxiliary function, from datetime to timestamp\n",
    "#totimestamp = lambda s: np.int32(time.mktime(datetime.strptime(s, \"%Y-%m-%d\").timetuple()))"
   ]
  },
  {
   "cell_type": "markdown",
   "id": "f9ab36db",
   "metadata": {
    "papermill": {
     "duration": 0.00609,
     "end_time": "2022-06-23T16:22:00.137759",
     "exception": false,
     "start_time": "2022-06-23T16:22:00.131669",
     "status": "completed"
    },
    "tags": []
   },
   "source": [
    "# Data Features\n"
   ]
  },
  {
   "cell_type": "code",
   "execution_count": 9,
   "id": "f84667d4",
   "metadata": {
    "execution": {
     "iopub.execute_input": "2022-06-23T16:22:00.151892Z",
     "iopub.status.busy": "2022-06-23T16:22:00.151397Z",
     "iopub.status.idle": "2022-06-23T16:22:00.159243Z",
     "shell.execute_reply": "2022-06-23T16:22:00.158567Z"
    },
    "papermill": {
     "duration": 0.016743,
     "end_time": "2022-06-23T16:22:00.160908",
     "exception": false,
     "start_time": "2022-06-23T16:22:00.144165",
     "status": "completed"
    },
    "tags": []
   },
   "outputs": [],
   "source": [
    "\n",
    "# define function to compute log returns\n",
    "# def log_return(series, periods=1):\n",
    "#     return np.log(series).diff(periods=periods)\n",
    "\n",
    "\n",
    "# # def fill_the_gaps(df):\n",
    "# #     new_df = pd.DataFrame(columns= df.columns)\n",
    "# #     for i in range(len(df['SecuritiesCode'].unique())):\n",
    "# #         new_df = new_df.append(df[df['SecuritiesCode'] == i].reindex(range(df[df['SecuritiesCode'] == i].index[0],df[df['SecuritiesCode'] == i].index[-1]+60,60),method='pad'))\n",
    "# #     new_df.fillna(method = 'pad', inplace = True) \n",
    "# #     return new_df\n",
    "\n",
    "\n",
    "# def rsiFunc(prices, n=14):\n",
    "#     deltas = np.diff(prices)\n",
    "#     seed = deltas[:n+1]\n",
    "#     up = seed[seed>=0].sum()/n\n",
    "#     down = -seed[seed<0].sum()/n\n",
    "#     rs = up/down\n",
    "#     rsi = np.zeros_like(prices)\n",
    "#     rsi[:n] = 100. - 100./(1.+rs)\n",
    "\n",
    "#     for i in range(n, len(prices)):\n",
    "#         delta = deltas[i-1] # cause the diff is 1 shorter\n",
    "\n",
    "#         if delta>0:\n",
    "#             upval = delta\n",
    "#             downval = 0.\n",
    "#         else:\n",
    "#             upval = 0.\n",
    "#             downval = -delta\n",
    "\n",
    "#         up = (up*(n-1) + upval)/n\n",
    "#         down = (down*(n-1) + downval)/n\n",
    "\n",
    "#         rs = up/down\n",
    "#         rsi[i] = 100. - 100./(1.+rs)\n",
    "\n",
    "#     return rsi\n",
    "\n",
    "\n",
    "\n",
    "def get_features(df):\n",
    "\n",
    "#     df['log_return_5'] = log_return(df['Close'],periods=5)\n",
    "#     df['log_return'] = log_return(df['Close'],periods=1)\n",
    "\n",
    "    upper_shadow = lambda asset: asset.High - np.maximum(asset.Close,asset.Open)\n",
    "    lower_shadow = lambda asset: np.minimum(asset.Close,asset.Open)- asset.Low\n",
    "\n",
    "    df['upper_shadow'] = upper_shadow(df)\n",
    "    df['lower_shadow'] = lower_shadow(df)\n",
    "    \n",
    "#     df['EMA_21'] = df['Close'].ewm(span=21).mean()\n",
    "    \n",
    "#     df['EMA_55'] = df['Close'].ewm(span=55).mean()\n",
    "    \n",
    "#     df['EMA_315'] = df['Close'].ewm(span=315).mean()\n",
    "    \n",
    "#     df['EMA_825'] = df['Close'].ewm(span=825).mean()\n",
    "    \n",
    "#     window = 7\n",
    "    \n",
    "#     no_of_std = 2\n",
    "    \n",
    "#     df[f'EMA_{window}'] = df['Close'].ewm(span=window).mean()\n",
    "    \n",
    "#     df[f'EMA_{window}_std'] = df['Close'].rolling(window=window).std()\n",
    "    \n",
    "#     df[f'EMA_{window}_BB_high'] = df[f'EMA_{window}'] + no_of_std * df[f'EMA_{window}_std']\n",
    "    \n",
    "#     df[f'MA_{window}MA_BB_low'] = df[f'EMA_{window}'] - no_of_std * df[f'EMA_{window}_std']\n",
    "    \n",
    "#     window = 5\n",
    "    \n",
    "#     df[f'EMA_{window}'] = df['Close'].ewm(span=window).mean()\n",
    "    \n",
    "#     df[f'EMA_{window}_std'] = df['Close'].rolling(window=window).std()\n",
    "    \n",
    "#     df[f'EMA_{window}_BB_high'] = df[f'EMA_{window}'] + no_of_std * df[f'EMA_{window}_std']\n",
    "    \n",
    "#     df[f'MA_{window}MA_BB_low'] = df[f'EMA_{window}'] - no_of_std * df[f'EMA_{window}_std']\n",
    "    \n",
    "#     df['MACD'] = df['EMA_7'] - df['EMA_5']\n",
    "    \n",
    "    \n",
    "#     df['rsi_5'] = rsiFunc(df['Close'].values, 5)\n",
    "    \n",
    "#     df['rsi_7'] = rsiFunc(df['Close'].values, 7)\n",
    "    \n",
    "#     df['rsi_21'] = rsiFunc(df['Close'].values, 21)\n",
    "    \n",
    "    \n",
    "    \n",
    "    df['VWAP'] = (df['Close'] * df['Volume'])/ df['Volume']\n",
    "\n",
    "\n",
    "\n",
    "\n",
    "    \n",
    "    \n",
    "    #df = pd.concat([df, pd.get_dummies(df['Asset_ID'], prefix= 'Asset_')], axis=1)\n",
    "    \n",
    "    df[[ 'upper_shadow', 'lower_shadow','VWAP']].astype('float16')\n",
    "    \n",
    "    return df\n",
    "\n"
   ]
  },
  {
   "cell_type": "code",
   "execution_count": 10,
   "id": "3bf9a5c7",
   "metadata": {
    "execution": {
     "iopub.execute_input": "2022-06-23T16:22:00.174741Z",
     "iopub.status.busy": "2022-06-23T16:22:00.174298Z",
     "iopub.status.idle": "2022-06-23T16:22:07.712227Z",
     "shell.execute_reply": "2022-06-23T16:22:07.711414Z"
    },
    "papermill": {
     "duration": 7.547143,
     "end_time": "2022-06-23T16:22:07.714301",
     "exception": false,
     "start_time": "2022-06-23T16:22:00.167158",
     "status": "completed"
    },
    "tags": []
   },
   "outputs": [],
   "source": [
    "#sort the database per stock before running the feature function\n",
    "#df_prices = df_prices.sort_values('SecuritiesCode')\n",
    "\n",
    "df_prices = get_features(df_prices)\n",
    "\n",
    "df_prices = df_prices.replace((np.inf, -np.inf, np.nan), 0).reset_index(drop=True)\n",
    "\n",
    "df_prices = df_prices.fillna(0)"
   ]
  },
  {
   "cell_type": "markdown",
   "id": "d7f6e556",
   "metadata": {
    "papermill": {
     "duration": 0.006197,
     "end_time": "2022-06-23T16:22:07.727312",
     "exception": false,
     "start_time": "2022-06-23T16:22:07.721115",
     "status": "completed"
    },
    "tags": []
   },
   "source": [
    "## Training a Simple Model\n",
    "\n",
    "Xgboost"
   ]
  },
  {
   "cell_type": "code",
   "execution_count": null,
   "id": "b076cc38",
   "metadata": {
    "papermill": {
     "duration": 0.006178,
     "end_time": "2022-06-23T16:22:07.739784",
     "exception": false,
     "start_time": "2022-06-23T16:22:07.733606",
     "status": "completed"
    },
    "tags": []
   },
   "outputs": [],
   "source": []
  },
  {
   "cell_type": "code",
   "execution_count": 11,
   "id": "0bade1ab",
   "metadata": {
    "execution": {
     "iopub.execute_input": "2022-06-23T16:22:07.753650Z",
     "iopub.status.busy": "2022-06-23T16:22:07.753353Z",
     "iopub.status.idle": "2022-06-23T16:22:08.749947Z",
     "shell.execute_reply": "2022-06-23T16:22:08.749151Z"
    },
    "papermill": {
     "duration": 1.005746,
     "end_time": "2022-06-23T16:22:08.752019",
     "exception": false,
     "start_time": "2022-06-23T16:22:07.746273",
     "status": "completed"
    },
    "tags": []
   },
   "outputs": [],
   "source": [
    "import xgboost as xgb\n",
    "from sklearn.preprocessing import StandardScaler\n",
    "scaler = StandardScaler()"
   ]
  },
  {
   "cell_type": "code",
   "execution_count": 12,
   "id": "58bc57f1",
   "metadata": {
    "execution": {
     "iopub.execute_input": "2022-06-23T16:22:08.766535Z",
     "iopub.status.busy": "2022-06-23T16:22:08.765872Z",
     "iopub.status.idle": "2022-06-23T16:22:08.770137Z",
     "shell.execute_reply": "2022-06-23T16:22:08.769432Z"
    },
    "papermill": {
     "duration": 0.013093,
     "end_time": "2022-06-23T16:22:08.771711",
     "exception": false,
     "start_time": "2022-06-23T16:22:08.758618",
     "status": "completed"
    },
    "tags": []
   },
   "outputs": [],
   "source": [
    "def model_training(X,y):\n",
    "    # Model training\n",
    "    \n",
    "    model = xgb.XGBRegressor(n_estimators=5000,learning_rate=0.1 , tree_method = 'gpu_hist') \n",
    "    model.fit(X, y)\n",
    "    \n",
    "    return model\n"
   ]
  },
  {
   "cell_type": "code",
   "execution_count": 13,
   "id": "1565b648",
   "metadata": {
    "execution": {
     "iopub.execute_input": "2022-06-23T16:22:08.786109Z",
     "iopub.status.busy": "2022-06-23T16:22:08.785859Z",
     "iopub.status.idle": "2022-06-23T16:22:08.789745Z",
     "shell.execute_reply": "2022-06-23T16:22:08.789064Z"
    },
    "papermill": {
     "duration": 0.012457,
     "end_time": "2022-06-23T16:22:08.791324",
     "exception": false,
     "start_time": "2022-06-23T16:22:08.778867",
     "status": "completed"
    },
    "tags": []
   },
   "outputs": [],
   "source": [
    "scaled_features = ['Open', 'High', 'Low', 'Close', 'Volume', 'upper_shadow', 'lower_shadow','VWAP']\n",
    "features = [\"SecuritiesCode\",'Open', 'High', 'Low', 'Close', 'Volume', 'upper_shadow', 'lower_shadow','VWAP']"
   ]
  },
  {
   "cell_type": "code",
   "execution_count": 14,
   "id": "86b7df43",
   "metadata": {
    "execution": {
     "iopub.execute_input": "2022-06-23T16:22:08.804708Z",
     "iopub.status.busy": "2022-06-23T16:22:08.804445Z",
     "iopub.status.idle": "2022-06-23T16:22:09.294964Z",
     "shell.execute_reply": "2022-06-23T16:22:09.294133Z"
    },
    "papermill": {
     "duration": 0.499552,
     "end_time": "2022-06-23T16:22:09.297124",
     "exception": false,
     "start_time": "2022-06-23T16:22:08.797572",
     "status": "completed"
    },
    "tags": []
   },
   "outputs": [],
   "source": [
    "# Creating endog and exog variables\n",
    "y = df_prices[['Target']]\n",
    "X = df_prices[features]"
   ]
  },
  {
   "cell_type": "code",
   "execution_count": 15,
   "id": "32088faa",
   "metadata": {
    "execution": {
     "iopub.execute_input": "2022-06-23T16:22:09.311789Z",
     "iopub.status.busy": "2022-06-23T16:22:09.311115Z",
     "iopub.status.idle": "2022-06-23T16:22:10.349389Z",
     "shell.execute_reply": "2022-06-23T16:22:10.348574Z"
    },
    "papermill": {
     "duration": 1.047826,
     "end_time": "2022-06-23T16:22:10.351694",
     "exception": false,
     "start_time": "2022-06-23T16:22:09.303868",
     "status": "completed"
    },
    "tags": []
   },
   "outputs": [
    {
     "name": "stderr",
     "output_type": "stream",
     "text": [
      "/opt/conda/lib/python3.7/site-packages/pandas/core/frame.py:3678: SettingWithCopyWarning: \n",
      "A value is trying to be set on a copy of a slice from a DataFrame.\n",
      "Try using .loc[row_indexer,col_indexer] = value instead\n",
      "\n",
      "See the caveats in the documentation: https://pandas.pydata.org/pandas-docs/stable/user_guide/indexing.html#returning-a-view-versus-a-copy\n",
      "  self[col] = igetitem(value, i)\n"
     ]
    }
   ],
   "source": [
    "X[scaled_features] = scaler.fit_transform(X[scaled_features])\n"
   ]
  },
  {
   "cell_type": "code",
   "execution_count": 16,
   "id": "088bc0d7",
   "metadata": {
    "execution": {
     "iopub.execute_input": "2022-06-23T16:22:10.366149Z",
     "iopub.status.busy": "2022-06-23T16:22:10.365864Z",
     "iopub.status.idle": "2022-06-23T16:23:14.914441Z",
     "shell.execute_reply": "2022-06-23T16:23:14.913594Z"
    },
    "papermill": {
     "duration": 64.5643,
     "end_time": "2022-06-23T16:23:14.922896",
     "exception": false,
     "start_time": "2022-06-23T16:22:10.358596",
     "status": "completed"
    },
    "tags": []
   },
   "outputs": [
    {
     "name": "stdout",
     "output_type": "stream",
     "text": [
      "CPU times: user 1min 1s, sys: 976 ms, total: 1min 2s\n",
      "Wall time: 1min 4s\n"
     ]
    }
   ],
   "source": [
    "%%time\n",
    "\n",
    "model_1 = model_training(X,y)"
   ]
  },
  {
   "cell_type": "code",
   "execution_count": 17,
   "id": "1b9ad7e6",
   "metadata": {
    "execution": {
     "iopub.execute_input": "2022-06-23T16:23:14.938235Z",
     "iopub.status.busy": "2022-06-23T16:23:14.936856Z",
     "iopub.status.idle": "2022-06-23T16:30:23.430184Z",
     "shell.execute_reply": "2022-06-23T16:30:23.429367Z"
    },
    "papermill": {
     "duration": 428.509796,
     "end_time": "2022-06-23T16:30:23.439194",
     "exception": false,
     "start_time": "2022-06-23T16:23:14.929398",
     "status": "completed"
    },
    "tags": []
   },
   "outputs": [
    {
     "data": {
      "text/plain": [
       "0.0878505359004732"
      ]
     },
     "execution_count": 17,
     "metadata": {},
     "output_type": "execute_result"
    }
   ],
   "source": [
    "model_1.score(X,y)"
   ]
  },
  {
   "cell_type": "code",
   "execution_count": 18,
   "id": "c66560ae",
   "metadata": {
    "execution": {
     "iopub.execute_input": "2022-06-23T16:30:23.454096Z",
     "iopub.status.busy": "2022-06-23T16:30:23.453713Z",
     "iopub.status.idle": "2022-06-23T16:30:23.457262Z",
     "shell.execute_reply": "2022-06-23T16:30:23.456525Z"
    },
    "papermill": {
     "duration": 0.012587,
     "end_time": "2022-06-23T16:30:23.458859",
     "exception": false,
     "start_time": "2022-06-23T16:30:23.446272",
     "status": "completed"
    },
    "tags": []
   },
   "outputs": [],
   "source": [
    "import pickle"
   ]
  },
  {
   "cell_type": "code",
   "execution_count": 19,
   "id": "13e45e04",
   "metadata": {
    "execution": {
     "iopub.execute_input": "2022-06-23T16:30:23.473627Z",
     "iopub.status.busy": "2022-06-23T16:30:23.473063Z",
     "iopub.status.idle": "2022-06-23T16:30:23.647571Z",
     "shell.execute_reply": "2022-06-23T16:30:23.646769Z"
    },
    "papermill": {
     "duration": 0.184085,
     "end_time": "2022-06-23T16:30:23.649571",
     "exception": false,
     "start_time": "2022-06-23T16:30:23.465486",
     "status": "completed"
    },
    "tags": []
   },
   "outputs": [],
   "source": [
    "# Saving model\n",
    "\n",
    "#Saving the sklearn model\n",
    "\n",
    "filename = 'simple_xgb.sav'\n",
    "pickle.dump(model_1, open(filename, 'wb'))\n",
    "\n",
    "# save in text format\n",
    "model_1.save_model(\"simple_xgb.txt\")"
   ]
  },
  {
   "cell_type": "markdown",
   "id": "799d5dd4",
   "metadata": {
    "papermill": {
     "duration": 0.006752,
     "end_time": "2022-06-23T16:30:23.663484",
     "exception": false,
     "start_time": "2022-06-23T16:30:23.656732",
     "status": "completed"
    },
    "tags": []
   },
   "source": [
    "# Submission\n"
   ]
  },
  {
   "cell_type": "code",
   "execution_count": 20,
   "id": "e0c35c2d",
   "metadata": {
    "execution": {
     "iopub.execute_input": "2022-06-23T16:30:23.678295Z",
     "iopub.status.busy": "2022-06-23T16:30:23.677645Z",
     "iopub.status.idle": "2022-06-23T16:30:23.682268Z",
     "shell.execute_reply": "2022-06-23T16:30:23.681546Z"
    },
    "papermill": {
     "duration": 0.013868,
     "end_time": "2022-06-23T16:30:23.684037",
     "exception": false,
     "start_time": "2022-06-23T16:30:23.670169",
     "status": "completed"
    },
    "tags": []
   },
   "outputs": [],
   "source": [
    "#Add a rank Function\n",
    "\n",
    "def add_rank(df, col_name=\"pred\"):\n",
    "    df[\"Rank\"] = df.groupby(\"Date\")[col_name].rank(ascending=False, method=\"first\") - 1 \n",
    "    df[\"Rank\"] = df[\"Rank\"].astype(\"int\")\n",
    "    return df"
   ]
  },
  {
   "cell_type": "code",
   "execution_count": 21,
   "id": "7818769e",
   "metadata": {
    "execution": {
     "iopub.execute_input": "2022-06-23T16:30:23.698429Z",
     "iopub.status.busy": "2022-06-23T16:30:23.698184Z",
     "iopub.status.idle": "2022-06-23T16:30:24.288272Z",
     "shell.execute_reply": "2022-06-23T16:30:24.287525Z"
    },
    "papermill": {
     "duration": 0.599635,
     "end_time": "2022-06-23T16:30:24.290281",
     "exception": false,
     "start_time": "2022-06-23T16:30:23.690646",
     "status": "completed"
    },
    "tags": []
   },
   "outputs": [
    {
     "name": "stdout",
     "output_type": "stream",
     "text": [
      "This version of the API is not optimized and should not be used to estimate the runtime of your code on the hidden test set.\n"
     ]
    }
   ],
   "source": [
    "import jpx_tokyo_market_prediction\n",
    "\n",
    "\n",
    "env = jpx_tokyo_market_prediction.make_env()   # initialize the environment\n",
    "iter_test = env.iter_test()    # an iterator which loops over the test files\n",
    "for (prices, options, financials, trades, secondary_prices, sample_prediction) in iter_test:\n",
    "    prices = get_features(prices)\n",
    "    prices = prices.replace((np.inf, -np.inf, np.nan), 0).reset_index(drop=True)\n",
    "    prices = prices.fillna(0)\n",
    "    prices[scaled_features] = scaler.fit_transform(prices[scaled_features])\n",
    "    prices['pred'] = model_1.predict(prices[features])\n",
    "    prices = add_rank(prices)\n",
    "    feature_map = prices.set_index('SecuritiesCode')['Rank'].to_dict()\n",
    "    sample_prediction['Rank'] = sample_prediction['SecuritiesCode'].map(feature_map)\n",
    "    env.predict(sample_prediction)"
   ]
  },
  {
   "cell_type": "code",
   "execution_count": null,
   "id": "ee7e00db",
   "metadata": {
    "papermill": {
     "duration": 0.007139,
     "end_time": "2022-06-23T16:30:24.304841",
     "exception": false,
     "start_time": "2022-06-23T16:30:24.297702",
     "status": "completed"
    },
    "tags": []
   },
   "outputs": [],
   "source": []
  },
  {
   "cell_type": "code",
   "execution_count": null,
   "id": "77652416",
   "metadata": {
    "papermill": {
     "duration": 0.006839,
     "end_time": "2022-06-23T16:30:24.318576",
     "exception": false,
     "start_time": "2022-06-23T16:30:24.311737",
     "status": "completed"
    },
    "tags": []
   },
   "outputs": [],
   "source": []
  },
  {
   "cell_type": "code",
   "execution_count": null,
   "id": "30b04085",
   "metadata": {
    "papermill": {
     "duration": 0.006689,
     "end_time": "2022-06-23T16:30:24.332611",
     "exception": false,
     "start_time": "2022-06-23T16:30:24.325922",
     "status": "completed"
    },
    "tags": []
   },
   "outputs": [],
   "source": []
  }
 ],
 "metadata": {
  "kernelspec": {
   "display_name": "Python 3",
   "language": "python",
   "name": "python3"
  },
  "language_info": {
   "codemirror_mode": {
    "name": "ipython",
    "version": 3
   },
   "file_extension": ".py",
   "mimetype": "text/x-python",
   "name": "python",
   "nbconvert_exporter": "python",
   "pygments_lexer": "ipython3",
   "version": "3.7.12"
  },
  "papermill": {
   "default_parameters": {},
   "duration": 535.008034,
   "end_time": "2022-06-23T16:30:25.662454",
   "environment_variables": {},
   "exception": null,
   "input_path": "__notebook__.ipynb",
   "output_path": "__notebook__.ipynb",
   "parameters": {},
   "start_time": "2022-06-23T16:21:30.654420",
   "version": "2.3.4"
  }
 },
 "nbformat": 4,
 "nbformat_minor": 5
}
