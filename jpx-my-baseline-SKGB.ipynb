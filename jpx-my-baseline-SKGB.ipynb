{
 "cells": [
  {
   "cell_type": "code",
   "execution_count": 1,
   "id": "ebca88a2",
   "metadata": {
    "_cell_guid": "b1076dfc-b9ad-4769-8c92-a6c4dae69d19",
    "_uuid": "8f2839f25d086af736a60e9eeb907d3b93b6e0e5",
    "execution": {
     "iopub.execute_input": "2022-06-21T01:37:34.430609Z",
     "iopub.status.busy": "2022-06-21T01:37:34.429760Z",
     "iopub.status.idle": "2022-06-21T01:37:34.456042Z",
     "shell.execute_reply": "2022-06-21T01:37:34.455347Z"
    },
    "papermill": {
     "duration": 0.038519,
     "end_time": "2022-06-21T01:37:34.458794",
     "exception": false,
     "start_time": "2022-06-21T01:37:34.420275",
     "status": "completed"
    },
    "tags": []
   },
   "outputs": [
    {
     "name": "stdout",
     "output_type": "stream",
     "text": [
      "/kaggle/input/jpx-tokyo-stock-exchange-prediction/stock_list.csv\n",
      "/kaggle/input/jpx-tokyo-stock-exchange-prediction/example_test_files/sample_submission.csv\n",
      "/kaggle/input/jpx-tokyo-stock-exchange-prediction/example_test_files/options.csv\n",
      "/kaggle/input/jpx-tokyo-stock-exchange-prediction/example_test_files/financials.csv\n",
      "/kaggle/input/jpx-tokyo-stock-exchange-prediction/example_test_files/secondary_stock_prices.csv\n",
      "/kaggle/input/jpx-tokyo-stock-exchange-prediction/example_test_files/trades.csv\n",
      "/kaggle/input/jpx-tokyo-stock-exchange-prediction/example_test_files/stock_prices.csv\n",
      "/kaggle/input/jpx-tokyo-stock-exchange-prediction/jpx_tokyo_market_prediction/competition.cpython-37m-x86_64-linux-gnu.so\n",
      "/kaggle/input/jpx-tokyo-stock-exchange-prediction/jpx_tokyo_market_prediction/__init__.py\n",
      "/kaggle/input/jpx-tokyo-stock-exchange-prediction/data_specifications/stock_fin_spec.csv\n",
      "/kaggle/input/jpx-tokyo-stock-exchange-prediction/data_specifications/trades_spec.csv\n",
      "/kaggle/input/jpx-tokyo-stock-exchange-prediction/data_specifications/stock_price_spec.csv\n",
      "/kaggle/input/jpx-tokyo-stock-exchange-prediction/data_specifications/options_spec.csv\n",
      "/kaggle/input/jpx-tokyo-stock-exchange-prediction/data_specifications/stock_list_spec.csv\n",
      "/kaggle/input/jpx-tokyo-stock-exchange-prediction/train_files/options.csv\n",
      "/kaggle/input/jpx-tokyo-stock-exchange-prediction/train_files/financials.csv\n",
      "/kaggle/input/jpx-tokyo-stock-exchange-prediction/train_files/secondary_stock_prices.csv\n",
      "/kaggle/input/jpx-tokyo-stock-exchange-prediction/train_files/trades.csv\n",
      "/kaggle/input/jpx-tokyo-stock-exchange-prediction/train_files/stock_prices.csv\n",
      "/kaggle/input/jpx-tokyo-stock-exchange-prediction/supplemental_files/options.csv\n",
      "/kaggle/input/jpx-tokyo-stock-exchange-prediction/supplemental_files/financials.csv\n",
      "/kaggle/input/jpx-tokyo-stock-exchange-prediction/supplemental_files/secondary_stock_prices.csv\n",
      "/kaggle/input/jpx-tokyo-stock-exchange-prediction/supplemental_files/trades.csv\n",
      "/kaggle/input/jpx-tokyo-stock-exchange-prediction/supplemental_files/stock_prices.csv\n"
     ]
    }
   ],
   "source": [
    "# This Python 3 environment comes with many helpful analytics libraries installed\n",
    "# It is defined by the kaggle/python Docker image: https://github.com/kaggle/docker-python\n",
    "# For example, here's several helpful packages to load\n",
    "\n",
    "import numpy as np # linear algebra\n",
    "import pandas as pd # data processing, CSV file I/O (e.g. pd.read_csv)\n",
    "\n",
    "# Input data files are available in the read-only \"../input/\" directory\n",
    "# For example, running this (by clicking run or pressing Shift+Enter) will list all files under the input directory\n",
    "\n",
    "import os\n",
    "for dirname, _, filenames in os.walk('/kaggle/input'):\n",
    "    for filename in filenames:\n",
    "        print(os.path.join(dirname, filename))\n",
    "\n",
    "# You can write up to 20GB to the current directory (/kaggle/working/) th\n",
    "#at gets preserved as output when you create a version using \"Save & Run All\" \n",
    "# You can also write temporary files to /kaggle/temp/, but they won't be saved outside of the current session"
   ]
  },
  {
   "cell_type": "markdown",
   "id": "d7fb1735",
   "metadata": {
    "papermill": {
     "duration": 0.006701,
     "end_time": "2022-06-21T01:37:34.474020",
     "exception": false,
     "start_time": "2022-06-21T01:37:34.467319",
     "status": "completed"
    },
    "tags": []
   },
   "source": [
    "# Here starts my Baseline\n",
    "\n",
    "Ideas:\n",
    "\n",
    "1  - Feature engeneering- Basic and effective;\n",
    "\n",
    "2 - Gradient Boosting Regressions;\n",
    "\n",
    "3 - Neuronets Regressions; and\n",
    "\n",
    "4 - Submission.\n",
    "\n"
   ]
  },
  {
   "cell_type": "markdown",
   "id": "1850a643",
   "metadata": {
    "papermill": {
     "duration": 0.006865,
     "end_time": "2022-06-21T01:37:34.487935",
     "exception": false,
     "start_time": "2022-06-21T01:37:34.481070",
     "status": "completed"
    },
    "tags": []
   },
   "source": [
    "## 1 Feature Engeneering"
   ]
  },
  {
   "cell_type": "code",
   "execution_count": 2,
   "id": "956ecc4a",
   "metadata": {
    "execution": {
     "iopub.execute_input": "2022-06-21T01:37:34.502934Z",
     "iopub.status.busy": "2022-06-21T01:37:34.502295Z",
     "iopub.status.idle": "2022-06-21T01:37:34.507250Z",
     "shell.execute_reply": "2022-06-21T01:37:34.506575Z"
    },
    "papermill": {
     "duration": 0.014248,
     "end_time": "2022-06-21T01:37:34.509081",
     "exception": false,
     "start_time": "2022-06-21T01:37:34.494833",
     "status": "completed"
    },
    "tags": []
   },
   "outputs": [],
   "source": [
    "def concat_df(df1, df2):\n",
    "    df1 = pd.concat([df1, df2],\n",
    "                    ignore_index=True, sort=False\n",
    "                    ).drop_duplicates([\"RowId\"], keep=\"first\")\n",
    "    return df1"
   ]
  },
  {
   "cell_type": "code",
   "execution_count": 3,
   "id": "7d27a70f",
   "metadata": {
    "execution": {
     "iopub.execute_input": "2022-06-21T01:37:34.524792Z",
     "iopub.status.busy": "2022-06-21T01:37:34.524245Z",
     "iopub.status.idle": "2022-06-21T01:37:55.261757Z",
     "shell.execute_reply": "2022-06-21T01:37:55.260005Z"
    },
    "papermill": {
     "duration": 20.747892,
     "end_time": "2022-06-21T01:37:55.264138",
     "exception": false,
     "start_time": "2022-06-21T01:37:34.516246",
     "status": "completed"
    },
    "tags": []
   },
   "outputs": [
    {
     "name": "stdout",
     "output_type": "stream",
     "text": [
      "<class 'pandas.core.frame.DataFrame'>\n",
      "Int64Index: 562531 entries, 2288531 to 5189767\n",
      "Data columns (total 12 columns):\n",
      " #   Column            Non-Null Count   Dtype  \n",
      "---  ------            --------------   -----  \n",
      " 0   RowId             562531 non-null  object \n",
      " 1   Date              562531 non-null  object \n",
      " 2   SecuritiesCode    562531 non-null  int8   \n",
      " 3   Open              551404 non-null  float16\n",
      " 4   High              551404 non-null  float16\n",
      " 5   Low               551404 non-null  float16\n",
      " 6   Close             551404 non-null  float16\n",
      " 7   Volume            562531 non-null  int8   \n",
      " 8   AdjustmentFactor  562531 non-null  float16\n",
      " 9   ExpectedDividend  4229 non-null    float16\n",
      " 10  SupervisionFlag   562531 non-null  bool   \n",
      " 11  Target            562445 non-null  float16\n",
      "dtypes: bool(1), float16(7), int8(2), object(2)\n",
      "memory usage: 22.0+ MB\n"
     ]
    }
   ],
   "source": [
    "# For now... use pandas.... \n",
    "#If too heavy use Cudf\n",
    "\n",
    "# For now... just fix the floats\n",
    "dtypes = {\n",
    "'SecuritiesCode' : np.int8,\n",
    "'Open'           :     np.float16,\n",
    "'High'           :     np.float16,\n",
    "'Low'            :     np.float16,\n",
    "'Close'          :     np.float16,\n",
    "'Volume'         :       np.int8,\n",
    "'AdjustmentFactor':    np.float16,\n",
    "'ExpectedDividend':    np.float16,\n",
    "'Target'        :      np.float16\n",
    "}\n",
    "path = \"../input/jpx-tokyo-stock-exchange-prediction/\"\n",
    "df_prices = pd.read_csv(f\"{path}train_files/stock_prices.csv\",dtype = dtypes)\n",
    "prices = pd.read_csv(f\"{path}supplemental_files/stock_prices.csv\",dtype = dtypes)\n",
    "df_prices = concat_df(df_prices, prices)\n",
    "prices = pd.read_csv(f\"{path}train_files/secondary_stock_prices.csv\",dtype = dtypes)\n",
    "df_prices = concat_df(df_prices, prices)\n",
    "prices = pd.read_csv(f\"{path}supplemental_files/secondary_stock_prices.csv\",dtype = dtypes)\n",
    "df_prices = concat_df(df_prices, prices)\n",
    "df_prices = df_prices[df_prices.Date>\"2021-11-01\"]\n",
    "df_prices.info(show_counts=True)"
   ]
  },
  {
   "cell_type": "code",
   "execution_count": 4,
   "id": "4d21bce5",
   "metadata": {
    "execution": {
     "iopub.execute_input": "2022-06-21T01:37:55.281214Z",
     "iopub.status.busy": "2022-06-21T01:37:55.280693Z",
     "iopub.status.idle": "2022-06-21T01:37:55.285376Z",
     "shell.execute_reply": "2022-06-21T01:37:55.284600Z"
    },
    "papermill": {
     "duration": 0.01518,
     "end_time": "2022-06-21T01:37:55.287280",
     "exception": false,
     "start_time": "2022-06-21T01:37:55.272100",
     "status": "completed"
    },
    "tags": []
   },
   "outputs": [],
   "source": [
    "# def prep_prices(price):\n",
    "#     price.fillna(0,inplace=True)\n",
    "#     return price"
   ]
  },
  {
   "cell_type": "code",
   "execution_count": 5,
   "id": "a59762ef",
   "metadata": {
    "execution": {
     "iopub.execute_input": "2022-06-21T01:37:55.303981Z",
     "iopub.status.busy": "2022-06-21T01:37:55.303689Z",
     "iopub.status.idle": "2022-06-21T01:37:55.307429Z",
     "shell.execute_reply": "2022-06-21T01:37:55.306440Z"
    },
    "papermill": {
     "duration": 0.014153,
     "end_time": "2022-06-21T01:37:55.309523",
     "exception": false,
     "start_time": "2022-06-21T01:37:55.295370",
     "status": "completed"
    },
    "tags": []
   },
   "outputs": [],
   "source": [
    "# df_prices = prep_prices(df_prices)\n",
    "# pd.options.display.float_format = '{:,.6g}'.format\n",
    "# df_prices.describe()"
   ]
  },
  {
   "cell_type": "code",
   "execution_count": null,
   "id": "395f9332",
   "metadata": {
    "papermill": {
     "duration": 0.007314,
     "end_time": "2022-06-21T01:37:55.324284",
     "exception": false,
     "start_time": "2022-06-21T01:37:55.316970",
     "status": "completed"
    },
    "tags": []
   },
   "outputs": [],
   "source": []
  },
  {
   "cell_type": "code",
   "execution_count": null,
   "id": "4c0a066a",
   "metadata": {
    "papermill": {
     "duration": 0.007445,
     "end_time": "2022-06-21T01:37:55.339300",
     "exception": false,
     "start_time": "2022-06-21T01:37:55.331855",
     "status": "completed"
    },
    "tags": []
   },
   "outputs": [],
   "source": []
  },
  {
   "cell_type": "code",
   "execution_count": 6,
   "id": "ff2b1701",
   "metadata": {
    "execution": {
     "iopub.execute_input": "2022-06-21T01:37:55.356942Z",
     "iopub.status.busy": "2022-06-21T01:37:55.356133Z",
     "iopub.status.idle": "2022-06-21T01:37:55.361327Z",
     "shell.execute_reply": "2022-06-21T01:37:55.360561Z"
    },
    "papermill": {
     "duration": 0.015871,
     "end_time": "2022-06-21T01:37:55.363120",
     "exception": false,
     "start_time": "2022-06-21T01:37:55.347249",
     "status": "completed"
    },
    "tags": []
   },
   "outputs": [],
   "source": [
    "from datetime import datetime\n",
    "import time\n",
    "\n",
    " # auxiliary function, from datetime to timestamp\n",
    "totimestamp = lambda s: np.int32(time.mktime(datetime.strptime(s, \"%Y-%m-%d\").timetuple()))"
   ]
  },
  {
   "cell_type": "markdown",
   "id": "32c05cb9",
   "metadata": {
    "papermill": {
     "duration": 0.007185,
     "end_time": "2022-06-21T01:37:55.377938",
     "exception": false,
     "start_time": "2022-06-21T01:37:55.370753",
     "status": "completed"
    },
    "tags": []
   },
   "source": [
    "# Data Features\n"
   ]
  },
  {
   "cell_type": "code",
   "execution_count": 7,
   "id": "b4e08743",
   "metadata": {
    "execution": {
     "iopub.execute_input": "2022-06-21T01:37:55.394484Z",
     "iopub.status.busy": "2022-06-21T01:37:55.393969Z",
     "iopub.status.idle": "2022-06-21T01:37:55.414820Z",
     "shell.execute_reply": "2022-06-21T01:37:55.414064Z"
    },
    "papermill": {
     "duration": 0.031117,
     "end_time": "2022-06-21T01:37:55.416700",
     "exception": false,
     "start_time": "2022-06-21T01:37:55.385583",
     "status": "completed"
    },
    "tags": []
   },
   "outputs": [],
   "source": [
    "\n",
    "# define function to compute log returns\n",
    "def log_return(series, periods=1):\n",
    "    return np.log(series).diff(periods=periods)\n",
    "\n",
    "\n",
    "# def fill_the_gaps(df):\n",
    "#     new_df = pd.DataFrame(columns= df.columns)\n",
    "#     for i in range(len(df['SecuritiesCode'].unique())):\n",
    "#         new_df = new_df.append(df[df['SecuritiesCode'] == i].reindex(range(df[df['SecuritiesCode'] == i].index[0],df[df['SecuritiesCode'] == i].index[-1]+60,60),method='pad'))\n",
    "#     new_df.fillna(method = 'pad', inplace = True) \n",
    "#     return new_df\n",
    "\n",
    "\n",
    "def rsiFunc(prices, n=14):\n",
    "    deltas = np.diff(prices)\n",
    "    seed = deltas[:n+1]\n",
    "    up = seed[seed>=0].sum()/n\n",
    "    down = -seed[seed<0].sum()/n\n",
    "    rs = up/down\n",
    "    rsi = np.zeros_like(prices)\n",
    "    rsi[:n] = 100. - 100./(1.+rs)\n",
    "\n",
    "    for i in range(n, len(prices)):\n",
    "        delta = deltas[i-1] # cause the diff is 1 shorter\n",
    "\n",
    "        if delta>0:\n",
    "            upval = delta\n",
    "            downval = 0.\n",
    "        else:\n",
    "            upval = 0.\n",
    "            downval = -delta\n",
    "\n",
    "        up = (up*(n-1) + upval)/n\n",
    "        down = (down*(n-1) + downval)/n\n",
    "\n",
    "        rs = up/down\n",
    "        rsi[i] = 100. - 100./(1.+rs)\n",
    "\n",
    "    return rsi\n",
    "\n",
    "\n",
    "\n",
    "def get_features(df):\n",
    "\n",
    "    df['log_return_5'] = log_return(df['Close'],periods=5)\n",
    "    df['log_return'] = log_return(df['Close'],periods=1)\n",
    "\n",
    "    upper_shadow = lambda asset: asset.High - np.maximum(asset.Close,asset.Open)\n",
    "    lower_shadow = lambda asset: np.minimum(asset.Close,asset.Open)- asset.Low\n",
    "\n",
    "    df['upper_shadow'] = upper_shadow(df)\n",
    "    df['lower_shadow'] = lower_shadow(df)\n",
    "    \n",
    "    df['EMA_21'] = df['Close'].ewm(span=21).mean()\n",
    "    \n",
    "    df['EMA_55'] = df['Close'].ewm(span=55).mean()\n",
    "    \n",
    "    df['EMA_315'] = df['Close'].ewm(span=315).mean()\n",
    "    \n",
    "    df['EMA_825'] = df['Close'].ewm(span=825).mean()\n",
    "    \n",
    "    window = 7\n",
    "    \n",
    "    no_of_std = 2\n",
    "    \n",
    "    df[f'EMA_{window}'] = df['Close'].ewm(span=window).mean()\n",
    "    \n",
    "    df[f'EMA_{window}_std'] = df['Close'].rolling(window=window).std()\n",
    "    \n",
    "    df[f'EMA_{window}_BB_high'] = df[f'EMA_{window}'] + no_of_std * df[f'EMA_{window}_std']\n",
    "    \n",
    "    df[f'MA_{window}MA_BB_low'] = df[f'EMA_{window}'] - no_of_std * df[f'EMA_{window}_std']\n",
    "    \n",
    "    window = 5\n",
    "    \n",
    "    df[f'EMA_{window}'] = df['Close'].ewm(span=window).mean()\n",
    "    \n",
    "    df[f'EMA_{window}_std'] = df['Close'].rolling(window=window).std()\n",
    "    \n",
    "    df[f'EMA_{window}_BB_high'] = df[f'EMA_{window}'] + no_of_std * df[f'EMA_{window}_std']\n",
    "    \n",
    "    df[f'MA_{window}MA_BB_low'] = df[f'EMA_{window}'] - no_of_std * df[f'EMA_{window}_std']\n",
    "    \n",
    "    df['MACD'] = df['EMA_7'] - df['EMA_5']\n",
    "    \n",
    "    \n",
    "    df['rsi_5'] = rsiFunc(df['Close'].values, 5)\n",
    "    \n",
    "    df['rsi_7'] = rsiFunc(df['Close'].values, 7)\n",
    "    \n",
    "    df['rsi_21'] = rsiFunc(df['Close'].values, 21)\n",
    "    \n",
    "    \n",
    "    \n",
    "    #df['VWAP'] = (df['Close'] * df['Volume'])/ df['Volume']\n",
    "\n",
    "    #df['dayofweek'] = df['dt'].dt.dayofweek\n",
    "\n",
    "\n",
    "    \n",
    "    \n",
    "    #df = pd.concat([df, pd.get_dummies(df['Asset_ID'], prefix= 'Asset_')], axis=1)\n",
    "    \n",
    "    df[['log_return_5', 'log_return', 'upper_shadow', 'lower_shadow',\n",
    "       'EMA_21', 'EMA_55', 'EMA_315', 'EMA_825', 'EMA_7', 'EMA_7_std',\n",
    "       'EMA_7_BB_high', 'MA_7MA_BB_low', 'EMA_5', 'EMA_5_std', 'EMA_5_BB_high',\n",
    "       'MA_5MA_BB_low', 'MACD', 'rsi_5', 'rsi_7', 'rsi_21']].astype('float16')\n",
    "    \n",
    "    return df\n",
    "\n"
   ]
  },
  {
   "cell_type": "code",
   "execution_count": 8,
   "id": "ec833ff7",
   "metadata": {
    "execution": {
     "iopub.execute_input": "2022-06-21T01:37:55.433456Z",
     "iopub.status.busy": "2022-06-21T01:37:55.432800Z",
     "iopub.status.idle": "2022-06-21T01:38:07.018362Z",
     "shell.execute_reply": "2022-06-21T01:38:07.017548Z"
    },
    "papermill": {
     "duration": 11.596468,
     "end_time": "2022-06-21T01:38:07.020812",
     "exception": false,
     "start_time": "2022-06-21T01:37:55.424344",
     "status": "completed"
    },
    "tags": []
   },
   "outputs": [
    {
     "name": "stderr",
     "output_type": "stream",
     "text": [
      "/opt/conda/lib/python3.7/site-packages/pandas/core/algorithms.py:1711: RuntimeWarning: invalid value encountered in subtract\n",
      "  out_arr[res_indexer] = op(arr[res_indexer], arr[lag_indexer])\n",
      "/opt/conda/lib/python3.7/site-packages/numpy/lib/function_base.py:1292: RuntimeWarning: invalid value encountered in subtract\n",
      "  a = op(a[slice1], a[slice2])\n"
     ]
    }
   ],
   "source": [
    "df_prices = get_features(df_prices)\n",
    "\n",
    "df_prices = df_prices.replace((np.inf, -np.inf, np.nan), 0).reset_index(drop=True)\n",
    "\n",
    "df_prices = df_prices.fillna(0)"
   ]
  },
  {
   "cell_type": "code",
   "execution_count": null,
   "id": "0bd9bc6f",
   "metadata": {
    "papermill": {
     "duration": 0.006903,
     "end_time": "2022-06-21T01:38:07.035119",
     "exception": false,
     "start_time": "2022-06-21T01:38:07.028216",
     "status": "completed"
    },
    "tags": []
   },
   "outputs": [],
   "source": []
  },
  {
   "cell_type": "code",
   "execution_count": null,
   "id": "21568953",
   "metadata": {
    "papermill": {
     "duration": 0.006774,
     "end_time": "2022-06-21T01:38:07.048963",
     "exception": false,
     "start_time": "2022-06-21T01:38:07.042189",
     "status": "completed"
    },
    "tags": []
   },
   "outputs": [],
   "source": []
  },
  {
   "cell_type": "markdown",
   "id": "096db672",
   "metadata": {
    "papermill": {
     "duration": 0.006789,
     "end_time": "2022-06-21T01:38:07.062613",
     "exception": false,
     "start_time": "2022-06-21T01:38:07.055824",
     "status": "completed"
    },
    "tags": []
   },
   "source": [
    "## Training a Simple Model\n",
    "\n",
    "Xgboost"
   ]
  },
  {
   "cell_type": "code",
   "execution_count": null,
   "id": "5eadbc7d",
   "metadata": {
    "papermill": {
     "duration": 0.006707,
     "end_time": "2022-06-21T01:38:07.076225",
     "exception": false,
     "start_time": "2022-06-21T01:38:07.069518",
     "status": "completed"
    },
    "tags": []
   },
   "outputs": [],
   "source": []
  },
  {
   "cell_type": "code",
   "execution_count": 9,
   "id": "f3215a19",
   "metadata": {
    "execution": {
     "iopub.execute_input": "2022-06-21T01:38:07.091230Z",
     "iopub.status.busy": "2022-06-21T01:38:07.090936Z",
     "iopub.status.idle": "2022-06-21T01:38:08.048021Z",
     "shell.execute_reply": "2022-06-21T01:38:08.047252Z"
    },
    "papermill": {
     "duration": 0.966823,
     "end_time": "2022-06-21T01:38:08.050007",
     "exception": false,
     "start_time": "2022-06-21T01:38:07.083184",
     "status": "completed"
    },
    "tags": []
   },
   "outputs": [],
   "source": [
    "import xgboost as xgb\n",
    "from sklearn.preprocessing import StandardScaler\n",
    "scaler = StandardScaler()"
   ]
  },
  {
   "cell_type": "code",
   "execution_count": 10,
   "id": "ddc8fb91",
   "metadata": {
    "execution": {
     "iopub.execute_input": "2022-06-21T01:38:08.066041Z",
     "iopub.status.busy": "2022-06-21T01:38:08.065323Z",
     "iopub.status.idle": "2022-06-21T01:38:08.070144Z",
     "shell.execute_reply": "2022-06-21T01:38:08.069452Z"
    },
    "papermill": {
     "duration": 0.014295,
     "end_time": "2022-06-21T01:38:08.071713",
     "exception": false,
     "start_time": "2022-06-21T01:38:08.057418",
     "status": "completed"
    },
    "tags": []
   },
   "outputs": [],
   "source": [
    "def model_training(X,y):\n",
    "    # Model training\n",
    "    \n",
    "    model = xgb.XGBRegressor(n_estimators=5000,learning_rate=0.1 , tree_method = 'gpu_hist') \n",
    "    model.fit(X, y)\n",
    "    \n",
    "    return model\n"
   ]
  },
  {
   "cell_type": "code",
   "execution_count": 11,
   "id": "0d39ecc9",
   "metadata": {
    "execution": {
     "iopub.execute_input": "2022-06-21T01:38:08.086464Z",
     "iopub.status.busy": "2022-06-21T01:38:08.086212Z",
     "iopub.status.idle": "2022-06-21T01:38:08.091312Z",
     "shell.execute_reply": "2022-06-21T01:38:08.090633Z"
    },
    "papermill": {
     "duration": 0.014435,
     "end_time": "2022-06-21T01:38:08.093041",
     "exception": false,
     "start_time": "2022-06-21T01:38:08.078606",
     "status": "completed"
    },
    "tags": []
   },
   "outputs": [],
   "source": [
    "scaled_features = ['Open', 'High', 'Low', 'Close', 'Volume','log_return_5', 'log_return', 'upper_shadow', 'lower_shadow',\n",
    "       'EMA_21', 'EMA_55', 'EMA_315', 'EMA_825', 'EMA_7', 'EMA_7_std',\n",
    "       'EMA_7_BB_high', 'MA_7MA_BB_low', 'EMA_5', 'EMA_5_std', 'EMA_5_BB_high',\n",
    "       'MA_5MA_BB_low', 'MACD', 'rsi_5', 'rsi_7', 'rsi_21']\n",
    "features = ['Open', 'High', 'Low', 'Close', 'Volume', 'log_return_5', 'log_return', 'upper_shadow', 'lower_shadow',\n",
    "       'EMA_21', 'EMA_55', 'EMA_315', 'EMA_825', 'EMA_7', 'EMA_7_std',\n",
    "       'EMA_7_BB_high', 'MA_7MA_BB_low', 'EMA_5', 'EMA_5_std', 'EMA_5_BB_high',\n",
    "       'MA_5MA_BB_low', 'MACD', 'rsi_5', 'rsi_7', 'rsi_21']"
   ]
  },
  {
   "cell_type": "code",
   "execution_count": 12,
   "id": "82c33dbc",
   "metadata": {
    "execution": {
     "iopub.execute_input": "2022-06-21T01:38:08.108570Z",
     "iopub.status.busy": "2022-06-21T01:38:08.108053Z",
     "iopub.status.idle": "2022-06-21T01:38:08.168455Z",
     "shell.execute_reply": "2022-06-21T01:38:08.167545Z"
    },
    "papermill": {
     "duration": 0.070212,
     "end_time": "2022-06-21T01:38:08.170557",
     "exception": false,
     "start_time": "2022-06-21T01:38:08.100345",
     "status": "completed"
    },
    "tags": []
   },
   "outputs": [],
   "source": [
    "# Creating endog and exog variables\n",
    "y = df_prices[['Target']]\n",
    "X = df_prices[features]"
   ]
  },
  {
   "cell_type": "code",
   "execution_count": 13,
   "id": "808407de",
   "metadata": {
    "execution": {
     "iopub.execute_input": "2022-06-21T01:38:08.187432Z",
     "iopub.status.busy": "2022-06-21T01:38:08.186768Z",
     "iopub.status.idle": "2022-06-21T01:38:08.498273Z",
     "shell.execute_reply": "2022-06-21T01:38:08.497428Z"
    },
    "papermill": {
     "duration": 0.322625,
     "end_time": "2022-06-21T01:38:08.500865",
     "exception": false,
     "start_time": "2022-06-21T01:38:08.178240",
     "status": "completed"
    },
    "tags": []
   },
   "outputs": [
    {
     "name": "stderr",
     "output_type": "stream",
     "text": [
      "/opt/conda/lib/python3.7/site-packages/pandas/core/frame.py:3678: SettingWithCopyWarning: \n",
      "A value is trying to be set on a copy of a slice from a DataFrame.\n",
      "Try using .loc[row_indexer,col_indexer] = value instead\n",
      "\n",
      "See the caveats in the documentation: https://pandas.pydata.org/pandas-docs/stable/user_guide/indexing.html#returning-a-view-versus-a-copy\n",
      "  self[col] = igetitem(value, i)\n"
     ]
    }
   ],
   "source": [
    "X[scaled_features] = scaler.fit_transform(X[scaled_features])\n"
   ]
  },
  {
   "cell_type": "code",
   "execution_count": null,
   "id": "bd092f2a",
   "metadata": {
    "papermill": {
     "duration": 0.00695,
     "end_time": "2022-06-21T01:38:08.516204",
     "exception": false,
     "start_time": "2022-06-21T01:38:08.509254",
     "status": "completed"
    },
    "tags": []
   },
   "outputs": [],
   "source": []
  },
  {
   "cell_type": "code",
   "execution_count": 14,
   "id": "63a4395a",
   "metadata": {
    "execution": {
     "iopub.execute_input": "2022-06-21T01:38:08.531350Z",
     "iopub.status.busy": "2022-06-21T01:38:08.531060Z",
     "iopub.status.idle": "2022-06-21T01:38:40.241674Z",
     "shell.execute_reply": "2022-06-21T01:38:40.240811Z"
    },
    "papermill": {
     "duration": 31.727861,
     "end_time": "2022-06-21T01:38:40.251122",
     "exception": false,
     "start_time": "2022-06-21T01:38:08.523261",
     "status": "completed"
    },
    "tags": []
   },
   "outputs": [
    {
     "name": "stdout",
     "output_type": "stream",
     "text": [
      "CPU times: user 29.5 s, sys: 667 ms, total: 30.2 s\n",
      "Wall time: 31.7 s\n"
     ]
    }
   ],
   "source": [
    "%%time\n",
    "\n",
    "model_1 = model_training(X,y)"
   ]
  },
  {
   "cell_type": "code",
   "execution_count": 15,
   "id": "8c9acad2",
   "metadata": {
    "execution": {
     "iopub.execute_input": "2022-06-21T01:38:40.268087Z",
     "iopub.status.busy": "2022-06-21T01:38:40.267414Z",
     "iopub.status.idle": "2022-06-21T01:39:28.303364Z",
     "shell.execute_reply": "2022-06-21T01:39:28.302578Z"
    },
    "papermill": {
     "duration": 48.051702,
     "end_time": "2022-06-21T01:39:28.310950",
     "exception": false,
     "start_time": "2022-06-21T01:38:40.259248",
     "status": "completed"
    },
    "tags": []
   },
   "outputs": [
    {
     "data": {
      "text/plain": [
       "0.45721909735415134"
      ]
     },
     "execution_count": 15,
     "metadata": {},
     "output_type": "execute_result"
    }
   ],
   "source": [
    "model_1.score(X,y)"
   ]
  },
  {
   "cell_type": "code",
   "execution_count": 16,
   "id": "8bb1d3df",
   "metadata": {
    "execution": {
     "iopub.execute_input": "2022-06-21T01:39:28.327441Z",
     "iopub.status.busy": "2022-06-21T01:39:28.327068Z",
     "iopub.status.idle": "2022-06-21T01:39:28.330660Z",
     "shell.execute_reply": "2022-06-21T01:39:28.329915Z"
    },
    "papermill": {
     "duration": 0.014074,
     "end_time": "2022-06-21T01:39:28.332319",
     "exception": false,
     "start_time": "2022-06-21T01:39:28.318245",
     "status": "completed"
    },
    "tags": []
   },
   "outputs": [],
   "source": [
    "import pickle"
   ]
  },
  {
   "cell_type": "code",
   "execution_count": 17,
   "id": "3f6fe7c1",
   "metadata": {
    "execution": {
     "iopub.execute_input": "2022-06-21T01:39:28.348155Z",
     "iopub.status.busy": "2022-06-21T01:39:28.347494Z",
     "iopub.status.idle": "2022-06-21T01:39:28.509497Z",
     "shell.execute_reply": "2022-06-21T01:39:28.508528Z"
    },
    "papermill": {
     "duration": 0.172002,
     "end_time": "2022-06-21T01:39:28.511571",
     "exception": false,
     "start_time": "2022-06-21T01:39:28.339569",
     "status": "completed"
    },
    "tags": []
   },
   "outputs": [],
   "source": [
    "# Saving model\n",
    "\n",
    "#Saving the sklearn model\n",
    "\n",
    "filename = 'simple_xgb.sav'\n",
    "pickle.dump(model_1, open(filename, 'wb'))\n",
    "\n",
    "# save in text format\n",
    "model_1.save_model(\"simple_xgb.txt\")"
   ]
  },
  {
   "cell_type": "markdown",
   "id": "800aad43",
   "metadata": {
    "papermill": {
     "duration": 0.007229,
     "end_time": "2022-06-21T01:39:28.526450",
     "exception": false,
     "start_time": "2022-06-21T01:39:28.519221",
     "status": "completed"
    },
    "tags": []
   },
   "source": [
    "# Submission\n"
   ]
  },
  {
   "cell_type": "code",
   "execution_count": 18,
   "id": "67f376fc",
   "metadata": {
    "execution": {
     "iopub.execute_input": "2022-06-21T01:39:28.541925Z",
     "iopub.status.busy": "2022-06-21T01:39:28.541609Z",
     "iopub.status.idle": "2022-06-21T01:39:28.548422Z",
     "shell.execute_reply": "2022-06-21T01:39:28.547551Z"
    },
    "papermill": {
     "duration": 0.01652,
     "end_time": "2022-06-21T01:39:28.550103",
     "exception": false,
     "start_time": "2022-06-21T01:39:28.533583",
     "status": "completed"
    },
    "tags": []
   },
   "outputs": [],
   "source": [
    "# def calc_spread_return_per_day(df, portfolio_size, toprank_weight_ratio):\n",
    "#     \"\"\"\n",
    "#     Args:\n",
    "#         df (pd.DataFrame): predicted results\n",
    "#         portfolio_size (int): # of equities to buy/sell\n",
    "#         toprank_weight_ratio (float): the relative weight of the most highly ranked stock compared to the least.\n",
    "#     Returns:\n",
    "#         (float): spread return\n",
    "#     \"\"\"\n",
    "#     assert df['Rank'].min() == 0\n",
    "#     assert df['Rank'].max() == len(df['Rank']) - 1\n",
    "#     weights = np.linspace(start=toprank_weight_ratio, stop=1, num=portfolio_size)\n",
    "#     purchase = (df.sort_values(by='Rank')['Target'][:portfolio_size] * weights).sum() / weights.mean()\n",
    "#     short = (df.sort_values(by='Rank', ascending=False)['Target'][:portfolio_size] * weights).sum() / weights.mean()\n",
    "#     return purchase - short\n",
    "\n",
    "# def calc_spread_return_sharpe(df: pd.DataFrame, portfolio_size: int = 200, toprank_weight_ratio: float = 2) -> float:\n",
    "#     \"\"\"\n",
    "#     Args:\n",
    "#         df (pd.DataFrame): predicted results\n",
    "#         portfolio_size (int): # of equities to buy/sell\n",
    "#         toprank_weight_ratio (float): the relative weight of the most highly ranked stock compared to the least.\n",
    "#     Returns:\n",
    "#         (float): sharpe ratio\n",
    "#     \"\"\"\n",
    "#     buf = df.groupby('Date').apply(calc_spread_return_per_day, portfolio_size, toprank_weight_ratio)\n",
    "#     sharpe_ratio = buf.mean() / buf.std()\n",
    "#     return sharpe_ratio, buf\n",
    "\n",
    "def add_rank(df, col_name=\"pred\"):\n",
    "    df[\"Rank\"] = df.groupby(\"Date\")[col_name].rank(ascending=False, method=\"first\") - 1 \n",
    "    df[\"Rank\"] = df[\"Rank\"].astype(\"int\")\n",
    "    return df"
   ]
  },
  {
   "cell_type": "code",
   "execution_count": 19,
   "id": "6a751185",
   "metadata": {
    "execution": {
     "iopub.execute_input": "2022-06-21T01:39:28.566267Z",
     "iopub.status.busy": "2022-06-21T01:39:28.566008Z",
     "iopub.status.idle": "2022-06-21T01:39:28.570021Z",
     "shell.execute_reply": "2022-06-21T01:39:28.569314Z"
    },
    "papermill": {
     "duration": 0.01379,
     "end_time": "2022-06-21T01:39:28.571644",
     "exception": false,
     "start_time": "2022-06-21T01:39:28.557854",
     "status": "completed"
    },
    "tags": []
   },
   "outputs": [],
   "source": [
    "# # By Yuike - https://www.kaggle.com/code/ikeppyo/examples-of-higher-scores-than-perfect-predictions\n",
    "\n",
    "# # This function adjusts the predictions so that the daily spread return approaches a certain value.\n",
    "# def adjuster(df):\n",
    "#     def calc_pred(df, x, y, z):\n",
    "#         return df['Target'].where(df['Target'].abs() < x, df['Target'] * y + np.sign(df['Target']) * z)\n",
    "\n",
    "#     def objective(trial, df):\n",
    "#         x = trial.suggest_uniform('x', 0, 0.2)\n",
    "#         y = trial.suggest_uniform('y', 0, 0.1)\n",
    "#         z = trial.suggest_uniform('z', 0, 1e-3)\n",
    "#         df[\"Rank\"] = calc_pred(df, x, y, z).rank(ascending=False, method=\"first\") - 1 \n",
    "#         df[\"Rank\"] = df[\"Rank\"].astype(\"int\")\n",
    "#         return calc_spread_return_per_day(df, 200, 2)\n",
    "    \n",
    "#     def predictor_per_day(df):\n",
    "#         study = optuna.create_study(direction='minimize', sampler=optuna.samplers.TPESampler(seed=2022))\n",
    "#         study.optimize(lambda trial: abs(objective(trial, df) - 10), 10)\n",
    "#         return calc_pred(df, *study.best_params.values())\n",
    "\n",
    "#     return df.groupby(\"Date\").apply(predictor_per_day).reset_index(level=0, drop=True)\n",
    "\n",
    "# def _predictor_base(feature_df):\n",
    "#     return model.predict(feature_df[feats])\n",
    "\n",
    "# def _predictor_with_adjuster(feature_df):\n",
    "#     feature_df[\"Target\"] = model.predict(feature_df[feats])\n",
    "#     return adjuster(feature_df)"
   ]
  },
  {
   "cell_type": "code",
   "execution_count": 20,
   "id": "30b941bd",
   "metadata": {
    "execution": {
     "iopub.execute_input": "2022-06-21T01:39:28.587276Z",
     "iopub.status.busy": "2022-06-21T01:39:28.587015Z",
     "iopub.status.idle": "2022-06-21T01:39:28.590239Z",
     "shell.execute_reply": "2022-06-21T01:39:28.589538Z"
    },
    "papermill": {
     "duration": 0.012886,
     "end_time": "2022-06-21T01:39:28.591908",
     "exception": false,
     "start_time": "2022-06-21T01:39:28.579022",
     "status": "completed"
    },
    "tags": []
   },
   "outputs": [],
   "source": [
    "# predictor = _predictor_with_adjuster"
   ]
  },
  {
   "cell_type": "code",
   "execution_count": 21,
   "id": "0adc3f27",
   "metadata": {
    "execution": {
     "iopub.execute_input": "2022-06-21T01:39:28.608148Z",
     "iopub.status.busy": "2022-06-21T01:39:28.607507Z",
     "iopub.status.idle": "2022-06-21T01:39:29.259037Z",
     "shell.execute_reply": "2022-06-21T01:39:29.258188Z"
    },
    "papermill": {
     "duration": 0.661554,
     "end_time": "2022-06-21T01:39:29.261131",
     "exception": false,
     "start_time": "2022-06-21T01:39:28.599577",
     "status": "completed"
    },
    "tags": []
   },
   "outputs": [
    {
     "name": "stdout",
     "output_type": "stream",
     "text": [
      "This version of the API is not optimized and should not be used to estimate the runtime of your code on the hidden test set.\n"
     ]
    }
   ],
   "source": [
    "import jpx_tokyo_market_prediction\n",
    "\n",
    "\n",
    "env = jpx_tokyo_market_prediction.make_env()   # initialize the environment\n",
    "iter_test = env.iter_test()    # an iterator which loops over the test files\n",
    "for (prices, options, financials, trades, secondary_prices, sample_prediction) in iter_test:\n",
    "    prices = get_features(prices)\n",
    "    prices = prices.replace((np.inf, -np.inf, np.nan), 0).reset_index(drop=True)\n",
    "    prices = prices.fillna(0)\n",
    "    prices[scaled_features] = scaler.fit_transform(prices[scaled_features])\n",
    "    prices['pred'] = model_1.predict(prices[features])\n",
    "    prices = add_rank(prices)\n",
    "    feature_map = prices.set_index('SecuritiesCode')['Rank'].to_dict()\n",
    "    sample_prediction['Rank'] = sample_prediction['SecuritiesCode'].map(feature_map)\n",
    "    env.predict(sample_prediction)"
   ]
  },
  {
   "cell_type": "code",
   "execution_count": null,
   "id": "27e74d5b",
   "metadata": {
    "papermill": {
     "duration": 0.007246,
     "end_time": "2022-06-21T01:39:29.276059",
     "exception": false,
     "start_time": "2022-06-21T01:39:29.268813",
     "status": "completed"
    },
    "tags": []
   },
   "outputs": [],
   "source": []
  }
 ],
 "metadata": {
  "kernelspec": {
   "display_name": "Python 3",
   "language": "python",
   "name": "python3"
  },
  "language_info": {
   "codemirror_mode": {
    "name": "ipython",
    "version": 3
   },
   "file_extension": ".py",
   "mimetype": "text/x-python",
   "name": "python",
   "nbconvert_exporter": "python",
   "pygments_lexer": "ipython3",
   "version": "3.7.12"
  },
  "papermill": {
   "default_parameters": {},
   "duration": 124.062915,
   "end_time": "2022-06-21T01:39:30.404500",
   "environment_variables": {},
   "exception": null,
   "input_path": "__notebook__.ipynb",
   "output_path": "__notebook__.ipynb",
   "parameters": {},
   "start_time": "2022-06-21T01:37:26.341585",
   "version": "2.3.4"
  }
 },
 "nbformat": 4,
 "nbformat_minor": 5
}
