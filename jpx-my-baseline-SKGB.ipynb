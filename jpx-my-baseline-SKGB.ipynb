{
 "cells": [
  {
   "cell_type": "code",
   "execution_count": 1,
   "id": "f8745c11",
   "metadata": {
    "_cell_guid": "b1076dfc-b9ad-4769-8c92-a6c4dae69d19",
    "_uuid": "8f2839f25d086af736a60e9eeb907d3b93b6e0e5",
    "execution": {
     "iopub.execute_input": "2022-06-21T01:28:07.454149Z",
     "iopub.status.busy": "2022-06-21T01:28:07.453372Z",
     "iopub.status.idle": "2022-06-21T01:28:07.484176Z",
     "shell.execute_reply": "2022-06-21T01:28:07.483386Z"
    },
    "papermill": {
     "duration": 0.043431,
     "end_time": "2022-06-21T01:28:07.486841",
     "exception": false,
     "start_time": "2022-06-21T01:28:07.443410",
     "status": "completed"
    },
    "tags": []
   },
   "outputs": [
    {
     "name": "stdout",
     "output_type": "stream",
     "text": [
      "/kaggle/input/jpx-tokyo-stock-exchange-prediction/stock_list.csv\n",
      "/kaggle/input/jpx-tokyo-stock-exchange-prediction/example_test_files/sample_submission.csv\n",
      "/kaggle/input/jpx-tokyo-stock-exchange-prediction/example_test_files/options.csv\n",
      "/kaggle/input/jpx-tokyo-stock-exchange-prediction/example_test_files/financials.csv\n",
      "/kaggle/input/jpx-tokyo-stock-exchange-prediction/example_test_files/secondary_stock_prices.csv\n",
      "/kaggle/input/jpx-tokyo-stock-exchange-prediction/example_test_files/trades.csv\n",
      "/kaggle/input/jpx-tokyo-stock-exchange-prediction/example_test_files/stock_prices.csv\n",
      "/kaggle/input/jpx-tokyo-stock-exchange-prediction/jpx_tokyo_market_prediction/competition.cpython-37m-x86_64-linux-gnu.so\n",
      "/kaggle/input/jpx-tokyo-stock-exchange-prediction/jpx_tokyo_market_prediction/__init__.py\n",
      "/kaggle/input/jpx-tokyo-stock-exchange-prediction/data_specifications/stock_fin_spec.csv\n",
      "/kaggle/input/jpx-tokyo-stock-exchange-prediction/data_specifications/trades_spec.csv\n",
      "/kaggle/input/jpx-tokyo-stock-exchange-prediction/data_specifications/stock_price_spec.csv\n",
      "/kaggle/input/jpx-tokyo-stock-exchange-prediction/data_specifications/options_spec.csv\n",
      "/kaggle/input/jpx-tokyo-stock-exchange-prediction/data_specifications/stock_list_spec.csv\n",
      "/kaggle/input/jpx-tokyo-stock-exchange-prediction/train_files/options.csv\n",
      "/kaggle/input/jpx-tokyo-stock-exchange-prediction/train_files/financials.csv\n",
      "/kaggle/input/jpx-tokyo-stock-exchange-prediction/train_files/secondary_stock_prices.csv\n",
      "/kaggle/input/jpx-tokyo-stock-exchange-prediction/train_files/trades.csv\n",
      "/kaggle/input/jpx-tokyo-stock-exchange-prediction/train_files/stock_prices.csv\n",
      "/kaggle/input/jpx-tokyo-stock-exchange-prediction/supplemental_files/options.csv\n",
      "/kaggle/input/jpx-tokyo-stock-exchange-prediction/supplemental_files/financials.csv\n",
      "/kaggle/input/jpx-tokyo-stock-exchange-prediction/supplemental_files/secondary_stock_prices.csv\n",
      "/kaggle/input/jpx-tokyo-stock-exchange-prediction/supplemental_files/trades.csv\n",
      "/kaggle/input/jpx-tokyo-stock-exchange-prediction/supplemental_files/stock_prices.csv\n"
     ]
    }
   ],
   "source": [
    "# This Python 3 environment comes with many helpful analytics libraries installed\n",
    "# It is defined by the kaggle/python Docker image: https://github.com/kaggle/docker-python\n",
    "# For example, here's several helpful packages to load\n",
    "\n",
    "import numpy as np # linear algebra\n",
    "import pandas as pd # data processing, CSV file I/O (e.g. pd.read_csv)\n",
    "\n",
    "# Input data files are available in the read-only \"../input/\" directory\n",
    "# For example, running this (by clicking run or pressing Shift+Enter) will list all files under the input directory\n",
    "\n",
    "import os\n",
    "for dirname, _, filenames in os.walk('/kaggle/input'):\n",
    "    for filename in filenames:\n",
    "        print(os.path.join(dirname, filename))\n",
    "\n",
    "# You can write up to 20GB to the current directory (/kaggle/working/) th\n",
    "#at gets preserved as output when you create a version using \"Save & Run All\" \n",
    "# You can also write temporary files to /kaggle/temp/, but they won't be saved outside of the current session"
   ]
  },
  {
   "cell_type": "markdown",
   "id": "2bade55c",
   "metadata": {
    "papermill": {
     "duration": 0.006787,
     "end_time": "2022-06-21T01:28:07.502328",
     "exception": false,
     "start_time": "2022-06-21T01:28:07.495541",
     "status": "completed"
    },
    "tags": []
   },
   "source": [
    "# Here starts my Baseline\n",
    "\n",
    "Ideas:\n",
    "\n",
    "1  - Feature engeneering- Basic and effective;\n",
    "\n",
    "2 - Gradient Boosting Regressions;\n",
    "\n",
    "3 - Neuronets Regressions; and\n",
    "\n",
    "4 - Submission.\n",
    "\n"
   ]
  },
  {
   "cell_type": "markdown",
   "id": "d2ebf9d7",
   "metadata": {
    "papermill": {
     "duration": 0.00711,
     "end_time": "2022-06-21T01:28:07.517081",
     "exception": false,
     "start_time": "2022-06-21T01:28:07.509971",
     "status": "completed"
    },
    "tags": []
   },
   "source": [
    "## 1 Feature Engeneering"
   ]
  },
  {
   "cell_type": "code",
   "execution_count": 2,
   "id": "26f195ac",
   "metadata": {
    "execution": {
     "iopub.execute_input": "2022-06-21T01:28:07.533753Z",
     "iopub.status.busy": "2022-06-21T01:28:07.533445Z",
     "iopub.status.idle": "2022-06-21T01:28:07.538916Z",
     "shell.execute_reply": "2022-06-21T01:28:07.537445Z"
    },
    "papermill": {
     "duration": 0.01624,
     "end_time": "2022-06-21T01:28:07.541082",
     "exception": false,
     "start_time": "2022-06-21T01:28:07.524842",
     "status": "completed"
    },
    "tags": []
   },
   "outputs": [],
   "source": [
    "def concat_df(df1, df2):\n",
    "    df1 = pd.concat([df1, df2],\n",
    "                    ignore_index=True, sort=False\n",
    "                    ).drop_duplicates([\"RowId\"], keep=\"first\")\n",
    "    return df1"
   ]
  },
  {
   "cell_type": "code",
   "execution_count": 3,
   "id": "663dc252",
   "metadata": {
    "execution": {
     "iopub.execute_input": "2022-06-21T01:28:07.564523Z",
     "iopub.status.busy": "2022-06-21T01:28:07.564002Z",
     "iopub.status.idle": "2022-06-21T01:28:30.497416Z",
     "shell.execute_reply": "2022-06-21T01:28:30.495880Z"
    },
    "papermill": {
     "duration": 22.950061,
     "end_time": "2022-06-21T01:28:30.499899",
     "exception": false,
     "start_time": "2022-06-21T01:28:07.549838",
     "status": "completed"
    },
    "tags": []
   },
   "outputs": [
    {
     "name": "stdout",
     "output_type": "stream",
     "text": [
      "<class 'pandas.core.frame.DataFrame'>\n",
      "Int64Index: 562531 entries, 2288531 to 5189767\n",
      "Data columns (total 12 columns):\n",
      " #   Column            Non-Null Count   Dtype  \n",
      "---  ------            --------------   -----  \n",
      " 0   RowId             562531 non-null  object \n",
      " 1   Date              562531 non-null  object \n",
      " 2   SecuritiesCode    562531 non-null  int8   \n",
      " 3   Open              551404 non-null  float16\n",
      " 4   High              551404 non-null  float16\n",
      " 5   Low               551404 non-null  float16\n",
      " 6   Close             551404 non-null  float16\n",
      " 7   Volume            562531 non-null  int8   \n",
      " 8   AdjustmentFactor  562531 non-null  float16\n",
      " 9   ExpectedDividend  4229 non-null    float16\n",
      " 10  SupervisionFlag   562531 non-null  bool   \n",
      " 11  Target            562445 non-null  float16\n",
      "dtypes: bool(1), float16(7), int8(2), object(2)\n",
      "memory usage: 22.0+ MB\n"
     ]
    }
   ],
   "source": [
    "# For now... use pandas.... \n",
    "#If too heavy use Cudf\n",
    "\n",
    "# For now... just fix the floats\n",
    "dtypes = {\n",
    "'SecuritiesCode' : np.int8,\n",
    "'Open'           :     np.float16,\n",
    "'High'           :     np.float16,\n",
    "'Low'            :     np.float16,\n",
    "'Close'          :     np.float16,\n",
    "'Volume'         :       np.int8,\n",
    "'AdjustmentFactor':    np.float16,\n",
    "'ExpectedDividend':    np.float16,\n",
    "'Target'        :      np.float16\n",
    "}\n",
    "path = \"../input/jpx-tokyo-stock-exchange-prediction/\"\n",
    "df_prices = pd.read_csv(f\"{path}train_files/stock_prices.csv\",dtype = dtypes)\n",
    "prices = pd.read_csv(f\"{path}supplemental_files/stock_prices.csv\",dtype = dtypes)\n",
    "df_prices = concat_df(df_prices, prices)\n",
    "prices = pd.read_csv(f\"{path}train_files/secondary_stock_prices.csv\",dtype = dtypes)\n",
    "df_prices = concat_df(df_prices, prices)\n",
    "prices = pd.read_csv(f\"{path}supplemental_files/secondary_stock_prices.csv\",dtype = dtypes)\n",
    "df_prices = concat_df(df_prices, prices)\n",
    "df_prices = df_prices[df_prices.Date>\"2021-11-01\"]\n",
    "df_prices.info(show_counts=True)"
   ]
  },
  {
   "cell_type": "code",
   "execution_count": 4,
   "id": "9ac4ac34",
   "metadata": {
    "execution": {
     "iopub.execute_input": "2022-06-21T01:28:30.518064Z",
     "iopub.status.busy": "2022-06-21T01:28:30.517135Z",
     "iopub.status.idle": "2022-06-21T01:28:30.521737Z",
     "shell.execute_reply": "2022-06-21T01:28:30.520991Z"
    },
    "papermill": {
     "duration": 0.014943,
     "end_time": "2022-06-21T01:28:30.523622",
     "exception": false,
     "start_time": "2022-06-21T01:28:30.508679",
     "status": "completed"
    },
    "tags": []
   },
   "outputs": [],
   "source": [
    "# def prep_prices(price):\n",
    "#     price.fillna(0,inplace=True)\n",
    "#     return price"
   ]
  },
  {
   "cell_type": "code",
   "execution_count": 5,
   "id": "d9f10c7d",
   "metadata": {
    "execution": {
     "iopub.execute_input": "2022-06-21T01:28:30.541465Z",
     "iopub.status.busy": "2022-06-21T01:28:30.541084Z",
     "iopub.status.idle": "2022-06-21T01:28:30.544730Z",
     "shell.execute_reply": "2022-06-21T01:28:30.543924Z"
    },
    "papermill": {
     "duration": 0.014235,
     "end_time": "2022-06-21T01:28:30.546496",
     "exception": false,
     "start_time": "2022-06-21T01:28:30.532261",
     "status": "completed"
    },
    "tags": []
   },
   "outputs": [],
   "source": [
    "# df_prices = prep_prices(df_prices)\n",
    "# pd.options.display.float_format = '{:,.6g}'.format\n",
    "# df_prices.describe()"
   ]
  },
  {
   "cell_type": "code",
   "execution_count": null,
   "id": "8833bfe5",
   "metadata": {
    "papermill": {
     "duration": 0.007443,
     "end_time": "2022-06-21T01:28:30.561543",
     "exception": false,
     "start_time": "2022-06-21T01:28:30.554100",
     "status": "completed"
    },
    "tags": []
   },
   "outputs": [],
   "source": []
  },
  {
   "cell_type": "code",
   "execution_count": null,
   "id": "ec993a01",
   "metadata": {
    "papermill": {
     "duration": 0.007502,
     "end_time": "2022-06-21T01:28:30.576651",
     "exception": false,
     "start_time": "2022-06-21T01:28:30.569149",
     "status": "completed"
    },
    "tags": []
   },
   "outputs": [],
   "source": []
  },
  {
   "cell_type": "code",
   "execution_count": 6,
   "id": "8ce95825",
   "metadata": {
    "execution": {
     "iopub.execute_input": "2022-06-21T01:28:30.594226Z",
     "iopub.status.busy": "2022-06-21T01:28:30.593273Z",
     "iopub.status.idle": "2022-06-21T01:28:30.597859Z",
     "shell.execute_reply": "2022-06-21T01:28:30.596971Z"
    },
    "papermill": {
     "duration": 0.015604,
     "end_time": "2022-06-21T01:28:30.599693",
     "exception": false,
     "start_time": "2022-06-21T01:28:30.584089",
     "status": "completed"
    },
    "tags": []
   },
   "outputs": [],
   "source": [
    "from datetime import datetime\n",
    "import time\n",
    "\n",
    " # auxiliary function, from datetime to timestamp\n",
    "#totimestamp = lambda s: np.int32(time.mktime(datetime.strptime(s, \"%Y-%m-%d\").timetuple()))"
   ]
  },
  {
   "cell_type": "markdown",
   "id": "c03f687a",
   "metadata": {
    "papermill": {
     "duration": 0.007584,
     "end_time": "2022-06-21T01:28:30.615239",
     "exception": false,
     "start_time": "2022-06-21T01:28:30.607655",
     "status": "completed"
    },
    "tags": []
   },
   "source": [
    "# Data Features\n"
   ]
  },
  {
   "cell_type": "code",
   "execution_count": 7,
   "id": "6d106088",
   "metadata": {
    "execution": {
     "iopub.execute_input": "2022-06-21T01:28:30.632720Z",
     "iopub.status.busy": "2022-06-21T01:28:30.632401Z",
     "iopub.status.idle": "2022-06-21T01:28:30.656593Z",
     "shell.execute_reply": "2022-06-21T01:28:30.655780Z"
    },
    "papermill": {
     "duration": 0.035308,
     "end_time": "2022-06-21T01:28:30.658474",
     "exception": false,
     "start_time": "2022-06-21T01:28:30.623166",
     "status": "completed"
    },
    "tags": []
   },
   "outputs": [],
   "source": [
    "\n",
    "# define function to compute log returns\n",
    "def log_return(series, periods=1):\n",
    "    return np.log(series).diff(periods=periods)\n",
    "\n",
    "\n",
    "# def fill_the_gaps(df):\n",
    "#     new_df = pd.DataFrame(columns= df.columns)\n",
    "#     for i in range(len(df['SecuritiesCode'].unique())):\n",
    "#         new_df = new_df.append(df[df['SecuritiesCode'] == i].reindex(range(df[df['SecuritiesCode'] == i].index[0],df[df['SecuritiesCode'] == i].index[-1]+60,60),method='pad'))\n",
    "#     new_df.fillna(method = 'pad', inplace = True) \n",
    "#     return new_df\n",
    "\n",
    "\n",
    "def rsiFunc(prices, n=14):\n",
    "    deltas = np.diff(prices)\n",
    "    seed = deltas[:n+1]\n",
    "    up = seed[seed>=0].sum()/n\n",
    "    down = -seed[seed<0].sum()/n\n",
    "    rs = up/down\n",
    "    rsi = np.zeros_like(prices)\n",
    "    rsi[:n] = 100. - 100./(1.+rs)\n",
    "\n",
    "    for i in range(n, len(prices)):\n",
    "        delta = deltas[i-1] # cause the diff is 1 shorter\n",
    "\n",
    "        if delta>0:\n",
    "            upval = delta\n",
    "            downval = 0.\n",
    "        else:\n",
    "            upval = 0.\n",
    "            downval = -delta\n",
    "\n",
    "        up = (up*(n-1) + upval)/n\n",
    "        down = (down*(n-1) + downval)/n\n",
    "\n",
    "        rs = up/down\n",
    "        rsi[i] = 100. - 100./(1.+rs)\n",
    "\n",
    "    return rsi\n",
    "\n",
    "\n",
    "\n",
    "def get_features(df):\n",
    "\n",
    "    df['log_return_5'] = log_return(df['Close'],periods=5)\n",
    "    df['log_return'] = log_return(df['Close'],periods=1)\n",
    "\n",
    "    upper_shadow = lambda asset: asset.High - np.maximum(asset.Close,asset.Open)\n",
    "    lower_shadow = lambda asset: np.minimum(asset.Close,asset.Open)- asset.Low\n",
    "\n",
    "    df['upper_shadow'] = upper_shadow(df)\n",
    "    df['lower_shadow'] = lower_shadow(df)\n",
    "    \n",
    "    df['EMA_21'] = df['Close'].ewm(span=21).mean()\n",
    "    \n",
    "    df['EMA_55'] = df['Close'].ewm(span=55).mean()\n",
    "    \n",
    "    df['EMA_315'] = df['Close'].ewm(span=315).mean()\n",
    "    \n",
    "    df['EMA_825'] = df['Close'].ewm(span=825).mean()\n",
    "    \n",
    "    window = 7\n",
    "    \n",
    "    no_of_std = 2\n",
    "    \n",
    "    df[f'EMA_{window}'] = df['Close'].ewm(span=window).mean()\n",
    "    \n",
    "    df[f'EMA_{window}_std'] = df['Close'].rolling(window=window).std()\n",
    "    \n",
    "    df[f'EMA_{window}_BB_high'] = df[f'EMA_{window}'] + no_of_std * df[f'EMA_{window}_std']\n",
    "    \n",
    "    df[f'MA_{window}MA_BB_low'] = df[f'EMA_{window}'] - no_of_std * df[f'EMA_{window}_std']\n",
    "    \n",
    "    window = 5\n",
    "    \n",
    "    df[f'EMA_{window}'] = df['Close'].ewm(span=window).mean()\n",
    "    \n",
    "    df[f'EMA_{window}_std'] = df['Close'].rolling(window=window).std()\n",
    "    \n",
    "    df[f'EMA_{window}_BB_high'] = df[f'EMA_{window}'] + no_of_std * df[f'EMA_{window}_std']\n",
    "    \n",
    "    df[f'MA_{window}MA_BB_low'] = df[f'EMA_{window}'] - no_of_std * df[f'EMA_{window}_std']\n",
    "    \n",
    "    df['MACD'] = df['EMA_7'] - df['EMA_5']\n",
    "    \n",
    "    \n",
    "    df['rsi_5'] = rsiFunc(df['Close'].values, 5)\n",
    "    \n",
    "    df['rsi_7'] = rsiFunc(df['Close'].values, 7)\n",
    "    \n",
    "    df['rsi_21'] = rsiFunc(df['Close'].values, 21)\n",
    "    \n",
    "    df['dayofweek'] = pd.to_datetime(df['Date']).dt.weekday+1\n",
    "    \n",
    "    df['VWAP'] = (df['Close'] * df['Volume'])/ df['Volume']\n",
    "    \n",
    "    \n",
    "    df['OHLCstd'] = df[['Open','Close','High','Low']].std(axis=1)\n",
    "    \n",
    "    df['OHLCskew'] = df[['Open','Close','High','Low']].skew(axis=1)\n",
    "    \n",
    "    df['OHLCkur'] = df[['Open','Close','High','Low']].kurtosis(axis=1)\n",
    "    \n",
    "\n",
    "\n",
    "    \n",
    "    \n",
    "    #df = pd.concat([df, pd.get_dummies(df['Asset_ID'], prefix= 'Asset_')], axis=1)\n",
    "    \n",
    "    df[['log_return_5', 'log_return', 'upper_shadow', 'lower_shadow',\n",
    "       'EMA_21', 'EMA_55', 'EMA_315', 'EMA_825', 'EMA_7', 'EMA_7_std',\n",
    "       'EMA_7_BB_high', 'MA_7MA_BB_low', 'EMA_5', 'EMA_5_std', 'EMA_5_BB_high',\n",
    "       'MA_5MA_BB_low', 'MACD', 'rsi_5', 'rsi_7', 'rsi_21','VWAP','dayofweek','OHLCstd','OHLCskew','OHLCkur']].astype('float16')\n",
    "    \n",
    "    return df\n",
    "\n"
   ]
  },
  {
   "cell_type": "code",
   "execution_count": 8,
   "id": "ac1615d5",
   "metadata": {
    "execution": {
     "iopub.execute_input": "2022-06-21T01:28:30.675468Z",
     "iopub.status.busy": "2022-06-21T01:28:30.675136Z",
     "iopub.status.idle": "2022-06-21T01:28:44.059252Z",
     "shell.execute_reply": "2022-06-21T01:28:44.058347Z"
    },
    "papermill": {
     "duration": 13.394925,
     "end_time": "2022-06-21T01:28:44.061385",
     "exception": false,
     "start_time": "2022-06-21T01:28:30.666460",
     "status": "completed"
    },
    "tags": []
   },
   "outputs": [
    {
     "name": "stderr",
     "output_type": "stream",
     "text": [
      "/opt/conda/lib/python3.7/site-packages/pandas/core/algorithms.py:1711: RuntimeWarning: invalid value encountered in subtract\n",
      "  out_arr[res_indexer] = op(arr[res_indexer], arr[lag_indexer])\n",
      "/opt/conda/lib/python3.7/site-packages/numpy/lib/function_base.py:1292: RuntimeWarning: invalid value encountered in subtract\n",
      "  a = op(a[slice1], a[slice2])\n"
     ]
    }
   ],
   "source": [
    "df_prices = get_features(df_prices)\n",
    "\n",
    "df_prices = df_prices.replace((np.inf, -np.inf, np.nan), 0).reset_index(drop=True)\n",
    "\n",
    "df_prices = df_prices.fillna(0)"
   ]
  },
  {
   "cell_type": "code",
   "execution_count": null,
   "id": "42da4ba3",
   "metadata": {
    "papermill": {
     "duration": 0.007599,
     "end_time": "2022-06-21T01:28:44.077021",
     "exception": false,
     "start_time": "2022-06-21T01:28:44.069422",
     "status": "completed"
    },
    "tags": []
   },
   "outputs": [],
   "source": []
  },
  {
   "cell_type": "markdown",
   "id": "2a87a7e1",
   "metadata": {
    "papermill": {
     "duration": 0.007743,
     "end_time": "2022-06-21T01:28:44.092237",
     "exception": false,
     "start_time": "2022-06-21T01:28:44.084494",
     "status": "completed"
    },
    "tags": []
   },
   "source": [
    "## Training a Simple Model\n",
    "\n",
    "Xgboost"
   ]
  },
  {
   "cell_type": "code",
   "execution_count": null,
   "id": "3071590c",
   "metadata": {
    "papermill": {
     "duration": 0.007223,
     "end_time": "2022-06-21T01:28:44.107104",
     "exception": false,
     "start_time": "2022-06-21T01:28:44.099881",
     "status": "completed"
    },
    "tags": []
   },
   "outputs": [],
   "source": []
  },
  {
   "cell_type": "code",
   "execution_count": 9,
   "id": "4fb8e75f",
   "metadata": {
    "execution": {
     "iopub.execute_input": "2022-06-21T01:28:44.123241Z",
     "iopub.status.busy": "2022-06-21T01:28:44.122887Z",
     "iopub.status.idle": "2022-06-21T01:28:45.251601Z",
     "shell.execute_reply": "2022-06-21T01:28:45.250524Z"
    },
    "papermill": {
     "duration": 1.139258,
     "end_time": "2022-06-21T01:28:45.253943",
     "exception": false,
     "start_time": "2022-06-21T01:28:44.114685",
     "status": "completed"
    },
    "tags": []
   },
   "outputs": [],
   "source": [
    "import xgboost as xgb\n",
    "from sklearn.preprocessing import StandardScaler\n",
    "scaler = StandardScaler()"
   ]
  },
  {
   "cell_type": "code",
   "execution_count": 10,
   "id": "8b6a6368",
   "metadata": {
    "execution": {
     "iopub.execute_input": "2022-06-21T01:28:45.271689Z",
     "iopub.status.busy": "2022-06-21T01:28:45.271256Z",
     "iopub.status.idle": "2022-06-21T01:28:45.276331Z",
     "shell.execute_reply": "2022-06-21T01:28:45.275370Z"
    },
    "papermill": {
     "duration": 0.016173,
     "end_time": "2022-06-21T01:28:45.278505",
     "exception": false,
     "start_time": "2022-06-21T01:28:45.262332",
     "status": "completed"
    },
    "tags": []
   },
   "outputs": [],
   "source": [
    "def model_training(X,y):\n",
    "    # Model training\n",
    "    \n",
    "    model = xgb.XGBRegressor(n_estimators=5000,learning_rate=0.1 , tree_method = 'gpu_hist') \n",
    "    model.fit(X, y)\n",
    "    \n",
    "    return model\n"
   ]
  },
  {
   "cell_type": "code",
   "execution_count": 11,
   "id": "aa645e44",
   "metadata": {
    "execution": {
     "iopub.execute_input": "2022-06-21T01:28:45.295283Z",
     "iopub.status.busy": "2022-06-21T01:28:45.294951Z",
     "iopub.status.idle": "2022-06-21T01:28:45.301558Z",
     "shell.execute_reply": "2022-06-21T01:28:45.300603Z"
    },
    "papermill": {
     "duration": 0.017581,
     "end_time": "2022-06-21T01:28:45.303636",
     "exception": false,
     "start_time": "2022-06-21T01:28:45.286055",
     "status": "completed"
    },
    "tags": []
   },
   "outputs": [],
   "source": [
    "scaled_features = ['log_return_5', 'log_return', 'upper_shadow', 'lower_shadow',\n",
    "       'EMA_21', 'EMA_55', 'EMA_315', 'EMA_825', 'EMA_7', 'EMA_7_std',\n",
    "       'EMA_7_BB_high', 'MA_7MA_BB_low', 'EMA_5', 'EMA_5_std', 'EMA_5_BB_high',\n",
    "       'MA_5MA_BB_low', 'MACD', 'rsi_5', 'rsi_7', 'rsi_21','VWAP','OHLCstd','OHLCskew','OHLCkur']\n",
    "features = ['log_return_5', 'log_return', 'upper_shadow', 'lower_shadow',\n",
    "       'EMA_21', 'EMA_55', 'EMA_315', 'EMA_825', 'EMA_7', 'EMA_7_std',\n",
    "       'EMA_7_BB_high', 'MA_7MA_BB_low', 'EMA_5', 'EMA_5_std', 'EMA_5_BB_high',\n",
    "       'MA_5MA_BB_low', 'MACD', 'rsi_5', 'rsi_7', 'rsi_21','VWAP','dayofweek','OHLCstd','OHLCskew','OHLCkur']"
   ]
  },
  {
   "cell_type": "code",
   "execution_count": 12,
   "id": "bceb695b",
   "metadata": {
    "execution": {
     "iopub.execute_input": "2022-06-21T01:28:45.321084Z",
     "iopub.status.busy": "2022-06-21T01:28:45.320731Z",
     "iopub.status.idle": "2022-06-21T01:28:45.388484Z",
     "shell.execute_reply": "2022-06-21T01:28:45.387554Z"
    },
    "papermill": {
     "duration": 0.079097,
     "end_time": "2022-06-21T01:28:45.390766",
     "exception": false,
     "start_time": "2022-06-21T01:28:45.311669",
     "status": "completed"
    },
    "tags": []
   },
   "outputs": [],
   "source": [
    "# Creating endog and exog variables\n",
    "y = df_prices[['Target']]\n",
    "X = df_prices[features]"
   ]
  },
  {
   "cell_type": "code",
   "execution_count": 13,
   "id": "0df9d5ca",
   "metadata": {
    "execution": {
     "iopub.execute_input": "2022-06-21T01:28:45.407522Z",
     "iopub.status.busy": "2022-06-21T01:28:45.407136Z",
     "iopub.status.idle": "2022-06-21T01:28:45.682142Z",
     "shell.execute_reply": "2022-06-21T01:28:45.681307Z"
    },
    "papermill": {
     "duration": 0.286369,
     "end_time": "2022-06-21T01:28:45.684975",
     "exception": false,
     "start_time": "2022-06-21T01:28:45.398606",
     "status": "completed"
    },
    "tags": []
   },
   "outputs": [
    {
     "name": "stderr",
     "output_type": "stream",
     "text": [
      "/opt/conda/lib/python3.7/site-packages/pandas/core/frame.py:3678: SettingWithCopyWarning: \n",
      "A value is trying to be set on a copy of a slice from a DataFrame.\n",
      "Try using .loc[row_indexer,col_indexer] = value instead\n",
      "\n",
      "See the caveats in the documentation: https://pandas.pydata.org/pandas-docs/stable/user_guide/indexing.html#returning-a-view-versus-a-copy\n",
      "  self[col] = igetitem(value, i)\n"
     ]
    }
   ],
   "source": [
    "X[scaled_features] = scaler.fit_transform(X[scaled_features])\n"
   ]
  },
  {
   "cell_type": "code",
   "execution_count": null,
   "id": "2f28deca",
   "metadata": {
    "papermill": {
     "duration": 0.00808,
     "end_time": "2022-06-21T01:28:45.702310",
     "exception": false,
     "start_time": "2022-06-21T01:28:45.694230",
     "status": "completed"
    },
    "tags": []
   },
   "outputs": [],
   "source": []
  },
  {
   "cell_type": "code",
   "execution_count": 14,
   "id": "e343f873",
   "metadata": {
    "execution": {
     "iopub.execute_input": "2022-06-21T01:28:45.720575Z",
     "iopub.status.busy": "2022-06-21T01:28:45.719860Z",
     "iopub.status.idle": "2022-06-21T01:29:17.917875Z",
     "shell.execute_reply": "2022-06-21T01:29:17.913398Z"
    },
    "papermill": {
     "duration": 32.214766,
     "end_time": "2022-06-21T01:29:17.925132",
     "exception": false,
     "start_time": "2022-06-21T01:28:45.710366",
     "status": "completed"
    },
    "tags": []
   },
   "outputs": [
    {
     "name": "stdout",
     "output_type": "stream",
     "text": [
      "CPU times: user 29.8 s, sys: 777 ms, total: 30.6 s\n",
      "Wall time: 32.2 s\n"
     ]
    }
   ],
   "source": [
    "%%time\n",
    "\n",
    "model_1 = model_training(X,y)"
   ]
  },
  {
   "cell_type": "code",
   "execution_count": 15,
   "id": "4b9e812d",
   "metadata": {
    "execution": {
     "iopub.execute_input": "2022-06-21T01:29:17.944116Z",
     "iopub.status.busy": "2022-06-21T01:29:17.943352Z",
     "iopub.status.idle": "2022-06-21T01:30:16.231148Z",
     "shell.execute_reply": "2022-06-21T01:30:16.230291Z"
    },
    "papermill": {
     "duration": 58.304941,
     "end_time": "2022-06-21T01:30:16.239134",
     "exception": false,
     "start_time": "2022-06-21T01:29:17.934193",
     "status": "completed"
    },
    "tags": []
   },
   "outputs": [
    {
     "data": {
      "text/plain": [
       "0.4851005509843277"
      ]
     },
     "execution_count": 15,
     "metadata": {},
     "output_type": "execute_result"
    }
   ],
   "source": [
    "model_1.score(X,y)"
   ]
  },
  {
   "cell_type": "code",
   "execution_count": 16,
   "id": "9a3bb982",
   "metadata": {
    "execution": {
     "iopub.execute_input": "2022-06-21T01:30:16.256330Z",
     "iopub.status.busy": "2022-06-21T01:30:16.255938Z",
     "iopub.status.idle": "2022-06-21T01:30:16.259846Z",
     "shell.execute_reply": "2022-06-21T01:30:16.259145Z"
    },
    "papermill": {
     "duration": 0.014195,
     "end_time": "2022-06-21T01:30:16.261557",
     "exception": false,
     "start_time": "2022-06-21T01:30:16.247362",
     "status": "completed"
    },
    "tags": []
   },
   "outputs": [],
   "source": [
    "import pickle"
   ]
  },
  {
   "cell_type": "code",
   "execution_count": 17,
   "id": "84597291",
   "metadata": {
    "execution": {
     "iopub.execute_input": "2022-06-21T01:30:16.278295Z",
     "iopub.status.busy": "2022-06-21T01:30:16.277706Z",
     "iopub.status.idle": "2022-06-21T01:30:16.455170Z",
     "shell.execute_reply": "2022-06-21T01:30:16.454363Z"
    },
    "papermill": {
     "duration": 0.188607,
     "end_time": "2022-06-21T01:30:16.457869",
     "exception": false,
     "start_time": "2022-06-21T01:30:16.269262",
     "status": "completed"
    },
    "tags": []
   },
   "outputs": [],
   "source": [
    "# Saving model\n",
    "\n",
    "#Saving the sklearn model\n",
    "\n",
    "filename = 'simple_xgb.sav'\n",
    "pickle.dump(model_1, open(filename, 'wb'))\n",
    "\n",
    "# save in text format\n",
    "model_1.save_model(\"simple_xgb.txt\")"
   ]
  },
  {
   "cell_type": "markdown",
   "id": "109c6925",
   "metadata": {
    "papermill": {
     "duration": 0.007488,
     "end_time": "2022-06-21T01:30:16.472840",
     "exception": false,
     "start_time": "2022-06-21T01:30:16.465352",
     "status": "completed"
    },
    "tags": []
   },
   "source": [
    "# Submission\n"
   ]
  },
  {
   "cell_type": "code",
   "execution_count": 18,
   "id": "d19925d8",
   "metadata": {
    "execution": {
     "iopub.execute_input": "2022-06-21T01:30:16.488859Z",
     "iopub.status.busy": "2022-06-21T01:30:16.488552Z",
     "iopub.status.idle": "2022-06-21T01:30:16.494757Z",
     "shell.execute_reply": "2022-06-21T01:30:16.493846Z"
    },
    "papermill": {
     "duration": 0.016247,
     "end_time": "2022-06-21T01:30:16.496487",
     "exception": false,
     "start_time": "2022-06-21T01:30:16.480240",
     "status": "completed"
    },
    "tags": []
   },
   "outputs": [],
   "source": [
    "# def calc_spread_return_per_day(df, portfolio_size, toprank_weight_ratio):\n",
    "#     \"\"\"\n",
    "#     Args:\n",
    "#         df (pd.DataFrame): predicted results\n",
    "#         portfolio_size (int): # of equities to buy/sell\n",
    "#         toprank_weight_ratio (float): the relative weight of the most highly ranked stock compared to the least.\n",
    "#     Returns:\n",
    "#         (float): spread return\n",
    "#     \"\"\"\n",
    "#     assert df['Rank'].min() == 0\n",
    "#     assert df['Rank'].max() == len(df['Rank']) - 1\n",
    "#     weights = np.linspace(start=toprank_weight_ratio, stop=1, num=portfolio_size)\n",
    "#     purchase = (df.sort_values(by='Rank')['Target'][:portfolio_size] * weights).sum() / weights.mean()\n",
    "#     short = (df.sort_values(by='Rank', ascending=False)['Target'][:portfolio_size] * weights).sum() / weights.mean()\n",
    "#     return purchase - short\n",
    "\n",
    "# def calc_spread_return_sharpe(df: pd.DataFrame, portfolio_size: int = 200, toprank_weight_ratio: float = 2) -> float:\n",
    "#     \"\"\"\n",
    "#     Args:\n",
    "#         df (pd.DataFrame): predicted results\n",
    "#         portfolio_size (int): # of equities to buy/sell\n",
    "#         toprank_weight_ratio (float): the relative weight of the most highly ranked stock compared to the least.\n",
    "#     Returns:\n",
    "#         (float): sharpe ratio\n",
    "#     \"\"\"\n",
    "#     buf = df.groupby('Date').apply(calc_spread_return_per_day, portfolio_size, toprank_weight_ratio)\n",
    "#     sharpe_ratio = buf.mean() / buf.std()\n",
    "#     return sharpe_ratio, buf\n",
    "\n",
    "def add_rank(df, col_name=\"pred\"):\n",
    "    df[\"Rank\"] = df.groupby(\"Date\")[col_name].rank(ascending=False, method=\"first\") - 1 \n",
    "    df[\"Rank\"] = df[\"Rank\"].astype(\"int\")\n",
    "    return df"
   ]
  },
  {
   "cell_type": "code",
   "execution_count": 19,
   "id": "d257ac27",
   "metadata": {
    "execution": {
     "iopub.execute_input": "2022-06-21T01:30:16.514056Z",
     "iopub.status.busy": "2022-06-21T01:30:16.513764Z",
     "iopub.status.idle": "2022-06-21T01:30:16.518301Z",
     "shell.execute_reply": "2022-06-21T01:30:16.517490Z"
    },
    "papermill": {
     "duration": 0.015534,
     "end_time": "2022-06-21T01:30:16.520052",
     "exception": false,
     "start_time": "2022-06-21T01:30:16.504518",
     "status": "completed"
    },
    "tags": []
   },
   "outputs": [],
   "source": [
    "# # By Yuike - https://www.kaggle.com/code/ikeppyo/examples-of-higher-scores-than-perfect-predictions\n",
    "\n",
    "# # This function adjusts the predictions so that the daily spread return approaches a certain value.\n",
    "# def adjuster(df):\n",
    "#     def calc_pred(df, x, y, z):\n",
    "#         return df['Target'].where(df['Target'].abs() < x, df['Target'] * y + np.sign(df['Target']) * z)\n",
    "\n",
    "#     def objective(trial, df):\n",
    "#         x = trial.suggest_uniform('x', 0, 0.2)\n",
    "#         y = trial.suggest_uniform('y', 0, 0.1)\n",
    "#         z = trial.suggest_uniform('z', 0, 1e-3)\n",
    "#         df[\"Rank\"] = calc_pred(df, x, y, z).rank(ascending=False, method=\"first\") - 1 \n",
    "#         df[\"Rank\"] = df[\"Rank\"].astype(\"int\")\n",
    "#         return calc_spread_return_per_day(df, 200, 2)\n",
    "    \n",
    "#     def predictor_per_day(df):\n",
    "#         study = optuna.create_study(direction='minimize', sampler=optuna.samplers.TPESampler(seed=2022))\n",
    "#         study.optimize(lambda trial: abs(objective(trial, df) - 10), 10)\n",
    "#         return calc_pred(df, *study.best_params.values())\n",
    "\n",
    "#     return df.groupby(\"Date\").apply(predictor_per_day).reset_index(level=0, drop=True)\n",
    "\n",
    "# def _predictor_base(feature_df):\n",
    "#     return model.predict(feature_df[feats])\n",
    "\n",
    "# def _predictor_with_adjuster(feature_df):\n",
    "#     feature_df[\"Target\"] = model.predict(feature_df[feats])\n",
    "#     return adjuster(feature_df)"
   ]
  },
  {
   "cell_type": "code",
   "execution_count": 20,
   "id": "3b05a62e",
   "metadata": {
    "execution": {
     "iopub.execute_input": "2022-06-21T01:30:16.536948Z",
     "iopub.status.busy": "2022-06-21T01:30:16.536620Z",
     "iopub.status.idle": "2022-06-21T01:30:16.540126Z",
     "shell.execute_reply": "2022-06-21T01:30:16.539356Z"
    },
    "papermill": {
     "duration": 0.014048,
     "end_time": "2022-06-21T01:30:16.541999",
     "exception": false,
     "start_time": "2022-06-21T01:30:16.527951",
     "status": "completed"
    },
    "tags": []
   },
   "outputs": [],
   "source": [
    "# predictor = _predictor_with_adjuster"
   ]
  },
  {
   "cell_type": "code",
   "execution_count": 21,
   "id": "9f36967d",
   "metadata": {
    "execution": {
     "iopub.execute_input": "2022-06-21T01:30:16.559463Z",
     "iopub.status.busy": "2022-06-21T01:30:16.558700Z",
     "iopub.status.idle": "2022-06-21T01:30:17.355549Z",
     "shell.execute_reply": "2022-06-21T01:30:17.354448Z"
    },
    "papermill": {
     "duration": 0.808062,
     "end_time": "2022-06-21T01:30:17.358048",
     "exception": false,
     "start_time": "2022-06-21T01:30:16.549986",
     "status": "completed"
    },
    "tags": []
   },
   "outputs": [
    {
     "name": "stdout",
     "output_type": "stream",
     "text": [
      "This version of the API is not optimized and should not be used to estimate the runtime of your code on the hidden test set.\n"
     ]
    }
   ],
   "source": [
    "import jpx_tokyo_market_prediction\n",
    "\n",
    "\n",
    "env = jpx_tokyo_market_prediction.make_env()   # initialize the environment\n",
    "iter_test = env.iter_test()    # an iterator which loops over the test files\n",
    "for (prices, options, financials, trades, secondary_prices, sample_prediction) in iter_test:\n",
    "    prices = get_features(prices)\n",
    "    prices = prices.replace((np.inf, -np.inf, np.nan), 0).reset_index(drop=True)\n",
    "    prices = prices.fillna(0)\n",
    "    prices[scaled_features] = scaler.fit_transform(prices[scaled_features])\n",
    "    prices['pred'] = model_1.predict(prices[features])\n",
    "    prices = add_rank(prices)\n",
    "    feature_map = prices.set_index('SecuritiesCode')['Rank'].to_dict()\n",
    "    sample_prediction['Rank'] = sample_prediction['SecuritiesCode'].map(feature_map)\n",
    "    env.predict(sample_prediction)"
   ]
  },
  {
   "cell_type": "code",
   "execution_count": null,
   "id": "02b9970d",
   "metadata": {
    "papermill": {
     "duration": 0.007826,
     "end_time": "2022-06-21T01:30:17.374207",
     "exception": false,
     "start_time": "2022-06-21T01:30:17.366381",
     "status": "completed"
    },
    "tags": []
   },
   "outputs": [],
   "source": []
  }
 ],
 "metadata": {
  "kernelspec": {
   "display_name": "Python 3",
   "language": "python",
   "name": "python3"
  },
  "language_info": {
   "codemirror_mode": {
    "name": "ipython",
    "version": 3
   },
   "file_extension": ".py",
   "mimetype": "text/x-python",
   "name": "python",
   "nbconvert_exporter": "python",
   "pygments_lexer": "ipython3",
   "version": "3.7.12"
  },
  "papermill": {
   "default_parameters": {},
   "duration": 140.376762,
   "end_time": "2022-06-21T01:30:18.704687",
   "environment_variables": {},
   "exception": null,
   "input_path": "__notebook__.ipynb",
   "output_path": "__notebook__.ipynb",
   "parameters": {},
   "start_time": "2022-06-21T01:27:58.327925",
   "version": "2.3.4"
  }
 },
 "nbformat": 4,
 "nbformat_minor": 5
}
