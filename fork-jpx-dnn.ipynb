{
 "cells": [
  {
   "cell_type": "markdown",
   "id": "22f0c157",
   "metadata": {
    "papermill": {
     "duration": 0.038316,
     "end_time": "2022-07-03T17:43:41.542045",
     "exception": false,
     "start_time": "2022-07-03T17:43:41.503729",
     "status": "completed"
    },
    "tags": []
   },
   "source": [
    "# Overview"
   ]
  },
  {
   "cell_type": "markdown",
   "id": "afeb7ea0",
   "metadata": {
    "papermill": {
     "duration": 0.038116,
     "end_time": "2022-07-03T17:43:41.618128",
     "exception": false,
     "start_time": "2022-07-03T17:43:41.580012",
     "status": "completed"
    },
    "tags": []
   },
   "source": []
  },
  {
   "cell_type": "markdown",
   "id": "8a0fbf70",
   "metadata": {
    "papermill": {
     "duration": 0.037812,
     "end_time": "2022-07-03T17:43:41.692847",
     "exception": false,
     "start_time": "2022-07-03T17:43:41.655035",
     "status": "completed"
    },
    "tags": []
   },
   "source": [
    "# Preprocessing\n",
    "### Imports"
   ]
  },
  {
   "cell_type": "code",
   "execution_count": 1,
   "id": "4d124f05",
   "metadata": {
    "_cell_guid": "b1076dfc-b9ad-4769-8c92-a6c4dae69d19",
    "_uuid": "8f2839f25d086af736a60e9eeb907d3b93b6e0e5",
    "execution": {
     "iopub.execute_input": "2022-07-03T17:43:41.778613Z",
     "iopub.status.busy": "2022-07-03T17:43:41.777559Z",
     "iopub.status.idle": "2022-07-03T17:43:49.269751Z",
     "shell.execute_reply": "2022-07-03T17:43:49.269008Z",
     "shell.execute_reply.started": "2022-07-03T17:10:49.121188Z"
    },
    "papermill": {
     "duration": 7.539417,
     "end_time": "2022-07-03T17:43:49.269982",
     "exception": false,
     "start_time": "2022-07-03T17:43:41.730565",
     "status": "completed"
    },
    "tags": []
   },
   "outputs": [],
   "source": [
    "import numpy as np\n",
    "import pandas as pd\n",
    "import jpx_tokyo_market_prediction\n",
    "\n",
    "from sklearn.model_selection import StratifiedKFold\n",
    "from sklearn.metrics import mean_squared_error\n",
    "from sklearn.preprocessing import OrdinalEncoder\n",
    "\n",
    "import tensorflow as tf\n",
    "import tensorflow.keras.layers as L\n",
    "import tensorflow.keras.models as M\n",
    "import tensorflow.keras.backend as K\n",
    "from tensorflow.keras.callbacks import ReduceLROnPlateau, ModelCheckpoint, EarlyStopping\n",
    "\n",
    "import warnings\n",
    "warnings.filterwarnings(\"ignore\")"
   ]
  },
  {
   "cell_type": "code",
   "execution_count": 2,
   "id": "d7e3e8c6",
   "metadata": {
    "execution": {
     "iopub.execute_input": "2022-07-03T17:43:49.350059Z",
     "iopub.status.busy": "2022-07-03T17:43:49.348876Z",
     "iopub.status.idle": "2022-07-03T17:43:49.351393Z",
     "shell.execute_reply": "2022-07-03T17:43:49.352011Z",
     "shell.execute_reply.started": "2022-07-03T17:10:57.529301Z"
    },
    "papermill": {
     "duration": 0.04569,
     "end_time": "2022-07-03T17:43:49.352196",
     "exception": false,
     "start_time": "2022-07-03T17:43:49.306506",
     "status": "completed"
    },
    "tags": []
   },
   "outputs": [],
   "source": [
    "def concat_df(df1, df2):\n",
    "    df1 = pd.concat([df1, df2],\n",
    "                    ignore_index=True, sort=False\n",
    "                    ).drop_duplicates([\"RowId\"], keep=\"first\")\n",
    "    return df1"
   ]
  },
  {
   "cell_type": "code",
   "execution_count": 3,
   "id": "d5729f68",
   "metadata": {
    "execution": {
     "iopub.execute_input": "2022-07-03T17:43:49.432461Z",
     "iopub.status.busy": "2022-07-03T17:43:49.431320Z",
     "iopub.status.idle": "2022-07-03T17:44:14.291621Z",
     "shell.execute_reply": "2022-07-03T17:44:14.292591Z",
     "shell.execute_reply.started": "2022-07-03T17:10:57.759955Z"
    },
    "papermill": {
     "duration": 24.903222,
     "end_time": "2022-07-03T17:44:14.292885",
     "exception": false,
     "start_time": "2022-07-03T17:43:49.389663",
     "status": "completed"
    },
    "tags": []
   },
   "outputs": [
    {
     "name": "stdout",
     "output_type": "stream",
     "text": [
      "<class 'pandas.core.frame.DataFrame'>\n",
      "Int64Index: 5271570 entries, 0 to 5271569\n",
      "Data columns (total 12 columns):\n",
      " #   Column            Non-Null Count    Dtype  \n",
      "---  ------            --------------    -----  \n",
      " 0   RowId             5271570 non-null  object \n",
      " 1   Date              5271570 non-null  object \n",
      " 2   SecuritiesCode    5271570 non-null  int16  \n",
      " 3   Open              5160744 non-null  float16\n",
      " 4   High              5160744 non-null  float16\n",
      " 5   Low               5160744 non-null  float16\n",
      " 6   Close             5160744 non-null  float16\n",
      " 7   Volume            5271570 non-null  int8   \n",
      " 8   AdjustmentFactor  5271570 non-null  float16\n",
      " 9   ExpectedDividend  41373 non-null    float16\n",
      " 10  SupervisionFlag   5271570 non-null  bool   \n",
      " 11  Target            5270524 non-null  float16\n",
      "dtypes: bool(1), float16(7), int16(1), int8(1), object(2)\n",
      "memory usage: 211.1+ MB\n"
     ]
    }
   ],
   "source": [
    "# For now... use pandas.... \n",
    "#If too heavy use Cudf\n",
    "\n",
    "# For now... just fix the floats\n",
    "dtypes = {\n",
    "'SecuritiesCode' :     np.int16,\n",
    "'Open'           :     np.float16,\n",
    "'High'           :     np.float16,\n",
    "'Low'            :     np.float16,\n",
    "'Close'          :     np.float16,\n",
    "'Volume'         :       np.int8,\n",
    "'AdjustmentFactor':    np.float16,\n",
    "'ExpectedDividend':    np.float16,\n",
    "'Target'        :      np.float16\n",
    "}\n",
    "path = \"../input/jpx-tokyo-stock-exchange-prediction/\"\n",
    "df_prices = pd.read_csv(f\"{path}train_files/stock_prices.csv\",dtype = dtypes)\n",
    "prices = pd.read_csv(f\"{path}supplemental_files/stock_prices.csv\",dtype = dtypes)\n",
    "df_prices = concat_df(df_prices, prices)\n",
    "prices = pd.read_csv(f\"{path}train_files/secondary_stock_prices.csv\",dtype = dtypes)\n",
    "df_prices = concat_df(df_prices, prices)\n",
    "prices = pd.read_csv(f\"{path}supplemental_files/secondary_stock_prices.csv\",dtype = dtypes)\n",
    "df_prices = concat_df(df_prices, prices)\n",
    "#df_prices = df_prices[df_prices.Date<\"2021-11-01\"]\n",
    "df_prices.info(show_counts=True)\n",
    "\n",
    "prices = df_prices"
   ]
  },
  {
   "cell_type": "markdown",
   "id": "b7e598a7",
   "metadata": {
    "papermill": {
     "duration": 0.037037,
     "end_time": "2022-07-03T17:44:14.370075",
     "exception": false,
     "start_time": "2022-07-03T17:44:14.333038",
     "status": "completed"
    },
    "tags": []
   },
   "source": [
    "### Handle Nulls"
   ]
  },
  {
   "cell_type": "code",
   "execution_count": 4,
   "id": "4ce26968",
   "metadata": {
    "execution": {
     "iopub.execute_input": "2022-07-03T17:44:14.600948Z",
     "iopub.status.busy": "2022-07-03T17:44:14.599461Z",
     "iopub.status.idle": "2022-07-03T17:44:17.701222Z",
     "shell.execute_reply": "2022-07-03T17:44:17.702232Z",
     "shell.execute_reply.started": "2022-07-03T17:11:18.752990Z"
    },
    "papermill": {
     "duration": 3.293036,
     "end_time": "2022-07-03T17:44:17.702466",
     "exception": false,
     "start_time": "2022-07-03T17:44:14.409430",
     "status": "completed"
    },
    "tags": []
   },
   "outputs": [
    {
     "data": {
      "text/plain": [
       "RowId               0\n",
       "Date                0\n",
       "SecuritiesCode      0\n",
       "Open                0\n",
       "High                0\n",
       "Low                 0\n",
       "Close               0\n",
       "Volume              0\n",
       "AdjustmentFactor    0\n",
       "SupervisionFlag     0\n",
       "Target              0\n",
       "dtype: int64"
      ]
     },
     "execution_count": 4,
     "metadata": {},
     "output_type": "execute_result"
    }
   ],
   "source": [
    "prices = prices.drop(\"ExpectedDividend\", axis=1)\n",
    "prices = prices.dropna()\n",
    "prices.isnull().sum()"
   ]
  },
  {
   "cell_type": "markdown",
   "id": "445ef519",
   "metadata": {
    "papermill": {
     "duration": 0.037981,
     "end_time": "2022-07-03T17:44:17.778830",
     "exception": false,
     "start_time": "2022-07-03T17:44:17.740849",
     "status": "completed"
    },
    "tags": []
   },
   "source": [
    "### Cross Validation Split"
   ]
  },
  {
   "cell_type": "code",
   "execution_count": 5,
   "id": "488994fa",
   "metadata": {
    "execution": {
     "iopub.execute_input": "2022-07-03T17:44:17.862607Z",
     "iopub.status.busy": "2022-07-03T17:44:17.860922Z",
     "iopub.status.idle": "2022-07-03T17:44:17.863513Z",
     "shell.execute_reply": "2022-07-03T17:44:17.864016Z",
     "shell.execute_reply.started": "2022-07-03T17:11:21.754432Z"
    },
    "papermill": {
     "duration": 0.048294,
     "end_time": "2022-07-03T17:44:17.864199",
     "exception": false,
     "start_time": "2022-07-03T17:44:17.815905",
     "status": "completed"
    },
    "tags": []
   },
   "outputs": [],
   "source": [
    "def setup_cv(df, splits=5):\n",
    "    df['fold'] = -1\n",
    "    df = df.sample(frac=1, random_state=42).reset_index(drop=True)\n",
    "    num_bins = int(np.floor(1 + np.log2(len(df))))\n",
    "    df.loc[:, \"bins\"] = pd.cut(\n",
    "        df[\"Target\"], bins=num_bins, labels=False\n",
    "    )\n",
    "\n",
    "    kf = StratifiedKFold(n_splits=splits)\n",
    "    for f, (t_, v_) in enumerate(kf.split(X=df, y=df.bins.values)):\n",
    "            df.loc[v_, 'fold'] = f\n",
    "\n",
    "    df = df.drop(\"bins\", axis=1)\n",
    "    return df"
   ]
  },
  {
   "cell_type": "code",
   "execution_count": 6,
   "id": "f0e9abed",
   "metadata": {
    "execution": {
     "iopub.execute_input": "2022-07-03T17:44:17.946229Z",
     "iopub.status.busy": "2022-07-03T17:44:17.944951Z",
     "iopub.status.idle": "2022-07-03T17:44:24.109228Z",
     "shell.execute_reply": "2022-07-03T17:44:24.109771Z",
     "shell.execute_reply.started": "2022-07-03T17:11:21.763933Z"
    },
    "papermill": {
     "duration": 6.208231,
     "end_time": "2022-07-03T17:44:24.109961",
     "exception": false,
     "start_time": "2022-07-03T17:44:17.901730",
     "status": "completed"
    },
    "tags": []
   },
   "outputs": [],
   "source": [
    "prices = setup_cv(prices)"
   ]
  },
  {
   "cell_type": "markdown",
   "id": "f2c711eb",
   "metadata": {
    "papermill": {
     "duration": 0.037778,
     "end_time": "2022-07-03T17:44:24.186995",
     "exception": false,
     "start_time": "2022-07-03T17:44:24.149217",
     "status": "completed"
    },
    "tags": []
   },
   "source": [
    "## Feature Engeneering"
   ]
  },
  {
   "cell_type": "code",
   "execution_count": 7,
   "id": "37f3a4cf",
   "metadata": {
    "execution": {
     "iopub.execute_input": "2022-07-03T17:44:24.268335Z",
     "iopub.status.busy": "2022-07-03T17:44:24.267166Z",
     "iopub.status.idle": "2022-07-03T17:44:24.270027Z",
     "shell.execute_reply": "2022-07-03T17:44:24.270636Z",
     "shell.execute_reply.started": "2022-07-03T17:11:26.854497Z"
    },
    "papermill": {
     "duration": 0.046021,
     "end_time": "2022-07-03T17:44:24.270801",
     "exception": false,
     "start_time": "2022-07-03T17:44:24.224780",
     "status": "completed"
    },
    "tags": []
   },
   "outputs": [],
   "source": [
    "from datetime import datetime\n",
    "import time\n",
    "\n",
    " # auxiliary function, from datetime to timestamp\n",
    "totimestamp = lambda s: np.int32(time.mktime(datetime.strptime(s, \"%Y-%m-%d\").timetuple()))"
   ]
  },
  {
   "cell_type": "code",
   "execution_count": 8,
   "id": "7b1044fb",
   "metadata": {
    "execution": {
     "iopub.execute_input": "2022-07-03T17:44:24.359155Z",
     "iopub.status.busy": "2022-07-03T17:44:24.357737Z",
     "iopub.status.idle": "2022-07-03T17:44:24.361531Z",
     "shell.execute_reply": "2022-07-03T17:44:24.360924Z",
     "shell.execute_reply.started": "2022-07-03T17:11:26.862402Z"
    },
    "papermill": {
     "duration": 0.053018,
     "end_time": "2022-07-03T17:44:24.361673",
     "exception": false,
     "start_time": "2022-07-03T17:44:24.308655",
     "status": "completed"
    },
    "tags": []
   },
   "outputs": [],
   "source": [
    "# define function to compute log returns\n",
    "# def log_return(series, periods=1):\n",
    "#     return np.log(series).diff(periods=periods)\n",
    "\n",
    "\n",
    "# # def fill_the_gaps(df):\n",
    "# #     new_df = pd.DataFrame(columns= df.columns)\n",
    "# #     for i in range(len(df['SecuritiesCode'].unique())):\n",
    "# #         new_df = new_df.append(df[df['SecuritiesCode'] == i].reindex(range(df[df['SecuritiesCode'] == i].index[0],df[df['SecuritiesCode'] == i].index[-1]+60,60),method='pad'))\n",
    "# #     new_df.fillna(method = 'pad', inplace = True) \n",
    "# #     return new_df\n",
    "\n",
    "\n",
    "# def rsiFunc(prices, n=14):\n",
    "#     deltas = np.diff(prices)\n",
    "#     seed = deltas[:n+1]\n",
    "#     up = seed[seed>=0].sum()/n\n",
    "#     down = -seed[seed<0].sum()/n\n",
    "#     rs = up/down\n",
    "#     rsi = np.zeros_like(prices)\n",
    "#     rsi[:n] = 100. - 100./(1.+rs)\n",
    "\n",
    "#     for i in range(n, len(prices)):\n",
    "#         delta = deltas[i-1] # cause the diff is 1 shorter\n",
    "\n",
    "#         if delta>0:\n",
    "#             upval = delta\n",
    "#             downval = 0.\n",
    "#         else:\n",
    "#             upval = 0.\n",
    "#             downval = -delta\n",
    "\n",
    "#         up = (up*(n-1) + upval)/n\n",
    "#         down = (down*(n-1) + downval)/n\n",
    "\n",
    "#         rs = up/down\n",
    "#         rsi[i] = 100. - 100./(1.+rs)\n",
    "\n",
    "#     return rsi\n",
    "\n",
    "\n",
    "\n",
    "def get_features(df):\n",
    "\n",
    "#     df['log_return_5'] = log_return(df['Close'],periods=5)\n",
    "#     df['log_return'] = log_return(df['Close'],periods=1)\n",
    "\n",
    "    upper_shadow = lambda asset: asset.High - np.maximum(asset.Close,asset.Open)\n",
    "    lower_shadow = lambda asset: np.minimum(asset.Close,asset.Open)- asset.Low\n",
    "\n",
    "    df['upper_shadow'] = upper_shadow(df)\n",
    "    df['lower_shadow'] = lower_shadow(df)\n",
    "    \n",
    "#     df['EMA_21'] = df['Close'].ewm(span=21).mean()\n",
    "    \n",
    "#     df['EMA_55'] = df['Close'].ewm(span=55).mean()\n",
    "    \n",
    "#     df['EMA_315'] = df['Close'].ewm(span=315).mean()\n",
    "    \n",
    "#     df['EMA_825'] = df['Close'].ewm(span=825).mean()\n",
    "    \n",
    "#     window = 7\n",
    "    \n",
    "#     no_of_std = 2\n",
    "    \n",
    "#     df[f'EMA_{window}'] = df['Close'].ewm(span=window).mean()\n",
    "    \n",
    "#     df[f'EMA_{window}_std'] = df['Close'].rolling(window=window).std()\n",
    "    \n",
    "#     df[f'EMA_{window}_BB_high'] = df[f'EMA_{window}'] + no_of_std * df[f'EMA_{window}_std']\n",
    "    \n",
    "#     df[f'MA_{window}MA_BB_low'] = df[f'EMA_{window}'] - no_of_std * df[f'EMA_{window}_std']\n",
    "    \n",
    "#     window = 5\n",
    "    \n",
    "#     df[f'EMA_{window}'] = df['Close'].ewm(span=window).mean()\n",
    "    \n",
    "#     df[f'EMA_{window}_std'] = df['Close'].rolling(window=window).std()\n",
    "    \n",
    "#     df[f'EMA_{window}_BB_high'] = df[f'EMA_{window}'] + no_of_std * df[f'EMA_{window}_std']\n",
    "    \n",
    "#     df[f'MA_{window}MA_BB_low'] = df[f'EMA_{window}'] - no_of_std * df[f'EMA_{window}_std']\n",
    "    \n",
    "#     df['MACD'] = df['EMA_7'] - df['EMA_5']\n",
    "    \n",
    "    \n",
    "#     df['rsi_5'] = rsiFunc(df['Close'].values, 5)\n",
    "    \n",
    "#     df['rsi_7'] = rsiFunc(df['Close'].values, 7)\n",
    "    \n",
    "#     df['rsi_21'] = rsiFunc(df['Close'].values, 21)\n",
    "    \n",
    "    \n",
    "    \n",
    "    df['VWAP'] = (df['Close'] * df['Volume'])/ df['Volume']\n",
    "\n",
    "\n",
    "\n",
    "\n",
    "    \n",
    "    \n",
    "    #df = pd.concat([df, pd.get_dummies(df['Asset_ID'], prefix= 'Asset_')], axis=1)\n",
    "    \n",
    "    df[[ 'upper_shadow', 'lower_shadow','VWAP']].astype('float16')\n",
    "    \n",
    "    return df"
   ]
  },
  {
   "cell_type": "code",
   "execution_count": 9,
   "id": "ad827873",
   "metadata": {
    "execution": {
     "iopub.execute_input": "2022-07-03T17:44:24.443317Z",
     "iopub.status.busy": "2022-07-03T17:44:24.441477Z",
     "iopub.status.idle": "2022-07-03T17:44:37.038884Z",
     "shell.execute_reply": "2022-07-03T17:44:37.037920Z",
     "shell.execute_reply.started": "2022-07-03T17:11:26.891768Z"
    },
    "papermill": {
     "duration": 12.640074,
     "end_time": "2022-07-03T17:44:37.039067",
     "exception": false,
     "start_time": "2022-07-03T17:44:24.398993",
     "status": "completed"
    },
    "tags": []
   },
   "outputs": [],
   "source": [
    "prices = get_features(prices)\n",
    "\n",
    "prices = prices.replace((np.inf, -np.inf, np.nan), 0).reset_index(drop=True)\n",
    "\n",
    "prices = prices.fillna(0)"
   ]
  },
  {
   "cell_type": "code",
   "execution_count": 10,
   "id": "5d3a2112",
   "metadata": {
    "execution": {
     "iopub.execute_input": "2022-07-03T17:44:37.121080Z",
     "iopub.status.busy": "2022-07-03T17:44:37.120185Z",
     "iopub.status.idle": "2022-07-03T17:44:37.124684Z",
     "shell.execute_reply": "2022-07-03T17:44:37.124028Z",
     "shell.execute_reply.started": "2022-07-03T17:11:36.943293Z"
    },
    "papermill": {
     "duration": 0.048213,
     "end_time": "2022-07-03T17:44:37.124823",
     "exception": false,
     "start_time": "2022-07-03T17:44:37.076610",
     "status": "completed"
    },
    "tags": []
   },
   "outputs": [],
   "source": [
    "\n",
    "from sklearn.preprocessing import StandardScaler\n",
    "scaler = StandardScaler()"
   ]
  },
  {
   "cell_type": "code",
   "execution_count": 11,
   "id": "1aaec3ed",
   "metadata": {
    "execution": {
     "iopub.execute_input": "2022-07-03T17:44:37.207599Z",
     "iopub.status.busy": "2022-07-03T17:44:37.206379Z",
     "iopub.status.idle": "2022-07-03T17:44:37.209791Z",
     "shell.execute_reply": "2022-07-03T17:44:37.209224Z",
     "shell.execute_reply.started": "2022-07-03T17:11:36.950197Z"
    },
    "papermill": {
     "duration": 0.046677,
     "end_time": "2022-07-03T17:44:37.209947",
     "exception": false,
     "start_time": "2022-07-03T17:44:37.163270",
     "status": "completed"
    },
    "tags": []
   },
   "outputs": [],
   "source": [
    "scaled_features = ['Open', 'High', 'Low', 'Close', 'Volume', 'upper_shadow', 'lower_shadow','VWAP']\n",
    "features = [\"SecuritiesCode\",'Open', 'High', 'Low', 'Close', 'Volume', 'upper_shadow', 'lower_shadow','VWAP']"
   ]
  },
  {
   "cell_type": "code",
   "execution_count": null,
   "id": "0de6c287",
   "metadata": {
    "papermill": {
     "duration": 0.036971,
     "end_time": "2022-07-03T17:44:37.283447",
     "exception": false,
     "start_time": "2022-07-03T17:44:37.246476",
     "status": "completed"
    },
    "tags": []
   },
   "outputs": [],
   "source": []
  },
  {
   "cell_type": "code",
   "execution_count": 12,
   "id": "12f02378",
   "metadata": {
    "execution": {
     "iopub.execute_input": "2022-07-03T17:44:37.702075Z",
     "iopub.status.busy": "2022-07-03T17:44:37.700838Z",
     "iopub.status.idle": "2022-07-03T17:44:39.675155Z",
     "shell.execute_reply": "2022-07-03T17:44:39.674054Z",
     "shell.execute_reply.started": "2022-07-03T17:11:36.960502Z"
    },
    "papermill": {
     "duration": 2.354194,
     "end_time": "2022-07-03T17:44:39.675307",
     "exception": false,
     "start_time": "2022-07-03T17:44:37.321113",
     "status": "completed"
    },
    "tags": []
   },
   "outputs": [],
   "source": [
    "prices[scaled_features] = scaler.fit_transform(prices[scaled_features])"
   ]
  },
  {
   "cell_type": "markdown",
   "id": "605cce12",
   "metadata": {
    "papermill": {
     "duration": 0.037311,
     "end_time": "2022-07-03T17:44:39.750052",
     "exception": false,
     "start_time": "2022-07-03T17:44:39.712741",
     "status": "completed"
    },
    "tags": []
   },
   "source": [
    "### Ordinal Encode Securities Code"
   ]
  },
  {
   "cell_type": "code",
   "execution_count": 13,
   "id": "80bc1c2e",
   "metadata": {
    "execution": {
     "iopub.execute_input": "2022-07-03T17:44:39.833049Z",
     "iopub.status.busy": "2022-07-03T17:44:39.831573Z",
     "iopub.status.idle": "2022-07-03T17:44:41.278656Z",
     "shell.execute_reply": "2022-07-03T17:44:41.278034Z",
     "shell.execute_reply.started": "2022-07-03T17:11:38.910657Z"
    },
    "papermill": {
     "duration": 1.49154,
     "end_time": "2022-07-03T17:44:41.278812",
     "exception": false,
     "start_time": "2022-07-03T17:44:39.787272",
     "status": "completed"
    },
    "tags": []
   },
   "outputs": [],
   "source": [
    "enc = OrdinalEncoder()\n",
    "prices[\"SecuritiesCode\"] = enc.fit_transform(prices[[\"SecuritiesCode\"]])"
   ]
  },
  {
   "cell_type": "markdown",
   "id": "4b24792e",
   "metadata": {
    "papermill": {
     "duration": 0.037612,
     "end_time": "2022-07-03T17:44:41.353746",
     "exception": false,
     "start_time": "2022-07-03T17:44:41.316134",
     "status": "completed"
    },
    "tags": []
   },
   "source": [
    "# Train Models"
   ]
  },
  {
   "cell_type": "markdown",
   "id": "fed3f958",
   "metadata": {
    "papermill": {
     "duration": 0.037174,
     "end_time": "2022-07-03T17:44:41.427940",
     "exception": false,
     "start_time": "2022-07-03T17:44:41.390766",
     "status": "completed"
    },
    "tags": []
   },
   "source": [
    "### Deep Neural Network"
   ]
  },
  {
   "cell_type": "code",
   "execution_count": 14,
   "id": "09c83b0a",
   "metadata": {
    "execution": {
     "iopub.execute_input": "2022-07-03T17:44:41.522793Z",
     "iopub.status.busy": "2022-07-03T17:44:41.509129Z",
     "iopub.status.idle": "2022-07-03T17:44:41.600418Z",
     "shell.execute_reply": "2022-07-03T17:44:41.599706Z",
     "shell.execute_reply.started": "2022-07-03T17:11:40.280959Z"
    },
    "papermill": {
     "duration": 0.134992,
     "end_time": "2022-07-03T17:44:41.600578",
     "exception": false,
     "start_time": "2022-07-03T17:44:41.465586",
     "status": "completed"
    },
    "tags": []
   },
   "outputs": [],
   "source": [
    "codes = list(prices.SecuritiesCode.unique())\n",
    "codes_size = len(codes)\n",
    "\n",
    "def dense_block(x, units, act='swish', dr=0.2):\n",
    "    x = L.Dropout(dr)(x)\n",
    "    x = L.BatchNormalization()(x)\n",
    "    x = L.Dense(units, activation=act)(x)\n",
    "    return x\n",
    "\n",
    "def get_dnn(dense_blocks):\n",
    "    prices_in = L.Input(shape=(len(scaled_features),), name='input_prices')\n",
    "    x_prices = L.BatchNormalization()(prices_in)\n",
    "    x_prices = L.Dense(64, activation='swish')(x_prices)\n",
    "    \n",
    "    security_code_input = L.Input(shape=(1,), name='input_security_code')\n",
    "    x_id = L.Embedding(codes_size, 32, input_length=1)(security_code_input)\n",
    "    x_id = L.Reshape((-1, ))(x_id)\n",
    "    x_id = L.Dense(32, activation='swish')(x_id)\n",
    "\n",
    "    x = L.Concatenate(axis=1)([x_id, x_prices])\n",
    "    \n",
    "    for units in dense_blocks:\n",
    "        x = dense_block(x, units)\n",
    "    \n",
    "    output = L.Dense(1)(x)\n",
    "    \n",
    "    model = M.Model([prices_in, security_code_input], \n",
    "                    [output])\n",
    "\n",
    "    model.compile(optimizer=tf.optimizers.Adam(lr=0.001),\n",
    "                  loss='mse', metrics=['mse'])\n",
    "    \n",
    "    return model\n",
    "    \n",
    "def train_dnn(prices, folds):\n",
    "    models = list()\n",
    "    \n",
    "    for f in range(folds):\n",
    "        X_train_prices = prices[prices.fold != f][scaled_features]\n",
    "        X_train_id = prices[prices.fold != f][[\"SecuritiesCode\"]]\n",
    "        y_train = prices[prices.fold != f][[\"Target\"]]\n",
    "        X_valid_prices = prices[prices.fold == f][scaled_features]\n",
    "        X_valid_id = prices[prices.fold == f][[\"SecuritiesCode\"]]\n",
    "        y_valid = prices[prices.fold == f][[\"Target\"]]\n",
    "\n",
    "        model = get_dnn([128, 64, 32])\n",
    "        model.fit([X_train_prices, X_train_id], y_train,\n",
    "                   validation_data=([X_valid_prices, X_valid_id], y_valid),\n",
    "                   batch_size=128, epochs=10, verbose=1)\n",
    "\n",
    "        oof_preds = model.predict([X_valid_prices, X_valid_id])\n",
    "        oof_score = np.sqrt(mean_squared_error(y_valid, oof_preds))\n",
    "        print(oof_score)\n",
    "        models.append(model)\n",
    "        # break for speed of training, feel free to train all folds\n",
    "    \n",
    "    return models"
   ]
  },
  {
   "cell_type": "markdown",
   "id": "4b2774db",
   "metadata": {
    "papermill": {
     "duration": 0.037038,
     "end_time": "2022-07-03T17:44:41.675025",
     "exception": false,
     "start_time": "2022-07-03T17:44:41.637987",
     "status": "completed"
    },
    "tags": []
   },
   "source": [
    "### Run - prints rmse for each fold"
   ]
  },
  {
   "cell_type": "code",
   "execution_count": 15,
   "id": "edb92686",
   "metadata": {
    "execution": {
     "iopub.execute_input": "2022-07-03T17:44:41.761610Z",
     "iopub.status.busy": "2022-07-03T17:44:41.760597Z",
     "iopub.status.idle": "2022-07-03T19:19:25.550603Z",
     "shell.execute_reply": "2022-07-03T19:19:25.551161Z",
     "shell.execute_reply.started": "2022-07-03T17:11:40.347973Z"
    },
    "papermill": {
     "duration": 5683.83961,
     "end_time": "2022-07-03T19:19:25.551420",
     "exception": false,
     "start_time": "2022-07-03T17:44:41.711810",
     "status": "completed"
    },
    "tags": []
   },
   "outputs": [
    {
     "name": "stderr",
     "output_type": "stream",
     "text": [
      "2022-07-03 17:44:44.859384: I tensorflow/stream_executor/cuda/cuda_gpu_executor.cc:937] successful NUMA node read from SysFS had negative value (-1), but there must be at least one NUMA node, so returning NUMA node zero\n",
      "2022-07-03 17:44:44.977617: I tensorflow/stream_executor/cuda/cuda_gpu_executor.cc:937] successful NUMA node read from SysFS had negative value (-1), but there must be at least one NUMA node, so returning NUMA node zero\n",
      "2022-07-03 17:44:44.978749: I tensorflow/stream_executor/cuda/cuda_gpu_executor.cc:937] successful NUMA node read from SysFS had negative value (-1), but there must be at least one NUMA node, so returning NUMA node zero\n",
      "2022-07-03 17:44:44.981133: I tensorflow/core/platform/cpu_feature_guard.cc:142] This TensorFlow binary is optimized with oneAPI Deep Neural Network Library (oneDNN) to use the following CPU instructions in performance-critical operations:  AVX2 FMA\n",
      "To enable them in other operations, rebuild TensorFlow with the appropriate compiler flags.\n",
      "2022-07-03 17:44:44.982562: I tensorflow/stream_executor/cuda/cuda_gpu_executor.cc:937] successful NUMA node read from SysFS had negative value (-1), but there must be at least one NUMA node, so returning NUMA node zero\n",
      "2022-07-03 17:44:44.983579: I tensorflow/stream_executor/cuda/cuda_gpu_executor.cc:937] successful NUMA node read from SysFS had negative value (-1), but there must be at least one NUMA node, so returning NUMA node zero\n",
      "2022-07-03 17:44:44.984649: I tensorflow/stream_executor/cuda/cuda_gpu_executor.cc:937] successful NUMA node read from SysFS had negative value (-1), but there must be at least one NUMA node, so returning NUMA node zero\n",
      "2022-07-03 17:44:47.869724: I tensorflow/stream_executor/cuda/cuda_gpu_executor.cc:937] successful NUMA node read from SysFS had negative value (-1), but there must be at least one NUMA node, so returning NUMA node zero\n",
      "2022-07-03 17:44:47.870980: I tensorflow/stream_executor/cuda/cuda_gpu_executor.cc:937] successful NUMA node read from SysFS had negative value (-1), but there must be at least one NUMA node, so returning NUMA node zero\n",
      "2022-07-03 17:44:47.872066: I tensorflow/stream_executor/cuda/cuda_gpu_executor.cc:937] successful NUMA node read from SysFS had negative value (-1), but there must be at least one NUMA node, so returning NUMA node zero\n",
      "2022-07-03 17:44:47.873015: I tensorflow/core/common_runtime/gpu/gpu_device.cc:1510] Created device /job:localhost/replica:0/task:0/device:GPU:0 with 15403 MB memory:  -> device: 0, name: Tesla P100-PCIE-16GB, pci bus id: 0000:00:04.0, compute capability: 6.0\n",
      "2022-07-03 17:44:49.209610: I tensorflow/compiler/mlir/mlir_graph_optimization_pass.cc:185] None of the MLIR Optimization Passes are enabled (registered 2)\n"
     ]
    },
    {
     "name": "stdout",
     "output_type": "stream",
     "text": [
      "Epoch 1/10\n",
      "32251/32251 [==============================] - 283s 9ms/step - loss: 0.0015 - mse: 0.0015 - val_loss: 6.8643e-04 - val_mse: 6.8643e-04\n",
      "Epoch 2/10\n",
      "32251/32251 [==============================] - 287s 9ms/step - loss: 6.8776e-04 - mse: 6.8776e-04 - val_loss: 6.8945e-04 - val_mse: 6.8945e-04\n",
      "Epoch 3/10\n",
      "32251/32251 [==============================] - 282s 9ms/step - loss: 6.8766e-04 - mse: 6.8766e-04 - val_loss: 6.8636e-04 - val_mse: 6.8636e-04\n",
      "Epoch 4/10\n",
      "32251/32251 [==============================] - 278s 9ms/step - loss: 6.8739e-04 - mse: 6.8739e-04 - val_loss: 7.4923e-04 - val_mse: 7.4923e-04\n",
      "Epoch 5/10\n",
      "32251/32251 [==============================] - 275s 9ms/step - loss: 6.8740e-04 - mse: 6.8740e-04 - val_loss: 0.0074 - val_mse: 0.0074\n",
      "Epoch 6/10\n",
      "32251/32251 [==============================] - 282s 9ms/step - loss: 6.8693e-04 - mse: 6.8693e-04 - val_loss: 0.0023 - val_mse: 0.0023\n",
      "Epoch 7/10\n",
      "32251/32251 [==============================] - 273s 8ms/step - loss: 6.8681e-04 - mse: 6.8681e-04 - val_loss: 8.0852e-04 - val_mse: 8.0852e-04\n",
      "Epoch 8/10\n",
      "32251/32251 [==============================] - 270s 8ms/step - loss: 6.8682e-04 - mse: 6.8682e-04 - val_loss: 0.0023 - val_mse: 0.0023\n",
      "Epoch 9/10\n",
      "32251/32251 [==============================] - 274s 8ms/step - loss: 6.8687e-04 - mse: 6.8687e-04 - val_loss: 0.0070 - val_mse: 0.0070\n",
      "Epoch 10/10\n",
      "32251/32251 [==============================] - 274s 8ms/step - loss: 6.8680e-04 - mse: 6.8680e-04 - val_loss: 7.3787e-04 - val_mse: 7.3787e-04\n",
      "0.027163700149534026\n",
      "Epoch 1/10\n",
      "32251/32251 [==============================] - 282s 9ms/step - loss: 0.0021 - mse: 0.0021 - val_loss: 6.8517e-04 - val_mse: 6.8517e-04\n",
      "Epoch 2/10\n",
      "32251/32251 [==============================] - 279s 9ms/step - loss: 6.8872e-04 - mse: 6.8872e-04 - val_loss: 6.8373e-04 - val_mse: 6.8373e-04\n",
      "Epoch 3/10\n",
      "32251/32251 [==============================] - 283s 9ms/step - loss: 6.8816e-04 - mse: 6.8816e-04 - val_loss: 7.1417e-04 - val_mse: 7.1417e-04\n",
      "Epoch 4/10\n",
      "32251/32251 [==============================] - 266s 8ms/step - loss: 6.8754e-04 - mse: 6.8754e-04 - val_loss: 0.1535 - val_mse: 0.1535\n",
      "Epoch 5/10\n",
      "32251/32251 [==============================] - 290s 9ms/step - loss: 6.8745e-04 - mse: 6.8745e-04 - val_loss: 0.0322 - val_mse: 0.0322\n",
      "Epoch 6/10\n",
      "32251/32251 [==============================] - 263s 8ms/step - loss: 6.8745e-04 - mse: 6.8745e-04 - val_loss: 0.0194 - val_mse: 0.0194\n",
      "Epoch 7/10\n",
      "32251/32251 [==============================] - 302s 9ms/step - loss: 6.8744e-04 - mse: 6.8744e-04 - val_loss: 0.0145 - val_mse: 0.0145\n",
      "Epoch 8/10\n",
      "32251/32251 [==============================] - 260s 8ms/step - loss: 6.8749e-04 - mse: 6.8749e-04 - val_loss: 0.0472 - val_mse: 0.0472\n",
      "Epoch 9/10\n",
      "32251/32251 [==============================] - 290s 9ms/step - loss: 6.8737e-04 - mse: 6.8737e-04 - val_loss: 0.0032 - val_mse: 0.0032\n",
      "Epoch 10/10\n",
      "32251/32251 [==============================] - 263s 8ms/step - loss: 6.8730e-04 - mse: 6.8730e-04 - val_loss: 0.0028 - val_mse: 0.0028\n",
      "0.05292783843103313\n"
     ]
    }
   ],
   "source": [
    "dnn_models = train_dnn(prices, 2)"
   ]
  },
  {
   "cell_type": "code",
   "execution_count": 16,
   "id": "5a206a00",
   "metadata": {
    "execution": {
     "iopub.execute_input": "2022-07-03T19:20:47.038013Z",
     "iopub.status.busy": "2022-07-03T19:20:47.036755Z",
     "iopub.status.idle": "2022-07-03T19:20:47.156908Z",
     "shell.execute_reply": "2022-07-03T19:20:47.156148Z",
     "shell.execute_reply.started": "2022-07-03T17:25:45.545533Z"
    },
    "papermill": {
     "duration": 41.439447,
     "end_time": "2022-07-03T19:20:47.157068",
     "exception": false,
     "start_time": "2022-07-03T19:20:05.717621",
     "status": "completed"
    },
    "tags": []
   },
   "outputs": [],
   "source": [
    "# Save model\n",
    "n = 0\n",
    "for model in dnn_models:\n",
    "    n += 1\n",
    "    model.save_weights(f'dnn_{n}.tf')"
   ]
  },
  {
   "cell_type": "code",
   "execution_count": 17,
   "id": "ca75d983",
   "metadata": {
    "execution": {
     "iopub.execute_input": "2022-07-03T19:22:09.885475Z",
     "iopub.status.busy": "2022-07-03T19:22:09.884289Z",
     "iopub.status.idle": "2022-07-03T19:22:09.918128Z",
     "shell.execute_reply": "2022-07-03T19:22:09.917569Z",
     "shell.execute_reply.started": "2022-07-03T17:26:11.654988Z"
    },
    "papermill": {
     "duration": 41.031548,
     "end_time": "2022-07-03T19:22:09.918271",
     "exception": false,
     "start_time": "2022-07-03T19:21:28.886723",
     "status": "completed"
    },
    "tags": []
   },
   "outputs": [
    {
     "data": {
      "text/plain": [
       "3332"
      ]
     },
     "execution_count": 17,
     "metadata": {},
     "output_type": "execute_result"
    }
   ],
   "source": [
    "import gc\n",
    "del model\n",
    "gc.collect()"
   ]
  },
  {
   "cell_type": "code",
   "execution_count": 18,
   "id": "120da303",
   "metadata": {
    "execution": {
     "iopub.execute_input": "2022-07-03T19:23:31.563305Z",
     "iopub.status.busy": "2022-07-03T19:23:31.562202Z",
     "iopub.status.idle": "2022-07-03T19:23:31.724462Z",
     "shell.execute_reply": "2022-07-03T19:23:31.725199Z",
     "shell.execute_reply.started": "2022-07-03T17:32:17.367150Z"
    },
    "papermill": {
     "duration": 41.502015,
     "end_time": "2022-07-03T19:23:31.725487",
     "exception": false,
     "start_time": "2022-07-03T19:22:50.223472",
     "status": "completed"
    },
    "tags": []
   },
   "outputs": [
    {
     "name": "stdout",
     "output_type": "stream",
     "text": [
      "Model: \"model_2\"\n",
      "__________________________________________________________________________________________________\n",
      "Layer (type)                    Output Shape         Param #     Connected to                     \n",
      "==================================================================================================\n",
      "input_security_code (InputLayer [(None, 1)]          0                                            \n",
      "__________________________________________________________________________________________________\n",
      "embedding_2 (Embedding)         (None, 1, 32)        141312      input_security_code[0][0]        \n",
      "__________________________________________________________________________________________________\n",
      "input_prices (InputLayer)       [(None, 8)]          0                                            \n",
      "__________________________________________________________________________________________________\n",
      "reshape_2 (Reshape)             (None, 32)           0           embedding_2[0][0]                \n",
      "__________________________________________________________________________________________________\n",
      "batch_normalization_8 (BatchNor (None, 8)            32          input_prices[0][0]               \n",
      "__________________________________________________________________________________________________\n",
      "dense_13 (Dense)                (None, 32)           1056        reshape_2[0][0]                  \n",
      "__________________________________________________________________________________________________\n",
      "dense_12 (Dense)                (None, 64)           576         batch_normalization_8[0][0]      \n",
      "__________________________________________________________________________________________________\n",
      "concatenate_2 (Concatenate)     (None, 96)           0           dense_13[0][0]                   \n",
      "                                                                 dense_12[0][0]                   \n",
      "__________________________________________________________________________________________________\n",
      "dropout_6 (Dropout)             (None, 96)           0           concatenate_2[0][0]              \n",
      "__________________________________________________________________________________________________\n",
      "batch_normalization_9 (BatchNor (None, 96)           384         dropout_6[0][0]                  \n",
      "__________________________________________________________________________________________________\n",
      "dense_14 (Dense)                (None, 128)          12416       batch_normalization_9[0][0]      \n",
      "__________________________________________________________________________________________________\n",
      "dropout_7 (Dropout)             (None, 128)          0           dense_14[0][0]                   \n",
      "__________________________________________________________________________________________________\n",
      "batch_normalization_10 (BatchNo (None, 128)          512         dropout_7[0][0]                  \n",
      "__________________________________________________________________________________________________\n",
      "dense_15 (Dense)                (None, 64)           8256        batch_normalization_10[0][0]     \n",
      "__________________________________________________________________________________________________\n",
      "dropout_8 (Dropout)             (None, 64)           0           dense_15[0][0]                   \n",
      "__________________________________________________________________________________________________\n",
      "batch_normalization_11 (BatchNo (None, 64)           256         dropout_8[0][0]                  \n",
      "__________________________________________________________________________________________________\n",
      "dense_16 (Dense)                (None, 32)           2080        batch_normalization_11[0][0]     \n",
      "__________________________________________________________________________________________________\n",
      "dense_17 (Dense)                (None, 1)            33          dense_16[0][0]                   \n",
      "==================================================================================================\n",
      "Total params: 166,913\n",
      "Trainable params: 166,321\n",
      "Non-trainable params: 592\n",
      "__________________________________________________________________________________________________\n"
     ]
    }
   ],
   "source": [
    "# Define a simple sequential model\n",
    "model = get_dnn([128, 64, 32])\n",
    "# Display the model's architecture\n",
    "model.summary()"
   ]
  },
  {
   "cell_type": "code",
   "execution_count": 19,
   "id": "21edbab7",
   "metadata": {
    "execution": {
     "iopub.execute_input": "2022-07-03T19:24:52.878035Z",
     "iopub.status.busy": "2022-07-03T19:24:52.876895Z",
     "iopub.status.idle": "2022-07-03T19:24:53.108694Z",
     "shell.execute_reply": "2022-07-03T19:24:53.110342Z",
     "shell.execute_reply.started": "2022-07-03T17:37:12.774586Z"
    },
    "papermill": {
     "duration": 40.45581,
     "end_time": "2022-07-03T19:24:53.110733",
     "exception": false,
     "start_time": "2022-07-03T19:24:12.654923",
     "status": "completed"
    },
    "tags": []
   },
   "outputs": [],
   "source": [
    "models = list()\n",
    "for i in range(1,3):\n",
    "    model.load_weights(f'./dnn_{i}.tf')\n",
    "    models.append(model)"
   ]
  },
  {
   "cell_type": "markdown",
   "id": "05247bf4",
   "metadata": {
    "papermill": {
     "duration": 41.598384,
     "end_time": "2022-07-03T19:26:15.132437",
     "exception": false,
     "start_time": "2022-07-03T19:25:33.534053",
     "status": "completed"
    },
    "tags": []
   },
   "source": [
    "# Make Predictions & Submit"
   ]
  },
  {
   "cell_type": "code",
   "execution_count": 20,
   "id": "3436d3e4",
   "metadata": {
    "execution": {
     "iopub.execute_input": "2022-07-03T19:27:37.540400Z",
     "iopub.status.busy": "2022-07-03T19:27:37.539590Z",
     "iopub.status.idle": "2022-07-03T19:27:39.014172Z",
     "shell.execute_reply": "2022-07-03T19:27:39.015088Z",
     "shell.execute_reply.started": "2022-07-03T17:28:46.804275Z"
    },
    "papermill": {
     "duration": 42.240263,
     "end_time": "2022-07-03T19:27:39.015298",
     "exception": false,
     "start_time": "2022-07-03T19:26:56.775035",
     "status": "completed"
    },
    "tags": []
   },
   "outputs": [
    {
     "name": "stdout",
     "output_type": "stream",
     "text": [
      "This version of the API is not optimized and should not be used to estimate the runtime of your code on the hidden test set.\n"
     ]
    }
   ],
   "source": [
    "env = jpx_tokyo_market_prediction.make_env()\n",
    "iter_test = env.iter_test()\n",
    "\n",
    "for (prices, options, financials, trades, secondary_prices, sample_prediction) in iter_test:\n",
    "    \n",
    "    prices = get_features(prices)\n",
    "    prices = prices.replace((np.inf, -np.inf, np.nan), 0).reset_index(drop=True)\n",
    "    prices = prices.fillna(0)\n",
    "    prices[scaled_features] = scaler.fit_transform(prices[scaled_features])\n",
    "    prices[\"SecuritiesCode\"] = enc.fit_transform(prices[[\"SecuritiesCode\"]])\n",
    "    X_test = prices[features]    \n",
    "    X_test_prices = prices[scaled_features]\n",
    "    X_test_id = prices[[\"SecuritiesCode\"]]\n",
    "    dnn_preds = list()\n",
    "    for model in models:\n",
    "        dnn_preds.append(model.predict([X_test_prices, X_test_id]))    \n",
    "    sample_prediction[\"Prediction\"] = sum(dnn_preds)/len(dnn_preds)   \n",
    "    sample_prediction = sample_prediction.sort_values(by = \"Prediction\", ascending=False)\n",
    "    sample_prediction.Rank = np.arange(0,2000)\n",
    "    sample_prediction = sample_prediction.sort_values(by = \"SecuritiesCode\", ascending=True)\n",
    "    sample_prediction.drop([\"Prediction\"],axis=1)\n",
    "    submission = sample_prediction[[\"Date\",\"SecuritiesCode\",\"Rank\"]]\n",
    "    env.predict(submission)"
   ]
  },
  {
   "cell_type": "code",
   "execution_count": 21,
   "id": "ca4be565",
   "metadata": {
    "execution": {
     "iopub.execute_input": "2022-07-03T19:29:01.721724Z",
     "iopub.status.busy": "2022-07-03T19:29:01.720508Z",
     "iopub.status.idle": "2022-07-03T19:29:01.737596Z",
     "shell.execute_reply": "2022-07-03T19:29:01.738154Z",
     "shell.execute_reply.started": "2022-06-21T01:33:54.88183Z"
    },
    "papermill": {
     "duration": 41.572087,
     "end_time": "2022-07-03T19:29:01.738339",
     "exception": false,
     "start_time": "2022-07-03T19:28:20.166252",
     "status": "completed"
    },
    "tags": []
   },
   "outputs": [
    {
     "data": {
      "text/html": [
       "<div>\n",
       "<style scoped>\n",
       "    .dataframe tbody tr th:only-of-type {\n",
       "        vertical-align: middle;\n",
       "    }\n",
       "\n",
       "    .dataframe tbody tr th {\n",
       "        vertical-align: top;\n",
       "    }\n",
       "\n",
       "    .dataframe thead th {\n",
       "        text-align: right;\n",
       "    }\n",
       "</style>\n",
       "<table border=\"1\" class=\"dataframe\">\n",
       "  <thead>\n",
       "    <tr style=\"text-align: right;\">\n",
       "      <th></th>\n",
       "      <th>Date</th>\n",
       "      <th>SecuritiesCode</th>\n",
       "      <th>Rank</th>\n",
       "    </tr>\n",
       "  </thead>\n",
       "  <tbody>\n",
       "    <tr>\n",
       "      <th>0</th>\n",
       "      <td>2021-12-06</td>\n",
       "      <td>1301</td>\n",
       "      <td>777</td>\n",
       "    </tr>\n",
       "    <tr>\n",
       "      <th>1</th>\n",
       "      <td>2021-12-06</td>\n",
       "      <td>1332</td>\n",
       "      <td>240</td>\n",
       "    </tr>\n",
       "    <tr>\n",
       "      <th>2</th>\n",
       "      <td>2021-12-06</td>\n",
       "      <td>1333</td>\n",
       "      <td>1004</td>\n",
       "    </tr>\n",
       "    <tr>\n",
       "      <th>3</th>\n",
       "      <td>2021-12-06</td>\n",
       "      <td>1375</td>\n",
       "      <td>519</td>\n",
       "    </tr>\n",
       "    <tr>\n",
       "      <th>4</th>\n",
       "      <td>2021-12-06</td>\n",
       "      <td>1376</td>\n",
       "      <td>287</td>\n",
       "    </tr>\n",
       "    <tr>\n",
       "      <th>...</th>\n",
       "      <td>...</td>\n",
       "      <td>...</td>\n",
       "      <td>...</td>\n",
       "    </tr>\n",
       "    <tr>\n",
       "      <th>3995</th>\n",
       "      <td>2021-12-07</td>\n",
       "      <td>9990</td>\n",
       "      <td>343</td>\n",
       "    </tr>\n",
       "    <tr>\n",
       "      <th>3996</th>\n",
       "      <td>2021-12-07</td>\n",
       "      <td>9991</td>\n",
       "      <td>819</td>\n",
       "    </tr>\n",
       "    <tr>\n",
       "      <th>3997</th>\n",
       "      <td>2021-12-07</td>\n",
       "      <td>9993</td>\n",
       "      <td>1315</td>\n",
       "    </tr>\n",
       "    <tr>\n",
       "      <th>3998</th>\n",
       "      <td>2021-12-07</td>\n",
       "      <td>9994</td>\n",
       "      <td>1551</td>\n",
       "    </tr>\n",
       "    <tr>\n",
       "      <th>3999</th>\n",
       "      <td>2021-12-07</td>\n",
       "      <td>9997</td>\n",
       "      <td>1302</td>\n",
       "    </tr>\n",
       "  </tbody>\n",
       "</table>\n",
       "<p>4000 rows × 3 columns</p>\n",
       "</div>"
      ],
      "text/plain": [
       "            Date  SecuritiesCode  Rank\n",
       "0     2021-12-06            1301   777\n",
       "1     2021-12-06            1332   240\n",
       "2     2021-12-06            1333  1004\n",
       "3     2021-12-06            1375   519\n",
       "4     2021-12-06            1376   287\n",
       "...          ...             ...   ...\n",
       "3995  2021-12-07            9990   343\n",
       "3996  2021-12-07            9991   819\n",
       "3997  2021-12-07            9993  1315\n",
       "3998  2021-12-07            9994  1551\n",
       "3999  2021-12-07            9997  1302\n",
       "\n",
       "[4000 rows x 3 columns]"
      ]
     },
     "execution_count": 21,
     "metadata": {},
     "output_type": "execute_result"
    }
   ],
   "source": [
    "pd.read_csv(\"./submission.csv\")"
   ]
  },
  {
   "cell_type": "code",
   "execution_count": null,
   "id": "8791284b",
   "metadata": {
    "execution": {
     "iopub.execute_input": "2022-06-21T01:33:55.749946Z",
     "iopub.status.busy": "2022-06-21T01:33:55.749561Z",
     "iopub.status.idle": "2022-06-21T01:33:55.770911Z",
     "shell.execute_reply": "2022-06-21T01:33:55.769815Z",
     "shell.execute_reply.started": "2022-06-21T01:33:55.749911Z"
    },
    "papermill": {
     "duration": 41.331037,
     "end_time": "2022-07-03T19:30:25.127533",
     "exception": false,
     "start_time": "2022-07-03T19:29:43.796496",
     "status": "completed"
    },
    "tags": []
   },
   "outputs": [],
   "source": []
  },
  {
   "cell_type": "code",
   "execution_count": null,
   "id": "29450ebe",
   "metadata": {
    "execution": {
     "iopub.execute_input": "2022-06-21T01:34:47.976021Z",
     "iopub.status.busy": "2022-06-21T01:34:47.97568Z",
     "iopub.status.idle": "2022-06-21T01:34:48.00281Z",
     "shell.execute_reply": "2022-06-21T01:34:48.001223Z",
     "shell.execute_reply.started": "2022-06-21T01:34:47.975979Z"
    },
    "papermill": {
     "duration": 42.370557,
     "end_time": "2022-07-03T19:31:48.892544",
     "exception": false,
     "start_time": "2022-07-03T19:31:06.521987",
     "status": "completed"
    },
    "tags": []
   },
   "outputs": [],
   "source": []
  },
  {
   "cell_type": "code",
   "execution_count": null,
   "id": "6504e083",
   "metadata": {
    "execution": {
     "iopub.execute_input": "2022-06-21T01:34:26.517072Z",
     "iopub.status.busy": "2022-06-21T01:34:26.516764Z",
     "iopub.status.idle": "2022-06-21T01:34:26.530418Z",
     "shell.execute_reply": "2022-06-21T01:34:26.529367Z",
     "shell.execute_reply.started": "2022-06-21T01:34:26.517041Z"
    },
    "papermill": {
     "duration": 41.03102,
     "end_time": "2022-07-03T19:33:11.584752",
     "exception": false,
     "start_time": "2022-07-03T19:32:30.553732",
     "status": "completed"
    },
    "tags": []
   },
   "outputs": [],
   "source": []
  },
  {
   "cell_type": "code",
   "execution_count": null,
   "id": "4fafccd5",
   "metadata": {
    "papermill": {
     "duration": 42.320913,
     "end_time": "2022-07-03T19:34:35.518488",
     "exception": false,
     "start_time": "2022-07-03T19:33:53.197575",
     "status": "completed"
    },
    "tags": []
   },
   "outputs": [],
   "source": []
  }
 ],
 "metadata": {
  "kernelspec": {
   "display_name": "Python 3",
   "language": "python",
   "name": "python3"
  },
  "language_info": {
   "codemirror_mode": {
    "name": "ipython",
    "version": 3
   },
   "file_extension": ".py",
   "mimetype": "text/x-python",
   "name": "python",
   "nbconvert_exporter": "python",
   "pygments_lexer": "ipython3",
   "version": "3.7.12"
  },
  "papermill": {
   "default_parameters": {},
   "duration": 6710.039904,
   "end_time": "2022-07-03T19:35:20.991099",
   "environment_variables": {},
   "exception": null,
   "input_path": "__notebook__.ipynb",
   "output_path": "__notebook__.ipynb",
   "parameters": {},
   "start_time": "2022-07-03T17:43:30.951195",
   "version": "2.3.3"
  }
 },
 "nbformat": 4,
 "nbformat_minor": 5
}
