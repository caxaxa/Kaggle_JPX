{
 "cells": [
  {
   "cell_type": "markdown",
   "id": "cd09dbc0",
   "metadata": {
    "papermill": {
     "duration": 0.031461,
     "end_time": "2022-07-04T15:52:39.238621",
     "exception": false,
     "start_time": "2022-07-04T15:52:39.207160",
     "status": "completed"
    },
    "tags": []
   },
   "source": [
    "# Overview"
   ]
  },
  {
   "cell_type": "markdown",
   "id": "55871914",
   "metadata": {
    "papermill": {
     "duration": 0.030093,
     "end_time": "2022-07-04T15:52:39.298141",
     "exception": false,
     "start_time": "2022-07-04T15:52:39.268048",
     "status": "completed"
    },
    "tags": []
   },
   "source": []
  },
  {
   "cell_type": "markdown",
   "id": "6a9e94f8",
   "metadata": {
    "papermill": {
     "duration": 0.028393,
     "end_time": "2022-07-04T15:52:39.356820",
     "exception": false,
     "start_time": "2022-07-04T15:52:39.328427",
     "status": "completed"
    },
    "tags": []
   },
   "source": [
    "# Preprocessing\n",
    "### Imports"
   ]
  },
  {
   "cell_type": "code",
   "execution_count": 1,
   "id": "ab3a727e",
   "metadata": {
    "_cell_guid": "b1076dfc-b9ad-4769-8c92-a6c4dae69d19",
    "_uuid": "8f2839f25d086af736a60e9eeb907d3b93b6e0e5",
    "execution": {
     "iopub.execute_input": "2022-07-04T15:52:39.420663Z",
     "iopub.status.busy": "2022-07-04T15:52:39.418840Z",
     "iopub.status.idle": "2022-07-04T15:52:45.573820Z",
     "shell.execute_reply": "2022-07-04T15:52:45.573118Z",
     "shell.execute_reply.started": "2022-07-03T19:57:14.196216Z"
    },
    "papermill": {
     "duration": 6.187855,
     "end_time": "2022-07-04T15:52:45.573985",
     "exception": false,
     "start_time": "2022-07-04T15:52:39.386130",
     "status": "completed"
    },
    "tags": []
   },
   "outputs": [],
   "source": [
    "import numpy as np\n",
    "import pandas as pd\n",
    "import jpx_tokyo_market_prediction\n",
    "\n",
    "from sklearn.model_selection import StratifiedKFold\n",
    "from sklearn.metrics import mean_squared_error\n",
    "from sklearn.preprocessing import OrdinalEncoder\n",
    "\n",
    "import tensorflow as tf\n",
    "import tensorflow.keras.layers as L\n",
    "import tensorflow.keras.models as M\n",
    "import tensorflow.keras.backend as K\n",
    "from tensorflow.keras.callbacks import ReduceLROnPlateau, ModelCheckpoint, EarlyStopping\n",
    "\n",
    "import warnings\n",
    "warnings.filterwarnings(\"ignore\")"
   ]
  },
  {
   "cell_type": "code",
   "execution_count": 2,
   "id": "c68d6e48",
   "metadata": {
    "execution": {
     "iopub.execute_input": "2022-07-04T15:52:45.638562Z",
     "iopub.status.busy": "2022-07-04T15:52:45.637705Z",
     "iopub.status.idle": "2022-07-04T15:52:45.639521Z",
     "shell.execute_reply": "2022-07-04T15:52:45.639973Z",
     "shell.execute_reply.started": "2022-07-03T19:57:24.173943Z"
    },
    "papermill": {
     "duration": 0.036768,
     "end_time": "2022-07-04T15:52:45.640099",
     "exception": false,
     "start_time": "2022-07-04T15:52:45.603331",
     "status": "completed"
    },
    "tags": []
   },
   "outputs": [],
   "source": [
    "def concat_df(df1, df2):\n",
    "    df1 = pd.concat([df1, df2],\n",
    "                    ignore_index=True, sort=False\n",
    "                    ).drop_duplicates([\"RowId\"], keep=\"first\")\n",
    "    return df1"
   ]
  },
  {
   "cell_type": "code",
   "execution_count": 3,
   "id": "a7b3300c",
   "metadata": {
    "execution": {
     "iopub.execute_input": "2022-07-04T15:52:45.704483Z",
     "iopub.status.busy": "2022-07-04T15:52:45.703908Z",
     "iopub.status.idle": "2022-07-04T15:53:06.695971Z",
     "shell.execute_reply": "2022-07-04T15:53:06.695323Z",
     "shell.execute_reply.started": "2022-07-03T19:57:25.642183Z"
    },
    "papermill": {
     "duration": 21.027805,
     "end_time": "2022-07-04T15:53:06.696132",
     "exception": false,
     "start_time": "2022-07-04T15:52:45.668327",
     "status": "completed"
    },
    "tags": []
   },
   "outputs": [
    {
     "name": "stdout",
     "output_type": "stream",
     "text": [
      "<class 'pandas.core.frame.DataFrame'>\n",
      "Int64Index: 5271570 entries, 0 to 5271569\n",
      "Data columns (total 12 columns):\n",
      " #   Column            Non-Null Count    Dtype  \n",
      "---  ------            --------------    -----  \n",
      " 0   RowId             5271570 non-null  object \n",
      " 1   Date              5271570 non-null  object \n",
      " 2   SecuritiesCode    5271570 non-null  int16  \n",
      " 3   Open              5160744 non-null  float16\n",
      " 4   High              5160744 non-null  float16\n",
      " 5   Low               5160744 non-null  float16\n",
      " 6   Close             5160744 non-null  float16\n",
      " 7   Volume            5271570 non-null  int8   \n",
      " 8   AdjustmentFactor  5271570 non-null  float16\n",
      " 9   ExpectedDividend  41373 non-null    float16\n",
      " 10  SupervisionFlag   5271570 non-null  bool   \n",
      " 11  Target            5270524 non-null  float16\n",
      "dtypes: bool(1), float16(7), int16(1), int8(1), object(2)\n",
      "memory usage: 211.1+ MB\n"
     ]
    }
   ],
   "source": [
    "# For now... use pandas.... \n",
    "#If too heavy use Cudf\n",
    "\n",
    "# For now... just fix the floats\n",
    "dtypes = {\n",
    "'SecuritiesCode' :     np.int16,\n",
    "'Open'           :     np.float16,\n",
    "'High'           :     np.float16,\n",
    "'Low'            :     np.float16,\n",
    "'Close'          :     np.float16,\n",
    "'Volume'         :       np.int8,\n",
    "'AdjustmentFactor':    np.float16,\n",
    "'ExpectedDividend':    np.float16,\n",
    "'Target'        :      np.float16\n",
    "}\n",
    "path = \"../input/jpx-tokyo-stock-exchange-prediction/\"\n",
    "df_prices = pd.read_csv(f\"{path}train_files/stock_prices.csv\",dtype = dtypes)\n",
    "prices = pd.read_csv(f\"{path}supplemental_files/stock_prices.csv\",dtype = dtypes)\n",
    "df_prices = concat_df(df_prices, prices)\n",
    "prices = pd.read_csv(f\"{path}train_files/secondary_stock_prices.csv\",dtype = dtypes)\n",
    "df_prices = concat_df(df_prices, prices)\n",
    "prices = pd.read_csv(f\"{path}supplemental_files/secondary_stock_prices.csv\",dtype = dtypes)\n",
    "df_prices = concat_df(df_prices, prices)\n",
    "#df_prices = df_prices[df_prices.Date<\"2021-11-01\"]\n",
    "df_prices.info(show_counts=True)\n",
    "\n",
    "prices = df_prices"
   ]
  },
  {
   "cell_type": "code",
   "execution_count": 4,
   "id": "56cd4745",
   "metadata": {
    "execution": {
     "iopub.execute_input": "2022-07-04T15:53:07.013236Z",
     "iopub.status.busy": "2022-07-04T15:53:07.012312Z",
     "iopub.status.idle": "2022-07-04T15:53:07.020602Z",
     "shell.execute_reply": "2022-07-04T15:53:07.021273Z"
    },
    "papermill": {
     "duration": 0.276222,
     "end_time": "2022-07-04T15:53:07.021478",
     "exception": false,
     "start_time": "2022-07-04T15:53:06.745256",
     "status": "completed"
    },
    "tags": []
   },
   "outputs": [
    {
     "data": {
      "text/plain": [
       "43"
      ]
     },
     "execution_count": 4,
     "metadata": {},
     "output_type": "execute_result"
    }
   ],
   "source": [
    "import gc\n",
    "\n",
    "del df_prices\n",
    "gc.collect()"
   ]
  },
  {
   "cell_type": "markdown",
   "id": "d61b7a2e",
   "metadata": {
    "papermill": {
     "duration": 0.047873,
     "end_time": "2022-07-04T15:53:07.130919",
     "exception": false,
     "start_time": "2022-07-04T15:53:07.083046",
     "status": "completed"
    },
    "tags": []
   },
   "source": [
    "### Handle Nulls"
   ]
  },
  {
   "cell_type": "code",
   "execution_count": 5,
   "id": "e3eb509b",
   "metadata": {
    "execution": {
     "iopub.execute_input": "2022-07-04T15:53:07.232276Z",
     "iopub.status.busy": "2022-07-04T15:53:07.231671Z",
     "iopub.status.idle": "2022-07-04T15:53:10.567437Z",
     "shell.execute_reply": "2022-07-04T15:53:10.568203Z",
     "shell.execute_reply.started": "2022-07-03T19:57:46.345256Z"
    },
    "papermill": {
     "duration": 3.390211,
     "end_time": "2022-07-04T15:53:10.568365",
     "exception": false,
     "start_time": "2022-07-04T15:53:07.178154",
     "status": "completed"
    },
    "tags": []
   },
   "outputs": [
    {
     "data": {
      "text/plain": [
       "RowId               0\n",
       "Date                0\n",
       "SecuritiesCode      0\n",
       "Open                0\n",
       "High                0\n",
       "Low                 0\n",
       "Close               0\n",
       "Volume              0\n",
       "AdjustmentFactor    0\n",
       "SupervisionFlag     0\n",
       "Target              0\n",
       "dtype: int64"
      ]
     },
     "execution_count": 5,
     "metadata": {},
     "output_type": "execute_result"
    }
   ],
   "source": [
    "prices = prices.drop(\"ExpectedDividend\", axis=1)\n",
    "prices = prices.dropna()\n",
    "prices.isnull().sum()"
   ]
  },
  {
   "cell_type": "markdown",
   "id": "56d99c83",
   "metadata": {
    "papermill": {
     "duration": 0.032738,
     "end_time": "2022-07-04T15:53:10.634818",
     "exception": false,
     "start_time": "2022-07-04T15:53:10.602080",
     "status": "completed"
    },
    "tags": []
   },
   "source": [
    "### Cross Validation Split"
   ]
  },
  {
   "cell_type": "code",
   "execution_count": 6,
   "id": "bb06c93f",
   "metadata": {
    "execution": {
     "iopub.execute_input": "2022-07-04T15:53:10.710383Z",
     "iopub.status.busy": "2022-07-04T15:53:10.709459Z",
     "iopub.status.idle": "2022-07-04T15:53:10.711680Z",
     "shell.execute_reply": "2022-07-04T15:53:10.712274Z",
     "shell.execute_reply.started": "2022-07-03T19:57:49.351393Z"
    },
    "papermill": {
     "duration": 0.04448,
     "end_time": "2022-07-04T15:53:10.712425",
     "exception": false,
     "start_time": "2022-07-04T15:53:10.667945",
     "status": "completed"
    },
    "tags": []
   },
   "outputs": [],
   "source": [
    "def setup_cv(df, splits=5):\n",
    "    df['fold'] = -1\n",
    "    df = df.sample(frac=1, random_state=42).reset_index(drop=True)\n",
    "    num_bins = int(np.floor(1 + np.log2(len(df))))\n",
    "    df.loc[:, \"bins\"] = pd.cut(\n",
    "        df[\"Target\"], bins=num_bins, labels=False\n",
    "    )\n",
    "\n",
    "    kf = StratifiedKFold(n_splits=splits)\n",
    "    for f, (t_, v_) in enumerate(kf.split(X=df, y=df.bins.values)):\n",
    "            df.loc[v_, 'fold'] = f\n",
    "\n",
    "    df = df.drop(\"bins\", axis=1)\n",
    "    return df"
   ]
  },
  {
   "cell_type": "code",
   "execution_count": 7,
   "id": "0dab453d",
   "metadata": {
    "execution": {
     "iopub.execute_input": "2022-07-04T15:53:10.786343Z",
     "iopub.status.busy": "2022-07-04T15:53:10.784455Z",
     "iopub.status.idle": "2022-07-04T15:53:16.207662Z",
     "shell.execute_reply": "2022-07-04T15:53:16.207118Z",
     "shell.execute_reply.started": "2022-07-03T19:57:49.361536Z"
    },
    "papermill": {
     "duration": 5.46175,
     "end_time": "2022-07-04T15:53:16.207846",
     "exception": false,
     "start_time": "2022-07-04T15:53:10.746096",
     "status": "completed"
    },
    "tags": []
   },
   "outputs": [],
   "source": [
    "prices = setup_cv(prices)"
   ]
  },
  {
   "cell_type": "markdown",
   "id": "d81f6a5d",
   "metadata": {
    "papermill": {
     "duration": 0.030198,
     "end_time": "2022-07-04T15:53:16.268539",
     "exception": false,
     "start_time": "2022-07-04T15:53:16.238341",
     "status": "completed"
    },
    "tags": []
   },
   "source": [
    "## Feature Engeneering"
   ]
  },
  {
   "cell_type": "code",
   "execution_count": 8,
   "id": "dbedae6e",
   "metadata": {
    "execution": {
     "iopub.execute_input": "2022-07-04T15:53:16.334287Z",
     "iopub.status.busy": "2022-07-04T15:53:16.333583Z",
     "iopub.status.idle": "2022-07-04T15:53:16.336211Z",
     "shell.execute_reply": "2022-07-04T15:53:16.335781Z",
     "shell.execute_reply.started": "2022-07-03T19:57:54.949657Z"
    },
    "papermill": {
     "duration": 0.037303,
     "end_time": "2022-07-04T15:53:16.336326",
     "exception": false,
     "start_time": "2022-07-04T15:53:16.299023",
     "status": "completed"
    },
    "tags": []
   },
   "outputs": [],
   "source": [
    "from datetime import datetime\n",
    "import time\n",
    "\n",
    " # auxiliary function, from datetime to timestamp\n",
    "totimestamp = lambda s: np.int32(time.mktime(datetime.strptime(s, \"%Y-%m-%d\").timetuple()))"
   ]
  },
  {
   "cell_type": "code",
   "execution_count": 9,
   "id": "683d11a0",
   "metadata": {
    "execution": {
     "iopub.execute_input": "2022-07-04T15:53:16.406554Z",
     "iopub.status.busy": "2022-07-04T15:53:16.405715Z",
     "iopub.status.idle": "2022-07-04T15:53:16.408142Z",
     "shell.execute_reply": "2022-07-04T15:53:16.407686Z",
     "shell.execute_reply.started": "2022-07-03T19:57:54.956004Z"
    },
    "papermill": {
     "duration": 0.041475,
     "end_time": "2022-07-04T15:53:16.408254",
     "exception": false,
     "start_time": "2022-07-04T15:53:16.366779",
     "status": "completed"
    },
    "tags": []
   },
   "outputs": [],
   "source": [
    "# define function to compute log returns\n",
    "# def log_return(series, periods=1):\n",
    "#     return np.log(series).diff(periods=periods)\n",
    "\n",
    "\n",
    "# # def fill_the_gaps(df):\n",
    "# #     new_df = pd.DataFrame(columns= df.columns)\n",
    "# #     for i in range(len(df['SecuritiesCode'].unique())):\n",
    "# #         new_df = new_df.append(df[df['SecuritiesCode'] == i].reindex(range(df[df['SecuritiesCode'] == i].index[0],df[df['SecuritiesCode'] == i].index[-1]+60,60),method='pad'))\n",
    "# #     new_df.fillna(method = 'pad', inplace = True) \n",
    "# #     return new_df\n",
    "\n",
    "\n",
    "# def rsiFunc(prices, n=14):\n",
    "#     deltas = np.diff(prices)\n",
    "#     seed = deltas[:n+1]\n",
    "#     up = seed[seed>=0].sum()/n\n",
    "#     down = -seed[seed<0].sum()/n\n",
    "#     rs = up/down\n",
    "#     rsi = np.zeros_like(prices)\n",
    "#     rsi[:n] = 100. - 100./(1.+rs)\n",
    "\n",
    "#     for i in range(n, len(prices)):\n",
    "#         delta = deltas[i-1] # cause the diff is 1 shorter\n",
    "\n",
    "#         if delta>0:\n",
    "#             upval = delta\n",
    "#             downval = 0.\n",
    "#         else:\n",
    "#             upval = 0.\n",
    "#             downval = -delta\n",
    "\n",
    "#         up = (up*(n-1) + upval)/n\n",
    "#         down = (down*(n-1) + downval)/n\n",
    "\n",
    "#         rs = up/down\n",
    "#         rsi[i] = 100. - 100./(1.+rs)\n",
    "\n",
    "#     return rsi\n",
    "\n",
    "\n",
    "\n",
    "def get_features(df):\n",
    "\n",
    "#     df['log_return_5'] = log_return(df['Close'],periods=5)\n",
    "#     df['log_return'] = log_return(df['Close'],periods=1)\n",
    "\n",
    "    upper_shadow = lambda asset: asset.High - np.maximum(asset.Close,asset.Open)\n",
    "    lower_shadow = lambda asset: np.minimum(asset.Close,asset.Open)- asset.Low\n",
    "\n",
    "    df['upper_shadow'] = upper_shadow(df)\n",
    "    df['lower_shadow'] = lower_shadow(df)\n",
    "    \n",
    "#     df['EMA_21'] = df['Close'].ewm(span=21).mean()\n",
    "    \n",
    "#     df['EMA_55'] = df['Close'].ewm(span=55).mean()\n",
    "    \n",
    "#     df['EMA_315'] = df['Close'].ewm(span=315).mean()\n",
    "    \n",
    "#     df['EMA_825'] = df['Close'].ewm(span=825).mean()\n",
    "    \n",
    "#     window = 7\n",
    "    \n",
    "#     no_of_std = 2\n",
    "    \n",
    "#     df[f'EMA_{window}'] = df['Close'].ewm(span=window).mean()\n",
    "    \n",
    "#     df[f'EMA_{window}_std'] = df['Close'].rolling(window=window).std()\n",
    "    \n",
    "#     df[f'EMA_{window}_BB_high'] = df[f'EMA_{window}'] + no_of_std * df[f'EMA_{window}_std']\n",
    "    \n",
    "#     df[f'MA_{window}MA_BB_low'] = df[f'EMA_{window}'] - no_of_std * df[f'EMA_{window}_std']\n",
    "    \n",
    "#     window = 5\n",
    "    \n",
    "#     df[f'EMA_{window}'] = df['Close'].ewm(span=window).mean()\n",
    "    \n",
    "#     df[f'EMA_{window}_std'] = df['Close'].rolling(window=window).std()\n",
    "    \n",
    "#     df[f'EMA_{window}_BB_high'] = df[f'EMA_{window}'] + no_of_std * df[f'EMA_{window}_std']\n",
    "    \n",
    "#     df[f'MA_{window}MA_BB_low'] = df[f'EMA_{window}'] - no_of_std * df[f'EMA_{window}_std']\n",
    "    \n",
    "#     df['MACD'] = df['EMA_7'] - df['EMA_5']\n",
    "    \n",
    "    \n",
    "#     df['rsi_5'] = rsiFunc(df['Close'].values, 5)\n",
    "    \n",
    "#     df['rsi_7'] = rsiFunc(df['Close'].values, 7)\n",
    "    \n",
    "#     df['rsi_21'] = rsiFunc(df['Close'].values, 21)\n",
    "    \n",
    "    \n",
    "    \n",
    "    df['VWAP'] = (df['Close'] * df['Volume'])/ df['Volume']\n",
    "\n",
    "\n",
    "\n",
    "\n",
    "    \n",
    "    \n",
    "    #df = pd.concat([df, pd.get_dummies(df['Asset_ID'], prefix= 'Asset_')], axis=1)\n",
    "    \n",
    "    df[[ 'upper_shadow', 'lower_shadow','VWAP']].astype('float16')\n",
    "    \n",
    "    return df"
   ]
  },
  {
   "cell_type": "code",
   "execution_count": 10,
   "id": "88438e65",
   "metadata": {
    "execution": {
     "iopub.execute_input": "2022-07-04T15:53:16.473947Z",
     "iopub.status.busy": "2022-07-04T15:53:16.472672Z",
     "iopub.status.idle": "2022-07-04T15:53:26.503710Z",
     "shell.execute_reply": "2022-07-04T15:53:26.502733Z",
     "shell.execute_reply.started": "2022-07-03T19:57:54.981426Z"
    },
    "papermill": {
     "duration": 10.066316,
     "end_time": "2022-07-04T15:53:26.503888",
     "exception": false,
     "start_time": "2022-07-04T15:53:16.437572",
     "status": "completed"
    },
    "tags": []
   },
   "outputs": [],
   "source": [
    "prices = get_features(prices)\n",
    "\n",
    "prices = prices.replace((np.inf, -np.inf, np.nan), 0).reset_index(drop=True)\n",
    "\n",
    "prices = prices.fillna(0)"
   ]
  },
  {
   "cell_type": "code",
   "execution_count": 11,
   "id": "48a8fe46",
   "metadata": {
    "execution": {
     "iopub.execute_input": "2022-07-04T15:53:26.579368Z",
     "iopub.status.busy": "2022-07-04T15:53:26.578402Z",
     "iopub.status.idle": "2022-07-04T15:53:26.580429Z",
     "shell.execute_reply": "2022-07-04T15:53:26.580924Z",
     "shell.execute_reply.started": "2022-07-03T19:58:04.972501Z"
    },
    "papermill": {
     "duration": 0.042038,
     "end_time": "2022-07-04T15:53:26.581075",
     "exception": false,
     "start_time": "2022-07-04T15:53:26.539037",
     "status": "completed"
    },
    "tags": []
   },
   "outputs": [],
   "source": [
    "\n",
    "from sklearn.preprocessing import StandardScaler\n",
    "scaler = StandardScaler()"
   ]
  },
  {
   "cell_type": "code",
   "execution_count": 12,
   "id": "b24e98e8",
   "metadata": {
    "execution": {
     "iopub.execute_input": "2022-07-04T15:53:26.656220Z",
     "iopub.status.busy": "2022-07-04T15:53:26.655339Z",
     "iopub.status.idle": "2022-07-04T15:53:26.658055Z",
     "shell.execute_reply": "2022-07-04T15:53:26.657545Z",
     "shell.execute_reply.started": "2022-07-03T19:58:04.977597Z"
    },
    "papermill": {
     "duration": 0.042022,
     "end_time": "2022-07-04T15:53:26.658174",
     "exception": false,
     "start_time": "2022-07-04T15:53:26.616152",
     "status": "completed"
    },
    "tags": []
   },
   "outputs": [],
   "source": [
    "scaled_features = ['Open', 'High', 'Low', 'Close', 'Volume', 'upper_shadow', 'lower_shadow','VWAP']\n",
    "features = [\"SecuritiesCode\",'Open', 'High', 'Low', 'Close', 'Volume', 'upper_shadow', 'lower_shadow','VWAP']"
   ]
  },
  {
   "cell_type": "code",
   "execution_count": null,
   "id": "0bc78568",
   "metadata": {
    "papermill": {
     "duration": 0.031408,
     "end_time": "2022-07-04T15:53:26.721564",
     "exception": false,
     "start_time": "2022-07-04T15:53:26.690156",
     "status": "completed"
    },
    "tags": []
   },
   "outputs": [],
   "source": []
  },
  {
   "cell_type": "code",
   "execution_count": 13,
   "id": "6e6ccca4",
   "metadata": {
    "execution": {
     "iopub.execute_input": "2022-07-04T15:53:27.512395Z",
     "iopub.status.busy": "2022-07-04T15:53:27.087062Z",
     "iopub.status.idle": "2022-07-04T15:53:28.715071Z",
     "shell.execute_reply": "2022-07-04T15:53:28.714562Z",
     "shell.execute_reply.started": "2022-07-03T19:58:04.994118Z"
    },
    "papermill": {
     "duration": 1.961589,
     "end_time": "2022-07-04T15:53:28.715195",
     "exception": false,
     "start_time": "2022-07-04T15:53:26.753606",
     "status": "completed"
    },
    "tags": []
   },
   "outputs": [],
   "source": [
    "prices[scaled_features] = scaler.fit_transform(prices[scaled_features])"
   ]
  },
  {
   "cell_type": "markdown",
   "id": "fe28c7d1",
   "metadata": {
    "papermill": {
     "duration": 0.029993,
     "end_time": "2022-07-04T15:53:28.775061",
     "exception": false,
     "start_time": "2022-07-04T15:53:28.745068",
     "status": "completed"
    },
    "tags": []
   },
   "source": [
    "### Ordinal Encode Securities Code"
   ]
  },
  {
   "cell_type": "code",
   "execution_count": 14,
   "id": "a563dd6d",
   "metadata": {
    "execution": {
     "iopub.execute_input": "2022-07-04T15:53:28.840802Z",
     "iopub.status.busy": "2022-07-04T15:53:28.839564Z",
     "iopub.status.idle": "2022-07-04T15:53:30.233808Z",
     "shell.execute_reply": "2022-07-04T15:53:30.233214Z",
     "shell.execute_reply.started": "2022-07-03T19:58:06.776069Z"
    },
    "papermill": {
     "duration": 1.429561,
     "end_time": "2022-07-04T15:53:30.233946",
     "exception": false,
     "start_time": "2022-07-04T15:53:28.804385",
     "status": "completed"
    },
    "tags": []
   },
   "outputs": [],
   "source": [
    "enc = OrdinalEncoder()\n",
    "prices[\"SecuritiesCode\"] = enc.fit_transform(prices[[\"SecuritiesCode\"]])"
   ]
  },
  {
   "cell_type": "markdown",
   "id": "ed453129",
   "metadata": {
    "papermill": {
     "duration": 0.030263,
     "end_time": "2022-07-04T15:53:30.294452",
     "exception": false,
     "start_time": "2022-07-04T15:53:30.264189",
     "status": "completed"
    },
    "tags": []
   },
   "source": [
    "# Train Models"
   ]
  },
  {
   "cell_type": "markdown",
   "id": "427bfaf1",
   "metadata": {
    "papermill": {
     "duration": 0.02987,
     "end_time": "2022-07-04T15:53:30.353753",
     "exception": false,
     "start_time": "2022-07-04T15:53:30.323883",
     "status": "completed"
    },
    "tags": []
   },
   "source": [
    "### Deep Neural Network"
   ]
  },
  {
   "cell_type": "code",
   "execution_count": 15,
   "id": "0ff704a7",
   "metadata": {
    "execution": {
     "iopub.execute_input": "2022-07-04T15:53:30.428171Z",
     "iopub.status.busy": "2022-07-04T15:53:30.427374Z",
     "iopub.status.idle": "2022-07-04T15:53:30.479092Z",
     "shell.execute_reply": "2022-07-04T15:53:30.478526Z",
     "shell.execute_reply.started": "2022-07-03T19:58:08.13905Z"
    },
    "papermill": {
     "duration": 0.095429,
     "end_time": "2022-07-04T15:53:30.479214",
     "exception": false,
     "start_time": "2022-07-04T15:53:30.383785",
     "status": "completed"
    },
    "tags": []
   },
   "outputs": [],
   "source": [
    "codes = list(prices.SecuritiesCode.unique())\n",
    "codes_size = len(codes)\n",
    "\n",
    "def dense_block(x, units, act='swish', dr=0.2):\n",
    "    x = L.Dropout(dr)(x)\n",
    "    x = L.BatchNormalization()(x)\n",
    "    x = L.Dense(units, activation=act)(x)\n",
    "    return x\n",
    "\n",
    "def get_dnn(dense_blocks):\n",
    "    prices_in = L.Input(shape=(len(scaled_features),), name='input_prices')\n",
    "    x_prices = L.BatchNormalization()(prices_in)\n",
    "    x_prices = L.Dense(64, activation='swish')(x_prices)\n",
    "    \n",
    "    security_code_input = L.Input(shape=(1,), name='input_security_code')\n",
    "    x_id = L.Embedding(codes_size, 32, input_length=1)(security_code_input)\n",
    "    x_id = L.Reshape((-1, ))(x_id)\n",
    "    x_id = L.Dense(32, activation='swish')(x_id)\n",
    "\n",
    "    x = L.Concatenate(axis=1)([x_id, x_prices])\n",
    "    \n",
    "    for units in dense_blocks:\n",
    "        x = dense_block(x, units)\n",
    "    \n",
    "    output = L.Dense(1)(x)\n",
    "    \n",
    "    model = M.Model([prices_in, security_code_input], \n",
    "                    [output])\n",
    "\n",
    "    model.compile(optimizer=tf.optimizers.Adam(lr=0.001),\n",
    "                  loss='mse', metrics=['mse'])\n",
    "    \n",
    "    return model\n",
    "    \n",
    "def train_dnn(prices, folds):\n",
    "    models = list()\n",
    "    \n",
    "    for f in range(folds):\n",
    "        X_train_prices = prices[prices.fold != f][scaled_features]\n",
    "        X_train_id = prices[prices.fold != f][[\"SecuritiesCode\"]]\n",
    "        y_train = prices[prices.fold != f][[\"Target\"]]\n",
    "        X_valid_prices = prices[prices.fold == f][scaled_features]\n",
    "        X_valid_id = prices[prices.fold == f][[\"SecuritiesCode\"]]\n",
    "        y_valid = prices[prices.fold == f][[\"Target\"]]\n",
    "\n",
    "        model = get_dnn([128, 64, 32])\n",
    "        model.fit([X_train_prices, X_train_id], y_train,\n",
    "                   validation_data=([X_valid_prices, X_valid_id], y_valid),\n",
    "                   batch_size=128, epochs=30, verbose=1)\n",
    "\n",
    "        oof_preds = model.predict([X_valid_prices, X_valid_id])\n",
    "        oof_score = np.sqrt(mean_squared_error(y_valid, oof_preds))\n",
    "        print(oof_score)\n",
    "        models.append(model)\n",
    "        # break for speed of training, feel free to train all folds\n",
    "    \n",
    "    return models"
   ]
  },
  {
   "cell_type": "code",
   "execution_count": null,
   "id": "e1ea00cc",
   "metadata": {
    "execution": {
     "iopub.execute_input": "2022-07-03T19:58:08.208819Z",
     "iopub.status.busy": "2022-07-03T19:58:08.208569Z",
     "iopub.status.idle": "2022-07-03T19:58:08.215641Z",
     "shell.execute_reply": "2022-07-03T19:58:08.214923Z",
     "shell.execute_reply.started": "2022-07-03T19:58:08.208783Z"
    },
    "papermill": {
     "duration": 0.029079,
     "end_time": "2022-07-04T15:53:30.538329",
     "exception": false,
     "start_time": "2022-07-04T15:53:30.509250",
     "status": "completed"
    },
    "tags": []
   },
   "outputs": [],
   "source": []
  },
  {
   "cell_type": "markdown",
   "id": "7f2628f6",
   "metadata": {
    "papermill": {
     "duration": 0.029995,
     "end_time": "2022-07-04T15:53:30.598182",
     "exception": false,
     "start_time": "2022-07-04T15:53:30.568187",
     "status": "completed"
    },
    "tags": []
   },
   "source": [
    "### Run - prints rmse for each fold"
   ]
  },
  {
   "cell_type": "code",
   "execution_count": 16,
   "id": "79afd287",
   "metadata": {
    "execution": {
     "iopub.execute_input": "2022-07-04T15:53:30.668188Z",
     "iopub.status.busy": "2022-07-04T15:53:30.667395Z",
     "iopub.status.idle": "2022-07-04T20:43:08.369922Z",
     "shell.execute_reply": "2022-07-04T20:43:08.370363Z",
     "shell.execute_reply.started": "2022-07-03T17:11:40.347973Z"
    },
    "papermill": {
     "duration": 17377.742356,
     "end_time": "2022-07-04T20:43:08.370517",
     "exception": false,
     "start_time": "2022-07-04T15:53:30.628161",
     "status": "completed"
    },
    "tags": []
   },
   "outputs": [
    {
     "name": "stderr",
     "output_type": "stream",
     "text": [
      "2022-07-04 15:53:33.266188: I tensorflow/stream_executor/cuda/cuda_gpu_executor.cc:937] successful NUMA node read from SysFS had negative value (-1), but there must be at least one NUMA node, so returning NUMA node zero\n",
      "2022-07-04 15:53:33.363822: I tensorflow/stream_executor/cuda/cuda_gpu_executor.cc:937] successful NUMA node read from SysFS had negative value (-1), but there must be at least one NUMA node, so returning NUMA node zero\n",
      "2022-07-04 15:53:33.364569: I tensorflow/stream_executor/cuda/cuda_gpu_executor.cc:937] successful NUMA node read from SysFS had negative value (-1), but there must be at least one NUMA node, so returning NUMA node zero\n",
      "2022-07-04 15:53:33.365781: I tensorflow/core/platform/cpu_feature_guard.cc:142] This TensorFlow binary is optimized with oneAPI Deep Neural Network Library (oneDNN) to use the following CPU instructions in performance-critical operations:  AVX2 AVX512F FMA\n",
      "To enable them in other operations, rebuild TensorFlow with the appropriate compiler flags.\n",
      "2022-07-04 15:53:33.366771: I tensorflow/stream_executor/cuda/cuda_gpu_executor.cc:937] successful NUMA node read from SysFS had negative value (-1), but there must be at least one NUMA node, so returning NUMA node zero\n",
      "2022-07-04 15:53:33.367462: I tensorflow/stream_executor/cuda/cuda_gpu_executor.cc:937] successful NUMA node read from SysFS had negative value (-1), but there must be at least one NUMA node, so returning NUMA node zero\n",
      "2022-07-04 15:53:33.368122: I tensorflow/stream_executor/cuda/cuda_gpu_executor.cc:937] successful NUMA node read from SysFS had negative value (-1), but there must be at least one NUMA node, so returning NUMA node zero\n",
      "2022-07-04 15:53:35.582638: I tensorflow/stream_executor/cuda/cuda_gpu_executor.cc:937] successful NUMA node read from SysFS had negative value (-1), but there must be at least one NUMA node, so returning NUMA node zero\n",
      "2022-07-04 15:53:35.583939: I tensorflow/stream_executor/cuda/cuda_gpu_executor.cc:937] successful NUMA node read from SysFS had negative value (-1), but there must be at least one NUMA node, so returning NUMA node zero\n",
      "2022-07-04 15:53:35.584981: I tensorflow/stream_executor/cuda/cuda_gpu_executor.cc:937] successful NUMA node read from SysFS had negative value (-1), but there must be at least one NUMA node, so returning NUMA node zero\n",
      "2022-07-04 15:53:35.585967: I tensorflow/core/common_runtime/gpu/gpu_device.cc:1510] Created device /job:localhost/replica:0/task:0/device:GPU:0 with 15403 MB memory:  -> device: 0, name: Tesla P100-PCIE-16GB, pci bus id: 0000:00:04.0, compute capability: 6.0\n",
      "2022-07-04 15:53:36.762308: I tensorflow/compiler/mlir/mlir_graph_optimization_pass.cc:185] None of the MLIR Optimization Passes are enabled (registered 2)\n"
     ]
    },
    {
     "name": "stdout",
     "output_type": "stream",
     "text": [
      "Epoch 1/30\n",
      "32251/32251 [==============================] - 183s 6ms/step - loss: 0.0016 - mse: 0.0016 - val_loss: 6.8673e-04 - val_mse: 6.8673e-04\n",
      "Epoch 2/30\n",
      "32251/32251 [==============================] - 187s 6ms/step - loss: 6.8773e-04 - mse: 6.8773e-04 - val_loss: 6.8649e-04 - val_mse: 6.8649e-04\n",
      "Epoch 3/30\n",
      "32251/32251 [==============================] - 188s 6ms/step - loss: 6.8769e-04 - mse: 6.8769e-04 - val_loss: 7.6357e-04 - val_mse: 7.6357e-04\n",
      "Epoch 4/30\n",
      "32251/32251 [==============================] - 194s 6ms/step - loss: 6.8686e-04 - mse: 6.8686e-04 - val_loss: 2.0588 - val_mse: 2.0588\n",
      "Epoch 5/30\n",
      "32251/32251 [==============================] - 186s 6ms/step - loss: 6.8686e-04 - mse: 6.8686e-04 - val_loss: 0.2361 - val_mse: 0.2361\n",
      "Epoch 6/30\n",
      "32251/32251 [==============================] - 191s 6ms/step - loss: 6.8682e-04 - mse: 6.8682e-04 - val_loss: 0.1505 - val_mse: 0.1505\n",
      "Epoch 7/30\n",
      "32251/32251 [==============================] - 195s 6ms/step - loss: 6.8680e-04 - mse: 6.8680e-04 - val_loss: 0.0552 - val_mse: 0.0552\n",
      "Epoch 8/30\n",
      "32251/32251 [==============================] - 194s 6ms/step - loss: 6.8681e-04 - mse: 6.8681e-04 - val_loss: 0.0478 - val_mse: 0.0478\n",
      "Epoch 9/30\n",
      "32251/32251 [==============================] - 186s 6ms/step - loss: 6.8682e-04 - mse: 6.8682e-04 - val_loss: 0.0297 - val_mse: 0.0297\n",
      "Epoch 10/30\n",
      "32251/32251 [==============================] - 202s 6ms/step - loss: 6.8684e-04 - mse: 6.8684e-04 - val_loss: 9.0544e-04 - val_mse: 9.0544e-04\n",
      "Epoch 11/30\n",
      "32251/32251 [==============================] - 196s 6ms/step - loss: 6.8686e-04 - mse: 6.8686e-04 - val_loss: 0.2763 - val_mse: 0.2763\n",
      "Epoch 12/30\n",
      "32251/32251 [==============================] - 188s 6ms/step - loss: 6.8682e-04 - mse: 6.8682e-04 - val_loss: 0.0106 - val_mse: 0.0106\n",
      "Epoch 13/30\n",
      "32251/32251 [==============================] - 206s 6ms/step - loss: 6.8684e-04 - mse: 6.8684e-04 - val_loss: 0.0063 - val_mse: 0.0063\n",
      "Epoch 14/30\n",
      "32251/32251 [==============================] - 189s 6ms/step - loss: 6.8694e-04 - mse: 6.8694e-04 - val_loss: 0.0091 - val_mse: 0.0091\n",
      "Epoch 15/30\n",
      "32251/32251 [==============================] - 189s 6ms/step - loss: 6.8687e-04 - mse: 6.8687e-04 - val_loss: 7.4095e-04 - val_mse: 7.4095e-04\n",
      "Epoch 16/30\n",
      "32251/32251 [==============================] - 198s 6ms/step - loss: 6.8685e-04 - mse: 6.8685e-04 - val_loss: 0.2360 - val_mse: 0.2360\n",
      "Epoch 17/30\n",
      "32251/32251 [==============================] - 187s 6ms/step - loss: 6.8694e-04 - mse: 6.8694e-04 - val_loss: 0.0107 - val_mse: 0.0107\n",
      "Epoch 18/30\n",
      "32251/32251 [==============================] - 200s 6ms/step - loss: 6.8679e-04 - mse: 6.8679e-04 - val_loss: 7.0211e-04 - val_mse: 7.0211e-04\n",
      "Epoch 19/30\n",
      "32251/32251 [==============================] - 193s 6ms/step - loss: 6.8665e-04 - mse: 6.8665e-04 - val_loss: 6.8678e-04 - val_mse: 6.8678e-04\n",
      "Epoch 20/30\n",
      "32251/32251 [==============================] - 185s 6ms/step - loss: 6.8661e-04 - mse: 6.8661e-04 - val_loss: 0.0011 - val_mse: 0.0011\n",
      "Epoch 21/30\n",
      "32251/32251 [==============================] - 195s 6ms/step - loss: 6.8661e-04 - mse: 6.8661e-04 - val_loss: 7.1437e-04 - val_mse: 7.1437e-04\n",
      "Epoch 22/30\n",
      "32251/32251 [==============================] - 204s 6ms/step - loss: 6.8655e-04 - mse: 6.8655e-04 - val_loss: 6.8938e-04 - val_mse: 6.8938e-04\n",
      "Epoch 23/30\n",
      "32251/32251 [==============================] - 188s 6ms/step - loss: 6.8652e-04 - mse: 6.8652e-04 - val_loss: 6.9077e-04 - val_mse: 6.9077e-04\n",
      "Epoch 24/30\n",
      "32251/32251 [==============================] - 204s 6ms/step - loss: 6.8640e-04 - mse: 6.8640e-04 - val_loss: 7.0037e-04 - val_mse: 7.0037e-04\n",
      "Epoch 25/30\n",
      "32251/32251 [==============================] - 199s 6ms/step - loss: 6.8640e-04 - mse: 6.8640e-04 - val_loss: 6.8890e-04 - val_mse: 6.8890e-04\n",
      "Epoch 26/30\n",
      "32251/32251 [==============================] - 179s 6ms/step - loss: 6.8644e-04 - mse: 6.8644e-04 - val_loss: 8.9688e-04 - val_mse: 8.9688e-04\n",
      "Epoch 27/30\n",
      "32251/32251 [==============================] - 207s 6ms/step - loss: 6.8635e-04 - mse: 6.8635e-04 - val_loss: 6.9042e-04 - val_mse: 6.9042e-04\n",
      "Epoch 28/30\n",
      "32251/32251 [==============================] - 208s 6ms/step - loss: 6.8626e-04 - mse: 6.8626e-04 - val_loss: 6.8665e-04 - val_mse: 6.8665e-04\n",
      "Epoch 29/30\n",
      "32251/32251 [==============================] - 179s 6ms/step - loss: 6.8609e-04 - mse: 6.8609e-04 - val_loss: 6.8668e-04 - val_mse: 6.8668e-04\n",
      "Epoch 30/30\n",
      "32251/32251 [==============================] - 177s 6ms/step - loss: 6.8611e-04 - mse: 6.8611e-04 - val_loss: 6.8968e-04 - val_mse: 6.8968e-04\n",
      "0.026261804084078494\n",
      "Epoch 1/30\n",
      "32251/32251 [==============================] - 201s 6ms/step - loss: 0.0014 - mse: 0.0014 - val_loss: 6.8508e-04 - val_mse: 6.8508e-04\n",
      "Epoch 2/30\n",
      "32251/32251 [==============================] - 184s 6ms/step - loss: 6.8855e-04 - mse: 6.8855e-04 - val_loss: 6.8407e-04 - val_mse: 6.8407e-04\n",
      "Epoch 3/30\n",
      "32251/32251 [==============================] - 185s 6ms/step - loss: 6.8799e-04 - mse: 6.8799e-04 - val_loss: 9.0558e-04 - val_mse: 9.0558e-04\n",
      "Epoch 4/30\n",
      "32251/32251 [==============================] - 209s 6ms/step - loss: 6.8747e-04 - mse: 6.8747e-04 - val_loss: 0.0499 - val_mse: 0.0499\n",
      "Epoch 5/30\n",
      "32251/32251 [==============================] - 184s 6ms/step - loss: 6.8743e-04 - mse: 6.8743e-04 - val_loss: 0.3265 - val_mse: 0.3265\n",
      "Epoch 6/30\n",
      "32251/32251 [==============================] - 182s 6ms/step - loss: 6.8746e-04 - mse: 6.8746e-04 - val_loss: 4.1512 - val_mse: 4.1512\n",
      "Epoch 7/30\n",
      "32251/32251 [==============================] - 204s 6ms/step - loss: 6.8744e-04 - mse: 6.8744e-04 - val_loss: 0.0166 - val_mse: 0.0166\n",
      "Epoch 8/30\n",
      "32251/32251 [==============================] - 176s 5ms/step - loss: 6.8735e-04 - mse: 6.8735e-04 - val_loss: 0.0085 - val_mse: 0.0085\n",
      "Epoch 9/30\n",
      "32251/32251 [==============================] - 185s 6ms/step - loss: 6.8729e-04 - mse: 6.8729e-04 - val_loss: 0.5348 - val_mse: 0.5348\n",
      "Epoch 10/30\n",
      "32251/32251 [==============================] - 204s 6ms/step - loss: 6.8716e-04 - mse: 6.8716e-04 - val_loss: 0.8298 - val_mse: 0.8298\n",
      "Epoch 11/30\n",
      "32251/32251 [==============================] - 183s 6ms/step - loss: 6.8730e-04 - mse: 6.8730e-04 - val_loss: 2.1118 - val_mse: 2.1118\n",
      "Epoch 12/30\n",
      "32251/32251 [==============================] - 190s 6ms/step - loss: 6.8716e-04 - mse: 6.8716e-04 - val_loss: 0.3219 - val_mse: 0.3219\n",
      "Epoch 13/30\n",
      "32251/32251 [==============================] - 195s 6ms/step - loss: 6.8705e-04 - mse: 6.8705e-04 - val_loss: 21.6724 - val_mse: 21.6724\n",
      "Epoch 14/30\n",
      "32251/32251 [==============================] - 183s 6ms/step - loss: 6.8706e-04 - mse: 6.8706e-04 - val_loss: 0.0503 - val_mse: 0.0503\n",
      "Epoch 15/30\n",
      "32251/32251 [==============================] - 187s 6ms/step - loss: 6.8708e-04 - mse: 6.8708e-04 - val_loss: 0.9763 - val_mse: 0.9763\n",
      "Epoch 16/30\n",
      "32251/32251 [==============================] - 208s 6ms/step - loss: 6.8703e-04 - mse: 6.8703e-04 - val_loss: 0.8881 - val_mse: 0.8881\n",
      "Epoch 17/30\n",
      "32251/32251 [==============================] - 175s 5ms/step - loss: 6.8691e-04 - mse: 6.8691e-04 - val_loss: 0.7376 - val_mse: 0.7376\n",
      "Epoch 18/30\n",
      "32251/32251 [==============================] - 175s 5ms/step - loss: 6.8690e-04 - mse: 6.8690e-04 - val_loss: 2.0423 - val_mse: 2.0423\n",
      "Epoch 19/30\n",
      "32251/32251 [==============================] - 213s 7ms/step - loss: 6.8681e-04 - mse: 6.8681e-04 - val_loss: 0.0068 - val_mse: 0.0068\n",
      "Epoch 20/30\n",
      "32251/32251 [==============================] - 176s 5ms/step - loss: 6.8673e-04 - mse: 6.8673e-04 - val_loss: 0.0963 - val_mse: 0.0963\n",
      "Epoch 21/30\n",
      "32251/32251 [==============================] - 177s 5ms/step - loss: 6.8673e-04 - mse: 6.8673e-04 - val_loss: 0.0529 - val_mse: 0.0529\n",
      "Epoch 22/30\n",
      "32251/32251 [==============================] - 215s 7ms/step - loss: 6.8660e-04 - mse: 6.8660e-04 - val_loss: 0.0044 - val_mse: 0.0044\n",
      "Epoch 23/30\n",
      "32251/32251 [==============================] - 181s 6ms/step - loss: 6.8656e-04 - mse: 6.8656e-04 - val_loss: 0.0015 - val_mse: 0.0015\n",
      "Epoch 24/30\n",
      "32251/32251 [==============================] - 179s 6ms/step - loss: 6.8655e-04 - mse: 6.8655e-04 - val_loss: 0.0265 - val_mse: 0.0265\n",
      "Epoch 25/30\n",
      "32251/32251 [==============================] - 227s 7ms/step - loss: 6.8654e-04 - mse: 6.8654e-04 - val_loss: 0.0500 - val_mse: 0.0500\n",
      "Epoch 26/30\n",
      "32251/32251 [==============================] - 184s 6ms/step - loss: 6.8650e-04 - mse: 6.8650e-04 - val_loss: 0.0072 - val_mse: 0.0072\n",
      "Epoch 27/30\n",
      "32251/32251 [==============================] - 184s 6ms/step - loss: 6.8645e-04 - mse: 6.8645e-04 - val_loss: 0.0293 - val_mse: 0.0293\n",
      "Epoch 28/30\n",
      "32251/32251 [==============================] - 176s 5ms/step - loss: 6.8646e-04 - mse: 6.8646e-04 - val_loss: 7.5001e-04 - val_mse: 7.5001e-04\n",
      "Epoch 29/30\n",
      "32251/32251 [==============================] - 183s 6ms/step - loss: 6.8629e-04 - mse: 6.8629e-04 - val_loss: 0.2074 - val_mse: 0.2074\n",
      "Epoch 30/30\n",
      "32251/32251 [==============================] - 184s 6ms/step - loss: 6.8632e-04 - mse: 6.8632e-04 - val_loss: 0.0028 - val_mse: 0.0028\n",
      "0.052757571722236093\n",
      "Epoch 1/30\n",
      "32251/32251 [==============================] - 186s 6ms/step - loss: 0.0018 - mse: 0.0018 - val_loss: 6.9144e-04 - val_mse: 6.9144e-04\n",
      "Epoch 2/30\n",
      "32251/32251 [==============================] - 185s 6ms/step - loss: 6.8816e-04 - mse: 6.8816e-04 - val_loss: 6.8615e-04 - val_mse: 6.8615e-04\n",
      "Epoch 3/30\n",
      "32251/32251 [==============================] - 185s 6ms/step - loss: 6.8749e-04 - mse: 6.8749e-04 - val_loss: 6.8913e-04 - val_mse: 6.8913e-04\n",
      "Epoch 4/30\n",
      "32251/32251 [==============================] - 177s 5ms/step - loss: 6.8748e-04 - mse: 6.8748e-04 - val_loss: 6.8866e-04 - val_mse: 6.8866e-04\n",
      "Epoch 5/30\n",
      "32251/32251 [==============================] - 176s 5ms/step - loss: 6.8739e-04 - mse: 6.8739e-04 - val_loss: 7.7713e-04 - val_mse: 7.7713e-04\n",
      "Epoch 6/30\n",
      "32251/32251 [==============================] - 230s 7ms/step - loss: 6.8735e-04 - mse: 6.8735e-04 - val_loss: 9.0270e-04 - val_mse: 9.0270e-04\n",
      "Epoch 7/30\n",
      "32251/32251 [==============================] - 185s 6ms/step - loss: 6.8740e-04 - mse: 6.8740e-04 - val_loss: 0.8332 - val_mse: 0.8332\n",
      "Epoch 8/30\n",
      "32251/32251 [==============================] - 177s 5ms/step - loss: 6.8745e-04 - mse: 6.8745e-04 - val_loss: 0.0359 - val_mse: 0.0359\n",
      "Epoch 9/30\n",
      "32251/32251 [==============================] - 183s 6ms/step - loss: 6.8737e-04 - mse: 6.8737e-04 - val_loss: 0.0014 - val_mse: 0.0014\n",
      "Epoch 10/30\n",
      "32251/32251 [==============================] - 176s 5ms/step - loss: 6.8697e-04 - mse: 6.8697e-04 - val_loss: 14.4749 - val_mse: 14.4749\n",
      "Epoch 11/30\n",
      "32251/32251 [==============================] - 183s 6ms/step - loss: 6.8688e-04 - mse: 6.8688e-04 - val_loss: 3.0583 - val_mse: 3.0583\n",
      "Epoch 12/30\n",
      "32251/32251 [==============================] - 232s 7ms/step - loss: 6.8686e-04 - mse: 6.8686e-04 - val_loss: 10.8663 - val_mse: 10.8663\n",
      "Epoch 13/30\n",
      "32251/32251 [==============================] - 176s 5ms/step - loss: 6.8691e-04 - mse: 6.8691e-04 - val_loss: 6.8956e-04 - val_mse: 6.8956e-04\n",
      "Epoch 14/30\n",
      "32251/32251 [==============================] - 178s 6ms/step - loss: 6.8679e-04 - mse: 6.8679e-04 - val_loss: 7.1126e-04 - val_mse: 7.1126e-04\n",
      "Epoch 15/30\n",
      "32251/32251 [==============================] - 178s 6ms/step - loss: 6.8678e-04 - mse: 6.8678e-04 - val_loss: 6.9779e-04 - val_mse: 6.9779e-04\n",
      "Epoch 16/30\n",
      "32251/32251 [==============================] - 177s 5ms/step - loss: 6.8667e-04 - mse: 6.8667e-04 - val_loss: 6.9692e-04 - val_mse: 6.9692e-04\n",
      "Epoch 17/30\n",
      "32251/32251 [==============================] - 175s 5ms/step - loss: 6.8661e-04 - mse: 6.8661e-04 - val_loss: 0.0992 - val_mse: 0.0992\n",
      "Epoch 18/30\n",
      "32251/32251 [==============================] - 238s 7ms/step - loss: 6.8654e-04 - mse: 6.8654e-04 - val_loss: 0.2957 - val_mse: 0.2957\n",
      "Epoch 19/30\n",
      "32251/32251 [==============================] - 178s 6ms/step - loss: 6.8647e-04 - mse: 6.8647e-04 - val_loss: 0.2702 - val_mse: 0.2702\n",
      "Epoch 20/30\n",
      "32251/32251 [==============================] - 185s 6ms/step - loss: 6.8645e-04 - mse: 6.8645e-04 - val_loss: 0.0443 - val_mse: 0.0443\n",
      "Epoch 21/30\n",
      "32251/32251 [==============================] - 177s 5ms/step - loss: 6.8640e-04 - mse: 6.8640e-04 - val_loss: 0.4264 - val_mse: 0.4264\n",
      "Epoch 22/30\n",
      "32251/32251 [==============================] - 183s 6ms/step - loss: 6.8633e-04 - mse: 6.8633e-04 - val_loss: 1.3758 - val_mse: 1.3758\n",
      "Epoch 23/30\n",
      "32251/32251 [==============================] - 177s 5ms/step - loss: 6.8632e-04 - mse: 6.8632e-04 - val_loss: 2.2947 - val_mse: 2.2947\n",
      "Epoch 24/30\n",
      "32251/32251 [==============================] - 240s 7ms/step - loss: 6.8625e-04 - mse: 6.8625e-04 - val_loss: 0.0845 - val_mse: 0.0845\n",
      "Epoch 25/30\n",
      "32251/32251 [==============================] - 187s 6ms/step - loss: 6.8621e-04 - mse: 6.8621e-04 - val_loss: 0.0117 - val_mse: 0.0117\n",
      "Epoch 26/30\n",
      "32251/32251 [==============================] - 178s 6ms/step - loss: 6.8616e-04 - mse: 6.8616e-04 - val_loss: 0.0807 - val_mse: 0.0807\n",
      "Epoch 27/30\n",
      "32251/32251 [==============================] - 176s 5ms/step - loss: 6.8619e-04 - mse: 6.8619e-04 - val_loss: 11.3228 - val_mse: 11.3228\n",
      "Epoch 28/30\n",
      "32251/32251 [==============================] - 177s 5ms/step - loss: 6.8617e-04 - mse: 6.8617e-04 - val_loss: 0.0013 - val_mse: 0.0013\n",
      "Epoch 29/30\n",
      "32251/32251 [==============================] - 177s 5ms/step - loss: 6.8598e-04 - mse: 6.8598e-04 - val_loss: 0.0609 - val_mse: 0.0609\n",
      "Epoch 30/30\n",
      "32251/32251 [==============================] - 236s 7ms/step - loss: 6.8600e-04 - mse: 6.8600e-04 - val_loss: 0.0396 - val_mse: 0.0396\n",
      "0.19899492020575874\n"
     ]
    }
   ],
   "source": [
    "#folds are set on the fold function setup_cv() at the begining\n",
    "\n",
    "dnn_models = train_dnn(prices, 3)"
   ]
  },
  {
   "cell_type": "code",
   "execution_count": 17,
   "id": "196b7d6b",
   "metadata": {
    "execution": {
     "iopub.execute_input": "2022-07-04T20:46:21.156996Z",
     "iopub.status.busy": "2022-07-04T20:46:21.156414Z",
     "iopub.status.idle": "2022-07-04T20:46:21.280099Z",
     "shell.execute_reply": "2022-07-04T20:46:21.279441Z",
     "shell.execute_reply.started": "2022-07-03T17:25:45.545533Z"
    },
    "papermill": {
     "duration": 96.403252,
     "end_time": "2022-07-04T20:46:21.280240",
     "exception": false,
     "start_time": "2022-07-04T20:44:44.876988",
     "status": "completed"
    },
    "tags": []
   },
   "outputs": [],
   "source": [
    "# Save model\n",
    "n = 0\n",
    "for model in dnn_models:\n",
    "    n += 1\n",
    "    model.save_weights(f'dnn_{n}.tf')"
   ]
  },
  {
   "cell_type": "code",
   "execution_count": 18,
   "id": "e65b1b1c",
   "metadata": {
    "execution": {
     "iopub.execute_input": "2022-07-04T20:49:34.034956Z",
     "iopub.status.busy": "2022-07-04T20:49:34.033946Z",
     "iopub.status.idle": "2022-07-04T20:49:34.063001Z",
     "shell.execute_reply": "2022-07-04T20:49:34.062476Z",
     "shell.execute_reply.started": "2022-07-03T17:26:11.654988Z"
    },
    "papermill": {
     "duration": 96.247005,
     "end_time": "2022-07-04T20:49:34.063150",
     "exception": false,
     "start_time": "2022-07-04T20:47:57.816145",
     "status": "completed"
    },
    "tags": []
   },
   "outputs": [
    {
     "data": {
      "text/plain": [
       "2484"
      ]
     },
     "execution_count": 18,
     "metadata": {},
     "output_type": "execute_result"
    }
   ],
   "source": [
    "\n",
    "del model\n",
    "gc.collect()"
   ]
  },
  {
   "cell_type": "code",
   "execution_count": 19,
   "id": "3ed63520",
   "metadata": {
    "execution": {
     "iopub.execute_input": "2022-07-04T20:52:46.798261Z",
     "iopub.status.busy": "2022-07-04T20:52:46.797424Z",
     "iopub.status.idle": "2022-07-04T20:52:46.915840Z",
     "shell.execute_reply": "2022-07-04T20:52:46.915354Z",
     "shell.execute_reply.started": "2022-07-03T17:32:17.36715Z"
    },
    "papermill": {
     "duration": 96.234732,
     "end_time": "2022-07-04T20:52:46.916017",
     "exception": false,
     "start_time": "2022-07-04T20:51:10.681285",
     "status": "completed"
    },
    "tags": []
   },
   "outputs": [
    {
     "name": "stdout",
     "output_type": "stream",
     "text": [
      "Model: \"model_3\"\n",
      "__________________________________________________________________________________________________\n",
      "Layer (type)                    Output Shape         Param #     Connected to                     \n",
      "==================================================================================================\n",
      "input_security_code (InputLayer [(None, 1)]          0                                            \n",
      "__________________________________________________________________________________________________\n",
      "embedding_3 (Embedding)         (None, 1, 32)        141312      input_security_code[0][0]        \n",
      "__________________________________________________________________________________________________\n",
      "input_prices (InputLayer)       [(None, 8)]          0                                            \n",
      "__________________________________________________________________________________________________\n",
      "reshape_3 (Reshape)             (None, 32)           0           embedding_3[0][0]                \n",
      "__________________________________________________________________________________________________\n",
      "batch_normalization_12 (BatchNo (None, 8)            32          input_prices[0][0]               \n",
      "__________________________________________________________________________________________________\n",
      "dense_19 (Dense)                (None, 32)           1056        reshape_3[0][0]                  \n",
      "__________________________________________________________________________________________________\n",
      "dense_18 (Dense)                (None, 64)           576         batch_normalization_12[0][0]     \n",
      "__________________________________________________________________________________________________\n",
      "concatenate_3 (Concatenate)     (None, 96)           0           dense_19[0][0]                   \n",
      "                                                                 dense_18[0][0]                   \n",
      "__________________________________________________________________________________________________\n",
      "dropout_9 (Dropout)             (None, 96)           0           concatenate_3[0][0]              \n",
      "__________________________________________________________________________________________________\n",
      "batch_normalization_13 (BatchNo (None, 96)           384         dropout_9[0][0]                  \n",
      "__________________________________________________________________________________________________\n",
      "dense_20 (Dense)                (None, 128)          12416       batch_normalization_13[0][0]     \n",
      "__________________________________________________________________________________________________\n",
      "dropout_10 (Dropout)            (None, 128)          0           dense_20[0][0]                   \n",
      "__________________________________________________________________________________________________\n",
      "batch_normalization_14 (BatchNo (None, 128)          512         dropout_10[0][0]                 \n",
      "__________________________________________________________________________________________________\n",
      "dense_21 (Dense)                (None, 64)           8256        batch_normalization_14[0][0]     \n",
      "__________________________________________________________________________________________________\n",
      "dropout_11 (Dropout)            (None, 64)           0           dense_21[0][0]                   \n",
      "__________________________________________________________________________________________________\n",
      "batch_normalization_15 (BatchNo (None, 64)           256         dropout_11[0][0]                 \n",
      "__________________________________________________________________________________________________\n",
      "dense_22 (Dense)                (None, 32)           2080        batch_normalization_15[0][0]     \n",
      "__________________________________________________________________________________________________\n",
      "dense_23 (Dense)                (None, 1)            33          dense_22[0][0]                   \n",
      "==================================================================================================\n",
      "Total params: 166,913\n",
      "Trainable params: 166,321\n",
      "Non-trainable params: 592\n",
      "__________________________________________________________________________________________________\n"
     ]
    }
   ],
   "source": [
    "# Define a simple sequential model\n",
    "model = get_dnn([128, 64, 32])\n",
    "# Display the model's architecture\n",
    "model.summary()"
   ]
  },
  {
   "cell_type": "code",
   "execution_count": 20,
   "id": "50cff843",
   "metadata": {
    "execution": {
     "iopub.execute_input": "2022-07-04T20:56:01.637605Z",
     "iopub.status.busy": "2022-07-04T20:56:01.636574Z",
     "iopub.status.idle": "2022-07-04T20:56:01.638846Z",
     "shell.execute_reply": "2022-07-04T20:56:01.638385Z",
     "shell.execute_reply.started": "2022-07-03T17:37:12.774586Z"
    },
    "papermill": {
     "duration": 97.387194,
     "end_time": "2022-07-04T20:56:01.638966",
     "exception": false,
     "start_time": "2022-07-04T20:54:24.251772",
     "status": "completed"
    },
    "tags": []
   },
   "outputs": [],
   "source": [
    "# models = list()\n",
    "# for i in range(1,3):\n",
    "#     model.load_weights(f'./dnn_{i}.tf')\n",
    "#     models.append(model)"
   ]
  },
  {
   "cell_type": "markdown",
   "id": "779bcee7",
   "metadata": {
    "papermill": {
     "duration": 96.29965,
     "end_time": "2022-07-04T20:59:13.721930",
     "exception": false,
     "start_time": "2022-07-04T20:57:37.422280",
     "status": "completed"
    },
    "tags": []
   },
   "source": [
    "# Make Predictions & Submit"
   ]
  },
  {
   "cell_type": "code",
   "execution_count": 21,
   "id": "5b8cb561",
   "metadata": {
    "execution": {
     "iopub.execute_input": "2022-07-04T21:02:25.964301Z",
     "iopub.status.busy": "2022-07-04T21:02:25.963391Z",
     "iopub.status.idle": "2022-07-04T21:02:25.965216Z",
     "shell.execute_reply": "2022-07-04T21:02:25.965615Z",
     "shell.execute_reply.started": "2022-07-03T17:28:46.804275Z"
    },
    "papermill": {
     "duration": 96.068439,
     "end_time": "2022-07-04T21:02:25.965785",
     "exception": false,
     "start_time": "2022-07-04T21:00:49.897346",
     "status": "completed"
    },
    "tags": []
   },
   "outputs": [],
   "source": [
    "# env = jpx_tokyo_market_prediction.make_env()\n",
    "# iter_test = env.iter_test()\n",
    "\n",
    "# for (prices, options, financials, trades, secondary_prices, sample_prediction) in iter_test:\n",
    "    \n",
    "#     prices = get_features(prices)\n",
    "#     prices = prices.replace((np.inf, -np.inf, np.nan), 0).reset_index(drop=True)\n",
    "#     prices = prices.fillna(0)\n",
    "#     prices[scaled_features] = scaler.fit_transform(prices[scaled_features])\n",
    "#     prices[\"SecuritiesCode\"] = enc.fit_transform(prices[[\"SecuritiesCode\"]])\n",
    "#     X_test = prices[features]    \n",
    "#     X_test_prices = prices[scaled_features]\n",
    "#     X_test_id = prices[[\"SecuritiesCode\"]]\n",
    "#     dnn_preds = list()\n",
    "#     for model in models:\n",
    "#         dnn_preds.append(model.predict([X_test_prices, X_test_id]))    \n",
    "#     sample_prediction[\"Prediction\"] = sum(dnn_preds)/len(dnn_preds)   \n",
    "#     sample_prediction = sample_prediction.sort_values(by = \"Prediction\", ascending=False)\n",
    "#     sample_prediction.Rank = np.arange(0,2000)\n",
    "#     sample_prediction = sample_prediction.sort_values(by = \"SecuritiesCode\", ascending=True)\n",
    "#     sample_prediction.drop([\"Prediction\"],axis=1)\n",
    "#     submission = sample_prediction[[\"Date\",\"SecuritiesCode\",\"Rank\"]]\n",
    "#     env.predict(submission)"
   ]
  },
  {
   "cell_type": "code",
   "execution_count": 22,
   "id": "65302709",
   "metadata": {
    "execution": {
     "iopub.execute_input": "2022-07-04T21:05:39.549592Z",
     "iopub.status.busy": "2022-07-04T21:05:39.548555Z",
     "iopub.status.idle": "2022-07-04T21:05:39.550876Z",
     "shell.execute_reply": "2022-07-04T21:05:39.550396Z",
     "shell.execute_reply.started": "2022-06-21T01:33:54.88183Z"
    },
    "papermill": {
     "duration": 96.473438,
     "end_time": "2022-07-04T21:05:39.550991",
     "exception": false,
     "start_time": "2022-07-04T21:04:03.077553",
     "status": "completed"
    },
    "tags": []
   },
   "outputs": [],
   "source": [
    "# pd.read_csv(\"./submission.csv\")"
   ]
  },
  {
   "cell_type": "code",
   "execution_count": null,
   "id": "cdc6e524",
   "metadata": {
    "execution": {
     "iopub.execute_input": "2022-06-21T01:33:55.749946Z",
     "iopub.status.busy": "2022-06-21T01:33:55.749561Z",
     "iopub.status.idle": "2022-06-21T01:33:55.770911Z",
     "shell.execute_reply": "2022-06-21T01:33:55.769815Z",
     "shell.execute_reply.started": "2022-06-21T01:33:55.749911Z"
    },
    "papermill": {
     "duration": 96.913473,
     "end_time": "2022-07-04T21:08:52.483376",
     "exception": false,
     "start_time": "2022-07-04T21:07:15.569903",
     "status": "completed"
    },
    "tags": []
   },
   "outputs": [],
   "source": []
  },
  {
   "cell_type": "code",
   "execution_count": null,
   "id": "e00bd2c6",
   "metadata": {
    "execution": {
     "iopub.execute_input": "2022-06-21T01:34:47.976021Z",
     "iopub.status.busy": "2022-06-21T01:34:47.97568Z",
     "iopub.status.idle": "2022-06-21T01:34:48.00281Z",
     "shell.execute_reply": "2022-06-21T01:34:48.001223Z",
     "shell.execute_reply.started": "2022-06-21T01:34:47.975979Z"
    },
    "papermill": {
     "duration": 96.159092,
     "end_time": "2022-07-04T21:12:05.322929",
     "exception": false,
     "start_time": "2022-07-04T21:10:29.163837",
     "status": "completed"
    },
    "tags": []
   },
   "outputs": [],
   "source": []
  },
  {
   "cell_type": "code",
   "execution_count": null,
   "id": "5445bc4e",
   "metadata": {
    "execution": {
     "iopub.execute_input": "2022-06-21T01:34:26.517072Z",
     "iopub.status.busy": "2022-06-21T01:34:26.516764Z",
     "iopub.status.idle": "2022-06-21T01:34:26.530418Z",
     "shell.execute_reply": "2022-06-21T01:34:26.529367Z",
     "shell.execute_reply.started": "2022-06-21T01:34:26.517041Z"
    },
    "papermill": {
     "duration": 95.766606,
     "end_time": "2022-07-04T21:15:17.213115",
     "exception": false,
     "start_time": "2022-07-04T21:13:41.446509",
     "status": "completed"
    },
    "tags": []
   },
   "outputs": [],
   "source": []
  },
  {
   "cell_type": "code",
   "execution_count": null,
   "id": "d42333f8",
   "metadata": {
    "papermill": {
     "duration": 95.840876,
     "end_time": "2022-07-04T21:18:29.503436",
     "exception": false,
     "start_time": "2022-07-04T21:16:53.662560",
     "status": "completed"
    },
    "tags": []
   },
   "outputs": [],
   "source": []
  }
 ],
 "metadata": {
  "kernelspec": {
   "display_name": "Python 3",
   "language": "python",
   "name": "python3"
  },
  "language_info": {
   "codemirror_mode": {
    "name": "ipython",
    "version": 3
   },
   "file_extension": ".py",
   "mimetype": "text/x-python",
   "name": "python",
   "nbconvert_exporter": "python",
   "pygments_lexer": "ipython3",
   "version": "3.7.12"
  },
  "papermill": {
   "default_parameters": {},
   "duration": 19659.725175,
   "end_time": "2022-07-04T21:20:10.234635",
   "environment_variables": {},
   "exception": null,
   "input_path": "__notebook__.ipynb",
   "output_path": "__notebook__.ipynb",
   "parameters": {},
   "start_time": "2022-07-04T15:52:30.509460",
   "version": "2.3.3"
  }
 },
 "nbformat": 4,
 "nbformat_minor": 5
}
