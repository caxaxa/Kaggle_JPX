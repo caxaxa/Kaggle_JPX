{
 "cells": [
  {
   "cell_type": "markdown",
   "id": "be056635",
   "metadata": {
    "papermill": {
     "duration": 0.030487,
     "end_time": "2022-07-04T15:51:25.173078",
     "exception": false,
     "start_time": "2022-07-04T15:51:25.142591",
     "status": "completed"
    },
    "tags": []
   },
   "source": [
    "# Overview"
   ]
  },
  {
   "cell_type": "markdown",
   "id": "bf959866",
   "metadata": {
    "papermill": {
     "duration": 0.028155,
     "end_time": "2022-07-04T15:51:25.229970",
     "exception": false,
     "start_time": "2022-07-04T15:51:25.201815",
     "status": "completed"
    },
    "tags": []
   },
   "source": []
  },
  {
   "cell_type": "markdown",
   "id": "3b9af1ca",
   "metadata": {
    "papermill": {
     "duration": 0.028034,
     "end_time": "2022-07-04T15:51:25.286891",
     "exception": false,
     "start_time": "2022-07-04T15:51:25.258857",
     "status": "completed"
    },
    "tags": []
   },
   "source": [
    "# Preprocessing\n",
    "### Imports"
   ]
  },
  {
   "cell_type": "code",
   "execution_count": 1,
   "id": "c9902a67",
   "metadata": {
    "_cell_guid": "b1076dfc-b9ad-4769-8c92-a6c4dae69d19",
    "_uuid": "8f2839f25d086af736a60e9eeb907d3b93b6e0e5",
    "execution": {
     "iopub.execute_input": "2022-07-04T15:51:25.349996Z",
     "iopub.status.busy": "2022-07-04T15:51:25.348517Z",
     "iopub.status.idle": "2022-07-04T15:51:32.131984Z",
     "shell.execute_reply": "2022-07-04T15:51:32.131385Z",
     "shell.execute_reply.started": "2022-07-03T19:57:14.196216Z"
    },
    "papermill": {
     "duration": 6.815599,
     "end_time": "2022-07-04T15:51:32.132139",
     "exception": false,
     "start_time": "2022-07-04T15:51:25.316540",
     "status": "completed"
    },
    "tags": []
   },
   "outputs": [],
   "source": [
    "import numpy as np\n",
    "import pandas as pd\n",
    "import jpx_tokyo_market_prediction\n",
    "\n",
    "from sklearn.model_selection import StratifiedKFold\n",
    "from sklearn.metrics import mean_squared_error\n",
    "from sklearn.preprocessing import OrdinalEncoder\n",
    "\n",
    "import tensorflow as tf\n",
    "import tensorflow.keras.layers as L\n",
    "import tensorflow.keras.models as M\n",
    "import tensorflow.keras.backend as K\n",
    "from tensorflow.keras.callbacks import ReduceLROnPlateau, ModelCheckpoint, EarlyStopping\n",
    "\n",
    "import warnings\n",
    "warnings.filterwarnings(\"ignore\")"
   ]
  },
  {
   "cell_type": "code",
   "execution_count": 2,
   "id": "e566f328",
   "metadata": {
    "execution": {
     "iopub.execute_input": "2022-07-04T15:51:32.197195Z",
     "iopub.status.busy": "2022-07-04T15:51:32.196394Z",
     "iopub.status.idle": "2022-07-04T15:51:32.198587Z",
     "shell.execute_reply": "2022-07-04T15:51:32.198139Z",
     "shell.execute_reply.started": "2022-07-03T19:57:24.173943Z"
    },
    "papermill": {
     "duration": 0.037123,
     "end_time": "2022-07-04T15:51:32.198706",
     "exception": false,
     "start_time": "2022-07-04T15:51:32.161583",
     "status": "completed"
    },
    "tags": []
   },
   "outputs": [],
   "source": [
    "def concat_df(df1, df2):\n",
    "    df1 = pd.concat([df1, df2],\n",
    "                    ignore_index=True, sort=False\n",
    "                    ).drop_duplicates([\"RowId\"], keep=\"first\")\n",
    "    return df1"
   ]
  },
  {
   "cell_type": "code",
   "execution_count": 3,
   "id": "24c73613",
   "metadata": {
    "execution": {
     "iopub.execute_input": "2022-07-04T15:51:32.263624Z",
     "iopub.status.busy": "2022-07-04T15:51:32.263020Z",
     "iopub.status.idle": "2022-07-04T15:51:53.106735Z",
     "shell.execute_reply": "2022-07-04T15:51:53.107114Z",
     "shell.execute_reply.started": "2022-07-03T19:57:25.642183Z"
    },
    "papermill": {
     "duration": 20.879357,
     "end_time": "2022-07-04T15:51:53.107282",
     "exception": false,
     "start_time": "2022-07-04T15:51:32.227925",
     "status": "completed"
    },
    "tags": []
   },
   "outputs": [
    {
     "name": "stdout",
     "output_type": "stream",
     "text": [
      "<class 'pandas.core.frame.DataFrame'>\n",
      "Int64Index: 5271570 entries, 0 to 5271569\n",
      "Data columns (total 12 columns):\n",
      " #   Column            Non-Null Count    Dtype  \n",
      "---  ------            --------------    -----  \n",
      " 0   RowId             5271570 non-null  object \n",
      " 1   Date              5271570 non-null  object \n",
      " 2   SecuritiesCode    5271570 non-null  int16  \n",
      " 3   Open              5160744 non-null  float16\n",
      " 4   High              5160744 non-null  float16\n",
      " 5   Low               5160744 non-null  float16\n",
      " 6   Close             5160744 non-null  float16\n",
      " 7   Volume            5271570 non-null  int8   \n",
      " 8   AdjustmentFactor  5271570 non-null  float16\n",
      " 9   ExpectedDividend  41373 non-null    float16\n",
      " 10  SupervisionFlag   5271570 non-null  bool   \n",
      " 11  Target            5270524 non-null  float16\n",
      "dtypes: bool(1), float16(7), int16(1), int8(1), object(2)\n",
      "memory usage: 211.1+ MB\n"
     ]
    }
   ],
   "source": [
    "# For now... use pandas.... \n",
    "#If too heavy use Cudf\n",
    "\n",
    "# For now... just fix the floats\n",
    "dtypes = {\n",
    "'SecuritiesCode' :     np.int16,\n",
    "'Open'           :     np.float16,\n",
    "'High'           :     np.float16,\n",
    "'Low'            :     np.float16,\n",
    "'Close'          :     np.float16,\n",
    "'Volume'         :       np.int8,\n",
    "'AdjustmentFactor':    np.float16,\n",
    "'ExpectedDividend':    np.float16,\n",
    "'Target'        :      np.float16\n",
    "}\n",
    "path = \"../input/jpx-tokyo-stock-exchange-prediction/\"\n",
    "df_prices = pd.read_csv(f\"{path}train_files/stock_prices.csv\",dtype = dtypes)\n",
    "prices = pd.read_csv(f\"{path}supplemental_files/stock_prices.csv\",dtype = dtypes)\n",
    "df_prices = concat_df(df_prices, prices)\n",
    "prices = pd.read_csv(f\"{path}train_files/secondary_stock_prices.csv\",dtype = dtypes)\n",
    "df_prices = concat_df(df_prices, prices)\n",
    "prices = pd.read_csv(f\"{path}supplemental_files/secondary_stock_prices.csv\",dtype = dtypes)\n",
    "df_prices = concat_df(df_prices, prices)\n",
    "#df_prices = df_prices[df_prices.Date<\"2021-11-01\"]\n",
    "df_prices.info(show_counts=True)\n",
    "\n",
    "prices = df_prices"
   ]
  },
  {
   "cell_type": "code",
   "execution_count": 4,
   "id": "7356e89c",
   "metadata": {
    "execution": {
     "iopub.execute_input": "2022-07-04T15:51:53.316806Z",
     "iopub.status.busy": "2022-07-04T15:51:53.316192Z",
     "iopub.status.idle": "2022-07-04T15:51:53.322439Z",
     "shell.execute_reply": "2022-07-04T15:51:53.321997Z"
    },
    "papermill": {
     "duration": 0.185404,
     "end_time": "2022-07-04T15:51:53.322567",
     "exception": false,
     "start_time": "2022-07-04T15:51:53.137163",
     "status": "completed"
    },
    "tags": []
   },
   "outputs": [
    {
     "data": {
      "text/plain": [
       "43"
      ]
     },
     "execution_count": 4,
     "metadata": {},
     "output_type": "execute_result"
    }
   ],
   "source": [
    "import gc\n",
    "\n",
    "del df_prices\n",
    "gc.collect()"
   ]
  },
  {
   "cell_type": "markdown",
   "id": "b5b751c1",
   "metadata": {
    "papermill": {
     "duration": 0.030054,
     "end_time": "2022-07-04T15:51:53.382722",
     "exception": false,
     "start_time": "2022-07-04T15:51:53.352668",
     "status": "completed"
    },
    "tags": []
   },
   "source": [
    "### Handle Nulls"
   ]
  },
  {
   "cell_type": "code",
   "execution_count": 5,
   "id": "73fef1ec",
   "metadata": {
    "execution": {
     "iopub.execute_input": "2022-07-04T15:51:53.445681Z",
     "iopub.status.busy": "2022-07-04T15:51:53.445009Z",
     "iopub.status.idle": "2022-07-04T15:51:56.497996Z",
     "shell.execute_reply": "2022-07-04T15:51:56.498646Z",
     "shell.execute_reply.started": "2022-07-03T19:57:46.345256Z"
    },
    "papermill": {
     "duration": 3.086625,
     "end_time": "2022-07-04T15:51:56.498800",
     "exception": false,
     "start_time": "2022-07-04T15:51:53.412175",
     "status": "completed"
    },
    "tags": []
   },
   "outputs": [
    {
     "data": {
      "text/plain": [
       "RowId               0\n",
       "Date                0\n",
       "SecuritiesCode      0\n",
       "Open                0\n",
       "High                0\n",
       "Low                 0\n",
       "Close               0\n",
       "Volume              0\n",
       "AdjustmentFactor    0\n",
       "SupervisionFlag     0\n",
       "Target              0\n",
       "dtype: int64"
      ]
     },
     "execution_count": 5,
     "metadata": {},
     "output_type": "execute_result"
    }
   ],
   "source": [
    "prices = prices.drop(\"ExpectedDividend\", axis=1)\n",
    "prices = prices.dropna()\n",
    "prices.isnull().sum()"
   ]
  },
  {
   "cell_type": "markdown",
   "id": "61f6c1f4",
   "metadata": {
    "papermill": {
     "duration": 0.029969,
     "end_time": "2022-07-04T15:51:56.558642",
     "exception": false,
     "start_time": "2022-07-04T15:51:56.528673",
     "status": "completed"
    },
    "tags": []
   },
   "source": [
    "### Cross Validation Split"
   ]
  },
  {
   "cell_type": "code",
   "execution_count": 6,
   "id": "887c6e7d",
   "metadata": {
    "execution": {
     "iopub.execute_input": "2022-07-04T15:51:56.625646Z",
     "iopub.status.busy": "2022-07-04T15:51:56.624915Z",
     "iopub.status.idle": "2022-07-04T15:51:56.627188Z",
     "shell.execute_reply": "2022-07-04T15:51:56.626801Z",
     "shell.execute_reply.started": "2022-07-03T19:57:49.351393Z"
    },
    "papermill": {
     "duration": 0.038709,
     "end_time": "2022-07-04T15:51:56.627292",
     "exception": false,
     "start_time": "2022-07-04T15:51:56.588583",
     "status": "completed"
    },
    "tags": []
   },
   "outputs": [],
   "source": [
    "def setup_cv(df, splits=5):\n",
    "    df['fold'] = -1\n",
    "    df = df.sample(frac=1, random_state=42).reset_index(drop=True)\n",
    "    num_bins = int(np.floor(1 + np.log2(len(df))))\n",
    "    df.loc[:, \"bins\"] = pd.cut(\n",
    "        df[\"Target\"], bins=num_bins, labels=False\n",
    "    )\n",
    "\n",
    "    kf = StratifiedKFold(n_splits=splits)\n",
    "    for f, (t_, v_) in enumerate(kf.split(X=df, y=df.bins.values)):\n",
    "            df.loc[v_, 'fold'] = f\n",
    "\n",
    "    df = df.drop(\"bins\", axis=1)\n",
    "    return df"
   ]
  },
  {
   "cell_type": "code",
   "execution_count": 7,
   "id": "ffc12f1f",
   "metadata": {
    "execution": {
     "iopub.execute_input": "2022-07-04T15:51:56.693378Z",
     "iopub.status.busy": "2022-07-04T15:51:56.691974Z",
     "iopub.status.idle": "2022-07-04T15:52:02.080534Z",
     "shell.execute_reply": "2022-07-04T15:52:02.079564Z",
     "shell.execute_reply.started": "2022-07-03T19:57:49.361536Z"
    },
    "papermill": {
     "duration": 5.423396,
     "end_time": "2022-07-04T15:52:02.080673",
     "exception": false,
     "start_time": "2022-07-04T15:51:56.657277",
     "status": "completed"
    },
    "tags": []
   },
   "outputs": [],
   "source": [
    "prices = setup_cv(prices)"
   ]
  },
  {
   "cell_type": "markdown",
   "id": "0e081b63",
   "metadata": {
    "papermill": {
     "duration": 0.02917,
     "end_time": "2022-07-04T15:52:02.139858",
     "exception": false,
     "start_time": "2022-07-04T15:52:02.110688",
     "status": "completed"
    },
    "tags": []
   },
   "source": [
    "## Feature Engeneering"
   ]
  },
  {
   "cell_type": "code",
   "execution_count": 8,
   "id": "c79aac83",
   "metadata": {
    "execution": {
     "iopub.execute_input": "2022-07-04T15:52:02.205792Z",
     "iopub.status.busy": "2022-07-04T15:52:02.204210Z",
     "iopub.status.idle": "2022-07-04T15:52:02.206382Z",
     "shell.execute_reply": "2022-07-04T15:52:02.206794Z",
     "shell.execute_reply.started": "2022-07-03T19:57:54.949657Z"
    },
    "papermill": {
     "duration": 0.037026,
     "end_time": "2022-07-04T15:52:02.206918",
     "exception": false,
     "start_time": "2022-07-04T15:52:02.169892",
     "status": "completed"
    },
    "tags": []
   },
   "outputs": [],
   "source": [
    "from datetime import datetime\n",
    "import time\n",
    "\n",
    " # auxiliary function, from datetime to timestamp\n",
    "totimestamp = lambda s: np.int32(time.mktime(datetime.strptime(s, \"%Y-%m-%d\").timetuple()))"
   ]
  },
  {
   "cell_type": "code",
   "execution_count": 9,
   "id": "a895a407",
   "metadata": {
    "execution": {
     "iopub.execute_input": "2022-07-04T15:52:02.274665Z",
     "iopub.status.busy": "2022-07-04T15:52:02.273865Z",
     "iopub.status.idle": "2022-07-04T15:52:02.277121Z",
     "shell.execute_reply": "2022-07-04T15:52:02.276706Z",
     "shell.execute_reply.started": "2022-07-03T19:57:54.956004Z"
    },
    "papermill": {
     "duration": 0.040867,
     "end_time": "2022-07-04T15:52:02.277223",
     "exception": false,
     "start_time": "2022-07-04T15:52:02.236356",
     "status": "completed"
    },
    "tags": []
   },
   "outputs": [],
   "source": [
    "# define function to compute log returns\n",
    "# def log_return(series, periods=1):\n",
    "#     return np.log(series).diff(periods=periods)\n",
    "\n",
    "\n",
    "# # def fill_the_gaps(df):\n",
    "# #     new_df = pd.DataFrame(columns= df.columns)\n",
    "# #     for i in range(len(df['SecuritiesCode'].unique())):\n",
    "# #         new_df = new_df.append(df[df['SecuritiesCode'] == i].reindex(range(df[df['SecuritiesCode'] == i].index[0],df[df['SecuritiesCode'] == i].index[-1]+60,60),method='pad'))\n",
    "# #     new_df.fillna(method = 'pad', inplace = True) \n",
    "# #     return new_df\n",
    "\n",
    "\n",
    "# def rsiFunc(prices, n=14):\n",
    "#     deltas = np.diff(prices)\n",
    "#     seed = deltas[:n+1]\n",
    "#     up = seed[seed>=0].sum()/n\n",
    "#     down = -seed[seed<0].sum()/n\n",
    "#     rs = up/down\n",
    "#     rsi = np.zeros_like(prices)\n",
    "#     rsi[:n] = 100. - 100./(1.+rs)\n",
    "\n",
    "#     for i in range(n, len(prices)):\n",
    "#         delta = deltas[i-1] # cause the diff is 1 shorter\n",
    "\n",
    "#         if delta>0:\n",
    "#             upval = delta\n",
    "#             downval = 0.\n",
    "#         else:\n",
    "#             upval = 0.\n",
    "#             downval = -delta\n",
    "\n",
    "#         up = (up*(n-1) + upval)/n\n",
    "#         down = (down*(n-1) + downval)/n\n",
    "\n",
    "#         rs = up/down\n",
    "#         rsi[i] = 100. - 100./(1.+rs)\n",
    "\n",
    "#     return rsi\n",
    "\n",
    "\n",
    "\n",
    "def get_features(df):\n",
    "\n",
    "#     df['log_return_5'] = log_return(df['Close'],periods=5)\n",
    "#     df['log_return'] = log_return(df['Close'],periods=1)\n",
    "\n",
    "    upper_shadow = lambda asset: asset.High - np.maximum(asset.Close,asset.Open)\n",
    "    lower_shadow = lambda asset: np.minimum(asset.Close,asset.Open)- asset.Low\n",
    "\n",
    "    df['upper_shadow'] = upper_shadow(df)\n",
    "    df['lower_shadow'] = lower_shadow(df)\n",
    "    \n",
    "#     df['EMA_21'] = df['Close'].ewm(span=21).mean()\n",
    "    \n",
    "#     df['EMA_55'] = df['Close'].ewm(span=55).mean()\n",
    "    \n",
    "#     df['EMA_315'] = df['Close'].ewm(span=315).mean()\n",
    "    \n",
    "#     df['EMA_825'] = df['Close'].ewm(span=825).mean()\n",
    "    \n",
    "#     window = 7\n",
    "    \n",
    "#     no_of_std = 2\n",
    "    \n",
    "#     df[f'EMA_{window}'] = df['Close'].ewm(span=window).mean()\n",
    "    \n",
    "#     df[f'EMA_{window}_std'] = df['Close'].rolling(window=window).std()\n",
    "    \n",
    "#     df[f'EMA_{window}_BB_high'] = df[f'EMA_{window}'] + no_of_std * df[f'EMA_{window}_std']\n",
    "    \n",
    "#     df[f'MA_{window}MA_BB_low'] = df[f'EMA_{window}'] - no_of_std * df[f'EMA_{window}_std']\n",
    "    \n",
    "#     window = 5\n",
    "    \n",
    "#     df[f'EMA_{window}'] = df['Close'].ewm(span=window).mean()\n",
    "    \n",
    "#     df[f'EMA_{window}_std'] = df['Close'].rolling(window=window).std()\n",
    "    \n",
    "#     df[f'EMA_{window}_BB_high'] = df[f'EMA_{window}'] + no_of_std * df[f'EMA_{window}_std']\n",
    "    \n",
    "#     df[f'MA_{window}MA_BB_low'] = df[f'EMA_{window}'] - no_of_std * df[f'EMA_{window}_std']\n",
    "    \n",
    "#     df['MACD'] = df['EMA_7'] - df['EMA_5']\n",
    "    \n",
    "    \n",
    "#     df['rsi_5'] = rsiFunc(df['Close'].values, 5)\n",
    "    \n",
    "#     df['rsi_7'] = rsiFunc(df['Close'].values, 7)\n",
    "    \n",
    "#     df['rsi_21'] = rsiFunc(df['Close'].values, 21)\n",
    "    \n",
    "    \n",
    "    \n",
    "    df['VWAP'] = (df['Close'] * df['Volume'])/ df['Volume']\n",
    "\n",
    "\n",
    "\n",
    "\n",
    "    \n",
    "    \n",
    "    #df = pd.concat([df, pd.get_dummies(df['Asset_ID'], prefix= 'Asset_')], axis=1)\n",
    "    \n",
    "    df[[ 'upper_shadow', 'lower_shadow','VWAP']].astype('float16')\n",
    "    \n",
    "    return df"
   ]
  },
  {
   "cell_type": "code",
   "execution_count": 10,
   "id": "a3e65a50",
   "metadata": {
    "execution": {
     "iopub.execute_input": "2022-07-04T15:52:02.343047Z",
     "iopub.status.busy": "2022-07-04T15:52:02.341712Z",
     "iopub.status.idle": "2022-07-04T15:52:12.363914Z",
     "shell.execute_reply": "2022-07-04T15:52:12.363455Z",
     "shell.execute_reply.started": "2022-07-03T19:57:54.981426Z"
    },
    "papermill": {
     "duration": 10.057304,
     "end_time": "2022-07-04T15:52:12.364042",
     "exception": false,
     "start_time": "2022-07-04T15:52:02.306738",
     "status": "completed"
    },
    "tags": []
   },
   "outputs": [],
   "source": [
    "prices = get_features(prices)\n",
    "\n",
    "prices = prices.replace((np.inf, -np.inf, np.nan), 0).reset_index(drop=True)\n",
    "\n",
    "prices = prices.fillna(0)"
   ]
  },
  {
   "cell_type": "code",
   "execution_count": 11,
   "id": "2dbe8f81",
   "metadata": {
    "execution": {
     "iopub.execute_input": "2022-07-04T15:52:12.428716Z",
     "iopub.status.busy": "2022-07-04T15:52:12.427941Z",
     "iopub.status.idle": "2022-07-04T15:52:12.430267Z",
     "shell.execute_reply": "2022-07-04T15:52:12.429872Z",
     "shell.execute_reply.started": "2022-07-03T19:58:04.972501Z"
    },
    "papermill": {
     "duration": 0.036208,
     "end_time": "2022-07-04T15:52:12.430398",
     "exception": false,
     "start_time": "2022-07-04T15:52:12.394190",
     "status": "completed"
    },
    "tags": []
   },
   "outputs": [],
   "source": [
    "\n",
    "from sklearn.preprocessing import StandardScaler\n",
    "scaler = StandardScaler()"
   ]
  },
  {
   "cell_type": "code",
   "execution_count": 12,
   "id": "b7ddf6e6",
   "metadata": {
    "execution": {
     "iopub.execute_input": "2022-07-04T15:52:12.494925Z",
     "iopub.status.busy": "2022-07-04T15:52:12.492165Z",
     "iopub.status.idle": "2022-07-04T15:52:12.497253Z",
     "shell.execute_reply": "2022-07-04T15:52:12.496844Z",
     "shell.execute_reply.started": "2022-07-03T19:58:04.977597Z"
    },
    "papermill": {
     "duration": 0.037137,
     "end_time": "2022-07-04T15:52:12.497379",
     "exception": false,
     "start_time": "2022-07-04T15:52:12.460242",
     "status": "completed"
    },
    "tags": []
   },
   "outputs": [],
   "source": [
    "scaled_features = ['Open', 'High', 'Low', 'Close', 'Volume', 'upper_shadow', 'lower_shadow','VWAP']\n",
    "features = [\"SecuritiesCode\",'Open', 'High', 'Low', 'Close', 'Volume', 'upper_shadow', 'lower_shadow','VWAP']"
   ]
  },
  {
   "cell_type": "code",
   "execution_count": null,
   "id": "76532efb",
   "metadata": {
    "papermill": {
     "duration": 0.029975,
     "end_time": "2022-07-04T15:52:12.557576",
     "exception": false,
     "start_time": "2022-07-04T15:52:12.527601",
     "status": "completed"
    },
    "tags": []
   },
   "outputs": [],
   "source": []
  },
  {
   "cell_type": "code",
   "execution_count": 13,
   "id": "8871ea9a",
   "metadata": {
    "execution": {
     "iopub.execute_input": "2022-07-04T15:52:13.154137Z",
     "iopub.status.busy": "2022-07-04T15:52:12.887987Z",
     "iopub.status.idle": "2022-07-04T15:52:14.487700Z",
     "shell.execute_reply": "2022-07-04T15:52:14.487197Z",
     "shell.execute_reply.started": "2022-07-03T19:58:04.994118Z"
    },
    "papermill": {
     "duration": 1.900909,
     "end_time": "2022-07-04T15:52:14.487834",
     "exception": false,
     "start_time": "2022-07-04T15:52:12.586925",
     "status": "completed"
    },
    "tags": []
   },
   "outputs": [],
   "source": [
    "prices[scaled_features] = scaler.fit_transform(prices[scaled_features])"
   ]
  },
  {
   "cell_type": "markdown",
   "id": "a3f4e052",
   "metadata": {
    "papermill": {
     "duration": 0.029236,
     "end_time": "2022-07-04T15:52:14.547766",
     "exception": false,
     "start_time": "2022-07-04T15:52:14.518530",
     "status": "completed"
    },
    "tags": []
   },
   "source": [
    "### Ordinal Encode Securities Code"
   ]
  },
  {
   "cell_type": "code",
   "execution_count": 14,
   "id": "d44aa13f",
   "metadata": {
    "execution": {
     "iopub.execute_input": "2022-07-04T15:52:14.611779Z",
     "iopub.status.busy": "2022-07-04T15:52:14.611239Z",
     "iopub.status.idle": "2022-07-04T15:52:15.994345Z",
     "shell.execute_reply": "2022-07-04T15:52:15.993439Z",
     "shell.execute_reply.started": "2022-07-03T19:58:06.776069Z"
    },
    "papermill": {
     "duration": 1.416677,
     "end_time": "2022-07-04T15:52:15.994482",
     "exception": false,
     "start_time": "2022-07-04T15:52:14.577805",
     "status": "completed"
    },
    "tags": []
   },
   "outputs": [],
   "source": [
    "enc = OrdinalEncoder()\n",
    "prices[\"SecuritiesCode\"] = enc.fit_transform(prices[[\"SecuritiesCode\"]])"
   ]
  },
  {
   "cell_type": "markdown",
   "id": "00584e6c",
   "metadata": {
    "papermill": {
     "duration": 0.029986,
     "end_time": "2022-07-04T15:52:16.054295",
     "exception": false,
     "start_time": "2022-07-04T15:52:16.024309",
     "status": "completed"
    },
    "tags": []
   },
   "source": [
    "# Train Models"
   ]
  },
  {
   "cell_type": "markdown",
   "id": "40c647d8",
   "metadata": {
    "papermill": {
     "duration": 0.029629,
     "end_time": "2022-07-04T15:52:16.113856",
     "exception": false,
     "start_time": "2022-07-04T15:52:16.084227",
     "status": "completed"
    },
    "tags": []
   },
   "source": [
    "### Deep Neural Network"
   ]
  },
  {
   "cell_type": "code",
   "execution_count": 15,
   "id": "83ba8e87",
   "metadata": {
    "execution": {
     "iopub.execute_input": "2022-07-04T15:52:16.188006Z",
     "iopub.status.busy": "2022-07-04T15:52:16.187208Z",
     "iopub.status.idle": "2022-07-04T15:52:16.239628Z",
     "shell.execute_reply": "2022-07-04T15:52:16.238902Z",
     "shell.execute_reply.started": "2022-07-03T19:58:08.13905Z"
    },
    "papermill": {
     "duration": 0.096168,
     "end_time": "2022-07-04T15:52:16.239737",
     "exception": false,
     "start_time": "2022-07-04T15:52:16.143569",
     "status": "completed"
    },
    "tags": []
   },
   "outputs": [],
   "source": [
    "codes = list(prices.SecuritiesCode.unique())\n",
    "codes_size = len(codes)\n",
    "\n",
    "def dense_block(x, units, act='swish', dr=0.2):\n",
    "    x = L.Dropout(dr)(x)\n",
    "    x = L.BatchNormalization()(x)\n",
    "    x = L.Dense(units, activation=act)(x)\n",
    "    return x\n",
    "\n",
    "def get_dnn(dense_blocks):\n",
    "    prices_in = L.Input(shape=(len(scaled_features),), name='input_prices')\n",
    "    x_prices = L.BatchNormalization()(prices_in)\n",
    "    x_prices = L.Dense(64, activation='swish')(x_prices)\n",
    "    \n",
    "    security_code_input = L.Input(shape=(1,), name='input_security_code')\n",
    "    x_id = L.Embedding(codes_size, 32, input_length=1)(security_code_input)\n",
    "    x_id = L.Reshape((-1, ))(x_id)\n",
    "    x_id = L.Dense(32, activation='swish')(x_id)\n",
    "\n",
    "    x = L.Concatenate(axis=1)([x_id, x_prices])\n",
    "    \n",
    "    for units in dense_blocks:\n",
    "        x = dense_block(x, units)\n",
    "    \n",
    "    output = L.Dense(1)(x)\n",
    "    \n",
    "    model = M.Model([prices_in, security_code_input], \n",
    "                    [output])\n",
    "\n",
    "    model.compile(optimizer=tf.optimizers.Adam(lr=0.001),\n",
    "                  loss='mse', metrics=['mse'])\n",
    "    \n",
    "    return model\n",
    "    \n",
    "def train_dnn(prices, folds):\n",
    "    models = list()\n",
    "    \n",
    "    for f in range(folds):\n",
    "        X_train_prices = prices[prices.fold != f][scaled_features]\n",
    "        X_train_id = prices[prices.fold != f][[\"SecuritiesCode\"]]\n",
    "        y_train = prices[prices.fold != f][[\"Target\"]]\n",
    "        X_valid_prices = prices[prices.fold == f][scaled_features]\n",
    "        X_valid_id = prices[prices.fold == f][[\"SecuritiesCode\"]]\n",
    "        y_valid = prices[prices.fold == f][[\"Target\"]]\n",
    "\n",
    "        model = get_dnn([128, 64, 32])\n",
    "        model.fit([X_train_prices, X_train_id], y_train,\n",
    "                   validation_data=([X_valid_prices, X_valid_id], y_valid),\n",
    "                   batch_size=128, epochs=10, verbose=1)\n",
    "\n",
    "        oof_preds = model.predict([X_valid_prices, X_valid_id])\n",
    "        oof_score = np.sqrt(mean_squared_error(y_valid, oof_preds))\n",
    "        print(oof_score)\n",
    "        models.append(model)\n",
    "        # break for speed of training, feel free to train all folds\n",
    "    \n",
    "    return models"
   ]
  },
  {
   "cell_type": "code",
   "execution_count": null,
   "id": "c7b4ae8f",
   "metadata": {
    "execution": {
     "iopub.execute_input": "2022-07-03T19:58:08.208819Z",
     "iopub.status.busy": "2022-07-03T19:58:08.208569Z",
     "iopub.status.idle": "2022-07-03T19:58:08.215641Z",
     "shell.execute_reply": "2022-07-03T19:58:08.214923Z",
     "shell.execute_reply.started": "2022-07-03T19:58:08.208783Z"
    },
    "papermill": {
     "duration": 0.029399,
     "end_time": "2022-07-04T15:52:16.299105",
     "exception": false,
     "start_time": "2022-07-04T15:52:16.269706",
     "status": "completed"
    },
    "tags": []
   },
   "outputs": [],
   "source": []
  },
  {
   "cell_type": "markdown",
   "id": "494dd5db",
   "metadata": {
    "papermill": {
     "duration": 0.029567,
     "end_time": "2022-07-04T15:52:16.358105",
     "exception": false,
     "start_time": "2022-07-04T15:52:16.328538",
     "status": "completed"
    },
    "tags": []
   },
   "source": [
    "### Run - prints rmse for each fold"
   ]
  },
  {
   "cell_type": "code",
   "execution_count": 16,
   "id": "81244142",
   "metadata": {
    "execution": {
     "iopub.execute_input": "2022-07-04T15:52:16.422573Z",
     "iopub.status.busy": "2022-07-04T15:52:16.421780Z",
     "iopub.status.idle": "2022-07-04T18:35:52.535082Z",
     "shell.execute_reply": "2022-07-04T18:35:52.535541Z",
     "shell.execute_reply.started": "2022-07-03T17:11:40.347973Z"
    },
    "papermill": {
     "duration": 9816.147427,
     "end_time": "2022-07-04T18:35:52.535696",
     "exception": false,
     "start_time": "2022-07-04T15:52:16.388269",
     "status": "completed"
    },
    "tags": []
   },
   "outputs": [
    {
     "name": "stderr",
     "output_type": "stream",
     "text": [
      "2022-07-04 15:52:18.957244: I tensorflow/stream_executor/cuda/cuda_gpu_executor.cc:937] successful NUMA node read from SysFS had negative value (-1), but there must be at least one NUMA node, so returning NUMA node zero\n",
      "2022-07-04 15:52:19.090179: I tensorflow/stream_executor/cuda/cuda_gpu_executor.cc:937] successful NUMA node read from SysFS had negative value (-1), but there must be at least one NUMA node, so returning NUMA node zero\n",
      "2022-07-04 15:52:19.090979: I tensorflow/stream_executor/cuda/cuda_gpu_executor.cc:937] successful NUMA node read from SysFS had negative value (-1), but there must be at least one NUMA node, so returning NUMA node zero\n",
      "2022-07-04 15:52:19.092095: I tensorflow/core/platform/cpu_feature_guard.cc:142] This TensorFlow binary is optimized with oneAPI Deep Neural Network Library (oneDNN) to use the following CPU instructions in performance-critical operations:  AVX2 AVX512F FMA\n",
      "To enable them in other operations, rebuild TensorFlow with the appropriate compiler flags.\n",
      "2022-07-04 15:52:19.093279: I tensorflow/stream_executor/cuda/cuda_gpu_executor.cc:937] successful NUMA node read from SysFS had negative value (-1), but there must be at least one NUMA node, so returning NUMA node zero\n",
      "2022-07-04 15:52:19.093975: I tensorflow/stream_executor/cuda/cuda_gpu_executor.cc:937] successful NUMA node read from SysFS had negative value (-1), but there must be at least one NUMA node, so returning NUMA node zero\n",
      "2022-07-04 15:52:19.094645: I tensorflow/stream_executor/cuda/cuda_gpu_executor.cc:937] successful NUMA node read from SysFS had negative value (-1), but there must be at least one NUMA node, so returning NUMA node zero\n",
      "2022-07-04 15:52:21.511524: I tensorflow/stream_executor/cuda/cuda_gpu_executor.cc:937] successful NUMA node read from SysFS had negative value (-1), but there must be at least one NUMA node, so returning NUMA node zero\n",
      "2022-07-04 15:52:21.512342: I tensorflow/stream_executor/cuda/cuda_gpu_executor.cc:937] successful NUMA node read from SysFS had negative value (-1), but there must be at least one NUMA node, so returning NUMA node zero\n",
      "2022-07-04 15:52:21.513018: I tensorflow/stream_executor/cuda/cuda_gpu_executor.cc:937] successful NUMA node read from SysFS had negative value (-1), but there must be at least one NUMA node, so returning NUMA node zero\n",
      "2022-07-04 15:52:21.513650: I tensorflow/core/common_runtime/gpu/gpu_device.cc:1510] Created device /job:localhost/replica:0/task:0/device:GPU:0 with 15403 MB memory:  -> device: 0, name: Tesla P100-PCIE-16GB, pci bus id: 0000:00:04.0, compute capability: 6.0\n",
      "2022-07-04 15:52:22.701379: I tensorflow/compiler/mlir/mlir_graph_optimization_pass.cc:185] None of the MLIR Optimization Passes are enabled (registered 2)\n"
     ]
    },
    {
     "name": "stdout",
     "output_type": "stream",
     "text": [
      "Epoch 1/10\n",
      "32251/32251 [==============================] - 189s 6ms/step - loss: 0.0018 - mse: 0.0018 - val_loss: 6.8963e-04 - val_mse: 6.8963e-04\n",
      "Epoch 2/10\n",
      "32251/32251 [==============================] - 184s 6ms/step - loss: 6.9063e-04 - mse: 6.9063e-04 - val_loss: 6.8612e-04 - val_mse: 6.8612e-04\n",
      "Epoch 3/10\n",
      "32251/32251 [==============================] - 193s 6ms/step - loss: 6.9024e-04 - mse: 6.9024e-04 - val_loss: 8.0413e-04 - val_mse: 8.0413e-04\n",
      "Epoch 4/10\n",
      "32251/32251 [==============================] - 186s 6ms/step - loss: 6.8977e-04 - mse: 6.8977e-04 - val_loss: 0.0764 - val_mse: 0.0764\n",
      "Epoch 5/10\n",
      "32251/32251 [==============================] - 187s 6ms/step - loss: 6.8907e-04 - mse: 6.8907e-04 - val_loss: 0.1168 - val_mse: 0.1168\n",
      "Epoch 6/10\n",
      "32251/32251 [==============================] - 189s 6ms/step - loss: 6.8844e-04 - mse: 6.8844e-04 - val_loss: 0.0049 - val_mse: 0.0049\n",
      "Epoch 7/10\n",
      "32251/32251 [==============================] - 188s 6ms/step - loss: 6.8855e-04 - mse: 6.8855e-04 - val_loss: 0.6285 - val_mse: 0.6285\n",
      "Epoch 8/10\n",
      "32251/32251 [==============================] - 189s 6ms/step - loss: 6.8788e-04 - mse: 6.8788e-04 - val_loss: 0.1464 - val_mse: 0.1464\n",
      "Epoch 9/10\n",
      "32251/32251 [==============================] - 189s 6ms/step - loss: 6.8768e-04 - mse: 6.8768e-04 - val_loss: 0.0248 - val_mse: 0.0248\n",
      "Epoch 10/10\n",
      "32251/32251 [==============================] - 183s 6ms/step - loss: 6.8766e-04 - mse: 6.8766e-04 - val_loss: 0.0193 - val_mse: 0.0193\n",
      "0.1390740640753569\n",
      "Epoch 1/10\n",
      "32251/32251 [==============================] - 202s 6ms/step - loss: 0.0016 - mse: 0.0016 - val_loss: 6.8413e-04 - val_mse: 6.8413e-04\n",
      "Epoch 2/10\n",
      "32251/32251 [==============================] - 187s 6ms/step - loss: 6.8868e-04 - mse: 6.8868e-04 - val_loss: 6.8700e-04 - val_mse: 6.8700e-04\n",
      "Epoch 3/10\n",
      "32251/32251 [==============================] - 186s 6ms/step - loss: 6.8822e-04 - mse: 6.8822e-04 - val_loss: 7.1557e-04 - val_mse: 7.1557e-04\n",
      "Epoch 4/10\n",
      "32251/32251 [==============================] - 204s 6ms/step - loss: 6.8814e-04 - mse: 6.8814e-04 - val_loss: 8.5469e-04 - val_mse: 8.5469e-04\n",
      "Epoch 5/10\n",
      "32251/32251 [==============================] - 185s 6ms/step - loss: 6.8746e-04 - mse: 6.8746e-04 - val_loss: 0.0011 - val_mse: 0.0011\n",
      "Epoch 6/10\n",
      "32251/32251 [==============================] - 188s 6ms/step - loss: 6.8750e-04 - mse: 6.8750e-04 - val_loss: 6.8885e-04 - val_mse: 6.8885e-04\n",
      "Epoch 7/10\n",
      "32251/32251 [==============================] - 196s 6ms/step - loss: 6.8748e-04 - mse: 6.8748e-04 - val_loss: 7.2503e-04 - val_mse: 7.2503e-04\n",
      "Epoch 8/10\n",
      "32251/32251 [==============================] - 176s 5ms/step - loss: 6.8749e-04 - mse: 6.8749e-04 - val_loss: 6.8734e-04 - val_mse: 6.8734e-04\n",
      "Epoch 9/10\n",
      "32251/32251 [==============================] - 189s 6ms/step - loss: 6.8743e-04 - mse: 6.8743e-04 - val_loss: 8.7627e-04 - val_mse: 8.7627e-04\n",
      "Epoch 10/10\n",
      "32251/32251 [==============================] - 192s 6ms/step - loss: 6.8741e-04 - mse: 6.8741e-04 - val_loss: 7.2151e-04 - val_mse: 7.2151e-04\n",
      "0.026860913531428603\n",
      "Epoch 1/10\n",
      "32251/32251 [==============================] - 187s 6ms/step - loss: 0.0014 - mse: 0.0014 - val_loss: 6.8609e-04 - val_mse: 6.8609e-04\n",
      "Epoch 2/10\n",
      "32251/32251 [==============================] - 182s 6ms/step - loss: 6.8793e-04 - mse: 6.8793e-04 - val_loss: 6.9197e-04 - val_mse: 6.9197e-04\n",
      "Epoch 3/10\n",
      "32251/32251 [==============================] - 193s 6ms/step - loss: 6.8745e-04 - mse: 6.8745e-04 - val_loss: 0.5281 - val_mse: 0.5281\n",
      "Epoch 4/10\n",
      "32251/32251 [==============================] - 175s 5ms/step - loss: 6.8747e-04 - mse: 6.8747e-04 - val_loss: 3.3655 - val_mse: 3.3655\n",
      "Epoch 5/10\n",
      "32251/32251 [==============================] - 203s 6ms/step - loss: 6.8737e-04 - mse: 6.8737e-04 - val_loss: 0.3658 - val_mse: 0.3658\n",
      "Epoch 6/10\n",
      "32251/32251 [==============================] - 204s 6ms/step - loss: 6.8739e-04 - mse: 6.8739e-04 - val_loss: 0.0553 - val_mse: 0.0553\n",
      "Epoch 7/10\n",
      "32251/32251 [==============================] - 175s 5ms/step - loss: 6.8735e-04 - mse: 6.8735e-04 - val_loss: 6.8880e-04 - val_mse: 6.8880e-04\n",
      "Epoch 8/10\n",
      "32251/32251 [==============================] - 204s 6ms/step - loss: 6.8738e-04 - mse: 6.8738e-04 - val_loss: 0.0024 - val_mse: 0.0024\n",
      "Epoch 9/10\n",
      "32251/32251 [==============================] - 183s 6ms/step - loss: 6.8740e-04 - mse: 6.8740e-04 - val_loss: 6.8826e-04 - val_mse: 6.8826e-04\n",
      "Epoch 10/10\n",
      "32251/32251 [==============================] - 183s 6ms/step - loss: 6.8730e-04 - mse: 6.8730e-04 - val_loss: 7.3666e-04 - val_mse: 7.3666e-04\n",
      "0.027141539835041882\n",
      "Epoch 1/10\n",
      "32251/32251 [==============================] - 177s 5ms/step - loss: 0.0018 - mse: 0.0018 - val_loss: 6.8612e-04 - val_mse: 6.8612e-04\n",
      "Epoch 2/10\n",
      "32251/32251 [==============================] - 176s 5ms/step - loss: 6.8780e-04 - mse: 6.8780e-04 - val_loss: 6.8737e-04 - val_mse: 6.8737e-04\n",
      "Epoch 3/10\n",
      "32251/32251 [==============================] - 204s 6ms/step - loss: 6.8773e-04 - mse: 6.8773e-04 - val_loss: 6.8869e-04 - val_mse: 6.8869e-04\n",
      "Epoch 4/10\n",
      "32251/32251 [==============================] - 184s 6ms/step - loss: 6.8739e-04 - mse: 6.8739e-04 - val_loss: 0.0160 - val_mse: 0.0160\n",
      "Epoch 5/10\n",
      "32251/32251 [==============================] - 176s 5ms/step - loss: 6.8696e-04 - mse: 6.8696e-04 - val_loss: 8.0744e-04 - val_mse: 8.0744e-04\n",
      "Epoch 6/10\n",
      "32251/32251 [==============================] - 209s 6ms/step - loss: 6.8699e-04 - mse: 6.8699e-04 - val_loss: 7.8067e-04 - val_mse: 7.8067e-04\n",
      "Epoch 7/10\n",
      "32251/32251 [==============================] - 184s 6ms/step - loss: 6.8699e-04 - mse: 6.8699e-04 - val_loss: 0.0011 - val_mse: 0.0011\n",
      "Epoch 8/10\n",
      "32251/32251 [==============================] - 183s 6ms/step - loss: 6.8695e-04 - mse: 6.8695e-04 - val_loss: 0.0080 - val_mse: 0.0080\n",
      "Epoch 9/10\n",
      "32251/32251 [==============================] - 214s 7ms/step - loss: 6.8694e-04 - mse: 6.8694e-04 - val_loss: 0.0027 - val_mse: 0.0027\n",
      "Epoch 10/10\n",
      "32251/32251 [==============================] - 176s 5ms/step - loss: 6.8693e-04 - mse: 6.8693e-04 - val_loss: 0.0018 - val_mse: 0.0018\n",
      "0.04294987552310454\n",
      "Epoch 1/10\n",
      "32251/32251 [==============================] - 177s 5ms/step - loss: 0.0013 - mse: 0.0013 - val_loss: 6.8806e-04 - val_mse: 6.8806e-04\n",
      "Epoch 2/10\n",
      "32251/32251 [==============================] - 214s 7ms/step - loss: 6.8738e-04 - mse: 6.8738e-04 - val_loss: 1.4862 - val_mse: 1.4862\n",
      "Epoch 3/10\n",
      "32251/32251 [==============================] - 183s 6ms/step - loss: 6.8701e-04 - mse: 6.8701e-04 - val_loss: 0.0043 - val_mse: 0.0043\n",
      "Epoch 4/10\n",
      "32251/32251 [==============================] - 183s 6ms/step - loss: 6.8670e-04 - mse: 6.8670e-04 - val_loss: 0.0325 - val_mse: 0.0325\n",
      "Epoch 5/10\n",
      "32251/32251 [==============================] - 218s 7ms/step - loss: 6.8637e-04 - mse: 6.8637e-04 - val_loss: 0.0046 - val_mse: 0.0046\n",
      "Epoch 6/10\n",
      "32251/32251 [==============================] - 175s 5ms/step - loss: 6.8637e-04 - mse: 6.8637e-04 - val_loss: 6.9330e-04 - val_mse: 6.9330e-04\n",
      "Epoch 7/10\n",
      "32251/32251 [==============================] - 181s 6ms/step - loss: 6.8634e-04 - mse: 6.8634e-04 - val_loss: 0.0047 - val_mse: 0.0047\n",
      "Epoch 8/10\n",
      "32251/32251 [==============================] - 211s 7ms/step - loss: 6.8634e-04 - mse: 6.8634e-04 - val_loss: 0.0091 - val_mse: 0.0091\n",
      "Epoch 9/10\n",
      "32251/32251 [==============================] - 181s 6ms/step - loss: 6.8634e-04 - mse: 6.8634e-04 - val_loss: 0.6155 - val_mse: 0.6155\n",
      "Epoch 10/10\n",
      "32251/32251 [==============================] - 183s 6ms/step - loss: 6.8640e-04 - mse: 6.8640e-04 - val_loss: 0.0291 - val_mse: 0.0291\n",
      "0.17045034009316795\n"
     ]
    }
   ],
   "source": [
    "#folds are set on the fold function setup_cv() at the begining\n",
    "\n",
    "dnn_models = train_dnn(prices, 5)"
   ]
  },
  {
   "cell_type": "code",
   "execution_count": 17,
   "id": "a0a81e25",
   "metadata": {
    "execution": {
     "iopub.execute_input": "2022-07-04T18:37:38.021803Z",
     "iopub.status.busy": "2022-07-04T18:37:38.020921Z",
     "iopub.status.idle": "2022-07-04T18:37:38.332792Z",
     "shell.execute_reply": "2022-07-04T18:37:38.333360Z",
     "shell.execute_reply.started": "2022-07-03T17:25:45.545533Z"
    },
    "papermill": {
     "duration": 52.969959,
     "end_time": "2022-07-04T18:37:38.333543",
     "exception": false,
     "start_time": "2022-07-04T18:36:45.363584",
     "status": "completed"
    },
    "tags": []
   },
   "outputs": [],
   "source": [
    "# Save model\n",
    "n = 0\n",
    "for model in dnn_models:\n",
    "    n += 1\n",
    "    model.save_weights(f'dnn_{n}.tf')"
   ]
  },
  {
   "cell_type": "code",
   "execution_count": 18,
   "id": "417179f7",
   "metadata": {
    "execution": {
     "iopub.execute_input": "2022-07-04T18:39:24.391654Z",
     "iopub.status.busy": "2022-07-04T18:39:24.390350Z",
     "iopub.status.idle": "2022-07-04T18:39:24.418928Z",
     "shell.execute_reply": "2022-07-04T18:39:24.419347Z",
     "shell.execute_reply.started": "2022-07-03T17:26:11.654988Z"
    },
    "papermill": {
     "duration": 53.145598,
     "end_time": "2022-07-04T18:39:24.419500",
     "exception": false,
     "start_time": "2022-07-04T18:38:31.273902",
     "status": "completed"
    },
    "tags": []
   },
   "outputs": [
    {
     "data": {
      "text/plain": [
       "2484"
      ]
     },
     "execution_count": 18,
     "metadata": {},
     "output_type": "execute_result"
    }
   ],
   "source": [
    "\n",
    "del model\n",
    "gc.collect()"
   ]
  },
  {
   "cell_type": "code",
   "execution_count": 19,
   "id": "11fbe55f",
   "metadata": {
    "execution": {
     "iopub.execute_input": "2022-07-04T18:41:09.983708Z",
     "iopub.status.busy": "2022-07-04T18:41:09.979352Z",
     "iopub.status.idle": "2022-07-04T18:41:10.102087Z",
     "shell.execute_reply": "2022-07-04T18:41:10.102574Z",
     "shell.execute_reply.started": "2022-07-03T17:32:17.36715Z"
    },
    "papermill": {
     "duration": 53.375032,
     "end_time": "2022-07-04T18:41:10.102757",
     "exception": false,
     "start_time": "2022-07-04T18:40:16.727725",
     "status": "completed"
    },
    "tags": []
   },
   "outputs": [
    {
     "name": "stdout",
     "output_type": "stream",
     "text": [
      "Model: \"model_5\"\n",
      "__________________________________________________________________________________________________\n",
      "Layer (type)                    Output Shape         Param #     Connected to                     \n",
      "==================================================================================================\n",
      "input_security_code (InputLayer [(None, 1)]          0                                            \n",
      "__________________________________________________________________________________________________\n",
      "embedding_5 (Embedding)         (None, 1, 32)        141312      input_security_code[0][0]        \n",
      "__________________________________________________________________________________________________\n",
      "input_prices (InputLayer)       [(None, 8)]          0                                            \n",
      "__________________________________________________________________________________________________\n",
      "reshape_5 (Reshape)             (None, 32)           0           embedding_5[0][0]                \n",
      "__________________________________________________________________________________________________\n",
      "batch_normalization_20 (BatchNo (None, 8)            32          input_prices[0][0]               \n",
      "__________________________________________________________________________________________________\n",
      "dense_31 (Dense)                (None, 32)           1056        reshape_5[0][0]                  \n",
      "__________________________________________________________________________________________________\n",
      "dense_30 (Dense)                (None, 64)           576         batch_normalization_20[0][0]     \n",
      "__________________________________________________________________________________________________\n",
      "concatenate_5 (Concatenate)     (None, 96)           0           dense_31[0][0]                   \n",
      "                                                                 dense_30[0][0]                   \n",
      "__________________________________________________________________________________________________\n",
      "dropout_15 (Dropout)            (None, 96)           0           concatenate_5[0][0]              \n",
      "__________________________________________________________________________________________________\n",
      "batch_normalization_21 (BatchNo (None, 96)           384         dropout_15[0][0]                 \n",
      "__________________________________________________________________________________________________\n",
      "dense_32 (Dense)                (None, 128)          12416       batch_normalization_21[0][0]     \n",
      "__________________________________________________________________________________________________\n",
      "dropout_16 (Dropout)            (None, 128)          0           dense_32[0][0]                   \n",
      "__________________________________________________________________________________________________\n",
      "batch_normalization_22 (BatchNo (None, 128)          512         dropout_16[0][0]                 \n",
      "__________________________________________________________________________________________________\n",
      "dense_33 (Dense)                (None, 64)           8256        batch_normalization_22[0][0]     \n",
      "__________________________________________________________________________________________________\n",
      "dropout_17 (Dropout)            (None, 64)           0           dense_33[0][0]                   \n",
      "__________________________________________________________________________________________________\n",
      "batch_normalization_23 (BatchNo (None, 64)           256         dropout_17[0][0]                 \n",
      "__________________________________________________________________________________________________\n",
      "dense_34 (Dense)                (None, 32)           2080        batch_normalization_23[0][0]     \n",
      "__________________________________________________________________________________________________\n",
      "dense_35 (Dense)                (None, 1)            33          dense_34[0][0]                   \n",
      "==================================================================================================\n",
      "Total params: 166,913\n",
      "Trainable params: 166,321\n",
      "Non-trainable params: 592\n",
      "__________________________________________________________________________________________________\n"
     ]
    }
   ],
   "source": [
    "# Define a simple sequential model\n",
    "model = get_dnn([128, 64, 32])\n",
    "# Display the model's architecture\n",
    "model.summary()"
   ]
  },
  {
   "cell_type": "code",
   "execution_count": 20,
   "id": "83b51717",
   "metadata": {
    "execution": {
     "iopub.execute_input": "2022-07-04T18:42:55.859577Z",
     "iopub.status.busy": "2022-07-04T18:42:55.857851Z",
     "iopub.status.idle": "2022-07-04T18:42:55.860152Z",
     "shell.execute_reply": "2022-07-04T18:42:55.860586Z",
     "shell.execute_reply.started": "2022-07-03T17:37:12.774586Z"
    },
    "papermill": {
     "duration": 52.794056,
     "end_time": "2022-07-04T18:42:55.860740",
     "exception": false,
     "start_time": "2022-07-04T18:42:03.066684",
     "status": "completed"
    },
    "tags": []
   },
   "outputs": [],
   "source": [
    "# models = list()\n",
    "# for i in range(1,3):\n",
    "#     model.load_weights(f'./dnn_{i}.tf')\n",
    "#     models.append(model)"
   ]
  },
  {
   "cell_type": "markdown",
   "id": "a9a135d2",
   "metadata": {
    "papermill": {
     "duration": 52.585294,
     "end_time": "2022-07-04T18:44:41.330055",
     "exception": false,
     "start_time": "2022-07-04T18:43:48.744761",
     "status": "completed"
    },
    "tags": []
   },
   "source": [
    "# Make Predictions & Submit"
   ]
  },
  {
   "cell_type": "code",
   "execution_count": 21,
   "id": "d97567e6",
   "metadata": {
    "execution": {
     "iopub.execute_input": "2022-07-04T18:46:27.486487Z",
     "iopub.status.busy": "2022-07-04T18:46:27.485517Z",
     "iopub.status.idle": "2022-07-04T18:46:27.487368Z",
     "shell.execute_reply": "2022-07-04T18:46:27.487781Z",
     "shell.execute_reply.started": "2022-07-03T17:28:46.804275Z"
    },
    "papermill": {
     "duration": 53.168474,
     "end_time": "2022-07-04T18:46:27.487918",
     "exception": false,
     "start_time": "2022-07-04T18:45:34.319444",
     "status": "completed"
    },
    "tags": []
   },
   "outputs": [],
   "source": [
    "# env = jpx_tokyo_market_prediction.make_env()\n",
    "# iter_test = env.iter_test()\n",
    "\n",
    "# for (prices, options, financials, trades, secondary_prices, sample_prediction) in iter_test:\n",
    "    \n",
    "#     prices = get_features(prices)\n",
    "#     prices = prices.replace((np.inf, -np.inf, np.nan), 0).reset_index(drop=True)\n",
    "#     prices = prices.fillna(0)\n",
    "#     prices[scaled_features] = scaler.fit_transform(prices[scaled_features])\n",
    "#     prices[\"SecuritiesCode\"] = enc.fit_transform(prices[[\"SecuritiesCode\"]])\n",
    "#     X_test = prices[features]    \n",
    "#     X_test_prices = prices[scaled_features]\n",
    "#     X_test_id = prices[[\"SecuritiesCode\"]]\n",
    "#     dnn_preds = list()\n",
    "#     for model in models:\n",
    "#         dnn_preds.append(model.predict([X_test_prices, X_test_id]))    \n",
    "#     sample_prediction[\"Prediction\"] = sum(dnn_preds)/len(dnn_preds)   \n",
    "#     sample_prediction = sample_prediction.sort_values(by = \"Prediction\", ascending=False)\n",
    "#     sample_prediction.Rank = np.arange(0,2000)\n",
    "#     sample_prediction = sample_prediction.sort_values(by = \"SecuritiesCode\", ascending=True)\n",
    "#     sample_prediction.drop([\"Prediction\"],axis=1)\n",
    "#     submission = sample_prediction[[\"Date\",\"SecuritiesCode\",\"Rank\"]]\n",
    "#     env.predict(submission)"
   ]
  },
  {
   "cell_type": "code",
   "execution_count": 22,
   "id": "1595c359",
   "metadata": {
    "execution": {
     "iopub.execute_input": "2022-07-04T18:48:13.228124Z",
     "iopub.status.busy": "2022-07-04T18:48:13.226617Z",
     "iopub.status.idle": "2022-07-04T18:48:13.228712Z",
     "shell.execute_reply": "2022-07-04T18:48:13.229104Z",
     "shell.execute_reply.started": "2022-06-21T01:33:54.88183Z"
    },
    "papermill": {
     "duration": 53.165464,
     "end_time": "2022-07-04T18:48:13.229246",
     "exception": false,
     "start_time": "2022-07-04T18:47:20.063782",
     "status": "completed"
    },
    "tags": []
   },
   "outputs": [],
   "source": [
    "# pd.read_csv(\"./submission.csv\")"
   ]
  },
  {
   "cell_type": "code",
   "execution_count": null,
   "id": "d340d949",
   "metadata": {
    "execution": {
     "iopub.execute_input": "2022-06-21T01:33:55.749946Z",
     "iopub.status.busy": "2022-06-21T01:33:55.749561Z",
     "iopub.status.idle": "2022-06-21T01:33:55.770911Z",
     "shell.execute_reply": "2022-06-21T01:33:55.769815Z",
     "shell.execute_reply.started": "2022-06-21T01:33:55.749911Z"
    },
    "papermill": {
     "duration": 53.017957,
     "end_time": "2022-07-04T18:49:58.747956",
     "exception": false,
     "start_time": "2022-07-04T18:49:05.729999",
     "status": "completed"
    },
    "tags": []
   },
   "outputs": [],
   "source": []
  },
  {
   "cell_type": "code",
   "execution_count": null,
   "id": "f3fe37ef",
   "metadata": {
    "execution": {
     "iopub.execute_input": "2022-06-21T01:34:47.976021Z",
     "iopub.status.busy": "2022-06-21T01:34:47.97568Z",
     "iopub.status.idle": "2022-06-21T01:34:48.00281Z",
     "shell.execute_reply": "2022-06-21T01:34:48.001223Z",
     "shell.execute_reply.started": "2022-06-21T01:34:47.975979Z"
    },
    "papermill": {
     "duration": 52.567454,
     "end_time": "2022-07-04T18:51:44.620908",
     "exception": false,
     "start_time": "2022-07-04T18:50:52.053454",
     "status": "completed"
    },
    "tags": []
   },
   "outputs": [],
   "source": []
  },
  {
   "cell_type": "code",
   "execution_count": null,
   "id": "0addadeb",
   "metadata": {
    "execution": {
     "iopub.execute_input": "2022-06-21T01:34:26.517072Z",
     "iopub.status.busy": "2022-06-21T01:34:26.516764Z",
     "iopub.status.idle": "2022-06-21T01:34:26.530418Z",
     "shell.execute_reply": "2022-06-21T01:34:26.529367Z",
     "shell.execute_reply.started": "2022-06-21T01:34:26.517041Z"
    },
    "papermill": {
     "duration": 52.449864,
     "end_time": "2022-07-04T18:53:30.328630",
     "exception": false,
     "start_time": "2022-07-04T18:52:37.878766",
     "status": "completed"
    },
    "tags": []
   },
   "outputs": [],
   "source": []
  },
  {
   "cell_type": "code",
   "execution_count": null,
   "id": "b045f0b8",
   "metadata": {
    "papermill": {
     "duration": 52.895593,
     "end_time": "2022-07-04T18:55:15.952055",
     "exception": false,
     "start_time": "2022-07-04T18:54:23.056462",
     "status": "completed"
    },
    "tags": []
   },
   "outputs": [],
   "source": []
  }
 ],
 "metadata": {
  "kernelspec": {
   "display_name": "Python 3",
   "language": "python",
   "name": "python3"
  },
  "language_info": {
   "codemirror_mode": {
    "name": "ipython",
    "version": 3
   },
   "file_extension": ".py",
   "mimetype": "text/x-python",
   "name": "python",
   "nbconvert_exporter": "python",
   "pygments_lexer": "ipython3",
   "version": "3.7.12"
  },
  "papermill": {
   "default_parameters": {},
   "duration": 11095.035148,
   "end_time": "2022-07-04T18:56:11.603686",
   "environment_variables": {},
   "exception": null,
   "input_path": "__notebook__.ipynb",
   "output_path": "__notebook__.ipynb",
   "parameters": {},
   "start_time": "2022-07-04T15:51:16.568538",
   "version": "2.3.3"
  }
 },
 "nbformat": 4,
 "nbformat_minor": 5
}
